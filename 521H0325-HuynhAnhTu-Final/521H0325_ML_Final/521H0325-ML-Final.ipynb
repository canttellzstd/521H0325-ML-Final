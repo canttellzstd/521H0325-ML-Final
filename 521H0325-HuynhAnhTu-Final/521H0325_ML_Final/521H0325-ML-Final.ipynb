{
 "cells": [
  {
   "cell_type": "code",
   "execution_count": 129,
   "id": "d4d54bca",
   "metadata": {},
   "outputs": [],
   "source": [
    "# Data Loading and Managing\n",
    "import numpy as np\n",
    "import pandas as pd\n",
    "from tensorflow import keras\n",
    "\n",
    "# Data Visualization\n",
    "import seaborn as sns\n",
    "import plotly.express as px\n",
    "import plotly.graph_objects as go\n",
    "from plotly.subplots import make_subplots\n",
    "\n",
    "# Data Preprocessing\n",
    "from sklearn.preprocessing import StandardScaler\n",
    "from sklearn.preprocessing import OrdinalEncoder\n",
    "from sklearn.model_selection import train_test_split\n",
    "\n",
    "# Model \n",
    "# import xgboost as xgb\n",
    "from sklearn.svm import SVR\n",
    "from tensorflow.keras import layers\n",
    "from sklearn.tree import  DecisionTreeRegressor\n",
    "from sklearn.linear_model import LinearRegression\n",
    "from sklearn.ensemble import RandomForestRegressor\n",
    "\n",
    "# Model Performance\n",
    "from sklearn.metrics import r2_score, mean_squared_error, mean_absolute_error"
   ]
  },
  {
   "cell_type": "code",
   "execution_count": 130,
   "id": "1114f3f7",
   "metadata": {},
   "outputs": [],
   "source": [
    "# Load data\n",
    "df = pd.read_csv('ds_salaries.csv')"
   ]
  },
  {
   "cell_type": "code",
   "execution_count": 131,
   "id": "635e4446",
   "metadata": {},
   "outputs": [
    {
     "data": {
      "text/html": [
       "<div>\n",
       "<style scoped>\n",
       "    .dataframe tbody tr th:only-of-type {\n",
       "        vertical-align: middle;\n",
       "    }\n",
       "\n",
       "    .dataframe tbody tr th {\n",
       "        vertical-align: top;\n",
       "    }\n",
       "\n",
       "    .dataframe thead th {\n",
       "        text-align: right;\n",
       "    }\n",
       "</style>\n",
       "<table border=\"1\" class=\"dataframe\">\n",
       "  <thead>\n",
       "    <tr style=\"text-align: right;\">\n",
       "      <th></th>\n",
       "      <th>work_year</th>\n",
       "      <th>experience_level</th>\n",
       "      <th>employment_type</th>\n",
       "      <th>job_title</th>\n",
       "      <th>salary</th>\n",
       "      <th>salary_currency</th>\n",
       "      <th>salary_in_usd</th>\n",
       "      <th>employee_residence</th>\n",
       "      <th>remote_ratio</th>\n",
       "      <th>company_location</th>\n",
       "      <th>company_size</th>\n",
       "    </tr>\n",
       "  </thead>\n",
       "  <tbody>\n",
       "    <tr>\n",
       "      <th>0</th>\n",
       "      <td>2023</td>\n",
       "      <td>SE</td>\n",
       "      <td>FT</td>\n",
       "      <td>Principal Data Scientist</td>\n",
       "      <td>80000</td>\n",
       "      <td>EUR</td>\n",
       "      <td>85847</td>\n",
       "      <td>ES</td>\n",
       "      <td>100</td>\n",
       "      <td>ES</td>\n",
       "      <td>L</td>\n",
       "    </tr>\n",
       "    <tr>\n",
       "      <th>1</th>\n",
       "      <td>2023</td>\n",
       "      <td>MI</td>\n",
       "      <td>CT</td>\n",
       "      <td>ML Engineer</td>\n",
       "      <td>30000</td>\n",
       "      <td>USD</td>\n",
       "      <td>30000</td>\n",
       "      <td>US</td>\n",
       "      <td>100</td>\n",
       "      <td>US</td>\n",
       "      <td>S</td>\n",
       "    </tr>\n",
       "    <tr>\n",
       "      <th>2</th>\n",
       "      <td>2023</td>\n",
       "      <td>MI</td>\n",
       "      <td>CT</td>\n",
       "      <td>ML Engineer</td>\n",
       "      <td>25500</td>\n",
       "      <td>USD</td>\n",
       "      <td>25500</td>\n",
       "      <td>US</td>\n",
       "      <td>100</td>\n",
       "      <td>US</td>\n",
       "      <td>S</td>\n",
       "    </tr>\n",
       "    <tr>\n",
       "      <th>3</th>\n",
       "      <td>2023</td>\n",
       "      <td>SE</td>\n",
       "      <td>FT</td>\n",
       "      <td>Data Scientist</td>\n",
       "      <td>175000</td>\n",
       "      <td>USD</td>\n",
       "      <td>175000</td>\n",
       "      <td>CA</td>\n",
       "      <td>100</td>\n",
       "      <td>CA</td>\n",
       "      <td>M</td>\n",
       "    </tr>\n",
       "    <tr>\n",
       "      <th>4</th>\n",
       "      <td>2023</td>\n",
       "      <td>SE</td>\n",
       "      <td>FT</td>\n",
       "      <td>Data Scientist</td>\n",
       "      <td>120000</td>\n",
       "      <td>USD</td>\n",
       "      <td>120000</td>\n",
       "      <td>CA</td>\n",
       "      <td>100</td>\n",
       "      <td>CA</td>\n",
       "      <td>M</td>\n",
       "    </tr>\n",
       "  </tbody>\n",
       "</table>\n",
       "</div>"
      ],
      "text/plain": [
       "   work_year experience_level employment_type                 job_title  \\\n",
       "0       2023               SE              FT  Principal Data Scientist   \n",
       "1       2023               MI              CT               ML Engineer   \n",
       "2       2023               MI              CT               ML Engineer   \n",
       "3       2023               SE              FT            Data Scientist   \n",
       "4       2023               SE              FT            Data Scientist   \n",
       "\n",
       "   salary salary_currency  salary_in_usd employee_residence  remote_ratio  \\\n",
       "0   80000             EUR          85847                 ES           100   \n",
       "1   30000             USD          30000                 US           100   \n",
       "2   25500             USD          25500                 US           100   \n",
       "3  175000             USD         175000                 CA           100   \n",
       "4  120000             USD         120000                 CA           100   \n",
       "\n",
       "  company_location company_size  \n",
       "0               ES            L  \n",
       "1               US            S  \n",
       "2               US            S  \n",
       "3               CA            M  \n",
       "4               CA            M  "
      ]
     },
     "execution_count": 131,
     "metadata": {},
     "output_type": "execute_result"
    }
   ],
   "source": [
    "# Quick look\n",
    "df.head()"
   ]
  },
  {
   "cell_type": "code",
   "execution_count": 132,
   "id": "e23ef212",
   "metadata": {},
   "outputs": [
    {
     "name": "stdout",
     "output_type": "stream",
     "text": [
      "<class 'pandas.core.frame.DataFrame'>\n",
      "RangeIndex: 3755 entries, 0 to 3754\n",
      "Data columns (total 11 columns):\n",
      " #   Column              Non-Null Count  Dtype \n",
      "---  ------              --------------  ----- \n",
      " 0   work_year           3755 non-null   int64 \n",
      " 1   experience_level    3755 non-null   object\n",
      " 2   employment_type     3755 non-null   object\n",
      " 3   job_title           3755 non-null   object\n",
      " 4   salary              3755 non-null   int64 \n",
      " 5   salary_currency     3755 non-null   object\n",
      " 6   salary_in_usd       3755 non-null   int64 \n",
      " 7   employee_residence  3755 non-null   object\n",
      " 8   remote_ratio        3755 non-null   int64 \n",
      " 9   company_location    3755 non-null   object\n",
      " 10  company_size        3755 non-null   object\n",
      "dtypes: int64(4), object(7)\n",
      "memory usage: 322.8+ KB\n"
     ]
    }
   ],
   "source": [
    "# Information about the data columns/features.=\n",
    "df.info()"
   ]
  },
  {
   "cell_type": "code",
   "execution_count": 133,
   "id": "474e1f81",
   "metadata": {},
   "outputs": [
    {
     "data": {
      "text/plain": [
       "work_year             0\n",
       "experience_level      0\n",
       "employment_type       0\n",
       "job_title             0\n",
       "salary                0\n",
       "salary_currency       0\n",
       "salary_in_usd         0\n",
       "employee_residence    0\n",
       "remote_ratio          0\n",
       "company_location      0\n",
       "company_size          0\n",
       "dtype: int64"
      ]
     },
     "execution_count": 133,
     "metadata": {},
     "output_type": "execute_result"
    }
   ],
   "source": [
    "# Cross check for null values\n",
    "df.isnull().sum()"
   ]
  },
  {
   "cell_type": "code",
   "execution_count": 134,
   "id": "6e8aa11a",
   "metadata": {},
   "outputs": [
    {
     "data": {
      "text/plain": [
       "Index(['experience_level', 'employment_type', 'job_title', 'salary_currency',\n",
       "       'employee_residence', 'company_location', 'company_size'],\n",
       "      dtype='object')"
      ]
     },
     "execution_count": 134,
     "metadata": {},
     "output_type": "execute_result"
    }
   ],
   "source": [
    "# Extract all categorical columns\n",
    "categorical_columns = df.columns[df.dtypes == 'object']\n",
    "\n",
    "# Quick look\n",
    "categorical_columns"
   ]
  },
  {
   "cell_type": "code",
   "execution_count": 135,
   "id": "ee20988f",
   "metadata": {},
   "outputs": [
    {
     "name": "stdout",
     "output_type": "stream",
     "text": [
      "experience_level : ['SE' 'MI' 'EN' 'EX']\n",
      "\n",
      "employment_type : ['FT' 'CT' 'FL' 'PT']\n",
      "\n",
      "job_title : ['Principal Data Scientist' 'ML Engineer' 'Data Scientist'\n",
      " 'Applied Scientist' 'Data Analyst' 'Data Modeler' 'Research Engineer'\n",
      " 'Analytics Engineer' 'Business Intelligence Engineer'\n",
      " 'Machine Learning Engineer' 'Data Strategist' 'Data Engineer'\n",
      " 'Computer Vision Engineer' 'Data Quality Analyst'\n",
      " 'Compliance Data Analyst' 'Data Architect'\n",
      " 'Applied Machine Learning Engineer' 'AI Developer' 'Research Scientist'\n",
      " 'Data Analytics Manager' 'Business Data Analyst' 'Applied Data Scientist'\n",
      " 'Staff Data Analyst' 'ETL Engineer' 'Data DevOps Engineer' 'Head of Data'\n",
      " 'Data Science Manager' 'Data Manager' 'Machine Learning Researcher'\n",
      " 'Big Data Engineer' 'Data Specialist' 'Lead Data Analyst'\n",
      " 'BI Data Engineer' 'Director of Data Science'\n",
      " 'Machine Learning Scientist' 'MLOps Engineer' 'AI Scientist'\n",
      " 'Autonomous Vehicle Technician' 'Applied Machine Learning Scientist'\n",
      " 'Lead Data Scientist' 'Cloud Database Engineer' 'Financial Data Analyst'\n",
      " 'Data Infrastructure Engineer' 'Software Data Engineer' 'AI Programmer'\n",
      " 'Data Operations Engineer' 'BI Developer' 'Data Science Lead'\n",
      " 'Deep Learning Researcher' 'BI Analyst' 'Data Science Consultant'\n",
      " 'Data Analytics Specialist' 'Machine Learning Infrastructure Engineer'\n",
      " 'BI Data Analyst' 'Head of Data Science' 'Insight Analyst'\n",
      " 'Deep Learning Engineer' 'Machine Learning Software Engineer'\n",
      " 'Big Data Architect' 'Product Data Analyst'\n",
      " 'Computer Vision Software Engineer' 'Azure Data Engineer'\n",
      " 'Marketing Data Engineer' 'Data Analytics Lead' 'Data Lead'\n",
      " 'Data Science Engineer' 'Machine Learning Research Engineer'\n",
      " 'NLP Engineer' 'Manager Data Management' 'Machine Learning Developer'\n",
      " '3D Computer Vision Researcher' 'Principal Machine Learning Engineer'\n",
      " 'Data Analytics Engineer' 'Data Analytics Consultant'\n",
      " 'Data Management Specialist' 'Data Science Tech Lead'\n",
      " 'Data Scientist Lead' 'Cloud Data Engineer' 'Data Operations Analyst'\n",
      " 'Marketing Data Analyst' 'Power BI Developer' 'Product Data Scientist'\n",
      " 'Principal Data Architect' 'Machine Learning Manager'\n",
      " 'Lead Machine Learning Engineer' 'ETL Developer' 'Cloud Data Architect'\n",
      " 'Lead Data Engineer' 'Head of Machine Learning' 'Principal Data Analyst'\n",
      " 'Principal Data Engineer' 'Staff Data Scientist' 'Finance Data Analyst']\n",
      "\n",
      "salary_currency : ['EUR' 'USD' 'INR' 'HKD' 'CHF' 'GBP' 'AUD' 'SGD' 'CAD' 'ILS' 'BRL' 'THB'\n",
      " 'PLN' 'HUF' 'CZK' 'DKK' 'JPY' 'MXN' 'TRY' 'CLP']\n",
      "\n",
      "employee_residence : ['ES' 'US' 'CA' 'DE' 'GB' 'NG' 'IN' 'HK' 'PT' 'NL' 'CH' 'CF' 'FR' 'AU'\n",
      " 'FI' 'UA' 'IE' 'IL' 'GH' 'AT' 'CO' 'SG' 'SE' 'SI' 'MX' 'UZ' 'BR' 'TH'\n",
      " 'HR' 'PL' 'KW' 'VN' 'CY' 'AR' 'AM' 'BA' 'KE' 'GR' 'MK' 'LV' 'RO' 'PK'\n",
      " 'IT' 'MA' 'LT' 'BE' 'AS' 'IR' 'HU' 'SK' 'CN' 'CZ' 'CR' 'TR' 'CL' 'PR'\n",
      " 'DK' 'BO' 'PH' 'DO' 'EG' 'ID' 'AE' 'MY' 'JP' 'EE' 'HN' 'TN' 'RU' 'DZ'\n",
      " 'IQ' 'BG' 'JE' 'RS' 'NZ' 'MD' 'LU' 'MT']\n",
      "\n",
      "company_location : ['ES' 'US' 'CA' 'DE' 'GB' 'NG' 'IN' 'HK' 'NL' 'CH' 'CF' 'FR' 'FI' 'UA'\n",
      " 'IE' 'IL' 'GH' 'CO' 'SG' 'AU' 'SE' 'SI' 'MX' 'BR' 'PT' 'RU' 'TH' 'HR'\n",
      " 'VN' 'EE' 'AM' 'BA' 'KE' 'GR' 'MK' 'LV' 'RO' 'PK' 'IT' 'MA' 'PL' 'AL'\n",
      " 'AR' 'LT' 'AS' 'CR' 'IR' 'BS' 'HU' 'AT' 'SK' 'CZ' 'TR' 'PR' 'DK' 'BO'\n",
      " 'PH' 'BE' 'ID' 'EG' 'AE' 'LU' 'MY' 'HN' 'JP' 'DZ' 'IQ' 'CN' 'NZ' 'CL'\n",
      " 'MD' 'MT']\n",
      "\n",
      "company_size : ['L' 'S' 'M']\n",
      "\n"
     ]
    }
   ],
   "source": [
    "# Extract the sub-categories of each category\n",
    "for col in categorical_columns:\n",
    "    unique_values = df[col].unique()\n",
    "    print(f\"{col} : {unique_values}\\n\")"
   ]
  },
  {
   "cell_type": "code",
   "execution_count": 136,
   "id": "fb7e2b31",
   "metadata": {},
   "outputs": [
    {
     "data": {
      "text/html": [
       "<div>\n",
       "<style scoped>\n",
       "    .dataframe tbody tr th:only-of-type {\n",
       "        vertical-align: middle;\n",
       "    }\n",
       "\n",
       "    .dataframe tbody tr th {\n",
       "        vertical-align: top;\n",
       "    }\n",
       "\n",
       "    .dataframe thead th {\n",
       "        text-align: right;\n",
       "    }\n",
       "</style>\n",
       "<table border=\"1\" class=\"dataframe\">\n",
       "  <thead>\n",
       "    <tr style=\"text-align: right;\">\n",
       "      <th></th>\n",
       "      <th>work_year</th>\n",
       "      <th>salary</th>\n",
       "      <th>salary_in_usd</th>\n",
       "      <th>remote_ratio</th>\n",
       "    </tr>\n",
       "  </thead>\n",
       "  <tbody>\n",
       "    <tr>\n",
       "      <th>count</th>\n",
       "      <td>3755.000000</td>\n",
       "      <td>3.755000e+03</td>\n",
       "      <td>3755.000000</td>\n",
       "      <td>3755.000000</td>\n",
       "    </tr>\n",
       "    <tr>\n",
       "      <th>mean</th>\n",
       "      <td>2022.373635</td>\n",
       "      <td>1.906956e+05</td>\n",
       "      <td>137570.389880</td>\n",
       "      <td>46.271638</td>\n",
       "    </tr>\n",
       "    <tr>\n",
       "      <th>std</th>\n",
       "      <td>0.691448</td>\n",
       "      <td>6.716765e+05</td>\n",
       "      <td>63055.625278</td>\n",
       "      <td>48.589050</td>\n",
       "    </tr>\n",
       "    <tr>\n",
       "      <th>min</th>\n",
       "      <td>2020.000000</td>\n",
       "      <td>6.000000e+03</td>\n",
       "      <td>5132.000000</td>\n",
       "      <td>0.000000</td>\n",
       "    </tr>\n",
       "    <tr>\n",
       "      <th>25%</th>\n",
       "      <td>2022.000000</td>\n",
       "      <td>1.000000e+05</td>\n",
       "      <td>95000.000000</td>\n",
       "      <td>0.000000</td>\n",
       "    </tr>\n",
       "    <tr>\n",
       "      <th>50%</th>\n",
       "      <td>2022.000000</td>\n",
       "      <td>1.380000e+05</td>\n",
       "      <td>135000.000000</td>\n",
       "      <td>0.000000</td>\n",
       "    </tr>\n",
       "    <tr>\n",
       "      <th>75%</th>\n",
       "      <td>2023.000000</td>\n",
       "      <td>1.800000e+05</td>\n",
       "      <td>175000.000000</td>\n",
       "      <td>100.000000</td>\n",
       "    </tr>\n",
       "    <tr>\n",
       "      <th>max</th>\n",
       "      <td>2023.000000</td>\n",
       "      <td>3.040000e+07</td>\n",
       "      <td>450000.000000</td>\n",
       "      <td>100.000000</td>\n",
       "    </tr>\n",
       "  </tbody>\n",
       "</table>\n",
       "</div>"
      ],
      "text/plain": [
       "         work_year        salary  salary_in_usd  remote_ratio\n",
       "count  3755.000000  3.755000e+03    3755.000000   3755.000000\n",
       "mean   2022.373635  1.906956e+05  137570.389880     46.271638\n",
       "std       0.691448  6.716765e+05   63055.625278     48.589050\n",
       "min    2020.000000  6.000000e+03    5132.000000      0.000000\n",
       "25%    2022.000000  1.000000e+05   95000.000000      0.000000\n",
       "50%    2022.000000  1.380000e+05  135000.000000      0.000000\n",
       "75%    2023.000000  1.800000e+05  175000.000000    100.000000\n",
       "max    2023.000000  3.040000e+07  450000.000000    100.000000"
      ]
     },
     "execution_count": 136,
     "metadata": {},
     "output_type": "execute_result"
    }
   ],
   "source": [
    "# Descriptive analysis\n",
    "df.describe()"
   ]
  },
  {
   "cell_type": "markdown",
   "id": "9c695733",
   "metadata": {},
   "source": [
    "Plot to see what affect the Salary in US"
   ]
  },
  {
   "cell_type": "code",
   "execution_count": 137,
   "id": "60548794",
   "metadata": {
    "scrolled": false
   },
   "outputs": [
    {
     "data": {
      "application/vnd.plotly.v1+json": {
       "config": {
        "plotlyServerURL": "https://plot.ly"
       },
       "data": [
        {
         "hole": 0.4,
         "insidetextorientation": "radial",
         "labels": [
          2023,
          2022,
          2021,
          2020
         ],
         "marker": {
          "colors": [
           "rgb(103,0,31)",
           "rgb(178,24,43)",
           "rgb(214,96,77)",
           "rgb(244,165,130)",
           "rgb(253,219,199)",
           "rgb(247,247,247)",
           "rgb(209,229,240)",
           "rgb(146,197,222)",
           "rgb(67,147,195)",
           "rgb(33,102,172)",
           "rgb(5,48,97)"
          ],
          "line": {
           "color": "honeydew",
           "width": 2
          }
         },
         "textinfo": "label+percent",
         "type": "pie",
         "values": [
          1785,
          1664,
          230,
          76
         ]
        }
       ],
       "layout": {
        "annotations": [
         {
          "font": {
           "size": 20
          },
          "showarrow": false,
          "text": "Year Overview"
         }
        ],
        "height": 600,
        "template": {
         "data": {
          "bar": [
           {
            "error_x": {
             "color": "#2a3f5f"
            },
            "error_y": {
             "color": "#2a3f5f"
            },
            "marker": {
             "line": {
              "color": "#E5ECF6",
              "width": 0.5
             },
             "pattern": {
              "fillmode": "overlay",
              "size": 10,
              "solidity": 0.2
             }
            },
            "type": "bar"
           }
          ],
          "barpolar": [
           {
            "marker": {
             "line": {
              "color": "#E5ECF6",
              "width": 0.5
             },
             "pattern": {
              "fillmode": "overlay",
              "size": 10,
              "solidity": 0.2
             }
            },
            "type": "barpolar"
           }
          ],
          "carpet": [
           {
            "aaxis": {
             "endlinecolor": "#2a3f5f",
             "gridcolor": "white",
             "linecolor": "white",
             "minorgridcolor": "white",
             "startlinecolor": "#2a3f5f"
            },
            "baxis": {
             "endlinecolor": "#2a3f5f",
             "gridcolor": "white",
             "linecolor": "white",
             "minorgridcolor": "white",
             "startlinecolor": "#2a3f5f"
            },
            "type": "carpet"
           }
          ],
          "choropleth": [
           {
            "colorbar": {
             "outlinewidth": 0,
             "ticks": ""
            },
            "type": "choropleth"
           }
          ],
          "contour": [
           {
            "colorbar": {
             "outlinewidth": 0,
             "ticks": ""
            },
            "colorscale": [
             [
              0,
              "#0d0887"
             ],
             [
              0.1111111111111111,
              "#46039f"
             ],
             [
              0.2222222222222222,
              "#7201a8"
             ],
             [
              0.3333333333333333,
              "#9c179e"
             ],
             [
              0.4444444444444444,
              "#bd3786"
             ],
             [
              0.5555555555555556,
              "#d8576b"
             ],
             [
              0.6666666666666666,
              "#ed7953"
             ],
             [
              0.7777777777777778,
              "#fb9f3a"
             ],
             [
              0.8888888888888888,
              "#fdca26"
             ],
             [
              1,
              "#f0f921"
             ]
            ],
            "type": "contour"
           }
          ],
          "contourcarpet": [
           {
            "colorbar": {
             "outlinewidth": 0,
             "ticks": ""
            },
            "type": "contourcarpet"
           }
          ],
          "heatmap": [
           {
            "colorbar": {
             "outlinewidth": 0,
             "ticks": ""
            },
            "colorscale": [
             [
              0,
              "#0d0887"
             ],
             [
              0.1111111111111111,
              "#46039f"
             ],
             [
              0.2222222222222222,
              "#7201a8"
             ],
             [
              0.3333333333333333,
              "#9c179e"
             ],
             [
              0.4444444444444444,
              "#bd3786"
             ],
             [
              0.5555555555555556,
              "#d8576b"
             ],
             [
              0.6666666666666666,
              "#ed7953"
             ],
             [
              0.7777777777777778,
              "#fb9f3a"
             ],
             [
              0.8888888888888888,
              "#fdca26"
             ],
             [
              1,
              "#f0f921"
             ]
            ],
            "type": "heatmap"
           }
          ],
          "heatmapgl": [
           {
            "colorbar": {
             "outlinewidth": 0,
             "ticks": ""
            },
            "colorscale": [
             [
              0,
              "#0d0887"
             ],
             [
              0.1111111111111111,
              "#46039f"
             ],
             [
              0.2222222222222222,
              "#7201a8"
             ],
             [
              0.3333333333333333,
              "#9c179e"
             ],
             [
              0.4444444444444444,
              "#bd3786"
             ],
             [
              0.5555555555555556,
              "#d8576b"
             ],
             [
              0.6666666666666666,
              "#ed7953"
             ],
             [
              0.7777777777777778,
              "#fb9f3a"
             ],
             [
              0.8888888888888888,
              "#fdca26"
             ],
             [
              1,
              "#f0f921"
             ]
            ],
            "type": "heatmapgl"
           }
          ],
          "histogram": [
           {
            "marker": {
             "pattern": {
              "fillmode": "overlay",
              "size": 10,
              "solidity": 0.2
             }
            },
            "type": "histogram"
           }
          ],
          "histogram2d": [
           {
            "colorbar": {
             "outlinewidth": 0,
             "ticks": ""
            },
            "colorscale": [
             [
              0,
              "#0d0887"
             ],
             [
              0.1111111111111111,
              "#46039f"
             ],
             [
              0.2222222222222222,
              "#7201a8"
             ],
             [
              0.3333333333333333,
              "#9c179e"
             ],
             [
              0.4444444444444444,
              "#bd3786"
             ],
             [
              0.5555555555555556,
              "#d8576b"
             ],
             [
              0.6666666666666666,
              "#ed7953"
             ],
             [
              0.7777777777777778,
              "#fb9f3a"
             ],
             [
              0.8888888888888888,
              "#fdca26"
             ],
             [
              1,
              "#f0f921"
             ]
            ],
            "type": "histogram2d"
           }
          ],
          "histogram2dcontour": [
           {
            "colorbar": {
             "outlinewidth": 0,
             "ticks": ""
            },
            "colorscale": [
             [
              0,
              "#0d0887"
             ],
             [
              0.1111111111111111,
              "#46039f"
             ],
             [
              0.2222222222222222,
              "#7201a8"
             ],
             [
              0.3333333333333333,
              "#9c179e"
             ],
             [
              0.4444444444444444,
              "#bd3786"
             ],
             [
              0.5555555555555556,
              "#d8576b"
             ],
             [
              0.6666666666666666,
              "#ed7953"
             ],
             [
              0.7777777777777778,
              "#fb9f3a"
             ],
             [
              0.8888888888888888,
              "#fdca26"
             ],
             [
              1,
              "#f0f921"
             ]
            ],
            "type": "histogram2dcontour"
           }
          ],
          "mesh3d": [
           {
            "colorbar": {
             "outlinewidth": 0,
             "ticks": ""
            },
            "type": "mesh3d"
           }
          ],
          "parcoords": [
           {
            "line": {
             "colorbar": {
              "outlinewidth": 0,
              "ticks": ""
             }
            },
            "type": "parcoords"
           }
          ],
          "pie": [
           {
            "automargin": true,
            "type": "pie"
           }
          ],
          "scatter": [
           {
            "fillpattern": {
             "fillmode": "overlay",
             "size": 10,
             "solidity": 0.2
            },
            "type": "scatter"
           }
          ],
          "scatter3d": [
           {
            "line": {
             "colorbar": {
              "outlinewidth": 0,
              "ticks": ""
             }
            },
            "marker": {
             "colorbar": {
              "outlinewidth": 0,
              "ticks": ""
             }
            },
            "type": "scatter3d"
           }
          ],
          "scattercarpet": [
           {
            "marker": {
             "colorbar": {
              "outlinewidth": 0,
              "ticks": ""
             }
            },
            "type": "scattercarpet"
           }
          ],
          "scattergeo": [
           {
            "marker": {
             "colorbar": {
              "outlinewidth": 0,
              "ticks": ""
             }
            },
            "type": "scattergeo"
           }
          ],
          "scattergl": [
           {
            "marker": {
             "colorbar": {
              "outlinewidth": 0,
              "ticks": ""
             }
            },
            "type": "scattergl"
           }
          ],
          "scattermapbox": [
           {
            "marker": {
             "colorbar": {
              "outlinewidth": 0,
              "ticks": ""
             }
            },
            "type": "scattermapbox"
           }
          ],
          "scatterpolar": [
           {
            "marker": {
             "colorbar": {
              "outlinewidth": 0,
              "ticks": ""
             }
            },
            "type": "scatterpolar"
           }
          ],
          "scatterpolargl": [
           {
            "marker": {
             "colorbar": {
              "outlinewidth": 0,
              "ticks": ""
             }
            },
            "type": "scatterpolargl"
           }
          ],
          "scatterternary": [
           {
            "marker": {
             "colorbar": {
              "outlinewidth": 0,
              "ticks": ""
             }
            },
            "type": "scatterternary"
           }
          ],
          "surface": [
           {
            "colorbar": {
             "outlinewidth": 0,
             "ticks": ""
            },
            "colorscale": [
             [
              0,
              "#0d0887"
             ],
             [
              0.1111111111111111,
              "#46039f"
             ],
             [
              0.2222222222222222,
              "#7201a8"
             ],
             [
              0.3333333333333333,
              "#9c179e"
             ],
             [
              0.4444444444444444,
              "#bd3786"
             ],
             [
              0.5555555555555556,
              "#d8576b"
             ],
             [
              0.6666666666666666,
              "#ed7953"
             ],
             [
              0.7777777777777778,
              "#fb9f3a"
             ],
             [
              0.8888888888888888,
              "#fdca26"
             ],
             [
              1,
              "#f0f921"
             ]
            ],
            "type": "surface"
           }
          ],
          "table": [
           {
            "cells": {
             "fill": {
              "color": "#EBF0F8"
             },
             "line": {
              "color": "white"
             }
            },
            "header": {
             "fill": {
              "color": "#C8D4E3"
             },
             "line": {
              "color": "white"
             }
            },
            "type": "table"
           }
          ]
         },
         "layout": {
          "annotationdefaults": {
           "arrowcolor": "#2a3f5f",
           "arrowhead": 0,
           "arrowwidth": 1
          },
          "autotypenumbers": "strict",
          "coloraxis": {
           "colorbar": {
            "outlinewidth": 0,
            "ticks": ""
           }
          },
          "colorscale": {
           "diverging": [
            [
             0,
             "#8e0152"
            ],
            [
             0.1,
             "#c51b7d"
            ],
            [
             0.2,
             "#de77ae"
            ],
            [
             0.3,
             "#f1b6da"
            ],
            [
             0.4,
             "#fde0ef"
            ],
            [
             0.5,
             "#f7f7f7"
            ],
            [
             0.6,
             "#e6f5d0"
            ],
            [
             0.7,
             "#b8e186"
            ],
            [
             0.8,
             "#7fbc41"
            ],
            [
             0.9,
             "#4d9221"
            ],
            [
             1,
             "#276419"
            ]
           ],
           "sequential": [
            [
             0,
             "#0d0887"
            ],
            [
             0.1111111111111111,
             "#46039f"
            ],
            [
             0.2222222222222222,
             "#7201a8"
            ],
            [
             0.3333333333333333,
             "#9c179e"
            ],
            [
             0.4444444444444444,
             "#bd3786"
            ],
            [
             0.5555555555555556,
             "#d8576b"
            ],
            [
             0.6666666666666666,
             "#ed7953"
            ],
            [
             0.7777777777777778,
             "#fb9f3a"
            ],
            [
             0.8888888888888888,
             "#fdca26"
            ],
            [
             1,
             "#f0f921"
            ]
           ],
           "sequentialminus": [
            [
             0,
             "#0d0887"
            ],
            [
             0.1111111111111111,
             "#46039f"
            ],
            [
             0.2222222222222222,
             "#7201a8"
            ],
            [
             0.3333333333333333,
             "#9c179e"
            ],
            [
             0.4444444444444444,
             "#bd3786"
            ],
            [
             0.5555555555555556,
             "#d8576b"
            ],
            [
             0.6666666666666666,
             "#ed7953"
            ],
            [
             0.7777777777777778,
             "#fb9f3a"
            ],
            [
             0.8888888888888888,
             "#fdca26"
            ],
            [
             1,
             "#f0f921"
            ]
           ]
          },
          "colorway": [
           "#636efa",
           "#EF553B",
           "#00cc96",
           "#ab63fa",
           "#FFA15A",
           "#19d3f3",
           "#FF6692",
           "#B6E880",
           "#FF97FF",
           "#FECB52"
          ],
          "font": {
           "color": "#2a3f5f"
          },
          "geo": {
           "bgcolor": "white",
           "lakecolor": "white",
           "landcolor": "#E5ECF6",
           "showlakes": true,
           "showland": true,
           "subunitcolor": "white"
          },
          "hoverlabel": {
           "align": "left"
          },
          "hovermode": "closest",
          "mapbox": {
           "style": "light"
          },
          "paper_bgcolor": "white",
          "plot_bgcolor": "#E5ECF6",
          "polar": {
           "angularaxis": {
            "gridcolor": "white",
            "linecolor": "white",
            "ticks": ""
           },
           "bgcolor": "#E5ECF6",
           "radialaxis": {
            "gridcolor": "white",
            "linecolor": "white",
            "ticks": ""
           }
          },
          "scene": {
           "xaxis": {
            "backgroundcolor": "#E5ECF6",
            "gridcolor": "white",
            "gridwidth": 2,
            "linecolor": "white",
            "showbackground": true,
            "ticks": "",
            "zerolinecolor": "white"
           },
           "yaxis": {
            "backgroundcolor": "#E5ECF6",
            "gridcolor": "white",
            "gridwidth": 2,
            "linecolor": "white",
            "showbackground": true,
            "ticks": "",
            "zerolinecolor": "white"
           },
           "zaxis": {
            "backgroundcolor": "#E5ECF6",
            "gridcolor": "white",
            "gridwidth": 2,
            "linecolor": "white",
            "showbackground": true,
            "ticks": "",
            "zerolinecolor": "white"
           }
          },
          "shapedefaults": {
           "line": {
            "color": "#2a3f5f"
           }
          },
          "ternary": {
           "aaxis": {
            "gridcolor": "white",
            "linecolor": "white",
            "ticks": ""
           },
           "baxis": {
            "gridcolor": "white",
            "linecolor": "white",
            "ticks": ""
           },
           "bgcolor": "#E5ECF6",
           "caxis": {
            "gridcolor": "white",
            "linecolor": "white",
            "ticks": ""
           }
          },
          "title": {
           "x": 0.05
          },
          "xaxis": {
           "automargin": true,
           "gridcolor": "white",
           "linecolor": "white",
           "ticks": "",
           "title": {
            "standoff": 15
           },
           "zerolinecolor": "white",
           "zerolinewidth": 2
          },
          "yaxis": {
           "automargin": true,
           "gridcolor": "white",
           "linecolor": "white",
           "ticks": "",
           "title": {
            "standoff": 15
           },
           "zerolinecolor": "white",
           "zerolinewidth": 2
          }
         }
        },
        "title": {
         "text": "Distribution of Data Entries across Years"
        }
       }
      },
      "text/html": [
       "<div>                            <div id=\"9e5d13fa-941c-418f-8252-b17c9fe70318\" class=\"plotly-graph-div\" style=\"height:600px; width:100%;\"></div>            <script type=\"text/javascript\">                require([\"plotly\"], function(Plotly) {                    window.PLOTLYENV=window.PLOTLYENV || {};                                    if (document.getElementById(\"9e5d13fa-941c-418f-8252-b17c9fe70318\")) {                    Plotly.newPlot(                        \"9e5d13fa-941c-418f-8252-b17c9fe70318\",                        [{\"hole\":0.4,\"insidetextorientation\":\"radial\",\"labels\":[2023,2022,2021,2020],\"marker\":{\"colors\":[\"rgb(103,0,31)\",\"rgb(178,24,43)\",\"rgb(214,96,77)\",\"rgb(244,165,130)\",\"rgb(253,219,199)\",\"rgb(247,247,247)\",\"rgb(209,229,240)\",\"rgb(146,197,222)\",\"rgb(67,147,195)\",\"rgb(33,102,172)\",\"rgb(5,48,97)\"],\"line\":{\"color\":\"honeydew\",\"width\":2}},\"textinfo\":\"label+percent\",\"values\":[1785,1664,230,76],\"type\":\"pie\"}],                        {\"template\":{\"data\":{\"histogram2dcontour\":[{\"type\":\"histogram2dcontour\",\"colorbar\":{\"outlinewidth\":0,\"ticks\":\"\"},\"colorscale\":[[0.0,\"#0d0887\"],[0.1111111111111111,\"#46039f\"],[0.2222222222222222,\"#7201a8\"],[0.3333333333333333,\"#9c179e\"],[0.4444444444444444,\"#bd3786\"],[0.5555555555555556,\"#d8576b\"],[0.6666666666666666,\"#ed7953\"],[0.7777777777777778,\"#fb9f3a\"],[0.8888888888888888,\"#fdca26\"],[1.0,\"#f0f921\"]]}],\"choropleth\":[{\"type\":\"choropleth\",\"colorbar\":{\"outlinewidth\":0,\"ticks\":\"\"}}],\"histogram2d\":[{\"type\":\"histogram2d\",\"colorbar\":{\"outlinewidth\":0,\"ticks\":\"\"},\"colorscale\":[[0.0,\"#0d0887\"],[0.1111111111111111,\"#46039f\"],[0.2222222222222222,\"#7201a8\"],[0.3333333333333333,\"#9c179e\"],[0.4444444444444444,\"#bd3786\"],[0.5555555555555556,\"#d8576b\"],[0.6666666666666666,\"#ed7953\"],[0.7777777777777778,\"#fb9f3a\"],[0.8888888888888888,\"#fdca26\"],[1.0,\"#f0f921\"]]}],\"heatmap\":[{\"type\":\"heatmap\",\"colorbar\":{\"outlinewidth\":0,\"ticks\":\"\"},\"colorscale\":[[0.0,\"#0d0887\"],[0.1111111111111111,\"#46039f\"],[0.2222222222222222,\"#7201a8\"],[0.3333333333333333,\"#9c179e\"],[0.4444444444444444,\"#bd3786\"],[0.5555555555555556,\"#d8576b\"],[0.6666666666666666,\"#ed7953\"],[0.7777777777777778,\"#fb9f3a\"],[0.8888888888888888,\"#fdca26\"],[1.0,\"#f0f921\"]]}],\"heatmapgl\":[{\"type\":\"heatmapgl\",\"colorbar\":{\"outlinewidth\":0,\"ticks\":\"\"},\"colorscale\":[[0.0,\"#0d0887\"],[0.1111111111111111,\"#46039f\"],[0.2222222222222222,\"#7201a8\"],[0.3333333333333333,\"#9c179e\"],[0.4444444444444444,\"#bd3786\"],[0.5555555555555556,\"#d8576b\"],[0.6666666666666666,\"#ed7953\"],[0.7777777777777778,\"#fb9f3a\"],[0.8888888888888888,\"#fdca26\"],[1.0,\"#f0f921\"]]}],\"contourcarpet\":[{\"type\":\"contourcarpet\",\"colorbar\":{\"outlinewidth\":0,\"ticks\":\"\"}}],\"contour\":[{\"type\":\"contour\",\"colorbar\":{\"outlinewidth\":0,\"ticks\":\"\"},\"colorscale\":[[0.0,\"#0d0887\"],[0.1111111111111111,\"#46039f\"],[0.2222222222222222,\"#7201a8\"],[0.3333333333333333,\"#9c179e\"],[0.4444444444444444,\"#bd3786\"],[0.5555555555555556,\"#d8576b\"],[0.6666666666666666,\"#ed7953\"],[0.7777777777777778,\"#fb9f3a\"],[0.8888888888888888,\"#fdca26\"],[1.0,\"#f0f921\"]]}],\"surface\":[{\"type\":\"surface\",\"colorbar\":{\"outlinewidth\":0,\"ticks\":\"\"},\"colorscale\":[[0.0,\"#0d0887\"],[0.1111111111111111,\"#46039f\"],[0.2222222222222222,\"#7201a8\"],[0.3333333333333333,\"#9c179e\"],[0.4444444444444444,\"#bd3786\"],[0.5555555555555556,\"#d8576b\"],[0.6666666666666666,\"#ed7953\"],[0.7777777777777778,\"#fb9f3a\"],[0.8888888888888888,\"#fdca26\"],[1.0,\"#f0f921\"]]}],\"mesh3d\":[{\"type\":\"mesh3d\",\"colorbar\":{\"outlinewidth\":0,\"ticks\":\"\"}}],\"scatter\":[{\"fillpattern\":{\"fillmode\":\"overlay\",\"size\":10,\"solidity\":0.2},\"type\":\"scatter\"}],\"parcoords\":[{\"type\":\"parcoords\",\"line\":{\"colorbar\":{\"outlinewidth\":0,\"ticks\":\"\"}}}],\"scatterpolargl\":[{\"type\":\"scatterpolargl\",\"marker\":{\"colorbar\":{\"outlinewidth\":0,\"ticks\":\"\"}}}],\"bar\":[{\"error_x\":{\"color\":\"#2a3f5f\"},\"error_y\":{\"color\":\"#2a3f5f\"},\"marker\":{\"line\":{\"color\":\"#E5ECF6\",\"width\":0.5},\"pattern\":{\"fillmode\":\"overlay\",\"size\":10,\"solidity\":0.2}},\"type\":\"bar\"}],\"scattergeo\":[{\"type\":\"scattergeo\",\"marker\":{\"colorbar\":{\"outlinewidth\":0,\"ticks\":\"\"}}}],\"scatterpolar\":[{\"type\":\"scatterpolar\",\"marker\":{\"colorbar\":{\"outlinewidth\":0,\"ticks\":\"\"}}}],\"histogram\":[{\"marker\":{\"pattern\":{\"fillmode\":\"overlay\",\"size\":10,\"solidity\":0.2}},\"type\":\"histogram\"}],\"scattergl\":[{\"type\":\"scattergl\",\"marker\":{\"colorbar\":{\"outlinewidth\":0,\"ticks\":\"\"}}}],\"scatter3d\":[{\"type\":\"scatter3d\",\"line\":{\"colorbar\":{\"outlinewidth\":0,\"ticks\":\"\"}},\"marker\":{\"colorbar\":{\"outlinewidth\":0,\"ticks\":\"\"}}}],\"scattermapbox\":[{\"type\":\"scattermapbox\",\"marker\":{\"colorbar\":{\"outlinewidth\":0,\"ticks\":\"\"}}}],\"scatterternary\":[{\"type\":\"scatterternary\",\"marker\":{\"colorbar\":{\"outlinewidth\":0,\"ticks\":\"\"}}}],\"scattercarpet\":[{\"type\":\"scattercarpet\",\"marker\":{\"colorbar\":{\"outlinewidth\":0,\"ticks\":\"\"}}}],\"carpet\":[{\"aaxis\":{\"endlinecolor\":\"#2a3f5f\",\"gridcolor\":\"white\",\"linecolor\":\"white\",\"minorgridcolor\":\"white\",\"startlinecolor\":\"#2a3f5f\"},\"baxis\":{\"endlinecolor\":\"#2a3f5f\",\"gridcolor\":\"white\",\"linecolor\":\"white\",\"minorgridcolor\":\"white\",\"startlinecolor\":\"#2a3f5f\"},\"type\":\"carpet\"}],\"table\":[{\"cells\":{\"fill\":{\"color\":\"#EBF0F8\"},\"line\":{\"color\":\"white\"}},\"header\":{\"fill\":{\"color\":\"#C8D4E3\"},\"line\":{\"color\":\"white\"}},\"type\":\"table\"}],\"barpolar\":[{\"marker\":{\"line\":{\"color\":\"#E5ECF6\",\"width\":0.5},\"pattern\":{\"fillmode\":\"overlay\",\"size\":10,\"solidity\":0.2}},\"type\":\"barpolar\"}],\"pie\":[{\"automargin\":true,\"type\":\"pie\"}]},\"layout\":{\"autotypenumbers\":\"strict\",\"colorway\":[\"#636efa\",\"#EF553B\",\"#00cc96\",\"#ab63fa\",\"#FFA15A\",\"#19d3f3\",\"#FF6692\",\"#B6E880\",\"#FF97FF\",\"#FECB52\"],\"font\":{\"color\":\"#2a3f5f\"},\"hovermode\":\"closest\",\"hoverlabel\":{\"align\":\"left\"},\"paper_bgcolor\":\"white\",\"plot_bgcolor\":\"#E5ECF6\",\"polar\":{\"bgcolor\":\"#E5ECF6\",\"angularaxis\":{\"gridcolor\":\"white\",\"linecolor\":\"white\",\"ticks\":\"\"},\"radialaxis\":{\"gridcolor\":\"white\",\"linecolor\":\"white\",\"ticks\":\"\"}},\"ternary\":{\"bgcolor\":\"#E5ECF6\",\"aaxis\":{\"gridcolor\":\"white\",\"linecolor\":\"white\",\"ticks\":\"\"},\"baxis\":{\"gridcolor\":\"white\",\"linecolor\":\"white\",\"ticks\":\"\"},\"caxis\":{\"gridcolor\":\"white\",\"linecolor\":\"white\",\"ticks\":\"\"}},\"coloraxis\":{\"colorbar\":{\"outlinewidth\":0,\"ticks\":\"\"}},\"colorscale\":{\"sequential\":[[0.0,\"#0d0887\"],[0.1111111111111111,\"#46039f\"],[0.2222222222222222,\"#7201a8\"],[0.3333333333333333,\"#9c179e\"],[0.4444444444444444,\"#bd3786\"],[0.5555555555555556,\"#d8576b\"],[0.6666666666666666,\"#ed7953\"],[0.7777777777777778,\"#fb9f3a\"],[0.8888888888888888,\"#fdca26\"],[1.0,\"#f0f921\"]],\"sequentialminus\":[[0.0,\"#0d0887\"],[0.1111111111111111,\"#46039f\"],[0.2222222222222222,\"#7201a8\"],[0.3333333333333333,\"#9c179e\"],[0.4444444444444444,\"#bd3786\"],[0.5555555555555556,\"#d8576b\"],[0.6666666666666666,\"#ed7953\"],[0.7777777777777778,\"#fb9f3a\"],[0.8888888888888888,\"#fdca26\"],[1.0,\"#f0f921\"]],\"diverging\":[[0,\"#8e0152\"],[0.1,\"#c51b7d\"],[0.2,\"#de77ae\"],[0.3,\"#f1b6da\"],[0.4,\"#fde0ef\"],[0.5,\"#f7f7f7\"],[0.6,\"#e6f5d0\"],[0.7,\"#b8e186\"],[0.8,\"#7fbc41\"],[0.9,\"#4d9221\"],[1,\"#276419\"]]},\"xaxis\":{\"gridcolor\":\"white\",\"linecolor\":\"white\",\"ticks\":\"\",\"title\":{\"standoff\":15},\"zerolinecolor\":\"white\",\"automargin\":true,\"zerolinewidth\":2},\"yaxis\":{\"gridcolor\":\"white\",\"linecolor\":\"white\",\"ticks\":\"\",\"title\":{\"standoff\":15},\"zerolinecolor\":\"white\",\"automargin\":true,\"zerolinewidth\":2},\"scene\":{\"xaxis\":{\"backgroundcolor\":\"#E5ECF6\",\"gridcolor\":\"white\",\"linecolor\":\"white\",\"showbackground\":true,\"ticks\":\"\",\"zerolinecolor\":\"white\",\"gridwidth\":2},\"yaxis\":{\"backgroundcolor\":\"#E5ECF6\",\"gridcolor\":\"white\",\"linecolor\":\"white\",\"showbackground\":true,\"ticks\":\"\",\"zerolinecolor\":\"white\",\"gridwidth\":2},\"zaxis\":{\"backgroundcolor\":\"#E5ECF6\",\"gridcolor\":\"white\",\"linecolor\":\"white\",\"showbackground\":true,\"ticks\":\"\",\"zerolinecolor\":\"white\",\"gridwidth\":2}},\"shapedefaults\":{\"line\":{\"color\":\"#2a3f5f\"}},\"annotationdefaults\":{\"arrowcolor\":\"#2a3f5f\",\"arrowhead\":0,\"arrowwidth\":1},\"geo\":{\"bgcolor\":\"white\",\"landcolor\":\"#E5ECF6\",\"subunitcolor\":\"white\",\"showland\":true,\"showlakes\":true,\"lakecolor\":\"white\"},\"title\":{\"x\":0.05},\"mapbox\":{\"style\":\"light\"}}},\"title\":{\"text\":\"Distribution of Data Entries across Years\"},\"annotations\":[{\"showarrow\":false,\"text\":\"Year Overview\",\"font\":{\"size\":20}}],\"height\":600},                        {\"responsive\": true}                    ).then(function(){\n",
       "                            \n",
       "var gd = document.getElementById('9e5d13fa-941c-418f-8252-b17c9fe70318');\n",
       "var x = new MutationObserver(function (mutations, observer) {{\n",
       "        var display = window.getComputedStyle(gd).display;\n",
       "        if (!display || display === 'none') {{\n",
       "            console.log([gd, 'removed!']);\n",
       "            Plotly.purge(gd);\n",
       "            observer.disconnect();\n",
       "        }}\n",
       "}});\n",
       "\n",
       "// Listen for the removal of the full notebook cells\n",
       "var notebookContainer = gd.closest('#notebook-container');\n",
       "if (notebookContainer) {{\n",
       "    x.observe(notebookContainer, {childList: true});\n",
       "}}\n",
       "\n",
       "// Listen for the clearing of the current output cell\n",
       "var outputEl = gd.closest('.output');\n",
       "if (outputEl) {{\n",
       "    x.observe(outputEl, {childList: true});\n",
       "}}\n",
       "\n",
       "                        })                };                });            </script>        </div>"
      ]
     },
     "metadata": {},
     "output_type": "display_data"
    }
   ],
   "source": [
    "# Extract the value counts for years\n",
    "data_values = df.work_year.value_counts()\n",
    "\n",
    "# Create a pie chart\n",
    "fig = go.Figure(data=go.Pie(\n",
    "    labels=data_values.index, \n",
    "    values=data_values.values, \n",
    "    hole=0.4, \n",
    "    textinfo='label+percent',\n",
    "    insidetextorientation='radial',\n",
    "    marker=dict(\n",
    "        colors=px.colors.sequential.RdBu, \n",
    "        line=dict(\n",
    "            color='honeydew', \n",
    "            width=2\n",
    "        )\n",
    "    ),\n",
    "))\n",
    "\n",
    "# Update layout\n",
    "fig.update_layout(\n",
    "    title=\"Distribution of Data Entries across Years\",\n",
    "    annotations=[dict(text=\"Year Overview\", showarrow=False, font_size=20)],\n",
    "    height=600\n",
    ")\n",
    "\n",
    "# Show the pie chart\n",
    "fig.show()"
   ]
  },
  {
   "cell_type": "code",
   "execution_count": 138,
   "id": "571ec1e6",
   "metadata": {},
   "outputs": [
    {
     "data": {
      "application/vnd.plotly.v1+json": {
       "config": {
        "plotlyServerURL": "https://plot.ly"
       },
       "data": [
        {
         "marker": {
          "color": "steelblue"
         },
         "name": "Mean Salary",
         "type": "bar",
         "x": [
          2020,
          2021,
          2022,
          2023
         ],
         "y": [
          92302.63157894737,
          94087.20869565217,
          133338.62079326922,
          149045.54117647058
         ]
        },
        {
         "line": {
          "color": "darkorange"
         },
         "marker": {
          "size": 15,
          "symbol": "circle-open"
         },
         "mode": "lines+markers",
         "name": "Mean Salary",
         "type": "scatter",
         "x": [
          2020,
          2021,
          2022,
          2023
         ],
         "y": [
          92302.63157894737,
          94087.20869565217,
          133338.62079326922,
          149045.54117647058
         ]
        }
       ],
       "layout": {
        "height": 600,
        "template": {
         "data": {
          "bar": [
           {
            "error_x": {
             "color": "#2a3f5f"
            },
            "error_y": {
             "color": "#2a3f5f"
            },
            "marker": {
             "line": {
              "color": "#E5ECF6",
              "width": 0.5
             },
             "pattern": {
              "fillmode": "overlay",
              "size": 10,
              "solidity": 0.2
             }
            },
            "type": "bar"
           }
          ],
          "barpolar": [
           {
            "marker": {
             "line": {
              "color": "#E5ECF6",
              "width": 0.5
             },
             "pattern": {
              "fillmode": "overlay",
              "size": 10,
              "solidity": 0.2
             }
            },
            "type": "barpolar"
           }
          ],
          "carpet": [
           {
            "aaxis": {
             "endlinecolor": "#2a3f5f",
             "gridcolor": "white",
             "linecolor": "white",
             "minorgridcolor": "white",
             "startlinecolor": "#2a3f5f"
            },
            "baxis": {
             "endlinecolor": "#2a3f5f",
             "gridcolor": "white",
             "linecolor": "white",
             "minorgridcolor": "white",
             "startlinecolor": "#2a3f5f"
            },
            "type": "carpet"
           }
          ],
          "choropleth": [
           {
            "colorbar": {
             "outlinewidth": 0,
             "ticks": ""
            },
            "type": "choropleth"
           }
          ],
          "contour": [
           {
            "colorbar": {
             "outlinewidth": 0,
             "ticks": ""
            },
            "colorscale": [
             [
              0,
              "#0d0887"
             ],
             [
              0.1111111111111111,
              "#46039f"
             ],
             [
              0.2222222222222222,
              "#7201a8"
             ],
             [
              0.3333333333333333,
              "#9c179e"
             ],
             [
              0.4444444444444444,
              "#bd3786"
             ],
             [
              0.5555555555555556,
              "#d8576b"
             ],
             [
              0.6666666666666666,
              "#ed7953"
             ],
             [
              0.7777777777777778,
              "#fb9f3a"
             ],
             [
              0.8888888888888888,
              "#fdca26"
             ],
             [
              1,
              "#f0f921"
             ]
            ],
            "type": "contour"
           }
          ],
          "contourcarpet": [
           {
            "colorbar": {
             "outlinewidth": 0,
             "ticks": ""
            },
            "type": "contourcarpet"
           }
          ],
          "heatmap": [
           {
            "colorbar": {
             "outlinewidth": 0,
             "ticks": ""
            },
            "colorscale": [
             [
              0,
              "#0d0887"
             ],
             [
              0.1111111111111111,
              "#46039f"
             ],
             [
              0.2222222222222222,
              "#7201a8"
             ],
             [
              0.3333333333333333,
              "#9c179e"
             ],
             [
              0.4444444444444444,
              "#bd3786"
             ],
             [
              0.5555555555555556,
              "#d8576b"
             ],
             [
              0.6666666666666666,
              "#ed7953"
             ],
             [
              0.7777777777777778,
              "#fb9f3a"
             ],
             [
              0.8888888888888888,
              "#fdca26"
             ],
             [
              1,
              "#f0f921"
             ]
            ],
            "type": "heatmap"
           }
          ],
          "heatmapgl": [
           {
            "colorbar": {
             "outlinewidth": 0,
             "ticks": ""
            },
            "colorscale": [
             [
              0,
              "#0d0887"
             ],
             [
              0.1111111111111111,
              "#46039f"
             ],
             [
              0.2222222222222222,
              "#7201a8"
             ],
             [
              0.3333333333333333,
              "#9c179e"
             ],
             [
              0.4444444444444444,
              "#bd3786"
             ],
             [
              0.5555555555555556,
              "#d8576b"
             ],
             [
              0.6666666666666666,
              "#ed7953"
             ],
             [
              0.7777777777777778,
              "#fb9f3a"
             ],
             [
              0.8888888888888888,
              "#fdca26"
             ],
             [
              1,
              "#f0f921"
             ]
            ],
            "type": "heatmapgl"
           }
          ],
          "histogram": [
           {
            "marker": {
             "pattern": {
              "fillmode": "overlay",
              "size": 10,
              "solidity": 0.2
             }
            },
            "type": "histogram"
           }
          ],
          "histogram2d": [
           {
            "colorbar": {
             "outlinewidth": 0,
             "ticks": ""
            },
            "colorscale": [
             [
              0,
              "#0d0887"
             ],
             [
              0.1111111111111111,
              "#46039f"
             ],
             [
              0.2222222222222222,
              "#7201a8"
             ],
             [
              0.3333333333333333,
              "#9c179e"
             ],
             [
              0.4444444444444444,
              "#bd3786"
             ],
             [
              0.5555555555555556,
              "#d8576b"
             ],
             [
              0.6666666666666666,
              "#ed7953"
             ],
             [
              0.7777777777777778,
              "#fb9f3a"
             ],
             [
              0.8888888888888888,
              "#fdca26"
             ],
             [
              1,
              "#f0f921"
             ]
            ],
            "type": "histogram2d"
           }
          ],
          "histogram2dcontour": [
           {
            "colorbar": {
             "outlinewidth": 0,
             "ticks": ""
            },
            "colorscale": [
             [
              0,
              "#0d0887"
             ],
             [
              0.1111111111111111,
              "#46039f"
             ],
             [
              0.2222222222222222,
              "#7201a8"
             ],
             [
              0.3333333333333333,
              "#9c179e"
             ],
             [
              0.4444444444444444,
              "#bd3786"
             ],
             [
              0.5555555555555556,
              "#d8576b"
             ],
             [
              0.6666666666666666,
              "#ed7953"
             ],
             [
              0.7777777777777778,
              "#fb9f3a"
             ],
             [
              0.8888888888888888,
              "#fdca26"
             ],
             [
              1,
              "#f0f921"
             ]
            ],
            "type": "histogram2dcontour"
           }
          ],
          "mesh3d": [
           {
            "colorbar": {
             "outlinewidth": 0,
             "ticks": ""
            },
            "type": "mesh3d"
           }
          ],
          "parcoords": [
           {
            "line": {
             "colorbar": {
              "outlinewidth": 0,
              "ticks": ""
             }
            },
            "type": "parcoords"
           }
          ],
          "pie": [
           {
            "automargin": true,
            "type": "pie"
           }
          ],
          "scatter": [
           {
            "fillpattern": {
             "fillmode": "overlay",
             "size": 10,
             "solidity": 0.2
            },
            "type": "scatter"
           }
          ],
          "scatter3d": [
           {
            "line": {
             "colorbar": {
              "outlinewidth": 0,
              "ticks": ""
             }
            },
            "marker": {
             "colorbar": {
              "outlinewidth": 0,
              "ticks": ""
             }
            },
            "type": "scatter3d"
           }
          ],
          "scattercarpet": [
           {
            "marker": {
             "colorbar": {
              "outlinewidth": 0,
              "ticks": ""
             }
            },
            "type": "scattercarpet"
           }
          ],
          "scattergeo": [
           {
            "marker": {
             "colorbar": {
              "outlinewidth": 0,
              "ticks": ""
             }
            },
            "type": "scattergeo"
           }
          ],
          "scattergl": [
           {
            "marker": {
             "colorbar": {
              "outlinewidth": 0,
              "ticks": ""
             }
            },
            "type": "scattergl"
           }
          ],
          "scattermapbox": [
           {
            "marker": {
             "colorbar": {
              "outlinewidth": 0,
              "ticks": ""
             }
            },
            "type": "scattermapbox"
           }
          ],
          "scatterpolar": [
           {
            "marker": {
             "colorbar": {
              "outlinewidth": 0,
              "ticks": ""
             }
            },
            "type": "scatterpolar"
           }
          ],
          "scatterpolargl": [
           {
            "marker": {
             "colorbar": {
              "outlinewidth": 0,
              "ticks": ""
             }
            },
            "type": "scatterpolargl"
           }
          ],
          "scatterternary": [
           {
            "marker": {
             "colorbar": {
              "outlinewidth": 0,
              "ticks": ""
             }
            },
            "type": "scatterternary"
           }
          ],
          "surface": [
           {
            "colorbar": {
             "outlinewidth": 0,
             "ticks": ""
            },
            "colorscale": [
             [
              0,
              "#0d0887"
             ],
             [
              0.1111111111111111,
              "#46039f"
             ],
             [
              0.2222222222222222,
              "#7201a8"
             ],
             [
              0.3333333333333333,
              "#9c179e"
             ],
             [
              0.4444444444444444,
              "#bd3786"
             ],
             [
              0.5555555555555556,
              "#d8576b"
             ],
             [
              0.6666666666666666,
              "#ed7953"
             ],
             [
              0.7777777777777778,
              "#fb9f3a"
             ],
             [
              0.8888888888888888,
              "#fdca26"
             ],
             [
              1,
              "#f0f921"
             ]
            ],
            "type": "surface"
           }
          ],
          "table": [
           {
            "cells": {
             "fill": {
              "color": "#EBF0F8"
             },
             "line": {
              "color": "white"
             }
            },
            "header": {
             "fill": {
              "color": "#C8D4E3"
             },
             "line": {
              "color": "white"
             }
            },
            "type": "table"
           }
          ]
         },
         "layout": {
          "annotationdefaults": {
           "arrowcolor": "#2a3f5f",
           "arrowhead": 0,
           "arrowwidth": 1
          },
          "autotypenumbers": "strict",
          "coloraxis": {
           "colorbar": {
            "outlinewidth": 0,
            "ticks": ""
           }
          },
          "colorscale": {
           "diverging": [
            [
             0,
             "#8e0152"
            ],
            [
             0.1,
             "#c51b7d"
            ],
            [
             0.2,
             "#de77ae"
            ],
            [
             0.3,
             "#f1b6da"
            ],
            [
             0.4,
             "#fde0ef"
            ],
            [
             0.5,
             "#f7f7f7"
            ],
            [
             0.6,
             "#e6f5d0"
            ],
            [
             0.7,
             "#b8e186"
            ],
            [
             0.8,
             "#7fbc41"
            ],
            [
             0.9,
             "#4d9221"
            ],
            [
             1,
             "#276419"
            ]
           ],
           "sequential": [
            [
             0,
             "#0d0887"
            ],
            [
             0.1111111111111111,
             "#46039f"
            ],
            [
             0.2222222222222222,
             "#7201a8"
            ],
            [
             0.3333333333333333,
             "#9c179e"
            ],
            [
             0.4444444444444444,
             "#bd3786"
            ],
            [
             0.5555555555555556,
             "#d8576b"
            ],
            [
             0.6666666666666666,
             "#ed7953"
            ],
            [
             0.7777777777777778,
             "#fb9f3a"
            ],
            [
             0.8888888888888888,
             "#fdca26"
            ],
            [
             1,
             "#f0f921"
            ]
           ],
           "sequentialminus": [
            [
             0,
             "#0d0887"
            ],
            [
             0.1111111111111111,
             "#46039f"
            ],
            [
             0.2222222222222222,
             "#7201a8"
            ],
            [
             0.3333333333333333,
             "#9c179e"
            ],
            [
             0.4444444444444444,
             "#bd3786"
            ],
            [
             0.5555555555555556,
             "#d8576b"
            ],
            [
             0.6666666666666666,
             "#ed7953"
            ],
            [
             0.7777777777777778,
             "#fb9f3a"
            ],
            [
             0.8888888888888888,
             "#fdca26"
            ],
            [
             1,
             "#f0f921"
            ]
           ]
          },
          "colorway": [
           "#636efa",
           "#EF553B",
           "#00cc96",
           "#ab63fa",
           "#FFA15A",
           "#19d3f3",
           "#FF6692",
           "#B6E880",
           "#FF97FF",
           "#FECB52"
          ],
          "font": {
           "color": "#2a3f5f"
          },
          "geo": {
           "bgcolor": "white",
           "lakecolor": "white",
           "landcolor": "#E5ECF6",
           "showlakes": true,
           "showland": true,
           "subunitcolor": "white"
          },
          "hoverlabel": {
           "align": "left"
          },
          "hovermode": "closest",
          "mapbox": {
           "style": "light"
          },
          "paper_bgcolor": "white",
          "plot_bgcolor": "#E5ECF6",
          "polar": {
           "angularaxis": {
            "gridcolor": "white",
            "linecolor": "white",
            "ticks": ""
           },
           "bgcolor": "#E5ECF6",
           "radialaxis": {
            "gridcolor": "white",
            "linecolor": "white",
            "ticks": ""
           }
          },
          "scene": {
           "xaxis": {
            "backgroundcolor": "#E5ECF6",
            "gridcolor": "white",
            "gridwidth": 2,
            "linecolor": "white",
            "showbackground": true,
            "ticks": "",
            "zerolinecolor": "white"
           },
           "yaxis": {
            "backgroundcolor": "#E5ECF6",
            "gridcolor": "white",
            "gridwidth": 2,
            "linecolor": "white",
            "showbackground": true,
            "ticks": "",
            "zerolinecolor": "white"
           },
           "zaxis": {
            "backgroundcolor": "#E5ECF6",
            "gridcolor": "white",
            "gridwidth": 2,
            "linecolor": "white",
            "showbackground": true,
            "ticks": "",
            "zerolinecolor": "white"
           }
          },
          "shapedefaults": {
           "line": {
            "color": "#2a3f5f"
           }
          },
          "ternary": {
           "aaxis": {
            "gridcolor": "white",
            "linecolor": "white",
            "ticks": ""
           },
           "baxis": {
            "gridcolor": "white",
            "linecolor": "white",
            "ticks": ""
           },
           "bgcolor": "#E5ECF6",
           "caxis": {
            "gridcolor": "white",
            "linecolor": "white",
            "ticks": ""
           }
          },
          "title": {
           "x": 0.05
          },
          "xaxis": {
           "automargin": true,
           "gridcolor": "white",
           "linecolor": "white",
           "ticks": "",
           "title": {
            "standoff": 15
           },
           "zerolinecolor": "white",
           "zerolinewidth": 2
          },
          "yaxis": {
           "automargin": true,
           "gridcolor": "white",
           "linecolor": "white",
           "ticks": "",
           "title": {
            "standoff": 15
           },
           "zerolinecolor": "white",
           "zerolinewidth": 2
          }
         }
        },
        "title": {
         "text": "Examining Mean Salary by Year"
        },
        "xaxis": {
         "anchor": "y",
         "domain": [
          0,
          1
         ],
         "title": {
          "text": "Working Year"
         }
        },
        "yaxis": {
         "anchor": "x",
         "domain": [
          0,
          1
         ],
         "title": {
          "text": "Mean Salary"
         }
        }
       }
      },
      "text/html": [
       "<div>                            <div id=\"10d2ebe3-0ba8-4bc3-994e-95b42a77b02c\" class=\"plotly-graph-div\" style=\"height:600px; width:100%;\"></div>            <script type=\"text/javascript\">                require([\"plotly\"], function(Plotly) {                    window.PLOTLYENV=window.PLOTLYENV || {};                                    if (document.getElementById(\"10d2ebe3-0ba8-4bc3-994e-95b42a77b02c\")) {                    Plotly.newPlot(                        \"10d2ebe3-0ba8-4bc3-994e-95b42a77b02c\",                        [{\"marker\":{\"color\":\"steelblue\"},\"name\":\"Mean Salary\",\"x\":[2020,2021,2022,2023],\"y\":[92302.63157894737,94087.20869565217,133338.62079326922,149045.54117647058],\"type\":\"bar\"},{\"line\":{\"color\":\"darkorange\"},\"marker\":{\"size\":15,\"symbol\":\"circle-open\"},\"mode\":\"lines+markers\",\"name\":\"Mean Salary\",\"x\":[2020,2021,2022,2023],\"y\":[92302.63157894737,94087.20869565217,133338.62079326922,149045.54117647058],\"type\":\"scatter\"}],                        {\"template\":{\"data\":{\"histogram2dcontour\":[{\"type\":\"histogram2dcontour\",\"colorbar\":{\"outlinewidth\":0,\"ticks\":\"\"},\"colorscale\":[[0.0,\"#0d0887\"],[0.1111111111111111,\"#46039f\"],[0.2222222222222222,\"#7201a8\"],[0.3333333333333333,\"#9c179e\"],[0.4444444444444444,\"#bd3786\"],[0.5555555555555556,\"#d8576b\"],[0.6666666666666666,\"#ed7953\"],[0.7777777777777778,\"#fb9f3a\"],[0.8888888888888888,\"#fdca26\"],[1.0,\"#f0f921\"]]}],\"choropleth\":[{\"type\":\"choropleth\",\"colorbar\":{\"outlinewidth\":0,\"ticks\":\"\"}}],\"histogram2d\":[{\"type\":\"histogram2d\",\"colorbar\":{\"outlinewidth\":0,\"ticks\":\"\"},\"colorscale\":[[0.0,\"#0d0887\"],[0.1111111111111111,\"#46039f\"],[0.2222222222222222,\"#7201a8\"],[0.3333333333333333,\"#9c179e\"],[0.4444444444444444,\"#bd3786\"],[0.5555555555555556,\"#d8576b\"],[0.6666666666666666,\"#ed7953\"],[0.7777777777777778,\"#fb9f3a\"],[0.8888888888888888,\"#fdca26\"],[1.0,\"#f0f921\"]]}],\"heatmap\":[{\"type\":\"heatmap\",\"colorbar\":{\"outlinewidth\":0,\"ticks\":\"\"},\"colorscale\":[[0.0,\"#0d0887\"],[0.1111111111111111,\"#46039f\"],[0.2222222222222222,\"#7201a8\"],[0.3333333333333333,\"#9c179e\"],[0.4444444444444444,\"#bd3786\"],[0.5555555555555556,\"#d8576b\"],[0.6666666666666666,\"#ed7953\"],[0.7777777777777778,\"#fb9f3a\"],[0.8888888888888888,\"#fdca26\"],[1.0,\"#f0f921\"]]}],\"heatmapgl\":[{\"type\":\"heatmapgl\",\"colorbar\":{\"outlinewidth\":0,\"ticks\":\"\"},\"colorscale\":[[0.0,\"#0d0887\"],[0.1111111111111111,\"#46039f\"],[0.2222222222222222,\"#7201a8\"],[0.3333333333333333,\"#9c179e\"],[0.4444444444444444,\"#bd3786\"],[0.5555555555555556,\"#d8576b\"],[0.6666666666666666,\"#ed7953\"],[0.7777777777777778,\"#fb9f3a\"],[0.8888888888888888,\"#fdca26\"],[1.0,\"#f0f921\"]]}],\"contourcarpet\":[{\"type\":\"contourcarpet\",\"colorbar\":{\"outlinewidth\":0,\"ticks\":\"\"}}],\"contour\":[{\"type\":\"contour\",\"colorbar\":{\"outlinewidth\":0,\"ticks\":\"\"},\"colorscale\":[[0.0,\"#0d0887\"],[0.1111111111111111,\"#46039f\"],[0.2222222222222222,\"#7201a8\"],[0.3333333333333333,\"#9c179e\"],[0.4444444444444444,\"#bd3786\"],[0.5555555555555556,\"#d8576b\"],[0.6666666666666666,\"#ed7953\"],[0.7777777777777778,\"#fb9f3a\"],[0.8888888888888888,\"#fdca26\"],[1.0,\"#f0f921\"]]}],\"surface\":[{\"type\":\"surface\",\"colorbar\":{\"outlinewidth\":0,\"ticks\":\"\"},\"colorscale\":[[0.0,\"#0d0887\"],[0.1111111111111111,\"#46039f\"],[0.2222222222222222,\"#7201a8\"],[0.3333333333333333,\"#9c179e\"],[0.4444444444444444,\"#bd3786\"],[0.5555555555555556,\"#d8576b\"],[0.6666666666666666,\"#ed7953\"],[0.7777777777777778,\"#fb9f3a\"],[0.8888888888888888,\"#fdca26\"],[1.0,\"#f0f921\"]]}],\"mesh3d\":[{\"type\":\"mesh3d\",\"colorbar\":{\"outlinewidth\":0,\"ticks\":\"\"}}],\"scatter\":[{\"fillpattern\":{\"fillmode\":\"overlay\",\"size\":10,\"solidity\":0.2},\"type\":\"scatter\"}],\"parcoords\":[{\"type\":\"parcoords\",\"line\":{\"colorbar\":{\"outlinewidth\":0,\"ticks\":\"\"}}}],\"scatterpolargl\":[{\"type\":\"scatterpolargl\",\"marker\":{\"colorbar\":{\"outlinewidth\":0,\"ticks\":\"\"}}}],\"bar\":[{\"error_x\":{\"color\":\"#2a3f5f\"},\"error_y\":{\"color\":\"#2a3f5f\"},\"marker\":{\"line\":{\"color\":\"#E5ECF6\",\"width\":0.5},\"pattern\":{\"fillmode\":\"overlay\",\"size\":10,\"solidity\":0.2}},\"type\":\"bar\"}],\"scattergeo\":[{\"type\":\"scattergeo\",\"marker\":{\"colorbar\":{\"outlinewidth\":0,\"ticks\":\"\"}}}],\"scatterpolar\":[{\"type\":\"scatterpolar\",\"marker\":{\"colorbar\":{\"outlinewidth\":0,\"ticks\":\"\"}}}],\"histogram\":[{\"marker\":{\"pattern\":{\"fillmode\":\"overlay\",\"size\":10,\"solidity\":0.2}},\"type\":\"histogram\"}],\"scattergl\":[{\"type\":\"scattergl\",\"marker\":{\"colorbar\":{\"outlinewidth\":0,\"ticks\":\"\"}}}],\"scatter3d\":[{\"type\":\"scatter3d\",\"line\":{\"colorbar\":{\"outlinewidth\":0,\"ticks\":\"\"}},\"marker\":{\"colorbar\":{\"outlinewidth\":0,\"ticks\":\"\"}}}],\"scattermapbox\":[{\"type\":\"scattermapbox\",\"marker\":{\"colorbar\":{\"outlinewidth\":0,\"ticks\":\"\"}}}],\"scatterternary\":[{\"type\":\"scatterternary\",\"marker\":{\"colorbar\":{\"outlinewidth\":0,\"ticks\":\"\"}}}],\"scattercarpet\":[{\"type\":\"scattercarpet\",\"marker\":{\"colorbar\":{\"outlinewidth\":0,\"ticks\":\"\"}}}],\"carpet\":[{\"aaxis\":{\"endlinecolor\":\"#2a3f5f\",\"gridcolor\":\"white\",\"linecolor\":\"white\",\"minorgridcolor\":\"white\",\"startlinecolor\":\"#2a3f5f\"},\"baxis\":{\"endlinecolor\":\"#2a3f5f\",\"gridcolor\":\"white\",\"linecolor\":\"white\",\"minorgridcolor\":\"white\",\"startlinecolor\":\"#2a3f5f\"},\"type\":\"carpet\"}],\"table\":[{\"cells\":{\"fill\":{\"color\":\"#EBF0F8\"},\"line\":{\"color\":\"white\"}},\"header\":{\"fill\":{\"color\":\"#C8D4E3\"},\"line\":{\"color\":\"white\"}},\"type\":\"table\"}],\"barpolar\":[{\"marker\":{\"line\":{\"color\":\"#E5ECF6\",\"width\":0.5},\"pattern\":{\"fillmode\":\"overlay\",\"size\":10,\"solidity\":0.2}},\"type\":\"barpolar\"}],\"pie\":[{\"automargin\":true,\"type\":\"pie\"}]},\"layout\":{\"autotypenumbers\":\"strict\",\"colorway\":[\"#636efa\",\"#EF553B\",\"#00cc96\",\"#ab63fa\",\"#FFA15A\",\"#19d3f3\",\"#FF6692\",\"#B6E880\",\"#FF97FF\",\"#FECB52\"],\"font\":{\"color\":\"#2a3f5f\"},\"hovermode\":\"closest\",\"hoverlabel\":{\"align\":\"left\"},\"paper_bgcolor\":\"white\",\"plot_bgcolor\":\"#E5ECF6\",\"polar\":{\"bgcolor\":\"#E5ECF6\",\"angularaxis\":{\"gridcolor\":\"white\",\"linecolor\":\"white\",\"ticks\":\"\"},\"radialaxis\":{\"gridcolor\":\"white\",\"linecolor\":\"white\",\"ticks\":\"\"}},\"ternary\":{\"bgcolor\":\"#E5ECF6\",\"aaxis\":{\"gridcolor\":\"white\",\"linecolor\":\"white\",\"ticks\":\"\"},\"baxis\":{\"gridcolor\":\"white\",\"linecolor\":\"white\",\"ticks\":\"\"},\"caxis\":{\"gridcolor\":\"white\",\"linecolor\":\"white\",\"ticks\":\"\"}},\"coloraxis\":{\"colorbar\":{\"outlinewidth\":0,\"ticks\":\"\"}},\"colorscale\":{\"sequential\":[[0.0,\"#0d0887\"],[0.1111111111111111,\"#46039f\"],[0.2222222222222222,\"#7201a8\"],[0.3333333333333333,\"#9c179e\"],[0.4444444444444444,\"#bd3786\"],[0.5555555555555556,\"#d8576b\"],[0.6666666666666666,\"#ed7953\"],[0.7777777777777778,\"#fb9f3a\"],[0.8888888888888888,\"#fdca26\"],[1.0,\"#f0f921\"]],\"sequentialminus\":[[0.0,\"#0d0887\"],[0.1111111111111111,\"#46039f\"],[0.2222222222222222,\"#7201a8\"],[0.3333333333333333,\"#9c179e\"],[0.4444444444444444,\"#bd3786\"],[0.5555555555555556,\"#d8576b\"],[0.6666666666666666,\"#ed7953\"],[0.7777777777777778,\"#fb9f3a\"],[0.8888888888888888,\"#fdca26\"],[1.0,\"#f0f921\"]],\"diverging\":[[0,\"#8e0152\"],[0.1,\"#c51b7d\"],[0.2,\"#de77ae\"],[0.3,\"#f1b6da\"],[0.4,\"#fde0ef\"],[0.5,\"#f7f7f7\"],[0.6,\"#e6f5d0\"],[0.7,\"#b8e186\"],[0.8,\"#7fbc41\"],[0.9,\"#4d9221\"],[1,\"#276419\"]]},\"xaxis\":{\"gridcolor\":\"white\",\"linecolor\":\"white\",\"ticks\":\"\",\"title\":{\"standoff\":15},\"zerolinecolor\":\"white\",\"automargin\":true,\"zerolinewidth\":2},\"yaxis\":{\"gridcolor\":\"white\",\"linecolor\":\"white\",\"ticks\":\"\",\"title\":{\"standoff\":15},\"zerolinecolor\":\"white\",\"automargin\":true,\"zerolinewidth\":2},\"scene\":{\"xaxis\":{\"backgroundcolor\":\"#E5ECF6\",\"gridcolor\":\"white\",\"linecolor\":\"white\",\"showbackground\":true,\"ticks\":\"\",\"zerolinecolor\":\"white\",\"gridwidth\":2},\"yaxis\":{\"backgroundcolor\":\"#E5ECF6\",\"gridcolor\":\"white\",\"linecolor\":\"white\",\"showbackground\":true,\"ticks\":\"\",\"zerolinecolor\":\"white\",\"gridwidth\":2},\"zaxis\":{\"backgroundcolor\":\"#E5ECF6\",\"gridcolor\":\"white\",\"linecolor\":\"white\",\"showbackground\":true,\"ticks\":\"\",\"zerolinecolor\":\"white\",\"gridwidth\":2}},\"shapedefaults\":{\"line\":{\"color\":\"#2a3f5f\"}},\"annotationdefaults\":{\"arrowcolor\":\"#2a3f5f\",\"arrowhead\":0,\"arrowwidth\":1},\"geo\":{\"bgcolor\":\"white\",\"landcolor\":\"#E5ECF6\",\"subunitcolor\":\"white\",\"showland\":true,\"showlakes\":true,\"lakecolor\":\"white\"},\"title\":{\"x\":0.05},\"mapbox\":{\"style\":\"light\"}}},\"xaxis\":{\"anchor\":\"y\",\"domain\":[0.0,1.0],\"title\":{\"text\":\"Working Year\"}},\"yaxis\":{\"anchor\":\"x\",\"domain\":[0.0,1.0],\"title\":{\"text\":\"Mean Salary\"}},\"title\":{\"text\":\"Examining Mean Salary by Year\"},\"height\":600},                        {\"responsive\": true}                    ).then(function(){\n",
       "                            \n",
       "var gd = document.getElementById('10d2ebe3-0ba8-4bc3-994e-95b42a77b02c');\n",
       "var x = new MutationObserver(function (mutations, observer) {{\n",
       "        var display = window.getComputedStyle(gd).display;\n",
       "        if (!display || display === 'none') {{\n",
       "            console.log([gd, 'removed!']);\n",
       "            Plotly.purge(gd);\n",
       "            observer.disconnect();\n",
       "        }}\n",
       "}});\n",
       "\n",
       "// Listen for the removal of the full notebook cells\n",
       "var notebookContainer = gd.closest('#notebook-container');\n",
       "if (notebookContainer) {{\n",
       "    x.observe(notebookContainer, {childList: true});\n",
       "}}\n",
       "\n",
       "// Listen for the clearing of the current output cell\n",
       "var outputEl = gd.closest('.output');\n",
       "if (outputEl) {{\n",
       "    x.observe(outputEl, {childList: true});\n",
       "}}\n",
       "\n",
       "                        })                };                });            </script>        </div>"
      ]
     },
     "metadata": {},
     "output_type": "display_data"
    }
   ],
   "source": [
    "# Understanding Salary Distribution\n",
    "mean_salary = df.groupby('work_year')['salary_in_usd'].mean()\n",
    "\n",
    "# Create subplots with shared x-axis\n",
    "fig = make_subplots()\n",
    "\n",
    "# Add bar trace\n",
    "bar_trace = go.Bar(\n",
    "    x=mean_salary.index,\n",
    "    y=mean_salary.values,\n",
    "    name=\"Mean Salary\",\n",
    "    marker=dict(color='steelblue') \n",
    ")\n",
    "fig.add_trace(bar_trace)\n",
    "\n",
    "# Add line trace\n",
    "line_trace = go.Scatter(\n",
    "    x=mean_salary.index,\n",
    "    y=mean_salary.values,\n",
    "    name=\"Mean Salary\",\n",
    "    mode=\"lines+markers\", \n",
    "    line=dict(color='darkorange'),\n",
    "    marker=dict(symbol='circle-open', size=15)\n",
    ")\n",
    "fig.add_trace(line_trace)\n",
    "\n",
    "# Update layout\n",
    "fig.update_layout(\n",
    "    title=\"Examining Mean Salary by Year\",\n",
    "    xaxis_title=\"Working Year\",\n",
    "    yaxis_title=\"Mean Salary\",\n",
    "    height=600\n",
    ")\n",
    "\n",
    "# Show the combined plot\n",
    "fig.show()"
   ]
  },
  {
   "cell_type": "code",
   "execution_count": 139,
   "id": "d5b5ff29",
   "metadata": {},
   "outputs": [
    {
     "data": {
      "application/vnd.plotly.v1+json": {
       "config": {
        "plotlyServerURL": "https://plot.ly"
       },
       "data": [
        {
         "alignmentgroup": "True",
         "bingroup": "x",
         "hovertemplate": "work_year=2023<br>Experience Level=%{x}<br>count=%{y}<extra></extra>",
         "legendgroup": "",
         "marker": {
          "color": "brown",
          "pattern": {
           "shape": ""
          }
         },
         "name": "",
         "nbinsx": 7,
         "offsetgroup": "",
         "orientation": "v",
         "showlegend": false,
         "textposition": "auto",
         "texttemplate": "%{value}",
         "type": "histogram",
         "x": [
          "SE",
          "MI",
          "MI",
          "SE",
          "SE",
          "SE",
          "SE",
          "SE",
          "SE",
          "SE",
          "SE",
          "SE",
          "SE",
          "EN",
          "EN",
          "SE",
          "SE",
          "SE",
          "SE",
          "MI",
          "MI",
          "SE",
          "SE",
          "SE",
          "SE",
          "SE",
          "SE",
          "SE",
          "SE",
          "SE",
          "SE",
          "SE",
          "SE",
          "SE",
          "SE",
          "MI",
          "MI",
          "MI",
          "MI",
          "EN",
          "EN",
          "EN",
          "EN",
          "SE",
          "SE",
          "SE",
          "SE",
          "SE",
          "SE",
          "SE",
          "SE",
          "SE",
          "SE",
          "SE",
          "SE",
          "SE",
          "SE",
          "EX",
          "EX",
          "SE",
          "SE",
          "SE",
          "SE",
          "SE",
          "SE",
          "SE",
          "SE",
          "SE",
          "SE",
          "SE",
          "SE",
          "SE",
          "SE",
          "SE",
          "SE",
          "SE",
          "SE",
          "SE",
          "SE",
          "MI",
          "SE",
          "MI",
          "MI",
          "SE",
          "SE",
          "SE",
          "SE",
          "SE",
          "SE",
          "SE",
          "SE",
          "SE",
          "SE",
          "EN",
          "EN",
          "SE",
          "SE",
          "SE",
          "SE",
          "SE",
          "SE",
          "SE",
          "SE",
          "SE",
          "SE",
          "SE",
          "SE",
          "SE",
          "SE",
          "SE",
          "SE",
          "EN",
          "SE",
          "SE",
          "SE",
          "SE",
          "SE",
          "SE",
          "SE",
          "SE",
          "SE",
          "SE",
          "SE",
          "SE",
          "SE",
          "SE",
          "MI",
          "MI",
          "SE",
          "SE",
          "SE",
          "SE",
          "MI",
          "MI",
          "EN",
          "EN",
          "SE",
          "SE",
          "EN",
          "EN",
          "SE",
          "SE",
          "SE",
          "SE",
          "SE",
          "SE",
          "SE",
          "SE",
          "SE",
          "SE",
          "MI",
          "MI",
          "MI",
          "MI",
          "MI",
          "MI",
          "SE",
          "SE",
          "SE",
          "SE",
          "SE",
          "SE",
          "SE",
          "SE",
          "MI",
          "MI",
          "SE",
          "SE",
          "SE",
          "SE",
          "SE",
          "SE",
          "SE",
          "SE",
          "SE",
          "SE",
          "SE",
          "SE",
          "MI",
          "MI",
          "MI",
          "MI",
          "EN",
          "EN",
          "SE",
          "SE",
          "MI",
          "MI",
          "SE",
          "SE",
          "SE",
          "SE",
          "MI",
          "MI",
          "SE",
          "SE",
          "SE",
          "SE",
          "SE",
          "EX",
          "EX",
          "MI",
          "MI",
          "SE",
          "SE",
          "SE",
          "SE",
          "SE",
          "SE",
          "SE",
          "SE",
          "SE",
          "SE",
          "EN",
          "SE",
          "MI",
          "SE",
          "SE",
          "SE",
          "SE",
          "SE",
          "SE",
          "SE",
          "SE",
          "EX",
          "EX",
          "SE",
          "SE",
          "SE",
          "SE",
          "MI",
          "SE",
          "SE",
          "EX",
          "EX",
          "SE",
          "SE",
          "SE",
          "SE",
          "SE",
          "SE",
          "SE",
          "SE",
          "SE",
          "SE",
          "EN",
          "EN",
          "SE",
          "SE",
          "SE",
          "SE",
          "SE",
          "SE",
          "SE",
          "SE",
          "SE",
          "SE",
          "SE",
          "SE",
          "SE",
          "SE",
          "SE",
          "SE",
          "SE",
          "SE",
          "SE",
          "SE",
          "SE",
          "SE",
          "EX",
          "EX",
          "SE",
          "SE",
          "SE",
          "SE",
          "SE",
          "SE",
          "SE",
          "SE",
          "SE",
          "SE",
          "SE",
          "SE",
          "SE",
          "SE",
          "SE",
          "SE",
          "SE",
          "SE",
          "SE",
          "SE",
          "EX",
          "EX",
          "SE",
          "SE",
          "SE",
          "SE",
          "SE",
          "SE",
          "SE",
          "SE",
          "SE",
          "SE",
          "SE",
          "SE",
          "SE",
          "SE",
          "SE",
          "SE",
          "SE",
          "SE",
          "SE",
          "SE",
          "SE",
          "SE",
          "SE",
          "SE",
          "EN",
          "SE",
          "MI",
          "MI",
          "EN",
          "SE",
          "SE",
          "SE",
          "SE",
          "SE",
          "SE",
          "EN",
          "EN",
          "MI",
          "MI",
          "SE",
          "SE",
          "EN",
          "EN",
          "SE",
          "SE",
          "SE",
          "SE",
          "SE",
          "SE",
          "EN",
          "EN",
          "SE",
          "SE",
          "SE",
          "SE",
          "SE",
          "SE",
          "SE",
          "SE",
          "SE",
          "SE",
          "MI",
          "SE",
          "SE",
          "SE",
          "SE",
          "MI",
          "MI",
          "MI",
          "MI",
          "SE",
          "SE",
          "MI",
          "MI",
          "SE",
          "SE",
          "SE",
          "SE",
          "SE",
          "SE",
          "SE",
          "SE",
          "SE",
          "SE",
          "SE",
          "SE",
          "SE",
          "SE",
          "MI",
          "MI",
          "EX",
          "EX",
          "MI",
          "EN",
          "SE",
          "SE",
          "EN",
          "EN",
          "MI",
          "MI",
          "SE",
          "SE",
          "SE",
          "SE",
          "SE",
          "SE",
          "EN",
          "EN",
          "SE",
          "SE",
          "SE",
          "SE",
          "EX",
          "EX",
          "SE",
          "SE",
          "SE",
          "SE",
          "SE",
          "SE",
          "EN",
          "EN",
          "SE",
          "SE",
          "SE",
          "SE",
          "EN",
          "EN",
          "SE",
          "SE",
          "SE",
          "SE",
          "SE",
          "SE",
          "MI",
          "MI",
          "SE",
          "SE",
          "SE",
          "SE",
          "SE",
          "SE",
          "SE",
          "SE",
          "SE",
          "SE",
          "SE",
          "SE",
          "SE",
          "SE",
          "MI",
          "MI",
          "SE",
          "SE",
          "MI",
          "MI",
          "SE",
          "SE",
          "EN",
          "EN",
          "SE",
          "SE",
          "SE",
          "SE",
          "SE",
          "SE",
          "MI",
          "MI",
          "SE",
          "SE",
          "MI",
          "MI",
          "EX",
          "EX",
          "SE",
          "SE",
          "SE",
          "SE",
          "EX",
          "EX",
          "MI",
          "MI",
          "SE",
          "SE",
          "MI",
          "MI",
          "SE",
          "SE",
          "SE",
          "SE",
          "SE",
          "SE",
          "EN",
          "SE",
          "SE",
          "MI",
          "MI",
          "SE",
          "SE",
          "SE",
          "SE",
          "SE",
          "SE",
          "SE",
          "SE",
          "SE",
          "SE",
          "SE",
          "SE",
          "SE",
          "SE",
          "SE",
          "SE",
          "SE",
          "SE",
          "EN",
          "EN",
          "SE",
          "SE",
          "SE",
          "SE",
          "SE",
          "SE",
          "MI",
          "MI",
          "SE",
          "SE",
          "MI",
          "SE",
          "SE",
          "SE",
          "SE",
          "SE",
          "SE",
          "SE",
          "SE",
          "SE",
          "MI",
          "MI",
          "MI",
          "MI",
          "SE",
          "SE",
          "SE",
          "SE",
          "SE",
          "SE",
          "SE",
          "SE",
          "SE",
          "SE",
          "MI",
          "MI",
          "EX",
          "EX",
          "SE",
          "SE",
          "SE",
          "SE",
          "MI",
          "MI",
          "MI",
          "MI",
          "MI",
          "MI",
          "SE",
          "SE",
          "SE",
          "SE",
          "SE",
          "SE",
          "SE",
          "SE",
          "EN",
          "EN",
          "SE",
          "SE",
          "MI",
          "MI",
          "MI",
          "MI",
          "EN",
          "EN",
          "MI",
          "MI",
          "MI",
          "MI",
          "SE",
          "SE",
          "EX",
          "EX",
          "EN",
          "SE",
          "SE",
          "MI",
          "MI",
          "EN",
          "EN",
          "SE",
          "SE",
          "EN",
          "EN",
          "MI",
          "MI",
          "MI",
          "SE",
          "SE",
          "SE",
          "SE",
          "EN",
          "EN",
          "SE",
          "SE",
          "EN",
          "EN",
          "SE",
          "SE",
          "SE",
          "SE",
          "MI",
          "MI",
          "SE",
          "SE",
          "SE",
          "SE",
          "MI",
          "MI",
          "SE",
          "SE",
          "SE",
          "SE",
          "SE",
          "SE",
          "SE",
          "SE",
          "SE",
          "SE",
          "SE",
          "SE",
          "SE",
          "SE",
          "SE",
          "SE",
          "SE",
          "SE",
          "SE",
          "SE",
          "SE",
          "SE",
          "SE",
          "SE",
          "SE",
          "SE",
          "SE",
          "SE",
          "EX",
          "EX",
          "SE",
          "SE",
          "EN",
          "EN",
          "SE",
          "SE",
          "SE",
          "SE",
          "SE",
          "SE",
          "SE",
          "SE",
          "SE",
          "SE",
          "MI",
          "MI",
          "SE",
          "SE",
          "SE",
          "SE",
          "SE",
          "SE",
          "SE",
          "SE",
          "MI",
          "MI",
          "MI",
          "MI",
          "SE",
          "SE",
          "MI",
          "MI",
          "SE",
          "SE",
          "EN",
          "EN",
          "SE",
          "SE",
          "SE",
          "SE",
          "MI",
          "MI",
          "SE",
          "SE",
          "MI",
          "MI",
          "MI",
          "MI",
          "EX",
          "EX",
          "MI",
          "MI",
          "SE",
          "SE",
          "MI",
          "SE",
          "SE",
          "SE",
          "SE",
          "SE",
          "SE",
          "SE",
          "SE",
          "SE",
          "SE",
          "SE",
          "SE",
          "MI",
          "MI",
          "MI",
          "MI",
          "SE",
          "SE",
          "MI",
          "SE",
          "SE",
          "MI",
          "EN",
          "EN",
          "MI",
          "MI",
          "MI",
          "SE",
          "SE",
          "SE",
          "SE",
          "EX",
          "EX",
          "EN",
          "EN",
          "SE",
          "SE",
          "EN",
          "EN",
          "MI",
          "MI",
          "SE",
          "SE",
          "SE",
          "SE",
          "SE",
          "SE",
          "SE",
          "SE",
          "SE",
          "SE",
          "MI",
          "MI",
          "MI",
          "MI",
          "SE",
          "SE",
          "SE",
          "SE",
          "SE",
          "SE",
          "SE",
          "SE",
          "SE",
          "SE",
          "SE",
          "SE",
          "SE",
          "SE",
          "SE",
          "SE",
          "SE",
          "SE",
          "MI",
          "MI",
          "SE",
          "SE",
          "SE",
          "SE",
          "MI",
          "MI",
          "EX",
          "EX",
          "SE",
          "SE",
          "SE",
          "SE",
          "MI",
          "MI",
          "SE",
          "SE",
          "SE",
          "SE",
          "SE",
          "MI",
          "MI",
          "MI",
          "MI",
          "SE",
          "SE",
          "EN",
          "EN",
          "MI",
          "MI",
          "SE",
          "SE",
          "SE",
          "SE",
          "MI",
          "MI",
          "SE",
          "SE",
          "SE",
          "SE",
          "SE",
          "SE",
          "SE",
          "SE",
          "SE",
          "SE",
          "EN",
          "MI",
          "MI",
          "SE",
          "SE",
          "MI",
          "MI",
          "SE",
          "SE",
          "MI",
          "MI",
          "SE",
          "SE",
          "MI",
          "MI",
          "MI",
          "SE",
          "SE",
          "SE",
          "SE",
          "SE",
          "EN",
          "SE",
          "SE",
          "EX",
          "EX",
          "SE",
          "SE",
          "EN",
          "EN",
          "SE",
          "SE",
          "MI",
          "MI",
          "SE",
          "SE",
          "SE",
          "SE",
          "MI",
          "MI",
          "MI",
          "MI",
          "SE",
          "SE",
          "SE",
          "SE",
          "SE",
          "SE",
          "EN",
          "EN",
          "MI",
          "MI",
          "MI",
          "MI",
          "SE",
          "SE",
          "SE",
          "SE",
          "SE",
          "SE",
          "MI",
          "MI",
          "SE",
          "SE",
          "MI",
          "MI",
          "SE",
          "SE",
          "SE",
          "SE",
          "SE",
          "SE",
          "MI",
          "MI",
          "SE",
          "SE",
          "MI",
          "MI",
          "SE",
          "SE",
          "MI",
          "MI",
          "SE",
          "SE",
          "SE",
          "SE",
          "SE",
          "SE",
          "SE",
          "SE",
          "SE",
          "SE",
          "MI",
          "MI",
          "SE",
          "SE",
          "MI",
          "MI",
          "SE",
          "SE",
          "EN",
          "EN",
          "SE",
          "SE",
          "SE",
          "SE",
          "SE",
          "SE",
          "SE",
          "SE",
          "SE",
          "SE",
          "SE",
          "SE",
          "SE",
          "SE",
          "SE",
          "SE",
          "MI",
          "MI",
          "SE",
          "SE",
          "SE",
          "SE",
          "SE",
          "SE",
          "SE",
          "SE",
          "SE",
          "SE",
          "SE",
          "SE",
          "EN",
          "MI",
          "MI",
          "SE",
          "SE",
          "SE",
          "SE",
          "SE",
          "SE",
          "SE",
          "SE",
          "SE",
          "EN",
          "SE",
          "EN",
          "SE",
          "SE",
          "SE",
          "MI",
          "MI",
          "SE",
          "SE",
          "SE",
          "SE",
          "SE",
          "SE",
          "MI",
          "SE",
          "SE",
          "SE",
          "SE",
          "SE",
          "SE",
          "SE",
          "SE",
          "SE",
          "EX",
          "EX",
          "SE",
          "SE",
          "SE",
          "SE",
          "SE",
          "SE",
          "SE",
          "SE",
          "SE",
          "SE",
          "MI",
          "MI",
          "SE",
          "SE",
          "SE",
          "SE",
          "SE",
          "SE",
          "SE",
          "SE",
          "SE",
          "SE",
          "SE",
          "SE",
          "EX",
          "EX",
          "SE",
          "SE",
          "SE",
          "SE",
          "SE",
          "SE",
          "SE",
          "SE",
          "SE",
          "SE",
          "SE",
          "SE",
          "MI",
          "MI",
          "SE",
          "SE",
          "SE",
          "SE",
          "SE",
          "SE",
          "SE",
          "SE",
          "SE",
          "SE",
          "SE",
          "SE",
          "SE",
          "SE",
          "SE",
          "SE",
          "SE",
          "SE",
          "MI",
          "MI",
          "SE",
          "SE",
          "SE",
          "SE",
          "SE",
          "SE",
          "SE",
          "SE",
          "SE",
          "SE",
          "SE",
          "SE",
          "SE",
          "SE",
          "SE",
          "SE",
          "SE",
          "SE",
          "SE",
          "SE",
          "MI",
          "MI",
          "SE",
          "SE",
          "SE",
          "SE",
          "SE",
          "SE",
          "SE",
          "SE",
          "SE",
          "SE",
          "SE",
          "SE",
          "SE",
          "SE",
          "MI",
          "SE",
          "SE",
          "EN",
          "EN",
          "SE",
          "SE",
          "SE",
          "SE",
          "SE",
          "SE",
          "SE",
          "SE",
          "MI",
          "MI",
          "SE",
          "SE",
          "MI",
          "MI",
          "SE",
          "SE",
          "SE",
          "SE",
          "SE",
          "SE",
          "SE",
          "SE",
          "MI",
          "MI",
          "SE",
          "SE",
          "SE",
          "SE",
          "SE",
          "SE",
          "SE",
          "SE",
          "SE",
          "SE",
          "MI",
          "MI",
          "SE",
          "SE",
          "SE",
          "SE",
          "EX",
          "EX",
          "SE",
          "SE",
          "SE",
          "SE",
          "MI",
          "MI",
          "SE",
          "SE",
          "MI",
          "MI",
          "EN",
          "EN",
          "SE",
          "SE",
          "SE",
          "SE",
          "SE",
          "SE",
          "MI",
          "MI",
          "SE",
          "SE",
          "SE",
          "SE",
          "SE",
          "SE",
          "SE",
          "SE",
          "SE",
          "SE",
          "SE",
          "SE",
          "SE",
          "SE",
          "MI",
          "MI",
          "MI",
          "MI",
          "SE",
          "SE",
          "SE",
          "SE",
          "EN",
          "EN",
          "SE",
          "SE",
          "SE",
          "SE",
          "SE",
          "SE",
          "MI",
          "EN",
          "EN",
          "SE",
          "SE",
          "SE",
          "SE",
          "SE",
          "SE",
          "SE",
          "SE",
          "SE",
          "SE",
          "SE",
          "SE",
          "SE",
          "SE",
          "EN",
          "EN",
          "SE",
          "SE",
          "SE",
          "SE",
          "SE",
          "EN",
          "SE",
          "SE",
          "SE",
          "SE",
          "EN",
          "EN",
          "SE",
          "SE",
          "MI",
          "MI",
          "SE",
          "SE",
          "SE",
          "SE",
          "SE",
          "SE",
          "SE",
          "SE",
          "SE",
          "SE",
          "MI",
          "MI",
          "SE",
          "SE",
          "SE",
          "SE",
          "EN",
          "SE",
          "MI",
          "SE",
          "SE",
          "EX",
          "EX",
          "SE",
          "SE",
          "SE",
          "SE",
          "SE",
          "SE",
          "SE",
          "SE",
          "SE",
          "SE",
          "MI",
          "MI",
          "MI",
          "MI",
          "EN",
          "EN",
          "EN",
          "SE",
          "SE",
          "SE",
          "SE",
          "SE",
          "SE",
          "SE",
          "SE",
          "MI",
          "MI",
          "SE",
          "SE",
          "SE",
          "SE",
          "SE",
          "SE",
          "SE",
          "SE",
          "SE",
          "SE",
          "EX",
          "EX",
          "SE",
          "SE",
          "SE",
          "SE",
          "MI",
          "SE",
          "SE",
          "SE",
          "SE",
          "SE",
          "SE",
          "MI",
          "MI",
          "SE",
          "SE",
          "MI",
          "MI",
          "SE",
          "EN",
          "SE",
          "SE",
          "MI",
          "MI",
          "MI",
          "MI",
          "EX",
          "EX",
          "SE",
          "SE",
          "SE",
          "SE",
          "MI",
          "MI",
          "MI",
          "MI",
          "SE",
          "SE",
          "EN",
          "SE",
          "SE",
          "SE",
          "SE",
          "EN",
          "MI",
          "MI",
          "SE",
          "SE",
          "EX",
          "EX",
          "SE",
          "SE",
          "SE",
          "SE",
          "SE",
          "SE",
          "SE",
          "SE",
          "SE",
          "SE",
          "SE",
          "SE",
          "SE",
          "SE",
          "SE",
          "SE",
          "MI",
          "MI",
          "SE",
          "SE",
          "EX",
          "EX",
          "SE",
          "SE",
          "SE",
          "SE",
          "SE",
          "SE",
          "SE",
          "SE",
          "SE",
          "SE",
          "MI",
          "SE",
          "SE",
          "MI",
          "MI",
          "SE",
          "SE",
          "SE",
          "SE",
          "EX",
          "EX",
          "SE",
          "SE",
          "SE",
          "SE",
          "EN",
          "EN",
          "EX",
          "EX",
          "MI",
          "MI",
          "SE",
          "SE",
          "SE",
          "SE",
          "EN",
          "SE",
          "SE",
          "EN",
          "EN",
          "SE",
          "SE",
          "SE",
          "SE",
          "SE",
          "SE",
          "SE",
          "SE",
          "SE",
          "SE",
          "EX",
          "EX",
          "SE",
          "SE",
          "MI",
          "MI",
          "SE",
          "SE",
          "SE",
          "SE",
          "SE",
          "SE",
          "SE",
          "SE",
          "MI",
          "MI",
          "SE",
          "SE",
          "SE",
          "SE",
          "SE",
          "SE",
          "SE",
          "SE",
          "SE",
          "SE",
          "SE",
          "SE",
          "SE",
          "SE",
          "SE",
          "SE",
          "SE",
          "MI",
          "EN",
          "MI",
          "MI",
          "SE",
          "SE",
          "MI",
          "MI",
          "SE",
          "SE",
          "SE",
          "SE",
          "SE",
          "SE",
          "SE",
          "SE",
          "SE",
          "SE",
          "EN",
          "EN",
          "MI",
          "MI",
          "MI",
          "SE",
          "SE",
          "SE",
          "SE",
          "SE",
          "SE",
          "SE",
          "SE",
          "SE",
          "SE",
          "SE",
          "SE",
          "SE",
          "SE",
          "SE",
          "SE",
          "SE",
          "SE",
          "SE",
          "SE",
          "MI",
          "MI",
          "SE",
          "SE",
          "SE",
          "SE",
          "EN",
          "MI",
          "MI",
          "SE",
          "SE",
          "MI",
          "MI",
          "SE",
          "SE",
          "SE",
          "SE",
          "MI",
          "MI",
          "SE",
          "SE",
          "EN",
          "SE",
          "SE",
          "SE",
          "SE",
          "MI",
          "MI",
          "SE",
          "SE",
          "SE",
          "SE",
          "SE",
          "SE",
          "MI",
          "MI",
          "SE",
          "SE",
          "SE",
          "MI",
          "EN",
          "MI",
          "SE",
          "SE",
          "SE",
          "SE",
          "SE",
          "SE",
          "SE",
          "SE",
          "SE",
          "SE",
          "SE",
          "SE",
          "MI",
          "SE",
          "SE",
          "SE",
          "SE",
          "EN",
          "EN",
          "MI",
          "MI",
          "SE",
          "SE",
          "SE",
          "SE",
          "SE",
          "SE",
          "MI",
          "MI",
          "SE",
          "SE",
          "MI",
          "MI",
          "SE",
          "SE",
          "SE",
          "SE",
          "SE",
          "SE",
          "SE",
          "SE",
          "SE",
          "SE",
          "SE",
          "SE",
          "MI",
          "SE",
          "SE",
          "SE",
          "SE",
          "SE",
          "SE",
          "SE",
          "SE",
          "EX",
          "EX",
          "MI",
          "MI",
          "SE",
          "SE",
          "SE",
          "SE",
          "SE",
          "SE",
          "MI",
          "MI",
          "MI",
          "MI",
          "SE",
          "SE",
          "SE",
          "SE",
          "SE",
          "SE",
          "SE",
          "SE",
          "MI",
          "MI",
          "EN",
          "SE",
          "SE",
          "SE",
          "SE",
          "SE",
          "SE",
          "SE",
          "SE",
          "SE",
          "SE",
          "SE",
          "SE",
          "SE",
          "SE",
          "SE",
          "SE",
          "SE",
          "SE",
          "EX",
          "EX",
          "SE",
          "SE",
          "MI",
          "MI",
          "MI",
          "MI",
          "SE",
          "SE",
          "SE",
          "SE",
          "MI",
          "MI",
          "SE",
          "SE",
          "SE",
          "SE",
          "MI",
          "MI",
          "SE",
          "SE",
          "SE",
          "SE",
          "SE",
          "SE",
          "SE",
          "SE",
          "SE",
          "SE",
          "SE",
          "SE",
          "SE",
          "SE",
          "MI",
          "SE",
          "SE",
          "SE",
          "SE",
          "MI",
          "MI",
          "SE",
          "SE",
          "SE",
          "SE",
          "SE",
          "SE",
          "SE",
          "SE",
          "MI",
          "MI",
          "SE",
          "SE",
          "MI",
          "MI",
          "MI",
          "SE",
          "SE",
          "SE",
          "SE",
          "MI",
          "MI",
          "SE",
          "SE",
          "SE",
          "SE",
          "SE",
          "SE",
          "SE",
          "SE",
          "SE",
          "SE",
          "SE",
          "SE",
          "SE",
          "SE",
          "SE",
          "SE",
          "MI",
          "MI",
          "SE",
          "SE",
          "SE",
          "SE",
          "SE",
          "SE",
          "MI",
          "MI",
          "SE",
          "SE",
          "SE",
          "SE",
          "EN",
          "EN",
          "SE",
          "SE",
          "EN",
          "EN",
          "SE",
          "SE",
          "EN",
          "EN",
          "SE",
          "SE",
          "SE",
          "SE",
          "SE",
          "SE",
          "SE",
          "SE",
          "SE",
          "SE",
          "MI",
          "MI",
          "SE",
          "SE",
          "SE",
          "SE",
          "SE",
          "SE",
          "SE",
          "SE",
          "SE",
          "SE",
          "SE",
          "SE",
          "SE",
          "SE",
          "SE",
          "SE",
          "SE",
          "SE",
          "SE",
          "SE",
          "SE",
          "SE",
          "SE",
          "SE",
          "SE",
          "SE",
          "SE",
          "SE",
          "MI",
          "MI",
          "SE",
          "SE",
          "MI",
          "MI",
          "SE",
          "SE",
          "SE",
          "SE",
          "SE",
          "SE",
          "SE",
          "SE",
          "MI",
          "MI",
          "SE",
          "SE",
          "MI",
          "MI",
          "EN",
          "EN"
         ],
         "xaxis": "x",
         "yaxis": "y"
        },
        {
         "alignmentgroup": "True",
         "bingroup": "x",
         "hovertemplate": "work_year=2022<br>Experience Level=%{x}<br>count=%{y}<extra></extra>",
         "legendgroup": "",
         "marker": {
          "color": "brown",
          "pattern": {
           "shape": ""
          }
         },
         "name": "",
         "nbinsx": 7,
         "offsetgroup": "",
         "orientation": "v",
         "showlegend": false,
         "textposition": "auto",
         "texttemplate": "%{value}",
         "type": "histogram",
         "x": [
          "MI",
          "EN",
          "EN",
          "SE",
          "SE",
          "EN",
          "MI",
          "SE",
          "SE",
          "EN",
          "MI",
          "EX",
          "SE",
          "EN",
          "EN",
          "SE",
          "EN",
          "MI",
          "MI",
          "SE",
          "EN",
          "EN",
          "MI",
          "MI",
          "EN",
          "MI",
          "EN",
          "SE",
          "MI",
          "EN",
          "MI",
          "SE",
          "SE",
          "SE",
          "SE",
          "SE",
          "SE",
          "SE",
          "SE",
          "SE",
          "SE",
          "SE",
          "SE",
          "SE",
          "SE",
          "SE",
          "SE",
          "SE",
          "SE",
          "SE",
          "SE",
          "MI",
          "MI",
          "MI",
          "MI",
          "SE",
          "SE",
          "MI",
          "MI",
          "EN",
          "EN",
          "SE",
          "SE",
          "SE",
          "SE",
          "SE",
          "SE",
          "MI",
          "MI",
          "SE",
          "SE",
          "MI",
          "MI",
          "SE",
          "SE",
          "MI",
          "MI",
          "EN",
          "SE",
          "MI",
          "MI",
          "EN",
          "EN",
          "EN",
          "SE",
          "SE",
          "EN",
          "EN",
          "SE",
          "SE",
          "SE",
          "SE",
          "MI",
          "MI",
          "SE",
          "SE",
          "SE",
          "SE",
          "SE",
          "SE",
          "SE",
          "SE",
          "EN",
          "MI",
          "MI",
          "MI",
          "MI",
          "MI",
          "MI",
          "SE",
          "SE",
          "SE",
          "SE",
          "SE",
          "SE",
          "SE",
          "SE",
          "SE",
          "SE",
          "SE",
          "SE",
          "MI",
          "MI",
          "SE",
          "SE",
          "MI",
          "MI",
          "EN",
          "MI",
          "MI",
          "SE",
          "SE",
          "SE",
          "SE",
          "EX",
          "EX",
          "MI",
          "MI",
          "SE",
          "SE",
          "SE",
          "SE",
          "EX",
          "EX",
          "SE",
          "SE",
          "SE",
          "SE",
          "SE",
          "SE",
          "SE",
          "SE",
          "MI",
          "MI",
          "SE",
          "SE",
          "MI",
          "SE",
          "SE",
          "SE",
          "MI",
          "MI",
          "SE",
          "SE",
          "SE",
          "SE",
          "SE",
          "SE",
          "SE",
          "SE",
          "SE",
          "SE",
          "MI",
          "MI",
          "SE",
          "SE",
          "EN",
          "EN",
          "SE",
          "SE",
          "MI",
          "SE",
          "SE",
          "SE",
          "SE",
          "SE",
          "SE",
          "SE",
          "SE",
          "SE",
          "SE",
          "SE",
          "SE",
          "MI",
          "MI",
          "SE",
          "SE",
          "SE",
          "SE",
          "MI",
          "MI",
          "SE",
          "SE",
          "SE",
          "SE",
          "EN",
          "EN",
          "SE",
          "SE",
          "EX",
          "EX",
          "SE",
          "SE",
          "SE",
          "SE",
          "SE",
          "SE",
          "MI",
          "MI",
          "SE",
          "SE",
          "MI",
          "MI",
          "SE",
          "SE",
          "SE",
          "SE",
          "EN",
          "SE",
          "SE",
          "MI",
          "MI",
          "SE",
          "EN",
          "MI",
          "MI",
          "SE",
          "SE",
          "EN",
          "EN",
          "MI",
          "MI",
          "EN",
          "EN",
          "SE",
          "SE",
          "SE",
          "SE",
          "SE",
          "SE",
          "EN",
          "SE",
          "SE",
          "MI",
          "MI",
          "SE",
          "SE",
          "SE",
          "SE",
          "SE",
          "SE",
          "SE",
          "SE",
          "SE",
          "SE",
          "SE",
          "SE",
          "SE",
          "SE",
          "SE",
          "SE",
          "SE",
          "SE",
          "SE",
          "SE",
          "SE",
          "SE",
          "SE",
          "MI",
          "MI",
          "MI",
          "MI",
          "MI",
          "MI",
          "SE",
          "SE",
          "MI",
          "MI",
          "SE",
          "SE",
          "MI",
          "MI",
          "EN",
          "EN",
          "SE",
          "SE",
          "SE",
          "SE",
          "SE",
          "SE",
          "SE",
          "SE",
          "MI",
          "MI",
          "MI",
          "MI",
          "SE",
          "SE",
          "SE",
          "SE",
          "SE",
          "SE",
          "SE",
          "SE",
          "SE",
          "SE",
          "MI",
          "SE",
          "SE",
          "SE",
          "SE",
          "MI",
          "MI",
          "MI",
          "MI",
          "SE",
          "SE",
          "SE",
          "EN",
          "SE",
          "SE",
          "SE",
          "SE",
          "SE",
          "SE",
          "EN",
          "SE",
          "SE",
          "MI",
          "MI",
          "SE",
          "SE",
          "SE",
          "SE",
          "MI",
          "MI",
          "SE",
          "SE",
          "SE",
          "SE",
          "SE",
          "SE",
          "SE",
          "SE",
          "SE",
          "SE",
          "MI",
          "MI",
          "SE",
          "SE",
          "SE",
          "SE",
          "MI",
          "MI",
          "MI",
          "MI",
          "SE",
          "SE",
          "SE",
          "SE",
          "SE",
          "SE",
          "SE",
          "SE",
          "SE",
          "SE",
          "SE",
          "SE",
          "MI",
          "SE",
          "SE",
          "SE",
          "SE",
          "SE",
          "SE",
          "EN",
          "EN",
          "SE",
          "SE",
          "MI",
          "MI",
          "SE",
          "SE",
          "MI",
          "MI",
          "SE",
          "SE",
          "SE",
          "SE",
          "EN",
          "EN",
          "MI",
          "MI",
          "MI",
          "MI",
          "SE",
          "SE",
          "SE",
          "SE",
          "SE",
          "SE",
          "EN",
          "EN",
          "SE",
          "SE",
          "SE",
          "SE",
          "SE",
          "SE",
          "SE",
          "SE",
          "MI",
          "SE",
          "SE",
          "SE",
          "SE",
          "MI",
          "MI",
          "SE",
          "SE",
          "SE",
          "SE",
          "MI",
          "MI",
          "SE",
          "SE",
          "SE",
          "SE",
          "SE",
          "SE",
          "EN",
          "MI",
          "MI",
          "SE",
          "SE",
          "SE",
          "SE",
          "MI",
          "MI",
          "SE",
          "SE",
          "MI",
          "MI",
          "SE",
          "SE",
          "SE",
          "SE",
          "SE",
          "SE",
          "EN",
          "MI",
          "SE",
          "SE",
          "MI",
          "MI",
          "SE",
          "SE",
          "MI",
          "MI",
          "SE",
          "SE",
          "MI",
          "MI",
          "EN",
          "EN",
          "MI",
          "MI",
          "SE",
          "SE",
          "MI",
          "MI",
          "MI",
          "MI",
          "SE",
          "SE",
          "EX",
          "EX",
          "SE",
          "SE",
          "SE",
          "SE",
          "SE",
          "SE",
          "MI",
          "MI",
          "SE",
          "SE",
          "SE",
          "SE",
          "SE",
          "SE",
          "SE",
          "SE",
          "SE",
          "SE",
          "SE",
          "SE",
          "SE",
          "SE",
          "SE",
          "SE",
          "SE",
          "SE",
          "SE",
          "MI",
          "MI",
          "SE",
          "SE",
          "SE",
          "SE",
          "MI",
          "MI",
          "EN",
          "SE",
          "SE",
          "SE",
          "SE",
          "SE",
          "SE",
          "SE",
          "SE",
          "SE",
          "SE",
          "SE",
          "SE",
          "SE",
          "SE",
          "SE",
          "SE",
          "SE",
          "SE",
          "SE",
          "SE",
          "SE",
          "SE",
          "SE",
          "SE",
          "SE",
          "SE",
          "SE",
          "SE",
          "SE",
          "SE",
          "EN",
          "EN",
          "MI",
          "MI",
          "SE",
          "SE",
          "SE",
          "SE",
          "SE",
          "SE",
          "EN",
          "SE",
          "SE",
          "SE",
          "SE",
          "SE",
          "SE",
          "SE",
          "SE",
          "SE",
          "MI",
          "MI",
          "SE",
          "SE",
          "SE",
          "SE",
          "SE",
          "SE",
          "SE",
          "SE",
          "EN",
          "MI",
          "EN",
          "EN",
          "SE",
          "SE",
          "SE",
          "SE",
          "SE",
          "SE",
          "SE",
          "SE",
          "MI",
          "MI",
          "SE",
          "SE",
          "SE",
          "SE",
          "SE",
          "SE",
          "SE",
          "SE",
          "SE",
          "SE",
          "SE",
          "SE",
          "SE",
          "SE",
          "SE",
          "SE",
          "SE",
          "SE",
          "MI",
          "MI",
          "MI",
          "MI",
          "MI",
          "MI",
          "MI",
          "SE",
          "SE",
          "MI",
          "MI",
          "EN",
          "EN",
          "SE",
          "SE",
          "SE",
          "SE",
          "SE",
          "SE",
          "SE",
          "SE",
          "SE",
          "SE",
          "SE",
          "MI",
          "MI",
          "MI",
          "MI",
          "MI",
          "MI",
          "SE",
          "SE",
          "SE",
          "SE",
          "SE",
          "SE",
          "EX",
          "EX",
          "SE",
          "SE",
          "EN",
          "EN",
          "SE",
          "SE",
          "SE",
          "SE",
          "SE",
          "SE",
          "SE",
          "SE",
          "SE",
          "SE",
          "SE",
          "SE",
          "SE",
          "SE",
          "MI",
          "MI",
          "SE",
          "SE",
          "MI",
          "EN",
          "EN",
          "SE",
          "SE",
          "SE",
          "SE",
          "SE",
          "SE",
          "SE",
          "SE",
          "EN",
          "SE",
          "SE",
          "SE",
          "SE",
          "SE",
          "SE",
          "SE",
          "SE",
          "SE",
          "SE",
          "SE",
          "SE",
          "SE",
          "SE",
          "SE",
          "SE",
          "SE",
          "SE",
          "MI",
          "EN",
          "SE",
          "SE",
          "SE",
          "SE",
          "SE",
          "SE",
          "SE",
          "SE",
          "SE",
          "SE",
          "MI",
          "MI",
          "SE",
          "SE",
          "SE",
          "SE",
          "SE",
          "SE",
          "SE",
          "SE",
          "EX",
          "EX",
          "EN",
          "EN",
          "MI",
          "MI",
          "SE",
          "SE",
          "SE",
          "SE",
          "SE",
          "SE",
          "SE",
          "SE",
          "SE",
          "SE",
          "SE",
          "SE",
          "SE",
          "SE",
          "SE",
          "SE",
          "SE",
          "SE",
          "MI",
          "MI",
          "MI",
          "SE",
          "SE",
          "SE",
          "SE",
          "MI",
          "MI",
          "SE",
          "SE",
          "SE",
          "SE",
          "MI",
          "MI",
          "SE",
          "SE",
          "SE",
          "SE",
          "SE",
          "SE",
          "MI",
          "MI",
          "EN",
          "SE",
          "EN",
          "SE",
          "EN",
          "SE",
          "SE",
          "SE",
          "SE",
          "SE",
          "SE",
          "SE",
          "SE",
          "SE",
          "SE",
          "SE",
          "SE",
          "EN",
          "SE",
          "SE",
          "SE",
          "MI",
          "MI",
          "SE",
          "SE",
          "MI",
          "MI",
          "SE",
          "SE",
          "SE",
          "SE",
          "SE",
          "SE",
          "SE",
          "SE",
          "SE",
          "SE",
          "SE",
          "SE",
          "SE",
          "SE",
          "SE",
          "SE",
          "SE",
          "SE",
          "SE",
          "SE",
          "SE",
          "SE",
          "SE",
          "SE",
          "SE",
          "SE",
          "SE",
          "SE",
          "SE",
          "SE",
          "SE",
          "SE",
          "SE",
          "SE",
          "SE",
          "SE",
          "SE",
          "SE",
          "MI",
          "MI",
          "SE",
          "SE",
          "SE",
          "SE",
          "SE",
          "SE",
          "SE",
          "SE",
          "MI",
          "MI",
          "MI",
          "MI",
          "EN",
          "SE",
          "MI",
          "MI",
          "MI",
          "SE",
          "SE",
          "SE",
          "SE",
          "SE",
          "SE",
          "SE",
          "MI",
          "SE",
          "SE",
          "EX",
          "SE",
          "SE",
          "SE",
          "SE",
          "SE",
          "SE",
          "SE",
          "SE",
          "SE",
          "SE",
          "SE",
          "SE",
          "MI",
          "SE",
          "SE",
          "SE",
          "SE",
          "SE",
          "MI",
          "SE",
          "MI",
          "MI",
          "SE",
          "SE",
          "MI",
          "MI",
          "SE",
          "SE",
          "SE",
          "SE",
          "SE",
          "SE",
          "MI",
          "MI",
          "SE",
          "SE",
          "EN",
          "SE",
          "SE",
          "SE",
          "SE",
          "SE",
          "SE",
          "EX",
          "EX",
          "MI",
          "SE",
          "SE",
          "SE",
          "SE",
          "SE",
          "SE",
          "SE",
          "SE",
          "EN",
          "SE",
          "SE",
          "SE",
          "SE",
          "SE",
          "SE",
          "SE",
          "SE",
          "SE",
          "SE",
          "SE",
          "SE",
          "SE",
          "SE",
          "SE",
          "SE",
          "SE",
          "SE",
          "SE",
          "SE",
          "SE",
          "SE",
          "SE",
          "SE",
          "SE",
          "EN",
          "SE",
          "SE",
          "SE",
          "SE",
          "SE",
          "SE",
          "SE",
          "SE",
          "SE",
          "SE",
          "SE",
          "SE",
          "SE",
          "SE",
          "SE",
          "SE",
          "SE",
          "SE",
          "SE",
          "SE",
          "SE",
          "SE",
          "SE",
          "SE",
          "SE",
          "SE",
          "SE",
          "SE",
          "MI",
          "MI",
          "MI",
          "MI",
          "SE",
          "SE",
          "SE",
          "SE",
          "MI",
          "MI",
          "EN",
          "SE",
          "SE",
          "EN",
          "SE",
          "SE",
          "SE",
          "SE",
          "SE",
          "SE",
          "SE",
          "SE",
          "SE",
          "SE",
          "EN",
          "SE",
          "SE",
          "SE",
          "SE",
          "MI",
          "SE",
          "EN",
          "SE",
          "SE",
          "MI",
          "MI",
          "SE",
          "SE",
          "MI",
          "MI",
          "SE",
          "SE",
          "SE",
          "SE",
          "SE",
          "SE",
          "SE",
          "SE",
          "SE",
          "EX",
          "EX",
          "MI",
          "MI",
          "SE",
          "SE",
          "EX",
          "EX",
          "SE",
          "EN",
          "EN",
          "MI",
          "MI",
          "EN",
          "SE",
          "SE",
          "SE",
          "SE",
          "MI",
          "MI",
          "SE",
          "SE",
          "SE",
          "MI",
          "MI",
          "SE",
          "SE",
          "SE",
          "SE",
          "SE",
          "SE",
          "SE",
          "SE",
          "SE",
          "SE",
          "SE",
          "SE",
          "SE",
          "SE",
          "MI",
          "SE",
          "SE",
          "MI",
          "EN",
          "EN",
          "SE",
          "SE",
          "SE",
          "SE",
          "SE",
          "SE",
          "SE",
          "SE",
          "SE",
          "SE",
          "SE",
          "SE",
          "SE",
          "SE",
          "MI",
          "MI",
          "MI",
          "MI",
          "MI",
          "MI",
          "MI",
          "SE",
          "SE",
          "SE",
          "SE",
          "SE",
          "SE",
          "SE",
          "SE",
          "SE",
          "SE",
          "SE",
          "SE",
          "SE",
          "SE",
          "SE",
          "EN",
          "SE",
          "SE",
          "EN",
          "EN",
          "EX",
          "EX",
          "EX",
          "SE",
          "SE",
          "SE",
          "SE",
          "MI",
          "MI",
          "SE",
          "SE",
          "SE",
          "SE",
          "SE",
          "SE",
          "SE",
          "SE",
          "MI",
          "MI",
          "MI",
          "SE",
          "SE",
          "MI",
          "MI",
          "MI",
          "SE",
          "SE",
          "SE",
          "SE",
          "SE",
          "SE",
          "SE",
          "MI",
          "SE",
          "SE",
          "SE",
          "SE",
          "MI",
          "MI",
          "MI",
          "SE",
          "SE",
          "SE",
          "SE",
          "SE",
          "SE",
          "SE",
          "SE",
          "SE",
          "SE",
          "SE",
          "MI",
          "EN",
          "EN",
          "MI",
          "SE",
          "SE",
          "SE",
          "SE",
          "EN",
          "MI",
          "MI",
          "SE",
          "SE",
          "EX",
          "EX",
          "SE",
          "SE",
          "MI",
          "MI",
          "SE",
          "SE",
          "SE",
          "SE",
          "SE",
          "SE",
          "SE",
          "SE",
          "SE",
          "SE",
          "SE",
          "SE",
          "SE",
          "SE",
          "SE",
          "SE",
          "SE",
          "SE",
          "SE",
          "SE",
          "MI",
          "MI",
          "SE",
          "SE",
          "SE",
          "SE",
          "SE",
          "SE",
          "EN",
          "SE",
          "SE",
          "SE",
          "SE",
          "SE",
          "SE",
          "SE",
          "SE",
          "MI",
          "SE",
          "SE",
          "MI",
          "SE",
          "SE",
          "SE",
          "SE",
          "SE",
          "SE",
          "EN",
          "EN",
          "MI",
          "SE",
          "SE",
          "SE",
          "SE",
          "SE",
          "SE",
          "MI",
          "MI",
          "SE",
          "SE",
          "SE",
          "SE",
          "SE",
          "SE",
          "EN",
          "MI",
          "MI",
          "SE",
          "SE",
          "MI",
          "MI",
          "SE",
          "SE",
          "EN",
          "MI",
          "EN",
          "EX",
          "MI",
          "SE",
          "EX",
          "EX",
          "SE",
          "SE",
          "EN",
          "MI",
          "SE",
          "EN",
          "MI",
          "SE",
          "SE",
          "MI",
          "MI",
          "SE",
          "SE",
          "SE",
          "SE",
          "SE",
          "SE",
          "EN",
          "SE",
          "SE",
          "SE",
          "SE",
          "SE",
          "SE",
          "EN",
          "EN",
          "MI",
          "MI",
          "MI",
          "SE",
          "SE",
          "SE",
          "SE",
          "MI",
          "SE",
          "SE",
          "SE",
          "SE",
          "SE",
          "SE",
          "SE",
          "SE",
          "SE",
          "SE",
          "MI",
          "MI",
          "SE",
          "SE",
          "EN",
          "EN",
          "SE",
          "SE",
          "SE",
          "MI",
          "MI",
          "MI",
          "EN",
          "MI",
          "SE",
          "SE",
          "SE",
          "SE",
          "MI",
          "SE",
          "SE",
          "SE",
          "SE",
          "EN",
          "SE",
          "SE",
          "SE",
          "EN",
          "MI",
          "MI",
          "SE",
          "SE",
          "SE",
          "SE",
          "SE",
          "SE",
          "SE",
          "SE",
          "MI",
          "MI",
          "MI",
          "MI",
          "MI",
          "SE",
          "SE",
          "SE",
          "SE",
          "MI",
          "MI",
          "SE",
          "SE",
          "SE",
          "SE",
          "SE",
          "SE",
          "SE",
          "SE",
          "MI",
          "SE",
          "SE",
          "SE",
          "SE",
          "SE",
          "SE",
          "MI",
          "MI",
          "EX",
          "SE",
          "SE",
          "SE",
          "SE",
          "SE",
          "SE",
          "SE",
          "SE",
          "EX",
          "EN",
          "SE",
          "SE",
          "MI",
          "MI",
          "MI",
          "MI",
          "MI",
          "MI",
          "MI",
          "MI",
          "MI",
          "MI",
          "SE",
          "SE",
          "MI",
          "MI",
          "MI",
          "MI",
          "SE",
          "SE",
          "MI",
          "MI",
          "SE",
          "SE",
          "MI",
          "MI",
          "MI",
          "MI",
          "MI",
          "MI",
          "SE",
          "MI",
          "MI",
          "MI",
          "MI",
          "MI",
          "MI",
          "SE",
          "SE",
          "MI",
          "MI",
          "SE",
          "SE",
          "EX",
          "EX",
          "MI",
          "MI",
          "MI",
          "MI",
          "SE",
          "SE",
          "SE",
          "SE",
          "SE",
          "SE",
          "SE",
          "SE",
          "SE",
          "SE",
          "MI",
          "MI",
          "SE",
          "SE",
          "SE",
          "SE",
          "MI",
          "MI",
          "MI",
          "MI",
          "SE",
          "SE",
          "SE",
          "SE",
          "SE",
          "SE",
          "SE",
          "SE",
          "EN",
          "EN",
          "EX",
          "EX",
          "SE",
          "SE",
          "SE",
          "SE",
          "SE",
          "SE",
          "SE",
          "SE",
          "SE",
          "SE",
          "SE",
          "SE",
          "SE",
          "SE",
          "SE",
          "SE",
          "SE",
          "SE",
          "SE",
          "SE",
          "MI",
          "MI",
          "SE",
          "SE",
          "SE",
          "SE",
          "SE",
          "SE",
          "SE",
          "SE",
          "SE",
          "SE",
          "SE",
          "SE",
          "EX",
          "EX",
          "EX",
          "EX",
          "SE",
          "SE",
          "SE",
          "SE",
          "SE",
          "SE",
          "SE",
          "SE",
          "SE",
          "SE",
          "SE",
          "SE",
          "SE",
          "SE",
          "SE",
          "SE",
          "SE",
          "SE",
          "SE",
          "SE",
          "SE",
          "SE",
          "SE",
          "SE",
          "MI",
          "MI",
          "SE",
          "SE",
          "SE",
          "SE",
          "SE",
          "SE",
          "MI",
          "MI",
          "SE",
          "SE",
          "MI",
          "MI",
          "SE",
          "SE",
          "MI",
          "MI",
          "SE",
          "SE",
          "SE",
          "SE",
          "SE",
          "SE",
          "SE",
          "SE",
          "SE",
          "SE",
          "MI",
          "MI",
          "EN",
          "EN",
          "SE",
          "SE",
          "SE",
          "SE",
          "SE",
          "SE",
          "SE",
          "SE",
          "SE",
          "SE",
          "SE",
          "SE",
          "SE",
          "SE",
          "SE",
          "SE",
          "SE",
          "SE",
          "SE",
          "SE",
          "SE",
          "SE",
          "SE",
          "SE",
          "SE",
          "SE",
          "SE",
          "SE",
          "MI",
          "MI",
          "SE",
          "SE",
          "MI",
          "MI",
          "SE",
          "SE",
          "MI",
          "MI",
          "SE",
          "SE",
          "EX",
          "EX",
          "SE",
          "SE",
          "SE",
          "SE",
          "SE",
          "SE",
          "MI",
          "EX",
          "MI",
          "MI",
          "MI",
          "MI",
          "MI",
          "EN",
          "MI",
          "MI",
          "MI",
          "EN",
          "SE",
          "MI",
          "EN",
          "MI",
          "SE",
          "EN",
          "MI",
          "SE",
          "SE",
          "MI",
          "EN",
          "MI",
          "SE",
          "SE",
          "EN",
          "SE",
          "MI",
          "SE",
          "SE",
          "MI",
          "MI",
          "EN",
          "EN",
          "MI",
          "SE",
          "EN",
          "MI",
          "SE",
          "SE",
          "MI",
          "SE",
          "MI",
          "MI",
          "EN",
          "EN",
          "MI",
          "EN",
          "SE",
          "SE",
          "EN",
          "EN",
          "SE",
          "EN",
          "EN"
         ],
         "xaxis": "x2",
         "yaxis": "y2"
        },
        {
         "alignmentgroup": "True",
         "bingroup": "x",
         "hovertemplate": "work_year=2020<br>Experience Level=%{x}<br>count=%{y}<extra></extra>",
         "legendgroup": "",
         "marker": {
          "color": "brown",
          "pattern": {
           "shape": ""
          }
         },
         "name": "",
         "nbinsx": 7,
         "offsetgroup": "",
         "orientation": "v",
         "showlegend": false,
         "textposition": "auto",
         "texttemplate": "%{value}",
         "type": "histogram",
         "x": [
          "EX",
          "MI",
          "EN",
          "EN",
          "EN",
          "EN",
          "SE",
          "EN",
          "MI",
          "MI",
          "EN",
          "SE",
          "MI",
          "MI",
          "MI",
          "MI",
          "EN",
          "EN",
          "EN",
          "MI",
          "EX",
          "MI",
          "MI",
          "MI",
          "EN",
          "MI",
          "SE",
          "MI",
          "MI",
          "EN",
          "SE",
          "EN",
          "EN",
          "MI",
          "SE",
          "SE",
          "MI",
          "SE",
          "EN",
          "SE",
          "MI",
          "MI",
          "SE",
          "EN",
          "MI",
          "EN",
          "MI",
          "MI",
          "MI",
          "EN",
          "SE",
          "EN",
          "MI",
          "MI",
          "SE",
          "MI",
          "EX",
          "EN",
          "MI",
          "EN",
          "EN",
          "MI",
          "SE",
          "SE",
          "SE",
          "MI",
          "SE",
          "MI",
          "SE",
          "MI",
          "MI",
          "MI",
          "SE",
          "SE",
          "EN",
          "EN"
         ],
         "xaxis": "x3",
         "yaxis": "y3"
        },
        {
         "alignmentgroup": "True",
         "bingroup": "x",
         "hovertemplate": "work_year=2021<br>Experience Level=%{x}<br>count=%{y}<extra></extra>",
         "legendgroup": "",
         "marker": {
          "color": "brown",
          "pattern": {
           "shape": ""
          }
         },
         "name": "",
         "nbinsx": 7,
         "offsetgroup": "",
         "orientation": "v",
         "showlegend": false,
         "textposition": "auto",
         "texttemplate": "%{value}",
         "type": "histogram",
         "x": [
          "MI",
          "MI",
          "EN",
          "SE",
          "MI",
          "SE",
          "EN",
          "MI",
          "EN",
          "MI",
          "EN",
          "EN",
          "EN",
          "EN",
          "EN",
          "SE",
          "EN",
          "SE",
          "MI",
          "MI",
          "SE",
          "MI",
          "SE",
          "SE",
          "MI",
          "EN",
          "SE",
          "MI",
          "MI",
          "MI",
          "EN",
          "SE",
          "MI",
          "MI",
          "EN",
          "SE",
          "EN",
          "MI",
          "SE",
          "EN",
          "EN",
          "EN",
          "SE",
          "MI",
          "MI",
          "EN",
          "MI",
          "SE",
          "MI",
          "MI",
          "MI",
          "MI",
          "EN",
          "EX",
          "EN",
          "EX",
          "EN",
          "EX",
          "EX",
          "EN",
          "SE",
          "SE",
          "SE",
          "EN",
          "MI",
          "MI",
          "SE",
          "MI",
          "EN",
          "EN",
          "MI",
          "EN",
          "MI",
          "MI",
          "MI",
          "MI",
          "EX",
          "MI",
          "MI",
          "EN",
          "EN",
          "SE",
          "MI",
          "SE",
          "SE",
          "EN",
          "MI",
          "SE",
          "EX",
          "EX",
          "EN",
          "EN",
          "SE",
          "SE",
          "SE",
          "SE",
          "EN",
          "SE",
          "SE",
          "MI",
          "MI",
          "MI",
          "SE",
          "MI",
          "EN",
          "MI",
          "EN",
          "SE",
          "SE",
          "MI",
          "SE",
          "MI",
          "EN",
          "SE",
          "EN",
          "SE",
          "SE",
          "MI",
          "EN",
          "MI",
          "SE",
          "SE",
          "MI",
          "SE",
          "EN",
          "MI",
          "MI",
          "MI",
          "SE",
          "SE",
          "SE",
          "MI",
          "EN",
          "SE",
          "MI",
          "EN",
          "MI",
          "SE",
          "SE",
          "EN",
          "EN",
          "SE",
          "EN",
          "EN",
          "SE",
          "EN",
          "MI",
          "MI",
          "MI",
          "SE",
          "MI",
          "SE",
          "MI",
          "SE",
          "EX",
          "EN",
          "SE",
          "SE",
          "EN",
          "SE",
          "SE",
          "EN",
          "MI",
          "SE",
          "SE",
          "EN",
          "EX",
          "SE",
          "MI",
          "MI",
          "MI",
          "MI",
          "EN",
          "MI",
          "EN",
          "MI",
          "SE",
          "MI",
          "EX",
          "SE",
          "MI",
          "MI",
          "MI",
          "MI",
          "MI",
          "EN",
          "MI",
          "MI",
          "MI",
          "MI",
          "SE",
          "MI",
          "SE",
          "MI",
          "SE",
          "MI",
          "MI",
          "SE",
          "EN",
          "SE",
          "MI",
          "SE",
          "SE",
          "SE",
          "MI",
          "SE",
          "MI",
          "SE",
          "MI",
          "MI",
          "SE",
          "EN",
          "SE",
          "MI",
          "EN",
          "MI",
          "SE",
          "MI",
          "EN",
          "MI",
          "MI",
          "MI",
          "MI",
          "SE",
          "MI",
          "MI",
          "MI",
          "SE",
          "MI",
          "SE"
         ],
         "xaxis": "x4",
         "yaxis": "y4"
        }
       ],
       "layout": {
        "annotations": [
         {
          "font": {},
          "showarrow": false,
          "text": "work_year=2023",
          "x": 0.1175,
          "xanchor": "center",
          "xref": "paper",
          "y": 1,
          "yanchor": "bottom",
          "yref": "paper"
         },
         {
          "font": {},
          "showarrow": false,
          "text": "work_year=2022",
          "x": 0.3725,
          "xanchor": "center",
          "xref": "paper",
          "y": 1,
          "yanchor": "bottom",
          "yref": "paper"
         },
         {
          "font": {},
          "showarrow": false,
          "text": "work_year=2020",
          "x": 0.6275,
          "xanchor": "center",
          "xref": "paper",
          "y": 1,
          "yanchor": "bottom",
          "yref": "paper"
         },
         {
          "font": {},
          "showarrow": false,
          "text": "work_year=2021",
          "x": 0.8824999999999998,
          "xanchor": "center",
          "xref": "paper",
          "y": 1,
          "yanchor": "bottom",
          "yref": "paper"
         }
        ],
        "barmode": "relative",
        "legend": {
         "tracegroupgap": 0
        },
        "template": {
         "data": {
          "bar": [
           {
            "error_x": {
             "color": "#2a3f5f"
            },
            "error_y": {
             "color": "#2a3f5f"
            },
            "marker": {
             "line": {
              "color": "#E5ECF6",
              "width": 0.5
             },
             "pattern": {
              "fillmode": "overlay",
              "size": 10,
              "solidity": 0.2
             }
            },
            "type": "bar"
           }
          ],
          "barpolar": [
           {
            "marker": {
             "line": {
              "color": "#E5ECF6",
              "width": 0.5
             },
             "pattern": {
              "fillmode": "overlay",
              "size": 10,
              "solidity": 0.2
             }
            },
            "type": "barpolar"
           }
          ],
          "carpet": [
           {
            "aaxis": {
             "endlinecolor": "#2a3f5f",
             "gridcolor": "white",
             "linecolor": "white",
             "minorgridcolor": "white",
             "startlinecolor": "#2a3f5f"
            },
            "baxis": {
             "endlinecolor": "#2a3f5f",
             "gridcolor": "white",
             "linecolor": "white",
             "minorgridcolor": "white",
             "startlinecolor": "#2a3f5f"
            },
            "type": "carpet"
           }
          ],
          "choropleth": [
           {
            "colorbar": {
             "outlinewidth": 0,
             "ticks": ""
            },
            "type": "choropleth"
           }
          ],
          "contour": [
           {
            "colorbar": {
             "outlinewidth": 0,
             "ticks": ""
            },
            "colorscale": [
             [
              0,
              "#0d0887"
             ],
             [
              0.1111111111111111,
              "#46039f"
             ],
             [
              0.2222222222222222,
              "#7201a8"
             ],
             [
              0.3333333333333333,
              "#9c179e"
             ],
             [
              0.4444444444444444,
              "#bd3786"
             ],
             [
              0.5555555555555556,
              "#d8576b"
             ],
             [
              0.6666666666666666,
              "#ed7953"
             ],
             [
              0.7777777777777778,
              "#fb9f3a"
             ],
             [
              0.8888888888888888,
              "#fdca26"
             ],
             [
              1,
              "#f0f921"
             ]
            ],
            "type": "contour"
           }
          ],
          "contourcarpet": [
           {
            "colorbar": {
             "outlinewidth": 0,
             "ticks": ""
            },
            "type": "contourcarpet"
           }
          ],
          "heatmap": [
           {
            "colorbar": {
             "outlinewidth": 0,
             "ticks": ""
            },
            "colorscale": [
             [
              0,
              "#0d0887"
             ],
             [
              0.1111111111111111,
              "#46039f"
             ],
             [
              0.2222222222222222,
              "#7201a8"
             ],
             [
              0.3333333333333333,
              "#9c179e"
             ],
             [
              0.4444444444444444,
              "#bd3786"
             ],
             [
              0.5555555555555556,
              "#d8576b"
             ],
             [
              0.6666666666666666,
              "#ed7953"
             ],
             [
              0.7777777777777778,
              "#fb9f3a"
             ],
             [
              0.8888888888888888,
              "#fdca26"
             ],
             [
              1,
              "#f0f921"
             ]
            ],
            "type": "heatmap"
           }
          ],
          "heatmapgl": [
           {
            "colorbar": {
             "outlinewidth": 0,
             "ticks": ""
            },
            "colorscale": [
             [
              0,
              "#0d0887"
             ],
             [
              0.1111111111111111,
              "#46039f"
             ],
             [
              0.2222222222222222,
              "#7201a8"
             ],
             [
              0.3333333333333333,
              "#9c179e"
             ],
             [
              0.4444444444444444,
              "#bd3786"
             ],
             [
              0.5555555555555556,
              "#d8576b"
             ],
             [
              0.6666666666666666,
              "#ed7953"
             ],
             [
              0.7777777777777778,
              "#fb9f3a"
             ],
             [
              0.8888888888888888,
              "#fdca26"
             ],
             [
              1,
              "#f0f921"
             ]
            ],
            "type": "heatmapgl"
           }
          ],
          "histogram": [
           {
            "marker": {
             "pattern": {
              "fillmode": "overlay",
              "size": 10,
              "solidity": 0.2
             }
            },
            "type": "histogram"
           }
          ],
          "histogram2d": [
           {
            "colorbar": {
             "outlinewidth": 0,
             "ticks": ""
            },
            "colorscale": [
             [
              0,
              "#0d0887"
             ],
             [
              0.1111111111111111,
              "#46039f"
             ],
             [
              0.2222222222222222,
              "#7201a8"
             ],
             [
              0.3333333333333333,
              "#9c179e"
             ],
             [
              0.4444444444444444,
              "#bd3786"
             ],
             [
              0.5555555555555556,
              "#d8576b"
             ],
             [
              0.6666666666666666,
              "#ed7953"
             ],
             [
              0.7777777777777778,
              "#fb9f3a"
             ],
             [
              0.8888888888888888,
              "#fdca26"
             ],
             [
              1,
              "#f0f921"
             ]
            ],
            "type": "histogram2d"
           }
          ],
          "histogram2dcontour": [
           {
            "colorbar": {
             "outlinewidth": 0,
             "ticks": ""
            },
            "colorscale": [
             [
              0,
              "#0d0887"
             ],
             [
              0.1111111111111111,
              "#46039f"
             ],
             [
              0.2222222222222222,
              "#7201a8"
             ],
             [
              0.3333333333333333,
              "#9c179e"
             ],
             [
              0.4444444444444444,
              "#bd3786"
             ],
             [
              0.5555555555555556,
              "#d8576b"
             ],
             [
              0.6666666666666666,
              "#ed7953"
             ],
             [
              0.7777777777777778,
              "#fb9f3a"
             ],
             [
              0.8888888888888888,
              "#fdca26"
             ],
             [
              1,
              "#f0f921"
             ]
            ],
            "type": "histogram2dcontour"
           }
          ],
          "mesh3d": [
           {
            "colorbar": {
             "outlinewidth": 0,
             "ticks": ""
            },
            "type": "mesh3d"
           }
          ],
          "parcoords": [
           {
            "line": {
             "colorbar": {
              "outlinewidth": 0,
              "ticks": ""
             }
            },
            "type": "parcoords"
           }
          ],
          "pie": [
           {
            "automargin": true,
            "type": "pie"
           }
          ],
          "scatter": [
           {
            "fillpattern": {
             "fillmode": "overlay",
             "size": 10,
             "solidity": 0.2
            },
            "type": "scatter"
           }
          ],
          "scatter3d": [
           {
            "line": {
             "colorbar": {
              "outlinewidth": 0,
              "ticks": ""
             }
            },
            "marker": {
             "colorbar": {
              "outlinewidth": 0,
              "ticks": ""
             }
            },
            "type": "scatter3d"
           }
          ],
          "scattercarpet": [
           {
            "marker": {
             "colorbar": {
              "outlinewidth": 0,
              "ticks": ""
             }
            },
            "type": "scattercarpet"
           }
          ],
          "scattergeo": [
           {
            "marker": {
             "colorbar": {
              "outlinewidth": 0,
              "ticks": ""
             }
            },
            "type": "scattergeo"
           }
          ],
          "scattergl": [
           {
            "marker": {
             "colorbar": {
              "outlinewidth": 0,
              "ticks": ""
             }
            },
            "type": "scattergl"
           }
          ],
          "scattermapbox": [
           {
            "marker": {
             "colorbar": {
              "outlinewidth": 0,
              "ticks": ""
             }
            },
            "type": "scattermapbox"
           }
          ],
          "scatterpolar": [
           {
            "marker": {
             "colorbar": {
              "outlinewidth": 0,
              "ticks": ""
             }
            },
            "type": "scatterpolar"
           }
          ],
          "scatterpolargl": [
           {
            "marker": {
             "colorbar": {
              "outlinewidth": 0,
              "ticks": ""
             }
            },
            "type": "scatterpolargl"
           }
          ],
          "scatterternary": [
           {
            "marker": {
             "colorbar": {
              "outlinewidth": 0,
              "ticks": ""
             }
            },
            "type": "scatterternary"
           }
          ],
          "surface": [
           {
            "colorbar": {
             "outlinewidth": 0,
             "ticks": ""
            },
            "colorscale": [
             [
              0,
              "#0d0887"
             ],
             [
              0.1111111111111111,
              "#46039f"
             ],
             [
              0.2222222222222222,
              "#7201a8"
             ],
             [
              0.3333333333333333,
              "#9c179e"
             ],
             [
              0.4444444444444444,
              "#bd3786"
             ],
             [
              0.5555555555555556,
              "#d8576b"
             ],
             [
              0.6666666666666666,
              "#ed7953"
             ],
             [
              0.7777777777777778,
              "#fb9f3a"
             ],
             [
              0.8888888888888888,
              "#fdca26"
             ],
             [
              1,
              "#f0f921"
             ]
            ],
            "type": "surface"
           }
          ],
          "table": [
           {
            "cells": {
             "fill": {
              "color": "#EBF0F8"
             },
             "line": {
              "color": "white"
             }
            },
            "header": {
             "fill": {
              "color": "#C8D4E3"
             },
             "line": {
              "color": "white"
             }
            },
            "type": "table"
           }
          ]
         },
         "layout": {
          "annotationdefaults": {
           "arrowcolor": "#2a3f5f",
           "arrowhead": 0,
           "arrowwidth": 1
          },
          "autotypenumbers": "strict",
          "coloraxis": {
           "colorbar": {
            "outlinewidth": 0,
            "ticks": ""
           }
          },
          "colorscale": {
           "diverging": [
            [
             0,
             "#8e0152"
            ],
            [
             0.1,
             "#c51b7d"
            ],
            [
             0.2,
             "#de77ae"
            ],
            [
             0.3,
             "#f1b6da"
            ],
            [
             0.4,
             "#fde0ef"
            ],
            [
             0.5,
             "#f7f7f7"
            ],
            [
             0.6,
             "#e6f5d0"
            ],
            [
             0.7,
             "#b8e186"
            ],
            [
             0.8,
             "#7fbc41"
            ],
            [
             0.9,
             "#4d9221"
            ],
            [
             1,
             "#276419"
            ]
           ],
           "sequential": [
            [
             0,
             "#0d0887"
            ],
            [
             0.1111111111111111,
             "#46039f"
            ],
            [
             0.2222222222222222,
             "#7201a8"
            ],
            [
             0.3333333333333333,
             "#9c179e"
            ],
            [
             0.4444444444444444,
             "#bd3786"
            ],
            [
             0.5555555555555556,
             "#d8576b"
            ],
            [
             0.6666666666666666,
             "#ed7953"
            ],
            [
             0.7777777777777778,
             "#fb9f3a"
            ],
            [
             0.8888888888888888,
             "#fdca26"
            ],
            [
             1,
             "#f0f921"
            ]
           ],
           "sequentialminus": [
            [
             0,
             "#0d0887"
            ],
            [
             0.1111111111111111,
             "#46039f"
            ],
            [
             0.2222222222222222,
             "#7201a8"
            ],
            [
             0.3333333333333333,
             "#9c179e"
            ],
            [
             0.4444444444444444,
             "#bd3786"
            ],
            [
             0.5555555555555556,
             "#d8576b"
            ],
            [
             0.6666666666666666,
             "#ed7953"
            ],
            [
             0.7777777777777778,
             "#fb9f3a"
            ],
            [
             0.8888888888888888,
             "#fdca26"
            ],
            [
             1,
             "#f0f921"
            ]
           ]
          },
          "colorway": [
           "#636efa",
           "#EF553B",
           "#00cc96",
           "#ab63fa",
           "#FFA15A",
           "#19d3f3",
           "#FF6692",
           "#B6E880",
           "#FF97FF",
           "#FECB52"
          ],
          "font": {
           "color": "#2a3f5f"
          },
          "geo": {
           "bgcolor": "white",
           "lakecolor": "white",
           "landcolor": "#E5ECF6",
           "showlakes": true,
           "showland": true,
           "subunitcolor": "white"
          },
          "hoverlabel": {
           "align": "left"
          },
          "hovermode": "closest",
          "mapbox": {
           "style": "light"
          },
          "paper_bgcolor": "white",
          "plot_bgcolor": "#E5ECF6",
          "polar": {
           "angularaxis": {
            "gridcolor": "white",
            "linecolor": "white",
            "ticks": ""
           },
           "bgcolor": "#E5ECF6",
           "radialaxis": {
            "gridcolor": "white",
            "linecolor": "white",
            "ticks": ""
           }
          },
          "scene": {
           "xaxis": {
            "backgroundcolor": "#E5ECF6",
            "gridcolor": "white",
            "gridwidth": 2,
            "linecolor": "white",
            "showbackground": true,
            "ticks": "",
            "zerolinecolor": "white"
           },
           "yaxis": {
            "backgroundcolor": "#E5ECF6",
            "gridcolor": "white",
            "gridwidth": 2,
            "linecolor": "white",
            "showbackground": true,
            "ticks": "",
            "zerolinecolor": "white"
           },
           "zaxis": {
            "backgroundcolor": "#E5ECF6",
            "gridcolor": "white",
            "gridwidth": 2,
            "linecolor": "white",
            "showbackground": true,
            "ticks": "",
            "zerolinecolor": "white"
           }
          },
          "shapedefaults": {
           "line": {
            "color": "#2a3f5f"
           }
          },
          "ternary": {
           "aaxis": {
            "gridcolor": "white",
            "linecolor": "white",
            "ticks": ""
           },
           "baxis": {
            "gridcolor": "white",
            "linecolor": "white",
            "ticks": ""
           },
           "bgcolor": "#E5ECF6",
           "caxis": {
            "gridcolor": "white",
            "linecolor": "white",
            "ticks": ""
           }
          },
          "title": {
           "x": 0.05
          },
          "xaxis": {
           "automargin": true,
           "gridcolor": "white",
           "linecolor": "white",
           "ticks": "",
           "title": {
            "standoff": 15
           },
           "zerolinecolor": "white",
           "zerolinewidth": 2
          },
          "yaxis": {
           "automargin": true,
           "gridcolor": "white",
           "linecolor": "white",
           "ticks": "",
           "title": {
            "standoff": 15
           },
           "zerolinecolor": "white",
           "zerolinewidth": 2
          }
         }
        },
        "title": {
         "text": "Distribution of Experience Levels across Work Years"
        },
        "xaxis": {
         "anchor": "y",
         "domain": [
          0,
          0.235
         ],
         "title": {
          "text": "Experience Level"
         }
        },
        "xaxis2": {
         "anchor": "y2",
         "domain": [
          0.255,
          0.49
         ],
         "matches": "x",
         "title": {
          "text": "Experience Level"
         }
        },
        "xaxis3": {
         "anchor": "y3",
         "domain": [
          0.51,
          0.745
         ],
         "matches": "x",
         "title": {
          "text": "Experience Level"
         }
        },
        "xaxis4": {
         "anchor": "y4",
         "domain": [
          0.7649999999999999,
          0.9999999999999999
         ],
         "matches": "x",
         "title": {
          "text": "Experience Level"
         }
        },
        "yaxis": {
         "anchor": "x",
         "domain": [
          0,
          1
         ],
         "title": {
          "text": "Count"
         }
        },
        "yaxis2": {
         "anchor": "x2",
         "domain": [
          0,
          1
         ],
         "matches": "y",
         "showticklabels": false
        },
        "yaxis3": {
         "anchor": "x3",
         "domain": [
          0,
          1
         ],
         "matches": "y",
         "showticklabels": false
        },
        "yaxis4": {
         "anchor": "x4",
         "domain": [
          0,
          1
         ],
         "matches": "y",
         "showticklabels": false
        }
       }
      },
      "text/html": [
       "<div>                            <div id=\"261ac719-9159-467b-9abd-8020732e567b\" class=\"plotly-graph-div\" style=\"height:525px; width:100%;\"></div>            <script type=\"text/javascript\">                require([\"plotly\"], function(Plotly) {                    window.PLOTLYENV=window.PLOTLYENV || {};                                    if (document.getElementById(\"261ac719-9159-467b-9abd-8020732e567b\")) {                    Plotly.newPlot(                        \"261ac719-9159-467b-9abd-8020732e567b\",                        [{\"alignmentgroup\":\"True\",\"bingroup\":\"x\",\"hovertemplate\":\"work_year=2023<br>Experience Level=%{x}<br>count=%{y}<extra></extra>\",\"legendgroup\":\"\",\"marker\":{\"color\":\"brown\",\"pattern\":{\"shape\":\"\"}},\"name\":\"\",\"nbinsx\":7,\"offsetgroup\":\"\",\"orientation\":\"v\",\"showlegend\":false,\"texttemplate\":\"%{value}\",\"x\":[\"SE\",\"MI\",\"MI\",\"SE\",\"SE\",\"SE\",\"SE\",\"SE\",\"SE\",\"SE\",\"SE\",\"SE\",\"SE\",\"EN\",\"EN\",\"SE\",\"SE\",\"SE\",\"SE\",\"MI\",\"MI\",\"SE\",\"SE\",\"SE\",\"SE\",\"SE\",\"SE\",\"SE\",\"SE\",\"SE\",\"SE\",\"SE\",\"SE\",\"SE\",\"SE\",\"MI\",\"MI\",\"MI\",\"MI\",\"EN\",\"EN\",\"EN\",\"EN\",\"SE\",\"SE\",\"SE\",\"SE\",\"SE\",\"SE\",\"SE\",\"SE\",\"SE\",\"SE\",\"SE\",\"SE\",\"SE\",\"SE\",\"EX\",\"EX\",\"SE\",\"SE\",\"SE\",\"SE\",\"SE\",\"SE\",\"SE\",\"SE\",\"SE\",\"SE\",\"SE\",\"SE\",\"SE\",\"SE\",\"SE\",\"SE\",\"SE\",\"SE\",\"SE\",\"SE\",\"MI\",\"SE\",\"MI\",\"MI\",\"SE\",\"SE\",\"SE\",\"SE\",\"SE\",\"SE\",\"SE\",\"SE\",\"SE\",\"SE\",\"EN\",\"EN\",\"SE\",\"SE\",\"SE\",\"SE\",\"SE\",\"SE\",\"SE\",\"SE\",\"SE\",\"SE\",\"SE\",\"SE\",\"SE\",\"SE\",\"SE\",\"SE\",\"EN\",\"SE\",\"SE\",\"SE\",\"SE\",\"SE\",\"SE\",\"SE\",\"SE\",\"SE\",\"SE\",\"SE\",\"SE\",\"SE\",\"SE\",\"MI\",\"MI\",\"SE\",\"SE\",\"SE\",\"SE\",\"MI\",\"MI\",\"EN\",\"EN\",\"SE\",\"SE\",\"EN\",\"EN\",\"SE\",\"SE\",\"SE\",\"SE\",\"SE\",\"SE\",\"SE\",\"SE\",\"SE\",\"SE\",\"MI\",\"MI\",\"MI\",\"MI\",\"MI\",\"MI\",\"SE\",\"SE\",\"SE\",\"SE\",\"SE\",\"SE\",\"SE\",\"SE\",\"MI\",\"MI\",\"SE\",\"SE\",\"SE\",\"SE\",\"SE\",\"SE\",\"SE\",\"SE\",\"SE\",\"SE\",\"SE\",\"SE\",\"MI\",\"MI\",\"MI\",\"MI\",\"EN\",\"EN\",\"SE\",\"SE\",\"MI\",\"MI\",\"SE\",\"SE\",\"SE\",\"SE\",\"MI\",\"MI\",\"SE\",\"SE\",\"SE\",\"SE\",\"SE\",\"EX\",\"EX\",\"MI\",\"MI\",\"SE\",\"SE\",\"SE\",\"SE\",\"SE\",\"SE\",\"SE\",\"SE\",\"SE\",\"SE\",\"EN\",\"SE\",\"MI\",\"SE\",\"SE\",\"SE\",\"SE\",\"SE\",\"SE\",\"SE\",\"SE\",\"EX\",\"EX\",\"SE\",\"SE\",\"SE\",\"SE\",\"MI\",\"SE\",\"SE\",\"EX\",\"EX\",\"SE\",\"SE\",\"SE\",\"SE\",\"SE\",\"SE\",\"SE\",\"SE\",\"SE\",\"SE\",\"EN\",\"EN\",\"SE\",\"SE\",\"SE\",\"SE\",\"SE\",\"SE\",\"SE\",\"SE\",\"SE\",\"SE\",\"SE\",\"SE\",\"SE\",\"SE\",\"SE\",\"SE\",\"SE\",\"SE\",\"SE\",\"SE\",\"SE\",\"SE\",\"EX\",\"EX\",\"SE\",\"SE\",\"SE\",\"SE\",\"SE\",\"SE\",\"SE\",\"SE\",\"SE\",\"SE\",\"SE\",\"SE\",\"SE\",\"SE\",\"SE\",\"SE\",\"SE\",\"SE\",\"SE\",\"SE\",\"EX\",\"EX\",\"SE\",\"SE\",\"SE\",\"SE\",\"SE\",\"SE\",\"SE\",\"SE\",\"SE\",\"SE\",\"SE\",\"SE\",\"SE\",\"SE\",\"SE\",\"SE\",\"SE\",\"SE\",\"SE\",\"SE\",\"SE\",\"SE\",\"SE\",\"SE\",\"EN\",\"SE\",\"MI\",\"MI\",\"EN\",\"SE\",\"SE\",\"SE\",\"SE\",\"SE\",\"SE\",\"EN\",\"EN\",\"MI\",\"MI\",\"SE\",\"SE\",\"EN\",\"EN\",\"SE\",\"SE\",\"SE\",\"SE\",\"SE\",\"SE\",\"EN\",\"EN\",\"SE\",\"SE\",\"SE\",\"SE\",\"SE\",\"SE\",\"SE\",\"SE\",\"SE\",\"SE\",\"MI\",\"SE\",\"SE\",\"SE\",\"SE\",\"MI\",\"MI\",\"MI\",\"MI\",\"SE\",\"SE\",\"MI\",\"MI\",\"SE\",\"SE\",\"SE\",\"SE\",\"SE\",\"SE\",\"SE\",\"SE\",\"SE\",\"SE\",\"SE\",\"SE\",\"SE\",\"SE\",\"MI\",\"MI\",\"EX\",\"EX\",\"MI\",\"EN\",\"SE\",\"SE\",\"EN\",\"EN\",\"MI\",\"MI\",\"SE\",\"SE\",\"SE\",\"SE\",\"SE\",\"SE\",\"EN\",\"EN\",\"SE\",\"SE\",\"SE\",\"SE\",\"EX\",\"EX\",\"SE\",\"SE\",\"SE\",\"SE\",\"SE\",\"SE\",\"EN\",\"EN\",\"SE\",\"SE\",\"SE\",\"SE\",\"EN\",\"EN\",\"SE\",\"SE\",\"SE\",\"SE\",\"SE\",\"SE\",\"MI\",\"MI\",\"SE\",\"SE\",\"SE\",\"SE\",\"SE\",\"SE\",\"SE\",\"SE\",\"SE\",\"SE\",\"SE\",\"SE\",\"SE\",\"SE\",\"MI\",\"MI\",\"SE\",\"SE\",\"MI\",\"MI\",\"SE\",\"SE\",\"EN\",\"EN\",\"SE\",\"SE\",\"SE\",\"SE\",\"SE\",\"SE\",\"MI\",\"MI\",\"SE\",\"SE\",\"MI\",\"MI\",\"EX\",\"EX\",\"SE\",\"SE\",\"SE\",\"SE\",\"EX\",\"EX\",\"MI\",\"MI\",\"SE\",\"SE\",\"MI\",\"MI\",\"SE\",\"SE\",\"SE\",\"SE\",\"SE\",\"SE\",\"EN\",\"SE\",\"SE\",\"MI\",\"MI\",\"SE\",\"SE\",\"SE\",\"SE\",\"SE\",\"SE\",\"SE\",\"SE\",\"SE\",\"SE\",\"SE\",\"SE\",\"SE\",\"SE\",\"SE\",\"SE\",\"SE\",\"SE\",\"EN\",\"EN\",\"SE\",\"SE\",\"SE\",\"SE\",\"SE\",\"SE\",\"MI\",\"MI\",\"SE\",\"SE\",\"MI\",\"SE\",\"SE\",\"SE\",\"SE\",\"SE\",\"SE\",\"SE\",\"SE\",\"SE\",\"MI\",\"MI\",\"MI\",\"MI\",\"SE\",\"SE\",\"SE\",\"SE\",\"SE\",\"SE\",\"SE\",\"SE\",\"SE\",\"SE\",\"MI\",\"MI\",\"EX\",\"EX\",\"SE\",\"SE\",\"SE\",\"SE\",\"MI\",\"MI\",\"MI\",\"MI\",\"MI\",\"MI\",\"SE\",\"SE\",\"SE\",\"SE\",\"SE\",\"SE\",\"SE\",\"SE\",\"EN\",\"EN\",\"SE\",\"SE\",\"MI\",\"MI\",\"MI\",\"MI\",\"EN\",\"EN\",\"MI\",\"MI\",\"MI\",\"MI\",\"SE\",\"SE\",\"EX\",\"EX\",\"EN\",\"SE\",\"SE\",\"MI\",\"MI\",\"EN\",\"EN\",\"SE\",\"SE\",\"EN\",\"EN\",\"MI\",\"MI\",\"MI\",\"SE\",\"SE\",\"SE\",\"SE\",\"EN\",\"EN\",\"SE\",\"SE\",\"EN\",\"EN\",\"SE\",\"SE\",\"SE\",\"SE\",\"MI\",\"MI\",\"SE\",\"SE\",\"SE\",\"SE\",\"MI\",\"MI\",\"SE\",\"SE\",\"SE\",\"SE\",\"SE\",\"SE\",\"SE\",\"SE\",\"SE\",\"SE\",\"SE\",\"SE\",\"SE\",\"SE\",\"SE\",\"SE\",\"SE\",\"SE\",\"SE\",\"SE\",\"SE\",\"SE\",\"SE\",\"SE\",\"SE\",\"SE\",\"SE\",\"SE\",\"EX\",\"EX\",\"SE\",\"SE\",\"EN\",\"EN\",\"SE\",\"SE\",\"SE\",\"SE\",\"SE\",\"SE\",\"SE\",\"SE\",\"SE\",\"SE\",\"MI\",\"MI\",\"SE\",\"SE\",\"SE\",\"SE\",\"SE\",\"SE\",\"SE\",\"SE\",\"MI\",\"MI\",\"MI\",\"MI\",\"SE\",\"SE\",\"MI\",\"MI\",\"SE\",\"SE\",\"EN\",\"EN\",\"SE\",\"SE\",\"SE\",\"SE\",\"MI\",\"MI\",\"SE\",\"SE\",\"MI\",\"MI\",\"MI\",\"MI\",\"EX\",\"EX\",\"MI\",\"MI\",\"SE\",\"SE\",\"MI\",\"SE\",\"SE\",\"SE\",\"SE\",\"SE\",\"SE\",\"SE\",\"SE\",\"SE\",\"SE\",\"SE\",\"SE\",\"MI\",\"MI\",\"MI\",\"MI\",\"SE\",\"SE\",\"MI\",\"SE\",\"SE\",\"MI\",\"EN\",\"EN\",\"MI\",\"MI\",\"MI\",\"SE\",\"SE\",\"SE\",\"SE\",\"EX\",\"EX\",\"EN\",\"EN\",\"SE\",\"SE\",\"EN\",\"EN\",\"MI\",\"MI\",\"SE\",\"SE\",\"SE\",\"SE\",\"SE\",\"SE\",\"SE\",\"SE\",\"SE\",\"SE\",\"MI\",\"MI\",\"MI\",\"MI\",\"SE\",\"SE\",\"SE\",\"SE\",\"SE\",\"SE\",\"SE\",\"SE\",\"SE\",\"SE\",\"SE\",\"SE\",\"SE\",\"SE\",\"SE\",\"SE\",\"SE\",\"SE\",\"MI\",\"MI\",\"SE\",\"SE\",\"SE\",\"SE\",\"MI\",\"MI\",\"EX\",\"EX\",\"SE\",\"SE\",\"SE\",\"SE\",\"MI\",\"MI\",\"SE\",\"SE\",\"SE\",\"SE\",\"SE\",\"MI\",\"MI\",\"MI\",\"MI\",\"SE\",\"SE\",\"EN\",\"EN\",\"MI\",\"MI\",\"SE\",\"SE\",\"SE\",\"SE\",\"MI\",\"MI\",\"SE\",\"SE\",\"SE\",\"SE\",\"SE\",\"SE\",\"SE\",\"SE\",\"SE\",\"SE\",\"EN\",\"MI\",\"MI\",\"SE\",\"SE\",\"MI\",\"MI\",\"SE\",\"SE\",\"MI\",\"MI\",\"SE\",\"SE\",\"MI\",\"MI\",\"MI\",\"SE\",\"SE\",\"SE\",\"SE\",\"SE\",\"EN\",\"SE\",\"SE\",\"EX\",\"EX\",\"SE\",\"SE\",\"EN\",\"EN\",\"SE\",\"SE\",\"MI\",\"MI\",\"SE\",\"SE\",\"SE\",\"SE\",\"MI\",\"MI\",\"MI\",\"MI\",\"SE\",\"SE\",\"SE\",\"SE\",\"SE\",\"SE\",\"EN\",\"EN\",\"MI\",\"MI\",\"MI\",\"MI\",\"SE\",\"SE\",\"SE\",\"SE\",\"SE\",\"SE\",\"MI\",\"MI\",\"SE\",\"SE\",\"MI\",\"MI\",\"SE\",\"SE\",\"SE\",\"SE\",\"SE\",\"SE\",\"MI\",\"MI\",\"SE\",\"SE\",\"MI\",\"MI\",\"SE\",\"SE\",\"MI\",\"MI\",\"SE\",\"SE\",\"SE\",\"SE\",\"SE\",\"SE\",\"SE\",\"SE\",\"SE\",\"SE\",\"MI\",\"MI\",\"SE\",\"SE\",\"MI\",\"MI\",\"SE\",\"SE\",\"EN\",\"EN\",\"SE\",\"SE\",\"SE\",\"SE\",\"SE\",\"SE\",\"SE\",\"SE\",\"SE\",\"SE\",\"SE\",\"SE\",\"SE\",\"SE\",\"SE\",\"SE\",\"MI\",\"MI\",\"SE\",\"SE\",\"SE\",\"SE\",\"SE\",\"SE\",\"SE\",\"SE\",\"SE\",\"SE\",\"SE\",\"SE\",\"EN\",\"MI\",\"MI\",\"SE\",\"SE\",\"SE\",\"SE\",\"SE\",\"SE\",\"SE\",\"SE\",\"SE\",\"EN\",\"SE\",\"EN\",\"SE\",\"SE\",\"SE\",\"MI\",\"MI\",\"SE\",\"SE\",\"SE\",\"SE\",\"SE\",\"SE\",\"MI\",\"SE\",\"SE\",\"SE\",\"SE\",\"SE\",\"SE\",\"SE\",\"SE\",\"SE\",\"EX\",\"EX\",\"SE\",\"SE\",\"SE\",\"SE\",\"SE\",\"SE\",\"SE\",\"SE\",\"SE\",\"SE\",\"MI\",\"MI\",\"SE\",\"SE\",\"SE\",\"SE\",\"SE\",\"SE\",\"SE\",\"SE\",\"SE\",\"SE\",\"SE\",\"SE\",\"EX\",\"EX\",\"SE\",\"SE\",\"SE\",\"SE\",\"SE\",\"SE\",\"SE\",\"SE\",\"SE\",\"SE\",\"SE\",\"SE\",\"MI\",\"MI\",\"SE\",\"SE\",\"SE\",\"SE\",\"SE\",\"SE\",\"SE\",\"SE\",\"SE\",\"SE\",\"SE\",\"SE\",\"SE\",\"SE\",\"SE\",\"SE\",\"SE\",\"SE\",\"MI\",\"MI\",\"SE\",\"SE\",\"SE\",\"SE\",\"SE\",\"SE\",\"SE\",\"SE\",\"SE\",\"SE\",\"SE\",\"SE\",\"SE\",\"SE\",\"SE\",\"SE\",\"SE\",\"SE\",\"SE\",\"SE\",\"MI\",\"MI\",\"SE\",\"SE\",\"SE\",\"SE\",\"SE\",\"SE\",\"SE\",\"SE\",\"SE\",\"SE\",\"SE\",\"SE\",\"SE\",\"SE\",\"MI\",\"SE\",\"SE\",\"EN\",\"EN\",\"SE\",\"SE\",\"SE\",\"SE\",\"SE\",\"SE\",\"SE\",\"SE\",\"MI\",\"MI\",\"SE\",\"SE\",\"MI\",\"MI\",\"SE\",\"SE\",\"SE\",\"SE\",\"SE\",\"SE\",\"SE\",\"SE\",\"MI\",\"MI\",\"SE\",\"SE\",\"SE\",\"SE\",\"SE\",\"SE\",\"SE\",\"SE\",\"SE\",\"SE\",\"MI\",\"MI\",\"SE\",\"SE\",\"SE\",\"SE\",\"EX\",\"EX\",\"SE\",\"SE\",\"SE\",\"SE\",\"MI\",\"MI\",\"SE\",\"SE\",\"MI\",\"MI\",\"EN\",\"EN\",\"SE\",\"SE\",\"SE\",\"SE\",\"SE\",\"SE\",\"MI\",\"MI\",\"SE\",\"SE\",\"SE\",\"SE\",\"SE\",\"SE\",\"SE\",\"SE\",\"SE\",\"SE\",\"SE\",\"SE\",\"SE\",\"SE\",\"MI\",\"MI\",\"MI\",\"MI\",\"SE\",\"SE\",\"SE\",\"SE\",\"EN\",\"EN\",\"SE\",\"SE\",\"SE\",\"SE\",\"SE\",\"SE\",\"MI\",\"EN\",\"EN\",\"SE\",\"SE\",\"SE\",\"SE\",\"SE\",\"SE\",\"SE\",\"SE\",\"SE\",\"SE\",\"SE\",\"SE\",\"SE\",\"SE\",\"EN\",\"EN\",\"SE\",\"SE\",\"SE\",\"SE\",\"SE\",\"EN\",\"SE\",\"SE\",\"SE\",\"SE\",\"EN\",\"EN\",\"SE\",\"SE\",\"MI\",\"MI\",\"SE\",\"SE\",\"SE\",\"SE\",\"SE\",\"SE\",\"SE\",\"SE\",\"SE\",\"SE\",\"MI\",\"MI\",\"SE\",\"SE\",\"SE\",\"SE\",\"EN\",\"SE\",\"MI\",\"SE\",\"SE\",\"EX\",\"EX\",\"SE\",\"SE\",\"SE\",\"SE\",\"SE\",\"SE\",\"SE\",\"SE\",\"SE\",\"SE\",\"MI\",\"MI\",\"MI\",\"MI\",\"EN\",\"EN\",\"EN\",\"SE\",\"SE\",\"SE\",\"SE\",\"SE\",\"SE\",\"SE\",\"SE\",\"MI\",\"MI\",\"SE\",\"SE\",\"SE\",\"SE\",\"SE\",\"SE\",\"SE\",\"SE\",\"SE\",\"SE\",\"EX\",\"EX\",\"SE\",\"SE\",\"SE\",\"SE\",\"MI\",\"SE\",\"SE\",\"SE\",\"SE\",\"SE\",\"SE\",\"MI\",\"MI\",\"SE\",\"SE\",\"MI\",\"MI\",\"SE\",\"EN\",\"SE\",\"SE\",\"MI\",\"MI\",\"MI\",\"MI\",\"EX\",\"EX\",\"SE\",\"SE\",\"SE\",\"SE\",\"MI\",\"MI\",\"MI\",\"MI\",\"SE\",\"SE\",\"EN\",\"SE\",\"SE\",\"SE\",\"SE\",\"EN\",\"MI\",\"MI\",\"SE\",\"SE\",\"EX\",\"EX\",\"SE\",\"SE\",\"SE\",\"SE\",\"SE\",\"SE\",\"SE\",\"SE\",\"SE\",\"SE\",\"SE\",\"SE\",\"SE\",\"SE\",\"SE\",\"SE\",\"MI\",\"MI\",\"SE\",\"SE\",\"EX\",\"EX\",\"SE\",\"SE\",\"SE\",\"SE\",\"SE\",\"SE\",\"SE\",\"SE\",\"SE\",\"SE\",\"MI\",\"SE\",\"SE\",\"MI\",\"MI\",\"SE\",\"SE\",\"SE\",\"SE\",\"EX\",\"EX\",\"SE\",\"SE\",\"SE\",\"SE\",\"EN\",\"EN\",\"EX\",\"EX\",\"MI\",\"MI\",\"SE\",\"SE\",\"SE\",\"SE\",\"EN\",\"SE\",\"SE\",\"EN\",\"EN\",\"SE\",\"SE\",\"SE\",\"SE\",\"SE\",\"SE\",\"SE\",\"SE\",\"SE\",\"SE\",\"EX\",\"EX\",\"SE\",\"SE\",\"MI\",\"MI\",\"SE\",\"SE\",\"SE\",\"SE\",\"SE\",\"SE\",\"SE\",\"SE\",\"MI\",\"MI\",\"SE\",\"SE\",\"SE\",\"SE\",\"SE\",\"SE\",\"SE\",\"SE\",\"SE\",\"SE\",\"SE\",\"SE\",\"SE\",\"SE\",\"SE\",\"SE\",\"SE\",\"MI\",\"EN\",\"MI\",\"MI\",\"SE\",\"SE\",\"MI\",\"MI\",\"SE\",\"SE\",\"SE\",\"SE\",\"SE\",\"SE\",\"SE\",\"SE\",\"SE\",\"SE\",\"EN\",\"EN\",\"MI\",\"MI\",\"MI\",\"SE\",\"SE\",\"SE\",\"SE\",\"SE\",\"SE\",\"SE\",\"SE\",\"SE\",\"SE\",\"SE\",\"SE\",\"SE\",\"SE\",\"SE\",\"SE\",\"SE\",\"SE\",\"SE\",\"SE\",\"MI\",\"MI\",\"SE\",\"SE\",\"SE\",\"SE\",\"EN\",\"MI\",\"MI\",\"SE\",\"SE\",\"MI\",\"MI\",\"SE\",\"SE\",\"SE\",\"SE\",\"MI\",\"MI\",\"SE\",\"SE\",\"EN\",\"SE\",\"SE\",\"SE\",\"SE\",\"MI\",\"MI\",\"SE\",\"SE\",\"SE\",\"SE\",\"SE\",\"SE\",\"MI\",\"MI\",\"SE\",\"SE\",\"SE\",\"MI\",\"EN\",\"MI\",\"SE\",\"SE\",\"SE\",\"SE\",\"SE\",\"SE\",\"SE\",\"SE\",\"SE\",\"SE\",\"SE\",\"SE\",\"MI\",\"SE\",\"SE\",\"SE\",\"SE\",\"EN\",\"EN\",\"MI\",\"MI\",\"SE\",\"SE\",\"SE\",\"SE\",\"SE\",\"SE\",\"MI\",\"MI\",\"SE\",\"SE\",\"MI\",\"MI\",\"SE\",\"SE\",\"SE\",\"SE\",\"SE\",\"SE\",\"SE\",\"SE\",\"SE\",\"SE\",\"SE\",\"SE\",\"MI\",\"SE\",\"SE\",\"SE\",\"SE\",\"SE\",\"SE\",\"SE\",\"SE\",\"EX\",\"EX\",\"MI\",\"MI\",\"SE\",\"SE\",\"SE\",\"SE\",\"SE\",\"SE\",\"MI\",\"MI\",\"MI\",\"MI\",\"SE\",\"SE\",\"SE\",\"SE\",\"SE\",\"SE\",\"SE\",\"SE\",\"MI\",\"MI\",\"EN\",\"SE\",\"SE\",\"SE\",\"SE\",\"SE\",\"SE\",\"SE\",\"SE\",\"SE\",\"SE\",\"SE\",\"SE\",\"SE\",\"SE\",\"SE\",\"SE\",\"SE\",\"SE\",\"EX\",\"EX\",\"SE\",\"SE\",\"MI\",\"MI\",\"MI\",\"MI\",\"SE\",\"SE\",\"SE\",\"SE\",\"MI\",\"MI\",\"SE\",\"SE\",\"SE\",\"SE\",\"MI\",\"MI\",\"SE\",\"SE\",\"SE\",\"SE\",\"SE\",\"SE\",\"SE\",\"SE\",\"SE\",\"SE\",\"SE\",\"SE\",\"SE\",\"SE\",\"MI\",\"SE\",\"SE\",\"SE\",\"SE\",\"MI\",\"MI\",\"SE\",\"SE\",\"SE\",\"SE\",\"SE\",\"SE\",\"SE\",\"SE\",\"MI\",\"MI\",\"SE\",\"SE\",\"MI\",\"MI\",\"MI\",\"SE\",\"SE\",\"SE\",\"SE\",\"MI\",\"MI\",\"SE\",\"SE\",\"SE\",\"SE\",\"SE\",\"SE\",\"SE\",\"SE\",\"SE\",\"SE\",\"SE\",\"SE\",\"SE\",\"SE\",\"SE\",\"SE\",\"MI\",\"MI\",\"SE\",\"SE\",\"SE\",\"SE\",\"SE\",\"SE\",\"MI\",\"MI\",\"SE\",\"SE\",\"SE\",\"SE\",\"EN\",\"EN\",\"SE\",\"SE\",\"EN\",\"EN\",\"SE\",\"SE\",\"EN\",\"EN\",\"SE\",\"SE\",\"SE\",\"SE\",\"SE\",\"SE\",\"SE\",\"SE\",\"SE\",\"SE\",\"MI\",\"MI\",\"SE\",\"SE\",\"SE\",\"SE\",\"SE\",\"SE\",\"SE\",\"SE\",\"SE\",\"SE\",\"SE\",\"SE\",\"SE\",\"SE\",\"SE\",\"SE\",\"SE\",\"SE\",\"SE\",\"SE\",\"SE\",\"SE\",\"SE\",\"SE\",\"SE\",\"SE\",\"SE\",\"SE\",\"MI\",\"MI\",\"SE\",\"SE\",\"MI\",\"MI\",\"SE\",\"SE\",\"SE\",\"SE\",\"SE\",\"SE\",\"SE\",\"SE\",\"MI\",\"MI\",\"SE\",\"SE\",\"MI\",\"MI\",\"EN\",\"EN\"],\"xaxis\":\"x\",\"yaxis\":\"y\",\"type\":\"histogram\",\"textposition\":\"auto\"},{\"alignmentgroup\":\"True\",\"bingroup\":\"x\",\"hovertemplate\":\"work_year=2022<br>Experience Level=%{x}<br>count=%{y}<extra></extra>\",\"legendgroup\":\"\",\"marker\":{\"color\":\"brown\",\"pattern\":{\"shape\":\"\"}},\"name\":\"\",\"nbinsx\":7,\"offsetgroup\":\"\",\"orientation\":\"v\",\"showlegend\":false,\"texttemplate\":\"%{value}\",\"x\":[\"MI\",\"EN\",\"EN\",\"SE\",\"SE\",\"EN\",\"MI\",\"SE\",\"SE\",\"EN\",\"MI\",\"EX\",\"SE\",\"EN\",\"EN\",\"SE\",\"EN\",\"MI\",\"MI\",\"SE\",\"EN\",\"EN\",\"MI\",\"MI\",\"EN\",\"MI\",\"EN\",\"SE\",\"MI\",\"EN\",\"MI\",\"SE\",\"SE\",\"SE\",\"SE\",\"SE\",\"SE\",\"SE\",\"SE\",\"SE\",\"SE\",\"SE\",\"SE\",\"SE\",\"SE\",\"SE\",\"SE\",\"SE\",\"SE\",\"SE\",\"SE\",\"MI\",\"MI\",\"MI\",\"MI\",\"SE\",\"SE\",\"MI\",\"MI\",\"EN\",\"EN\",\"SE\",\"SE\",\"SE\",\"SE\",\"SE\",\"SE\",\"MI\",\"MI\",\"SE\",\"SE\",\"MI\",\"MI\",\"SE\",\"SE\",\"MI\",\"MI\",\"EN\",\"SE\",\"MI\",\"MI\",\"EN\",\"EN\",\"EN\",\"SE\",\"SE\",\"EN\",\"EN\",\"SE\",\"SE\",\"SE\",\"SE\",\"MI\",\"MI\",\"SE\",\"SE\",\"SE\",\"SE\",\"SE\",\"SE\",\"SE\",\"SE\",\"EN\",\"MI\",\"MI\",\"MI\",\"MI\",\"MI\",\"MI\",\"SE\",\"SE\",\"SE\",\"SE\",\"SE\",\"SE\",\"SE\",\"SE\",\"SE\",\"SE\",\"SE\",\"SE\",\"MI\",\"MI\",\"SE\",\"SE\",\"MI\",\"MI\",\"EN\",\"MI\",\"MI\",\"SE\",\"SE\",\"SE\",\"SE\",\"EX\",\"EX\",\"MI\",\"MI\",\"SE\",\"SE\",\"SE\",\"SE\",\"EX\",\"EX\",\"SE\",\"SE\",\"SE\",\"SE\",\"SE\",\"SE\",\"SE\",\"SE\",\"MI\",\"MI\",\"SE\",\"SE\",\"MI\",\"SE\",\"SE\",\"SE\",\"MI\",\"MI\",\"SE\",\"SE\",\"SE\",\"SE\",\"SE\",\"SE\",\"SE\",\"SE\",\"SE\",\"SE\",\"MI\",\"MI\",\"SE\",\"SE\",\"EN\",\"EN\",\"SE\",\"SE\",\"MI\",\"SE\",\"SE\",\"SE\",\"SE\",\"SE\",\"SE\",\"SE\",\"SE\",\"SE\",\"SE\",\"SE\",\"SE\",\"MI\",\"MI\",\"SE\",\"SE\",\"SE\",\"SE\",\"MI\",\"MI\",\"SE\",\"SE\",\"SE\",\"SE\",\"EN\",\"EN\",\"SE\",\"SE\",\"EX\",\"EX\",\"SE\",\"SE\",\"SE\",\"SE\",\"SE\",\"SE\",\"MI\",\"MI\",\"SE\",\"SE\",\"MI\",\"MI\",\"SE\",\"SE\",\"SE\",\"SE\",\"EN\",\"SE\",\"SE\",\"MI\",\"MI\",\"SE\",\"EN\",\"MI\",\"MI\",\"SE\",\"SE\",\"EN\",\"EN\",\"MI\",\"MI\",\"EN\",\"EN\",\"SE\",\"SE\",\"SE\",\"SE\",\"SE\",\"SE\",\"EN\",\"SE\",\"SE\",\"MI\",\"MI\",\"SE\",\"SE\",\"SE\",\"SE\",\"SE\",\"SE\",\"SE\",\"SE\",\"SE\",\"SE\",\"SE\",\"SE\",\"SE\",\"SE\",\"SE\",\"SE\",\"SE\",\"SE\",\"SE\",\"SE\",\"SE\",\"SE\",\"SE\",\"MI\",\"MI\",\"MI\",\"MI\",\"MI\",\"MI\",\"SE\",\"SE\",\"MI\",\"MI\",\"SE\",\"SE\",\"MI\",\"MI\",\"EN\",\"EN\",\"SE\",\"SE\",\"SE\",\"SE\",\"SE\",\"SE\",\"SE\",\"SE\",\"MI\",\"MI\",\"MI\",\"MI\",\"SE\",\"SE\",\"SE\",\"SE\",\"SE\",\"SE\",\"SE\",\"SE\",\"SE\",\"SE\",\"MI\",\"SE\",\"SE\",\"SE\",\"SE\",\"MI\",\"MI\",\"MI\",\"MI\",\"SE\",\"SE\",\"SE\",\"EN\",\"SE\",\"SE\",\"SE\",\"SE\",\"SE\",\"SE\",\"EN\",\"SE\",\"SE\",\"MI\",\"MI\",\"SE\",\"SE\",\"SE\",\"SE\",\"MI\",\"MI\",\"SE\",\"SE\",\"SE\",\"SE\",\"SE\",\"SE\",\"SE\",\"SE\",\"SE\",\"SE\",\"MI\",\"MI\",\"SE\",\"SE\",\"SE\",\"SE\",\"MI\",\"MI\",\"MI\",\"MI\",\"SE\",\"SE\",\"SE\",\"SE\",\"SE\",\"SE\",\"SE\",\"SE\",\"SE\",\"SE\",\"SE\",\"SE\",\"MI\",\"SE\",\"SE\",\"SE\",\"SE\",\"SE\",\"SE\",\"EN\",\"EN\",\"SE\",\"SE\",\"MI\",\"MI\",\"SE\",\"SE\",\"MI\",\"MI\",\"SE\",\"SE\",\"SE\",\"SE\",\"EN\",\"EN\",\"MI\",\"MI\",\"MI\",\"MI\",\"SE\",\"SE\",\"SE\",\"SE\",\"SE\",\"SE\",\"EN\",\"EN\",\"SE\",\"SE\",\"SE\",\"SE\",\"SE\",\"SE\",\"SE\",\"SE\",\"MI\",\"SE\",\"SE\",\"SE\",\"SE\",\"MI\",\"MI\",\"SE\",\"SE\",\"SE\",\"SE\",\"MI\",\"MI\",\"SE\",\"SE\",\"SE\",\"SE\",\"SE\",\"SE\",\"EN\",\"MI\",\"MI\",\"SE\",\"SE\",\"SE\",\"SE\",\"MI\",\"MI\",\"SE\",\"SE\",\"MI\",\"MI\",\"SE\",\"SE\",\"SE\",\"SE\",\"SE\",\"SE\",\"EN\",\"MI\",\"SE\",\"SE\",\"MI\",\"MI\",\"SE\",\"SE\",\"MI\",\"MI\",\"SE\",\"SE\",\"MI\",\"MI\",\"EN\",\"EN\",\"MI\",\"MI\",\"SE\",\"SE\",\"MI\",\"MI\",\"MI\",\"MI\",\"SE\",\"SE\",\"EX\",\"EX\",\"SE\",\"SE\",\"SE\",\"SE\",\"SE\",\"SE\",\"MI\",\"MI\",\"SE\",\"SE\",\"SE\",\"SE\",\"SE\",\"SE\",\"SE\",\"SE\",\"SE\",\"SE\",\"SE\",\"SE\",\"SE\",\"SE\",\"SE\",\"SE\",\"SE\",\"SE\",\"SE\",\"MI\",\"MI\",\"SE\",\"SE\",\"SE\",\"SE\",\"MI\",\"MI\",\"EN\",\"SE\",\"SE\",\"SE\",\"SE\",\"SE\",\"SE\",\"SE\",\"SE\",\"SE\",\"SE\",\"SE\",\"SE\",\"SE\",\"SE\",\"SE\",\"SE\",\"SE\",\"SE\",\"SE\",\"SE\",\"SE\",\"SE\",\"SE\",\"SE\",\"SE\",\"SE\",\"SE\",\"SE\",\"SE\",\"SE\",\"EN\",\"EN\",\"MI\",\"MI\",\"SE\",\"SE\",\"SE\",\"SE\",\"SE\",\"SE\",\"EN\",\"SE\",\"SE\",\"SE\",\"SE\",\"SE\",\"SE\",\"SE\",\"SE\",\"SE\",\"MI\",\"MI\",\"SE\",\"SE\",\"SE\",\"SE\",\"SE\",\"SE\",\"SE\",\"SE\",\"EN\",\"MI\",\"EN\",\"EN\",\"SE\",\"SE\",\"SE\",\"SE\",\"SE\",\"SE\",\"SE\",\"SE\",\"MI\",\"MI\",\"SE\",\"SE\",\"SE\",\"SE\",\"SE\",\"SE\",\"SE\",\"SE\",\"SE\",\"SE\",\"SE\",\"SE\",\"SE\",\"SE\",\"SE\",\"SE\",\"SE\",\"SE\",\"MI\",\"MI\",\"MI\",\"MI\",\"MI\",\"MI\",\"MI\",\"SE\",\"SE\",\"MI\",\"MI\",\"EN\",\"EN\",\"SE\",\"SE\",\"SE\",\"SE\",\"SE\",\"SE\",\"SE\",\"SE\",\"SE\",\"SE\",\"SE\",\"MI\",\"MI\",\"MI\",\"MI\",\"MI\",\"MI\",\"SE\",\"SE\",\"SE\",\"SE\",\"SE\",\"SE\",\"EX\",\"EX\",\"SE\",\"SE\",\"EN\",\"EN\",\"SE\",\"SE\",\"SE\",\"SE\",\"SE\",\"SE\",\"SE\",\"SE\",\"SE\",\"SE\",\"SE\",\"SE\",\"SE\",\"SE\",\"MI\",\"MI\",\"SE\",\"SE\",\"MI\",\"EN\",\"EN\",\"SE\",\"SE\",\"SE\",\"SE\",\"SE\",\"SE\",\"SE\",\"SE\",\"EN\",\"SE\",\"SE\",\"SE\",\"SE\",\"SE\",\"SE\",\"SE\",\"SE\",\"SE\",\"SE\",\"SE\",\"SE\",\"SE\",\"SE\",\"SE\",\"SE\",\"SE\",\"SE\",\"MI\",\"EN\",\"SE\",\"SE\",\"SE\",\"SE\",\"SE\",\"SE\",\"SE\",\"SE\",\"SE\",\"SE\",\"MI\",\"MI\",\"SE\",\"SE\",\"SE\",\"SE\",\"SE\",\"SE\",\"SE\",\"SE\",\"EX\",\"EX\",\"EN\",\"EN\",\"MI\",\"MI\",\"SE\",\"SE\",\"SE\",\"SE\",\"SE\",\"SE\",\"SE\",\"SE\",\"SE\",\"SE\",\"SE\",\"SE\",\"SE\",\"SE\",\"SE\",\"SE\",\"SE\",\"SE\",\"MI\",\"MI\",\"MI\",\"SE\",\"SE\",\"SE\",\"SE\",\"MI\",\"MI\",\"SE\",\"SE\",\"SE\",\"SE\",\"MI\",\"MI\",\"SE\",\"SE\",\"SE\",\"SE\",\"SE\",\"SE\",\"MI\",\"MI\",\"EN\",\"SE\",\"EN\",\"SE\",\"EN\",\"SE\",\"SE\",\"SE\",\"SE\",\"SE\",\"SE\",\"SE\",\"SE\",\"SE\",\"SE\",\"SE\",\"SE\",\"EN\",\"SE\",\"SE\",\"SE\",\"MI\",\"MI\",\"SE\",\"SE\",\"MI\",\"MI\",\"SE\",\"SE\",\"SE\",\"SE\",\"SE\",\"SE\",\"SE\",\"SE\",\"SE\",\"SE\",\"SE\",\"SE\",\"SE\",\"SE\",\"SE\",\"SE\",\"SE\",\"SE\",\"SE\",\"SE\",\"SE\",\"SE\",\"SE\",\"SE\",\"SE\",\"SE\",\"SE\",\"SE\",\"SE\",\"SE\",\"SE\",\"SE\",\"SE\",\"SE\",\"SE\",\"SE\",\"SE\",\"SE\",\"MI\",\"MI\",\"SE\",\"SE\",\"SE\",\"SE\",\"SE\",\"SE\",\"SE\",\"SE\",\"MI\",\"MI\",\"MI\",\"MI\",\"EN\",\"SE\",\"MI\",\"MI\",\"MI\",\"SE\",\"SE\",\"SE\",\"SE\",\"SE\",\"SE\",\"SE\",\"MI\",\"SE\",\"SE\",\"EX\",\"SE\",\"SE\",\"SE\",\"SE\",\"SE\",\"SE\",\"SE\",\"SE\",\"SE\",\"SE\",\"SE\",\"SE\",\"MI\",\"SE\",\"SE\",\"SE\",\"SE\",\"SE\",\"MI\",\"SE\",\"MI\",\"MI\",\"SE\",\"SE\",\"MI\",\"MI\",\"SE\",\"SE\",\"SE\",\"SE\",\"SE\",\"SE\",\"MI\",\"MI\",\"SE\",\"SE\",\"EN\",\"SE\",\"SE\",\"SE\",\"SE\",\"SE\",\"SE\",\"EX\",\"EX\",\"MI\",\"SE\",\"SE\",\"SE\",\"SE\",\"SE\",\"SE\",\"SE\",\"SE\",\"EN\",\"SE\",\"SE\",\"SE\",\"SE\",\"SE\",\"SE\",\"SE\",\"SE\",\"SE\",\"SE\",\"SE\",\"SE\",\"SE\",\"SE\",\"SE\",\"SE\",\"SE\",\"SE\",\"SE\",\"SE\",\"SE\",\"SE\",\"SE\",\"SE\",\"SE\",\"EN\",\"SE\",\"SE\",\"SE\",\"SE\",\"SE\",\"SE\",\"SE\",\"SE\",\"SE\",\"SE\",\"SE\",\"SE\",\"SE\",\"SE\",\"SE\",\"SE\",\"SE\",\"SE\",\"SE\",\"SE\",\"SE\",\"SE\",\"SE\",\"SE\",\"SE\",\"SE\",\"SE\",\"SE\",\"MI\",\"MI\",\"MI\",\"MI\",\"SE\",\"SE\",\"SE\",\"SE\",\"MI\",\"MI\",\"EN\",\"SE\",\"SE\",\"EN\",\"SE\",\"SE\",\"SE\",\"SE\",\"SE\",\"SE\",\"SE\",\"SE\",\"SE\",\"SE\",\"EN\",\"SE\",\"SE\",\"SE\",\"SE\",\"MI\",\"SE\",\"EN\",\"SE\",\"SE\",\"MI\",\"MI\",\"SE\",\"SE\",\"MI\",\"MI\",\"SE\",\"SE\",\"SE\",\"SE\",\"SE\",\"SE\",\"SE\",\"SE\",\"SE\",\"EX\",\"EX\",\"MI\",\"MI\",\"SE\",\"SE\",\"EX\",\"EX\",\"SE\",\"EN\",\"EN\",\"MI\",\"MI\",\"EN\",\"SE\",\"SE\",\"SE\",\"SE\",\"MI\",\"MI\",\"SE\",\"SE\",\"SE\",\"MI\",\"MI\",\"SE\",\"SE\",\"SE\",\"SE\",\"SE\",\"SE\",\"SE\",\"SE\",\"SE\",\"SE\",\"SE\",\"SE\",\"SE\",\"SE\",\"MI\",\"SE\",\"SE\",\"MI\",\"EN\",\"EN\",\"SE\",\"SE\",\"SE\",\"SE\",\"SE\",\"SE\",\"SE\",\"SE\",\"SE\",\"SE\",\"SE\",\"SE\",\"SE\",\"SE\",\"MI\",\"MI\",\"MI\",\"MI\",\"MI\",\"MI\",\"MI\",\"SE\",\"SE\",\"SE\",\"SE\",\"SE\",\"SE\",\"SE\",\"SE\",\"SE\",\"SE\",\"SE\",\"SE\",\"SE\",\"SE\",\"SE\",\"EN\",\"SE\",\"SE\",\"EN\",\"EN\",\"EX\",\"EX\",\"EX\",\"SE\",\"SE\",\"SE\",\"SE\",\"MI\",\"MI\",\"SE\",\"SE\",\"SE\",\"SE\",\"SE\",\"SE\",\"SE\",\"SE\",\"MI\",\"MI\",\"MI\",\"SE\",\"SE\",\"MI\",\"MI\",\"MI\",\"SE\",\"SE\",\"SE\",\"SE\",\"SE\",\"SE\",\"SE\",\"MI\",\"SE\",\"SE\",\"SE\",\"SE\",\"MI\",\"MI\",\"MI\",\"SE\",\"SE\",\"SE\",\"SE\",\"SE\",\"SE\",\"SE\",\"SE\",\"SE\",\"SE\",\"SE\",\"MI\",\"EN\",\"EN\",\"MI\",\"SE\",\"SE\",\"SE\",\"SE\",\"EN\",\"MI\",\"MI\",\"SE\",\"SE\",\"EX\",\"EX\",\"SE\",\"SE\",\"MI\",\"MI\",\"SE\",\"SE\",\"SE\",\"SE\",\"SE\",\"SE\",\"SE\",\"SE\",\"SE\",\"SE\",\"SE\",\"SE\",\"SE\",\"SE\",\"SE\",\"SE\",\"SE\",\"SE\",\"SE\",\"SE\",\"MI\",\"MI\",\"SE\",\"SE\",\"SE\",\"SE\",\"SE\",\"SE\",\"EN\",\"SE\",\"SE\",\"SE\",\"SE\",\"SE\",\"SE\",\"SE\",\"SE\",\"MI\",\"SE\",\"SE\",\"MI\",\"SE\",\"SE\",\"SE\",\"SE\",\"SE\",\"SE\",\"EN\",\"EN\",\"MI\",\"SE\",\"SE\",\"SE\",\"SE\",\"SE\",\"SE\",\"MI\",\"MI\",\"SE\",\"SE\",\"SE\",\"SE\",\"SE\",\"SE\",\"EN\",\"MI\",\"MI\",\"SE\",\"SE\",\"MI\",\"MI\",\"SE\",\"SE\",\"EN\",\"MI\",\"EN\",\"EX\",\"MI\",\"SE\",\"EX\",\"EX\",\"SE\",\"SE\",\"EN\",\"MI\",\"SE\",\"EN\",\"MI\",\"SE\",\"SE\",\"MI\",\"MI\",\"SE\",\"SE\",\"SE\",\"SE\",\"SE\",\"SE\",\"EN\",\"SE\",\"SE\",\"SE\",\"SE\",\"SE\",\"SE\",\"EN\",\"EN\",\"MI\",\"MI\",\"MI\",\"SE\",\"SE\",\"SE\",\"SE\",\"MI\",\"SE\",\"SE\",\"SE\",\"SE\",\"SE\",\"SE\",\"SE\",\"SE\",\"SE\",\"SE\",\"MI\",\"MI\",\"SE\",\"SE\",\"EN\",\"EN\",\"SE\",\"SE\",\"SE\",\"MI\",\"MI\",\"MI\",\"EN\",\"MI\",\"SE\",\"SE\",\"SE\",\"SE\",\"MI\",\"SE\",\"SE\",\"SE\",\"SE\",\"EN\",\"SE\",\"SE\",\"SE\",\"EN\",\"MI\",\"MI\",\"SE\",\"SE\",\"SE\",\"SE\",\"SE\",\"SE\",\"SE\",\"SE\",\"MI\",\"MI\",\"MI\",\"MI\",\"MI\",\"SE\",\"SE\",\"SE\",\"SE\",\"MI\",\"MI\",\"SE\",\"SE\",\"SE\",\"SE\",\"SE\",\"SE\",\"SE\",\"SE\",\"MI\",\"SE\",\"SE\",\"SE\",\"SE\",\"SE\",\"SE\",\"MI\",\"MI\",\"EX\",\"SE\",\"SE\",\"SE\",\"SE\",\"SE\",\"SE\",\"SE\",\"SE\",\"EX\",\"EN\",\"SE\",\"SE\",\"MI\",\"MI\",\"MI\",\"MI\",\"MI\",\"MI\",\"MI\",\"MI\",\"MI\",\"MI\",\"SE\",\"SE\",\"MI\",\"MI\",\"MI\",\"MI\",\"SE\",\"SE\",\"MI\",\"MI\",\"SE\",\"SE\",\"MI\",\"MI\",\"MI\",\"MI\",\"MI\",\"MI\",\"SE\",\"MI\",\"MI\",\"MI\",\"MI\",\"MI\",\"MI\",\"SE\",\"SE\",\"MI\",\"MI\",\"SE\",\"SE\",\"EX\",\"EX\",\"MI\",\"MI\",\"MI\",\"MI\",\"SE\",\"SE\",\"SE\",\"SE\",\"SE\",\"SE\",\"SE\",\"SE\",\"SE\",\"SE\",\"MI\",\"MI\",\"SE\",\"SE\",\"SE\",\"SE\",\"MI\",\"MI\",\"MI\",\"MI\",\"SE\",\"SE\",\"SE\",\"SE\",\"SE\",\"SE\",\"SE\",\"SE\",\"EN\",\"EN\",\"EX\",\"EX\",\"SE\",\"SE\",\"SE\",\"SE\",\"SE\",\"SE\",\"SE\",\"SE\",\"SE\",\"SE\",\"SE\",\"SE\",\"SE\",\"SE\",\"SE\",\"SE\",\"SE\",\"SE\",\"SE\",\"SE\",\"MI\",\"MI\",\"SE\",\"SE\",\"SE\",\"SE\",\"SE\",\"SE\",\"SE\",\"SE\",\"SE\",\"SE\",\"SE\",\"SE\",\"EX\",\"EX\",\"EX\",\"EX\",\"SE\",\"SE\",\"SE\",\"SE\",\"SE\",\"SE\",\"SE\",\"SE\",\"SE\",\"SE\",\"SE\",\"SE\",\"SE\",\"SE\",\"SE\",\"SE\",\"SE\",\"SE\",\"SE\",\"SE\",\"SE\",\"SE\",\"SE\",\"SE\",\"MI\",\"MI\",\"SE\",\"SE\",\"SE\",\"SE\",\"SE\",\"SE\",\"MI\",\"MI\",\"SE\",\"SE\",\"MI\",\"MI\",\"SE\",\"SE\",\"MI\",\"MI\",\"SE\",\"SE\",\"SE\",\"SE\",\"SE\",\"SE\",\"SE\",\"SE\",\"SE\",\"SE\",\"MI\",\"MI\",\"EN\",\"EN\",\"SE\",\"SE\",\"SE\",\"SE\",\"SE\",\"SE\",\"SE\",\"SE\",\"SE\",\"SE\",\"SE\",\"SE\",\"SE\",\"SE\",\"SE\",\"SE\",\"SE\",\"SE\",\"SE\",\"SE\",\"SE\",\"SE\",\"SE\",\"SE\",\"SE\",\"SE\",\"SE\",\"SE\",\"MI\",\"MI\",\"SE\",\"SE\",\"MI\",\"MI\",\"SE\",\"SE\",\"MI\",\"MI\",\"SE\",\"SE\",\"EX\",\"EX\",\"SE\",\"SE\",\"SE\",\"SE\",\"SE\",\"SE\",\"MI\",\"EX\",\"MI\",\"MI\",\"MI\",\"MI\",\"MI\",\"EN\",\"MI\",\"MI\",\"MI\",\"EN\",\"SE\",\"MI\",\"EN\",\"MI\",\"SE\",\"EN\",\"MI\",\"SE\",\"SE\",\"MI\",\"EN\",\"MI\",\"SE\",\"SE\",\"EN\",\"SE\",\"MI\",\"SE\",\"SE\",\"MI\",\"MI\",\"EN\",\"EN\",\"MI\",\"SE\",\"EN\",\"MI\",\"SE\",\"SE\",\"MI\",\"SE\",\"MI\",\"MI\",\"EN\",\"EN\",\"MI\",\"EN\",\"SE\",\"SE\",\"EN\",\"EN\",\"SE\",\"EN\",\"EN\"],\"xaxis\":\"x2\",\"yaxis\":\"y2\",\"type\":\"histogram\",\"textposition\":\"auto\"},{\"alignmentgroup\":\"True\",\"bingroup\":\"x\",\"hovertemplate\":\"work_year=2020<br>Experience Level=%{x}<br>count=%{y}<extra></extra>\",\"legendgroup\":\"\",\"marker\":{\"color\":\"brown\",\"pattern\":{\"shape\":\"\"}},\"name\":\"\",\"nbinsx\":7,\"offsetgroup\":\"\",\"orientation\":\"v\",\"showlegend\":false,\"texttemplate\":\"%{value}\",\"x\":[\"EX\",\"MI\",\"EN\",\"EN\",\"EN\",\"EN\",\"SE\",\"EN\",\"MI\",\"MI\",\"EN\",\"SE\",\"MI\",\"MI\",\"MI\",\"MI\",\"EN\",\"EN\",\"EN\",\"MI\",\"EX\",\"MI\",\"MI\",\"MI\",\"EN\",\"MI\",\"SE\",\"MI\",\"MI\",\"EN\",\"SE\",\"EN\",\"EN\",\"MI\",\"SE\",\"SE\",\"MI\",\"SE\",\"EN\",\"SE\",\"MI\",\"MI\",\"SE\",\"EN\",\"MI\",\"EN\",\"MI\",\"MI\",\"MI\",\"EN\",\"SE\",\"EN\",\"MI\",\"MI\",\"SE\",\"MI\",\"EX\",\"EN\",\"MI\",\"EN\",\"EN\",\"MI\",\"SE\",\"SE\",\"SE\",\"MI\",\"SE\",\"MI\",\"SE\",\"MI\",\"MI\",\"MI\",\"SE\",\"SE\",\"EN\",\"EN\"],\"xaxis\":\"x3\",\"yaxis\":\"y3\",\"type\":\"histogram\",\"textposition\":\"auto\"},{\"alignmentgroup\":\"True\",\"bingroup\":\"x\",\"hovertemplate\":\"work_year=2021<br>Experience Level=%{x}<br>count=%{y}<extra></extra>\",\"legendgroup\":\"\",\"marker\":{\"color\":\"brown\",\"pattern\":{\"shape\":\"\"}},\"name\":\"\",\"nbinsx\":7,\"offsetgroup\":\"\",\"orientation\":\"v\",\"showlegend\":false,\"texttemplate\":\"%{value}\",\"x\":[\"MI\",\"MI\",\"EN\",\"SE\",\"MI\",\"SE\",\"EN\",\"MI\",\"EN\",\"MI\",\"EN\",\"EN\",\"EN\",\"EN\",\"EN\",\"SE\",\"EN\",\"SE\",\"MI\",\"MI\",\"SE\",\"MI\",\"SE\",\"SE\",\"MI\",\"EN\",\"SE\",\"MI\",\"MI\",\"MI\",\"EN\",\"SE\",\"MI\",\"MI\",\"EN\",\"SE\",\"EN\",\"MI\",\"SE\",\"EN\",\"EN\",\"EN\",\"SE\",\"MI\",\"MI\",\"EN\",\"MI\",\"SE\",\"MI\",\"MI\",\"MI\",\"MI\",\"EN\",\"EX\",\"EN\",\"EX\",\"EN\",\"EX\",\"EX\",\"EN\",\"SE\",\"SE\",\"SE\",\"EN\",\"MI\",\"MI\",\"SE\",\"MI\",\"EN\",\"EN\",\"MI\",\"EN\",\"MI\",\"MI\",\"MI\",\"MI\",\"EX\",\"MI\",\"MI\",\"EN\",\"EN\",\"SE\",\"MI\",\"SE\",\"SE\",\"EN\",\"MI\",\"SE\",\"EX\",\"EX\",\"EN\",\"EN\",\"SE\",\"SE\",\"SE\",\"SE\",\"EN\",\"SE\",\"SE\",\"MI\",\"MI\",\"MI\",\"SE\",\"MI\",\"EN\",\"MI\",\"EN\",\"SE\",\"SE\",\"MI\",\"SE\",\"MI\",\"EN\",\"SE\",\"EN\",\"SE\",\"SE\",\"MI\",\"EN\",\"MI\",\"SE\",\"SE\",\"MI\",\"SE\",\"EN\",\"MI\",\"MI\",\"MI\",\"SE\",\"SE\",\"SE\",\"MI\",\"EN\",\"SE\",\"MI\",\"EN\",\"MI\",\"SE\",\"SE\",\"EN\",\"EN\",\"SE\",\"EN\",\"EN\",\"SE\",\"EN\",\"MI\",\"MI\",\"MI\",\"SE\",\"MI\",\"SE\",\"MI\",\"SE\",\"EX\",\"EN\",\"SE\",\"SE\",\"EN\",\"SE\",\"SE\",\"EN\",\"MI\",\"SE\",\"SE\",\"EN\",\"EX\",\"SE\",\"MI\",\"MI\",\"MI\",\"MI\",\"EN\",\"MI\",\"EN\",\"MI\",\"SE\",\"MI\",\"EX\",\"SE\",\"MI\",\"MI\",\"MI\",\"MI\",\"MI\",\"EN\",\"MI\",\"MI\",\"MI\",\"MI\",\"SE\",\"MI\",\"SE\",\"MI\",\"SE\",\"MI\",\"MI\",\"SE\",\"EN\",\"SE\",\"MI\",\"SE\",\"SE\",\"SE\",\"MI\",\"SE\",\"MI\",\"SE\",\"MI\",\"MI\",\"SE\",\"EN\",\"SE\",\"MI\",\"EN\",\"MI\",\"SE\",\"MI\",\"EN\",\"MI\",\"MI\",\"MI\",\"MI\",\"SE\",\"MI\",\"MI\",\"MI\",\"SE\",\"MI\",\"SE\"],\"xaxis\":\"x4\",\"yaxis\":\"y4\",\"type\":\"histogram\",\"textposition\":\"auto\"}],                        {\"template\":{\"data\":{\"histogram2dcontour\":[{\"type\":\"histogram2dcontour\",\"colorbar\":{\"outlinewidth\":0,\"ticks\":\"\"},\"colorscale\":[[0.0,\"#0d0887\"],[0.1111111111111111,\"#46039f\"],[0.2222222222222222,\"#7201a8\"],[0.3333333333333333,\"#9c179e\"],[0.4444444444444444,\"#bd3786\"],[0.5555555555555556,\"#d8576b\"],[0.6666666666666666,\"#ed7953\"],[0.7777777777777778,\"#fb9f3a\"],[0.8888888888888888,\"#fdca26\"],[1.0,\"#f0f921\"]]}],\"choropleth\":[{\"type\":\"choropleth\",\"colorbar\":{\"outlinewidth\":0,\"ticks\":\"\"}}],\"histogram2d\":[{\"type\":\"histogram2d\",\"colorbar\":{\"outlinewidth\":0,\"ticks\":\"\"},\"colorscale\":[[0.0,\"#0d0887\"],[0.1111111111111111,\"#46039f\"],[0.2222222222222222,\"#7201a8\"],[0.3333333333333333,\"#9c179e\"],[0.4444444444444444,\"#bd3786\"],[0.5555555555555556,\"#d8576b\"],[0.6666666666666666,\"#ed7953\"],[0.7777777777777778,\"#fb9f3a\"],[0.8888888888888888,\"#fdca26\"],[1.0,\"#f0f921\"]]}],\"heatmap\":[{\"type\":\"heatmap\",\"colorbar\":{\"outlinewidth\":0,\"ticks\":\"\"},\"colorscale\":[[0.0,\"#0d0887\"],[0.1111111111111111,\"#46039f\"],[0.2222222222222222,\"#7201a8\"],[0.3333333333333333,\"#9c179e\"],[0.4444444444444444,\"#bd3786\"],[0.5555555555555556,\"#d8576b\"],[0.6666666666666666,\"#ed7953\"],[0.7777777777777778,\"#fb9f3a\"],[0.8888888888888888,\"#fdca26\"],[1.0,\"#f0f921\"]]}],\"heatmapgl\":[{\"type\":\"heatmapgl\",\"colorbar\":{\"outlinewidth\":0,\"ticks\":\"\"},\"colorscale\":[[0.0,\"#0d0887\"],[0.1111111111111111,\"#46039f\"],[0.2222222222222222,\"#7201a8\"],[0.3333333333333333,\"#9c179e\"],[0.4444444444444444,\"#bd3786\"],[0.5555555555555556,\"#d8576b\"],[0.6666666666666666,\"#ed7953\"],[0.7777777777777778,\"#fb9f3a\"],[0.8888888888888888,\"#fdca26\"],[1.0,\"#f0f921\"]]}],\"contourcarpet\":[{\"type\":\"contourcarpet\",\"colorbar\":{\"outlinewidth\":0,\"ticks\":\"\"}}],\"contour\":[{\"type\":\"contour\",\"colorbar\":{\"outlinewidth\":0,\"ticks\":\"\"},\"colorscale\":[[0.0,\"#0d0887\"],[0.1111111111111111,\"#46039f\"],[0.2222222222222222,\"#7201a8\"],[0.3333333333333333,\"#9c179e\"],[0.4444444444444444,\"#bd3786\"],[0.5555555555555556,\"#d8576b\"],[0.6666666666666666,\"#ed7953\"],[0.7777777777777778,\"#fb9f3a\"],[0.8888888888888888,\"#fdca26\"],[1.0,\"#f0f921\"]]}],\"surface\":[{\"type\":\"surface\",\"colorbar\":{\"outlinewidth\":0,\"ticks\":\"\"},\"colorscale\":[[0.0,\"#0d0887\"],[0.1111111111111111,\"#46039f\"],[0.2222222222222222,\"#7201a8\"],[0.3333333333333333,\"#9c179e\"],[0.4444444444444444,\"#bd3786\"],[0.5555555555555556,\"#d8576b\"],[0.6666666666666666,\"#ed7953\"],[0.7777777777777778,\"#fb9f3a\"],[0.8888888888888888,\"#fdca26\"],[1.0,\"#f0f921\"]]}],\"mesh3d\":[{\"type\":\"mesh3d\",\"colorbar\":{\"outlinewidth\":0,\"ticks\":\"\"}}],\"scatter\":[{\"fillpattern\":{\"fillmode\":\"overlay\",\"size\":10,\"solidity\":0.2},\"type\":\"scatter\"}],\"parcoords\":[{\"type\":\"parcoords\",\"line\":{\"colorbar\":{\"outlinewidth\":0,\"ticks\":\"\"}}}],\"scatterpolargl\":[{\"type\":\"scatterpolargl\",\"marker\":{\"colorbar\":{\"outlinewidth\":0,\"ticks\":\"\"}}}],\"bar\":[{\"error_x\":{\"color\":\"#2a3f5f\"},\"error_y\":{\"color\":\"#2a3f5f\"},\"marker\":{\"line\":{\"color\":\"#E5ECF6\",\"width\":0.5},\"pattern\":{\"fillmode\":\"overlay\",\"size\":10,\"solidity\":0.2}},\"type\":\"bar\"}],\"scattergeo\":[{\"type\":\"scattergeo\",\"marker\":{\"colorbar\":{\"outlinewidth\":0,\"ticks\":\"\"}}}],\"scatterpolar\":[{\"type\":\"scatterpolar\",\"marker\":{\"colorbar\":{\"outlinewidth\":0,\"ticks\":\"\"}}}],\"histogram\":[{\"marker\":{\"pattern\":{\"fillmode\":\"overlay\",\"size\":10,\"solidity\":0.2}},\"type\":\"histogram\"}],\"scattergl\":[{\"type\":\"scattergl\",\"marker\":{\"colorbar\":{\"outlinewidth\":0,\"ticks\":\"\"}}}],\"scatter3d\":[{\"type\":\"scatter3d\",\"line\":{\"colorbar\":{\"outlinewidth\":0,\"ticks\":\"\"}},\"marker\":{\"colorbar\":{\"outlinewidth\":0,\"ticks\":\"\"}}}],\"scattermapbox\":[{\"type\":\"scattermapbox\",\"marker\":{\"colorbar\":{\"outlinewidth\":0,\"ticks\":\"\"}}}],\"scatterternary\":[{\"type\":\"scatterternary\",\"marker\":{\"colorbar\":{\"outlinewidth\":0,\"ticks\":\"\"}}}],\"scattercarpet\":[{\"type\":\"scattercarpet\",\"marker\":{\"colorbar\":{\"outlinewidth\":0,\"ticks\":\"\"}}}],\"carpet\":[{\"aaxis\":{\"endlinecolor\":\"#2a3f5f\",\"gridcolor\":\"white\",\"linecolor\":\"white\",\"minorgridcolor\":\"white\",\"startlinecolor\":\"#2a3f5f\"},\"baxis\":{\"endlinecolor\":\"#2a3f5f\",\"gridcolor\":\"white\",\"linecolor\":\"white\",\"minorgridcolor\":\"white\",\"startlinecolor\":\"#2a3f5f\"},\"type\":\"carpet\"}],\"table\":[{\"cells\":{\"fill\":{\"color\":\"#EBF0F8\"},\"line\":{\"color\":\"white\"}},\"header\":{\"fill\":{\"color\":\"#C8D4E3\"},\"line\":{\"color\":\"white\"}},\"type\":\"table\"}],\"barpolar\":[{\"marker\":{\"line\":{\"color\":\"#E5ECF6\",\"width\":0.5},\"pattern\":{\"fillmode\":\"overlay\",\"size\":10,\"solidity\":0.2}},\"type\":\"barpolar\"}],\"pie\":[{\"automargin\":true,\"type\":\"pie\"}]},\"layout\":{\"autotypenumbers\":\"strict\",\"colorway\":[\"#636efa\",\"#EF553B\",\"#00cc96\",\"#ab63fa\",\"#FFA15A\",\"#19d3f3\",\"#FF6692\",\"#B6E880\",\"#FF97FF\",\"#FECB52\"],\"font\":{\"color\":\"#2a3f5f\"},\"hovermode\":\"closest\",\"hoverlabel\":{\"align\":\"left\"},\"paper_bgcolor\":\"white\",\"plot_bgcolor\":\"#E5ECF6\",\"polar\":{\"bgcolor\":\"#E5ECF6\",\"angularaxis\":{\"gridcolor\":\"white\",\"linecolor\":\"white\",\"ticks\":\"\"},\"radialaxis\":{\"gridcolor\":\"white\",\"linecolor\":\"white\",\"ticks\":\"\"}},\"ternary\":{\"bgcolor\":\"#E5ECF6\",\"aaxis\":{\"gridcolor\":\"white\",\"linecolor\":\"white\",\"ticks\":\"\"},\"baxis\":{\"gridcolor\":\"white\",\"linecolor\":\"white\",\"ticks\":\"\"},\"caxis\":{\"gridcolor\":\"white\",\"linecolor\":\"white\",\"ticks\":\"\"}},\"coloraxis\":{\"colorbar\":{\"outlinewidth\":0,\"ticks\":\"\"}},\"colorscale\":{\"sequential\":[[0.0,\"#0d0887\"],[0.1111111111111111,\"#46039f\"],[0.2222222222222222,\"#7201a8\"],[0.3333333333333333,\"#9c179e\"],[0.4444444444444444,\"#bd3786\"],[0.5555555555555556,\"#d8576b\"],[0.6666666666666666,\"#ed7953\"],[0.7777777777777778,\"#fb9f3a\"],[0.8888888888888888,\"#fdca26\"],[1.0,\"#f0f921\"]],\"sequentialminus\":[[0.0,\"#0d0887\"],[0.1111111111111111,\"#46039f\"],[0.2222222222222222,\"#7201a8\"],[0.3333333333333333,\"#9c179e\"],[0.4444444444444444,\"#bd3786\"],[0.5555555555555556,\"#d8576b\"],[0.6666666666666666,\"#ed7953\"],[0.7777777777777778,\"#fb9f3a\"],[0.8888888888888888,\"#fdca26\"],[1.0,\"#f0f921\"]],\"diverging\":[[0,\"#8e0152\"],[0.1,\"#c51b7d\"],[0.2,\"#de77ae\"],[0.3,\"#f1b6da\"],[0.4,\"#fde0ef\"],[0.5,\"#f7f7f7\"],[0.6,\"#e6f5d0\"],[0.7,\"#b8e186\"],[0.8,\"#7fbc41\"],[0.9,\"#4d9221\"],[1,\"#276419\"]]},\"xaxis\":{\"gridcolor\":\"white\",\"linecolor\":\"white\",\"ticks\":\"\",\"title\":{\"standoff\":15},\"zerolinecolor\":\"white\",\"automargin\":true,\"zerolinewidth\":2},\"yaxis\":{\"gridcolor\":\"white\",\"linecolor\":\"white\",\"ticks\":\"\",\"title\":{\"standoff\":15},\"zerolinecolor\":\"white\",\"automargin\":true,\"zerolinewidth\":2},\"scene\":{\"xaxis\":{\"backgroundcolor\":\"#E5ECF6\",\"gridcolor\":\"white\",\"linecolor\":\"white\",\"showbackground\":true,\"ticks\":\"\",\"zerolinecolor\":\"white\",\"gridwidth\":2},\"yaxis\":{\"backgroundcolor\":\"#E5ECF6\",\"gridcolor\":\"white\",\"linecolor\":\"white\",\"showbackground\":true,\"ticks\":\"\",\"zerolinecolor\":\"white\",\"gridwidth\":2},\"zaxis\":{\"backgroundcolor\":\"#E5ECF6\",\"gridcolor\":\"white\",\"linecolor\":\"white\",\"showbackground\":true,\"ticks\":\"\",\"zerolinecolor\":\"white\",\"gridwidth\":2}},\"shapedefaults\":{\"line\":{\"color\":\"#2a3f5f\"}},\"annotationdefaults\":{\"arrowcolor\":\"#2a3f5f\",\"arrowhead\":0,\"arrowwidth\":1},\"geo\":{\"bgcolor\":\"white\",\"landcolor\":\"#E5ECF6\",\"subunitcolor\":\"white\",\"showland\":true,\"showlakes\":true,\"lakecolor\":\"white\"},\"title\":{\"x\":0.05},\"mapbox\":{\"style\":\"light\"}}},\"xaxis\":{\"anchor\":\"y\",\"domain\":[0.0,0.235],\"title\":{\"text\":\"Experience Level\"}},\"yaxis\":{\"anchor\":\"x\",\"domain\":[0.0,1.0],\"title\":{\"text\":\"Count\"}},\"xaxis2\":{\"anchor\":\"y2\",\"domain\":[0.255,0.49],\"matches\":\"x\",\"title\":{\"text\":\"Experience Level\"}},\"yaxis2\":{\"anchor\":\"x2\",\"domain\":[0.0,1.0],\"matches\":\"y\",\"showticklabels\":false},\"xaxis3\":{\"anchor\":\"y3\",\"domain\":[0.51,0.745],\"matches\":\"x\",\"title\":{\"text\":\"Experience Level\"}},\"yaxis3\":{\"anchor\":\"x3\",\"domain\":[0.0,1.0],\"matches\":\"y\",\"showticklabels\":false},\"xaxis4\":{\"anchor\":\"y4\",\"domain\":[0.7649999999999999,0.9999999999999999],\"matches\":\"x\",\"title\":{\"text\":\"Experience Level\"}},\"yaxis4\":{\"anchor\":\"x4\",\"domain\":[0.0,1.0],\"matches\":\"y\",\"showticklabels\":false},\"annotations\":[{\"font\":{},\"showarrow\":false,\"text\":\"work_year=2023\",\"x\":0.1175,\"xanchor\":\"center\",\"xref\":\"paper\",\"y\":1.0,\"yanchor\":\"bottom\",\"yref\":\"paper\"},{\"font\":{},\"showarrow\":false,\"text\":\"work_year=2022\",\"x\":0.3725,\"xanchor\":\"center\",\"xref\":\"paper\",\"y\":1.0,\"yanchor\":\"bottom\",\"yref\":\"paper\"},{\"font\":{},\"showarrow\":false,\"text\":\"work_year=2020\",\"x\":0.6275,\"xanchor\":\"center\",\"xref\":\"paper\",\"y\":1.0,\"yanchor\":\"bottom\",\"yref\":\"paper\"},{\"font\":{},\"showarrow\":false,\"text\":\"work_year=2021\",\"x\":0.8824999999999998,\"xanchor\":\"center\",\"xref\":\"paper\",\"y\":1.0,\"yanchor\":\"bottom\",\"yref\":\"paper\"}],\"legend\":{\"tracegroupgap\":0},\"title\":{\"text\":\"Distribution of Experience Levels across Work Years\"},\"barmode\":\"relative\"},                        {\"responsive\": true}                    ).then(function(){\n",
       "                            \n",
       "var gd = document.getElementById('261ac719-9159-467b-9abd-8020732e567b');\n",
       "var x = new MutationObserver(function (mutations, observer) {{\n",
       "        var display = window.getComputedStyle(gd).display;\n",
       "        if (!display || display === 'none') {{\n",
       "            console.log([gd, 'removed!']);\n",
       "            Plotly.purge(gd);\n",
       "            observer.disconnect();\n",
       "        }}\n",
       "}});\n",
       "\n",
       "// Listen for the removal of the full notebook cells\n",
       "var notebookContainer = gd.closest('#notebook-container');\n",
       "if (notebookContainer) {{\n",
       "    x.observe(notebookContainer, {childList: true});\n",
       "}}\n",
       "\n",
       "// Listen for the clearing of the current output cell\n",
       "var outputEl = gd.closest('.output');\n",
       "if (outputEl) {{\n",
       "    x.observe(outputEl, {childList: true});\n",
       "}}\n",
       "\n",
       "                        })                };                });            </script>        </div>"
      ]
     },
     "metadata": {},
     "output_type": "display_data"
    }
   ],
   "source": [
    "# Create a histogram with facet columns\n",
    "fig = px.histogram(\n",
    "    data_frame=df,\n",
    "    x='experience_level',\n",
    "    facet_col='work_year',\n",
    "    nbins=7,\n",
    "    text_auto=True,\n",
    "    labels={'experience_level': 'Experience Level', 'count': 'Count'},\n",
    "    title='Distribution of Experience Levels across Work Years'\n",
    ")\n",
    "\n",
    "# Configure histogram aesthetics\n",
    "fig.update_traces(\n",
    "    textposition='auto',\n",
    "    marker_color='brown',\n",
    ")\n",
    "\n",
    "# Update layout\n",
    "fig.update_layout(yaxis_title='Count')\n",
    "\n",
    "# Show the histogram\n",
    "fig.show()"
   ]
  },
  {
   "cell_type": "code",
   "execution_count": 140,
   "id": "f1bbe964",
   "metadata": {},
   "outputs": [
    {
     "data": {
      "application/vnd.plotly.v1+json": {
       "config": {
        "plotlyServerURL": "https://plot.ly"
       },
       "data": [
        {
         "domain": {
          "x": [
           0,
           0.45
          ],
          "y": [
           0,
           1
          ]
         },
         "hole": 0.4,
         "labels": [
          "SE",
          "MI",
          "EN",
          "EX"
         ],
         "marker": {
          "colors": [
           "rgb(103,0,31)",
           "rgb(178,24,43)",
           "rgb(214,96,77)",
           "rgb(244,165,130)",
           "rgb(253,219,199)",
           "rgb(247,247,247)",
           "rgb(209,229,240)",
           "rgb(146,197,222)",
           "rgb(67,147,195)",
           "rgb(33,102,172)",
           "rgb(5,48,97)"
          ],
          "line": {
           "color": "lavender",
           "width": 2.5
          }
         },
         "name": "Value Counts",
         "pull": [
          0,
          0,
          0,
          0.2
         ],
         "textinfo": "label+percent",
         "type": "pie",
         "values": [
          2516,
          805,
          320,
          114
         ]
        },
        {
         "domain": {
          "x": [
           0.55,
           1
          ],
          "y": [
           0,
           1
          ]
         },
         "hole": 0.4,
         "labels": [
          "EN",
          "EX",
          "MI",
          "SE"
         ],
         "marker": {
          "colors": [
           "rgb(103,0,31)",
           "rgb(178,24,43)",
           "rgb(214,96,77)",
           "rgb(244,165,130)",
           "rgb(253,219,199)",
           "rgb(247,247,247)",
           "rgb(209,229,240)",
           "rgb(146,197,222)",
           "rgb(67,147,195)",
           "rgb(33,102,172)",
           "rgb(5,48,97)"
          ],
          "line": {
           "color": "lavender",
           "width": 2.5
          }
         },
         "name": "Mean Salary",
         "pull": [
          0,
          0.2,
          0,
          0
         ],
         "textinfo": "label+percent",
         "type": "pie",
         "values": [
          78546.284375,
          194930.9298245614,
          104525.93913043478,
          153051.07154213038
         ]
        }
       ],
       "layout": {
        "annotations": [
         {
          "font": {
           "size": 17
          },
          "showarrow": false,
          "text": "Value Counts",
          "x": 0.17
         },
         {
          "font": {
           "size": 20
          },
          "showarrow": false,
          "text": "Mean Salary",
          "x": 0.83
         }
        ],
        "height": 600,
        "template": {
         "data": {
          "bar": [
           {
            "error_x": {
             "color": "#2a3f5f"
            },
            "error_y": {
             "color": "#2a3f5f"
            },
            "marker": {
             "line": {
              "color": "#E5ECF6",
              "width": 0.5
             },
             "pattern": {
              "fillmode": "overlay",
              "size": 10,
              "solidity": 0.2
             }
            },
            "type": "bar"
           }
          ],
          "barpolar": [
           {
            "marker": {
             "line": {
              "color": "#E5ECF6",
              "width": 0.5
             },
             "pattern": {
              "fillmode": "overlay",
              "size": 10,
              "solidity": 0.2
             }
            },
            "type": "barpolar"
           }
          ],
          "carpet": [
           {
            "aaxis": {
             "endlinecolor": "#2a3f5f",
             "gridcolor": "white",
             "linecolor": "white",
             "minorgridcolor": "white",
             "startlinecolor": "#2a3f5f"
            },
            "baxis": {
             "endlinecolor": "#2a3f5f",
             "gridcolor": "white",
             "linecolor": "white",
             "minorgridcolor": "white",
             "startlinecolor": "#2a3f5f"
            },
            "type": "carpet"
           }
          ],
          "choropleth": [
           {
            "colorbar": {
             "outlinewidth": 0,
             "ticks": ""
            },
            "type": "choropleth"
           }
          ],
          "contour": [
           {
            "colorbar": {
             "outlinewidth": 0,
             "ticks": ""
            },
            "colorscale": [
             [
              0,
              "#0d0887"
             ],
             [
              0.1111111111111111,
              "#46039f"
             ],
             [
              0.2222222222222222,
              "#7201a8"
             ],
             [
              0.3333333333333333,
              "#9c179e"
             ],
             [
              0.4444444444444444,
              "#bd3786"
             ],
             [
              0.5555555555555556,
              "#d8576b"
             ],
             [
              0.6666666666666666,
              "#ed7953"
             ],
             [
              0.7777777777777778,
              "#fb9f3a"
             ],
             [
              0.8888888888888888,
              "#fdca26"
             ],
             [
              1,
              "#f0f921"
             ]
            ],
            "type": "contour"
           }
          ],
          "contourcarpet": [
           {
            "colorbar": {
             "outlinewidth": 0,
             "ticks": ""
            },
            "type": "contourcarpet"
           }
          ],
          "heatmap": [
           {
            "colorbar": {
             "outlinewidth": 0,
             "ticks": ""
            },
            "colorscale": [
             [
              0,
              "#0d0887"
             ],
             [
              0.1111111111111111,
              "#46039f"
             ],
             [
              0.2222222222222222,
              "#7201a8"
             ],
             [
              0.3333333333333333,
              "#9c179e"
             ],
             [
              0.4444444444444444,
              "#bd3786"
             ],
             [
              0.5555555555555556,
              "#d8576b"
             ],
             [
              0.6666666666666666,
              "#ed7953"
             ],
             [
              0.7777777777777778,
              "#fb9f3a"
             ],
             [
              0.8888888888888888,
              "#fdca26"
             ],
             [
              1,
              "#f0f921"
             ]
            ],
            "type": "heatmap"
           }
          ],
          "heatmapgl": [
           {
            "colorbar": {
             "outlinewidth": 0,
             "ticks": ""
            },
            "colorscale": [
             [
              0,
              "#0d0887"
             ],
             [
              0.1111111111111111,
              "#46039f"
             ],
             [
              0.2222222222222222,
              "#7201a8"
             ],
             [
              0.3333333333333333,
              "#9c179e"
             ],
             [
              0.4444444444444444,
              "#bd3786"
             ],
             [
              0.5555555555555556,
              "#d8576b"
             ],
             [
              0.6666666666666666,
              "#ed7953"
             ],
             [
              0.7777777777777778,
              "#fb9f3a"
             ],
             [
              0.8888888888888888,
              "#fdca26"
             ],
             [
              1,
              "#f0f921"
             ]
            ],
            "type": "heatmapgl"
           }
          ],
          "histogram": [
           {
            "marker": {
             "pattern": {
              "fillmode": "overlay",
              "size": 10,
              "solidity": 0.2
             }
            },
            "type": "histogram"
           }
          ],
          "histogram2d": [
           {
            "colorbar": {
             "outlinewidth": 0,
             "ticks": ""
            },
            "colorscale": [
             [
              0,
              "#0d0887"
             ],
             [
              0.1111111111111111,
              "#46039f"
             ],
             [
              0.2222222222222222,
              "#7201a8"
             ],
             [
              0.3333333333333333,
              "#9c179e"
             ],
             [
              0.4444444444444444,
              "#bd3786"
             ],
             [
              0.5555555555555556,
              "#d8576b"
             ],
             [
              0.6666666666666666,
              "#ed7953"
             ],
             [
              0.7777777777777778,
              "#fb9f3a"
             ],
             [
              0.8888888888888888,
              "#fdca26"
             ],
             [
              1,
              "#f0f921"
             ]
            ],
            "type": "histogram2d"
           }
          ],
          "histogram2dcontour": [
           {
            "colorbar": {
             "outlinewidth": 0,
             "ticks": ""
            },
            "colorscale": [
             [
              0,
              "#0d0887"
             ],
             [
              0.1111111111111111,
              "#46039f"
             ],
             [
              0.2222222222222222,
              "#7201a8"
             ],
             [
              0.3333333333333333,
              "#9c179e"
             ],
             [
              0.4444444444444444,
              "#bd3786"
             ],
             [
              0.5555555555555556,
              "#d8576b"
             ],
             [
              0.6666666666666666,
              "#ed7953"
             ],
             [
              0.7777777777777778,
              "#fb9f3a"
             ],
             [
              0.8888888888888888,
              "#fdca26"
             ],
             [
              1,
              "#f0f921"
             ]
            ],
            "type": "histogram2dcontour"
           }
          ],
          "mesh3d": [
           {
            "colorbar": {
             "outlinewidth": 0,
             "ticks": ""
            },
            "type": "mesh3d"
           }
          ],
          "parcoords": [
           {
            "line": {
             "colorbar": {
              "outlinewidth": 0,
              "ticks": ""
             }
            },
            "type": "parcoords"
           }
          ],
          "pie": [
           {
            "automargin": true,
            "type": "pie"
           }
          ],
          "scatter": [
           {
            "fillpattern": {
             "fillmode": "overlay",
             "size": 10,
             "solidity": 0.2
            },
            "type": "scatter"
           }
          ],
          "scatter3d": [
           {
            "line": {
             "colorbar": {
              "outlinewidth": 0,
              "ticks": ""
             }
            },
            "marker": {
             "colorbar": {
              "outlinewidth": 0,
              "ticks": ""
             }
            },
            "type": "scatter3d"
           }
          ],
          "scattercarpet": [
           {
            "marker": {
             "colorbar": {
              "outlinewidth": 0,
              "ticks": ""
             }
            },
            "type": "scattercarpet"
           }
          ],
          "scattergeo": [
           {
            "marker": {
             "colorbar": {
              "outlinewidth": 0,
              "ticks": ""
             }
            },
            "type": "scattergeo"
           }
          ],
          "scattergl": [
           {
            "marker": {
             "colorbar": {
              "outlinewidth": 0,
              "ticks": ""
             }
            },
            "type": "scattergl"
           }
          ],
          "scattermapbox": [
           {
            "marker": {
             "colorbar": {
              "outlinewidth": 0,
              "ticks": ""
             }
            },
            "type": "scattermapbox"
           }
          ],
          "scatterpolar": [
           {
            "marker": {
             "colorbar": {
              "outlinewidth": 0,
              "ticks": ""
             }
            },
            "type": "scatterpolar"
           }
          ],
          "scatterpolargl": [
           {
            "marker": {
             "colorbar": {
              "outlinewidth": 0,
              "ticks": ""
             }
            },
            "type": "scatterpolargl"
           }
          ],
          "scatterternary": [
           {
            "marker": {
             "colorbar": {
              "outlinewidth": 0,
              "ticks": ""
             }
            },
            "type": "scatterternary"
           }
          ],
          "surface": [
           {
            "colorbar": {
             "outlinewidth": 0,
             "ticks": ""
            },
            "colorscale": [
             [
              0,
              "#0d0887"
             ],
             [
              0.1111111111111111,
              "#46039f"
             ],
             [
              0.2222222222222222,
              "#7201a8"
             ],
             [
              0.3333333333333333,
              "#9c179e"
             ],
             [
              0.4444444444444444,
              "#bd3786"
             ],
             [
              0.5555555555555556,
              "#d8576b"
             ],
             [
              0.6666666666666666,
              "#ed7953"
             ],
             [
              0.7777777777777778,
              "#fb9f3a"
             ],
             [
              0.8888888888888888,
              "#fdca26"
             ],
             [
              1,
              "#f0f921"
             ]
            ],
            "type": "surface"
           }
          ],
          "table": [
           {
            "cells": {
             "fill": {
              "color": "#EBF0F8"
             },
             "line": {
              "color": "white"
             }
            },
            "header": {
             "fill": {
              "color": "#C8D4E3"
             },
             "line": {
              "color": "white"
             }
            },
            "type": "table"
           }
          ]
         },
         "layout": {
          "annotationdefaults": {
           "arrowcolor": "#2a3f5f",
           "arrowhead": 0,
           "arrowwidth": 1
          },
          "autotypenumbers": "strict",
          "coloraxis": {
           "colorbar": {
            "outlinewidth": 0,
            "ticks": ""
           }
          },
          "colorscale": {
           "diverging": [
            [
             0,
             "#8e0152"
            ],
            [
             0.1,
             "#c51b7d"
            ],
            [
             0.2,
             "#de77ae"
            ],
            [
             0.3,
             "#f1b6da"
            ],
            [
             0.4,
             "#fde0ef"
            ],
            [
             0.5,
             "#f7f7f7"
            ],
            [
             0.6,
             "#e6f5d0"
            ],
            [
             0.7,
             "#b8e186"
            ],
            [
             0.8,
             "#7fbc41"
            ],
            [
             0.9,
             "#4d9221"
            ],
            [
             1,
             "#276419"
            ]
           ],
           "sequential": [
            [
             0,
             "#0d0887"
            ],
            [
             0.1111111111111111,
             "#46039f"
            ],
            [
             0.2222222222222222,
             "#7201a8"
            ],
            [
             0.3333333333333333,
             "#9c179e"
            ],
            [
             0.4444444444444444,
             "#bd3786"
            ],
            [
             0.5555555555555556,
             "#d8576b"
            ],
            [
             0.6666666666666666,
             "#ed7953"
            ],
            [
             0.7777777777777778,
             "#fb9f3a"
            ],
            [
             0.8888888888888888,
             "#fdca26"
            ],
            [
             1,
             "#f0f921"
            ]
           ],
           "sequentialminus": [
            [
             0,
             "#0d0887"
            ],
            [
             0.1111111111111111,
             "#46039f"
            ],
            [
             0.2222222222222222,
             "#7201a8"
            ],
            [
             0.3333333333333333,
             "#9c179e"
            ],
            [
             0.4444444444444444,
             "#bd3786"
            ],
            [
             0.5555555555555556,
             "#d8576b"
            ],
            [
             0.6666666666666666,
             "#ed7953"
            ],
            [
             0.7777777777777778,
             "#fb9f3a"
            ],
            [
             0.8888888888888888,
             "#fdca26"
            ],
            [
             1,
             "#f0f921"
            ]
           ]
          },
          "colorway": [
           "#636efa",
           "#EF553B",
           "#00cc96",
           "#ab63fa",
           "#FFA15A",
           "#19d3f3",
           "#FF6692",
           "#B6E880",
           "#FF97FF",
           "#FECB52"
          ],
          "font": {
           "color": "#2a3f5f"
          },
          "geo": {
           "bgcolor": "white",
           "lakecolor": "white",
           "landcolor": "#E5ECF6",
           "showlakes": true,
           "showland": true,
           "subunitcolor": "white"
          },
          "hoverlabel": {
           "align": "left"
          },
          "hovermode": "closest",
          "mapbox": {
           "style": "light"
          },
          "paper_bgcolor": "white",
          "plot_bgcolor": "#E5ECF6",
          "polar": {
           "angularaxis": {
            "gridcolor": "white",
            "linecolor": "white",
            "ticks": ""
           },
           "bgcolor": "#E5ECF6",
           "radialaxis": {
            "gridcolor": "white",
            "linecolor": "white",
            "ticks": ""
           }
          },
          "scene": {
           "xaxis": {
            "backgroundcolor": "#E5ECF6",
            "gridcolor": "white",
            "gridwidth": 2,
            "linecolor": "white",
            "showbackground": true,
            "ticks": "",
            "zerolinecolor": "white"
           },
           "yaxis": {
            "backgroundcolor": "#E5ECF6",
            "gridcolor": "white",
            "gridwidth": 2,
            "linecolor": "white",
            "showbackground": true,
            "ticks": "",
            "zerolinecolor": "white"
           },
           "zaxis": {
            "backgroundcolor": "#E5ECF6",
            "gridcolor": "white",
            "gridwidth": 2,
            "linecolor": "white",
            "showbackground": true,
            "ticks": "",
            "zerolinecolor": "white"
           }
          },
          "shapedefaults": {
           "line": {
            "color": "#2a3f5f"
           }
          },
          "ternary": {
           "aaxis": {
            "gridcolor": "white",
            "linecolor": "white",
            "ticks": ""
           },
           "baxis": {
            "gridcolor": "white",
            "linecolor": "white",
            "ticks": ""
           },
           "bgcolor": "#E5ECF6",
           "caxis": {
            "gridcolor": "white",
            "linecolor": "white",
            "ticks": ""
           }
          },
          "title": {
           "x": 0.05
          },
          "xaxis": {
           "automargin": true,
           "gridcolor": "white",
           "linecolor": "white",
           "ticks": "",
           "title": {
            "standoff": 15
           },
           "zerolinecolor": "white",
           "zerolinewidth": 2
          },
          "yaxis": {
           "automargin": true,
           "gridcolor": "white",
           "linecolor": "white",
           "ticks": "",
           "title": {
            "standoff": 15
           },
           "zerolinecolor": "white",
           "zerolinewidth": 2
          }
         }
        },
        "title": {
         "text": "Distribution based on Experience Level"
        }
       }
      },
      "text/html": [
       "<div>                            <div id=\"5c4b680c-23b2-4e93-a604-8e62530ae094\" class=\"plotly-graph-div\" style=\"height:600px; width:100%;\"></div>            <script type=\"text/javascript\">                require([\"plotly\"], function(Plotly) {                    window.PLOTLYENV=window.PLOTLYENV || {};                                    if (document.getElementById(\"5c4b680c-23b2-4e93-a604-8e62530ae094\")) {                    Plotly.newPlot(                        \"5c4b680c-23b2-4e93-a604-8e62530ae094\",                        [{\"labels\":[\"SE\",\"MI\",\"EN\",\"EX\"],\"name\":\"Value Counts\",\"pull\":[0,0,0,0.2],\"values\":[2516,805,320,114],\"type\":\"pie\",\"domain\":{\"x\":[0.0,0.45],\"y\":[0.0,1.0]},\"marker\":{\"line\":{\"color\":\"lavender\",\"width\":2.5},\"colors\":[\"rgb(103,0,31)\",\"rgb(178,24,43)\",\"rgb(214,96,77)\",\"rgb(244,165,130)\",\"rgb(253,219,199)\",\"rgb(247,247,247)\",\"rgb(209,229,240)\",\"rgb(146,197,222)\",\"rgb(67,147,195)\",\"rgb(33,102,172)\",\"rgb(5,48,97)\"]},\"hole\":0.4,\"textinfo\":\"label+percent\"},{\"labels\":[\"EN\",\"EX\",\"MI\",\"SE\"],\"name\":\"Mean Salary\",\"pull\":[0,0.2,0,0],\"values\":[78546.284375,194930.9298245614,104525.93913043478,153051.07154213038],\"type\":\"pie\",\"domain\":{\"x\":[0.55,1.0],\"y\":[0.0,1.0]},\"marker\":{\"line\":{\"color\":\"lavender\",\"width\":2.5},\"colors\":[\"rgb(103,0,31)\",\"rgb(178,24,43)\",\"rgb(214,96,77)\",\"rgb(244,165,130)\",\"rgb(253,219,199)\",\"rgb(247,247,247)\",\"rgb(209,229,240)\",\"rgb(146,197,222)\",\"rgb(67,147,195)\",\"rgb(33,102,172)\",\"rgb(5,48,97)\"]},\"hole\":0.4,\"textinfo\":\"label+percent\"}],                        {\"template\":{\"data\":{\"histogram2dcontour\":[{\"type\":\"histogram2dcontour\",\"colorbar\":{\"outlinewidth\":0,\"ticks\":\"\"},\"colorscale\":[[0.0,\"#0d0887\"],[0.1111111111111111,\"#46039f\"],[0.2222222222222222,\"#7201a8\"],[0.3333333333333333,\"#9c179e\"],[0.4444444444444444,\"#bd3786\"],[0.5555555555555556,\"#d8576b\"],[0.6666666666666666,\"#ed7953\"],[0.7777777777777778,\"#fb9f3a\"],[0.8888888888888888,\"#fdca26\"],[1.0,\"#f0f921\"]]}],\"choropleth\":[{\"type\":\"choropleth\",\"colorbar\":{\"outlinewidth\":0,\"ticks\":\"\"}}],\"histogram2d\":[{\"type\":\"histogram2d\",\"colorbar\":{\"outlinewidth\":0,\"ticks\":\"\"},\"colorscale\":[[0.0,\"#0d0887\"],[0.1111111111111111,\"#46039f\"],[0.2222222222222222,\"#7201a8\"],[0.3333333333333333,\"#9c179e\"],[0.4444444444444444,\"#bd3786\"],[0.5555555555555556,\"#d8576b\"],[0.6666666666666666,\"#ed7953\"],[0.7777777777777778,\"#fb9f3a\"],[0.8888888888888888,\"#fdca26\"],[1.0,\"#f0f921\"]]}],\"heatmap\":[{\"type\":\"heatmap\",\"colorbar\":{\"outlinewidth\":0,\"ticks\":\"\"},\"colorscale\":[[0.0,\"#0d0887\"],[0.1111111111111111,\"#46039f\"],[0.2222222222222222,\"#7201a8\"],[0.3333333333333333,\"#9c179e\"],[0.4444444444444444,\"#bd3786\"],[0.5555555555555556,\"#d8576b\"],[0.6666666666666666,\"#ed7953\"],[0.7777777777777778,\"#fb9f3a\"],[0.8888888888888888,\"#fdca26\"],[1.0,\"#f0f921\"]]}],\"heatmapgl\":[{\"type\":\"heatmapgl\",\"colorbar\":{\"outlinewidth\":0,\"ticks\":\"\"},\"colorscale\":[[0.0,\"#0d0887\"],[0.1111111111111111,\"#46039f\"],[0.2222222222222222,\"#7201a8\"],[0.3333333333333333,\"#9c179e\"],[0.4444444444444444,\"#bd3786\"],[0.5555555555555556,\"#d8576b\"],[0.6666666666666666,\"#ed7953\"],[0.7777777777777778,\"#fb9f3a\"],[0.8888888888888888,\"#fdca26\"],[1.0,\"#f0f921\"]]}],\"contourcarpet\":[{\"type\":\"contourcarpet\",\"colorbar\":{\"outlinewidth\":0,\"ticks\":\"\"}}],\"contour\":[{\"type\":\"contour\",\"colorbar\":{\"outlinewidth\":0,\"ticks\":\"\"},\"colorscale\":[[0.0,\"#0d0887\"],[0.1111111111111111,\"#46039f\"],[0.2222222222222222,\"#7201a8\"],[0.3333333333333333,\"#9c179e\"],[0.4444444444444444,\"#bd3786\"],[0.5555555555555556,\"#d8576b\"],[0.6666666666666666,\"#ed7953\"],[0.7777777777777778,\"#fb9f3a\"],[0.8888888888888888,\"#fdca26\"],[1.0,\"#f0f921\"]]}],\"surface\":[{\"type\":\"surface\",\"colorbar\":{\"outlinewidth\":0,\"ticks\":\"\"},\"colorscale\":[[0.0,\"#0d0887\"],[0.1111111111111111,\"#46039f\"],[0.2222222222222222,\"#7201a8\"],[0.3333333333333333,\"#9c179e\"],[0.4444444444444444,\"#bd3786\"],[0.5555555555555556,\"#d8576b\"],[0.6666666666666666,\"#ed7953\"],[0.7777777777777778,\"#fb9f3a\"],[0.8888888888888888,\"#fdca26\"],[1.0,\"#f0f921\"]]}],\"mesh3d\":[{\"type\":\"mesh3d\",\"colorbar\":{\"outlinewidth\":0,\"ticks\":\"\"}}],\"scatter\":[{\"fillpattern\":{\"fillmode\":\"overlay\",\"size\":10,\"solidity\":0.2},\"type\":\"scatter\"}],\"parcoords\":[{\"type\":\"parcoords\",\"line\":{\"colorbar\":{\"outlinewidth\":0,\"ticks\":\"\"}}}],\"scatterpolargl\":[{\"type\":\"scatterpolargl\",\"marker\":{\"colorbar\":{\"outlinewidth\":0,\"ticks\":\"\"}}}],\"bar\":[{\"error_x\":{\"color\":\"#2a3f5f\"},\"error_y\":{\"color\":\"#2a3f5f\"},\"marker\":{\"line\":{\"color\":\"#E5ECF6\",\"width\":0.5},\"pattern\":{\"fillmode\":\"overlay\",\"size\":10,\"solidity\":0.2}},\"type\":\"bar\"}],\"scattergeo\":[{\"type\":\"scattergeo\",\"marker\":{\"colorbar\":{\"outlinewidth\":0,\"ticks\":\"\"}}}],\"scatterpolar\":[{\"type\":\"scatterpolar\",\"marker\":{\"colorbar\":{\"outlinewidth\":0,\"ticks\":\"\"}}}],\"histogram\":[{\"marker\":{\"pattern\":{\"fillmode\":\"overlay\",\"size\":10,\"solidity\":0.2}},\"type\":\"histogram\"}],\"scattergl\":[{\"type\":\"scattergl\",\"marker\":{\"colorbar\":{\"outlinewidth\":0,\"ticks\":\"\"}}}],\"scatter3d\":[{\"type\":\"scatter3d\",\"line\":{\"colorbar\":{\"outlinewidth\":0,\"ticks\":\"\"}},\"marker\":{\"colorbar\":{\"outlinewidth\":0,\"ticks\":\"\"}}}],\"scattermapbox\":[{\"type\":\"scattermapbox\",\"marker\":{\"colorbar\":{\"outlinewidth\":0,\"ticks\":\"\"}}}],\"scatterternary\":[{\"type\":\"scatterternary\",\"marker\":{\"colorbar\":{\"outlinewidth\":0,\"ticks\":\"\"}}}],\"scattercarpet\":[{\"type\":\"scattercarpet\",\"marker\":{\"colorbar\":{\"outlinewidth\":0,\"ticks\":\"\"}}}],\"carpet\":[{\"aaxis\":{\"endlinecolor\":\"#2a3f5f\",\"gridcolor\":\"white\",\"linecolor\":\"white\",\"minorgridcolor\":\"white\",\"startlinecolor\":\"#2a3f5f\"},\"baxis\":{\"endlinecolor\":\"#2a3f5f\",\"gridcolor\":\"white\",\"linecolor\":\"white\",\"minorgridcolor\":\"white\",\"startlinecolor\":\"#2a3f5f\"},\"type\":\"carpet\"}],\"table\":[{\"cells\":{\"fill\":{\"color\":\"#EBF0F8\"},\"line\":{\"color\":\"white\"}},\"header\":{\"fill\":{\"color\":\"#C8D4E3\"},\"line\":{\"color\":\"white\"}},\"type\":\"table\"}],\"barpolar\":[{\"marker\":{\"line\":{\"color\":\"#E5ECF6\",\"width\":0.5},\"pattern\":{\"fillmode\":\"overlay\",\"size\":10,\"solidity\":0.2}},\"type\":\"barpolar\"}],\"pie\":[{\"automargin\":true,\"type\":\"pie\"}]},\"layout\":{\"autotypenumbers\":\"strict\",\"colorway\":[\"#636efa\",\"#EF553B\",\"#00cc96\",\"#ab63fa\",\"#FFA15A\",\"#19d3f3\",\"#FF6692\",\"#B6E880\",\"#FF97FF\",\"#FECB52\"],\"font\":{\"color\":\"#2a3f5f\"},\"hovermode\":\"closest\",\"hoverlabel\":{\"align\":\"left\"},\"paper_bgcolor\":\"white\",\"plot_bgcolor\":\"#E5ECF6\",\"polar\":{\"bgcolor\":\"#E5ECF6\",\"angularaxis\":{\"gridcolor\":\"white\",\"linecolor\":\"white\",\"ticks\":\"\"},\"radialaxis\":{\"gridcolor\":\"white\",\"linecolor\":\"white\",\"ticks\":\"\"}},\"ternary\":{\"bgcolor\":\"#E5ECF6\",\"aaxis\":{\"gridcolor\":\"white\",\"linecolor\":\"white\",\"ticks\":\"\"},\"baxis\":{\"gridcolor\":\"white\",\"linecolor\":\"white\",\"ticks\":\"\"},\"caxis\":{\"gridcolor\":\"white\",\"linecolor\":\"white\",\"ticks\":\"\"}},\"coloraxis\":{\"colorbar\":{\"outlinewidth\":0,\"ticks\":\"\"}},\"colorscale\":{\"sequential\":[[0.0,\"#0d0887\"],[0.1111111111111111,\"#46039f\"],[0.2222222222222222,\"#7201a8\"],[0.3333333333333333,\"#9c179e\"],[0.4444444444444444,\"#bd3786\"],[0.5555555555555556,\"#d8576b\"],[0.6666666666666666,\"#ed7953\"],[0.7777777777777778,\"#fb9f3a\"],[0.8888888888888888,\"#fdca26\"],[1.0,\"#f0f921\"]],\"sequentialminus\":[[0.0,\"#0d0887\"],[0.1111111111111111,\"#46039f\"],[0.2222222222222222,\"#7201a8\"],[0.3333333333333333,\"#9c179e\"],[0.4444444444444444,\"#bd3786\"],[0.5555555555555556,\"#d8576b\"],[0.6666666666666666,\"#ed7953\"],[0.7777777777777778,\"#fb9f3a\"],[0.8888888888888888,\"#fdca26\"],[1.0,\"#f0f921\"]],\"diverging\":[[0,\"#8e0152\"],[0.1,\"#c51b7d\"],[0.2,\"#de77ae\"],[0.3,\"#f1b6da\"],[0.4,\"#fde0ef\"],[0.5,\"#f7f7f7\"],[0.6,\"#e6f5d0\"],[0.7,\"#b8e186\"],[0.8,\"#7fbc41\"],[0.9,\"#4d9221\"],[1,\"#276419\"]]},\"xaxis\":{\"gridcolor\":\"white\",\"linecolor\":\"white\",\"ticks\":\"\",\"title\":{\"standoff\":15},\"zerolinecolor\":\"white\",\"automargin\":true,\"zerolinewidth\":2},\"yaxis\":{\"gridcolor\":\"white\",\"linecolor\":\"white\",\"ticks\":\"\",\"title\":{\"standoff\":15},\"zerolinecolor\":\"white\",\"automargin\":true,\"zerolinewidth\":2},\"scene\":{\"xaxis\":{\"backgroundcolor\":\"#E5ECF6\",\"gridcolor\":\"white\",\"linecolor\":\"white\",\"showbackground\":true,\"ticks\":\"\",\"zerolinecolor\":\"white\",\"gridwidth\":2},\"yaxis\":{\"backgroundcolor\":\"#E5ECF6\",\"gridcolor\":\"white\",\"linecolor\":\"white\",\"showbackground\":true,\"ticks\":\"\",\"zerolinecolor\":\"white\",\"gridwidth\":2},\"zaxis\":{\"backgroundcolor\":\"#E5ECF6\",\"gridcolor\":\"white\",\"linecolor\":\"white\",\"showbackground\":true,\"ticks\":\"\",\"zerolinecolor\":\"white\",\"gridwidth\":2}},\"shapedefaults\":{\"line\":{\"color\":\"#2a3f5f\"}},\"annotationdefaults\":{\"arrowcolor\":\"#2a3f5f\",\"arrowhead\":0,\"arrowwidth\":1},\"geo\":{\"bgcolor\":\"white\",\"landcolor\":\"#E5ECF6\",\"subunitcolor\":\"white\",\"showland\":true,\"showlakes\":true,\"lakecolor\":\"white\"},\"title\":{\"x\":0.05},\"mapbox\":{\"style\":\"light\"}}},\"title\":{\"text\":\"Distribution based on Experience Level\"},\"height\":600,\"annotations\":[{\"showarrow\":false,\"text\":\"Value Counts\",\"x\":0.17,\"font\":{\"size\":17}},{\"showarrow\":false,\"text\":\"Mean Salary\",\"x\":0.83,\"font\":{\"size\":20}}]},                        {\"responsive\": true}                    ).then(function(){\n",
       "                            \n",
       "var gd = document.getElementById('5c4b680c-23b2-4e93-a604-8e62530ae094');\n",
       "var x = new MutationObserver(function (mutations, observer) {{\n",
       "        var display = window.getComputedStyle(gd).display;\n",
       "        if (!display || display === 'none') {{\n",
       "            console.log([gd, 'removed!']);\n",
       "            Plotly.purge(gd);\n",
       "            observer.disconnect();\n",
       "        }}\n",
       "}});\n",
       "\n",
       "// Listen for the removal of the full notebook cells\n",
       "var notebookContainer = gd.closest('#notebook-container');\n",
       "if (notebookContainer) {{\n",
       "    x.observe(notebookContainer, {childList: true});\n",
       "}}\n",
       "\n",
       "// Listen for the clearing of the current output cell\n",
       "var outputEl = gd.closest('.output');\n",
       "if (outputEl) {{\n",
       "    x.observe(outputEl, {childList: true});\n",
       "}}\n",
       "\n",
       "                        })                };                });            </script>        </div>"
      ]
     },
     "metadata": {},
     "output_type": "display_data"
    },
    {
     "data": {
      "application/vnd.plotly.v1+json": {
       "config": {
        "plotlyServerURL": "https://plot.ly"
       },
       "data": [
        {
         "marker": {
          "color": "brown",
          "line": {
           "color": "white",
           "width": 2.5
          }
         },
         "name": "Mean Salary (Bar)",
         "text": [
          78546.284375,
          194930.9298245614,
          104525.93913043478,
          153051.07154213038
         ],
         "type": "bar",
         "x": [
          "EN",
          "EX",
          "MI",
          "SE"
         ],
         "y": [
          78546.284375,
          194930.9298245614,
          104525.93913043478,
          153051.07154213038
         ]
        }
       ],
       "layout": {
        "height": 600,
        "template": {
         "data": {
          "bar": [
           {
            "error_x": {
             "color": "#2a3f5f"
            },
            "error_y": {
             "color": "#2a3f5f"
            },
            "marker": {
             "line": {
              "color": "#E5ECF6",
              "width": 0.5
             },
             "pattern": {
              "fillmode": "overlay",
              "size": 10,
              "solidity": 0.2
             }
            },
            "type": "bar"
           }
          ],
          "barpolar": [
           {
            "marker": {
             "line": {
              "color": "#E5ECF6",
              "width": 0.5
             },
             "pattern": {
              "fillmode": "overlay",
              "size": 10,
              "solidity": 0.2
             }
            },
            "type": "barpolar"
           }
          ],
          "carpet": [
           {
            "aaxis": {
             "endlinecolor": "#2a3f5f",
             "gridcolor": "white",
             "linecolor": "white",
             "minorgridcolor": "white",
             "startlinecolor": "#2a3f5f"
            },
            "baxis": {
             "endlinecolor": "#2a3f5f",
             "gridcolor": "white",
             "linecolor": "white",
             "minorgridcolor": "white",
             "startlinecolor": "#2a3f5f"
            },
            "type": "carpet"
           }
          ],
          "choropleth": [
           {
            "colorbar": {
             "outlinewidth": 0,
             "ticks": ""
            },
            "type": "choropleth"
           }
          ],
          "contour": [
           {
            "colorbar": {
             "outlinewidth": 0,
             "ticks": ""
            },
            "colorscale": [
             [
              0,
              "#0d0887"
             ],
             [
              0.1111111111111111,
              "#46039f"
             ],
             [
              0.2222222222222222,
              "#7201a8"
             ],
             [
              0.3333333333333333,
              "#9c179e"
             ],
             [
              0.4444444444444444,
              "#bd3786"
             ],
             [
              0.5555555555555556,
              "#d8576b"
             ],
             [
              0.6666666666666666,
              "#ed7953"
             ],
             [
              0.7777777777777778,
              "#fb9f3a"
             ],
             [
              0.8888888888888888,
              "#fdca26"
             ],
             [
              1,
              "#f0f921"
             ]
            ],
            "type": "contour"
           }
          ],
          "contourcarpet": [
           {
            "colorbar": {
             "outlinewidth": 0,
             "ticks": ""
            },
            "type": "contourcarpet"
           }
          ],
          "heatmap": [
           {
            "colorbar": {
             "outlinewidth": 0,
             "ticks": ""
            },
            "colorscale": [
             [
              0,
              "#0d0887"
             ],
             [
              0.1111111111111111,
              "#46039f"
             ],
             [
              0.2222222222222222,
              "#7201a8"
             ],
             [
              0.3333333333333333,
              "#9c179e"
             ],
             [
              0.4444444444444444,
              "#bd3786"
             ],
             [
              0.5555555555555556,
              "#d8576b"
             ],
             [
              0.6666666666666666,
              "#ed7953"
             ],
             [
              0.7777777777777778,
              "#fb9f3a"
             ],
             [
              0.8888888888888888,
              "#fdca26"
             ],
             [
              1,
              "#f0f921"
             ]
            ],
            "type": "heatmap"
           }
          ],
          "heatmapgl": [
           {
            "colorbar": {
             "outlinewidth": 0,
             "ticks": ""
            },
            "colorscale": [
             [
              0,
              "#0d0887"
             ],
             [
              0.1111111111111111,
              "#46039f"
             ],
             [
              0.2222222222222222,
              "#7201a8"
             ],
             [
              0.3333333333333333,
              "#9c179e"
             ],
             [
              0.4444444444444444,
              "#bd3786"
             ],
             [
              0.5555555555555556,
              "#d8576b"
             ],
             [
              0.6666666666666666,
              "#ed7953"
             ],
             [
              0.7777777777777778,
              "#fb9f3a"
             ],
             [
              0.8888888888888888,
              "#fdca26"
             ],
             [
              1,
              "#f0f921"
             ]
            ],
            "type": "heatmapgl"
           }
          ],
          "histogram": [
           {
            "marker": {
             "pattern": {
              "fillmode": "overlay",
              "size": 10,
              "solidity": 0.2
             }
            },
            "type": "histogram"
           }
          ],
          "histogram2d": [
           {
            "colorbar": {
             "outlinewidth": 0,
             "ticks": ""
            },
            "colorscale": [
             [
              0,
              "#0d0887"
             ],
             [
              0.1111111111111111,
              "#46039f"
             ],
             [
              0.2222222222222222,
              "#7201a8"
             ],
             [
              0.3333333333333333,
              "#9c179e"
             ],
             [
              0.4444444444444444,
              "#bd3786"
             ],
             [
              0.5555555555555556,
              "#d8576b"
             ],
             [
              0.6666666666666666,
              "#ed7953"
             ],
             [
              0.7777777777777778,
              "#fb9f3a"
             ],
             [
              0.8888888888888888,
              "#fdca26"
             ],
             [
              1,
              "#f0f921"
             ]
            ],
            "type": "histogram2d"
           }
          ],
          "histogram2dcontour": [
           {
            "colorbar": {
             "outlinewidth": 0,
             "ticks": ""
            },
            "colorscale": [
             [
              0,
              "#0d0887"
             ],
             [
              0.1111111111111111,
              "#46039f"
             ],
             [
              0.2222222222222222,
              "#7201a8"
             ],
             [
              0.3333333333333333,
              "#9c179e"
             ],
             [
              0.4444444444444444,
              "#bd3786"
             ],
             [
              0.5555555555555556,
              "#d8576b"
             ],
             [
              0.6666666666666666,
              "#ed7953"
             ],
             [
              0.7777777777777778,
              "#fb9f3a"
             ],
             [
              0.8888888888888888,
              "#fdca26"
             ],
             [
              1,
              "#f0f921"
             ]
            ],
            "type": "histogram2dcontour"
           }
          ],
          "mesh3d": [
           {
            "colorbar": {
             "outlinewidth": 0,
             "ticks": ""
            },
            "type": "mesh3d"
           }
          ],
          "parcoords": [
           {
            "line": {
             "colorbar": {
              "outlinewidth": 0,
              "ticks": ""
             }
            },
            "type": "parcoords"
           }
          ],
          "pie": [
           {
            "automargin": true,
            "type": "pie"
           }
          ],
          "scatter": [
           {
            "fillpattern": {
             "fillmode": "overlay",
             "size": 10,
             "solidity": 0.2
            },
            "type": "scatter"
           }
          ],
          "scatter3d": [
           {
            "line": {
             "colorbar": {
              "outlinewidth": 0,
              "ticks": ""
             }
            },
            "marker": {
             "colorbar": {
              "outlinewidth": 0,
              "ticks": ""
             }
            },
            "type": "scatter3d"
           }
          ],
          "scattercarpet": [
           {
            "marker": {
             "colorbar": {
              "outlinewidth": 0,
              "ticks": ""
             }
            },
            "type": "scattercarpet"
           }
          ],
          "scattergeo": [
           {
            "marker": {
             "colorbar": {
              "outlinewidth": 0,
              "ticks": ""
             }
            },
            "type": "scattergeo"
           }
          ],
          "scattergl": [
           {
            "marker": {
             "colorbar": {
              "outlinewidth": 0,
              "ticks": ""
             }
            },
            "type": "scattergl"
           }
          ],
          "scattermapbox": [
           {
            "marker": {
             "colorbar": {
              "outlinewidth": 0,
              "ticks": ""
             }
            },
            "type": "scattermapbox"
           }
          ],
          "scatterpolar": [
           {
            "marker": {
             "colorbar": {
              "outlinewidth": 0,
              "ticks": ""
             }
            },
            "type": "scatterpolar"
           }
          ],
          "scatterpolargl": [
           {
            "marker": {
             "colorbar": {
              "outlinewidth": 0,
              "ticks": ""
             }
            },
            "type": "scatterpolargl"
           }
          ],
          "scatterternary": [
           {
            "marker": {
             "colorbar": {
              "outlinewidth": 0,
              "ticks": ""
             }
            },
            "type": "scatterternary"
           }
          ],
          "surface": [
           {
            "colorbar": {
             "outlinewidth": 0,
             "ticks": ""
            },
            "colorscale": [
             [
              0,
              "#0d0887"
             ],
             [
              0.1111111111111111,
              "#46039f"
             ],
             [
              0.2222222222222222,
              "#7201a8"
             ],
             [
              0.3333333333333333,
              "#9c179e"
             ],
             [
              0.4444444444444444,
              "#bd3786"
             ],
             [
              0.5555555555555556,
              "#d8576b"
             ],
             [
              0.6666666666666666,
              "#ed7953"
             ],
             [
              0.7777777777777778,
              "#fb9f3a"
             ],
             [
              0.8888888888888888,
              "#fdca26"
             ],
             [
              1,
              "#f0f921"
             ]
            ],
            "type": "surface"
           }
          ],
          "table": [
           {
            "cells": {
             "fill": {
              "color": "#EBF0F8"
             },
             "line": {
              "color": "white"
             }
            },
            "header": {
             "fill": {
              "color": "#C8D4E3"
             },
             "line": {
              "color": "white"
             }
            },
            "type": "table"
           }
          ]
         },
         "layout": {
          "annotationdefaults": {
           "arrowcolor": "#2a3f5f",
           "arrowhead": 0,
           "arrowwidth": 1
          },
          "autotypenumbers": "strict",
          "coloraxis": {
           "colorbar": {
            "outlinewidth": 0,
            "ticks": ""
           }
          },
          "colorscale": {
           "diverging": [
            [
             0,
             "#8e0152"
            ],
            [
             0.1,
             "#c51b7d"
            ],
            [
             0.2,
             "#de77ae"
            ],
            [
             0.3,
             "#f1b6da"
            ],
            [
             0.4,
             "#fde0ef"
            ],
            [
             0.5,
             "#f7f7f7"
            ],
            [
             0.6,
             "#e6f5d0"
            ],
            [
             0.7,
             "#b8e186"
            ],
            [
             0.8,
             "#7fbc41"
            ],
            [
             0.9,
             "#4d9221"
            ],
            [
             1,
             "#276419"
            ]
           ],
           "sequential": [
            [
             0,
             "#0d0887"
            ],
            [
             0.1111111111111111,
             "#46039f"
            ],
            [
             0.2222222222222222,
             "#7201a8"
            ],
            [
             0.3333333333333333,
             "#9c179e"
            ],
            [
             0.4444444444444444,
             "#bd3786"
            ],
            [
             0.5555555555555556,
             "#d8576b"
            ],
            [
             0.6666666666666666,
             "#ed7953"
            ],
            [
             0.7777777777777778,
             "#fb9f3a"
            ],
            [
             0.8888888888888888,
             "#fdca26"
            ],
            [
             1,
             "#f0f921"
            ]
           ],
           "sequentialminus": [
            [
             0,
             "#0d0887"
            ],
            [
             0.1111111111111111,
             "#46039f"
            ],
            [
             0.2222222222222222,
             "#7201a8"
            ],
            [
             0.3333333333333333,
             "#9c179e"
            ],
            [
             0.4444444444444444,
             "#bd3786"
            ],
            [
             0.5555555555555556,
             "#d8576b"
            ],
            [
             0.6666666666666666,
             "#ed7953"
            ],
            [
             0.7777777777777778,
             "#fb9f3a"
            ],
            [
             0.8888888888888888,
             "#fdca26"
            ],
            [
             1,
             "#f0f921"
            ]
           ]
          },
          "colorway": [
           "#636efa",
           "#EF553B",
           "#00cc96",
           "#ab63fa",
           "#FFA15A",
           "#19d3f3",
           "#FF6692",
           "#B6E880",
           "#FF97FF",
           "#FECB52"
          ],
          "font": {
           "color": "#2a3f5f"
          },
          "geo": {
           "bgcolor": "white",
           "lakecolor": "white",
           "landcolor": "#E5ECF6",
           "showlakes": true,
           "showland": true,
           "subunitcolor": "white"
          },
          "hoverlabel": {
           "align": "left"
          },
          "hovermode": "closest",
          "mapbox": {
           "style": "light"
          },
          "paper_bgcolor": "white",
          "plot_bgcolor": "#E5ECF6",
          "polar": {
           "angularaxis": {
            "gridcolor": "white",
            "linecolor": "white",
            "ticks": ""
           },
           "bgcolor": "#E5ECF6",
           "radialaxis": {
            "gridcolor": "white",
            "linecolor": "white",
            "ticks": ""
           }
          },
          "scene": {
           "xaxis": {
            "backgroundcolor": "#E5ECF6",
            "gridcolor": "white",
            "gridwidth": 2,
            "linecolor": "white",
            "showbackground": true,
            "ticks": "",
            "zerolinecolor": "white"
           },
           "yaxis": {
            "backgroundcolor": "#E5ECF6",
            "gridcolor": "white",
            "gridwidth": 2,
            "linecolor": "white",
            "showbackground": true,
            "ticks": "",
            "zerolinecolor": "white"
           },
           "zaxis": {
            "backgroundcolor": "#E5ECF6",
            "gridcolor": "white",
            "gridwidth": 2,
            "linecolor": "white",
            "showbackground": true,
            "ticks": "",
            "zerolinecolor": "white"
           }
          },
          "shapedefaults": {
           "line": {
            "color": "#2a3f5f"
           }
          },
          "ternary": {
           "aaxis": {
            "gridcolor": "white",
            "linecolor": "white",
            "ticks": ""
           },
           "baxis": {
            "gridcolor": "white",
            "linecolor": "white",
            "ticks": ""
           },
           "bgcolor": "#E5ECF6",
           "caxis": {
            "gridcolor": "white",
            "linecolor": "white",
            "ticks": ""
           }
          },
          "title": {
           "x": 0.05
          },
          "xaxis": {
           "automargin": true,
           "gridcolor": "white",
           "linecolor": "white",
           "ticks": "",
           "title": {
            "standoff": 15
           },
           "zerolinecolor": "white",
           "zerolinewidth": 2
          },
          "yaxis": {
           "automargin": true,
           "gridcolor": "white",
           "linecolor": "white",
           "ticks": "",
           "title": {
            "standoff": 15
           },
           "zerolinecolor": "white",
           "zerolinewidth": 2
          }
         }
        },
        "title": {
         "text": "Mean Salary Distribution across Experience Levels"
        },
        "xaxis": {
         "anchor": "y",
         "domain": [
          0,
          1
         ],
         "title": {
          "text": "Experience Level"
         }
        },
        "yaxis": {
         "anchor": "x",
         "domain": [
          0,
          1
         ],
         "title": {
          "text": "Mean Salary (USD)"
         }
        }
       }
      },
      "text/html": [
       "<div>                            <div id=\"1700c33d-dd4b-4ea7-b25b-d4f5b9e625a4\" class=\"plotly-graph-div\" style=\"height:600px; width:100%;\"></div>            <script type=\"text/javascript\">                require([\"plotly\"], function(Plotly) {                    window.PLOTLYENV=window.PLOTLYENV || {};                                    if (document.getElementById(\"1700c33d-dd4b-4ea7-b25b-d4f5b9e625a4\")) {                    Plotly.newPlot(                        \"1700c33d-dd4b-4ea7-b25b-d4f5b9e625a4\",                        [{\"marker\":{\"color\":\"brown\",\"line\":{\"color\":\"white\",\"width\":2.5}},\"name\":\"Mean Salary (Bar)\",\"text\":[78546.284375,194930.9298245614,104525.93913043478,153051.07154213038],\"x\":[\"EN\",\"EX\",\"MI\",\"SE\"],\"y\":[78546.284375,194930.9298245614,104525.93913043478,153051.07154213038],\"type\":\"bar\"}],                        {\"template\":{\"data\":{\"histogram2dcontour\":[{\"type\":\"histogram2dcontour\",\"colorbar\":{\"outlinewidth\":0,\"ticks\":\"\"},\"colorscale\":[[0.0,\"#0d0887\"],[0.1111111111111111,\"#46039f\"],[0.2222222222222222,\"#7201a8\"],[0.3333333333333333,\"#9c179e\"],[0.4444444444444444,\"#bd3786\"],[0.5555555555555556,\"#d8576b\"],[0.6666666666666666,\"#ed7953\"],[0.7777777777777778,\"#fb9f3a\"],[0.8888888888888888,\"#fdca26\"],[1.0,\"#f0f921\"]]}],\"choropleth\":[{\"type\":\"choropleth\",\"colorbar\":{\"outlinewidth\":0,\"ticks\":\"\"}}],\"histogram2d\":[{\"type\":\"histogram2d\",\"colorbar\":{\"outlinewidth\":0,\"ticks\":\"\"},\"colorscale\":[[0.0,\"#0d0887\"],[0.1111111111111111,\"#46039f\"],[0.2222222222222222,\"#7201a8\"],[0.3333333333333333,\"#9c179e\"],[0.4444444444444444,\"#bd3786\"],[0.5555555555555556,\"#d8576b\"],[0.6666666666666666,\"#ed7953\"],[0.7777777777777778,\"#fb9f3a\"],[0.8888888888888888,\"#fdca26\"],[1.0,\"#f0f921\"]]}],\"heatmap\":[{\"type\":\"heatmap\",\"colorbar\":{\"outlinewidth\":0,\"ticks\":\"\"},\"colorscale\":[[0.0,\"#0d0887\"],[0.1111111111111111,\"#46039f\"],[0.2222222222222222,\"#7201a8\"],[0.3333333333333333,\"#9c179e\"],[0.4444444444444444,\"#bd3786\"],[0.5555555555555556,\"#d8576b\"],[0.6666666666666666,\"#ed7953\"],[0.7777777777777778,\"#fb9f3a\"],[0.8888888888888888,\"#fdca26\"],[1.0,\"#f0f921\"]]}],\"heatmapgl\":[{\"type\":\"heatmapgl\",\"colorbar\":{\"outlinewidth\":0,\"ticks\":\"\"},\"colorscale\":[[0.0,\"#0d0887\"],[0.1111111111111111,\"#46039f\"],[0.2222222222222222,\"#7201a8\"],[0.3333333333333333,\"#9c179e\"],[0.4444444444444444,\"#bd3786\"],[0.5555555555555556,\"#d8576b\"],[0.6666666666666666,\"#ed7953\"],[0.7777777777777778,\"#fb9f3a\"],[0.8888888888888888,\"#fdca26\"],[1.0,\"#f0f921\"]]}],\"contourcarpet\":[{\"type\":\"contourcarpet\",\"colorbar\":{\"outlinewidth\":0,\"ticks\":\"\"}}],\"contour\":[{\"type\":\"contour\",\"colorbar\":{\"outlinewidth\":0,\"ticks\":\"\"},\"colorscale\":[[0.0,\"#0d0887\"],[0.1111111111111111,\"#46039f\"],[0.2222222222222222,\"#7201a8\"],[0.3333333333333333,\"#9c179e\"],[0.4444444444444444,\"#bd3786\"],[0.5555555555555556,\"#d8576b\"],[0.6666666666666666,\"#ed7953\"],[0.7777777777777778,\"#fb9f3a\"],[0.8888888888888888,\"#fdca26\"],[1.0,\"#f0f921\"]]}],\"surface\":[{\"type\":\"surface\",\"colorbar\":{\"outlinewidth\":0,\"ticks\":\"\"},\"colorscale\":[[0.0,\"#0d0887\"],[0.1111111111111111,\"#46039f\"],[0.2222222222222222,\"#7201a8\"],[0.3333333333333333,\"#9c179e\"],[0.4444444444444444,\"#bd3786\"],[0.5555555555555556,\"#d8576b\"],[0.6666666666666666,\"#ed7953\"],[0.7777777777777778,\"#fb9f3a\"],[0.8888888888888888,\"#fdca26\"],[1.0,\"#f0f921\"]]}],\"mesh3d\":[{\"type\":\"mesh3d\",\"colorbar\":{\"outlinewidth\":0,\"ticks\":\"\"}}],\"scatter\":[{\"fillpattern\":{\"fillmode\":\"overlay\",\"size\":10,\"solidity\":0.2},\"type\":\"scatter\"}],\"parcoords\":[{\"type\":\"parcoords\",\"line\":{\"colorbar\":{\"outlinewidth\":0,\"ticks\":\"\"}}}],\"scatterpolargl\":[{\"type\":\"scatterpolargl\",\"marker\":{\"colorbar\":{\"outlinewidth\":0,\"ticks\":\"\"}}}],\"bar\":[{\"error_x\":{\"color\":\"#2a3f5f\"},\"error_y\":{\"color\":\"#2a3f5f\"},\"marker\":{\"line\":{\"color\":\"#E5ECF6\",\"width\":0.5},\"pattern\":{\"fillmode\":\"overlay\",\"size\":10,\"solidity\":0.2}},\"type\":\"bar\"}],\"scattergeo\":[{\"type\":\"scattergeo\",\"marker\":{\"colorbar\":{\"outlinewidth\":0,\"ticks\":\"\"}}}],\"scatterpolar\":[{\"type\":\"scatterpolar\",\"marker\":{\"colorbar\":{\"outlinewidth\":0,\"ticks\":\"\"}}}],\"histogram\":[{\"marker\":{\"pattern\":{\"fillmode\":\"overlay\",\"size\":10,\"solidity\":0.2}},\"type\":\"histogram\"}],\"scattergl\":[{\"type\":\"scattergl\",\"marker\":{\"colorbar\":{\"outlinewidth\":0,\"ticks\":\"\"}}}],\"scatter3d\":[{\"type\":\"scatter3d\",\"line\":{\"colorbar\":{\"outlinewidth\":0,\"ticks\":\"\"}},\"marker\":{\"colorbar\":{\"outlinewidth\":0,\"ticks\":\"\"}}}],\"scattermapbox\":[{\"type\":\"scattermapbox\",\"marker\":{\"colorbar\":{\"outlinewidth\":0,\"ticks\":\"\"}}}],\"scatterternary\":[{\"type\":\"scatterternary\",\"marker\":{\"colorbar\":{\"outlinewidth\":0,\"ticks\":\"\"}}}],\"scattercarpet\":[{\"type\":\"scattercarpet\",\"marker\":{\"colorbar\":{\"outlinewidth\":0,\"ticks\":\"\"}}}],\"carpet\":[{\"aaxis\":{\"endlinecolor\":\"#2a3f5f\",\"gridcolor\":\"white\",\"linecolor\":\"white\",\"minorgridcolor\":\"white\",\"startlinecolor\":\"#2a3f5f\"},\"baxis\":{\"endlinecolor\":\"#2a3f5f\",\"gridcolor\":\"white\",\"linecolor\":\"white\",\"minorgridcolor\":\"white\",\"startlinecolor\":\"#2a3f5f\"},\"type\":\"carpet\"}],\"table\":[{\"cells\":{\"fill\":{\"color\":\"#EBF0F8\"},\"line\":{\"color\":\"white\"}},\"header\":{\"fill\":{\"color\":\"#C8D4E3\"},\"line\":{\"color\":\"white\"}},\"type\":\"table\"}],\"barpolar\":[{\"marker\":{\"line\":{\"color\":\"#E5ECF6\",\"width\":0.5},\"pattern\":{\"fillmode\":\"overlay\",\"size\":10,\"solidity\":0.2}},\"type\":\"barpolar\"}],\"pie\":[{\"automargin\":true,\"type\":\"pie\"}]},\"layout\":{\"autotypenumbers\":\"strict\",\"colorway\":[\"#636efa\",\"#EF553B\",\"#00cc96\",\"#ab63fa\",\"#FFA15A\",\"#19d3f3\",\"#FF6692\",\"#B6E880\",\"#FF97FF\",\"#FECB52\"],\"font\":{\"color\":\"#2a3f5f\"},\"hovermode\":\"closest\",\"hoverlabel\":{\"align\":\"left\"},\"paper_bgcolor\":\"white\",\"plot_bgcolor\":\"#E5ECF6\",\"polar\":{\"bgcolor\":\"#E5ECF6\",\"angularaxis\":{\"gridcolor\":\"white\",\"linecolor\":\"white\",\"ticks\":\"\"},\"radialaxis\":{\"gridcolor\":\"white\",\"linecolor\":\"white\",\"ticks\":\"\"}},\"ternary\":{\"bgcolor\":\"#E5ECF6\",\"aaxis\":{\"gridcolor\":\"white\",\"linecolor\":\"white\",\"ticks\":\"\"},\"baxis\":{\"gridcolor\":\"white\",\"linecolor\":\"white\",\"ticks\":\"\"},\"caxis\":{\"gridcolor\":\"white\",\"linecolor\":\"white\",\"ticks\":\"\"}},\"coloraxis\":{\"colorbar\":{\"outlinewidth\":0,\"ticks\":\"\"}},\"colorscale\":{\"sequential\":[[0.0,\"#0d0887\"],[0.1111111111111111,\"#46039f\"],[0.2222222222222222,\"#7201a8\"],[0.3333333333333333,\"#9c179e\"],[0.4444444444444444,\"#bd3786\"],[0.5555555555555556,\"#d8576b\"],[0.6666666666666666,\"#ed7953\"],[0.7777777777777778,\"#fb9f3a\"],[0.8888888888888888,\"#fdca26\"],[1.0,\"#f0f921\"]],\"sequentialminus\":[[0.0,\"#0d0887\"],[0.1111111111111111,\"#46039f\"],[0.2222222222222222,\"#7201a8\"],[0.3333333333333333,\"#9c179e\"],[0.4444444444444444,\"#bd3786\"],[0.5555555555555556,\"#d8576b\"],[0.6666666666666666,\"#ed7953\"],[0.7777777777777778,\"#fb9f3a\"],[0.8888888888888888,\"#fdca26\"],[1.0,\"#f0f921\"]],\"diverging\":[[0,\"#8e0152\"],[0.1,\"#c51b7d\"],[0.2,\"#de77ae\"],[0.3,\"#f1b6da\"],[0.4,\"#fde0ef\"],[0.5,\"#f7f7f7\"],[0.6,\"#e6f5d0\"],[0.7,\"#b8e186\"],[0.8,\"#7fbc41\"],[0.9,\"#4d9221\"],[1,\"#276419\"]]},\"xaxis\":{\"gridcolor\":\"white\",\"linecolor\":\"white\",\"ticks\":\"\",\"title\":{\"standoff\":15},\"zerolinecolor\":\"white\",\"automargin\":true,\"zerolinewidth\":2},\"yaxis\":{\"gridcolor\":\"white\",\"linecolor\":\"white\",\"ticks\":\"\",\"title\":{\"standoff\":15},\"zerolinecolor\":\"white\",\"automargin\":true,\"zerolinewidth\":2},\"scene\":{\"xaxis\":{\"backgroundcolor\":\"#E5ECF6\",\"gridcolor\":\"white\",\"linecolor\":\"white\",\"showbackground\":true,\"ticks\":\"\",\"zerolinecolor\":\"white\",\"gridwidth\":2},\"yaxis\":{\"backgroundcolor\":\"#E5ECF6\",\"gridcolor\":\"white\",\"linecolor\":\"white\",\"showbackground\":true,\"ticks\":\"\",\"zerolinecolor\":\"white\",\"gridwidth\":2},\"zaxis\":{\"backgroundcolor\":\"#E5ECF6\",\"gridcolor\":\"white\",\"linecolor\":\"white\",\"showbackground\":true,\"ticks\":\"\",\"zerolinecolor\":\"white\",\"gridwidth\":2}},\"shapedefaults\":{\"line\":{\"color\":\"#2a3f5f\"}},\"annotationdefaults\":{\"arrowcolor\":\"#2a3f5f\",\"arrowhead\":0,\"arrowwidth\":1},\"geo\":{\"bgcolor\":\"white\",\"landcolor\":\"#E5ECF6\",\"subunitcolor\":\"white\",\"showland\":true,\"showlakes\":true,\"lakecolor\":\"white\"},\"title\":{\"x\":0.05},\"mapbox\":{\"style\":\"light\"}}},\"xaxis\":{\"anchor\":\"y\",\"domain\":[0.0,1.0],\"title\":{\"text\":\"Experience Level\"}},\"yaxis\":{\"anchor\":\"x\",\"domain\":[0.0,1.0],\"title\":{\"text\":\"Mean Salary (USD)\"}},\"title\":{\"text\":\"Mean Salary Distribution across Experience Levels\"},\"height\":600},                        {\"responsive\": true}                    ).then(function(){\n",
       "                            \n",
       "var gd = document.getElementById('1700c33d-dd4b-4ea7-b25b-d4f5b9e625a4');\n",
       "var x = new MutationObserver(function (mutations, observer) {{\n",
       "        var display = window.getComputedStyle(gd).display;\n",
       "        if (!display || display === 'none') {{\n",
       "            console.log([gd, 'removed!']);\n",
       "            Plotly.purge(gd);\n",
       "            observer.disconnect();\n",
       "        }}\n",
       "}});\n",
       "\n",
       "// Listen for the removal of the full notebook cells\n",
       "var notebookContainer = gd.closest('#notebook-container');\n",
       "if (notebookContainer) {{\n",
       "    x.observe(notebookContainer, {childList: true});\n",
       "}}\n",
       "\n",
       "// Listen for the clearing of the current output cell\n",
       "var outputEl = gd.closest('.output');\n",
       "if (outputEl) {{\n",
       "    x.observe(outputEl, {childList: true});\n",
       "}}\n",
       "\n",
       "                        })                };                });            </script>        </div>"
      ]
     },
     "metadata": {},
     "output_type": "display_data"
    }
   ],
   "source": [
    "# Determine the mean salary based on Experience Level\n",
    "count_values = df.experience_level.value_counts()\n",
    "salary_values = df.groupby('experience_level').mean(\n",
    "    numeric_only=True)['salary_in_usd']\n",
    "\n",
    "# Create subplots\n",
    "fig = make_subplots(rows=1, cols=2, specs=[\n",
    "                    [{'type': 'domain'}, {'type': 'domain'}]])\n",
    "\n",
    "# Count of Experience Level\n",
    "count_trace = go.Pie(\n",
    "    labels=count_values.index,\n",
    "    values=count_values.values,\n",
    "    pull=[0, 0, 0, 0.2],\n",
    "    name=\"Value Counts\"\n",
    ")\n",
    "\n",
    "# Salary based on Experience Level\n",
    "salary_trace = go.Pie(\n",
    "    labels=salary_values.index,\n",
    "    values=salary_values.values,\n",
    "    pull=[0, 0.2, 0, 0],\n",
    "    name=\"Mean Salary\"\n",
    ")\n",
    "\n",
    "# Add traces to the subplots\n",
    "fig.add_trace(count_trace, row=1, col=1)\n",
    "fig.add_trace(salary_trace, row=1, col=2)\n",
    "\n",
    "# Update the traces\n",
    "fig.update_traces(\n",
    "    textinfo='label+percent',\n",
    "    hole=0.4,\n",
    "    marker=dict(\n",
    "        colors=px.colors.sequential.RdBu,\n",
    "        line_color='lavender',\n",
    "        line_width=2.5\n",
    "    )\n",
    ")\n",
    "\n",
    "# Update the figure layout\n",
    "fig.update_layout(\n",
    "    title_text=\"Distribution based on Experience Level\",\n",
    "    height=600,\n",
    "    annotations=[\n",
    "        dict(\n",
    "            text=\"Value Counts\",\n",
    "            font_size=17,\n",
    "            showarrow=False,\n",
    "            x=0.17\n",
    "        ),\n",
    "        dict(\n",
    "            text=\"Mean Salary\",\n",
    "            font_size=20,\n",
    "            showarrow=False,\n",
    "            x=0.83\n",
    "        )\n",
    "    ]\n",
    ")\n",
    "\n",
    "# Show the final figure\n",
    "fig.show()\n",
    "\n",
    "# Create a figure\n",
    "fig = make_subplots()\n",
    "\n",
    "# Add bar trace\n",
    "bar_trace = go.Bar(\n",
    "    x=salary_values.index,\n",
    "    y=salary_values.values,\n",
    "    name=\"Mean Salary (Bar)\",\n",
    "    text=salary_values.values,\n",
    "    marker=dict(\n",
    "        color='brown',\n",
    "        line_color='white',\n",
    "        line_width=2.5,\n",
    "    )\n",
    ")\n",
    "\n",
    "# Add traces to the figure\n",
    "fig.add_trace(bar_trace)\n",
    "\n",
    "# Update Layout\n",
    "fig.update_layout(\n",
    "    title=\"Mean Salary Distribution across Experience Levels\",\n",
    "    xaxis_title=\"Experience Level\",\n",
    "    yaxis_title=\"Mean Salary (USD)\",\n",
    "    height=600\n",
    ")\n",
    "\n",
    "# Show final figure\n",
    "fig.show()"
   ]
  },
  {
   "cell_type": "code",
   "execution_count": 141,
   "id": "379cdbcc",
   "metadata": {},
   "outputs": [
    {
     "data": {
      "application/vnd.plotly.v1+json": {
       "config": {
        "plotlyServerURL": "https://plot.ly"
       },
       "data": [
        {
         "domain": {
          "x": [
           0,
           0.45
          ],
          "y": [
           0,
           1
          ]
         },
         "hole": 0.4,
         "labels": [
          "FT",
          "PT",
          "CT",
          "FL"
         ],
         "marker": {
          "colors": [
           "rgb(103,0,31)",
           "rgb(178,24,43)",
           "rgb(214,96,77)",
           "rgb(244,165,130)",
           "rgb(253,219,199)",
           "rgb(247,247,247)",
           "rgb(209,229,240)",
           "rgb(146,197,222)",
           "rgb(67,147,195)",
           "rgb(33,102,172)",
           "rgb(5,48,97)"
          ],
          "line": {
           "color": "lavender",
           "width": 2.5
          }
         },
         "name": "Value Counts",
         "textinfo": "label+percent",
         "type": "pie",
         "values": [
          3718,
          17,
          10,
          10
         ]
        },
        {
         "domain": {
          "x": [
           0.55,
           1
          ],
          "y": [
           0,
           1
          ]
         },
         "hole": 0.4,
         "labels": [
          "CT",
          "FL",
          "FT",
          "PT"
         ],
         "marker": {
          "colors": [
           "rgb(103,0,31)",
           "rgb(178,24,43)",
           "rgb(214,96,77)",
           "rgb(244,165,130)",
           "rgb(253,219,199)",
           "rgb(247,247,247)",
           "rgb(209,229,240)",
           "rgb(146,197,222)",
           "rgb(67,147,195)",
           "rgb(33,102,172)",
           "rgb(5,48,97)"
          ],
          "line": {
           "color": "lavender",
           "width": 2.5
          }
         },
         "name": "Mean Salary",
         "textinfo": "label+percent",
         "type": "pie",
         "values": [
          113446.9,
          51807.8,
          138314.1995696611,
          39533.705882352944
         ]
        }
       ],
       "layout": {
        "annotations": [
         {
          "font": {
           "size": 17
          },
          "showarrow": false,
          "text": "Value Counts",
          "x": 0.17
         },
         {
          "font": {
           "size": 20
          },
          "showarrow": false,
          "text": "Mean Salary",
          "x": 0.83
         }
        ],
        "height": 600,
        "template": {
         "data": {
          "bar": [
           {
            "error_x": {
             "color": "#2a3f5f"
            },
            "error_y": {
             "color": "#2a3f5f"
            },
            "marker": {
             "line": {
              "color": "#E5ECF6",
              "width": 0.5
             },
             "pattern": {
              "fillmode": "overlay",
              "size": 10,
              "solidity": 0.2
             }
            },
            "type": "bar"
           }
          ],
          "barpolar": [
           {
            "marker": {
             "line": {
              "color": "#E5ECF6",
              "width": 0.5
             },
             "pattern": {
              "fillmode": "overlay",
              "size": 10,
              "solidity": 0.2
             }
            },
            "type": "barpolar"
           }
          ],
          "carpet": [
           {
            "aaxis": {
             "endlinecolor": "#2a3f5f",
             "gridcolor": "white",
             "linecolor": "white",
             "minorgridcolor": "white",
             "startlinecolor": "#2a3f5f"
            },
            "baxis": {
             "endlinecolor": "#2a3f5f",
             "gridcolor": "white",
             "linecolor": "white",
             "minorgridcolor": "white",
             "startlinecolor": "#2a3f5f"
            },
            "type": "carpet"
           }
          ],
          "choropleth": [
           {
            "colorbar": {
             "outlinewidth": 0,
             "ticks": ""
            },
            "type": "choropleth"
           }
          ],
          "contour": [
           {
            "colorbar": {
             "outlinewidth": 0,
             "ticks": ""
            },
            "colorscale": [
             [
              0,
              "#0d0887"
             ],
             [
              0.1111111111111111,
              "#46039f"
             ],
             [
              0.2222222222222222,
              "#7201a8"
             ],
             [
              0.3333333333333333,
              "#9c179e"
             ],
             [
              0.4444444444444444,
              "#bd3786"
             ],
             [
              0.5555555555555556,
              "#d8576b"
             ],
             [
              0.6666666666666666,
              "#ed7953"
             ],
             [
              0.7777777777777778,
              "#fb9f3a"
             ],
             [
              0.8888888888888888,
              "#fdca26"
             ],
             [
              1,
              "#f0f921"
             ]
            ],
            "type": "contour"
           }
          ],
          "contourcarpet": [
           {
            "colorbar": {
             "outlinewidth": 0,
             "ticks": ""
            },
            "type": "contourcarpet"
           }
          ],
          "heatmap": [
           {
            "colorbar": {
             "outlinewidth": 0,
             "ticks": ""
            },
            "colorscale": [
             [
              0,
              "#0d0887"
             ],
             [
              0.1111111111111111,
              "#46039f"
             ],
             [
              0.2222222222222222,
              "#7201a8"
             ],
             [
              0.3333333333333333,
              "#9c179e"
             ],
             [
              0.4444444444444444,
              "#bd3786"
             ],
             [
              0.5555555555555556,
              "#d8576b"
             ],
             [
              0.6666666666666666,
              "#ed7953"
             ],
             [
              0.7777777777777778,
              "#fb9f3a"
             ],
             [
              0.8888888888888888,
              "#fdca26"
             ],
             [
              1,
              "#f0f921"
             ]
            ],
            "type": "heatmap"
           }
          ],
          "heatmapgl": [
           {
            "colorbar": {
             "outlinewidth": 0,
             "ticks": ""
            },
            "colorscale": [
             [
              0,
              "#0d0887"
             ],
             [
              0.1111111111111111,
              "#46039f"
             ],
             [
              0.2222222222222222,
              "#7201a8"
             ],
             [
              0.3333333333333333,
              "#9c179e"
             ],
             [
              0.4444444444444444,
              "#bd3786"
             ],
             [
              0.5555555555555556,
              "#d8576b"
             ],
             [
              0.6666666666666666,
              "#ed7953"
             ],
             [
              0.7777777777777778,
              "#fb9f3a"
             ],
             [
              0.8888888888888888,
              "#fdca26"
             ],
             [
              1,
              "#f0f921"
             ]
            ],
            "type": "heatmapgl"
           }
          ],
          "histogram": [
           {
            "marker": {
             "pattern": {
              "fillmode": "overlay",
              "size": 10,
              "solidity": 0.2
             }
            },
            "type": "histogram"
           }
          ],
          "histogram2d": [
           {
            "colorbar": {
             "outlinewidth": 0,
             "ticks": ""
            },
            "colorscale": [
             [
              0,
              "#0d0887"
             ],
             [
              0.1111111111111111,
              "#46039f"
             ],
             [
              0.2222222222222222,
              "#7201a8"
             ],
             [
              0.3333333333333333,
              "#9c179e"
             ],
             [
              0.4444444444444444,
              "#bd3786"
             ],
             [
              0.5555555555555556,
              "#d8576b"
             ],
             [
              0.6666666666666666,
              "#ed7953"
             ],
             [
              0.7777777777777778,
              "#fb9f3a"
             ],
             [
              0.8888888888888888,
              "#fdca26"
             ],
             [
              1,
              "#f0f921"
             ]
            ],
            "type": "histogram2d"
           }
          ],
          "histogram2dcontour": [
           {
            "colorbar": {
             "outlinewidth": 0,
             "ticks": ""
            },
            "colorscale": [
             [
              0,
              "#0d0887"
             ],
             [
              0.1111111111111111,
              "#46039f"
             ],
             [
              0.2222222222222222,
              "#7201a8"
             ],
             [
              0.3333333333333333,
              "#9c179e"
             ],
             [
              0.4444444444444444,
              "#bd3786"
             ],
             [
              0.5555555555555556,
              "#d8576b"
             ],
             [
              0.6666666666666666,
              "#ed7953"
             ],
             [
              0.7777777777777778,
              "#fb9f3a"
             ],
             [
              0.8888888888888888,
              "#fdca26"
             ],
             [
              1,
              "#f0f921"
             ]
            ],
            "type": "histogram2dcontour"
           }
          ],
          "mesh3d": [
           {
            "colorbar": {
             "outlinewidth": 0,
             "ticks": ""
            },
            "type": "mesh3d"
           }
          ],
          "parcoords": [
           {
            "line": {
             "colorbar": {
              "outlinewidth": 0,
              "ticks": ""
             }
            },
            "type": "parcoords"
           }
          ],
          "pie": [
           {
            "automargin": true,
            "type": "pie"
           }
          ],
          "scatter": [
           {
            "fillpattern": {
             "fillmode": "overlay",
             "size": 10,
             "solidity": 0.2
            },
            "type": "scatter"
           }
          ],
          "scatter3d": [
           {
            "line": {
             "colorbar": {
              "outlinewidth": 0,
              "ticks": ""
             }
            },
            "marker": {
             "colorbar": {
              "outlinewidth": 0,
              "ticks": ""
             }
            },
            "type": "scatter3d"
           }
          ],
          "scattercarpet": [
           {
            "marker": {
             "colorbar": {
              "outlinewidth": 0,
              "ticks": ""
             }
            },
            "type": "scattercarpet"
           }
          ],
          "scattergeo": [
           {
            "marker": {
             "colorbar": {
              "outlinewidth": 0,
              "ticks": ""
             }
            },
            "type": "scattergeo"
           }
          ],
          "scattergl": [
           {
            "marker": {
             "colorbar": {
              "outlinewidth": 0,
              "ticks": ""
             }
            },
            "type": "scattergl"
           }
          ],
          "scattermapbox": [
           {
            "marker": {
             "colorbar": {
              "outlinewidth": 0,
              "ticks": ""
             }
            },
            "type": "scattermapbox"
           }
          ],
          "scatterpolar": [
           {
            "marker": {
             "colorbar": {
              "outlinewidth": 0,
              "ticks": ""
             }
            },
            "type": "scatterpolar"
           }
          ],
          "scatterpolargl": [
           {
            "marker": {
             "colorbar": {
              "outlinewidth": 0,
              "ticks": ""
             }
            },
            "type": "scatterpolargl"
           }
          ],
          "scatterternary": [
           {
            "marker": {
             "colorbar": {
              "outlinewidth": 0,
              "ticks": ""
             }
            },
            "type": "scatterternary"
           }
          ],
          "surface": [
           {
            "colorbar": {
             "outlinewidth": 0,
             "ticks": ""
            },
            "colorscale": [
             [
              0,
              "#0d0887"
             ],
             [
              0.1111111111111111,
              "#46039f"
             ],
             [
              0.2222222222222222,
              "#7201a8"
             ],
             [
              0.3333333333333333,
              "#9c179e"
             ],
             [
              0.4444444444444444,
              "#bd3786"
             ],
             [
              0.5555555555555556,
              "#d8576b"
             ],
             [
              0.6666666666666666,
              "#ed7953"
             ],
             [
              0.7777777777777778,
              "#fb9f3a"
             ],
             [
              0.8888888888888888,
              "#fdca26"
             ],
             [
              1,
              "#f0f921"
             ]
            ],
            "type": "surface"
           }
          ],
          "table": [
           {
            "cells": {
             "fill": {
              "color": "#EBF0F8"
             },
             "line": {
              "color": "white"
             }
            },
            "header": {
             "fill": {
              "color": "#C8D4E3"
             },
             "line": {
              "color": "white"
             }
            },
            "type": "table"
           }
          ]
         },
         "layout": {
          "annotationdefaults": {
           "arrowcolor": "#2a3f5f",
           "arrowhead": 0,
           "arrowwidth": 1
          },
          "autotypenumbers": "strict",
          "coloraxis": {
           "colorbar": {
            "outlinewidth": 0,
            "ticks": ""
           }
          },
          "colorscale": {
           "diverging": [
            [
             0,
             "#8e0152"
            ],
            [
             0.1,
             "#c51b7d"
            ],
            [
             0.2,
             "#de77ae"
            ],
            [
             0.3,
             "#f1b6da"
            ],
            [
             0.4,
             "#fde0ef"
            ],
            [
             0.5,
             "#f7f7f7"
            ],
            [
             0.6,
             "#e6f5d0"
            ],
            [
             0.7,
             "#b8e186"
            ],
            [
             0.8,
             "#7fbc41"
            ],
            [
             0.9,
             "#4d9221"
            ],
            [
             1,
             "#276419"
            ]
           ],
           "sequential": [
            [
             0,
             "#0d0887"
            ],
            [
             0.1111111111111111,
             "#46039f"
            ],
            [
             0.2222222222222222,
             "#7201a8"
            ],
            [
             0.3333333333333333,
             "#9c179e"
            ],
            [
             0.4444444444444444,
             "#bd3786"
            ],
            [
             0.5555555555555556,
             "#d8576b"
            ],
            [
             0.6666666666666666,
             "#ed7953"
            ],
            [
             0.7777777777777778,
             "#fb9f3a"
            ],
            [
             0.8888888888888888,
             "#fdca26"
            ],
            [
             1,
             "#f0f921"
            ]
           ],
           "sequentialminus": [
            [
             0,
             "#0d0887"
            ],
            [
             0.1111111111111111,
             "#46039f"
            ],
            [
             0.2222222222222222,
             "#7201a8"
            ],
            [
             0.3333333333333333,
             "#9c179e"
            ],
            [
             0.4444444444444444,
             "#bd3786"
            ],
            [
             0.5555555555555556,
             "#d8576b"
            ],
            [
             0.6666666666666666,
             "#ed7953"
            ],
            [
             0.7777777777777778,
             "#fb9f3a"
            ],
            [
             0.8888888888888888,
             "#fdca26"
            ],
            [
             1,
             "#f0f921"
            ]
           ]
          },
          "colorway": [
           "#636efa",
           "#EF553B",
           "#00cc96",
           "#ab63fa",
           "#FFA15A",
           "#19d3f3",
           "#FF6692",
           "#B6E880",
           "#FF97FF",
           "#FECB52"
          ],
          "font": {
           "color": "#2a3f5f"
          },
          "geo": {
           "bgcolor": "white",
           "lakecolor": "white",
           "landcolor": "#E5ECF6",
           "showlakes": true,
           "showland": true,
           "subunitcolor": "white"
          },
          "hoverlabel": {
           "align": "left"
          },
          "hovermode": "closest",
          "mapbox": {
           "style": "light"
          },
          "paper_bgcolor": "white",
          "plot_bgcolor": "#E5ECF6",
          "polar": {
           "angularaxis": {
            "gridcolor": "white",
            "linecolor": "white",
            "ticks": ""
           },
           "bgcolor": "#E5ECF6",
           "radialaxis": {
            "gridcolor": "white",
            "linecolor": "white",
            "ticks": ""
           }
          },
          "scene": {
           "xaxis": {
            "backgroundcolor": "#E5ECF6",
            "gridcolor": "white",
            "gridwidth": 2,
            "linecolor": "white",
            "showbackground": true,
            "ticks": "",
            "zerolinecolor": "white"
           },
           "yaxis": {
            "backgroundcolor": "#E5ECF6",
            "gridcolor": "white",
            "gridwidth": 2,
            "linecolor": "white",
            "showbackground": true,
            "ticks": "",
            "zerolinecolor": "white"
           },
           "zaxis": {
            "backgroundcolor": "#E5ECF6",
            "gridcolor": "white",
            "gridwidth": 2,
            "linecolor": "white",
            "showbackground": true,
            "ticks": "",
            "zerolinecolor": "white"
           }
          },
          "shapedefaults": {
           "line": {
            "color": "#2a3f5f"
           }
          },
          "ternary": {
           "aaxis": {
            "gridcolor": "white",
            "linecolor": "white",
            "ticks": ""
           },
           "baxis": {
            "gridcolor": "white",
            "linecolor": "white",
            "ticks": ""
           },
           "bgcolor": "#E5ECF6",
           "caxis": {
            "gridcolor": "white",
            "linecolor": "white",
            "ticks": ""
           }
          },
          "title": {
           "x": 0.05
          },
          "xaxis": {
           "automargin": true,
           "gridcolor": "white",
           "linecolor": "white",
           "ticks": "",
           "title": {
            "standoff": 15
           },
           "zerolinecolor": "white",
           "zerolinewidth": 2
          },
          "yaxis": {
           "automargin": true,
           "gridcolor": "white",
           "linecolor": "white",
           "ticks": "",
           "title": {
            "standoff": 15
           },
           "zerolinecolor": "white",
           "zerolinewidth": 2
          }
         }
        },
        "title": {
         "text": "Distribution based on Employment Type"
        }
       }
      },
      "text/html": [
       "<div>                            <div id=\"5d4175f5-0a93-45f2-a500-646f1c7cd969\" class=\"plotly-graph-div\" style=\"height:600px; width:100%;\"></div>            <script type=\"text/javascript\">                require([\"plotly\"], function(Plotly) {                    window.PLOTLYENV=window.PLOTLYENV || {};                                    if (document.getElementById(\"5d4175f5-0a93-45f2-a500-646f1c7cd969\")) {                    Plotly.newPlot(                        \"5d4175f5-0a93-45f2-a500-646f1c7cd969\",                        [{\"labels\":[\"FT\",\"PT\",\"CT\",\"FL\"],\"name\":\"Value Counts\",\"values\":[3718,17,10,10],\"type\":\"pie\",\"domain\":{\"x\":[0.0,0.45],\"y\":[0.0,1.0]},\"marker\":{\"line\":{\"color\":\"lavender\",\"width\":2.5},\"colors\":[\"rgb(103,0,31)\",\"rgb(178,24,43)\",\"rgb(214,96,77)\",\"rgb(244,165,130)\",\"rgb(253,219,199)\",\"rgb(247,247,247)\",\"rgb(209,229,240)\",\"rgb(146,197,222)\",\"rgb(67,147,195)\",\"rgb(33,102,172)\",\"rgb(5,48,97)\"]},\"hole\":0.4,\"textinfo\":\"label+percent\"},{\"labels\":[\"CT\",\"FL\",\"FT\",\"PT\"],\"name\":\"Mean Salary\",\"values\":[113446.9,51807.8,138314.1995696611,39533.705882352944],\"type\":\"pie\",\"domain\":{\"x\":[0.55,1.0],\"y\":[0.0,1.0]},\"marker\":{\"line\":{\"color\":\"lavender\",\"width\":2.5},\"colors\":[\"rgb(103,0,31)\",\"rgb(178,24,43)\",\"rgb(214,96,77)\",\"rgb(244,165,130)\",\"rgb(253,219,199)\",\"rgb(247,247,247)\",\"rgb(209,229,240)\",\"rgb(146,197,222)\",\"rgb(67,147,195)\",\"rgb(33,102,172)\",\"rgb(5,48,97)\"]},\"hole\":0.4,\"textinfo\":\"label+percent\"}],                        {\"template\":{\"data\":{\"histogram2dcontour\":[{\"type\":\"histogram2dcontour\",\"colorbar\":{\"outlinewidth\":0,\"ticks\":\"\"},\"colorscale\":[[0.0,\"#0d0887\"],[0.1111111111111111,\"#46039f\"],[0.2222222222222222,\"#7201a8\"],[0.3333333333333333,\"#9c179e\"],[0.4444444444444444,\"#bd3786\"],[0.5555555555555556,\"#d8576b\"],[0.6666666666666666,\"#ed7953\"],[0.7777777777777778,\"#fb9f3a\"],[0.8888888888888888,\"#fdca26\"],[1.0,\"#f0f921\"]]}],\"choropleth\":[{\"type\":\"choropleth\",\"colorbar\":{\"outlinewidth\":0,\"ticks\":\"\"}}],\"histogram2d\":[{\"type\":\"histogram2d\",\"colorbar\":{\"outlinewidth\":0,\"ticks\":\"\"},\"colorscale\":[[0.0,\"#0d0887\"],[0.1111111111111111,\"#46039f\"],[0.2222222222222222,\"#7201a8\"],[0.3333333333333333,\"#9c179e\"],[0.4444444444444444,\"#bd3786\"],[0.5555555555555556,\"#d8576b\"],[0.6666666666666666,\"#ed7953\"],[0.7777777777777778,\"#fb9f3a\"],[0.8888888888888888,\"#fdca26\"],[1.0,\"#f0f921\"]]}],\"heatmap\":[{\"type\":\"heatmap\",\"colorbar\":{\"outlinewidth\":0,\"ticks\":\"\"},\"colorscale\":[[0.0,\"#0d0887\"],[0.1111111111111111,\"#46039f\"],[0.2222222222222222,\"#7201a8\"],[0.3333333333333333,\"#9c179e\"],[0.4444444444444444,\"#bd3786\"],[0.5555555555555556,\"#d8576b\"],[0.6666666666666666,\"#ed7953\"],[0.7777777777777778,\"#fb9f3a\"],[0.8888888888888888,\"#fdca26\"],[1.0,\"#f0f921\"]]}],\"heatmapgl\":[{\"type\":\"heatmapgl\",\"colorbar\":{\"outlinewidth\":0,\"ticks\":\"\"},\"colorscale\":[[0.0,\"#0d0887\"],[0.1111111111111111,\"#46039f\"],[0.2222222222222222,\"#7201a8\"],[0.3333333333333333,\"#9c179e\"],[0.4444444444444444,\"#bd3786\"],[0.5555555555555556,\"#d8576b\"],[0.6666666666666666,\"#ed7953\"],[0.7777777777777778,\"#fb9f3a\"],[0.8888888888888888,\"#fdca26\"],[1.0,\"#f0f921\"]]}],\"contourcarpet\":[{\"type\":\"contourcarpet\",\"colorbar\":{\"outlinewidth\":0,\"ticks\":\"\"}}],\"contour\":[{\"type\":\"contour\",\"colorbar\":{\"outlinewidth\":0,\"ticks\":\"\"},\"colorscale\":[[0.0,\"#0d0887\"],[0.1111111111111111,\"#46039f\"],[0.2222222222222222,\"#7201a8\"],[0.3333333333333333,\"#9c179e\"],[0.4444444444444444,\"#bd3786\"],[0.5555555555555556,\"#d8576b\"],[0.6666666666666666,\"#ed7953\"],[0.7777777777777778,\"#fb9f3a\"],[0.8888888888888888,\"#fdca26\"],[1.0,\"#f0f921\"]]}],\"surface\":[{\"type\":\"surface\",\"colorbar\":{\"outlinewidth\":0,\"ticks\":\"\"},\"colorscale\":[[0.0,\"#0d0887\"],[0.1111111111111111,\"#46039f\"],[0.2222222222222222,\"#7201a8\"],[0.3333333333333333,\"#9c179e\"],[0.4444444444444444,\"#bd3786\"],[0.5555555555555556,\"#d8576b\"],[0.6666666666666666,\"#ed7953\"],[0.7777777777777778,\"#fb9f3a\"],[0.8888888888888888,\"#fdca26\"],[1.0,\"#f0f921\"]]}],\"mesh3d\":[{\"type\":\"mesh3d\",\"colorbar\":{\"outlinewidth\":0,\"ticks\":\"\"}}],\"scatter\":[{\"fillpattern\":{\"fillmode\":\"overlay\",\"size\":10,\"solidity\":0.2},\"type\":\"scatter\"}],\"parcoords\":[{\"type\":\"parcoords\",\"line\":{\"colorbar\":{\"outlinewidth\":0,\"ticks\":\"\"}}}],\"scatterpolargl\":[{\"type\":\"scatterpolargl\",\"marker\":{\"colorbar\":{\"outlinewidth\":0,\"ticks\":\"\"}}}],\"bar\":[{\"error_x\":{\"color\":\"#2a3f5f\"},\"error_y\":{\"color\":\"#2a3f5f\"},\"marker\":{\"line\":{\"color\":\"#E5ECF6\",\"width\":0.5},\"pattern\":{\"fillmode\":\"overlay\",\"size\":10,\"solidity\":0.2}},\"type\":\"bar\"}],\"scattergeo\":[{\"type\":\"scattergeo\",\"marker\":{\"colorbar\":{\"outlinewidth\":0,\"ticks\":\"\"}}}],\"scatterpolar\":[{\"type\":\"scatterpolar\",\"marker\":{\"colorbar\":{\"outlinewidth\":0,\"ticks\":\"\"}}}],\"histogram\":[{\"marker\":{\"pattern\":{\"fillmode\":\"overlay\",\"size\":10,\"solidity\":0.2}},\"type\":\"histogram\"}],\"scattergl\":[{\"type\":\"scattergl\",\"marker\":{\"colorbar\":{\"outlinewidth\":0,\"ticks\":\"\"}}}],\"scatter3d\":[{\"type\":\"scatter3d\",\"line\":{\"colorbar\":{\"outlinewidth\":0,\"ticks\":\"\"}},\"marker\":{\"colorbar\":{\"outlinewidth\":0,\"ticks\":\"\"}}}],\"scattermapbox\":[{\"type\":\"scattermapbox\",\"marker\":{\"colorbar\":{\"outlinewidth\":0,\"ticks\":\"\"}}}],\"scatterternary\":[{\"type\":\"scatterternary\",\"marker\":{\"colorbar\":{\"outlinewidth\":0,\"ticks\":\"\"}}}],\"scattercarpet\":[{\"type\":\"scattercarpet\",\"marker\":{\"colorbar\":{\"outlinewidth\":0,\"ticks\":\"\"}}}],\"carpet\":[{\"aaxis\":{\"endlinecolor\":\"#2a3f5f\",\"gridcolor\":\"white\",\"linecolor\":\"white\",\"minorgridcolor\":\"white\",\"startlinecolor\":\"#2a3f5f\"},\"baxis\":{\"endlinecolor\":\"#2a3f5f\",\"gridcolor\":\"white\",\"linecolor\":\"white\",\"minorgridcolor\":\"white\",\"startlinecolor\":\"#2a3f5f\"},\"type\":\"carpet\"}],\"table\":[{\"cells\":{\"fill\":{\"color\":\"#EBF0F8\"},\"line\":{\"color\":\"white\"}},\"header\":{\"fill\":{\"color\":\"#C8D4E3\"},\"line\":{\"color\":\"white\"}},\"type\":\"table\"}],\"barpolar\":[{\"marker\":{\"line\":{\"color\":\"#E5ECF6\",\"width\":0.5},\"pattern\":{\"fillmode\":\"overlay\",\"size\":10,\"solidity\":0.2}},\"type\":\"barpolar\"}],\"pie\":[{\"automargin\":true,\"type\":\"pie\"}]},\"layout\":{\"autotypenumbers\":\"strict\",\"colorway\":[\"#636efa\",\"#EF553B\",\"#00cc96\",\"#ab63fa\",\"#FFA15A\",\"#19d3f3\",\"#FF6692\",\"#B6E880\",\"#FF97FF\",\"#FECB52\"],\"font\":{\"color\":\"#2a3f5f\"},\"hovermode\":\"closest\",\"hoverlabel\":{\"align\":\"left\"},\"paper_bgcolor\":\"white\",\"plot_bgcolor\":\"#E5ECF6\",\"polar\":{\"bgcolor\":\"#E5ECF6\",\"angularaxis\":{\"gridcolor\":\"white\",\"linecolor\":\"white\",\"ticks\":\"\"},\"radialaxis\":{\"gridcolor\":\"white\",\"linecolor\":\"white\",\"ticks\":\"\"}},\"ternary\":{\"bgcolor\":\"#E5ECF6\",\"aaxis\":{\"gridcolor\":\"white\",\"linecolor\":\"white\",\"ticks\":\"\"},\"baxis\":{\"gridcolor\":\"white\",\"linecolor\":\"white\",\"ticks\":\"\"},\"caxis\":{\"gridcolor\":\"white\",\"linecolor\":\"white\",\"ticks\":\"\"}},\"coloraxis\":{\"colorbar\":{\"outlinewidth\":0,\"ticks\":\"\"}},\"colorscale\":{\"sequential\":[[0.0,\"#0d0887\"],[0.1111111111111111,\"#46039f\"],[0.2222222222222222,\"#7201a8\"],[0.3333333333333333,\"#9c179e\"],[0.4444444444444444,\"#bd3786\"],[0.5555555555555556,\"#d8576b\"],[0.6666666666666666,\"#ed7953\"],[0.7777777777777778,\"#fb9f3a\"],[0.8888888888888888,\"#fdca26\"],[1.0,\"#f0f921\"]],\"sequentialminus\":[[0.0,\"#0d0887\"],[0.1111111111111111,\"#46039f\"],[0.2222222222222222,\"#7201a8\"],[0.3333333333333333,\"#9c179e\"],[0.4444444444444444,\"#bd3786\"],[0.5555555555555556,\"#d8576b\"],[0.6666666666666666,\"#ed7953\"],[0.7777777777777778,\"#fb9f3a\"],[0.8888888888888888,\"#fdca26\"],[1.0,\"#f0f921\"]],\"diverging\":[[0,\"#8e0152\"],[0.1,\"#c51b7d\"],[0.2,\"#de77ae\"],[0.3,\"#f1b6da\"],[0.4,\"#fde0ef\"],[0.5,\"#f7f7f7\"],[0.6,\"#e6f5d0\"],[0.7,\"#b8e186\"],[0.8,\"#7fbc41\"],[0.9,\"#4d9221\"],[1,\"#276419\"]]},\"xaxis\":{\"gridcolor\":\"white\",\"linecolor\":\"white\",\"ticks\":\"\",\"title\":{\"standoff\":15},\"zerolinecolor\":\"white\",\"automargin\":true,\"zerolinewidth\":2},\"yaxis\":{\"gridcolor\":\"white\",\"linecolor\":\"white\",\"ticks\":\"\",\"title\":{\"standoff\":15},\"zerolinecolor\":\"white\",\"automargin\":true,\"zerolinewidth\":2},\"scene\":{\"xaxis\":{\"backgroundcolor\":\"#E5ECF6\",\"gridcolor\":\"white\",\"linecolor\":\"white\",\"showbackground\":true,\"ticks\":\"\",\"zerolinecolor\":\"white\",\"gridwidth\":2},\"yaxis\":{\"backgroundcolor\":\"#E5ECF6\",\"gridcolor\":\"white\",\"linecolor\":\"white\",\"showbackground\":true,\"ticks\":\"\",\"zerolinecolor\":\"white\",\"gridwidth\":2},\"zaxis\":{\"backgroundcolor\":\"#E5ECF6\",\"gridcolor\":\"white\",\"linecolor\":\"white\",\"showbackground\":true,\"ticks\":\"\",\"zerolinecolor\":\"white\",\"gridwidth\":2}},\"shapedefaults\":{\"line\":{\"color\":\"#2a3f5f\"}},\"annotationdefaults\":{\"arrowcolor\":\"#2a3f5f\",\"arrowhead\":0,\"arrowwidth\":1},\"geo\":{\"bgcolor\":\"white\",\"landcolor\":\"#E5ECF6\",\"subunitcolor\":\"white\",\"showland\":true,\"showlakes\":true,\"lakecolor\":\"white\"},\"title\":{\"x\":0.05},\"mapbox\":{\"style\":\"light\"}}},\"title\":{\"text\":\"Distribution based on Employment Type\"},\"height\":600,\"annotations\":[{\"showarrow\":false,\"text\":\"Value Counts\",\"x\":0.17,\"font\":{\"size\":17}},{\"showarrow\":false,\"text\":\"Mean Salary\",\"x\":0.83,\"font\":{\"size\":20}}]},                        {\"responsive\": true}                    ).then(function(){\n",
       "                            \n",
       "var gd = document.getElementById('5d4175f5-0a93-45f2-a500-646f1c7cd969');\n",
       "var x = new MutationObserver(function (mutations, observer) {{\n",
       "        var display = window.getComputedStyle(gd).display;\n",
       "        if (!display || display === 'none') {{\n",
       "            console.log([gd, 'removed!']);\n",
       "            Plotly.purge(gd);\n",
       "            observer.disconnect();\n",
       "        }}\n",
       "}});\n",
       "\n",
       "// Listen for the removal of the full notebook cells\n",
       "var notebookContainer = gd.closest('#notebook-container');\n",
       "if (notebookContainer) {{\n",
       "    x.observe(notebookContainer, {childList: true});\n",
       "}}\n",
       "\n",
       "// Listen for the clearing of the current output cell\n",
       "var outputEl = gd.closest('.output');\n",
       "if (outputEl) {{\n",
       "    x.observe(outputEl, {childList: true});\n",
       "}}\n",
       "\n",
       "                        })                };                });            </script>        </div>"
      ]
     },
     "metadata": {},
     "output_type": "display_data"
    },
    {
     "data": {
      "application/vnd.plotly.v1+json": {
       "config": {
        "plotlyServerURL": "https://plot.ly"
       },
       "data": [
        {
         "marker": {
          "color": "brown",
          "line": {
           "color": "white",
           "width": 2.5
          }
         },
         "name": "Mean Salary (Bar)",
         "text": [
          113446.9,
          51807.8,
          138314.1995696611,
          39533.705882352944
         ],
         "type": "bar",
         "x": [
          "CT",
          "FL",
          "FT",
          "PT"
         ],
         "y": [
          113446.9,
          51807.8,
          138314.1995696611,
          39533.705882352944
         ]
        }
       ],
       "layout": {
        "height": 600,
        "template": {
         "data": {
          "bar": [
           {
            "error_x": {
             "color": "#2a3f5f"
            },
            "error_y": {
             "color": "#2a3f5f"
            },
            "marker": {
             "line": {
              "color": "#E5ECF6",
              "width": 0.5
             },
             "pattern": {
              "fillmode": "overlay",
              "size": 10,
              "solidity": 0.2
             }
            },
            "type": "bar"
           }
          ],
          "barpolar": [
           {
            "marker": {
             "line": {
              "color": "#E5ECF6",
              "width": 0.5
             },
             "pattern": {
              "fillmode": "overlay",
              "size": 10,
              "solidity": 0.2
             }
            },
            "type": "barpolar"
           }
          ],
          "carpet": [
           {
            "aaxis": {
             "endlinecolor": "#2a3f5f",
             "gridcolor": "white",
             "linecolor": "white",
             "minorgridcolor": "white",
             "startlinecolor": "#2a3f5f"
            },
            "baxis": {
             "endlinecolor": "#2a3f5f",
             "gridcolor": "white",
             "linecolor": "white",
             "minorgridcolor": "white",
             "startlinecolor": "#2a3f5f"
            },
            "type": "carpet"
           }
          ],
          "choropleth": [
           {
            "colorbar": {
             "outlinewidth": 0,
             "ticks": ""
            },
            "type": "choropleth"
           }
          ],
          "contour": [
           {
            "colorbar": {
             "outlinewidth": 0,
             "ticks": ""
            },
            "colorscale": [
             [
              0,
              "#0d0887"
             ],
             [
              0.1111111111111111,
              "#46039f"
             ],
             [
              0.2222222222222222,
              "#7201a8"
             ],
             [
              0.3333333333333333,
              "#9c179e"
             ],
             [
              0.4444444444444444,
              "#bd3786"
             ],
             [
              0.5555555555555556,
              "#d8576b"
             ],
             [
              0.6666666666666666,
              "#ed7953"
             ],
             [
              0.7777777777777778,
              "#fb9f3a"
             ],
             [
              0.8888888888888888,
              "#fdca26"
             ],
             [
              1,
              "#f0f921"
             ]
            ],
            "type": "contour"
           }
          ],
          "contourcarpet": [
           {
            "colorbar": {
             "outlinewidth": 0,
             "ticks": ""
            },
            "type": "contourcarpet"
           }
          ],
          "heatmap": [
           {
            "colorbar": {
             "outlinewidth": 0,
             "ticks": ""
            },
            "colorscale": [
             [
              0,
              "#0d0887"
             ],
             [
              0.1111111111111111,
              "#46039f"
             ],
             [
              0.2222222222222222,
              "#7201a8"
             ],
             [
              0.3333333333333333,
              "#9c179e"
             ],
             [
              0.4444444444444444,
              "#bd3786"
             ],
             [
              0.5555555555555556,
              "#d8576b"
             ],
             [
              0.6666666666666666,
              "#ed7953"
             ],
             [
              0.7777777777777778,
              "#fb9f3a"
             ],
             [
              0.8888888888888888,
              "#fdca26"
             ],
             [
              1,
              "#f0f921"
             ]
            ],
            "type": "heatmap"
           }
          ],
          "heatmapgl": [
           {
            "colorbar": {
             "outlinewidth": 0,
             "ticks": ""
            },
            "colorscale": [
             [
              0,
              "#0d0887"
             ],
             [
              0.1111111111111111,
              "#46039f"
             ],
             [
              0.2222222222222222,
              "#7201a8"
             ],
             [
              0.3333333333333333,
              "#9c179e"
             ],
             [
              0.4444444444444444,
              "#bd3786"
             ],
             [
              0.5555555555555556,
              "#d8576b"
             ],
             [
              0.6666666666666666,
              "#ed7953"
             ],
             [
              0.7777777777777778,
              "#fb9f3a"
             ],
             [
              0.8888888888888888,
              "#fdca26"
             ],
             [
              1,
              "#f0f921"
             ]
            ],
            "type": "heatmapgl"
           }
          ],
          "histogram": [
           {
            "marker": {
             "pattern": {
              "fillmode": "overlay",
              "size": 10,
              "solidity": 0.2
             }
            },
            "type": "histogram"
           }
          ],
          "histogram2d": [
           {
            "colorbar": {
             "outlinewidth": 0,
             "ticks": ""
            },
            "colorscale": [
             [
              0,
              "#0d0887"
             ],
             [
              0.1111111111111111,
              "#46039f"
             ],
             [
              0.2222222222222222,
              "#7201a8"
             ],
             [
              0.3333333333333333,
              "#9c179e"
             ],
             [
              0.4444444444444444,
              "#bd3786"
             ],
             [
              0.5555555555555556,
              "#d8576b"
             ],
             [
              0.6666666666666666,
              "#ed7953"
             ],
             [
              0.7777777777777778,
              "#fb9f3a"
             ],
             [
              0.8888888888888888,
              "#fdca26"
             ],
             [
              1,
              "#f0f921"
             ]
            ],
            "type": "histogram2d"
           }
          ],
          "histogram2dcontour": [
           {
            "colorbar": {
             "outlinewidth": 0,
             "ticks": ""
            },
            "colorscale": [
             [
              0,
              "#0d0887"
             ],
             [
              0.1111111111111111,
              "#46039f"
             ],
             [
              0.2222222222222222,
              "#7201a8"
             ],
             [
              0.3333333333333333,
              "#9c179e"
             ],
             [
              0.4444444444444444,
              "#bd3786"
             ],
             [
              0.5555555555555556,
              "#d8576b"
             ],
             [
              0.6666666666666666,
              "#ed7953"
             ],
             [
              0.7777777777777778,
              "#fb9f3a"
             ],
             [
              0.8888888888888888,
              "#fdca26"
             ],
             [
              1,
              "#f0f921"
             ]
            ],
            "type": "histogram2dcontour"
           }
          ],
          "mesh3d": [
           {
            "colorbar": {
             "outlinewidth": 0,
             "ticks": ""
            },
            "type": "mesh3d"
           }
          ],
          "parcoords": [
           {
            "line": {
             "colorbar": {
              "outlinewidth": 0,
              "ticks": ""
             }
            },
            "type": "parcoords"
           }
          ],
          "pie": [
           {
            "automargin": true,
            "type": "pie"
           }
          ],
          "scatter": [
           {
            "fillpattern": {
             "fillmode": "overlay",
             "size": 10,
             "solidity": 0.2
            },
            "type": "scatter"
           }
          ],
          "scatter3d": [
           {
            "line": {
             "colorbar": {
              "outlinewidth": 0,
              "ticks": ""
             }
            },
            "marker": {
             "colorbar": {
              "outlinewidth": 0,
              "ticks": ""
             }
            },
            "type": "scatter3d"
           }
          ],
          "scattercarpet": [
           {
            "marker": {
             "colorbar": {
              "outlinewidth": 0,
              "ticks": ""
             }
            },
            "type": "scattercarpet"
           }
          ],
          "scattergeo": [
           {
            "marker": {
             "colorbar": {
              "outlinewidth": 0,
              "ticks": ""
             }
            },
            "type": "scattergeo"
           }
          ],
          "scattergl": [
           {
            "marker": {
             "colorbar": {
              "outlinewidth": 0,
              "ticks": ""
             }
            },
            "type": "scattergl"
           }
          ],
          "scattermapbox": [
           {
            "marker": {
             "colorbar": {
              "outlinewidth": 0,
              "ticks": ""
             }
            },
            "type": "scattermapbox"
           }
          ],
          "scatterpolar": [
           {
            "marker": {
             "colorbar": {
              "outlinewidth": 0,
              "ticks": ""
             }
            },
            "type": "scatterpolar"
           }
          ],
          "scatterpolargl": [
           {
            "marker": {
             "colorbar": {
              "outlinewidth": 0,
              "ticks": ""
             }
            },
            "type": "scatterpolargl"
           }
          ],
          "scatterternary": [
           {
            "marker": {
             "colorbar": {
              "outlinewidth": 0,
              "ticks": ""
             }
            },
            "type": "scatterternary"
           }
          ],
          "surface": [
           {
            "colorbar": {
             "outlinewidth": 0,
             "ticks": ""
            },
            "colorscale": [
             [
              0,
              "#0d0887"
             ],
             [
              0.1111111111111111,
              "#46039f"
             ],
             [
              0.2222222222222222,
              "#7201a8"
             ],
             [
              0.3333333333333333,
              "#9c179e"
             ],
             [
              0.4444444444444444,
              "#bd3786"
             ],
             [
              0.5555555555555556,
              "#d8576b"
             ],
             [
              0.6666666666666666,
              "#ed7953"
             ],
             [
              0.7777777777777778,
              "#fb9f3a"
             ],
             [
              0.8888888888888888,
              "#fdca26"
             ],
             [
              1,
              "#f0f921"
             ]
            ],
            "type": "surface"
           }
          ],
          "table": [
           {
            "cells": {
             "fill": {
              "color": "#EBF0F8"
             },
             "line": {
              "color": "white"
             }
            },
            "header": {
             "fill": {
              "color": "#C8D4E3"
             },
             "line": {
              "color": "white"
             }
            },
            "type": "table"
           }
          ]
         },
         "layout": {
          "annotationdefaults": {
           "arrowcolor": "#2a3f5f",
           "arrowhead": 0,
           "arrowwidth": 1
          },
          "autotypenumbers": "strict",
          "coloraxis": {
           "colorbar": {
            "outlinewidth": 0,
            "ticks": ""
           }
          },
          "colorscale": {
           "diverging": [
            [
             0,
             "#8e0152"
            ],
            [
             0.1,
             "#c51b7d"
            ],
            [
             0.2,
             "#de77ae"
            ],
            [
             0.3,
             "#f1b6da"
            ],
            [
             0.4,
             "#fde0ef"
            ],
            [
             0.5,
             "#f7f7f7"
            ],
            [
             0.6,
             "#e6f5d0"
            ],
            [
             0.7,
             "#b8e186"
            ],
            [
             0.8,
             "#7fbc41"
            ],
            [
             0.9,
             "#4d9221"
            ],
            [
             1,
             "#276419"
            ]
           ],
           "sequential": [
            [
             0,
             "#0d0887"
            ],
            [
             0.1111111111111111,
             "#46039f"
            ],
            [
             0.2222222222222222,
             "#7201a8"
            ],
            [
             0.3333333333333333,
             "#9c179e"
            ],
            [
             0.4444444444444444,
             "#bd3786"
            ],
            [
             0.5555555555555556,
             "#d8576b"
            ],
            [
             0.6666666666666666,
             "#ed7953"
            ],
            [
             0.7777777777777778,
             "#fb9f3a"
            ],
            [
             0.8888888888888888,
             "#fdca26"
            ],
            [
             1,
             "#f0f921"
            ]
           ],
           "sequentialminus": [
            [
             0,
             "#0d0887"
            ],
            [
             0.1111111111111111,
             "#46039f"
            ],
            [
             0.2222222222222222,
             "#7201a8"
            ],
            [
             0.3333333333333333,
             "#9c179e"
            ],
            [
             0.4444444444444444,
             "#bd3786"
            ],
            [
             0.5555555555555556,
             "#d8576b"
            ],
            [
             0.6666666666666666,
             "#ed7953"
            ],
            [
             0.7777777777777778,
             "#fb9f3a"
            ],
            [
             0.8888888888888888,
             "#fdca26"
            ],
            [
             1,
             "#f0f921"
            ]
           ]
          },
          "colorway": [
           "#636efa",
           "#EF553B",
           "#00cc96",
           "#ab63fa",
           "#FFA15A",
           "#19d3f3",
           "#FF6692",
           "#B6E880",
           "#FF97FF",
           "#FECB52"
          ],
          "font": {
           "color": "#2a3f5f"
          },
          "geo": {
           "bgcolor": "white",
           "lakecolor": "white",
           "landcolor": "#E5ECF6",
           "showlakes": true,
           "showland": true,
           "subunitcolor": "white"
          },
          "hoverlabel": {
           "align": "left"
          },
          "hovermode": "closest",
          "mapbox": {
           "style": "light"
          },
          "paper_bgcolor": "white",
          "plot_bgcolor": "#E5ECF6",
          "polar": {
           "angularaxis": {
            "gridcolor": "white",
            "linecolor": "white",
            "ticks": ""
           },
           "bgcolor": "#E5ECF6",
           "radialaxis": {
            "gridcolor": "white",
            "linecolor": "white",
            "ticks": ""
           }
          },
          "scene": {
           "xaxis": {
            "backgroundcolor": "#E5ECF6",
            "gridcolor": "white",
            "gridwidth": 2,
            "linecolor": "white",
            "showbackground": true,
            "ticks": "",
            "zerolinecolor": "white"
           },
           "yaxis": {
            "backgroundcolor": "#E5ECF6",
            "gridcolor": "white",
            "gridwidth": 2,
            "linecolor": "white",
            "showbackground": true,
            "ticks": "",
            "zerolinecolor": "white"
           },
           "zaxis": {
            "backgroundcolor": "#E5ECF6",
            "gridcolor": "white",
            "gridwidth": 2,
            "linecolor": "white",
            "showbackground": true,
            "ticks": "",
            "zerolinecolor": "white"
           }
          },
          "shapedefaults": {
           "line": {
            "color": "#2a3f5f"
           }
          },
          "ternary": {
           "aaxis": {
            "gridcolor": "white",
            "linecolor": "white",
            "ticks": ""
           },
           "baxis": {
            "gridcolor": "white",
            "linecolor": "white",
            "ticks": ""
           },
           "bgcolor": "#E5ECF6",
           "caxis": {
            "gridcolor": "white",
            "linecolor": "white",
            "ticks": ""
           }
          },
          "title": {
           "x": 0.05
          },
          "xaxis": {
           "automargin": true,
           "gridcolor": "white",
           "linecolor": "white",
           "ticks": "",
           "title": {
            "standoff": 15
           },
           "zerolinecolor": "white",
           "zerolinewidth": 2
          },
          "yaxis": {
           "automargin": true,
           "gridcolor": "white",
           "linecolor": "white",
           "ticks": "",
           "title": {
            "standoff": 15
           },
           "zerolinecolor": "white",
           "zerolinewidth": 2
          }
         }
        },
        "title": {
         "text": "Mean Salary Distribution across Employment Type"
        },
        "xaxis": {
         "anchor": "y",
         "domain": [
          0,
          1
         ],
         "title": {
          "text": "Experience Level"
         }
        },
        "yaxis": {
         "anchor": "x",
         "domain": [
          0,
          1
         ],
         "title": {
          "text": "Mean Salary (USD)"
         }
        }
       }
      },
      "text/html": [
       "<div>                            <div id=\"cfe8ba44-6790-42fc-b65c-e16ee51fd9f4\" class=\"plotly-graph-div\" style=\"height:600px; width:100%;\"></div>            <script type=\"text/javascript\">                require([\"plotly\"], function(Plotly) {                    window.PLOTLYENV=window.PLOTLYENV || {};                                    if (document.getElementById(\"cfe8ba44-6790-42fc-b65c-e16ee51fd9f4\")) {                    Plotly.newPlot(                        \"cfe8ba44-6790-42fc-b65c-e16ee51fd9f4\",                        [{\"marker\":{\"color\":\"brown\",\"line\":{\"color\":\"white\",\"width\":2.5}},\"name\":\"Mean Salary (Bar)\",\"text\":[113446.9,51807.8,138314.1995696611,39533.705882352944],\"x\":[\"CT\",\"FL\",\"FT\",\"PT\"],\"y\":[113446.9,51807.8,138314.1995696611,39533.705882352944],\"type\":\"bar\"}],                        {\"template\":{\"data\":{\"histogram2dcontour\":[{\"type\":\"histogram2dcontour\",\"colorbar\":{\"outlinewidth\":0,\"ticks\":\"\"},\"colorscale\":[[0.0,\"#0d0887\"],[0.1111111111111111,\"#46039f\"],[0.2222222222222222,\"#7201a8\"],[0.3333333333333333,\"#9c179e\"],[0.4444444444444444,\"#bd3786\"],[0.5555555555555556,\"#d8576b\"],[0.6666666666666666,\"#ed7953\"],[0.7777777777777778,\"#fb9f3a\"],[0.8888888888888888,\"#fdca26\"],[1.0,\"#f0f921\"]]}],\"choropleth\":[{\"type\":\"choropleth\",\"colorbar\":{\"outlinewidth\":0,\"ticks\":\"\"}}],\"histogram2d\":[{\"type\":\"histogram2d\",\"colorbar\":{\"outlinewidth\":0,\"ticks\":\"\"},\"colorscale\":[[0.0,\"#0d0887\"],[0.1111111111111111,\"#46039f\"],[0.2222222222222222,\"#7201a8\"],[0.3333333333333333,\"#9c179e\"],[0.4444444444444444,\"#bd3786\"],[0.5555555555555556,\"#d8576b\"],[0.6666666666666666,\"#ed7953\"],[0.7777777777777778,\"#fb9f3a\"],[0.8888888888888888,\"#fdca26\"],[1.0,\"#f0f921\"]]}],\"heatmap\":[{\"type\":\"heatmap\",\"colorbar\":{\"outlinewidth\":0,\"ticks\":\"\"},\"colorscale\":[[0.0,\"#0d0887\"],[0.1111111111111111,\"#46039f\"],[0.2222222222222222,\"#7201a8\"],[0.3333333333333333,\"#9c179e\"],[0.4444444444444444,\"#bd3786\"],[0.5555555555555556,\"#d8576b\"],[0.6666666666666666,\"#ed7953\"],[0.7777777777777778,\"#fb9f3a\"],[0.8888888888888888,\"#fdca26\"],[1.0,\"#f0f921\"]]}],\"heatmapgl\":[{\"type\":\"heatmapgl\",\"colorbar\":{\"outlinewidth\":0,\"ticks\":\"\"},\"colorscale\":[[0.0,\"#0d0887\"],[0.1111111111111111,\"#46039f\"],[0.2222222222222222,\"#7201a8\"],[0.3333333333333333,\"#9c179e\"],[0.4444444444444444,\"#bd3786\"],[0.5555555555555556,\"#d8576b\"],[0.6666666666666666,\"#ed7953\"],[0.7777777777777778,\"#fb9f3a\"],[0.8888888888888888,\"#fdca26\"],[1.0,\"#f0f921\"]]}],\"contourcarpet\":[{\"type\":\"contourcarpet\",\"colorbar\":{\"outlinewidth\":0,\"ticks\":\"\"}}],\"contour\":[{\"type\":\"contour\",\"colorbar\":{\"outlinewidth\":0,\"ticks\":\"\"},\"colorscale\":[[0.0,\"#0d0887\"],[0.1111111111111111,\"#46039f\"],[0.2222222222222222,\"#7201a8\"],[0.3333333333333333,\"#9c179e\"],[0.4444444444444444,\"#bd3786\"],[0.5555555555555556,\"#d8576b\"],[0.6666666666666666,\"#ed7953\"],[0.7777777777777778,\"#fb9f3a\"],[0.8888888888888888,\"#fdca26\"],[1.0,\"#f0f921\"]]}],\"surface\":[{\"type\":\"surface\",\"colorbar\":{\"outlinewidth\":0,\"ticks\":\"\"},\"colorscale\":[[0.0,\"#0d0887\"],[0.1111111111111111,\"#46039f\"],[0.2222222222222222,\"#7201a8\"],[0.3333333333333333,\"#9c179e\"],[0.4444444444444444,\"#bd3786\"],[0.5555555555555556,\"#d8576b\"],[0.6666666666666666,\"#ed7953\"],[0.7777777777777778,\"#fb9f3a\"],[0.8888888888888888,\"#fdca26\"],[1.0,\"#f0f921\"]]}],\"mesh3d\":[{\"type\":\"mesh3d\",\"colorbar\":{\"outlinewidth\":0,\"ticks\":\"\"}}],\"scatter\":[{\"fillpattern\":{\"fillmode\":\"overlay\",\"size\":10,\"solidity\":0.2},\"type\":\"scatter\"}],\"parcoords\":[{\"type\":\"parcoords\",\"line\":{\"colorbar\":{\"outlinewidth\":0,\"ticks\":\"\"}}}],\"scatterpolargl\":[{\"type\":\"scatterpolargl\",\"marker\":{\"colorbar\":{\"outlinewidth\":0,\"ticks\":\"\"}}}],\"bar\":[{\"error_x\":{\"color\":\"#2a3f5f\"},\"error_y\":{\"color\":\"#2a3f5f\"},\"marker\":{\"line\":{\"color\":\"#E5ECF6\",\"width\":0.5},\"pattern\":{\"fillmode\":\"overlay\",\"size\":10,\"solidity\":0.2}},\"type\":\"bar\"}],\"scattergeo\":[{\"type\":\"scattergeo\",\"marker\":{\"colorbar\":{\"outlinewidth\":0,\"ticks\":\"\"}}}],\"scatterpolar\":[{\"type\":\"scatterpolar\",\"marker\":{\"colorbar\":{\"outlinewidth\":0,\"ticks\":\"\"}}}],\"histogram\":[{\"marker\":{\"pattern\":{\"fillmode\":\"overlay\",\"size\":10,\"solidity\":0.2}},\"type\":\"histogram\"}],\"scattergl\":[{\"type\":\"scattergl\",\"marker\":{\"colorbar\":{\"outlinewidth\":0,\"ticks\":\"\"}}}],\"scatter3d\":[{\"type\":\"scatter3d\",\"line\":{\"colorbar\":{\"outlinewidth\":0,\"ticks\":\"\"}},\"marker\":{\"colorbar\":{\"outlinewidth\":0,\"ticks\":\"\"}}}],\"scattermapbox\":[{\"type\":\"scattermapbox\",\"marker\":{\"colorbar\":{\"outlinewidth\":0,\"ticks\":\"\"}}}],\"scatterternary\":[{\"type\":\"scatterternary\",\"marker\":{\"colorbar\":{\"outlinewidth\":0,\"ticks\":\"\"}}}],\"scattercarpet\":[{\"type\":\"scattercarpet\",\"marker\":{\"colorbar\":{\"outlinewidth\":0,\"ticks\":\"\"}}}],\"carpet\":[{\"aaxis\":{\"endlinecolor\":\"#2a3f5f\",\"gridcolor\":\"white\",\"linecolor\":\"white\",\"minorgridcolor\":\"white\",\"startlinecolor\":\"#2a3f5f\"},\"baxis\":{\"endlinecolor\":\"#2a3f5f\",\"gridcolor\":\"white\",\"linecolor\":\"white\",\"minorgridcolor\":\"white\",\"startlinecolor\":\"#2a3f5f\"},\"type\":\"carpet\"}],\"table\":[{\"cells\":{\"fill\":{\"color\":\"#EBF0F8\"},\"line\":{\"color\":\"white\"}},\"header\":{\"fill\":{\"color\":\"#C8D4E3\"},\"line\":{\"color\":\"white\"}},\"type\":\"table\"}],\"barpolar\":[{\"marker\":{\"line\":{\"color\":\"#E5ECF6\",\"width\":0.5},\"pattern\":{\"fillmode\":\"overlay\",\"size\":10,\"solidity\":0.2}},\"type\":\"barpolar\"}],\"pie\":[{\"automargin\":true,\"type\":\"pie\"}]},\"layout\":{\"autotypenumbers\":\"strict\",\"colorway\":[\"#636efa\",\"#EF553B\",\"#00cc96\",\"#ab63fa\",\"#FFA15A\",\"#19d3f3\",\"#FF6692\",\"#B6E880\",\"#FF97FF\",\"#FECB52\"],\"font\":{\"color\":\"#2a3f5f\"},\"hovermode\":\"closest\",\"hoverlabel\":{\"align\":\"left\"},\"paper_bgcolor\":\"white\",\"plot_bgcolor\":\"#E5ECF6\",\"polar\":{\"bgcolor\":\"#E5ECF6\",\"angularaxis\":{\"gridcolor\":\"white\",\"linecolor\":\"white\",\"ticks\":\"\"},\"radialaxis\":{\"gridcolor\":\"white\",\"linecolor\":\"white\",\"ticks\":\"\"}},\"ternary\":{\"bgcolor\":\"#E5ECF6\",\"aaxis\":{\"gridcolor\":\"white\",\"linecolor\":\"white\",\"ticks\":\"\"},\"baxis\":{\"gridcolor\":\"white\",\"linecolor\":\"white\",\"ticks\":\"\"},\"caxis\":{\"gridcolor\":\"white\",\"linecolor\":\"white\",\"ticks\":\"\"}},\"coloraxis\":{\"colorbar\":{\"outlinewidth\":0,\"ticks\":\"\"}},\"colorscale\":{\"sequential\":[[0.0,\"#0d0887\"],[0.1111111111111111,\"#46039f\"],[0.2222222222222222,\"#7201a8\"],[0.3333333333333333,\"#9c179e\"],[0.4444444444444444,\"#bd3786\"],[0.5555555555555556,\"#d8576b\"],[0.6666666666666666,\"#ed7953\"],[0.7777777777777778,\"#fb9f3a\"],[0.8888888888888888,\"#fdca26\"],[1.0,\"#f0f921\"]],\"sequentialminus\":[[0.0,\"#0d0887\"],[0.1111111111111111,\"#46039f\"],[0.2222222222222222,\"#7201a8\"],[0.3333333333333333,\"#9c179e\"],[0.4444444444444444,\"#bd3786\"],[0.5555555555555556,\"#d8576b\"],[0.6666666666666666,\"#ed7953\"],[0.7777777777777778,\"#fb9f3a\"],[0.8888888888888888,\"#fdca26\"],[1.0,\"#f0f921\"]],\"diverging\":[[0,\"#8e0152\"],[0.1,\"#c51b7d\"],[0.2,\"#de77ae\"],[0.3,\"#f1b6da\"],[0.4,\"#fde0ef\"],[0.5,\"#f7f7f7\"],[0.6,\"#e6f5d0\"],[0.7,\"#b8e186\"],[0.8,\"#7fbc41\"],[0.9,\"#4d9221\"],[1,\"#276419\"]]},\"xaxis\":{\"gridcolor\":\"white\",\"linecolor\":\"white\",\"ticks\":\"\",\"title\":{\"standoff\":15},\"zerolinecolor\":\"white\",\"automargin\":true,\"zerolinewidth\":2},\"yaxis\":{\"gridcolor\":\"white\",\"linecolor\":\"white\",\"ticks\":\"\",\"title\":{\"standoff\":15},\"zerolinecolor\":\"white\",\"automargin\":true,\"zerolinewidth\":2},\"scene\":{\"xaxis\":{\"backgroundcolor\":\"#E5ECF6\",\"gridcolor\":\"white\",\"linecolor\":\"white\",\"showbackground\":true,\"ticks\":\"\",\"zerolinecolor\":\"white\",\"gridwidth\":2},\"yaxis\":{\"backgroundcolor\":\"#E5ECF6\",\"gridcolor\":\"white\",\"linecolor\":\"white\",\"showbackground\":true,\"ticks\":\"\",\"zerolinecolor\":\"white\",\"gridwidth\":2},\"zaxis\":{\"backgroundcolor\":\"#E5ECF6\",\"gridcolor\":\"white\",\"linecolor\":\"white\",\"showbackground\":true,\"ticks\":\"\",\"zerolinecolor\":\"white\",\"gridwidth\":2}},\"shapedefaults\":{\"line\":{\"color\":\"#2a3f5f\"}},\"annotationdefaults\":{\"arrowcolor\":\"#2a3f5f\",\"arrowhead\":0,\"arrowwidth\":1},\"geo\":{\"bgcolor\":\"white\",\"landcolor\":\"#E5ECF6\",\"subunitcolor\":\"white\",\"showland\":true,\"showlakes\":true,\"lakecolor\":\"white\"},\"title\":{\"x\":0.05},\"mapbox\":{\"style\":\"light\"}}},\"xaxis\":{\"anchor\":\"y\",\"domain\":[0.0,1.0],\"title\":{\"text\":\"Experience Level\"}},\"yaxis\":{\"anchor\":\"x\",\"domain\":[0.0,1.0],\"title\":{\"text\":\"Mean Salary (USD)\"}},\"title\":{\"text\":\"Mean Salary Distribution across Employment Type\"},\"height\":600},                        {\"responsive\": true}                    ).then(function(){\n",
       "                            \n",
       "var gd = document.getElementById('cfe8ba44-6790-42fc-b65c-e16ee51fd9f4');\n",
       "var x = new MutationObserver(function (mutations, observer) {{\n",
       "        var display = window.getComputedStyle(gd).display;\n",
       "        if (!display || display === 'none') {{\n",
       "            console.log([gd, 'removed!']);\n",
       "            Plotly.purge(gd);\n",
       "            observer.disconnect();\n",
       "        }}\n",
       "}});\n",
       "\n",
       "// Listen for the removal of the full notebook cells\n",
       "var notebookContainer = gd.closest('#notebook-container');\n",
       "if (notebookContainer) {{\n",
       "    x.observe(notebookContainer, {childList: true});\n",
       "}}\n",
       "\n",
       "// Listen for the clearing of the current output cell\n",
       "var outputEl = gd.closest('.output');\n",
       "if (outputEl) {{\n",
       "    x.observe(outputEl, {childList: true});\n",
       "}}\n",
       "\n",
       "                        })                };                });            </script>        </div>"
      ]
     },
     "metadata": {},
     "output_type": "display_data"
    }
   ],
   "source": [
    "# Determine the mean salary based on Employment Type\n",
    "count_values = df.employment_type.value_counts()\n",
    "salary_values = df.groupby('employment_type').mean(\n",
    "    numeric_only=True)['salary_in_usd']\n",
    "\n",
    "# Create subplots\n",
    "fig = make_subplots(rows=1, cols=2, specs=[\n",
    "                    [{'type': 'domain'}, {'type': 'domain'}]])\n",
    "\n",
    "# Count of Experience Level\n",
    "count_trace = go.Pie(\n",
    "    labels=count_values.index,\n",
    "    values=count_values.values,\n",
    "    name=\"Value Counts\"\n",
    ")\n",
    "\n",
    "# Salary based on Experience Level\n",
    "salary_trace = go.Pie(\n",
    "    labels=salary_values.index,\n",
    "    values=salary_values.values,\n",
    "    name=\"Mean Salary\"\n",
    ")\n",
    "\n",
    "# Add traces to the subplots\n",
    "fig.add_trace(count_trace, row=1, col=1)\n",
    "fig.add_trace(salary_trace, row=1, col=2)\n",
    "\n",
    "# Update the traces\n",
    "fig.update_traces(\n",
    "    textinfo='label+percent',\n",
    "    hole=0.4,\n",
    "    marker=dict(\n",
    "        colors=px.colors.sequential.RdBu,\n",
    "        line_color='lavender',\n",
    "        line_width=2.5\n",
    "    )\n",
    ")\n",
    "\n",
    "# Update the figure layout\n",
    "fig.update_layout(\n",
    "    title_text=\"Distribution based on Employment Type\",\n",
    "    height=600,\n",
    "    annotations=[\n",
    "        dict(\n",
    "            text=\"Value Counts\",\n",
    "            font_size=17,\n",
    "            showarrow=False,\n",
    "            x=0.17\n",
    "        ),\n",
    "        dict(\n",
    "            text=\"Mean Salary\",\n",
    "            font_size=20,\n",
    "            showarrow=False,\n",
    "            x=0.83\n",
    "        )\n",
    "    ]\n",
    ")\n",
    "\n",
    "# Show the final figure\n",
    "fig.show()\n",
    "\n",
    "# Create a figure\n",
    "fig = make_subplots()\n",
    "\n",
    "# Add bar trace\n",
    "bar_trace = go.Bar(\n",
    "    x=salary_values.index,\n",
    "    y=salary_values.values,\n",
    "    name=\"Mean Salary (Bar)\",\n",
    "    text=salary_values.values,\n",
    "    marker=dict(\n",
    "        color='brown',\n",
    "        line_color='white',\n",
    "        line_width=2.5,\n",
    "    )\n",
    ")\n",
    "\n",
    "# Add traces to the figure\n",
    "fig.add_trace(bar_trace)\n",
    " \n",
    "# Update Layout\n",
    "fig.update_layout(\n",
    "    title=\"Mean Salary Distribution across Employment Type\",\n",
    "    xaxis_title=\"Experience Level\",\n",
    "    yaxis_title=\"Mean Salary (USD)\",\n",
    "    height=600\n",
    ")\n",
    "\n",
    "# Show final figure\n",
    "fig.show()"
   ]
  },
  {
   "cell_type": "code",
   "execution_count": 142,
   "id": "427e9116",
   "metadata": {},
   "outputs": [
    {
     "data": {
      "application/vnd.plotly.v1+json": {
       "config": {
        "plotlyServerURL": "https://plot.ly"
       },
       "data": [
        {
         "branchvalues": "total",
         "domain": {
          "x": [
           0,
           1
          ],
          "y": [
           0,
           1
          ]
         },
         "hovertemplate": "labels=%{label}<br>salary_in_usd=%{value}<br>parent=%{parent}<br>id=%{id}<extra></extra>",
         "ids": [
          "EN/CT/2020",
          "SE/FL/2020",
          "EN/FT/2020",
          "EX/FT/2020",
          "MI/FT/2020",
          "SE/FT/2020",
          "EN/PT/2020",
          "EX/CT/2021",
          "MI/CT/2021",
          "SE/CT/2021",
          "MI/FL/2021",
          "EN/FT/2021",
          "EX/FT/2021",
          "MI/FT/2021",
          "SE/FT/2021",
          "EN/PT/2021",
          "MI/PT/2021",
          "EN/CT/2022",
          "MI/CT/2022",
          "SE/CT/2022",
          "EN/FL/2022",
          "MI/FL/2022",
          "EN/FT/2022",
          "EX/FT/2022",
          "MI/FT/2022",
          "SE/FT/2022",
          "EN/PT/2022",
          "MI/PT/2022",
          "MI/CT/2023",
          "SE/FL/2023",
          "EN/FT/2023",
          "EX/FT/2023",
          "MI/FT/2023",
          "SE/FT/2023",
          "EN/PT/2023",
          "EN/CT",
          "EX/CT",
          "MI/CT",
          "SE/CT",
          "EN/FL",
          "MI/FL",
          "SE/FL",
          "EN/FT",
          "EX/FT",
          "MI/FT",
          "SE/FT",
          "EN/PT",
          "MI/PT",
          "EN",
          "EX",
          "MI",
          "SE"
         ],
         "labels": [
          "2020",
          "2020",
          "2020",
          "2020",
          "2020",
          "2020",
          "2020",
          "2021",
          "2021",
          "2021",
          "2021",
          "2021",
          "2021",
          "2021",
          "2021",
          "2021",
          "2021",
          "2022",
          "2022",
          "2022",
          "2022",
          "2022",
          "2022",
          "2022",
          "2022",
          "2022",
          "2022",
          "2022",
          "2023",
          "2023",
          "2023",
          "2023",
          "2023",
          "2023",
          "2023",
          "CT",
          "CT",
          "CT",
          "CT",
          "FL",
          "FL",
          "FL",
          "FT",
          "FT",
          "FT",
          "FT",
          "PT",
          "PT",
          "EN",
          "EX",
          "MI",
          "SE"
         ],
         "name": "",
         "parents": [
          "EN/CT",
          "SE/FL",
          "EN/FT",
          "EX/FT",
          "MI/FT",
          "SE/FT",
          "EN/PT",
          "EX/CT",
          "MI/CT",
          "SE/CT",
          "MI/FL",
          "EN/FT",
          "EX/FT",
          "MI/FT",
          "SE/FT",
          "EN/PT",
          "MI/PT",
          "EN/CT",
          "MI/CT",
          "SE/CT",
          "EN/FL",
          "MI/FL",
          "EN/FT",
          "EX/FT",
          "MI/FT",
          "SE/FT",
          "EN/PT",
          "MI/PT",
          "MI/CT",
          "SE/FL",
          "EN/FT",
          "EX/FT",
          "MI/FT",
          "SE/FT",
          "EN/PT",
          "EN",
          "EX",
          "MI",
          "SE",
          "EN",
          "MI",
          "SE",
          "EN",
          "EX",
          "MI",
          "SE",
          "EN",
          "MI",
          "",
          "",
          "",
          ""
         ],
         "type": "sunburst",
         "values": [
          100000,
          60000,
          1185132,
          419833,
          2802071,
          2410329,
          37635,
          416000,
          270000,
          105000,
          77555,
          2937753,
          1445280,
          7132053,
          9099231,
          82036,
          75150,
          30469,
          67500,
          90000,
          150000,
          130523,
          8961338,
          7718672,
          36320765,
          167946725,
          406940,
          52533,
          55500,
          100000,
          11225729,
          12222341,
          37159731,
          205265211,
          17779,
          130469,
          416000,
          393000,
          195000,
          150000,
          208078,
          160000,
          24309952,
          21806126,
          83414620,
          384721496,
          544390,
          127683,
          25134811,
          22222126,
          84143381,
          385076496
         ]
        }
       ],
       "layout": {
        "height": 600,
        "legend": {
         "tracegroupgap": 0
        },
        "margin": {
         "t": 60
        },
        "template": {
         "data": {
          "bar": [
           {
            "error_x": {
             "color": "#2a3f5f"
            },
            "error_y": {
             "color": "#2a3f5f"
            },
            "marker": {
             "line": {
              "color": "#E5ECF6",
              "width": 0.5
             },
             "pattern": {
              "fillmode": "overlay",
              "size": 10,
              "solidity": 0.2
             }
            },
            "type": "bar"
           }
          ],
          "barpolar": [
           {
            "marker": {
             "line": {
              "color": "#E5ECF6",
              "width": 0.5
             },
             "pattern": {
              "fillmode": "overlay",
              "size": 10,
              "solidity": 0.2
             }
            },
            "type": "barpolar"
           }
          ],
          "carpet": [
           {
            "aaxis": {
             "endlinecolor": "#2a3f5f",
             "gridcolor": "white",
             "linecolor": "white",
             "minorgridcolor": "white",
             "startlinecolor": "#2a3f5f"
            },
            "baxis": {
             "endlinecolor": "#2a3f5f",
             "gridcolor": "white",
             "linecolor": "white",
             "minorgridcolor": "white",
             "startlinecolor": "#2a3f5f"
            },
            "type": "carpet"
           }
          ],
          "choropleth": [
           {
            "colorbar": {
             "outlinewidth": 0,
             "ticks": ""
            },
            "type": "choropleth"
           }
          ],
          "contour": [
           {
            "colorbar": {
             "outlinewidth": 0,
             "ticks": ""
            },
            "colorscale": [
             [
              0,
              "#0d0887"
             ],
             [
              0.1111111111111111,
              "#46039f"
             ],
             [
              0.2222222222222222,
              "#7201a8"
             ],
             [
              0.3333333333333333,
              "#9c179e"
             ],
             [
              0.4444444444444444,
              "#bd3786"
             ],
             [
              0.5555555555555556,
              "#d8576b"
             ],
             [
              0.6666666666666666,
              "#ed7953"
             ],
             [
              0.7777777777777778,
              "#fb9f3a"
             ],
             [
              0.8888888888888888,
              "#fdca26"
             ],
             [
              1,
              "#f0f921"
             ]
            ],
            "type": "contour"
           }
          ],
          "contourcarpet": [
           {
            "colorbar": {
             "outlinewidth": 0,
             "ticks": ""
            },
            "type": "contourcarpet"
           }
          ],
          "heatmap": [
           {
            "colorbar": {
             "outlinewidth": 0,
             "ticks": ""
            },
            "colorscale": [
             [
              0,
              "#0d0887"
             ],
             [
              0.1111111111111111,
              "#46039f"
             ],
             [
              0.2222222222222222,
              "#7201a8"
             ],
             [
              0.3333333333333333,
              "#9c179e"
             ],
             [
              0.4444444444444444,
              "#bd3786"
             ],
             [
              0.5555555555555556,
              "#d8576b"
             ],
             [
              0.6666666666666666,
              "#ed7953"
             ],
             [
              0.7777777777777778,
              "#fb9f3a"
             ],
             [
              0.8888888888888888,
              "#fdca26"
             ],
             [
              1,
              "#f0f921"
             ]
            ],
            "type": "heatmap"
           }
          ],
          "heatmapgl": [
           {
            "colorbar": {
             "outlinewidth": 0,
             "ticks": ""
            },
            "colorscale": [
             [
              0,
              "#0d0887"
             ],
             [
              0.1111111111111111,
              "#46039f"
             ],
             [
              0.2222222222222222,
              "#7201a8"
             ],
             [
              0.3333333333333333,
              "#9c179e"
             ],
             [
              0.4444444444444444,
              "#bd3786"
             ],
             [
              0.5555555555555556,
              "#d8576b"
             ],
             [
              0.6666666666666666,
              "#ed7953"
             ],
             [
              0.7777777777777778,
              "#fb9f3a"
             ],
             [
              0.8888888888888888,
              "#fdca26"
             ],
             [
              1,
              "#f0f921"
             ]
            ],
            "type": "heatmapgl"
           }
          ],
          "histogram": [
           {
            "marker": {
             "pattern": {
              "fillmode": "overlay",
              "size": 10,
              "solidity": 0.2
             }
            },
            "type": "histogram"
           }
          ],
          "histogram2d": [
           {
            "colorbar": {
             "outlinewidth": 0,
             "ticks": ""
            },
            "colorscale": [
             [
              0,
              "#0d0887"
             ],
             [
              0.1111111111111111,
              "#46039f"
             ],
             [
              0.2222222222222222,
              "#7201a8"
             ],
             [
              0.3333333333333333,
              "#9c179e"
             ],
             [
              0.4444444444444444,
              "#bd3786"
             ],
             [
              0.5555555555555556,
              "#d8576b"
             ],
             [
              0.6666666666666666,
              "#ed7953"
             ],
             [
              0.7777777777777778,
              "#fb9f3a"
             ],
             [
              0.8888888888888888,
              "#fdca26"
             ],
             [
              1,
              "#f0f921"
             ]
            ],
            "type": "histogram2d"
           }
          ],
          "histogram2dcontour": [
           {
            "colorbar": {
             "outlinewidth": 0,
             "ticks": ""
            },
            "colorscale": [
             [
              0,
              "#0d0887"
             ],
             [
              0.1111111111111111,
              "#46039f"
             ],
             [
              0.2222222222222222,
              "#7201a8"
             ],
             [
              0.3333333333333333,
              "#9c179e"
             ],
             [
              0.4444444444444444,
              "#bd3786"
             ],
             [
              0.5555555555555556,
              "#d8576b"
             ],
             [
              0.6666666666666666,
              "#ed7953"
             ],
             [
              0.7777777777777778,
              "#fb9f3a"
             ],
             [
              0.8888888888888888,
              "#fdca26"
             ],
             [
              1,
              "#f0f921"
             ]
            ],
            "type": "histogram2dcontour"
           }
          ],
          "mesh3d": [
           {
            "colorbar": {
             "outlinewidth": 0,
             "ticks": ""
            },
            "type": "mesh3d"
           }
          ],
          "parcoords": [
           {
            "line": {
             "colorbar": {
              "outlinewidth": 0,
              "ticks": ""
             }
            },
            "type": "parcoords"
           }
          ],
          "pie": [
           {
            "automargin": true,
            "type": "pie"
           }
          ],
          "scatter": [
           {
            "fillpattern": {
             "fillmode": "overlay",
             "size": 10,
             "solidity": 0.2
            },
            "type": "scatter"
           }
          ],
          "scatter3d": [
           {
            "line": {
             "colorbar": {
              "outlinewidth": 0,
              "ticks": ""
             }
            },
            "marker": {
             "colorbar": {
              "outlinewidth": 0,
              "ticks": ""
             }
            },
            "type": "scatter3d"
           }
          ],
          "scattercarpet": [
           {
            "marker": {
             "colorbar": {
              "outlinewidth": 0,
              "ticks": ""
             }
            },
            "type": "scattercarpet"
           }
          ],
          "scattergeo": [
           {
            "marker": {
             "colorbar": {
              "outlinewidth": 0,
              "ticks": ""
             }
            },
            "type": "scattergeo"
           }
          ],
          "scattergl": [
           {
            "marker": {
             "colorbar": {
              "outlinewidth": 0,
              "ticks": ""
             }
            },
            "type": "scattergl"
           }
          ],
          "scattermapbox": [
           {
            "marker": {
             "colorbar": {
              "outlinewidth": 0,
              "ticks": ""
             }
            },
            "type": "scattermapbox"
           }
          ],
          "scatterpolar": [
           {
            "marker": {
             "colorbar": {
              "outlinewidth": 0,
              "ticks": ""
             }
            },
            "type": "scatterpolar"
           }
          ],
          "scatterpolargl": [
           {
            "marker": {
             "colorbar": {
              "outlinewidth": 0,
              "ticks": ""
             }
            },
            "type": "scatterpolargl"
           }
          ],
          "scatterternary": [
           {
            "marker": {
             "colorbar": {
              "outlinewidth": 0,
              "ticks": ""
             }
            },
            "type": "scatterternary"
           }
          ],
          "surface": [
           {
            "colorbar": {
             "outlinewidth": 0,
             "ticks": ""
            },
            "colorscale": [
             [
              0,
              "#0d0887"
             ],
             [
              0.1111111111111111,
              "#46039f"
             ],
             [
              0.2222222222222222,
              "#7201a8"
             ],
             [
              0.3333333333333333,
              "#9c179e"
             ],
             [
              0.4444444444444444,
              "#bd3786"
             ],
             [
              0.5555555555555556,
              "#d8576b"
             ],
             [
              0.6666666666666666,
              "#ed7953"
             ],
             [
              0.7777777777777778,
              "#fb9f3a"
             ],
             [
              0.8888888888888888,
              "#fdca26"
             ],
             [
              1,
              "#f0f921"
             ]
            ],
            "type": "surface"
           }
          ],
          "table": [
           {
            "cells": {
             "fill": {
              "color": "#EBF0F8"
             },
             "line": {
              "color": "white"
             }
            },
            "header": {
             "fill": {
              "color": "#C8D4E3"
             },
             "line": {
              "color": "white"
             }
            },
            "type": "table"
           }
          ]
         },
         "layout": {
          "annotationdefaults": {
           "arrowcolor": "#2a3f5f",
           "arrowhead": 0,
           "arrowwidth": 1
          },
          "autotypenumbers": "strict",
          "coloraxis": {
           "colorbar": {
            "outlinewidth": 0,
            "ticks": ""
           }
          },
          "colorscale": {
           "diverging": [
            [
             0,
             "#8e0152"
            ],
            [
             0.1,
             "#c51b7d"
            ],
            [
             0.2,
             "#de77ae"
            ],
            [
             0.3,
             "#f1b6da"
            ],
            [
             0.4,
             "#fde0ef"
            ],
            [
             0.5,
             "#f7f7f7"
            ],
            [
             0.6,
             "#e6f5d0"
            ],
            [
             0.7,
             "#b8e186"
            ],
            [
             0.8,
             "#7fbc41"
            ],
            [
             0.9,
             "#4d9221"
            ],
            [
             1,
             "#276419"
            ]
           ],
           "sequential": [
            [
             0,
             "#0d0887"
            ],
            [
             0.1111111111111111,
             "#46039f"
            ],
            [
             0.2222222222222222,
             "#7201a8"
            ],
            [
             0.3333333333333333,
             "#9c179e"
            ],
            [
             0.4444444444444444,
             "#bd3786"
            ],
            [
             0.5555555555555556,
             "#d8576b"
            ],
            [
             0.6666666666666666,
             "#ed7953"
            ],
            [
             0.7777777777777778,
             "#fb9f3a"
            ],
            [
             0.8888888888888888,
             "#fdca26"
            ],
            [
             1,
             "#f0f921"
            ]
           ],
           "sequentialminus": [
            [
             0,
             "#0d0887"
            ],
            [
             0.1111111111111111,
             "#46039f"
            ],
            [
             0.2222222222222222,
             "#7201a8"
            ],
            [
             0.3333333333333333,
             "#9c179e"
            ],
            [
             0.4444444444444444,
             "#bd3786"
            ],
            [
             0.5555555555555556,
             "#d8576b"
            ],
            [
             0.6666666666666666,
             "#ed7953"
            ],
            [
             0.7777777777777778,
             "#fb9f3a"
            ],
            [
             0.8888888888888888,
             "#fdca26"
            ],
            [
             1,
             "#f0f921"
            ]
           ]
          },
          "colorway": [
           "#636efa",
           "#EF553B",
           "#00cc96",
           "#ab63fa",
           "#FFA15A",
           "#19d3f3",
           "#FF6692",
           "#B6E880",
           "#FF97FF",
           "#FECB52"
          ],
          "font": {
           "color": "#2a3f5f"
          },
          "geo": {
           "bgcolor": "white",
           "lakecolor": "white",
           "landcolor": "#E5ECF6",
           "showlakes": true,
           "showland": true,
           "subunitcolor": "white"
          },
          "hoverlabel": {
           "align": "left"
          },
          "hovermode": "closest",
          "mapbox": {
           "style": "light"
          },
          "paper_bgcolor": "white",
          "plot_bgcolor": "#E5ECF6",
          "polar": {
           "angularaxis": {
            "gridcolor": "white",
            "linecolor": "white",
            "ticks": ""
           },
           "bgcolor": "#E5ECF6",
           "radialaxis": {
            "gridcolor": "white",
            "linecolor": "white",
            "ticks": ""
           }
          },
          "scene": {
           "xaxis": {
            "backgroundcolor": "#E5ECF6",
            "gridcolor": "white",
            "gridwidth": 2,
            "linecolor": "white",
            "showbackground": true,
            "ticks": "",
            "zerolinecolor": "white"
           },
           "yaxis": {
            "backgroundcolor": "#E5ECF6",
            "gridcolor": "white",
            "gridwidth": 2,
            "linecolor": "white",
            "showbackground": true,
            "ticks": "",
            "zerolinecolor": "white"
           },
           "zaxis": {
            "backgroundcolor": "#E5ECF6",
            "gridcolor": "white",
            "gridwidth": 2,
            "linecolor": "white",
            "showbackground": true,
            "ticks": "",
            "zerolinecolor": "white"
           }
          },
          "shapedefaults": {
           "line": {
            "color": "#2a3f5f"
           }
          },
          "ternary": {
           "aaxis": {
            "gridcolor": "white",
            "linecolor": "white",
            "ticks": ""
           },
           "baxis": {
            "gridcolor": "white",
            "linecolor": "white",
            "ticks": ""
           },
           "bgcolor": "#E5ECF6",
           "caxis": {
            "gridcolor": "white",
            "linecolor": "white",
            "ticks": ""
           }
          },
          "title": {
           "x": 0.05
          },
          "xaxis": {
           "automargin": true,
           "gridcolor": "white",
           "linecolor": "white",
           "ticks": "",
           "title": {
            "standoff": 15
           },
           "zerolinecolor": "white",
           "zerolinewidth": 2
          },
          "yaxis": {
           "automargin": true,
           "gridcolor": "white",
           "linecolor": "white",
           "ticks": "",
           "title": {
            "standoff": 15
           },
           "zerolinecolor": "white",
           "zerolinewidth": 2
          }
         }
        },
        "title": {
         "text": "Total Salary Distribution by Work Year and Experience Level and Employment Type"
        }
       }
      },
      "text/html": [
       "<div>                            <div id=\"0401840d-b313-4909-83a6-ac033c40c457\" class=\"plotly-graph-div\" style=\"height:600px; width:100%;\"></div>            <script type=\"text/javascript\">                require([\"plotly\"], function(Plotly) {                    window.PLOTLYENV=window.PLOTLYENV || {};                                    if (document.getElementById(\"0401840d-b313-4909-83a6-ac033c40c457\")) {                    Plotly.newPlot(                        \"0401840d-b313-4909-83a6-ac033c40c457\",                        [{\"branchvalues\":\"total\",\"domain\":{\"x\":[0.0,1.0],\"y\":[0.0,1.0]},\"hovertemplate\":\"labels=%{label}<br>salary_in_usd=%{value}<br>parent=%{parent}<br>id=%{id}<extra></extra>\",\"ids\":[\"EN/CT/2020\",\"SE/FL/2020\",\"EN/FT/2020\",\"EX/FT/2020\",\"MI/FT/2020\",\"SE/FT/2020\",\"EN/PT/2020\",\"EX/CT/2021\",\"MI/CT/2021\",\"SE/CT/2021\",\"MI/FL/2021\",\"EN/FT/2021\",\"EX/FT/2021\",\"MI/FT/2021\",\"SE/FT/2021\",\"EN/PT/2021\",\"MI/PT/2021\",\"EN/CT/2022\",\"MI/CT/2022\",\"SE/CT/2022\",\"EN/FL/2022\",\"MI/FL/2022\",\"EN/FT/2022\",\"EX/FT/2022\",\"MI/FT/2022\",\"SE/FT/2022\",\"EN/PT/2022\",\"MI/PT/2022\",\"MI/CT/2023\",\"SE/FL/2023\",\"EN/FT/2023\",\"EX/FT/2023\",\"MI/FT/2023\",\"SE/FT/2023\",\"EN/PT/2023\",\"EN/CT\",\"EX/CT\",\"MI/CT\",\"SE/CT\",\"EN/FL\",\"MI/FL\",\"SE/FL\",\"EN/FT\",\"EX/FT\",\"MI/FT\",\"SE/FT\",\"EN/PT\",\"MI/PT\",\"EN\",\"EX\",\"MI\",\"SE\"],\"labels\":[\"2020\",\"2020\",\"2020\",\"2020\",\"2020\",\"2020\",\"2020\",\"2021\",\"2021\",\"2021\",\"2021\",\"2021\",\"2021\",\"2021\",\"2021\",\"2021\",\"2021\",\"2022\",\"2022\",\"2022\",\"2022\",\"2022\",\"2022\",\"2022\",\"2022\",\"2022\",\"2022\",\"2022\",\"2023\",\"2023\",\"2023\",\"2023\",\"2023\",\"2023\",\"2023\",\"CT\",\"CT\",\"CT\",\"CT\",\"FL\",\"FL\",\"FL\",\"FT\",\"FT\",\"FT\",\"FT\",\"PT\",\"PT\",\"EN\",\"EX\",\"MI\",\"SE\"],\"name\":\"\",\"parents\":[\"EN/CT\",\"SE/FL\",\"EN/FT\",\"EX/FT\",\"MI/FT\",\"SE/FT\",\"EN/PT\",\"EX/CT\",\"MI/CT\",\"SE/CT\",\"MI/FL\",\"EN/FT\",\"EX/FT\",\"MI/FT\",\"SE/FT\",\"EN/PT\",\"MI/PT\",\"EN/CT\",\"MI/CT\",\"SE/CT\",\"EN/FL\",\"MI/FL\",\"EN/FT\",\"EX/FT\",\"MI/FT\",\"SE/FT\",\"EN/PT\",\"MI/PT\",\"MI/CT\",\"SE/FL\",\"EN/FT\",\"EX/FT\",\"MI/FT\",\"SE/FT\",\"EN/PT\",\"EN\",\"EX\",\"MI\",\"SE\",\"EN\",\"MI\",\"SE\",\"EN\",\"EX\",\"MI\",\"SE\",\"EN\",\"MI\",\"\",\"\",\"\",\"\"],\"values\":[100000,60000,1185132,419833,2802071,2410329,37635,416000,270000,105000,77555,2937753,1445280,7132053,9099231,82036,75150,30469,67500,90000,150000,130523,8961338,7718672,36320765,167946725,406940,52533,55500,100000,11225729,12222341,37159731,205265211,17779,130469,416000,393000,195000,150000,208078,160000,24309952,21806126,83414620,384721496,544390,127683,25134811,22222126,84143381,385076496],\"type\":\"sunburst\"}],                        {\"template\":{\"data\":{\"histogram2dcontour\":[{\"type\":\"histogram2dcontour\",\"colorbar\":{\"outlinewidth\":0,\"ticks\":\"\"},\"colorscale\":[[0.0,\"#0d0887\"],[0.1111111111111111,\"#46039f\"],[0.2222222222222222,\"#7201a8\"],[0.3333333333333333,\"#9c179e\"],[0.4444444444444444,\"#bd3786\"],[0.5555555555555556,\"#d8576b\"],[0.6666666666666666,\"#ed7953\"],[0.7777777777777778,\"#fb9f3a\"],[0.8888888888888888,\"#fdca26\"],[1.0,\"#f0f921\"]]}],\"choropleth\":[{\"type\":\"choropleth\",\"colorbar\":{\"outlinewidth\":0,\"ticks\":\"\"}}],\"histogram2d\":[{\"type\":\"histogram2d\",\"colorbar\":{\"outlinewidth\":0,\"ticks\":\"\"},\"colorscale\":[[0.0,\"#0d0887\"],[0.1111111111111111,\"#46039f\"],[0.2222222222222222,\"#7201a8\"],[0.3333333333333333,\"#9c179e\"],[0.4444444444444444,\"#bd3786\"],[0.5555555555555556,\"#d8576b\"],[0.6666666666666666,\"#ed7953\"],[0.7777777777777778,\"#fb9f3a\"],[0.8888888888888888,\"#fdca26\"],[1.0,\"#f0f921\"]]}],\"heatmap\":[{\"type\":\"heatmap\",\"colorbar\":{\"outlinewidth\":0,\"ticks\":\"\"},\"colorscale\":[[0.0,\"#0d0887\"],[0.1111111111111111,\"#46039f\"],[0.2222222222222222,\"#7201a8\"],[0.3333333333333333,\"#9c179e\"],[0.4444444444444444,\"#bd3786\"],[0.5555555555555556,\"#d8576b\"],[0.6666666666666666,\"#ed7953\"],[0.7777777777777778,\"#fb9f3a\"],[0.8888888888888888,\"#fdca26\"],[1.0,\"#f0f921\"]]}],\"heatmapgl\":[{\"type\":\"heatmapgl\",\"colorbar\":{\"outlinewidth\":0,\"ticks\":\"\"},\"colorscale\":[[0.0,\"#0d0887\"],[0.1111111111111111,\"#46039f\"],[0.2222222222222222,\"#7201a8\"],[0.3333333333333333,\"#9c179e\"],[0.4444444444444444,\"#bd3786\"],[0.5555555555555556,\"#d8576b\"],[0.6666666666666666,\"#ed7953\"],[0.7777777777777778,\"#fb9f3a\"],[0.8888888888888888,\"#fdca26\"],[1.0,\"#f0f921\"]]}],\"contourcarpet\":[{\"type\":\"contourcarpet\",\"colorbar\":{\"outlinewidth\":0,\"ticks\":\"\"}}],\"contour\":[{\"type\":\"contour\",\"colorbar\":{\"outlinewidth\":0,\"ticks\":\"\"},\"colorscale\":[[0.0,\"#0d0887\"],[0.1111111111111111,\"#46039f\"],[0.2222222222222222,\"#7201a8\"],[0.3333333333333333,\"#9c179e\"],[0.4444444444444444,\"#bd3786\"],[0.5555555555555556,\"#d8576b\"],[0.6666666666666666,\"#ed7953\"],[0.7777777777777778,\"#fb9f3a\"],[0.8888888888888888,\"#fdca26\"],[1.0,\"#f0f921\"]]}],\"surface\":[{\"type\":\"surface\",\"colorbar\":{\"outlinewidth\":0,\"ticks\":\"\"},\"colorscale\":[[0.0,\"#0d0887\"],[0.1111111111111111,\"#46039f\"],[0.2222222222222222,\"#7201a8\"],[0.3333333333333333,\"#9c179e\"],[0.4444444444444444,\"#bd3786\"],[0.5555555555555556,\"#d8576b\"],[0.6666666666666666,\"#ed7953\"],[0.7777777777777778,\"#fb9f3a\"],[0.8888888888888888,\"#fdca26\"],[1.0,\"#f0f921\"]]}],\"mesh3d\":[{\"type\":\"mesh3d\",\"colorbar\":{\"outlinewidth\":0,\"ticks\":\"\"}}],\"scatter\":[{\"fillpattern\":{\"fillmode\":\"overlay\",\"size\":10,\"solidity\":0.2},\"type\":\"scatter\"}],\"parcoords\":[{\"type\":\"parcoords\",\"line\":{\"colorbar\":{\"outlinewidth\":0,\"ticks\":\"\"}}}],\"scatterpolargl\":[{\"type\":\"scatterpolargl\",\"marker\":{\"colorbar\":{\"outlinewidth\":0,\"ticks\":\"\"}}}],\"bar\":[{\"error_x\":{\"color\":\"#2a3f5f\"},\"error_y\":{\"color\":\"#2a3f5f\"},\"marker\":{\"line\":{\"color\":\"#E5ECF6\",\"width\":0.5},\"pattern\":{\"fillmode\":\"overlay\",\"size\":10,\"solidity\":0.2}},\"type\":\"bar\"}],\"scattergeo\":[{\"type\":\"scattergeo\",\"marker\":{\"colorbar\":{\"outlinewidth\":0,\"ticks\":\"\"}}}],\"scatterpolar\":[{\"type\":\"scatterpolar\",\"marker\":{\"colorbar\":{\"outlinewidth\":0,\"ticks\":\"\"}}}],\"histogram\":[{\"marker\":{\"pattern\":{\"fillmode\":\"overlay\",\"size\":10,\"solidity\":0.2}},\"type\":\"histogram\"}],\"scattergl\":[{\"type\":\"scattergl\",\"marker\":{\"colorbar\":{\"outlinewidth\":0,\"ticks\":\"\"}}}],\"scatter3d\":[{\"type\":\"scatter3d\",\"line\":{\"colorbar\":{\"outlinewidth\":0,\"ticks\":\"\"}},\"marker\":{\"colorbar\":{\"outlinewidth\":0,\"ticks\":\"\"}}}],\"scattermapbox\":[{\"type\":\"scattermapbox\",\"marker\":{\"colorbar\":{\"outlinewidth\":0,\"ticks\":\"\"}}}],\"scatterternary\":[{\"type\":\"scatterternary\",\"marker\":{\"colorbar\":{\"outlinewidth\":0,\"ticks\":\"\"}}}],\"scattercarpet\":[{\"type\":\"scattercarpet\",\"marker\":{\"colorbar\":{\"outlinewidth\":0,\"ticks\":\"\"}}}],\"carpet\":[{\"aaxis\":{\"endlinecolor\":\"#2a3f5f\",\"gridcolor\":\"white\",\"linecolor\":\"white\",\"minorgridcolor\":\"white\",\"startlinecolor\":\"#2a3f5f\"},\"baxis\":{\"endlinecolor\":\"#2a3f5f\",\"gridcolor\":\"white\",\"linecolor\":\"white\",\"minorgridcolor\":\"white\",\"startlinecolor\":\"#2a3f5f\"},\"type\":\"carpet\"}],\"table\":[{\"cells\":{\"fill\":{\"color\":\"#EBF0F8\"},\"line\":{\"color\":\"white\"}},\"header\":{\"fill\":{\"color\":\"#C8D4E3\"},\"line\":{\"color\":\"white\"}},\"type\":\"table\"}],\"barpolar\":[{\"marker\":{\"line\":{\"color\":\"#E5ECF6\",\"width\":0.5},\"pattern\":{\"fillmode\":\"overlay\",\"size\":10,\"solidity\":0.2}},\"type\":\"barpolar\"}],\"pie\":[{\"automargin\":true,\"type\":\"pie\"}]},\"layout\":{\"autotypenumbers\":\"strict\",\"colorway\":[\"#636efa\",\"#EF553B\",\"#00cc96\",\"#ab63fa\",\"#FFA15A\",\"#19d3f3\",\"#FF6692\",\"#B6E880\",\"#FF97FF\",\"#FECB52\"],\"font\":{\"color\":\"#2a3f5f\"},\"hovermode\":\"closest\",\"hoverlabel\":{\"align\":\"left\"},\"paper_bgcolor\":\"white\",\"plot_bgcolor\":\"#E5ECF6\",\"polar\":{\"bgcolor\":\"#E5ECF6\",\"angularaxis\":{\"gridcolor\":\"white\",\"linecolor\":\"white\",\"ticks\":\"\"},\"radialaxis\":{\"gridcolor\":\"white\",\"linecolor\":\"white\",\"ticks\":\"\"}},\"ternary\":{\"bgcolor\":\"#E5ECF6\",\"aaxis\":{\"gridcolor\":\"white\",\"linecolor\":\"white\",\"ticks\":\"\"},\"baxis\":{\"gridcolor\":\"white\",\"linecolor\":\"white\",\"ticks\":\"\"},\"caxis\":{\"gridcolor\":\"white\",\"linecolor\":\"white\",\"ticks\":\"\"}},\"coloraxis\":{\"colorbar\":{\"outlinewidth\":0,\"ticks\":\"\"}},\"colorscale\":{\"sequential\":[[0.0,\"#0d0887\"],[0.1111111111111111,\"#46039f\"],[0.2222222222222222,\"#7201a8\"],[0.3333333333333333,\"#9c179e\"],[0.4444444444444444,\"#bd3786\"],[0.5555555555555556,\"#d8576b\"],[0.6666666666666666,\"#ed7953\"],[0.7777777777777778,\"#fb9f3a\"],[0.8888888888888888,\"#fdca26\"],[1.0,\"#f0f921\"]],\"sequentialminus\":[[0.0,\"#0d0887\"],[0.1111111111111111,\"#46039f\"],[0.2222222222222222,\"#7201a8\"],[0.3333333333333333,\"#9c179e\"],[0.4444444444444444,\"#bd3786\"],[0.5555555555555556,\"#d8576b\"],[0.6666666666666666,\"#ed7953\"],[0.7777777777777778,\"#fb9f3a\"],[0.8888888888888888,\"#fdca26\"],[1.0,\"#f0f921\"]],\"diverging\":[[0,\"#8e0152\"],[0.1,\"#c51b7d\"],[0.2,\"#de77ae\"],[0.3,\"#f1b6da\"],[0.4,\"#fde0ef\"],[0.5,\"#f7f7f7\"],[0.6,\"#e6f5d0\"],[0.7,\"#b8e186\"],[0.8,\"#7fbc41\"],[0.9,\"#4d9221\"],[1,\"#276419\"]]},\"xaxis\":{\"gridcolor\":\"white\",\"linecolor\":\"white\",\"ticks\":\"\",\"title\":{\"standoff\":15},\"zerolinecolor\":\"white\",\"automargin\":true,\"zerolinewidth\":2},\"yaxis\":{\"gridcolor\":\"white\",\"linecolor\":\"white\",\"ticks\":\"\",\"title\":{\"standoff\":15},\"zerolinecolor\":\"white\",\"automargin\":true,\"zerolinewidth\":2},\"scene\":{\"xaxis\":{\"backgroundcolor\":\"#E5ECF6\",\"gridcolor\":\"white\",\"linecolor\":\"white\",\"showbackground\":true,\"ticks\":\"\",\"zerolinecolor\":\"white\",\"gridwidth\":2},\"yaxis\":{\"backgroundcolor\":\"#E5ECF6\",\"gridcolor\":\"white\",\"linecolor\":\"white\",\"showbackground\":true,\"ticks\":\"\",\"zerolinecolor\":\"white\",\"gridwidth\":2},\"zaxis\":{\"backgroundcolor\":\"#E5ECF6\",\"gridcolor\":\"white\",\"linecolor\":\"white\",\"showbackground\":true,\"ticks\":\"\",\"zerolinecolor\":\"white\",\"gridwidth\":2}},\"shapedefaults\":{\"line\":{\"color\":\"#2a3f5f\"}},\"annotationdefaults\":{\"arrowcolor\":\"#2a3f5f\",\"arrowhead\":0,\"arrowwidth\":1},\"geo\":{\"bgcolor\":\"white\",\"landcolor\":\"#E5ECF6\",\"subunitcolor\":\"white\",\"showland\":true,\"showlakes\":true,\"lakecolor\":\"white\"},\"title\":{\"x\":0.05},\"mapbox\":{\"style\":\"light\"}}},\"legend\":{\"tracegroupgap\":0},\"margin\":{\"t\":60},\"title\":{\"text\":\"Total Salary Distribution by Work Year and Experience Level and Employment Type\"},\"height\":600},                        {\"responsive\": true}                    ).then(function(){\n",
       "                            \n",
       "var gd = document.getElementById('0401840d-b313-4909-83a6-ac033c40c457');\n",
       "var x = new MutationObserver(function (mutations, observer) {{\n",
       "        var display = window.getComputedStyle(gd).display;\n",
       "        if (!display || display === 'none') {{\n",
       "            console.log([gd, 'removed!']);\n",
       "            Plotly.purge(gd);\n",
       "            observer.disconnect();\n",
       "        }}\n",
       "}});\n",
       "\n",
       "// Listen for the removal of the full notebook cells\n",
       "var notebookContainer = gd.closest('#notebook-container');\n",
       "if (notebookContainer) {{\n",
       "    x.observe(notebookContainer, {childList: true});\n",
       "}}\n",
       "\n",
       "// Listen for the clearing of the current output cell\n",
       "var outputEl = gd.closest('.output');\n",
       "if (outputEl) {{\n",
       "    x.observe(outputEl, {childList: true});\n",
       "}}\n",
       "\n",
       "                        })                };                });            </script>        </div>"
      ]
     },
     "metadata": {},
     "output_type": "display_data"
    }
   ],
   "source": [
    "# Create a Sunburst chart\n",
    "fig = px.sunburst(df, path=['experience_level', 'employment_type', 'work_year'], values='salary_in_usd')\n",
    "\n",
    "# Update layout settings\n",
    "fig.update_layout(\n",
    "    title='Total Salary Distribution by Work Year and Experience Level and Employment Type',  # Set the title\n",
    "    height=600  # Set the height of the figure\n",
    ")\n",
    "\n",
    "# Display the figure\n",
    "fig.show()"
   ]
  },
  {
   "cell_type": "code",
   "execution_count": 143,
   "id": "fb7dde0c",
   "metadata": {},
   "outputs": [
    {
     "data": {
      "application/vnd.plotly.v1+json": {
       "config": {
        "plotlyServerURL": "https://plot.ly"
       },
       "data": [
        {
         "domain": {
          "x": [
           0,
           0.45
          ],
          "y": [
           0,
           1
          ]
         },
         "hole": 0.4,
         "labels": [
          "M",
          "L",
          "S"
         ],
         "marker": {
          "colors": [
           "rgb(103,0,31)",
           "rgb(178,24,43)",
           "rgb(214,96,77)",
           "rgb(244,165,130)",
           "rgb(253,219,199)",
           "rgb(247,247,247)",
           "rgb(209,229,240)",
           "rgb(146,197,222)",
           "rgb(67,147,195)",
           "rgb(33,102,172)",
           "rgb(5,48,97)"
          ],
          "line": {
           "color": "lavender",
           "width": 2.5
          }
         },
         "name": "Value Counts",
         "textinfo": "label+percent",
         "type": "pie",
         "values": [
          3153,
          454,
          148
         ]
        },
        {
         "domain": {
          "x": [
           0.55,
           1
          ],
          "y": [
           0,
           1
          ]
         },
         "hole": 0.4,
         "labels": [
          "L",
          "M",
          "S"
         ],
         "marker": {
          "colors": [
           "rgb(103,0,31)",
           "rgb(178,24,43)",
           "rgb(214,96,77)",
           "rgb(244,165,130)",
           "rgb(253,219,199)",
           "rgb(247,247,247)",
           "rgb(209,229,240)",
           "rgb(146,197,222)",
           "rgb(67,147,195)",
           "rgb(33,102,172)",
           "rgb(5,48,97)"
          ],
          "line": {
           "color": "lavender",
           "width": 2.5
          }
         },
         "name": "Mean Salary",
         "textinfo": "label+percent",
         "type": "pie",
         "values": [
          118300.98237885462,
          143130.54836663496,
          78226.68243243243
         ]
        }
       ],
       "layout": {
        "annotations": [
         {
          "font": {
           "size": 17
          },
          "showarrow": false,
          "text": "Value Counts",
          "x": 0.17
         },
         {
          "font": {
           "size": 20
          },
          "showarrow": false,
          "text": "Mean Salary",
          "x": 0.83
         }
        ],
        "height": 600,
        "template": {
         "data": {
          "bar": [
           {
            "error_x": {
             "color": "#2a3f5f"
            },
            "error_y": {
             "color": "#2a3f5f"
            },
            "marker": {
             "line": {
              "color": "#E5ECF6",
              "width": 0.5
             },
             "pattern": {
              "fillmode": "overlay",
              "size": 10,
              "solidity": 0.2
             }
            },
            "type": "bar"
           }
          ],
          "barpolar": [
           {
            "marker": {
             "line": {
              "color": "#E5ECF6",
              "width": 0.5
             },
             "pattern": {
              "fillmode": "overlay",
              "size": 10,
              "solidity": 0.2
             }
            },
            "type": "barpolar"
           }
          ],
          "carpet": [
           {
            "aaxis": {
             "endlinecolor": "#2a3f5f",
             "gridcolor": "white",
             "linecolor": "white",
             "minorgridcolor": "white",
             "startlinecolor": "#2a3f5f"
            },
            "baxis": {
             "endlinecolor": "#2a3f5f",
             "gridcolor": "white",
             "linecolor": "white",
             "minorgridcolor": "white",
             "startlinecolor": "#2a3f5f"
            },
            "type": "carpet"
           }
          ],
          "choropleth": [
           {
            "colorbar": {
             "outlinewidth": 0,
             "ticks": ""
            },
            "type": "choropleth"
           }
          ],
          "contour": [
           {
            "colorbar": {
             "outlinewidth": 0,
             "ticks": ""
            },
            "colorscale": [
             [
              0,
              "#0d0887"
             ],
             [
              0.1111111111111111,
              "#46039f"
             ],
             [
              0.2222222222222222,
              "#7201a8"
             ],
             [
              0.3333333333333333,
              "#9c179e"
             ],
             [
              0.4444444444444444,
              "#bd3786"
             ],
             [
              0.5555555555555556,
              "#d8576b"
             ],
             [
              0.6666666666666666,
              "#ed7953"
             ],
             [
              0.7777777777777778,
              "#fb9f3a"
             ],
             [
              0.8888888888888888,
              "#fdca26"
             ],
             [
              1,
              "#f0f921"
             ]
            ],
            "type": "contour"
           }
          ],
          "contourcarpet": [
           {
            "colorbar": {
             "outlinewidth": 0,
             "ticks": ""
            },
            "type": "contourcarpet"
           }
          ],
          "heatmap": [
           {
            "colorbar": {
             "outlinewidth": 0,
             "ticks": ""
            },
            "colorscale": [
             [
              0,
              "#0d0887"
             ],
             [
              0.1111111111111111,
              "#46039f"
             ],
             [
              0.2222222222222222,
              "#7201a8"
             ],
             [
              0.3333333333333333,
              "#9c179e"
             ],
             [
              0.4444444444444444,
              "#bd3786"
             ],
             [
              0.5555555555555556,
              "#d8576b"
             ],
             [
              0.6666666666666666,
              "#ed7953"
             ],
             [
              0.7777777777777778,
              "#fb9f3a"
             ],
             [
              0.8888888888888888,
              "#fdca26"
             ],
             [
              1,
              "#f0f921"
             ]
            ],
            "type": "heatmap"
           }
          ],
          "heatmapgl": [
           {
            "colorbar": {
             "outlinewidth": 0,
             "ticks": ""
            },
            "colorscale": [
             [
              0,
              "#0d0887"
             ],
             [
              0.1111111111111111,
              "#46039f"
             ],
             [
              0.2222222222222222,
              "#7201a8"
             ],
             [
              0.3333333333333333,
              "#9c179e"
             ],
             [
              0.4444444444444444,
              "#bd3786"
             ],
             [
              0.5555555555555556,
              "#d8576b"
             ],
             [
              0.6666666666666666,
              "#ed7953"
             ],
             [
              0.7777777777777778,
              "#fb9f3a"
             ],
             [
              0.8888888888888888,
              "#fdca26"
             ],
             [
              1,
              "#f0f921"
             ]
            ],
            "type": "heatmapgl"
           }
          ],
          "histogram": [
           {
            "marker": {
             "pattern": {
              "fillmode": "overlay",
              "size": 10,
              "solidity": 0.2
             }
            },
            "type": "histogram"
           }
          ],
          "histogram2d": [
           {
            "colorbar": {
             "outlinewidth": 0,
             "ticks": ""
            },
            "colorscale": [
             [
              0,
              "#0d0887"
             ],
             [
              0.1111111111111111,
              "#46039f"
             ],
             [
              0.2222222222222222,
              "#7201a8"
             ],
             [
              0.3333333333333333,
              "#9c179e"
             ],
             [
              0.4444444444444444,
              "#bd3786"
             ],
             [
              0.5555555555555556,
              "#d8576b"
             ],
             [
              0.6666666666666666,
              "#ed7953"
             ],
             [
              0.7777777777777778,
              "#fb9f3a"
             ],
             [
              0.8888888888888888,
              "#fdca26"
             ],
             [
              1,
              "#f0f921"
             ]
            ],
            "type": "histogram2d"
           }
          ],
          "histogram2dcontour": [
           {
            "colorbar": {
             "outlinewidth": 0,
             "ticks": ""
            },
            "colorscale": [
             [
              0,
              "#0d0887"
             ],
             [
              0.1111111111111111,
              "#46039f"
             ],
             [
              0.2222222222222222,
              "#7201a8"
             ],
             [
              0.3333333333333333,
              "#9c179e"
             ],
             [
              0.4444444444444444,
              "#bd3786"
             ],
             [
              0.5555555555555556,
              "#d8576b"
             ],
             [
              0.6666666666666666,
              "#ed7953"
             ],
             [
              0.7777777777777778,
              "#fb9f3a"
             ],
             [
              0.8888888888888888,
              "#fdca26"
             ],
             [
              1,
              "#f0f921"
             ]
            ],
            "type": "histogram2dcontour"
           }
          ],
          "mesh3d": [
           {
            "colorbar": {
             "outlinewidth": 0,
             "ticks": ""
            },
            "type": "mesh3d"
           }
          ],
          "parcoords": [
           {
            "line": {
             "colorbar": {
              "outlinewidth": 0,
              "ticks": ""
             }
            },
            "type": "parcoords"
           }
          ],
          "pie": [
           {
            "automargin": true,
            "type": "pie"
           }
          ],
          "scatter": [
           {
            "fillpattern": {
             "fillmode": "overlay",
             "size": 10,
             "solidity": 0.2
            },
            "type": "scatter"
           }
          ],
          "scatter3d": [
           {
            "line": {
             "colorbar": {
              "outlinewidth": 0,
              "ticks": ""
             }
            },
            "marker": {
             "colorbar": {
              "outlinewidth": 0,
              "ticks": ""
             }
            },
            "type": "scatter3d"
           }
          ],
          "scattercarpet": [
           {
            "marker": {
             "colorbar": {
              "outlinewidth": 0,
              "ticks": ""
             }
            },
            "type": "scattercarpet"
           }
          ],
          "scattergeo": [
           {
            "marker": {
             "colorbar": {
              "outlinewidth": 0,
              "ticks": ""
             }
            },
            "type": "scattergeo"
           }
          ],
          "scattergl": [
           {
            "marker": {
             "colorbar": {
              "outlinewidth": 0,
              "ticks": ""
             }
            },
            "type": "scattergl"
           }
          ],
          "scattermapbox": [
           {
            "marker": {
             "colorbar": {
              "outlinewidth": 0,
              "ticks": ""
             }
            },
            "type": "scattermapbox"
           }
          ],
          "scatterpolar": [
           {
            "marker": {
             "colorbar": {
              "outlinewidth": 0,
              "ticks": ""
             }
            },
            "type": "scatterpolar"
           }
          ],
          "scatterpolargl": [
           {
            "marker": {
             "colorbar": {
              "outlinewidth": 0,
              "ticks": ""
             }
            },
            "type": "scatterpolargl"
           }
          ],
          "scatterternary": [
           {
            "marker": {
             "colorbar": {
              "outlinewidth": 0,
              "ticks": ""
             }
            },
            "type": "scatterternary"
           }
          ],
          "surface": [
           {
            "colorbar": {
             "outlinewidth": 0,
             "ticks": ""
            },
            "colorscale": [
             [
              0,
              "#0d0887"
             ],
             [
              0.1111111111111111,
              "#46039f"
             ],
             [
              0.2222222222222222,
              "#7201a8"
             ],
             [
              0.3333333333333333,
              "#9c179e"
             ],
             [
              0.4444444444444444,
              "#bd3786"
             ],
             [
              0.5555555555555556,
              "#d8576b"
             ],
             [
              0.6666666666666666,
              "#ed7953"
             ],
             [
              0.7777777777777778,
              "#fb9f3a"
             ],
             [
              0.8888888888888888,
              "#fdca26"
             ],
             [
              1,
              "#f0f921"
             ]
            ],
            "type": "surface"
           }
          ],
          "table": [
           {
            "cells": {
             "fill": {
              "color": "#EBF0F8"
             },
             "line": {
              "color": "white"
             }
            },
            "header": {
             "fill": {
              "color": "#C8D4E3"
             },
             "line": {
              "color": "white"
             }
            },
            "type": "table"
           }
          ]
         },
         "layout": {
          "annotationdefaults": {
           "arrowcolor": "#2a3f5f",
           "arrowhead": 0,
           "arrowwidth": 1
          },
          "autotypenumbers": "strict",
          "coloraxis": {
           "colorbar": {
            "outlinewidth": 0,
            "ticks": ""
           }
          },
          "colorscale": {
           "diverging": [
            [
             0,
             "#8e0152"
            ],
            [
             0.1,
             "#c51b7d"
            ],
            [
             0.2,
             "#de77ae"
            ],
            [
             0.3,
             "#f1b6da"
            ],
            [
             0.4,
             "#fde0ef"
            ],
            [
             0.5,
             "#f7f7f7"
            ],
            [
             0.6,
             "#e6f5d0"
            ],
            [
             0.7,
             "#b8e186"
            ],
            [
             0.8,
             "#7fbc41"
            ],
            [
             0.9,
             "#4d9221"
            ],
            [
             1,
             "#276419"
            ]
           ],
           "sequential": [
            [
             0,
             "#0d0887"
            ],
            [
             0.1111111111111111,
             "#46039f"
            ],
            [
             0.2222222222222222,
             "#7201a8"
            ],
            [
             0.3333333333333333,
             "#9c179e"
            ],
            [
             0.4444444444444444,
             "#bd3786"
            ],
            [
             0.5555555555555556,
             "#d8576b"
            ],
            [
             0.6666666666666666,
             "#ed7953"
            ],
            [
             0.7777777777777778,
             "#fb9f3a"
            ],
            [
             0.8888888888888888,
             "#fdca26"
            ],
            [
             1,
             "#f0f921"
            ]
           ],
           "sequentialminus": [
            [
             0,
             "#0d0887"
            ],
            [
             0.1111111111111111,
             "#46039f"
            ],
            [
             0.2222222222222222,
             "#7201a8"
            ],
            [
             0.3333333333333333,
             "#9c179e"
            ],
            [
             0.4444444444444444,
             "#bd3786"
            ],
            [
             0.5555555555555556,
             "#d8576b"
            ],
            [
             0.6666666666666666,
             "#ed7953"
            ],
            [
             0.7777777777777778,
             "#fb9f3a"
            ],
            [
             0.8888888888888888,
             "#fdca26"
            ],
            [
             1,
             "#f0f921"
            ]
           ]
          },
          "colorway": [
           "#636efa",
           "#EF553B",
           "#00cc96",
           "#ab63fa",
           "#FFA15A",
           "#19d3f3",
           "#FF6692",
           "#B6E880",
           "#FF97FF",
           "#FECB52"
          ],
          "font": {
           "color": "#2a3f5f"
          },
          "geo": {
           "bgcolor": "white",
           "lakecolor": "white",
           "landcolor": "#E5ECF6",
           "showlakes": true,
           "showland": true,
           "subunitcolor": "white"
          },
          "hoverlabel": {
           "align": "left"
          },
          "hovermode": "closest",
          "mapbox": {
           "style": "light"
          },
          "paper_bgcolor": "white",
          "plot_bgcolor": "#E5ECF6",
          "polar": {
           "angularaxis": {
            "gridcolor": "white",
            "linecolor": "white",
            "ticks": ""
           },
           "bgcolor": "#E5ECF6",
           "radialaxis": {
            "gridcolor": "white",
            "linecolor": "white",
            "ticks": ""
           }
          },
          "scene": {
           "xaxis": {
            "backgroundcolor": "#E5ECF6",
            "gridcolor": "white",
            "gridwidth": 2,
            "linecolor": "white",
            "showbackground": true,
            "ticks": "",
            "zerolinecolor": "white"
           },
           "yaxis": {
            "backgroundcolor": "#E5ECF6",
            "gridcolor": "white",
            "gridwidth": 2,
            "linecolor": "white",
            "showbackground": true,
            "ticks": "",
            "zerolinecolor": "white"
           },
           "zaxis": {
            "backgroundcolor": "#E5ECF6",
            "gridcolor": "white",
            "gridwidth": 2,
            "linecolor": "white",
            "showbackground": true,
            "ticks": "",
            "zerolinecolor": "white"
           }
          },
          "shapedefaults": {
           "line": {
            "color": "#2a3f5f"
           }
          },
          "ternary": {
           "aaxis": {
            "gridcolor": "white",
            "linecolor": "white",
            "ticks": ""
           },
           "baxis": {
            "gridcolor": "white",
            "linecolor": "white",
            "ticks": ""
           },
           "bgcolor": "#E5ECF6",
           "caxis": {
            "gridcolor": "white",
            "linecolor": "white",
            "ticks": ""
           }
          },
          "title": {
           "x": 0.05
          },
          "xaxis": {
           "automargin": true,
           "gridcolor": "white",
           "linecolor": "white",
           "ticks": "",
           "title": {
            "standoff": 15
           },
           "zerolinecolor": "white",
           "zerolinewidth": 2
          },
          "yaxis": {
           "automargin": true,
           "gridcolor": "white",
           "linecolor": "white",
           "ticks": "",
           "title": {
            "standoff": 15
           },
           "zerolinecolor": "white",
           "zerolinewidth": 2
          }
         }
        },
        "title": {
         "text": "Distribution based on Company Size"
        }
       }
      },
      "text/html": [
       "<div>                            <div id=\"0016b967-b68b-49a6-ab67-559a3d497791\" class=\"plotly-graph-div\" style=\"height:600px; width:100%;\"></div>            <script type=\"text/javascript\">                require([\"plotly\"], function(Plotly) {                    window.PLOTLYENV=window.PLOTLYENV || {};                                    if (document.getElementById(\"0016b967-b68b-49a6-ab67-559a3d497791\")) {                    Plotly.newPlot(                        \"0016b967-b68b-49a6-ab67-559a3d497791\",                        [{\"labels\":[\"M\",\"L\",\"S\"],\"name\":\"Value Counts\",\"values\":[3153,454,148],\"type\":\"pie\",\"domain\":{\"x\":[0.0,0.45],\"y\":[0.0,1.0]},\"marker\":{\"line\":{\"color\":\"lavender\",\"width\":2.5},\"colors\":[\"rgb(103,0,31)\",\"rgb(178,24,43)\",\"rgb(214,96,77)\",\"rgb(244,165,130)\",\"rgb(253,219,199)\",\"rgb(247,247,247)\",\"rgb(209,229,240)\",\"rgb(146,197,222)\",\"rgb(67,147,195)\",\"rgb(33,102,172)\",\"rgb(5,48,97)\"]},\"hole\":0.4,\"textinfo\":\"label+percent\"},{\"labels\":[\"L\",\"M\",\"S\"],\"name\":\"Mean Salary\",\"values\":[118300.98237885462,143130.54836663496,78226.68243243243],\"type\":\"pie\",\"domain\":{\"x\":[0.55,1.0],\"y\":[0.0,1.0]},\"marker\":{\"line\":{\"color\":\"lavender\",\"width\":2.5},\"colors\":[\"rgb(103,0,31)\",\"rgb(178,24,43)\",\"rgb(214,96,77)\",\"rgb(244,165,130)\",\"rgb(253,219,199)\",\"rgb(247,247,247)\",\"rgb(209,229,240)\",\"rgb(146,197,222)\",\"rgb(67,147,195)\",\"rgb(33,102,172)\",\"rgb(5,48,97)\"]},\"hole\":0.4,\"textinfo\":\"label+percent\"}],                        {\"template\":{\"data\":{\"histogram2dcontour\":[{\"type\":\"histogram2dcontour\",\"colorbar\":{\"outlinewidth\":0,\"ticks\":\"\"},\"colorscale\":[[0.0,\"#0d0887\"],[0.1111111111111111,\"#46039f\"],[0.2222222222222222,\"#7201a8\"],[0.3333333333333333,\"#9c179e\"],[0.4444444444444444,\"#bd3786\"],[0.5555555555555556,\"#d8576b\"],[0.6666666666666666,\"#ed7953\"],[0.7777777777777778,\"#fb9f3a\"],[0.8888888888888888,\"#fdca26\"],[1.0,\"#f0f921\"]]}],\"choropleth\":[{\"type\":\"choropleth\",\"colorbar\":{\"outlinewidth\":0,\"ticks\":\"\"}}],\"histogram2d\":[{\"type\":\"histogram2d\",\"colorbar\":{\"outlinewidth\":0,\"ticks\":\"\"},\"colorscale\":[[0.0,\"#0d0887\"],[0.1111111111111111,\"#46039f\"],[0.2222222222222222,\"#7201a8\"],[0.3333333333333333,\"#9c179e\"],[0.4444444444444444,\"#bd3786\"],[0.5555555555555556,\"#d8576b\"],[0.6666666666666666,\"#ed7953\"],[0.7777777777777778,\"#fb9f3a\"],[0.8888888888888888,\"#fdca26\"],[1.0,\"#f0f921\"]]}],\"heatmap\":[{\"type\":\"heatmap\",\"colorbar\":{\"outlinewidth\":0,\"ticks\":\"\"},\"colorscale\":[[0.0,\"#0d0887\"],[0.1111111111111111,\"#46039f\"],[0.2222222222222222,\"#7201a8\"],[0.3333333333333333,\"#9c179e\"],[0.4444444444444444,\"#bd3786\"],[0.5555555555555556,\"#d8576b\"],[0.6666666666666666,\"#ed7953\"],[0.7777777777777778,\"#fb9f3a\"],[0.8888888888888888,\"#fdca26\"],[1.0,\"#f0f921\"]]}],\"heatmapgl\":[{\"type\":\"heatmapgl\",\"colorbar\":{\"outlinewidth\":0,\"ticks\":\"\"},\"colorscale\":[[0.0,\"#0d0887\"],[0.1111111111111111,\"#46039f\"],[0.2222222222222222,\"#7201a8\"],[0.3333333333333333,\"#9c179e\"],[0.4444444444444444,\"#bd3786\"],[0.5555555555555556,\"#d8576b\"],[0.6666666666666666,\"#ed7953\"],[0.7777777777777778,\"#fb9f3a\"],[0.8888888888888888,\"#fdca26\"],[1.0,\"#f0f921\"]]}],\"contourcarpet\":[{\"type\":\"contourcarpet\",\"colorbar\":{\"outlinewidth\":0,\"ticks\":\"\"}}],\"contour\":[{\"type\":\"contour\",\"colorbar\":{\"outlinewidth\":0,\"ticks\":\"\"},\"colorscale\":[[0.0,\"#0d0887\"],[0.1111111111111111,\"#46039f\"],[0.2222222222222222,\"#7201a8\"],[0.3333333333333333,\"#9c179e\"],[0.4444444444444444,\"#bd3786\"],[0.5555555555555556,\"#d8576b\"],[0.6666666666666666,\"#ed7953\"],[0.7777777777777778,\"#fb9f3a\"],[0.8888888888888888,\"#fdca26\"],[1.0,\"#f0f921\"]]}],\"surface\":[{\"type\":\"surface\",\"colorbar\":{\"outlinewidth\":0,\"ticks\":\"\"},\"colorscale\":[[0.0,\"#0d0887\"],[0.1111111111111111,\"#46039f\"],[0.2222222222222222,\"#7201a8\"],[0.3333333333333333,\"#9c179e\"],[0.4444444444444444,\"#bd3786\"],[0.5555555555555556,\"#d8576b\"],[0.6666666666666666,\"#ed7953\"],[0.7777777777777778,\"#fb9f3a\"],[0.8888888888888888,\"#fdca26\"],[1.0,\"#f0f921\"]]}],\"mesh3d\":[{\"type\":\"mesh3d\",\"colorbar\":{\"outlinewidth\":0,\"ticks\":\"\"}}],\"scatter\":[{\"fillpattern\":{\"fillmode\":\"overlay\",\"size\":10,\"solidity\":0.2},\"type\":\"scatter\"}],\"parcoords\":[{\"type\":\"parcoords\",\"line\":{\"colorbar\":{\"outlinewidth\":0,\"ticks\":\"\"}}}],\"scatterpolargl\":[{\"type\":\"scatterpolargl\",\"marker\":{\"colorbar\":{\"outlinewidth\":0,\"ticks\":\"\"}}}],\"bar\":[{\"error_x\":{\"color\":\"#2a3f5f\"},\"error_y\":{\"color\":\"#2a3f5f\"},\"marker\":{\"line\":{\"color\":\"#E5ECF6\",\"width\":0.5},\"pattern\":{\"fillmode\":\"overlay\",\"size\":10,\"solidity\":0.2}},\"type\":\"bar\"}],\"scattergeo\":[{\"type\":\"scattergeo\",\"marker\":{\"colorbar\":{\"outlinewidth\":0,\"ticks\":\"\"}}}],\"scatterpolar\":[{\"type\":\"scatterpolar\",\"marker\":{\"colorbar\":{\"outlinewidth\":0,\"ticks\":\"\"}}}],\"histogram\":[{\"marker\":{\"pattern\":{\"fillmode\":\"overlay\",\"size\":10,\"solidity\":0.2}},\"type\":\"histogram\"}],\"scattergl\":[{\"type\":\"scattergl\",\"marker\":{\"colorbar\":{\"outlinewidth\":0,\"ticks\":\"\"}}}],\"scatter3d\":[{\"type\":\"scatter3d\",\"line\":{\"colorbar\":{\"outlinewidth\":0,\"ticks\":\"\"}},\"marker\":{\"colorbar\":{\"outlinewidth\":0,\"ticks\":\"\"}}}],\"scattermapbox\":[{\"type\":\"scattermapbox\",\"marker\":{\"colorbar\":{\"outlinewidth\":0,\"ticks\":\"\"}}}],\"scatterternary\":[{\"type\":\"scatterternary\",\"marker\":{\"colorbar\":{\"outlinewidth\":0,\"ticks\":\"\"}}}],\"scattercarpet\":[{\"type\":\"scattercarpet\",\"marker\":{\"colorbar\":{\"outlinewidth\":0,\"ticks\":\"\"}}}],\"carpet\":[{\"aaxis\":{\"endlinecolor\":\"#2a3f5f\",\"gridcolor\":\"white\",\"linecolor\":\"white\",\"minorgridcolor\":\"white\",\"startlinecolor\":\"#2a3f5f\"},\"baxis\":{\"endlinecolor\":\"#2a3f5f\",\"gridcolor\":\"white\",\"linecolor\":\"white\",\"minorgridcolor\":\"white\",\"startlinecolor\":\"#2a3f5f\"},\"type\":\"carpet\"}],\"table\":[{\"cells\":{\"fill\":{\"color\":\"#EBF0F8\"},\"line\":{\"color\":\"white\"}},\"header\":{\"fill\":{\"color\":\"#C8D4E3\"},\"line\":{\"color\":\"white\"}},\"type\":\"table\"}],\"barpolar\":[{\"marker\":{\"line\":{\"color\":\"#E5ECF6\",\"width\":0.5},\"pattern\":{\"fillmode\":\"overlay\",\"size\":10,\"solidity\":0.2}},\"type\":\"barpolar\"}],\"pie\":[{\"automargin\":true,\"type\":\"pie\"}]},\"layout\":{\"autotypenumbers\":\"strict\",\"colorway\":[\"#636efa\",\"#EF553B\",\"#00cc96\",\"#ab63fa\",\"#FFA15A\",\"#19d3f3\",\"#FF6692\",\"#B6E880\",\"#FF97FF\",\"#FECB52\"],\"font\":{\"color\":\"#2a3f5f\"},\"hovermode\":\"closest\",\"hoverlabel\":{\"align\":\"left\"},\"paper_bgcolor\":\"white\",\"plot_bgcolor\":\"#E5ECF6\",\"polar\":{\"bgcolor\":\"#E5ECF6\",\"angularaxis\":{\"gridcolor\":\"white\",\"linecolor\":\"white\",\"ticks\":\"\"},\"radialaxis\":{\"gridcolor\":\"white\",\"linecolor\":\"white\",\"ticks\":\"\"}},\"ternary\":{\"bgcolor\":\"#E5ECF6\",\"aaxis\":{\"gridcolor\":\"white\",\"linecolor\":\"white\",\"ticks\":\"\"},\"baxis\":{\"gridcolor\":\"white\",\"linecolor\":\"white\",\"ticks\":\"\"},\"caxis\":{\"gridcolor\":\"white\",\"linecolor\":\"white\",\"ticks\":\"\"}},\"coloraxis\":{\"colorbar\":{\"outlinewidth\":0,\"ticks\":\"\"}},\"colorscale\":{\"sequential\":[[0.0,\"#0d0887\"],[0.1111111111111111,\"#46039f\"],[0.2222222222222222,\"#7201a8\"],[0.3333333333333333,\"#9c179e\"],[0.4444444444444444,\"#bd3786\"],[0.5555555555555556,\"#d8576b\"],[0.6666666666666666,\"#ed7953\"],[0.7777777777777778,\"#fb9f3a\"],[0.8888888888888888,\"#fdca26\"],[1.0,\"#f0f921\"]],\"sequentialminus\":[[0.0,\"#0d0887\"],[0.1111111111111111,\"#46039f\"],[0.2222222222222222,\"#7201a8\"],[0.3333333333333333,\"#9c179e\"],[0.4444444444444444,\"#bd3786\"],[0.5555555555555556,\"#d8576b\"],[0.6666666666666666,\"#ed7953\"],[0.7777777777777778,\"#fb9f3a\"],[0.8888888888888888,\"#fdca26\"],[1.0,\"#f0f921\"]],\"diverging\":[[0,\"#8e0152\"],[0.1,\"#c51b7d\"],[0.2,\"#de77ae\"],[0.3,\"#f1b6da\"],[0.4,\"#fde0ef\"],[0.5,\"#f7f7f7\"],[0.6,\"#e6f5d0\"],[0.7,\"#b8e186\"],[0.8,\"#7fbc41\"],[0.9,\"#4d9221\"],[1,\"#276419\"]]},\"xaxis\":{\"gridcolor\":\"white\",\"linecolor\":\"white\",\"ticks\":\"\",\"title\":{\"standoff\":15},\"zerolinecolor\":\"white\",\"automargin\":true,\"zerolinewidth\":2},\"yaxis\":{\"gridcolor\":\"white\",\"linecolor\":\"white\",\"ticks\":\"\",\"title\":{\"standoff\":15},\"zerolinecolor\":\"white\",\"automargin\":true,\"zerolinewidth\":2},\"scene\":{\"xaxis\":{\"backgroundcolor\":\"#E5ECF6\",\"gridcolor\":\"white\",\"linecolor\":\"white\",\"showbackground\":true,\"ticks\":\"\",\"zerolinecolor\":\"white\",\"gridwidth\":2},\"yaxis\":{\"backgroundcolor\":\"#E5ECF6\",\"gridcolor\":\"white\",\"linecolor\":\"white\",\"showbackground\":true,\"ticks\":\"\",\"zerolinecolor\":\"white\",\"gridwidth\":2},\"zaxis\":{\"backgroundcolor\":\"#E5ECF6\",\"gridcolor\":\"white\",\"linecolor\":\"white\",\"showbackground\":true,\"ticks\":\"\",\"zerolinecolor\":\"white\",\"gridwidth\":2}},\"shapedefaults\":{\"line\":{\"color\":\"#2a3f5f\"}},\"annotationdefaults\":{\"arrowcolor\":\"#2a3f5f\",\"arrowhead\":0,\"arrowwidth\":1},\"geo\":{\"bgcolor\":\"white\",\"landcolor\":\"#E5ECF6\",\"subunitcolor\":\"white\",\"showland\":true,\"showlakes\":true,\"lakecolor\":\"white\"},\"title\":{\"x\":0.05},\"mapbox\":{\"style\":\"light\"}}},\"title\":{\"text\":\"Distribution based on Company Size\"},\"height\":600,\"annotations\":[{\"showarrow\":false,\"text\":\"Value Counts\",\"x\":0.17,\"font\":{\"size\":17}},{\"showarrow\":false,\"text\":\"Mean Salary\",\"x\":0.83,\"font\":{\"size\":20}}]},                        {\"responsive\": true}                    ).then(function(){\n",
       "                            \n",
       "var gd = document.getElementById('0016b967-b68b-49a6-ab67-559a3d497791');\n",
       "var x = new MutationObserver(function (mutations, observer) {{\n",
       "        var display = window.getComputedStyle(gd).display;\n",
       "        if (!display || display === 'none') {{\n",
       "            console.log([gd, 'removed!']);\n",
       "            Plotly.purge(gd);\n",
       "            observer.disconnect();\n",
       "        }}\n",
       "}});\n",
       "\n",
       "// Listen for the removal of the full notebook cells\n",
       "var notebookContainer = gd.closest('#notebook-container');\n",
       "if (notebookContainer) {{\n",
       "    x.observe(notebookContainer, {childList: true});\n",
       "}}\n",
       "\n",
       "// Listen for the clearing of the current output cell\n",
       "var outputEl = gd.closest('.output');\n",
       "if (outputEl) {{\n",
       "    x.observe(outputEl, {childList: true});\n",
       "}}\n",
       "\n",
       "                        })                };                });            </script>        </div>"
      ]
     },
     "metadata": {},
     "output_type": "display_data"
    },
    {
     "data": {
      "application/vnd.plotly.v1+json": {
       "config": {
        "plotlyServerURL": "https://plot.ly"
       },
       "data": [
        {
         "marker": {
          "color": "brown",
          "line": {
           "color": "white",
           "width": 2.5
          }
         },
         "name": "Mean Salary (Bar)",
         "text": [
          118300.98237885462,
          143130.54836663496,
          78226.68243243243
         ],
         "type": "bar",
         "x": [
          "L",
          "M",
          "S"
         ],
         "y": [
          118300.98237885462,
          143130.54836663496,
          78226.68243243243
         ]
        }
       ],
       "layout": {
        "height": 600,
        "template": {
         "data": {
          "bar": [
           {
            "error_x": {
             "color": "#2a3f5f"
            },
            "error_y": {
             "color": "#2a3f5f"
            },
            "marker": {
             "line": {
              "color": "#E5ECF6",
              "width": 0.5
             },
             "pattern": {
              "fillmode": "overlay",
              "size": 10,
              "solidity": 0.2
             }
            },
            "type": "bar"
           }
          ],
          "barpolar": [
           {
            "marker": {
             "line": {
              "color": "#E5ECF6",
              "width": 0.5
             },
             "pattern": {
              "fillmode": "overlay",
              "size": 10,
              "solidity": 0.2
             }
            },
            "type": "barpolar"
           }
          ],
          "carpet": [
           {
            "aaxis": {
             "endlinecolor": "#2a3f5f",
             "gridcolor": "white",
             "linecolor": "white",
             "minorgridcolor": "white",
             "startlinecolor": "#2a3f5f"
            },
            "baxis": {
             "endlinecolor": "#2a3f5f",
             "gridcolor": "white",
             "linecolor": "white",
             "minorgridcolor": "white",
             "startlinecolor": "#2a3f5f"
            },
            "type": "carpet"
           }
          ],
          "choropleth": [
           {
            "colorbar": {
             "outlinewidth": 0,
             "ticks": ""
            },
            "type": "choropleth"
           }
          ],
          "contour": [
           {
            "colorbar": {
             "outlinewidth": 0,
             "ticks": ""
            },
            "colorscale": [
             [
              0,
              "#0d0887"
             ],
             [
              0.1111111111111111,
              "#46039f"
             ],
             [
              0.2222222222222222,
              "#7201a8"
             ],
             [
              0.3333333333333333,
              "#9c179e"
             ],
             [
              0.4444444444444444,
              "#bd3786"
             ],
             [
              0.5555555555555556,
              "#d8576b"
             ],
             [
              0.6666666666666666,
              "#ed7953"
             ],
             [
              0.7777777777777778,
              "#fb9f3a"
             ],
             [
              0.8888888888888888,
              "#fdca26"
             ],
             [
              1,
              "#f0f921"
             ]
            ],
            "type": "contour"
           }
          ],
          "contourcarpet": [
           {
            "colorbar": {
             "outlinewidth": 0,
             "ticks": ""
            },
            "type": "contourcarpet"
           }
          ],
          "heatmap": [
           {
            "colorbar": {
             "outlinewidth": 0,
             "ticks": ""
            },
            "colorscale": [
             [
              0,
              "#0d0887"
             ],
             [
              0.1111111111111111,
              "#46039f"
             ],
             [
              0.2222222222222222,
              "#7201a8"
             ],
             [
              0.3333333333333333,
              "#9c179e"
             ],
             [
              0.4444444444444444,
              "#bd3786"
             ],
             [
              0.5555555555555556,
              "#d8576b"
             ],
             [
              0.6666666666666666,
              "#ed7953"
             ],
             [
              0.7777777777777778,
              "#fb9f3a"
             ],
             [
              0.8888888888888888,
              "#fdca26"
             ],
             [
              1,
              "#f0f921"
             ]
            ],
            "type": "heatmap"
           }
          ],
          "heatmapgl": [
           {
            "colorbar": {
             "outlinewidth": 0,
             "ticks": ""
            },
            "colorscale": [
             [
              0,
              "#0d0887"
             ],
             [
              0.1111111111111111,
              "#46039f"
             ],
             [
              0.2222222222222222,
              "#7201a8"
             ],
             [
              0.3333333333333333,
              "#9c179e"
             ],
             [
              0.4444444444444444,
              "#bd3786"
             ],
             [
              0.5555555555555556,
              "#d8576b"
             ],
             [
              0.6666666666666666,
              "#ed7953"
             ],
             [
              0.7777777777777778,
              "#fb9f3a"
             ],
             [
              0.8888888888888888,
              "#fdca26"
             ],
             [
              1,
              "#f0f921"
             ]
            ],
            "type": "heatmapgl"
           }
          ],
          "histogram": [
           {
            "marker": {
             "pattern": {
              "fillmode": "overlay",
              "size": 10,
              "solidity": 0.2
             }
            },
            "type": "histogram"
           }
          ],
          "histogram2d": [
           {
            "colorbar": {
             "outlinewidth": 0,
             "ticks": ""
            },
            "colorscale": [
             [
              0,
              "#0d0887"
             ],
             [
              0.1111111111111111,
              "#46039f"
             ],
             [
              0.2222222222222222,
              "#7201a8"
             ],
             [
              0.3333333333333333,
              "#9c179e"
             ],
             [
              0.4444444444444444,
              "#bd3786"
             ],
             [
              0.5555555555555556,
              "#d8576b"
             ],
             [
              0.6666666666666666,
              "#ed7953"
             ],
             [
              0.7777777777777778,
              "#fb9f3a"
             ],
             [
              0.8888888888888888,
              "#fdca26"
             ],
             [
              1,
              "#f0f921"
             ]
            ],
            "type": "histogram2d"
           }
          ],
          "histogram2dcontour": [
           {
            "colorbar": {
             "outlinewidth": 0,
             "ticks": ""
            },
            "colorscale": [
             [
              0,
              "#0d0887"
             ],
             [
              0.1111111111111111,
              "#46039f"
             ],
             [
              0.2222222222222222,
              "#7201a8"
             ],
             [
              0.3333333333333333,
              "#9c179e"
             ],
             [
              0.4444444444444444,
              "#bd3786"
             ],
             [
              0.5555555555555556,
              "#d8576b"
             ],
             [
              0.6666666666666666,
              "#ed7953"
             ],
             [
              0.7777777777777778,
              "#fb9f3a"
             ],
             [
              0.8888888888888888,
              "#fdca26"
             ],
             [
              1,
              "#f0f921"
             ]
            ],
            "type": "histogram2dcontour"
           }
          ],
          "mesh3d": [
           {
            "colorbar": {
             "outlinewidth": 0,
             "ticks": ""
            },
            "type": "mesh3d"
           }
          ],
          "parcoords": [
           {
            "line": {
             "colorbar": {
              "outlinewidth": 0,
              "ticks": ""
             }
            },
            "type": "parcoords"
           }
          ],
          "pie": [
           {
            "automargin": true,
            "type": "pie"
           }
          ],
          "scatter": [
           {
            "fillpattern": {
             "fillmode": "overlay",
             "size": 10,
             "solidity": 0.2
            },
            "type": "scatter"
           }
          ],
          "scatter3d": [
           {
            "line": {
             "colorbar": {
              "outlinewidth": 0,
              "ticks": ""
             }
            },
            "marker": {
             "colorbar": {
              "outlinewidth": 0,
              "ticks": ""
             }
            },
            "type": "scatter3d"
           }
          ],
          "scattercarpet": [
           {
            "marker": {
             "colorbar": {
              "outlinewidth": 0,
              "ticks": ""
             }
            },
            "type": "scattercarpet"
           }
          ],
          "scattergeo": [
           {
            "marker": {
             "colorbar": {
              "outlinewidth": 0,
              "ticks": ""
             }
            },
            "type": "scattergeo"
           }
          ],
          "scattergl": [
           {
            "marker": {
             "colorbar": {
              "outlinewidth": 0,
              "ticks": ""
             }
            },
            "type": "scattergl"
           }
          ],
          "scattermapbox": [
           {
            "marker": {
             "colorbar": {
              "outlinewidth": 0,
              "ticks": ""
             }
            },
            "type": "scattermapbox"
           }
          ],
          "scatterpolar": [
           {
            "marker": {
             "colorbar": {
              "outlinewidth": 0,
              "ticks": ""
             }
            },
            "type": "scatterpolar"
           }
          ],
          "scatterpolargl": [
           {
            "marker": {
             "colorbar": {
              "outlinewidth": 0,
              "ticks": ""
             }
            },
            "type": "scatterpolargl"
           }
          ],
          "scatterternary": [
           {
            "marker": {
             "colorbar": {
              "outlinewidth": 0,
              "ticks": ""
             }
            },
            "type": "scatterternary"
           }
          ],
          "surface": [
           {
            "colorbar": {
             "outlinewidth": 0,
             "ticks": ""
            },
            "colorscale": [
             [
              0,
              "#0d0887"
             ],
             [
              0.1111111111111111,
              "#46039f"
             ],
             [
              0.2222222222222222,
              "#7201a8"
             ],
             [
              0.3333333333333333,
              "#9c179e"
             ],
             [
              0.4444444444444444,
              "#bd3786"
             ],
             [
              0.5555555555555556,
              "#d8576b"
             ],
             [
              0.6666666666666666,
              "#ed7953"
             ],
             [
              0.7777777777777778,
              "#fb9f3a"
             ],
             [
              0.8888888888888888,
              "#fdca26"
             ],
             [
              1,
              "#f0f921"
             ]
            ],
            "type": "surface"
           }
          ],
          "table": [
           {
            "cells": {
             "fill": {
              "color": "#EBF0F8"
             },
             "line": {
              "color": "white"
             }
            },
            "header": {
             "fill": {
              "color": "#C8D4E3"
             },
             "line": {
              "color": "white"
             }
            },
            "type": "table"
           }
          ]
         },
         "layout": {
          "annotationdefaults": {
           "arrowcolor": "#2a3f5f",
           "arrowhead": 0,
           "arrowwidth": 1
          },
          "autotypenumbers": "strict",
          "coloraxis": {
           "colorbar": {
            "outlinewidth": 0,
            "ticks": ""
           }
          },
          "colorscale": {
           "diverging": [
            [
             0,
             "#8e0152"
            ],
            [
             0.1,
             "#c51b7d"
            ],
            [
             0.2,
             "#de77ae"
            ],
            [
             0.3,
             "#f1b6da"
            ],
            [
             0.4,
             "#fde0ef"
            ],
            [
             0.5,
             "#f7f7f7"
            ],
            [
             0.6,
             "#e6f5d0"
            ],
            [
             0.7,
             "#b8e186"
            ],
            [
             0.8,
             "#7fbc41"
            ],
            [
             0.9,
             "#4d9221"
            ],
            [
             1,
             "#276419"
            ]
           ],
           "sequential": [
            [
             0,
             "#0d0887"
            ],
            [
             0.1111111111111111,
             "#46039f"
            ],
            [
             0.2222222222222222,
             "#7201a8"
            ],
            [
             0.3333333333333333,
             "#9c179e"
            ],
            [
             0.4444444444444444,
             "#bd3786"
            ],
            [
             0.5555555555555556,
             "#d8576b"
            ],
            [
             0.6666666666666666,
             "#ed7953"
            ],
            [
             0.7777777777777778,
             "#fb9f3a"
            ],
            [
             0.8888888888888888,
             "#fdca26"
            ],
            [
             1,
             "#f0f921"
            ]
           ],
           "sequentialminus": [
            [
             0,
             "#0d0887"
            ],
            [
             0.1111111111111111,
             "#46039f"
            ],
            [
             0.2222222222222222,
             "#7201a8"
            ],
            [
             0.3333333333333333,
             "#9c179e"
            ],
            [
             0.4444444444444444,
             "#bd3786"
            ],
            [
             0.5555555555555556,
             "#d8576b"
            ],
            [
             0.6666666666666666,
             "#ed7953"
            ],
            [
             0.7777777777777778,
             "#fb9f3a"
            ],
            [
             0.8888888888888888,
             "#fdca26"
            ],
            [
             1,
             "#f0f921"
            ]
           ]
          },
          "colorway": [
           "#636efa",
           "#EF553B",
           "#00cc96",
           "#ab63fa",
           "#FFA15A",
           "#19d3f3",
           "#FF6692",
           "#B6E880",
           "#FF97FF",
           "#FECB52"
          ],
          "font": {
           "color": "#2a3f5f"
          },
          "geo": {
           "bgcolor": "white",
           "lakecolor": "white",
           "landcolor": "#E5ECF6",
           "showlakes": true,
           "showland": true,
           "subunitcolor": "white"
          },
          "hoverlabel": {
           "align": "left"
          },
          "hovermode": "closest",
          "mapbox": {
           "style": "light"
          },
          "paper_bgcolor": "white",
          "plot_bgcolor": "#E5ECF6",
          "polar": {
           "angularaxis": {
            "gridcolor": "white",
            "linecolor": "white",
            "ticks": ""
           },
           "bgcolor": "#E5ECF6",
           "radialaxis": {
            "gridcolor": "white",
            "linecolor": "white",
            "ticks": ""
           }
          },
          "scene": {
           "xaxis": {
            "backgroundcolor": "#E5ECF6",
            "gridcolor": "white",
            "gridwidth": 2,
            "linecolor": "white",
            "showbackground": true,
            "ticks": "",
            "zerolinecolor": "white"
           },
           "yaxis": {
            "backgroundcolor": "#E5ECF6",
            "gridcolor": "white",
            "gridwidth": 2,
            "linecolor": "white",
            "showbackground": true,
            "ticks": "",
            "zerolinecolor": "white"
           },
           "zaxis": {
            "backgroundcolor": "#E5ECF6",
            "gridcolor": "white",
            "gridwidth": 2,
            "linecolor": "white",
            "showbackground": true,
            "ticks": "",
            "zerolinecolor": "white"
           }
          },
          "shapedefaults": {
           "line": {
            "color": "#2a3f5f"
           }
          },
          "ternary": {
           "aaxis": {
            "gridcolor": "white",
            "linecolor": "white",
            "ticks": ""
           },
           "baxis": {
            "gridcolor": "white",
            "linecolor": "white",
            "ticks": ""
           },
           "bgcolor": "#E5ECF6",
           "caxis": {
            "gridcolor": "white",
            "linecolor": "white",
            "ticks": ""
           }
          },
          "title": {
           "x": 0.05
          },
          "xaxis": {
           "automargin": true,
           "gridcolor": "white",
           "linecolor": "white",
           "ticks": "",
           "title": {
            "standoff": 15
           },
           "zerolinecolor": "white",
           "zerolinewidth": 2
          },
          "yaxis": {
           "automargin": true,
           "gridcolor": "white",
           "linecolor": "white",
           "ticks": "",
           "title": {
            "standoff": 15
           },
           "zerolinecolor": "white",
           "zerolinewidth": 2
          }
         }
        },
        "title": {
         "text": "Mean Salary Distribution across Company Size"
        },
        "xaxis": {
         "anchor": "y",
         "domain": [
          0,
          1
         ],
         "title": {
          "text": "Experience Level"
         }
        },
        "yaxis": {
         "anchor": "x",
         "domain": [
          0,
          1
         ],
         "title": {
          "text": "Mean Salary (USD)"
         }
        }
       }
      },
      "text/html": [
       "<div>                            <div id=\"bbc9976b-4fa3-47f8-8e9c-8616932e5e27\" class=\"plotly-graph-div\" style=\"height:600px; width:100%;\"></div>            <script type=\"text/javascript\">                require([\"plotly\"], function(Plotly) {                    window.PLOTLYENV=window.PLOTLYENV || {};                                    if (document.getElementById(\"bbc9976b-4fa3-47f8-8e9c-8616932e5e27\")) {                    Plotly.newPlot(                        \"bbc9976b-4fa3-47f8-8e9c-8616932e5e27\",                        [{\"marker\":{\"color\":\"brown\",\"line\":{\"color\":\"white\",\"width\":2.5}},\"name\":\"Mean Salary (Bar)\",\"text\":[118300.98237885462,143130.54836663496,78226.68243243243],\"x\":[\"L\",\"M\",\"S\"],\"y\":[118300.98237885462,143130.54836663496,78226.68243243243],\"type\":\"bar\"}],                        {\"template\":{\"data\":{\"histogram2dcontour\":[{\"type\":\"histogram2dcontour\",\"colorbar\":{\"outlinewidth\":0,\"ticks\":\"\"},\"colorscale\":[[0.0,\"#0d0887\"],[0.1111111111111111,\"#46039f\"],[0.2222222222222222,\"#7201a8\"],[0.3333333333333333,\"#9c179e\"],[0.4444444444444444,\"#bd3786\"],[0.5555555555555556,\"#d8576b\"],[0.6666666666666666,\"#ed7953\"],[0.7777777777777778,\"#fb9f3a\"],[0.8888888888888888,\"#fdca26\"],[1.0,\"#f0f921\"]]}],\"choropleth\":[{\"type\":\"choropleth\",\"colorbar\":{\"outlinewidth\":0,\"ticks\":\"\"}}],\"histogram2d\":[{\"type\":\"histogram2d\",\"colorbar\":{\"outlinewidth\":0,\"ticks\":\"\"},\"colorscale\":[[0.0,\"#0d0887\"],[0.1111111111111111,\"#46039f\"],[0.2222222222222222,\"#7201a8\"],[0.3333333333333333,\"#9c179e\"],[0.4444444444444444,\"#bd3786\"],[0.5555555555555556,\"#d8576b\"],[0.6666666666666666,\"#ed7953\"],[0.7777777777777778,\"#fb9f3a\"],[0.8888888888888888,\"#fdca26\"],[1.0,\"#f0f921\"]]}],\"heatmap\":[{\"type\":\"heatmap\",\"colorbar\":{\"outlinewidth\":0,\"ticks\":\"\"},\"colorscale\":[[0.0,\"#0d0887\"],[0.1111111111111111,\"#46039f\"],[0.2222222222222222,\"#7201a8\"],[0.3333333333333333,\"#9c179e\"],[0.4444444444444444,\"#bd3786\"],[0.5555555555555556,\"#d8576b\"],[0.6666666666666666,\"#ed7953\"],[0.7777777777777778,\"#fb9f3a\"],[0.8888888888888888,\"#fdca26\"],[1.0,\"#f0f921\"]]}],\"heatmapgl\":[{\"type\":\"heatmapgl\",\"colorbar\":{\"outlinewidth\":0,\"ticks\":\"\"},\"colorscale\":[[0.0,\"#0d0887\"],[0.1111111111111111,\"#46039f\"],[0.2222222222222222,\"#7201a8\"],[0.3333333333333333,\"#9c179e\"],[0.4444444444444444,\"#bd3786\"],[0.5555555555555556,\"#d8576b\"],[0.6666666666666666,\"#ed7953\"],[0.7777777777777778,\"#fb9f3a\"],[0.8888888888888888,\"#fdca26\"],[1.0,\"#f0f921\"]]}],\"contourcarpet\":[{\"type\":\"contourcarpet\",\"colorbar\":{\"outlinewidth\":0,\"ticks\":\"\"}}],\"contour\":[{\"type\":\"contour\",\"colorbar\":{\"outlinewidth\":0,\"ticks\":\"\"},\"colorscale\":[[0.0,\"#0d0887\"],[0.1111111111111111,\"#46039f\"],[0.2222222222222222,\"#7201a8\"],[0.3333333333333333,\"#9c179e\"],[0.4444444444444444,\"#bd3786\"],[0.5555555555555556,\"#d8576b\"],[0.6666666666666666,\"#ed7953\"],[0.7777777777777778,\"#fb9f3a\"],[0.8888888888888888,\"#fdca26\"],[1.0,\"#f0f921\"]]}],\"surface\":[{\"type\":\"surface\",\"colorbar\":{\"outlinewidth\":0,\"ticks\":\"\"},\"colorscale\":[[0.0,\"#0d0887\"],[0.1111111111111111,\"#46039f\"],[0.2222222222222222,\"#7201a8\"],[0.3333333333333333,\"#9c179e\"],[0.4444444444444444,\"#bd3786\"],[0.5555555555555556,\"#d8576b\"],[0.6666666666666666,\"#ed7953\"],[0.7777777777777778,\"#fb9f3a\"],[0.8888888888888888,\"#fdca26\"],[1.0,\"#f0f921\"]]}],\"mesh3d\":[{\"type\":\"mesh3d\",\"colorbar\":{\"outlinewidth\":0,\"ticks\":\"\"}}],\"scatter\":[{\"fillpattern\":{\"fillmode\":\"overlay\",\"size\":10,\"solidity\":0.2},\"type\":\"scatter\"}],\"parcoords\":[{\"type\":\"parcoords\",\"line\":{\"colorbar\":{\"outlinewidth\":0,\"ticks\":\"\"}}}],\"scatterpolargl\":[{\"type\":\"scatterpolargl\",\"marker\":{\"colorbar\":{\"outlinewidth\":0,\"ticks\":\"\"}}}],\"bar\":[{\"error_x\":{\"color\":\"#2a3f5f\"},\"error_y\":{\"color\":\"#2a3f5f\"},\"marker\":{\"line\":{\"color\":\"#E5ECF6\",\"width\":0.5},\"pattern\":{\"fillmode\":\"overlay\",\"size\":10,\"solidity\":0.2}},\"type\":\"bar\"}],\"scattergeo\":[{\"type\":\"scattergeo\",\"marker\":{\"colorbar\":{\"outlinewidth\":0,\"ticks\":\"\"}}}],\"scatterpolar\":[{\"type\":\"scatterpolar\",\"marker\":{\"colorbar\":{\"outlinewidth\":0,\"ticks\":\"\"}}}],\"histogram\":[{\"marker\":{\"pattern\":{\"fillmode\":\"overlay\",\"size\":10,\"solidity\":0.2}},\"type\":\"histogram\"}],\"scattergl\":[{\"type\":\"scattergl\",\"marker\":{\"colorbar\":{\"outlinewidth\":0,\"ticks\":\"\"}}}],\"scatter3d\":[{\"type\":\"scatter3d\",\"line\":{\"colorbar\":{\"outlinewidth\":0,\"ticks\":\"\"}},\"marker\":{\"colorbar\":{\"outlinewidth\":0,\"ticks\":\"\"}}}],\"scattermapbox\":[{\"type\":\"scattermapbox\",\"marker\":{\"colorbar\":{\"outlinewidth\":0,\"ticks\":\"\"}}}],\"scatterternary\":[{\"type\":\"scatterternary\",\"marker\":{\"colorbar\":{\"outlinewidth\":0,\"ticks\":\"\"}}}],\"scattercarpet\":[{\"type\":\"scattercarpet\",\"marker\":{\"colorbar\":{\"outlinewidth\":0,\"ticks\":\"\"}}}],\"carpet\":[{\"aaxis\":{\"endlinecolor\":\"#2a3f5f\",\"gridcolor\":\"white\",\"linecolor\":\"white\",\"minorgridcolor\":\"white\",\"startlinecolor\":\"#2a3f5f\"},\"baxis\":{\"endlinecolor\":\"#2a3f5f\",\"gridcolor\":\"white\",\"linecolor\":\"white\",\"minorgridcolor\":\"white\",\"startlinecolor\":\"#2a3f5f\"},\"type\":\"carpet\"}],\"table\":[{\"cells\":{\"fill\":{\"color\":\"#EBF0F8\"},\"line\":{\"color\":\"white\"}},\"header\":{\"fill\":{\"color\":\"#C8D4E3\"},\"line\":{\"color\":\"white\"}},\"type\":\"table\"}],\"barpolar\":[{\"marker\":{\"line\":{\"color\":\"#E5ECF6\",\"width\":0.5},\"pattern\":{\"fillmode\":\"overlay\",\"size\":10,\"solidity\":0.2}},\"type\":\"barpolar\"}],\"pie\":[{\"automargin\":true,\"type\":\"pie\"}]},\"layout\":{\"autotypenumbers\":\"strict\",\"colorway\":[\"#636efa\",\"#EF553B\",\"#00cc96\",\"#ab63fa\",\"#FFA15A\",\"#19d3f3\",\"#FF6692\",\"#B6E880\",\"#FF97FF\",\"#FECB52\"],\"font\":{\"color\":\"#2a3f5f\"},\"hovermode\":\"closest\",\"hoverlabel\":{\"align\":\"left\"},\"paper_bgcolor\":\"white\",\"plot_bgcolor\":\"#E5ECF6\",\"polar\":{\"bgcolor\":\"#E5ECF6\",\"angularaxis\":{\"gridcolor\":\"white\",\"linecolor\":\"white\",\"ticks\":\"\"},\"radialaxis\":{\"gridcolor\":\"white\",\"linecolor\":\"white\",\"ticks\":\"\"}},\"ternary\":{\"bgcolor\":\"#E5ECF6\",\"aaxis\":{\"gridcolor\":\"white\",\"linecolor\":\"white\",\"ticks\":\"\"},\"baxis\":{\"gridcolor\":\"white\",\"linecolor\":\"white\",\"ticks\":\"\"},\"caxis\":{\"gridcolor\":\"white\",\"linecolor\":\"white\",\"ticks\":\"\"}},\"coloraxis\":{\"colorbar\":{\"outlinewidth\":0,\"ticks\":\"\"}},\"colorscale\":{\"sequential\":[[0.0,\"#0d0887\"],[0.1111111111111111,\"#46039f\"],[0.2222222222222222,\"#7201a8\"],[0.3333333333333333,\"#9c179e\"],[0.4444444444444444,\"#bd3786\"],[0.5555555555555556,\"#d8576b\"],[0.6666666666666666,\"#ed7953\"],[0.7777777777777778,\"#fb9f3a\"],[0.8888888888888888,\"#fdca26\"],[1.0,\"#f0f921\"]],\"sequentialminus\":[[0.0,\"#0d0887\"],[0.1111111111111111,\"#46039f\"],[0.2222222222222222,\"#7201a8\"],[0.3333333333333333,\"#9c179e\"],[0.4444444444444444,\"#bd3786\"],[0.5555555555555556,\"#d8576b\"],[0.6666666666666666,\"#ed7953\"],[0.7777777777777778,\"#fb9f3a\"],[0.8888888888888888,\"#fdca26\"],[1.0,\"#f0f921\"]],\"diverging\":[[0,\"#8e0152\"],[0.1,\"#c51b7d\"],[0.2,\"#de77ae\"],[0.3,\"#f1b6da\"],[0.4,\"#fde0ef\"],[0.5,\"#f7f7f7\"],[0.6,\"#e6f5d0\"],[0.7,\"#b8e186\"],[0.8,\"#7fbc41\"],[0.9,\"#4d9221\"],[1,\"#276419\"]]},\"xaxis\":{\"gridcolor\":\"white\",\"linecolor\":\"white\",\"ticks\":\"\",\"title\":{\"standoff\":15},\"zerolinecolor\":\"white\",\"automargin\":true,\"zerolinewidth\":2},\"yaxis\":{\"gridcolor\":\"white\",\"linecolor\":\"white\",\"ticks\":\"\",\"title\":{\"standoff\":15},\"zerolinecolor\":\"white\",\"automargin\":true,\"zerolinewidth\":2},\"scene\":{\"xaxis\":{\"backgroundcolor\":\"#E5ECF6\",\"gridcolor\":\"white\",\"linecolor\":\"white\",\"showbackground\":true,\"ticks\":\"\",\"zerolinecolor\":\"white\",\"gridwidth\":2},\"yaxis\":{\"backgroundcolor\":\"#E5ECF6\",\"gridcolor\":\"white\",\"linecolor\":\"white\",\"showbackground\":true,\"ticks\":\"\",\"zerolinecolor\":\"white\",\"gridwidth\":2},\"zaxis\":{\"backgroundcolor\":\"#E5ECF6\",\"gridcolor\":\"white\",\"linecolor\":\"white\",\"showbackground\":true,\"ticks\":\"\",\"zerolinecolor\":\"white\",\"gridwidth\":2}},\"shapedefaults\":{\"line\":{\"color\":\"#2a3f5f\"}},\"annotationdefaults\":{\"arrowcolor\":\"#2a3f5f\",\"arrowhead\":0,\"arrowwidth\":1},\"geo\":{\"bgcolor\":\"white\",\"landcolor\":\"#E5ECF6\",\"subunitcolor\":\"white\",\"showland\":true,\"showlakes\":true,\"lakecolor\":\"white\"},\"title\":{\"x\":0.05},\"mapbox\":{\"style\":\"light\"}}},\"xaxis\":{\"anchor\":\"y\",\"domain\":[0.0,1.0],\"title\":{\"text\":\"Experience Level\"}},\"yaxis\":{\"anchor\":\"x\",\"domain\":[0.0,1.0],\"title\":{\"text\":\"Mean Salary (USD)\"}},\"title\":{\"text\":\"Mean Salary Distribution across Company Size\"},\"height\":600},                        {\"responsive\": true}                    ).then(function(){\n",
       "                            \n",
       "var gd = document.getElementById('bbc9976b-4fa3-47f8-8e9c-8616932e5e27');\n",
       "var x = new MutationObserver(function (mutations, observer) {{\n",
       "        var display = window.getComputedStyle(gd).display;\n",
       "        if (!display || display === 'none') {{\n",
       "            console.log([gd, 'removed!']);\n",
       "            Plotly.purge(gd);\n",
       "            observer.disconnect();\n",
       "        }}\n",
       "}});\n",
       "\n",
       "// Listen for the removal of the full notebook cells\n",
       "var notebookContainer = gd.closest('#notebook-container');\n",
       "if (notebookContainer) {{\n",
       "    x.observe(notebookContainer, {childList: true});\n",
       "}}\n",
       "\n",
       "// Listen for the clearing of the current output cell\n",
       "var outputEl = gd.closest('.output');\n",
       "if (outputEl) {{\n",
       "    x.observe(outputEl, {childList: true});\n",
       "}}\n",
       "\n",
       "                        })                };                });            </script>        </div>"
      ]
     },
     "metadata": {},
     "output_type": "display_data"
    }
   ],
   "source": [
    "# Determine the mean salary based on Company Size\n",
    "count_values = df.company_size.value_counts()\n",
    "salary_values = df.groupby('company_size').mean(\n",
    "    numeric_only=True)['salary_in_usd']\n",
    "\n",
    "# Create subplots\n",
    "fig = make_subplots(rows=1, cols=2, specs=[\n",
    "                    [{'type': 'domain'}, {'type': 'domain'}]])\n",
    "\n",
    "# Count of Experience Level\n",
    "count_trace = go.Pie(\n",
    "    labels=count_values.index,\n",
    "    values=count_values.values,\n",
    "    name=\"Value Counts\"\n",
    ")\n",
    "\n",
    "# Salary based on Experience Level\n",
    "salary_trace = go.Pie(\n",
    "    labels=salary_values.index,\n",
    "    values=salary_values.values,\n",
    "    name=\"Mean Salary\"\n",
    ")\n",
    "\n",
    "# Add traces to the subplots\n",
    "fig.add_trace(count_trace, row=1, col=1)\n",
    "fig.add_trace(salary_trace, row=1, col=2)\n",
    "\n",
    "# Update the traces\n",
    "fig.update_traces(\n",
    "    textinfo='label+percent',\n",
    "    hole=0.4,\n",
    "    marker=dict(\n",
    "        colors=px.colors.sequential.RdBu,\n",
    "        line_color='lavender',\n",
    "        line_width=2.5\n",
    "    )\n",
    ")\n",
    "\n",
    "# Update the figure layout\n",
    "fig.update_layout(\n",
    "    title_text=\"Distribution based on Company Size\",\n",
    "    height=600,\n",
    "    annotations=[\n",
    "        dict(\n",
    "            text=\"Value Counts\",\n",
    "            font_size=17,\n",
    "            showarrow=False,\n",
    "            x=0.17\n",
    "        ),\n",
    "        dict(\n",
    "            text=\"Mean Salary\",\n",
    "            font_size=20,\n",
    "            showarrow=False,\n",
    "            x=0.83\n",
    "        )\n",
    "    ]\n",
    ")\n",
    "\n",
    "# Show the final figure\n",
    "fig.show()\n",
    "\n",
    "# Create a figure\n",
    "fig = make_subplots()\n",
    "\n",
    "# Add bar trace\n",
    "bar_trace = go.Bar(\n",
    "    x=salary_values.index,\n",
    "    y=salary_values.values,\n",
    "    name=\"Mean Salary (Bar)\",\n",
    "    text=salary_values.values,\n",
    "    marker=dict(\n",
    "        color='brown',\n",
    "        line_color='white',\n",
    "        line_width=2.5,\n",
    "    )\n",
    ")\n",
    "\n",
    "# Add traces to the figure\n",
    "fig.add_trace(bar_trace)\n",
    "\n",
    "# Update Layout\n",
    "fig.update_layout(\n",
    "    title=\"Mean Salary Distribution across Company Size\",\n",
    "    xaxis_title=\"Experience Level\",\n",
    "    yaxis_title=\"Mean Salary (USD)\",\n",
    "    height=600\n",
    ")\n",
    "\n",
    "# Show final figure\n",
    "fig.show()"
   ]
  },
  {
   "cell_type": "code",
   "execution_count": 144,
   "id": "03d9adae",
   "metadata": {},
   "outputs": [
    {
     "data": {
      "application/vnd.plotly.v1+json": {
       "config": {
        "plotlyServerURL": "https://plot.ly"
       },
       "data": [
        {
         "alignmentgroup": "True",
         "hovertemplate": "Work Year=2023<br>Remote Ratio=%{x}<br>Salary (USD)=%{y}<extra></extra>",
         "legendgroup": "2023",
         "marker": {
          "color": "#636efa"
         },
         "name": "2023",
         "notched": false,
         "offsetgroup": "2023",
         "orientation": "v",
         "showlegend": true,
         "type": "box",
         "x": [
          100,
          100,
          100,
          100,
          100,
          0,
          0,
          0,
          0,
          0,
          0,
          100,
          100,
          0,
          0,
          0,
          0,
          0,
          0,
          100,
          100,
          0,
          0,
          100,
          100,
          0,
          0,
          0,
          0,
          0,
          0,
          0,
          0,
          0,
          0,
          0,
          0,
          0,
          0,
          100,
          100,
          0,
          0,
          0,
          0,
          100,
          100,
          100,
          100,
          100,
          100,
          100,
          100,
          100,
          100,
          0,
          0,
          0,
          0,
          100,
          100,
          100,
          100,
          0,
          0,
          100,
          100,
          0,
          0,
          0,
          0,
          100,
          100,
          0,
          0,
          100,
          100,
          100,
          100,
          0,
          100,
          100,
          100,
          0,
          0,
          100,
          100,
          0,
          0,
          0,
          0,
          0,
          0,
          0,
          0,
          100,
          100,
          0,
          0,
          0,
          0,
          0,
          0,
          0,
          0,
          0,
          0,
          0,
          0,
          0,
          0,
          50,
          0,
          0,
          0,
          0,
          0,
          0,
          100,
          100,
          0,
          0,
          0,
          0,
          0,
          0,
          0,
          0,
          100,
          100,
          0,
          0,
          100,
          100,
          0,
          0,
          100,
          100,
          0,
          0,
          0,
          0,
          100,
          100,
          100,
          100,
          0,
          0,
          0,
          0,
          100,
          100,
          50,
          100,
          0,
          0,
          0,
          0,
          0,
          0,
          0,
          0,
          0,
          0,
          0,
          0,
          100,
          100,
          0,
          0,
          0,
          0,
          100,
          100,
          0,
          0,
          100,
          100,
          0,
          0,
          100,
          100,
          100,
          100,
          0,
          0,
          0,
          0,
          0,
          0,
          0,
          0,
          0,
          0,
          100,
          100,
          100,
          100,
          50,
          0,
          0,
          0,
          0,
          100,
          100,
          0,
          0,
          0,
          0,
          0,
          0,
          100,
          100,
          100,
          100,
          0,
          0,
          0,
          0,
          0,
          0,
          0,
          0,
          0,
          0,
          0,
          0,
          0,
          0,
          0,
          100,
          0,
          0,
          0,
          0,
          0,
          0,
          0,
          0,
          0,
          0,
          0,
          0,
          100,
          100,
          0,
          0,
          0,
          0,
          0,
          0,
          0,
          0,
          100,
          100,
          100,
          100,
          0,
          0,
          0,
          0,
          0,
          0,
          100,
          100,
          100,
          100,
          0,
          0,
          0,
          0,
          0,
          0,
          100,
          100,
          100,
          100,
          100,
          100,
          0,
          0,
          100,
          100,
          0,
          0,
          100,
          100,
          0,
          0,
          0,
          0,
          100,
          100,
          0,
          0,
          0,
          0,
          100,
          100,
          0,
          0,
          0,
          0,
          100,
          100,
          0,
          0,
          100,
          100,
          0,
          0,
          100,
          100,
          0,
          0,
          0,
          0,
          0,
          50,
          100,
          100,
          100,
          0,
          0,
          0,
          0,
          0,
          0,
          100,
          100,
          100,
          100,
          100,
          100,
          0,
          0,
          0,
          0,
          100,
          100,
          100,
          100,
          0,
          0,
          0,
          0,
          0,
          0,
          0,
          0,
          100,
          100,
          100,
          100,
          100,
          0,
          0,
          100,
          100,
          0,
          0,
          0,
          0,
          0,
          0,
          0,
          0,
          0,
          0,
          100,
          100,
          0,
          0,
          0,
          0,
          0,
          0,
          0,
          0,
          100,
          100,
          100,
          100,
          0,
          0,
          0,
          100,
          0,
          0,
          0,
          0,
          0,
          0,
          100,
          100,
          0,
          0,
          0,
          0,
          0,
          0,
          0,
          0,
          0,
          0,
          0,
          0,
          0,
          0,
          100,
          100,
          100,
          100,
          0,
          0,
          0,
          0,
          0,
          0,
          100,
          100,
          0,
          0,
          100,
          100,
          0,
          0,
          0,
          0,
          100,
          100,
          0,
          0,
          0,
          0,
          0,
          0,
          0,
          0,
          100,
          100,
          100,
          100,
          0,
          0,
          0,
          0,
          0,
          0,
          0,
          0,
          100,
          100,
          100,
          100,
          0,
          0,
          0,
          0,
          0,
          0,
          0,
          0,
          0,
          0,
          100,
          100,
          100,
          100,
          0,
          0,
          0,
          0,
          0,
          0,
          100,
          100,
          100,
          100,
          100,
          100,
          0,
          0,
          0,
          0,
          0,
          0,
          0,
          100,
          100,
          0,
          0,
          0,
          0,
          0,
          0,
          0,
          0,
          0,
          0,
          0,
          0,
          0,
          0,
          0,
          0,
          0,
          0,
          0,
          0,
          100,
          100,
          100,
          100,
          100,
          100,
          0,
          0,
          0,
          0,
          50,
          0,
          100,
          100,
          100,
          100,
          0,
          0,
          0,
          0,
          0,
          0,
          0,
          0,
          100,
          100,
          0,
          0,
          0,
          0,
          0,
          0,
          100,
          100,
          0,
          0,
          0,
          0,
          100,
          100,
          0,
          0,
          0,
          0,
          0,
          0,
          0,
          0,
          100,
          100,
          0,
          0,
          0,
          0,
          100,
          100,
          0,
          50,
          100,
          100,
          0,
          0,
          0,
          0,
          0,
          0,
          0,
          0,
          0,
          0,
          0,
          0,
          0,
          0,
          50,
          100,
          100,
          100,
          100,
          100,
          100,
          0,
          0,
          100,
          100,
          100,
          100,
          100,
          0,
          0,
          100,
          100,
          100,
          100,
          0,
          0,
          0,
          0,
          0,
          0,
          100,
          100,
          100,
          100,
          0,
          0,
          0,
          0,
          0,
          0,
          0,
          0,
          0,
          0,
          0,
          0,
          100,
          100,
          0,
          0,
          0,
          0,
          100,
          100,
          100,
          100,
          100,
          100,
          0,
          0,
          100,
          100,
          0,
          0,
          100,
          100,
          0,
          0,
          0,
          0,
          100,
          100,
          100,
          100,
          0,
          0,
          100,
          100,
          0,
          0,
          100,
          100,
          0,
          0,
          0,
          0,
          100,
          100,
          0,
          0,
          100,
          100,
          0,
          0,
          0,
          0,
          0,
          0,
          0,
          0,
          0,
          0,
          0,
          0,
          0,
          0,
          0,
          0,
          0,
          0,
          0,
          0,
          0,
          0,
          0,
          0,
          100,
          100,
          0,
          0,
          0,
          0,
          100,
          100,
          100,
          0,
          0,
          100,
          100,
          0,
          0,
          100,
          100,
          0,
          0,
          100,
          100,
          100,
          100,
          0,
          0,
          100,
          100,
          100,
          0,
          0,
          100,
          0,
          50,
          50,
          0,
          0,
          0,
          0,
          0,
          0,
          100,
          100,
          0,
          0,
          0,
          0,
          100,
          100,
          0,
          0,
          100,
          100,
          0,
          0,
          100,
          100,
          0,
          0,
          100,
          100,
          0,
          0,
          100,
          100,
          0,
          0,
          0,
          0,
          0,
          0,
          0,
          0,
          100,
          100,
          100,
          100,
          0,
          0,
          0,
          0,
          0,
          0,
          0,
          0,
          0,
          0,
          0,
          0,
          0,
          0,
          0,
          0,
          100,
          100,
          100,
          100,
          100,
          100,
          0,
          0,
          0,
          0,
          0,
          0,
          0,
          0,
          0,
          100,
          100,
          0,
          0,
          100,
          100,
          100,
          100,
          0,
          0,
          100,
          100,
          100,
          100,
          0,
          0,
          0,
          0,
          0,
          0,
          0,
          0,
          100,
          100,
          100,
          0,
          0,
          0,
          0,
          100,
          100,
          100,
          100,
          0,
          0,
          0,
          0,
          50,
          0,
          0,
          0,
          0,
          50,
          100,
          0,
          0,
          100,
          100,
          0,
          0,
          0,
          0,
          0,
          0,
          0,
          0,
          0,
          0,
          0,
          0,
          0,
          0,
          0,
          0,
          0,
          0,
          0,
          0,
          0,
          0,
          0,
          0,
          0,
          0,
          100,
          100,
          0,
          0,
          0,
          0,
          100,
          100,
          100,
          100,
          0,
          0,
          0,
          0,
          0,
          0,
          0,
          0,
          0,
          0,
          0,
          0,
          100,
          100,
          0,
          0,
          0,
          0,
          100,
          100,
          0,
          0,
          100,
          100,
          0,
          0,
          0,
          0,
          100,
          100,
          0,
          0,
          100,
          100,
          0,
          0,
          0,
          0,
          100,
          100,
          0,
          0,
          0,
          0,
          0,
          0,
          100,
          100,
          0,
          0,
          0,
          0,
          0,
          0,
          0,
          0,
          0,
          0,
          0,
          0,
          0,
          0,
          100,
          100,
          0,
          0,
          0,
          0,
          0,
          0,
          50,
          0,
          0,
          100,
          100,
          100,
          100,
          100,
          100,
          100,
          100,
          100,
          0,
          100,
          0,
          0,
          0,
          100,
          0,
          0,
          0,
          0,
          0,
          0,
          0,
          0,
          50,
          50,
          0,
          0,
          100,
          100,
          0,
          0,
          0,
          0,
          100,
          100,
          0,
          0,
          0,
          0,
          0,
          0,
          0,
          0,
          0,
          0,
          0,
          0,
          100,
          100,
          0,
          0,
          0,
          0,
          0,
          0,
          100,
          100,
          0,
          0,
          0,
          0,
          0,
          0,
          0,
          0,
          0,
          0,
          0,
          0,
          100,
          100,
          0,
          0,
          0,
          0,
          0,
          0,
          0,
          0,
          0,
          0,
          0,
          0,
          0,
          0,
          0,
          0,
          0,
          0,
          100,
          100,
          0,
          0,
          0,
          50,
          0,
          0,
          0,
          0,
          0,
          0,
          100,
          100,
          0,
          0,
          0,
          0,
          100,
          100,
          0,
          0,
          100,
          100,
          0,
          0,
          100,
          100,
          100,
          100,
          0,
          0,
          0,
          0,
          0,
          0,
          0,
          0,
          0,
          0,
          0,
          0,
          100,
          100,
          100,
          0,
          0,
          0,
          0,
          100,
          100,
          0,
          0,
          100,
          100,
          100,
          100,
          100,
          100,
          0,
          0,
          100,
          100,
          100,
          100,
          0,
          0,
          100,
          100,
          0,
          0,
          0,
          0,
          0,
          0,
          0,
          0,
          0,
          0,
          0,
          0,
          0,
          0,
          100,
          100,
          0,
          0,
          100,
          100,
          100,
          100,
          0,
          0,
          100,
          100,
          100,
          100,
          0,
          0,
          100,
          100,
          0,
          0,
          0,
          0,
          0,
          0,
          0,
          0,
          100,
          100,
          0,
          0,
          0,
          0,
          100,
          100,
          0,
          0,
          100,
          100,
          100,
          100,
          0,
          0,
          0,
          0,
          100,
          100,
          100,
          100,
          100,
          100,
          0,
          0,
          100,
          100,
          0,
          0,
          100,
          100,
          100,
          0,
          0,
          0,
          0,
          0,
          0,
          100,
          100,
          100,
          100,
          0,
          0,
          100,
          100,
          100,
          50,
          0,
          0,
          0,
          0,
          100,
          0,
          0,
          0,
          100,
          100,
          100,
          100,
          0,
          0,
          0,
          0,
          100,
          100,
          0,
          0,
          100,
          100,
          0,
          0,
          0,
          0,
          0,
          0,
          0,
          0,
          100,
          100,
          0,
          100,
          100,
          0,
          0,
          0,
          0,
          100,
          100,
          100,
          100,
          100,
          100,
          0,
          0,
          100,
          100,
          0,
          0,
          0,
          0,
          0,
          0,
          50,
          0,
          0,
          100,
          100,
          100,
          100,
          0,
          0,
          100,
          100,
          100,
          100,
          0,
          0,
          100,
          100,
          0,
          0,
          100,
          100,
          100,
          100,
          100,
          100,
          0,
          0,
          100,
          0,
          0,
          0,
          0,
          100,
          100,
          0,
          0,
          0,
          0,
          0,
          0,
          100,
          50,
          0,
          0,
          100,
          100,
          0,
          0,
          100,
          100,
          0,
          0,
          0,
          0,
          100,
          100,
          100,
          100,
          50,
          50,
          50,
          0,
          0,
          0,
          0,
          100,
          0,
          0,
          100,
          100,
          0,
          0,
          0,
          0,
          0,
          0,
          100,
          100,
          0,
          0,
          0,
          0,
          0,
          0,
          0,
          0,
          0,
          0,
          0,
          0,
          100,
          100,
          0,
          0,
          0,
          0,
          0,
          0,
          0,
          0,
          0,
          0,
          0,
          0,
          100,
          100,
          100,
          0,
          0,
          0,
          0,
          0,
          0,
          0,
          0,
          0,
          0,
          100,
          100,
          0,
          0,
          0,
          0,
          0,
          0,
          0,
          0,
          0,
          0,
          100,
          0,
          0,
          0,
          0,
          0,
          0,
          0,
          0,
          0,
          0,
          0,
          0,
          0,
          0,
          100,
          100,
          100,
          100,
          100,
          100,
          0,
          0,
          100,
          100,
          0,
          0,
          0,
          0,
          0,
          0,
          50,
          100,
          100,
          100,
          100,
          0,
          0,
          100,
          100,
          100,
          100,
          100,
          100,
          0,
          0,
          100,
          100,
          50,
          100,
          0,
          0,
          0,
          0,
          0,
          0,
          100,
          100,
          100,
          100,
          100,
          100,
          0,
          0,
          100,
          100,
          0,
          0,
          0,
          0,
          0,
          100,
          100,
          100,
          100,
          100,
          100,
          0,
          0,
          0,
          0,
          0,
          0,
          0,
          0,
          100,
          100,
          0,
          0,
          100,
          100,
          0,
          0,
          0,
          0,
          100,
          100,
          50,
          0,
          0,
          100,
          100,
          0,
          0,
          100,
          100,
          0,
          0,
          0,
          0,
          0,
          0,
          50,
          0,
          0,
          0,
          0,
          0,
          0,
          0,
          0,
          0,
          0,
          100,
          100,
          0,
          0,
          0,
          0,
          100,
          100,
          50,
          50,
          0,
          0,
          0,
          0,
          0,
          0,
          100,
          100,
          0,
          0,
          0,
          0,
          50,
          0,
          0,
          0,
          0,
          0,
          0,
          100,
          100,
          100,
          100,
          100,
          100,
          100,
          100,
          100,
          100,
          0,
          0,
          0,
          0,
          100,
          100,
          0,
          0,
          0,
          0,
          0,
          0,
          0,
          0,
          0,
          0,
          50,
          0,
          0,
          0,
          0,
          0,
          0,
          0,
          0,
          0,
          0,
          0,
          0,
          0,
          0,
          100,
          100,
          100,
          100,
          0,
          0,
          0,
          0,
          0,
          0,
          0,
          0,
          100,
          100,
          0,
          0,
          0,
          0,
          100,
          100,
          100,
          0,
          0,
          0,
          0,
          100,
          100,
          0,
          0,
          0,
          0,
          0,
          0,
          100,
          100,
          0,
          0,
          0,
          0,
          0,
          0,
          100,
          100,
          0,
          0,
          0,
          0,
          0,
          0,
          0,
          0,
          100,
          100,
          100,
          100,
          0,
          0,
          0,
          0,
          0,
          0,
          100,
          100,
          100,
          100,
          100,
          100,
          100,
          100,
          100,
          100,
          50,
          100,
          100,
          100,
          100,
          0,
          0,
          0,
          0,
          0,
          0,
          0,
          0,
          100,
          100,
          100,
          100,
          0,
          0,
          0,
          0,
          0,
          0,
          0,
          100,
          100,
          0,
          0,
          100,
          100,
          0,
          0,
          100,
          100,
          0,
          0,
          0,
          0,
          0,
          0,
          0,
          0,
          0,
          0,
          100,
          100,
          0,
          0,
          0,
          0,
          100,
          100,
          0,
          0,
          100,
          100,
          0,
          0,
          0,
          0,
          0,
          0,
          0,
          0,
          0,
          0,
          0,
          0,
          0,
          0,
          0,
          0,
          0,
          0,
          0,
          0,
          0,
          0,
          0,
          0,
          100,
          100,
          0,
          0,
          100,
          100,
          0,
          0,
          0,
          0,
          0,
          0,
          100,
          100,
          0,
          0,
          0,
          0,
          0,
          0,
          0,
          0,
          0,
          0,
          0,
          0,
          0,
          0,
          100,
          100,
          0,
          0,
          100,
          100,
          100,
          100,
          100,
          100,
          100,
          100,
          100,
          100,
          0,
          0,
          0,
          0,
          0,
          0,
          0,
          0
         ],
         "x0": " ",
         "xaxis": "x",
         "y": [
          85847,
          30000,
          25500,
          175000,
          120000,
          222200,
          136000,
          219000,
          141000,
          147100,
          90700,
          130000,
          100000,
          213660,
          130760,
          147100,
          90700,
          170000,
          150000,
          150000,
          110000,
          275000,
          174000,
          230000,
          143200,
          225000,
          156400,
          200000,
          130000,
          90000,
          72000,
          253200,
          90700,
          342810,
          184590,
          162500,
          130000,
          105380,
          64500,
          100000,
          30000,
          204620,
          110680,
          270703,
          221484,
          212750,
          185000,
          262000,
          245000,
          275300,
          183500,
          218500,
          199098,
          203300,
          123600,
          189110,
          139000,
          258750,
          185000,
          231500,
          166000,
          172500,
          110500,
          238000,
          176000,
          237000,
          201450,
          309400,
          159100,
          115000,
          81500,
          237000,
          201450,
          280000,
          210000,
          280100,
          168100,
          193500,
          139000,
          65062,
          150000,
          69751,
          96578,
          185900,
          129300,
          225000,
          175000,
          185000,
          140000,
          48289,
          38631,
          105000,
          70000,
          163196,
          145885,
          217000,
          185000,
          202800,
          104300,
          145000,
          65000,
          165000,
          132300,
          179170,
          94300,
          152500,
          116450,
          247300,
          133800,
          203000,
          133000,
          220000,
          150000,
          120000,
          289800,
          214000,
          179820,
          143860,
          283200,
          188800,
          289800,
          214200,
          185900,
          129300,
          252000,
          129000,
          155000,
          140000,
          161800,
          141600,
          342300,
          176100,
          100000,
          70000,
          85000,
          65000,
          138784,
          83270,
          75000,
          70000,
          204500,
          138900,
          318300,
          212200,
          95000,
          75000,
          195000,
          160000,
          230000,
          143200,
          100000,
          70000,
          105000,
          20670,
          46178,
          42533,
          145000,
          115000,
          168400,
          105200,
          309400,
          159100,
          190000,
          150000,
          162500,
          130000,
          150000,
          120000,
          145000,
          120000,
          222200,
          136000,
          54685,
          42533,
          241000,
          155000,
          220000,
          190000,
          66837,
          54685,
          85066,
          57723,
          85000,
          75000,
          160000,
          140000,
          300000,
          250000,
          228000,
          186000,
          190000,
          170000,
          230000,
          200000,
          180000,
          115000,
          200000,
          115000,
          53654,
          220000,
          205000,
          180000,
          130000,
          200000,
          150000,
          215000,
          170000,
          247500,
          172200,
          224000,
          176000,
          120000,
          75000,
          17022,
          68318,
          75020,
          140000,
          120000,
          128000,
          81500,
          145000,
          115000,
          185000,
          140000,
          329500,
          269600,
          100000,
          80000,
          250000,
          162500,
          200000,
          145000,
          100000,
          145000,
          115000,
          203500,
          152000,
          239000,
          122900,
          237000,
          145000,
          191765,
          134236,
          190000,
          112000,
          85000,
          65000,
          135000,
          105500,
          293000,
          185000,
          80000,
          70000,
          220000,
          160000,
          175000,
          145000,
          200000,
          148500,
          48289,
          38631,
          240500,
          123700,
          152900,
          117100,
          173000,
          113000,
          260000,
          136000,
          175000,
          110000,
          260000,
          136000,
          130000,
          110000,
          205000,
          184000,
          149500,
          127075,
          195000,
          160000,
          219535,
          146115,
          170000,
          135000,
          175000,
          145000,
          199000,
          162000,
          222200,
          136000,
          221000,
          153000,
          187000,
          128000,
          210000,
          136000,
          175000,
          100000,
          179000,
          109000,
          245000,
          180000,
          142000,
          75000,
          198800,
          105200,
          125000,
          112000,
          210000,
          155000,
          115000,
          86000,
          165000,
          140000,
          139000,
          106000,
          40663,
          50000,
          280700,
          150450,
          51753,
          250500,
          159500,
          145000,
          115000,
          140000,
          120000,
          130001,
          71907,
          93918,
          51962,
          175000,
          135000,
          85000,
          65000,
          257000,
          147000,
          222000,
          175000,
          203000,
          133200,
          213660,
          130760,
          221000,
          147000,
          100000,
          80000,
          185900,
          129300,
          238000,
          156000,
          304000,
          199000,
          48289,
          150000,
          130000,
          140000,
          110000,
          90000,
          75000,
          195895,
          102772,
          240000,
          183600,
          130000,
          80000,
          250000,
          150000,
          160000,
          120000,
          289076,
          202353,
          145000,
          120000,
          155000,
          106000,
          200000,
          160000,
          157750,
          104650,
          180000,
          140000,
          200000,
          145000,
          68000,
          60000,
          48289,
          38631,
          85000,
          65000,
          125000,
          90000,
          105000,
          90000,
          179820,
          143860,
          135000,
          105500,
          155000,
          125000,
          241000,
          181000,
          252000,
          154000,
          180000,
          155000,
          191765,
          134236,
          175000,
          145000,
          237000,
          145000,
          155000,
          125000,
          80000,
          70000,
          146000,
          75000,
          64200,
          56100,
          170000,
          130000,
          208450,
          170550,
          125000,
          100000,
          135000,
          120000,
          200000,
          170000,
          171250,
          113750,
          222200,
          136000,
          260000,
          136000,
          153600,
          100500,
          205000,
          184000,
          115000,
          95000,
          182500,
          121500,
          203100,
          114500,
          72914,
          54685,
          252000,
          129000,
          92700,
          61800,
          160000,
          130000,
          258000,
          190000,
          170000,
          135000,
          167500,
          106500,
          195000,
          160000,
          146000,
          75000,
          286000,
          207000,
          100000,
          80000,
          223250,
          178600,
          353200,
          249300,
          230000,
          220000,
          297300,
          198200,
          210000,
          151800,
          200000,
          170000,
          317070,
          170730,
          128000,
          81500,
          21461,
          108000,
          60000,
          134000,
          124000,
          171250,
          113750,
          165000,
          132300,
          225000,
          175000,
          230000,
          124500,
          247500,
          172200,
          175000,
          145000,
          148700,
          125600,
          145000,
          115000,
          200000,
          150000,
          160000,
          120000,
          185000,
          120250,
          275300,
          183000,
          170000,
          125000,
          167500,
          106500,
          250000,
          200000,
          135000,
          423834,
          216000,
          184000,
          180000,
          165000,
          185900,
          129300,
          145000,
          120000,
          143865,
          115092,
          130000,
          90000,
          173000,
          132000,
          208049,
          128500,
          179820,
          143860,
          167500,
          106500,
          275300,
          183500,
          149600,
          102000,
          145000,
          100000,
          190000,
          95000,
          153600,
          106800,
          96578,
          80481,
          128000,
          85000,
          151000,
          140000,
          275300,
          183500,
          220000,
          170000,
          135000,
          105500,
          100000,
          80000,
          7000,
          42923,
          160000,
          145000,
          154000,
          143000,
          78990,
          51039,
          190000,
          120000,
          85066,
          51039,
          109371,
          72914,
          150000,
          111000,
          265000,
          235000,
          121093,
          160000,
          130000,
          75000,
          60400,
          85000,
          75000,
          252000,
          129000,
          92700,
          61800,
          60093,
          83500,
          52500,
          201036,
          134024,
          165000,
          140000,
          62000,
          58000,
          172000,
          115000,
          125000,
          90000,
          163800,
          126000,
          237000,
          145000,
          90000,
          90000,
          139500,
          109400,
          258000,
          190000,
          145000,
          120000,
          205600,
          105700,
          252000,
          129000,
          239748,
          159832,
          186300,
          102500,
          165000,
          132300,
          190000,
          126000,
          149040,
          113900,
          153600,
          106800,
          172600,
          107900,
          180180,
          106020,
          376080,
          213120,
          153600,
          100500,
          206500,
          121600,
          260000,
          225000,
          194500,
          115500,
          170000,
          90000,
          95000,
          70000,
          275000,
          160000,
          115934,
          81666,
          175000,
          120000,
          150000,
          120000,
          200000,
          175000,
          206000,
          130000,
          138000,
          92000,
          65000,
          48000,
          110000,
          75000,
          130000,
          87000,
          160000,
          112000,
          162500,
          130000,
          299500,
          245100,
          145000,
          100000,
          147100,
          90700,
          115100,
          73900,
          168400,
          105200,
          210000,
          160000,
          145000,
          100000,
          222200,
          136000,
          100000,
          85000,
          85066,
          57723,
          200000,
          145000,
          140000,
          95000,
          185000,
          120250,
          130000,
          205000,
          140000,
          297300,
          198200,
          141288,
          94192,
          184000,
          143000,
          70000,
          55000,
          275300,
          183500,
          75000,
          65000,
          160000,
          147000,
          149040,
          113900,
          75020,
          180180,
          106020,
          17022,
          70000,
          80000,
          18238,
          250000,
          150000,
          139500,
          109400,
          105000,
          70000,
          210914,
          116704,
          150000,
          100000,
          146000,
          75000,
          75000,
          60000,
          185700,
          165000,
          160000,
          130000,
          169000,
          110600,
          193000,
          136850,
          139500,
          109400,
          276000,
          178500,
          59020,
          48289,
          75116,
          48289,
          195652,
          101228,
          136956,
          101228,
          252000,
          129000,
          163800,
          126000,
          260000,
          110000,
          170000,
          130000,
          247500,
          172200,
          239748,
          159832,
          163800,
          126000,
          128750,
          106250,
          252000,
          129000,
          299500,
          245100,
          155000,
          140000,
          167500,
          106500,
          188500,
          117000,
          250000,
          138000,
          130000,
          100000,
          123405,
          140000,
          120000,
          160000,
          135000,
          104500,
          70000,
          90000,
          70000,
          153600,
          106800,
          125000,
          90000,
          185000,
          125000,
          127000,
          94000,
          210550,
          153300,
          200000,
          150000,
          161500,
          119500,
          175000,
          145000,
          175000,
          148750,
          105000,
          85000,
          215000,
          146300,
          214618,
          72000,
          60000,
          153400,
          122700,
          260000,
          175000,
          186300,
          123900,
          340000,
          150000,
          153400,
          122700,
          250000,
          175000,
          64385,
          185900,
          121700,
          153600,
          106800,
          50000,
          100000,
          247500,
          172200,
          310000,
          239000,
          125000,
          110000,
          150000,
          100000,
          149076,
          82365,
          146000,
          75000,
          139500,
          109400,
          139500,
          109400,
          149600,
          102000,
          97218,
          48609,
          252000,
          129000,
          95000,
          85500,
          185900,
          121700,
          150000,
          100000,
          145000,
          125000,
          150000,
          97750,
          201000,
          122000,
          252000,
          129000,
          120000,
          75000,
          116990,
          82920,
          185900,
          129300,
          200000,
          125000,
          201000,
          122000,
          204500,
          142200,
          155000,
          140000,
          205920,
          171600,
          121500,
          78000,
          154000,
          116000,
          190000,
          136000,
          78990,
          43809,
          180000,
          110000,
          275300,
          183000,
          170000,
          140000,
          154000,
          116000,
          160000,
          130000,
          200000,
          120000,
          175000,
          160000,
          127599,
          103294,
          153600,
          106800,
          85000,
          75000,
          225000,
          156400,
          150000,
          120000,
          163800,
          126000,
          145000,
          90000,
          204500,
          142200,
          95000,
          85500,
          167500,
          106500,
          163800,
          126000,
          155000,
          140000,
          250000,
          200000,
          260000,
          186000,
          160000,
          130000,
          200000,
          150000,
          48289,
          38631,
          150000,
          120000,
          30000,
          185000,
          125000,
          75116,
          175000,
          130000,
          122000,
          93800,
          150000,
          90000,
          165000,
          112000,
          220000,
          71897,
          64385,
          204500,
          142200,
          15806,
          200000,
          175000,
          185900,
          129300,
          185900,
          121700,
          204500,
          142200,
          40000,
          29453,
          180180,
          106020,
          136000,
          104000,
          125000,
          110000,
          153400,
          122700,
          310000,
          239000,
          152380,
          121904,
          185900,
          129300,
          247500,
          172200,
          168400,
          105200,
          128280,
          106900,
          140000,
          100000,
          107309,
          85847,
          275000,
          174000,
          139500,
          109400,
          139500,
          109400,
          170500,
          85000,
          72946,
          54365,
          160288,
          127467,
          80000,
          65000,
          124740,
          65488,
          72200,
          64980,
          153600,
          106800,
          179975,
          86466,
          120000,
          90000,
          51039,
          42533,
          149076,
          82365,
          169000,
          110600,
          175000,
          120000,
          230000,
          180000,
          153600,
          106800,
          140000,
          120000,
          205920,
          171600,
          165000,
          125000,
          265000,
          185000,
          130000,
          38631,
          95000,
          85500,
          147100,
          90700,
          167580,
          87980,
          202000,
          135000,
          163800,
          126000,
          163800,
          126000,
          104000,
          65000,
          230000,
          148000,
          269000,
          158000,
          197000,
          106000,
          150000,
          100000,
          290000,
          210000,
          192000,
          172800,
          300240,
          200160,
          300240,
          200160,
          175000,
          140000,
          169000,
          100000,
          370000,
          245000,
          115447,
          110000,
          80000,
          55000,
          48000,
          95000,
          85000,
          137500,
          81500,
          323300,
          184700,
          186000,
          153088,
          190000,
          160000,
          200000,
          150000,
          190000,
          183310,
          240000,
          180000,
          200000,
          150000,
          299500,
          245100,
          144000,
          66000,
          148500,
          126277,
          228000,
          120000,
          180000,
          90000,
          126500,
          78000,
          180000,
          160000,
          272000,
          170000,
          80000,
          60000,
          259000,
          146000,
          200000,
          160000,
          310000,
          239000,
          142000,
          95000,
          155000,
          139500,
          140000,
          120000,
          259000,
          146000,
          109371,
          72914,
          17779,
          19522,
          247500,
          172200,
          225000,
          156400,
          139500,
          109400,
          125000,
          90000,
          107309,
          75116,
          185900,
          129300,
          139500,
          109400,
          120000,
          75000,
          169000,
          110600,
          288000,
          140000,
          288000,
          140000,
          120000,
          90000,
          72914,
          60761,
          215050,
          156400,
          198000,
          114000,
          75000,
          60000,
          204500,
          142200,
          209300,
          182200,
          140000,
          120000,
          48609,
          120000,
          60000,
          147100,
          90700,
          230000,
          170000,
          227000,
          108000,
          180000,
          160000,
          180000,
          160000,
          180000,
          130000,
          55800,
          51508,
          60000,
          50000,
          226700,
          133300,
          252000,
          129000,
          151902,
          9727,
          80000,
          52500,
          250000,
          162500,
          85000,
          75000,
          153600,
          106800,
          165000,
          124000,
          115934,
          81666,
          167580,
          87980,
          250000,
          63000,
          253750,
          169200,
          253750,
          169200,
          170000,
          120000,
          124740,
          65488,
          213580,
          163625,
          12000,
          101943,
          16414,
          220000,
          170000,
          235000,
          210000,
          180000,
          115000,
          200000,
          115000,
          231250,
          138750,
          284310,
          153090,
          160000,
          75000,
          125000,
          105000,
          109371,
          85066,
          55000,
          48000,
          100000,
          225900,
          156400,
          250000,
          162500,
          318300,
          188800,
          385000,
          60000,
          110000,
          95000,
          145000,
          135000,
          180180,
          106020,
          93919,
          51962,
          241871,
          133832,
          170000,
          90000,
          210914,
          116704,
          192500,
          140000,
          149076,
          82365,
          36000,
          175000,
          148750,
          370000,
          200000,
          235000,
          185000,
          121523,
          97218,
          216100,
          140800,
          145828,
          121523,
          53654,
          110000,
          128000,
          81500,
          66837,
          63192,
          60761,
          54685,
          284000,
          236000,
          248100,
          145900,
          155850,
          102544,
          151410,
          115360,
          66531,
          59020,
          125686,
          100000,
          12767,
          250000,
          162500,
          185000,
          120250,
          26827,
          85000,
          70000,
          135000,
          100000,
          155000,
          140000,
          204500,
          142200,
          226700,
          133300,
          225000,
          156400,
          163800,
          126000,
          163800,
          126000,
          220000,
          150000,
          145000,
          115000,
          204500,
          138900,
          162500,
          130000,
          150000,
          107000,
          175000,
          110000,
          226700,
          133300,
          252000,
          129000,
          150000,
          125000,
          252000,
          129000,
          225000,
          156400,
          110000,
          265000,
          182750,
          130000,
          100000,
          153600,
          106800,
          137500,
          81500,
          314100,
          195800,
          205000,
          180000,
          165000,
          144000,
          160000,
          100000,
          200000,
          145000,
          150000,
          100000,
          199000,
          112000,
          105000,
          70000,
          130000,
          180180,
          106020,
          160000,
          135000,
          183000,
          134000,
          220000,
          150000,
          350000,
          262500,
          122000,
          94000,
          276000,
          184000,
          310000,
          239000,
          225000,
          156400,
          180000,
          150000,
          228000,
          152000,
          209450,
          158677,
          175000,
          145000,
          240000,
          170000,
          103200,
          61200,
          63312,
          237000,
          145000,
          240000,
          139000,
          174500,
          113000,
          130000,
          87000,
          160000,
          108000,
          165000,
          107250,
          300000,
          119000,
          285800,
          154600,
          60795,
          30000,
          220000,
          195000,
          168400,
          105200,
          206000,
          160000,
          200000,
          175000,
          231250,
          138750,
          153000,
          94000,
          240500,
          123700,
          160000,
          90000,
          124234,
          74540,
          109000,
          79000,
          50000,
          275300,
          183500,
          275300,
          183500,
          160000,
          125600,
          170000,
          120000,
          225000,
          140000,
          141290,
          74178,
          150000,
          120000,
          85000,
          75000,
          220000,
          160000,
          205600,
          107500,
          120000,
          95000,
          185900,
          129300,
          160000,
          130000,
          12888,
          250000,
          175000,
          136000,
          104000,
          80000,
          52500,
          110000,
          84000,
          125000,
          110000,
          90000,
          80000,
          200000,
          135000,
          120000,
          130000,
          75000,
          252000,
          129000,
          150000,
          100000,
          226700,
          133300,
          190000,
          165000,
          170000,
          150000,
          150000,
          130000,
          225000,
          156400,
          200000,
          80000,
          12877,
          17509,
          257000,
          134000,
          77262,
          38631,
          205600,
          105700,
          140000,
          110000,
          299500,
          245100,
          210000,
          151800,
          53654,
          51508,
          40777,
          51508,
          40777,
          160000,
          135000,
          120000,
          95000,
          250000,
          63000,
          237000,
          145000,
          130000,
          90000,
          120000,
          100000,
          174500,
          113000,
          183310,
          183310,
          145000,
          102500,
          210000,
          185000,
          174500,
          113000,
          122000,
          94000,
          220000,
          146000,
          300000,
          130000,
          24740,
          145000,
          128000,
          182000,
          140000,
          122000,
          94000,
          77262,
          38631,
          300000,
          200000,
          135000,
          105500,
          252000,
          129000,
          136000,
          104000,
          168000,
          130000,
          78990,
          43809,
          120000,
          95000,
          153400,
          122700,
          185000,
          160000,
          205000,
          185000,
          204500,
          142200,
          145000,
          87000,
          50000,
          234100,
          203500,
          223800,
          172100,
          180000,
          150000,
          232200,
          167200,
          197000,
          106000,
          180000,
          145000,
          225000,
          200000,
          170000,
          114000,
          291500,
          180000,
          196200,
          150900,
          168400,
          105200,
          95000,
          80000,
          116000,
          72000,
          207000,
          167000,
          145000,
          135000,
          105000,
          70000,
          180000,
          115000,
          133800,
          96100,
          120000,
          80000,
          140000,
          100000,
          150000,
          120000,
          140000,
          115000,
          297300,
          198200,
          297300,
          198200,
          202000,
          135000,
          110000,
          84000,
          219000,
          230000,
          196000,
          140000,
          110000,
          150000,
          100000,
          160000,
          110000,
          185900,
          129300,
          126100,
          72000,
          170000,
          150000,
          175000,
          140000,
          240500,
          137500,
          187500,
          165000,
          72914,
          210000,
          165750,
          225000,
          165750,
          109006,
          67141,
          135000,
          115000,
          275000,
          175000,
          170000,
          140000,
          175308,
          100706,
          235000,
          135000,
          310000,
          229000,
          289076,
          202353,
          69751,
          37558,
          120000,
          100000,
          226700,
          133300,
          125000,
          85000,
          130000,
          80000,
          120000,
          100000,
          231250,
          138750,
          199000,
          162000,
          160000,
          135000,
          200000,
          150000,
          160000,
          120000,
          250000,
          200000,
          150000,
          120000,
          150000,
          100000,
          272550,
          198200,
          182000,
          140000,
          200000,
          160000,
          204500,
          142200,
          120000,
          105000,
          187500,
          175000,
          204500,
          142200,
          155000,
          64000,
          235000,
          185000,
          174500,
          113000,
          143100,
          113000,
          184000,
          142000,
          140000,
          120000,
          174500,
          113000,
          180560,
          115440,
          140000,
          120000,
          248100,
          145900,
          120000,
          110000,
          291500,
          180000,
          75344,
          63192,
          161800,
          141600,
          58331,
          46178,
          166000,
          128000,
          170000,
          110000,
          160000,
          75000,
          236000,
          182000,
          150000,
          100000,
          261500,
          134500,
          130000,
          90000,
          160000,
          135000
         ],
         "y0": " ",
         "yaxis": "y"
        },
        {
         "alignmentgroup": "True",
         "hovertemplate": "Work Year=2022<br>Remote Ratio=%{x}<br>Salary (USD)=%{y}<extra></extra>",
         "legendgroup": "2022",
         "marker": {
          "color": "#EF553B"
         },
         "name": "2022",
         "notched": false,
         "offsetgroup": "2022",
         "orientation": "v",
         "showlegend": true,
         "type": "box",
         "x": [
          50,
          50,
          100,
          100,
          0,
          100,
          100,
          100,
          100,
          100,
          100,
          0,
          100,
          100,
          0,
          100,
          100,
          100,
          100,
          50,
          50,
          0,
          100,
          100,
          100,
          50,
          100,
          0,
          100,
          0,
          100,
          100,
          0,
          0,
          0,
          0,
          0,
          0,
          0,
          0,
          0,
          0,
          0,
          0,
          0,
          0,
          0,
          0,
          0,
          0,
          100,
          0,
          0,
          100,
          100,
          100,
          100,
          0,
          0,
          100,
          100,
          100,
          100,
          100,
          100,
          100,
          100,
          100,
          100,
          0,
          0,
          0,
          0,
          100,
          100,
          100,
          100,
          100,
          0,
          0,
          0,
          0,
          0,
          50,
          100,
          100,
          0,
          0,
          100,
          100,
          0,
          0,
          0,
          0,
          100,
          100,
          0,
          0,
          100,
          100,
          100,
          100,
          100,
          0,
          0,
          0,
          0,
          0,
          0,
          0,
          0,
          100,
          100,
          0,
          0,
          0,
          0,
          0,
          0,
          0,
          0,
          100,
          100,
          100,
          100,
          0,
          0,
          50,
          100,
          100,
          0,
          0,
          0,
          0,
          0,
          0,
          100,
          100,
          0,
          0,
          100,
          100,
          100,
          100,
          0,
          0,
          0,
          0,
          0,
          0,
          0,
          0,
          100,
          100,
          0,
          0,
          50,
          100,
          0,
          0,
          0,
          0,
          0,
          0,
          100,
          100,
          100,
          100,
          0,
          0,
          0,
          0,
          100,
          100,
          0,
          0,
          0,
          0,
          0,
          0,
          100,
          100,
          100,
          100,
          100,
          100,
          100,
          100,
          100,
          100,
          100,
          100,
          100,
          100,
          100,
          100,
          100,
          0,
          0,
          100,
          100,
          100,
          100,
          100,
          100,
          0,
          0,
          100,
          100,
          100,
          100,
          100,
          100,
          100,
          100,
          100,
          100,
          100,
          100,
          100,
          100,
          0,
          0,
          0,
          0,
          0,
          0,
          0,
          100,
          100,
          100,
          100,
          50,
          50,
          100,
          100,
          0,
          0,
          0,
          0,
          100,
          100,
          50,
          100,
          100,
          100,
          0,
          0,
          0,
          0,
          50,
          0,
          0,
          0,
          0,
          0,
          0,
          100,
          100,
          0,
          0,
          100,
          100,
          0,
          0,
          100,
          100,
          0,
          0,
          100,
          100,
          100,
          100,
          100,
          0,
          0,
          100,
          100,
          0,
          0,
          100,
          100,
          0,
          0,
          0,
          0,
          100,
          100,
          100,
          100,
          0,
          0,
          0,
          0,
          100,
          100,
          0,
          0,
          100,
          100,
          0,
          0,
          100,
          100,
          0,
          0,
          100,
          100,
          0,
          0,
          0,
          0,
          0,
          0,
          100,
          100,
          100,
          0,
          0,
          100,
          100,
          0,
          0,
          0,
          0,
          100,
          100,
          100,
          100,
          0,
          0,
          0,
          0,
          0,
          0,
          100,
          0,
          0,
          0,
          0,
          100,
          100,
          0,
          0,
          100,
          100,
          0,
          0,
          0,
          0,
          100,
          100,
          0,
          0,
          100,
          100,
          0,
          0,
          100,
          100,
          0,
          0,
          100,
          100,
          0,
          0,
          0,
          0,
          0,
          0,
          0,
          0,
          100,
          100,
          0,
          0,
          0,
          0,
          50,
          100,
          100,
          100,
          100,
          0,
          0,
          0,
          0,
          0,
          0,
          0,
          0,
          0,
          0,
          0,
          0,
          0,
          0,
          100,
          100,
          0,
          0,
          0,
          0,
          0,
          0,
          0,
          0,
          0,
          0,
          0,
          0,
          50,
          100,
          0,
          0,
          0,
          0,
          0,
          0,
          0,
          0,
          100,
          0,
          0,
          0,
          0,
          0,
          0,
          100,
          100,
          0,
          0,
          0,
          0,
          0,
          0,
          100,
          100,
          100,
          100,
          50,
          100,
          100,
          0,
          0,
          0,
          0,
          0,
          0,
          0,
          0,
          100,
          100,
          0,
          0,
          0,
          0,
          0,
          0,
          100,
          50,
          0,
          0,
          0,
          0,
          100,
          100,
          0,
          0,
          100,
          100,
          0,
          0,
          0,
          0,
          0,
          0,
          0,
          0,
          0,
          0,
          0,
          0,
          0,
          0,
          100,
          100,
          0,
          0,
          100,
          100,
          100,
          100,
          100,
          100,
          100,
          100,
          0,
          0,
          0,
          0,
          0,
          0,
          0,
          100,
          100,
          0,
          0,
          0,
          0,
          100,
          100,
          0,
          0,
          0,
          0,
          0,
          0,
          100,
          100,
          100,
          100,
          0,
          100,
          100,
          100,
          100,
          100,
          100,
          100,
          100,
          100,
          100,
          100,
          100,
          100,
          100,
          100,
          100,
          0,
          0,
          0,
          0,
          0,
          0,
          0,
          0,
          100,
          100,
          0,
          0,
          0,
          0,
          0,
          0,
          0,
          0,
          0,
          0,
          0,
          0,
          100,
          100,
          100,
          50,
          0,
          0,
          0,
          0,
          0,
          0,
          0,
          0,
          0,
          0,
          0,
          0,
          0,
          0,
          100,
          100,
          100,
          100,
          100,
          100,
          100,
          100,
          0,
          0,
          100,
          100,
          0,
          0,
          0,
          0,
          0,
          0,
          100,
          100,
          0,
          0,
          100,
          100,
          0,
          0,
          100,
          100,
          0,
          0,
          100,
          100,
          100,
          100,
          100,
          100,
          0,
          0,
          0,
          0,
          0,
          0,
          50,
          100,
          100,
          100,
          100,
          100,
          100,
          100,
          100,
          100,
          100,
          100,
          100,
          100,
          0,
          0,
          0,
          0,
          0,
          0,
          100,
          100,
          100,
          100,
          100,
          100,
          100,
          100,
          0,
          0,
          0,
          0,
          0,
          0,
          100,
          100,
          0,
          0,
          0,
          0,
          0,
          0,
          0,
          0,
          0,
          0,
          0,
          0,
          0,
          0,
          100,
          100,
          0,
          0,
          50,
          100,
          50,
          100,
          100,
          0,
          0,
          100,
          100,
          0,
          0,
          50,
          0,
          0,
          0,
          0,
          0,
          0,
          0,
          0,
          100,
          100,
          100,
          100,
          0,
          0,
          100,
          100,
          0,
          0,
          100,
          50,
          0,
          0,
          100,
          100,
          0,
          0,
          0,
          0,
          0,
          0,
          100,
          100,
          100,
          100,
          0,
          0,
          100,
          100,
          0,
          0,
          100,
          100,
          100,
          100,
          0,
          0,
          0,
          0,
          0,
          0,
          0,
          0,
          0,
          0,
          0,
          0,
          0,
          0,
          0,
          0,
          0,
          0,
          0,
          0,
          100,
          100,
          100,
          0,
          0,
          0,
          0,
          100,
          100,
          0,
          0,
          0,
          0,
          100,
          100,
          100,
          100,
          0,
          0,
          100,
          100,
          100,
          100,
          100,
          100,
          100,
          50,
          50,
          0,
          0,
          0,
          0,
          0,
          0,
          0,
          0,
          0,
          0,
          0,
          0,
          0,
          100,
          100,
          100,
          0,
          0,
          100,
          100,
          0,
          0,
          100,
          100,
          100,
          100,
          0,
          0,
          100,
          100,
          100,
          100,
          0,
          0,
          100,
          100,
          0,
          0,
          0,
          0,
          0,
          0,
          0,
          0,
          0,
          0,
          0,
          0,
          0,
          0,
          100,
          100,
          0,
          0,
          0,
          0,
          100,
          100,
          0,
          0,
          100,
          100,
          100,
          100,
          100,
          100,
          100,
          100,
          0,
          0,
          0,
          0,
          0,
          0,
          100,
          50,
          100,
          100,
          0,
          100,
          0,
          0,
          100,
          100,
          100,
          100,
          50,
          100,
          100,
          50,
          100,
          100,
          100,
          100,
          0,
          0,
          100,
          100,
          100,
          100,
          0,
          0,
          100,
          100,
          100,
          0,
          0,
          100,
          100,
          100,
          0,
          0,
          100,
          100,
          100,
          100,
          100,
          100,
          100,
          100,
          100,
          100,
          50,
          100,
          100,
          100,
          50,
          0,
          0,
          100,
          100,
          100,
          100,
          100,
          100,
          0,
          100,
          100,
          0,
          0,
          0,
          0,
          0,
          0,
          100,
          100,
          100,
          100,
          100,
          100,
          100,
          100,
          100,
          100,
          100,
          100,
          100,
          100,
          100,
          100,
          100,
          100,
          100,
          100,
          100,
          100,
          0,
          0,
          100,
          100,
          100,
          100,
          100,
          100,
          100,
          100,
          100,
          0,
          0,
          100,
          100,
          100,
          100,
          100,
          100,
          100,
          100,
          100,
          100,
          100,
          100,
          100,
          100,
          100,
          100,
          0,
          0,
          100,
          100,
          100,
          100,
          100,
          100,
          0,
          0,
          0,
          0,
          100,
          100,
          50,
          100,
          100,
          100,
          100,
          100,
          100,
          100,
          100,
          100,
          100,
          100,
          100,
          100,
          100,
          100,
          100,
          100,
          100,
          100,
          50,
          100,
          100,
          100,
          100,
          100,
          100,
          100,
          100,
          100,
          100,
          100,
          0,
          100,
          100,
          0,
          0,
          0,
          0,
          0,
          0,
          0,
          0,
          100,
          100,
          100,
          100,
          100,
          0,
          0,
          100,
          100,
          100,
          100,
          100,
          100,
          100,
          0,
          0,
          100,
          100,
          50,
          100,
          100,
          100,
          100,
          0,
          0,
          0,
          0,
          100,
          100,
          100,
          100,
          100,
          100,
          100,
          100,
          100,
          100,
          100,
          50,
          50,
          100,
          0,
          0,
          100,
          100,
          0,
          0,
          100,
          100,
          100,
          100,
          100,
          100,
          100,
          100,
          0,
          100,
          100,
          100,
          100,
          100,
          100,
          100,
          100,
          100,
          100,
          100,
          100,
          100,
          100,
          100,
          100,
          100,
          100,
          0,
          0,
          0,
          50,
          100,
          100,
          100,
          100,
          100,
          100,
          100,
          0,
          0,
          0,
          0,
          0,
          0,
          100,
          100,
          100,
          100,
          100,
          100,
          100,
          100,
          100,
          50,
          0,
          100,
          100,
          100,
          100,
          100,
          0,
          0,
          50,
          0,
          0,
          0,
          0,
          50,
          0,
          0,
          100,
          100,
          0,
          0,
          100,
          100,
          100,
          0,
          0,
          0,
          0,
          0,
          0,
          100,
          100,
          50,
          50,
          0,
          100,
          50,
          0,
          0,
          100,
          100,
          100,
          100,
          100,
          100,
          100,
          100,
          100,
          0,
          0,
          0,
          0,
          0,
          0,
          100,
          100,
          100,
          100,
          100,
          100,
          0,
          0,
          100,
          100,
          100,
          100,
          100,
          100,
          0,
          0,
          100,
          100,
          0,
          0,
          100,
          100,
          100,
          100,
          0,
          0,
          100,
          0,
          0,
          100,
          100,
          0,
          0,
          0,
          0,
          100,
          0,
          0,
          100,
          0,
          0,
          0,
          0,
          0,
          0,
          100,
          100,
          50,
          0,
          0,
          100,
          100,
          100,
          100,
          0,
          0,
          0,
          0,
          100,
          100,
          100,
          100,
          50,
          0,
          0,
          100,
          100,
          0,
          0,
          0,
          0,
          100,
          100,
          50,
          0,
          100,
          100,
          0,
          0,
          100,
          100,
          100,
          100,
          100,
          50,
          100,
          0,
          0,
          0,
          0,
          0,
          0,
          0,
          0,
          0,
          0,
          50,
          0,
          0,
          0,
          0,
          100,
          100,
          100,
          50,
          0,
          0,
          100,
          0,
          0,
          100,
          100,
          50,
          100,
          100,
          100,
          100,
          100,
          100,
          100,
          100,
          100,
          100,
          0,
          0,
          100,
          100,
          100,
          100,
          0,
          0,
          100,
          50,
          50,
          100,
          100,
          100,
          100,
          100,
          100,
          100,
          100,
          100,
          100,
          100,
          100,
          0,
          100,
          100,
          100,
          0,
          100,
          100,
          0,
          0,
          0,
          0,
          0,
          0,
          100,
          100,
          50,
          100,
          0,
          0,
          0,
          100,
          100,
          100,
          100,
          0,
          0,
          100,
          100,
          100,
          100,
          0,
          0,
          100,
          100,
          100,
          0,
          0,
          100,
          100,
          0,
          0,
          0,
          0,
          100,
          100,
          100,
          100,
          100,
          100,
          100,
          100,
          100,
          50,
          100,
          100,
          100,
          100,
          100,
          100,
          100,
          100,
          100,
          100,
          100,
          100,
          100,
          0,
          0,
          100,
          100,
          100,
          100,
          0,
          0,
          100,
          100,
          100,
          100,
          0,
          0,
          100,
          100,
          100,
          100,
          100,
          0,
          0,
          100,
          100,
          100,
          100,
          0,
          0,
          0,
          0,
          0,
          0,
          100,
          100,
          0,
          0,
          0,
          0,
          100,
          100,
          100,
          100,
          0,
          0,
          0,
          0,
          0,
          0,
          0,
          0,
          0,
          0,
          100,
          100,
          0,
          0,
          100,
          100,
          100,
          100,
          100,
          100,
          0,
          0,
          100,
          100,
          100,
          100,
          100,
          100,
          100,
          100,
          100,
          100,
          100,
          100,
          0,
          0,
          100,
          100,
          100,
          100,
          100,
          100,
          100,
          100,
          0,
          0,
          0,
          0,
          100,
          100,
          100,
          100,
          100,
          100,
          100,
          100,
          100,
          100,
          100,
          100,
          100,
          100,
          100,
          100,
          100,
          100,
          100,
          100,
          100,
          100,
          0,
          0,
          100,
          100,
          100,
          100,
          0,
          0,
          0,
          0,
          0,
          0,
          100,
          100,
          100,
          100,
          100,
          100,
          100,
          100,
          0,
          0,
          100,
          100,
          100,
          100,
          100,
          100,
          0,
          0,
          100,
          100,
          0,
          0,
          100,
          100,
          0,
          0,
          100,
          100,
          100,
          100,
          100,
          100,
          100,
          100,
          100,
          100,
          100,
          100,
          0,
          0,
          100,
          100,
          0,
          0,
          100,
          100,
          100,
          100,
          100,
          100,
          100,
          100,
          100,
          100,
          100,
          100,
          100,
          100,
          100,
          100,
          100,
          100,
          100,
          100,
          100,
          100,
          100,
          100,
          100,
          100,
          100,
          100,
          0,
          0,
          100,
          100,
          100,
          100,
          100,
          100,
          100,
          100,
          100,
          100,
          100,
          100,
          100,
          100,
          100,
          50,
          100,
          100,
          100,
          50,
          50,
          100,
          100,
          100,
          50,
          100,
          100,
          100,
          100,
          100,
          100,
          100,
          100,
          100,
          100,
          100,
          100,
          100,
          100,
          50,
          50,
          100,
          50,
          100,
          100,
          100,
          100,
          100,
          100,
          0,
          100,
          100,
          100,
          100,
          100,
          0,
          100,
          100,
          100,
          0,
          100,
          100,
          50,
          50,
          100,
          50,
          100,
          0,
          0,
          100
         ],
         "x0": " ",
         "xaxis": "x",
         "y": [
          20984,
          300000,
          56536,
          88256,
          275000,
          59888,
          73546,
          172309,
          130000,
          34320,
          9289,
          106000,
          192000,
          168000,
          85000,
          375000,
          180000,
          23000,
          155000,
          84053,
          48000,
          6304,
          15897,
          110000,
          25216,
          18314,
          100000,
          133000,
          14307,
          130000,
          13989,
          125000,
          175000,
          155000,
          153600,
          106800,
          150000,
          140000,
          122000,
          94500,
          170000,
          130000,
          145000,
          128000,
          145000,
          100000,
          175000,
          120000,
          145000,
          115000,
          150000,
          150000,
          100000,
          150000,
          127500,
          126500,
          51000,
          260000,
          175000,
          40000,
          40000,
          250000,
          63000,
          210000,
          160000,
          272550,
          198200,
          94560,
          52533,
          220000,
          146000,
          150000,
          100000,
          248400,
          183600,
          150000,
          150000,
          40000,
          56723,
          120000,
          95000,
          160000,
          135000,
          24165,
          216000,
          144000,
          85000,
          65000,
          149000,
          119000,
          140000,
          120000,
          150000,
          110000,
          246000,
          201000,
          190000,
          155000,
          235000,
          185000,
          190000,
          160000,
          100000,
          130000,
          115000,
          92350,
          67723,
          105000,
          70000,
          204500,
          142200,
          192000,
          164000,
          185900,
          129300,
          130000,
          75000,
          175000,
          120000,
          167500,
          106500,
          75000,
          60000,
          184000,
          142000,
          145000,
          100000,
          10000,
          31795,
          44365,
          175000,
          120000,
          175000,
          120000,
          200000,
          145000,
          92350,
          73880,
          145000,
          100000,
          192000,
          164000,
          310000,
          239000,
          120000,
          95000,
          145000,
          135000,
          100000,
          78000,
          73546,
          36773,
          160000,
          120000,
          190000,
          150000,
          35610,
          125000,
          120000,
          95000,
          150000,
          100000,
          47280,
          37824,
          115934,
          81666,
          175000,
          140000,
          120000,
          95000,
          249500,
          149850,
          122500,
          100000,
          249500,
          149850,
          55000,
          48000,
          249500,
          149850,
          58837,
          190000,
          120000,
          127000,
          104000,
          210000,
          150000,
          210000,
          150000,
          210000,
          130000,
          182750,
          161500,
          102640,
          66100,
          210000,
          150000,
          198800,
          122600,
          130000,
          80000,
          136000,
          104000,
          150000,
          100000,
          160000,
          135000,
          216000,
          144000,
          159000,
          130000,
          115934,
          81666,
          215000,
          150000,
          246000,
          201000,
          187000,
          153000,
          255000,
          185000,
          430967,
          55410,
          50432,
          39925,
          169000,
          110600,
          60938,
          140000,
          120000,
          75000,
          60000,
          10000,
          50000,
          134000,
          124000,
          166700,
          119000,
          124234,
          74540,
          100000,
          65000,
          200000,
          12000,
          220000,
          146000,
          68293,
          36773,
          110000,
          70000,
          50000,
          120000,
          95000,
          150000,
          100000,
          47280,
          37824,
          190000,
          135000,
          128000,
          81500,
          173000,
          110000,
          192000,
          120000,
          115934,
          81666,
          120000,
          95000,
          190000,
          194000,
          129400,
          201000,
          89200,
          165000,
          125000,
          230000,
          196000,
          130000,
          90000,
          150000,
          100000,
          230000,
          150000,
          153600,
          106800,
          130000,
          100000,
          216000,
          144000,
          180000,
          120000,
          160000,
          135000,
          192500,
          140000,
          152500,
          130000,
          65000,
          55000,
          178750,
          160000,
          63040,
          52533,
          165000,
          135000,
          170000,
          125000,
          105000,
          70000,
          130000,
          95000,
          203500,
          152000,
          197430,
          134760,
          120000,
          197000,
          99000,
          220000,
          162000,
          110446,
          79178,
          70186,
          51716,
          149040,
          113900,
          171000,
          13000,
          100000,
          78000,
          120000,
          95000,
          110000,
          70000,
          50000,
          185900,
          129300,
          150000,
          100000,
          230000,
          154600,
          204500,
          142200,
          160000,
          75000,
          47280,
          37824,
          213000,
          152000,
          140000,
          120000,
          110000,
          70000,
          227200,
          168000,
          64090,
          60938,
          243000,
          183000,
          175000,
          150000,
          130000,
          90000,
          165000,
          124000,
          178000,
          132000,
          300000,
          130000,
          169000,
          110600,
          116000,
          96000,
          92350,
          70186,
          105000,
          70000,
          105236,
          194000,
          129400,
          190000,
          135000,
          100000,
          70000,
          189750,
          140250,
          130000,
          100000,
          160000,
          109000,
          250000,
          150000,
          206000,
          160000,
          135000,
          120000,
          115573,
          73546,
          160000,
          135000,
          150000,
          100000,
          120000,
          95000,
          68293,
          42026,
          191200,
          130000,
          191200,
          130000,
          66192,
          50000,
          230000,
          154600,
          120000,
          95000,
          140000,
          120000,
          169000,
          110600,
          80000,
          185900,
          129300,
          135000,
          110000,
          155000,
          140000,
          205000,
          150000,
          179500,
          134000,
          180000,
          120000,
          185900,
          129300,
          175000,
          145000,
          235000,
          175000,
          27317,
          160000,
          90000,
          68293,
          36773,
          145000,
          115000,
          165000,
          135000,
          168400,
          105200,
          86193,
          49253,
          200000,
          160000,
          47280,
          37824,
          198800,
          122600,
          100000,
          105066,
          130000,
          100000,
          104663,
          73880,
          125000,
          110000,
          165000,
          124000,
          148000,
          107000,
          150000,
          100000,
          160000,
          135000,
          120000,
          95000,
          153600,
          106800,
          100000,
          65000,
          120000,
          95000,
          63040,
          36773,
          310000,
          239000,
          299500,
          245100,
          168000,
          130000,
          136000,
          104000,
          161000,
          118000,
          205000,
          184000,
          185900,
          129300,
          247500,
          172200,
          68293,
          177000,
          131000,
          205000,
          184000,
          146000,
          102000,
          169000,
          110600,
          230000,
          196000,
          135000,
          100000,
          80000,
          65000,
          135000,
          100000,
          61566,
          43096,
          175000,
          135000,
          80000,
          231250,
          138750,
          193750,
          116250,
          231250,
          138750,
          231250,
          138750,
          231250,
          138750,
          193750,
          116250,
          208000,
          127000,
          300000,
          196000,
          204500,
          142200,
          185900,
          129300,
          47280,
          37824,
          204500,
          142200,
          205000,
          185000,
          185900,
          129300,
          247500,
          172200,
          160000,
          135000,
          150000,
          100000,
          110000,
          95000,
          185900,
          129300,
          205000,
          184000,
          17684,
          375000,
          191200,
          130000,
          225000,
          156400,
          169000,
          110600,
          204500,
          142200,
          104663,
          80036,
          185900,
          129300,
          140700,
          93800,
          350000,
          135000,
          115934,
          81666,
          12000,
          104697,
          33000,
          34672,
          201000,
          119000,
          175000,
          150000,
          154560,
          123648,
          130000,
          100000,
          170000,
          145000,
          135000,
          100000,
          247500,
          172200,
          177500,
          134000,
          185900,
          129300,
          192564,
          144854,
          130000,
          105000,
          179305,
          142127,
          315000,
          225000,
          243900,
          156600,
          206000,
          160000,
          109000,
          79000,
          160000,
          109000,
          89306,
          182500,
          128500,
          160000,
          90000,
          77300,
          45600,
          127000,
          110000,
          210000,
          136000,
          12608,
          170000,
          140000,
          247500,
          172200,
          225000,
          184100,
          130000,
          90000,
          120000,
          100000,
          85000,
          78000,
          161000,
          110000,
          136000,
          104000,
          47280,
          37824,
          205000,
          160000,
          169000,
          110600,
          61566,
          49253,
          160000,
          130000,
          245000,
          180000,
          135000,
          100000,
          220000,
          150000,
          198440,
          144000,
          240000,
          170000,
          198440,
          144000,
          150000,
          100000,
          120000,
          95000,
          57872,
          64000,
          39925,
          187200,
          116100,
          150000,
          127000,
          275000,
          166000,
          159699,
          138938,
          76000,
          166700,
          119000,
          130000,
          100000,
          103432,
          92350,
          80000,
          52500,
          236000,
          182000,
          180000,
          140000,
          225000,
          156400,
          135000,
          100000,
          204500,
          142200,
          240000,
          125404,
          300000,
          130000,
          195000,
          175000,
          155000,
          110000,
          123000,
          92250,
          170000,
          150000,
          180000,
          100000,
          97000,
          90000,
          200000,
          160000,
          210000,
          180000,
          260000,
          180000,
          210000,
          157000,
          180000,
          100000,
          80000,
          52500,
          128000,
          81500,
          105000,
          70000,
          175000,
          122500,
          171000,
          117000,
          202800,
          104300,
          50432,
          36773,
          197000,
          99000,
          160000,
          110000,
          185900,
          129300,
          30000,
          78000,
          48000,
          170000,
          130000,
          150000,
          95000,
          78000,
          42000,
          345600,
          230400,
          145000,
          115000,
          78000,
          48000,
          175950,
          130050,
          205600,
          105700,
          236600,
          89200,
          84000,
          54000,
          80000,
          200000,
          73742,
          165000,
          33246,
          185900,
          129300,
          169000,
          110600,
          225000,
          184100,
          185900,
          129300,
          225000,
          156400,
          185900,
          129300,
          108000,
          8000,
          155000,
          38000,
          85000,
          65000,
          155000,
          38000,
          110820,
          92350,
          153600,
          106800,
          185000,
          50000,
          185900,
          129300,
          155000,
          38000,
          168000,
          130000,
          123400,
          88100,
          120000,
          55000,
          185900,
          129300,
          191200,
          130000,
          169000,
          110600,
          150000,
          120000,
          139000,
          122000,
          185900,
          129300,
          139600,
          85700,
          185000,
          50000,
          185900,
          129300,
          225000,
          156400,
          200000,
          175000,
          185900,
          129300,
          148500,
          98200,
          115000,
          95000,
          225000,
          66000,
          185000,
          50000,
          47280,
          37824,
          134000,
          98000,
          105000,
          62000,
          57000,
          161311,
          144200,
          115360,
          83171,
          38154,
          73546,
          42026,
          170000,
          150000,
          180000,
          160000,
          108000,
          200000,
          150000,
          125976,
          188700,
          160395,
          115934,
          81666,
          300000,
          225000,
          198440,
          144000,
          191475,
          141525,
          50432,
          36773,
          75648,
          156868,
          200000,
          198440,
          144000,
          69344,
          5132,
          90000,
          126080,
          84053,
          200000,
          180000,
          108000,
          85000,
          210000,
          180000,
          165000,
          132000,
          130000,
          110000,
          45050,
          135000,
          178800,
          132100,
          20000,
          140000,
          110000,
          160000,
          85000,
          250000,
          63000,
          187200,
          116100,
          10000,
          200000,
          145000,
          229998,
          154545,
          215000,
          159000,
          229998,
          154545,
          50000,
          183000,
          99750,
          68400,
          236900,
          159200,
          243225,
          179775,
          175000,
          150000,
          210000,
          180000,
          148000,
          128000,
          190000,
          135000,
          130000,
          110000,
          191475,
          141525,
          160000,
          85000,
          218000,
          145300,
          195400,
          131300,
          105000,
          191475,
          141525,
          207000,
          153000,
          191475,
          141525,
          110000,
          99000,
          191475,
          141525,
          191475,
          141525,
          191475,
          141525,
          200000,
          135000,
          207000,
          153000,
          191475,
          141525,
          191475,
          141525,
          191475,
          141525,
          195700,
          130500,
          130000,
          84000,
          100000,
          60000,
          80036,
          67723,
          141300,
          102100,
          50432,
          36773,
          150000,
          102200,
          22892,
          144000,
          113000,
          31520,
          195400,
          131300,
          195400,
          131300,
          195400,
          131300,
          190000,
          135000,
          135000,
          80000,
          8050,
          160000,
          85000,
          178800,
          132100,
          60000,
          63040,
          50000,
          140000,
          105000,
          80036,
          67723,
          190000,
          140000,
          100000,
          60000,
          180000,
          165000,
          108000,
          190000,
          135000,
          179400,
          154000,
          193900,
          129300,
          222640,
          182160,
          150000,
          100000,
          122500,
          100000,
          297500,
          260000,
          193000,
          93000,
          73000,
          100000,
          60000,
          7799,
          136994,
          101570,
          250000,
          63000,
          134000,
          98000,
          191475,
          141525,
          57786,
          136000,
          112000,
          172000,
          140000,
          215000,
          164000,
          300000,
          130000,
          250000,
          63000,
          180000,
          150000,
          250000,
          63000,
          191475,
          141525,
          97500,
          212800,
          142800,
          73546,
          50000,
          6359,
          151800,
          130240,
          165000,
          140250,
          135000,
          115000,
          179400,
          154000,
          191475,
          141525,
          191475,
          141525,
          191475,
          141525,
          75000,
          84053,
          73546,
          98506,
          86193,
          84053,
          73546,
          191475,
          141525,
          191475,
          141525,
          102663,
          80041,
          191475,
          141525,
          104611,
          82280,
          191475,
          141525,
          191475,
          141525,
          115000,
          31520,
          81000,
          66000,
          46000,
          80000,
          200000,
          180000,
          200000,
          204100,
          136100,
          250000,
          63000,
          118208,
          110820,
          191475,
          141525,
          191475,
          141525,
          191475,
          141525,
          95000,
          70000,
          75000,
          7500,
          113000,
          170000,
          130000,
          113000,
          140000,
          53368,
          175000,
          140000,
          29944,
          250000,
          63000,
          160000,
          119300,
          145000,
          105000,
          90000,
          146200,
          124270,
          225000,
          160000,
          54634,
          185800,
          137400,
          245000,
          180000,
          203500,
          152000,
          250000,
          63000,
          186000,
          148800,
          95386,
          128058,
          82000,
          110000,
          173000,
          203500,
          152000,
          186000,
          148800,
          6270,
          158000,
          134000,
          170000,
          120000,
          200000,
          150000,
          216200,
          144100,
          115573,
          89306,
          250000,
          63000,
          135000,
          85000,
          135000,
          85000,
          206000,
          175100,
          189650,
          164996,
          149040,
          113900,
          154000,
          126000,
          200000,
          150000,
          195700,
          130500,
          170000,
          135000,
          98506,
          73880,
          117000,
          99450,
          200000,
          135000,
          193900,
          129300,
          55410,
          86193,
          61566,
          175000,
          130000,
          188100,
          139860,
          248700,
          167100,
          5723,
          123400,
          88100,
          50432,
          245000,
          205000,
          141300,
          102100,
          141300,
          102100,
          50000,
          84053,
          61566,
          250000,
          63000,
          189500,
          140100,
          177600,
          131300,
          24000,
          24000,
          250000,
          63000,
          202900,
          131300,
          145000,
          115000,
          115000,
          193900,
          129300,
          180000,
          140000,
          216200,
          144100,
          216000,
          144000,
          150000,
          53416,
          50000,
          84053,
          131752,
          48000,
          260500,
          175100,
          210000,
          100000,
          55000,
          130000,
          77119,
          52008,
          30523,
          206699,
          99100,
          200000,
          54000,
          250000,
          63000,
          250000,
          63000,
          250000,
          63000,
          130000,
          100000,
          80000,
          160000,
          100000,
          221300,
          148700,
          30000,
          28368,
          91118,
          61566,
          60938,
          249260,
          185400,
          170000,
          130000,
          80036,
          128875,
          93700,
          180000,
          100000,
          136260,
          109280,
          160000,
          92000,
          200000,
          160000,
          135446,
          104663,
          117000,
          99450,
          129000,
          86000,
          160000,
          119300,
          100000,
          25000,
          65257,
          200000,
          180000,
          153000,
          210000,
          100000,
          150075,
          110925,
          22800,
          160000,
          92000,
          202900,
          131300,
          15000,
          175000,
          135000,
          133766,
          83000,
          92350,
          67723,
          186000,
          148800,
          112900,
          90320,
          240000,
          160000,
          300000,
          200000,
          65666,
          200000,
          116976,
          92350,
          120000,
          112900,
          90320,
          145000,
          105400,
          110820,
          92350,
          215300,
          158200,
          209100,
          154600,
          115934,
          81666,
          175000,
          155000,
          84053,
          164000,
          132000,
          170000,
          123000,
          189650,
          164996,
          52533,
          52533,
          115222,
          165400,
          132320,
          208775,
          147800,
          136994,
          101570,
          128875,
          93700,
          76309,
          35093,
          183600,
          100800,
          49253,
          36940,
          42026,
          31520,
          84053,
          73546,
          98506,
          86193,
          84053,
          73546,
          189650,
          164996,
          42026,
          31520,
          92350,
          73880,
          215300,
          140400,
          63040,
          47280,
          260000,
          180000,
          67723,
          43096,
          63040,
          47280,
          73880,
          55410,
          60000,
          82900,
          63900,
          160000,
          112300,
          241000,
          159000,
          180000,
          80000,
          58000,
          58000,
          136000,
          108800,
          242000,
          200000,
          61566,
          36940,
          73880,
          49253,
          165220,
          120160,
          124190,
          90320,
          181940,
          132320,
          220110,
          160080,
          180000,
          120000,
          126500,
          106260,
          116000,
          99000,
          155000,
          120600,
          130000,
          90000,
          170000,
          150000,
          102100,
          84900,
          136620,
          99360,
          110820,
          98506,
          146000,
          123000,
          49253,
          43096,
          130000,
          110000,
          170000,
          135000,
          161342,
          137141,
          167000,
          123000,
          73880,
          61566,
          211500,
          138600,
          192400,
          90700,
          130000,
          61300,
          130000,
          61300,
          160000,
          113000,
          150000,
          95550,
          167000,
          115500,
          112900,
          90320,
          112900,
          90320,
          165400,
          132320,
          243900,
          156600,
          136600,
          109280,
          128875,
          93700,
          224000,
          167875,
          175000,
          135000,
          209100,
          154600,
          180000,
          160000,
          205300,
          140400,
          176000,
          144000,
          200100,
          160000,
          70500,
          54000,
          205300,
          140400,
          205300,
          184700,
          175100,
          140250,
          116150,
          99050,
          145000,
          130000,
          112900,
          90320,
          85000,
          75000,
          214000,
          192600,
          266400,
          213120,
          155000,
          115000,
          141300,
          102100,
          115934,
          81666,
          206699,
          99100,
          130000,
          110500,
          61566,
          43096,
          80000,
          60000,
          192564,
          144854,
          230000,
          150000,
          150260,
          109280,
          170000,
          150000,
          160000,
          130000,
          67000,
          52000,
          154000,
          126000,
          129000,
          99000,
          210000,
          140000,
          210000,
          140000,
          210000,
          140000,
          100000,
          69000,
          210000,
          140000,
          150075,
          110925,
          100000,
          25000,
          126500,
          106260,
          220110,
          160080,
          105000,
          100000,
          170000,
          135000,
          230000,
          140000,
          135000,
          50000,
          220000,
          140000,
          172386,
          86193,
          220000,
          120000,
          200000,
          120000,
          120000,
          65000,
          324000,
          216000,
          210000,
          100000,
          185100,
          104890,
          105000,
          80000,
          76814,
          192037,
          120000,
          17805,
          30523,
          55685,
          52533,
          17805,
          75000,
          157000,
          69133,
          65000,
          68293,
          67597,
          10000,
          20000,
          200000,
          51081,
          78000,
          135000,
          115000,
          83864,
          40000,
          31520,
          59888,
          89306,
          83171,
          165000,
          153000,
          100000,
          76814,
          33609,
          75000,
          30469,
          55475,
          61989,
          152500,
          120000,
          135000,
          405000,
          380000,
          120402,
          177000,
          65141,
          48000,
          20000,
          150000,
          100000,
          100000,
          144000,
          155499,
          100000,
          120000,
          84053,
          125000,
          21013
         ],
         "y0": " ",
         "yaxis": "y"
        },
        {
         "alignmentgroup": "True",
         "hovertemplate": "Work Year=2020<br>Remote Ratio=%{x}<br>Salary (USD)=%{y}<extra></extra>",
         "legendgroup": "2020",
         "marker": {
          "color": "#00cc96"
         },
         "name": "2020",
         "notched": false,
         "offsetgroup": "2020",
         "orientation": "v",
         "showlegend": true,
         "type": "box",
         "x": [
          0,
          0,
          100,
          100,
          100,
          0,
          50,
          100,
          0,
          100,
          100,
          100,
          0,
          50,
          50,
          100,
          50,
          100,
          100,
          100,
          50,
          0,
          100,
          50,
          100,
          100,
          100,
          100,
          50,
          0,
          0,
          100,
          50,
          0,
          0,
          50,
          0,
          50,
          100,
          100,
          50,
          100,
          50,
          0,
          0,
          0,
          100,
          100,
          50,
          100,
          100,
          50,
          100,
          100,
          50,
          0,
          100,
          50,
          50,
          50,
          50,
          100,
          50,
          100,
          100,
          100,
          0,
          50,
          100,
          100,
          100,
          100,
          100,
          100,
          100,
          100
         ],
         "x0": " ",
         "xaxis": "x",
         "y": [
          15000,
          95000,
          13493,
          13493,
          22809,
          49268,
          117104,
          54742,
          20000,
          59303,
          70000,
          68428,
          450000,
          46759,
          74130,
          103000,
          250000,
          10000,
          138000,
          45760,
          79833,
          50180,
          106000,
          112872,
          15966,
          76958,
          188000,
          105000,
          70139,
          6072,
          33511,
          91000,
          42000,
          115000,
          260000,
          109024,
          79833,
          150000,
          72000,
          190000,
          35735,
          135000,
          125000,
          51321,
          40481,
          39916,
          87000,
          85000,
          8000,
          41689,
          114047,
          5707,
          56000,
          6072,
          47899,
          98000,
          325000,
          45896,
          42197,
          62726,
          21669,
          110000,
          120000,
          60000,
          148261,
          38776,
          91237,
          62726,
          190200,
          118000,
          138350,
          130800,
          45618,
          412000,
          105000,
          100000
         ],
         "y0": " ",
         "yaxis": "y"
        },
        {
         "alignmentgroup": "True",
         "hovertemplate": "Work Year=2021<br>Remote Ratio=%{x}<br>Salary (USD)=%{y}<extra></extra>",
         "legendgroup": "2021",
         "marker": {
          "color": "#ab63fa"
         },
         "name": "2021",
         "notched": false,
         "offsetgroup": "2021",
         "orientation": "v",
         "showlegend": true,
         "type": "box",
         "x": [
          100,
          0,
          50,
          100,
          50,
          100,
          0,
          50,
          50,
          50,
          50,
          50,
          100,
          50,
          50,
          100,
          100,
          50,
          50,
          50,
          100,
          50,
          0,
          0,
          100,
          100,
          0,
          50,
          50,
          100,
          0,
          100,
          100,
          100,
          50,
          50,
          100,
          0,
          50,
          50,
          0,
          100,
          100,
          50,
          100,
          50,
          100,
          50,
          50,
          100,
          100,
          100,
          50,
          0,
          100,
          50,
          50,
          0,
          50,
          100,
          100,
          50,
          100,
          100,
          100,
          100,
          100,
          100,
          100,
          100,
          100,
          100,
          50,
          100,
          50,
          100,
          100,
          100,
          100,
          50,
          50,
          100,
          100,
          100,
          100,
          100,
          100,
          50,
          100,
          100,
          100,
          100,
          100,
          100,
          100,
          50,
          100,
          100,
          100,
          100,
          50,
          50,
          100,
          100,
          100,
          50,
          50,
          0,
          100,
          100,
          100,
          100,
          100,
          50,
          100,
          100,
          50,
          0,
          50,
          50,
          50,
          100,
          100,
          100,
          50,
          100,
          0,
          100,
          100,
          100,
          100,
          100,
          100,
          50,
          100,
          0,
          100,
          50,
          100,
          50,
          100,
          50,
          100,
          0,
          100,
          50,
          100,
          0,
          0,
          50,
          100,
          0,
          100,
          50,
          0,
          100,
          100,
          0,
          50,
          50,
          100,
          100,
          50,
          50,
          100,
          50,
          100,
          100,
          0,
          50,
          0,
          100,
          50,
          100,
          100,
          50,
          100,
          100,
          100,
          100,
          50,
          0,
          50,
          100,
          100,
          50,
          50,
          50,
          50,
          50,
          0,
          0,
          100,
          100,
          100,
          100,
          0,
          0,
          0,
          100,
          50,
          100,
          100,
          50,
          50,
          50,
          50,
          100,
          0,
          50,
          0,
          100,
          100,
          100,
          100,
          50,
          100,
          100,
          100,
          0,
          0,
          0,
          100,
          0,
          100,
          50,
          50,
          100,
          100,
          50
         ],
         "x0": " ",
         "xaxis": "x",
         "y": [
          150000,
          30000,
          66970,
          54094,
          16904,
          115000,
          20000,
          45555,
          5409,
          75050,
          42028,
          20000,
          15000,
          45390,
          19073,
          50000,
          12171,
          250000,
          51064,
          109000,
          102839,
          69999,
          150000,
          240000,
          135000,
          80000,
          220000,
          77364,
          63711,
          90000,
          100000,
          24000,
          38400,
          82500,
          49646,
          40570,
          20000,
          9466,
          120000,
          10354,
          110037,
          50000,
          200000,
          60000,
          200000,
          100000,
          100000,
          82744,
          62649,
          82528,
          170000,
          150000,
          55000,
          250000,
          80000,
          130026,
          63831,
          85000,
          230000,
          125000,
          120000,
          127221,
          144000,
          13400,
          75774,
          150000,
          153000,
          90000,
          90000,
          60000,
          50000,
          12000,
          5409,
          270000,
          54238,
          47282,
          153667,
          28476,
          110000,
          82528,
          59102,
          80000,
          140000,
          79197,
          170000,
          80000,
          100000,
          53192,
          235000,
          150000,
          225000,
          76833,
          88654,
          103160,
          113476,
          94564,
          30428,
          150000,
          115000,
          187442,
          51519,
          36259,
          150000,
          95746,
          70000,
          89294,
          29751,
          276000,
          160000,
          200000,
          174000,
          93000,
          28399,
          60757,
          90000,
          170000,
          96282,
          12103,
          36643,
          72212,
          99703,
          165000,
          80000,
          103691,
          21637,
          63810,
          110000,
          180000,
          200000,
          200000,
          256000,
          110000,
          72500,
          185000,
          69741,
          100000,
          112000,
          20171,
          55000,
          58000,
          100000,
          77684,
          85000,
          76833,
          105000,
          65013,
          28016,
          111775,
          93150,
          160000,
          25532,
          66265,
          16904,
          63831,
          141846,
          16228,
          71786,
          135000,
          24823,
          54094,
          24342,
          9272,
          147000,
          96113,
          174000,
          21844,
          69741,
          50000,
          26005,
          90734,
          22611,
          5679,
          81000,
          40038,
          90000,
          61467,
          195000,
          37825,
          416000,
          225000,
          56256,
          33808,
          116914,
          46597,
          88654,
          28609,
          88654,
          66022,
          56738,
          24823,
          120000,
          20000,
          200000,
          160000,
          50000,
          40189,
          12901,
          165000,
          5882,
          185000,
          90734,
          140000,
          87738,
          61896,
          12000,
          76833,
          74000,
          152000,
          18000,
          130000,
          18907,
          59102,
          173762,
          46809,
          18053,
          115000,
          235000,
          19609,
          12000,
          75000,
          62000,
          73000,
          45391,
          168000,
          119059,
          423000,
          28369,
          165000,
          151000,
          94665
         ],
         "y0": " ",
         "yaxis": "y"
        }
       ],
       "layout": {
        "boxmode": "group",
        "height": 500,
        "legend": {
         "title": {
          "text": "Work Year"
         },
         "tracegroupgap": 0
        },
        "template": {
         "data": {
          "bar": [
           {
            "error_x": {
             "color": "#2a3f5f"
            },
            "error_y": {
             "color": "#2a3f5f"
            },
            "marker": {
             "line": {
              "color": "#E5ECF6",
              "width": 0.5
             },
             "pattern": {
              "fillmode": "overlay",
              "size": 10,
              "solidity": 0.2
             }
            },
            "type": "bar"
           }
          ],
          "barpolar": [
           {
            "marker": {
             "line": {
              "color": "#E5ECF6",
              "width": 0.5
             },
             "pattern": {
              "fillmode": "overlay",
              "size": 10,
              "solidity": 0.2
             }
            },
            "type": "barpolar"
           }
          ],
          "carpet": [
           {
            "aaxis": {
             "endlinecolor": "#2a3f5f",
             "gridcolor": "white",
             "linecolor": "white",
             "minorgridcolor": "white",
             "startlinecolor": "#2a3f5f"
            },
            "baxis": {
             "endlinecolor": "#2a3f5f",
             "gridcolor": "white",
             "linecolor": "white",
             "minorgridcolor": "white",
             "startlinecolor": "#2a3f5f"
            },
            "type": "carpet"
           }
          ],
          "choropleth": [
           {
            "colorbar": {
             "outlinewidth": 0,
             "ticks": ""
            },
            "type": "choropleth"
           }
          ],
          "contour": [
           {
            "colorbar": {
             "outlinewidth": 0,
             "ticks": ""
            },
            "colorscale": [
             [
              0,
              "#0d0887"
             ],
             [
              0.1111111111111111,
              "#46039f"
             ],
             [
              0.2222222222222222,
              "#7201a8"
             ],
             [
              0.3333333333333333,
              "#9c179e"
             ],
             [
              0.4444444444444444,
              "#bd3786"
             ],
             [
              0.5555555555555556,
              "#d8576b"
             ],
             [
              0.6666666666666666,
              "#ed7953"
             ],
             [
              0.7777777777777778,
              "#fb9f3a"
             ],
             [
              0.8888888888888888,
              "#fdca26"
             ],
             [
              1,
              "#f0f921"
             ]
            ],
            "type": "contour"
           }
          ],
          "contourcarpet": [
           {
            "colorbar": {
             "outlinewidth": 0,
             "ticks": ""
            },
            "type": "contourcarpet"
           }
          ],
          "heatmap": [
           {
            "colorbar": {
             "outlinewidth": 0,
             "ticks": ""
            },
            "colorscale": [
             [
              0,
              "#0d0887"
             ],
             [
              0.1111111111111111,
              "#46039f"
             ],
             [
              0.2222222222222222,
              "#7201a8"
             ],
             [
              0.3333333333333333,
              "#9c179e"
             ],
             [
              0.4444444444444444,
              "#bd3786"
             ],
             [
              0.5555555555555556,
              "#d8576b"
             ],
             [
              0.6666666666666666,
              "#ed7953"
             ],
             [
              0.7777777777777778,
              "#fb9f3a"
             ],
             [
              0.8888888888888888,
              "#fdca26"
             ],
             [
              1,
              "#f0f921"
             ]
            ],
            "type": "heatmap"
           }
          ],
          "heatmapgl": [
           {
            "colorbar": {
             "outlinewidth": 0,
             "ticks": ""
            },
            "colorscale": [
             [
              0,
              "#0d0887"
             ],
             [
              0.1111111111111111,
              "#46039f"
             ],
             [
              0.2222222222222222,
              "#7201a8"
             ],
             [
              0.3333333333333333,
              "#9c179e"
             ],
             [
              0.4444444444444444,
              "#bd3786"
             ],
             [
              0.5555555555555556,
              "#d8576b"
             ],
             [
              0.6666666666666666,
              "#ed7953"
             ],
             [
              0.7777777777777778,
              "#fb9f3a"
             ],
             [
              0.8888888888888888,
              "#fdca26"
             ],
             [
              1,
              "#f0f921"
             ]
            ],
            "type": "heatmapgl"
           }
          ],
          "histogram": [
           {
            "marker": {
             "pattern": {
              "fillmode": "overlay",
              "size": 10,
              "solidity": 0.2
             }
            },
            "type": "histogram"
           }
          ],
          "histogram2d": [
           {
            "colorbar": {
             "outlinewidth": 0,
             "ticks": ""
            },
            "colorscale": [
             [
              0,
              "#0d0887"
             ],
             [
              0.1111111111111111,
              "#46039f"
             ],
             [
              0.2222222222222222,
              "#7201a8"
             ],
             [
              0.3333333333333333,
              "#9c179e"
             ],
             [
              0.4444444444444444,
              "#bd3786"
             ],
             [
              0.5555555555555556,
              "#d8576b"
             ],
             [
              0.6666666666666666,
              "#ed7953"
             ],
             [
              0.7777777777777778,
              "#fb9f3a"
             ],
             [
              0.8888888888888888,
              "#fdca26"
             ],
             [
              1,
              "#f0f921"
             ]
            ],
            "type": "histogram2d"
           }
          ],
          "histogram2dcontour": [
           {
            "colorbar": {
             "outlinewidth": 0,
             "ticks": ""
            },
            "colorscale": [
             [
              0,
              "#0d0887"
             ],
             [
              0.1111111111111111,
              "#46039f"
             ],
             [
              0.2222222222222222,
              "#7201a8"
             ],
             [
              0.3333333333333333,
              "#9c179e"
             ],
             [
              0.4444444444444444,
              "#bd3786"
             ],
             [
              0.5555555555555556,
              "#d8576b"
             ],
             [
              0.6666666666666666,
              "#ed7953"
             ],
             [
              0.7777777777777778,
              "#fb9f3a"
             ],
             [
              0.8888888888888888,
              "#fdca26"
             ],
             [
              1,
              "#f0f921"
             ]
            ],
            "type": "histogram2dcontour"
           }
          ],
          "mesh3d": [
           {
            "colorbar": {
             "outlinewidth": 0,
             "ticks": ""
            },
            "type": "mesh3d"
           }
          ],
          "parcoords": [
           {
            "line": {
             "colorbar": {
              "outlinewidth": 0,
              "ticks": ""
             }
            },
            "type": "parcoords"
           }
          ],
          "pie": [
           {
            "automargin": true,
            "type": "pie"
           }
          ],
          "scatter": [
           {
            "fillpattern": {
             "fillmode": "overlay",
             "size": 10,
             "solidity": 0.2
            },
            "type": "scatter"
           }
          ],
          "scatter3d": [
           {
            "line": {
             "colorbar": {
              "outlinewidth": 0,
              "ticks": ""
             }
            },
            "marker": {
             "colorbar": {
              "outlinewidth": 0,
              "ticks": ""
             }
            },
            "type": "scatter3d"
           }
          ],
          "scattercarpet": [
           {
            "marker": {
             "colorbar": {
              "outlinewidth": 0,
              "ticks": ""
             }
            },
            "type": "scattercarpet"
           }
          ],
          "scattergeo": [
           {
            "marker": {
             "colorbar": {
              "outlinewidth": 0,
              "ticks": ""
             }
            },
            "type": "scattergeo"
           }
          ],
          "scattergl": [
           {
            "marker": {
             "colorbar": {
              "outlinewidth": 0,
              "ticks": ""
             }
            },
            "type": "scattergl"
           }
          ],
          "scattermapbox": [
           {
            "marker": {
             "colorbar": {
              "outlinewidth": 0,
              "ticks": ""
             }
            },
            "type": "scattermapbox"
           }
          ],
          "scatterpolar": [
           {
            "marker": {
             "colorbar": {
              "outlinewidth": 0,
              "ticks": ""
             }
            },
            "type": "scatterpolar"
           }
          ],
          "scatterpolargl": [
           {
            "marker": {
             "colorbar": {
              "outlinewidth": 0,
              "ticks": ""
             }
            },
            "type": "scatterpolargl"
           }
          ],
          "scatterternary": [
           {
            "marker": {
             "colorbar": {
              "outlinewidth": 0,
              "ticks": ""
             }
            },
            "type": "scatterternary"
           }
          ],
          "surface": [
           {
            "colorbar": {
             "outlinewidth": 0,
             "ticks": ""
            },
            "colorscale": [
             [
              0,
              "#0d0887"
             ],
             [
              0.1111111111111111,
              "#46039f"
             ],
             [
              0.2222222222222222,
              "#7201a8"
             ],
             [
              0.3333333333333333,
              "#9c179e"
             ],
             [
              0.4444444444444444,
              "#bd3786"
             ],
             [
              0.5555555555555556,
              "#d8576b"
             ],
             [
              0.6666666666666666,
              "#ed7953"
             ],
             [
              0.7777777777777778,
              "#fb9f3a"
             ],
             [
              0.8888888888888888,
              "#fdca26"
             ],
             [
              1,
              "#f0f921"
             ]
            ],
            "type": "surface"
           }
          ],
          "table": [
           {
            "cells": {
             "fill": {
              "color": "#EBF0F8"
             },
             "line": {
              "color": "white"
             }
            },
            "header": {
             "fill": {
              "color": "#C8D4E3"
             },
             "line": {
              "color": "white"
             }
            },
            "type": "table"
           }
          ]
         },
         "layout": {
          "annotationdefaults": {
           "arrowcolor": "#2a3f5f",
           "arrowhead": 0,
           "arrowwidth": 1
          },
          "autotypenumbers": "strict",
          "coloraxis": {
           "colorbar": {
            "outlinewidth": 0,
            "ticks": ""
           }
          },
          "colorscale": {
           "diverging": [
            [
             0,
             "#8e0152"
            ],
            [
             0.1,
             "#c51b7d"
            ],
            [
             0.2,
             "#de77ae"
            ],
            [
             0.3,
             "#f1b6da"
            ],
            [
             0.4,
             "#fde0ef"
            ],
            [
             0.5,
             "#f7f7f7"
            ],
            [
             0.6,
             "#e6f5d0"
            ],
            [
             0.7,
             "#b8e186"
            ],
            [
             0.8,
             "#7fbc41"
            ],
            [
             0.9,
             "#4d9221"
            ],
            [
             1,
             "#276419"
            ]
           ],
           "sequential": [
            [
             0,
             "#0d0887"
            ],
            [
             0.1111111111111111,
             "#46039f"
            ],
            [
             0.2222222222222222,
             "#7201a8"
            ],
            [
             0.3333333333333333,
             "#9c179e"
            ],
            [
             0.4444444444444444,
             "#bd3786"
            ],
            [
             0.5555555555555556,
             "#d8576b"
            ],
            [
             0.6666666666666666,
             "#ed7953"
            ],
            [
             0.7777777777777778,
             "#fb9f3a"
            ],
            [
             0.8888888888888888,
             "#fdca26"
            ],
            [
             1,
             "#f0f921"
            ]
           ],
           "sequentialminus": [
            [
             0,
             "#0d0887"
            ],
            [
             0.1111111111111111,
             "#46039f"
            ],
            [
             0.2222222222222222,
             "#7201a8"
            ],
            [
             0.3333333333333333,
             "#9c179e"
            ],
            [
             0.4444444444444444,
             "#bd3786"
            ],
            [
             0.5555555555555556,
             "#d8576b"
            ],
            [
             0.6666666666666666,
             "#ed7953"
            ],
            [
             0.7777777777777778,
             "#fb9f3a"
            ],
            [
             0.8888888888888888,
             "#fdca26"
            ],
            [
             1,
             "#f0f921"
            ]
           ]
          },
          "colorway": [
           "#636efa",
           "#EF553B",
           "#00cc96",
           "#ab63fa",
           "#FFA15A",
           "#19d3f3",
           "#FF6692",
           "#B6E880",
           "#FF97FF",
           "#FECB52"
          ],
          "font": {
           "color": "#2a3f5f"
          },
          "geo": {
           "bgcolor": "white",
           "lakecolor": "white",
           "landcolor": "#E5ECF6",
           "showlakes": true,
           "showland": true,
           "subunitcolor": "white"
          },
          "hoverlabel": {
           "align": "left"
          },
          "hovermode": "closest",
          "mapbox": {
           "style": "light"
          },
          "paper_bgcolor": "white",
          "plot_bgcolor": "#E5ECF6",
          "polar": {
           "angularaxis": {
            "gridcolor": "white",
            "linecolor": "white",
            "ticks": ""
           },
           "bgcolor": "#E5ECF6",
           "radialaxis": {
            "gridcolor": "white",
            "linecolor": "white",
            "ticks": ""
           }
          },
          "scene": {
           "xaxis": {
            "backgroundcolor": "#E5ECF6",
            "gridcolor": "white",
            "gridwidth": 2,
            "linecolor": "white",
            "showbackground": true,
            "ticks": "",
            "zerolinecolor": "white"
           },
           "yaxis": {
            "backgroundcolor": "#E5ECF6",
            "gridcolor": "white",
            "gridwidth": 2,
            "linecolor": "white",
            "showbackground": true,
            "ticks": "",
            "zerolinecolor": "white"
           },
           "zaxis": {
            "backgroundcolor": "#E5ECF6",
            "gridcolor": "white",
            "gridwidth": 2,
            "linecolor": "white",
            "showbackground": true,
            "ticks": "",
            "zerolinecolor": "white"
           }
          },
          "shapedefaults": {
           "line": {
            "color": "#2a3f5f"
           }
          },
          "ternary": {
           "aaxis": {
            "gridcolor": "white",
            "linecolor": "white",
            "ticks": ""
           },
           "baxis": {
            "gridcolor": "white",
            "linecolor": "white",
            "ticks": ""
           },
           "bgcolor": "#E5ECF6",
           "caxis": {
            "gridcolor": "white",
            "linecolor": "white",
            "ticks": ""
           }
          },
          "title": {
           "x": 0.05
          },
          "xaxis": {
           "automargin": true,
           "gridcolor": "white",
           "linecolor": "white",
           "ticks": "",
           "title": {
            "standoff": 15
           },
           "zerolinecolor": "white",
           "zerolinewidth": 2
          },
          "yaxis": {
           "automargin": true,
           "gridcolor": "white",
           "linecolor": "white",
           "ticks": "",
           "title": {
            "standoff": 15
           },
           "zerolinecolor": "white",
           "zerolinewidth": 2
          }
         }
        },
        "title": {
         "text": "Remote Ratio vs Salary by Work Year"
        },
        "xaxis": {
         "anchor": "y",
         "domain": [
          0,
          1
         ],
         "title": {
          "text": "Remote Ratio"
         }
        },
        "yaxis": {
         "anchor": "x",
         "domain": [
          0,
          1
         ],
         "title": {
          "text": "Salary (USD)"
         }
        }
       }
      },
      "text/html": [
       "<div>                            <div id=\"49cc29b1-4a59-4eae-a24b-17fbb011e9d0\" class=\"plotly-graph-div\" style=\"height:500px; width:100%;\"></div>            <script type=\"text/javascript\">                require([\"plotly\"], function(Plotly) {                    window.PLOTLYENV=window.PLOTLYENV || {};                                    if (document.getElementById(\"49cc29b1-4a59-4eae-a24b-17fbb011e9d0\")) {                    Plotly.newPlot(                        \"49cc29b1-4a59-4eae-a24b-17fbb011e9d0\",                        [{\"alignmentgroup\":\"True\",\"hovertemplate\":\"Work Year=2023<br>Remote Ratio=%{x}<br>Salary (USD)=%{y}<extra></extra>\",\"legendgroup\":\"2023\",\"marker\":{\"color\":\"#636efa\"},\"name\":\"2023\",\"notched\":false,\"offsetgroup\":\"2023\",\"orientation\":\"v\",\"showlegend\":true,\"x\":[100,100,100,100,100,0,0,0,0,0,0,100,100,0,0,0,0,0,0,100,100,0,0,100,100,0,0,0,0,0,0,0,0,0,0,0,0,0,0,100,100,0,0,0,0,100,100,100,100,100,100,100,100,100,100,0,0,0,0,100,100,100,100,0,0,100,100,0,0,0,0,100,100,0,0,100,100,100,100,0,100,100,100,0,0,100,100,0,0,0,0,0,0,0,0,100,100,0,0,0,0,0,0,0,0,0,0,0,0,0,0,50,0,0,0,0,0,0,100,100,0,0,0,0,0,0,0,0,100,100,0,0,100,100,0,0,100,100,0,0,0,0,100,100,100,100,0,0,0,0,100,100,50,100,0,0,0,0,0,0,0,0,0,0,0,0,100,100,0,0,0,0,100,100,0,0,100,100,0,0,100,100,100,100,0,0,0,0,0,0,0,0,0,0,100,100,100,100,50,0,0,0,0,100,100,0,0,0,0,0,0,100,100,100,100,0,0,0,0,0,0,0,0,0,0,0,0,0,0,0,100,0,0,0,0,0,0,0,0,0,0,0,0,100,100,0,0,0,0,0,0,0,0,100,100,100,100,0,0,0,0,0,0,100,100,100,100,0,0,0,0,0,0,100,100,100,100,100,100,0,0,100,100,0,0,100,100,0,0,0,0,100,100,0,0,0,0,100,100,0,0,0,0,100,100,0,0,100,100,0,0,100,100,0,0,0,0,0,50,100,100,100,0,0,0,0,0,0,100,100,100,100,100,100,0,0,0,0,100,100,100,100,0,0,0,0,0,0,0,0,100,100,100,100,100,0,0,100,100,0,0,0,0,0,0,0,0,0,0,100,100,0,0,0,0,0,0,0,0,100,100,100,100,0,0,0,100,0,0,0,0,0,0,100,100,0,0,0,0,0,0,0,0,0,0,0,0,0,0,100,100,100,100,0,0,0,0,0,0,100,100,0,0,100,100,0,0,0,0,100,100,0,0,0,0,0,0,0,0,100,100,100,100,0,0,0,0,0,0,0,0,100,100,100,100,0,0,0,0,0,0,0,0,0,0,100,100,100,100,0,0,0,0,0,0,100,100,100,100,100,100,0,0,0,0,0,0,0,100,100,0,0,0,0,0,0,0,0,0,0,0,0,0,0,0,0,0,0,0,0,100,100,100,100,100,100,0,0,0,0,50,0,100,100,100,100,0,0,0,0,0,0,0,0,100,100,0,0,0,0,0,0,100,100,0,0,0,0,100,100,0,0,0,0,0,0,0,0,100,100,0,0,0,0,100,100,0,50,100,100,0,0,0,0,0,0,0,0,0,0,0,0,0,0,50,100,100,100,100,100,100,0,0,100,100,100,100,100,0,0,100,100,100,100,0,0,0,0,0,0,100,100,100,100,0,0,0,0,0,0,0,0,0,0,0,0,100,100,0,0,0,0,100,100,100,100,100,100,0,0,100,100,0,0,100,100,0,0,0,0,100,100,100,100,0,0,100,100,0,0,100,100,0,0,0,0,100,100,0,0,100,100,0,0,0,0,0,0,0,0,0,0,0,0,0,0,0,0,0,0,0,0,0,0,0,0,100,100,0,0,0,0,100,100,100,0,0,100,100,0,0,100,100,0,0,100,100,100,100,0,0,100,100,100,0,0,100,0,50,50,0,0,0,0,0,0,100,100,0,0,0,0,100,100,0,0,100,100,0,0,100,100,0,0,100,100,0,0,100,100,0,0,0,0,0,0,0,0,100,100,100,100,0,0,0,0,0,0,0,0,0,0,0,0,0,0,0,0,100,100,100,100,100,100,0,0,0,0,0,0,0,0,0,100,100,0,0,100,100,100,100,0,0,100,100,100,100,0,0,0,0,0,0,0,0,100,100,100,0,0,0,0,100,100,100,100,0,0,0,0,50,0,0,0,0,50,100,0,0,100,100,0,0,0,0,0,0,0,0,0,0,0,0,0,0,0,0,0,0,0,0,0,0,0,0,0,0,100,100,0,0,0,0,100,100,100,100,0,0,0,0,0,0,0,0,0,0,0,0,100,100,0,0,0,0,100,100,0,0,100,100,0,0,0,0,100,100,0,0,100,100,0,0,0,0,100,100,0,0,0,0,0,0,100,100,0,0,0,0,0,0,0,0,0,0,0,0,0,0,100,100,0,0,0,0,0,0,50,0,0,100,100,100,100,100,100,100,100,100,0,100,0,0,0,100,0,0,0,0,0,0,0,0,50,50,0,0,100,100,0,0,0,0,100,100,0,0,0,0,0,0,0,0,0,0,0,0,100,100,0,0,0,0,0,0,100,100,0,0,0,0,0,0,0,0,0,0,0,0,100,100,0,0,0,0,0,0,0,0,0,0,0,0,0,0,0,0,0,0,100,100,0,0,0,50,0,0,0,0,0,0,100,100,0,0,0,0,100,100,0,0,100,100,0,0,100,100,100,100,0,0,0,0,0,0,0,0,0,0,0,0,100,100,100,0,0,0,0,100,100,0,0,100,100,100,100,100,100,0,0,100,100,100,100,0,0,100,100,0,0,0,0,0,0,0,0,0,0,0,0,0,0,100,100,0,0,100,100,100,100,0,0,100,100,100,100,0,0,100,100,0,0,0,0,0,0,0,0,100,100,0,0,0,0,100,100,0,0,100,100,100,100,0,0,0,0,100,100,100,100,100,100,0,0,100,100,0,0,100,100,100,0,0,0,0,0,0,100,100,100,100,0,0,100,100,100,50,0,0,0,0,100,0,0,0,100,100,100,100,0,0,0,0,100,100,0,0,100,100,0,0,0,0,0,0,0,0,100,100,0,100,100,0,0,0,0,100,100,100,100,100,100,0,0,100,100,0,0,0,0,0,0,50,0,0,100,100,100,100,0,0,100,100,100,100,0,0,100,100,0,0,100,100,100,100,100,100,0,0,100,0,0,0,0,100,100,0,0,0,0,0,0,100,50,0,0,100,100,0,0,100,100,0,0,0,0,100,100,100,100,50,50,50,0,0,0,0,100,0,0,100,100,0,0,0,0,0,0,100,100,0,0,0,0,0,0,0,0,0,0,0,0,100,100,0,0,0,0,0,0,0,0,0,0,0,0,100,100,100,0,0,0,0,0,0,0,0,0,0,100,100,0,0,0,0,0,0,0,0,0,0,100,0,0,0,0,0,0,0,0,0,0,0,0,0,0,100,100,100,100,100,100,0,0,100,100,0,0,0,0,0,0,50,100,100,100,100,0,0,100,100,100,100,100,100,0,0,100,100,50,100,0,0,0,0,0,0,100,100,100,100,100,100,0,0,100,100,0,0,0,0,0,100,100,100,100,100,100,0,0,0,0,0,0,0,0,100,100,0,0,100,100,0,0,0,0,100,100,50,0,0,100,100,0,0,100,100,0,0,0,0,0,0,50,0,0,0,0,0,0,0,0,0,0,100,100,0,0,0,0,100,100,50,50,0,0,0,0,0,0,100,100,0,0,0,0,50,0,0,0,0,0,0,100,100,100,100,100,100,100,100,100,100,0,0,0,0,100,100,0,0,0,0,0,0,0,0,0,0,50,0,0,0,0,0,0,0,0,0,0,0,0,0,0,100,100,100,100,0,0,0,0,0,0,0,0,100,100,0,0,0,0,100,100,100,0,0,0,0,100,100,0,0,0,0,0,0,100,100,0,0,0,0,0,0,100,100,0,0,0,0,0,0,0,0,100,100,100,100,0,0,0,0,0,0,100,100,100,100,100,100,100,100,100,100,50,100,100,100,100,0,0,0,0,0,0,0,0,100,100,100,100,0,0,0,0,0,0,0,100,100,0,0,100,100,0,0,100,100,0,0,0,0,0,0,0,0,0,0,100,100,0,0,0,0,100,100,0,0,100,100,0,0,0,0,0,0,0,0,0,0,0,0,0,0,0,0,0,0,0,0,0,0,0,0,100,100,0,0,100,100,0,0,0,0,0,0,100,100,0,0,0,0,0,0,0,0,0,0,0,0,0,0,100,100,0,0,100,100,100,100,100,100,100,100,100,100,0,0,0,0,0,0,0,0],\"x0\":\" \",\"xaxis\":\"x\",\"y\":[85847,30000,25500,175000,120000,222200,136000,219000,141000,147100,90700,130000,100000,213660,130760,147100,90700,170000,150000,150000,110000,275000,174000,230000,143200,225000,156400,200000,130000,90000,72000,253200,90700,342810,184590,162500,130000,105380,64500,100000,30000,204620,110680,270703,221484,212750,185000,262000,245000,275300,183500,218500,199098,203300,123600,189110,139000,258750,185000,231500,166000,172500,110500,238000,176000,237000,201450,309400,159100,115000,81500,237000,201450,280000,210000,280100,168100,193500,139000,65062,150000,69751,96578,185900,129300,225000,175000,185000,140000,48289,38631,105000,70000,163196,145885,217000,185000,202800,104300,145000,65000,165000,132300,179170,94300,152500,116450,247300,133800,203000,133000,220000,150000,120000,289800,214000,179820,143860,283200,188800,289800,214200,185900,129300,252000,129000,155000,140000,161800,141600,342300,176100,100000,70000,85000,65000,138784,83270,75000,70000,204500,138900,318300,212200,95000,75000,195000,160000,230000,143200,100000,70000,105000,20670,46178,42533,145000,115000,168400,105200,309400,159100,190000,150000,162500,130000,150000,120000,145000,120000,222200,136000,54685,42533,241000,155000,220000,190000,66837,54685,85066,57723,85000,75000,160000,140000,300000,250000,228000,186000,190000,170000,230000,200000,180000,115000,200000,115000,53654,220000,205000,180000,130000,200000,150000,215000,170000,247500,172200,224000,176000,120000,75000,17022,68318,75020,140000,120000,128000,81500,145000,115000,185000,140000,329500,269600,100000,80000,250000,162500,200000,145000,100000,145000,115000,203500,152000,239000,122900,237000,145000,191765,134236,190000,112000,85000,65000,135000,105500,293000,185000,80000,70000,220000,160000,175000,145000,200000,148500,48289,38631,240500,123700,152900,117100,173000,113000,260000,136000,175000,110000,260000,136000,130000,110000,205000,184000,149500,127075,195000,160000,219535,146115,170000,135000,175000,145000,199000,162000,222200,136000,221000,153000,187000,128000,210000,136000,175000,100000,179000,109000,245000,180000,142000,75000,198800,105200,125000,112000,210000,155000,115000,86000,165000,140000,139000,106000,40663,50000,280700,150450,51753,250500,159500,145000,115000,140000,120000,130001,71907,93918,51962,175000,135000,85000,65000,257000,147000,222000,175000,203000,133200,213660,130760,221000,147000,100000,80000,185900,129300,238000,156000,304000,199000,48289,150000,130000,140000,110000,90000,75000,195895,102772,240000,183600,130000,80000,250000,150000,160000,120000,289076,202353,145000,120000,155000,106000,200000,160000,157750,104650,180000,140000,200000,145000,68000,60000,48289,38631,85000,65000,125000,90000,105000,90000,179820,143860,135000,105500,155000,125000,241000,181000,252000,154000,180000,155000,191765,134236,175000,145000,237000,145000,155000,125000,80000,70000,146000,75000,64200,56100,170000,130000,208450,170550,125000,100000,135000,120000,200000,170000,171250,113750,222200,136000,260000,136000,153600,100500,205000,184000,115000,95000,182500,121500,203100,114500,72914,54685,252000,129000,92700,61800,160000,130000,258000,190000,170000,135000,167500,106500,195000,160000,146000,75000,286000,207000,100000,80000,223250,178600,353200,249300,230000,220000,297300,198200,210000,151800,200000,170000,317070,170730,128000,81500,21461,108000,60000,134000,124000,171250,113750,165000,132300,225000,175000,230000,124500,247500,172200,175000,145000,148700,125600,145000,115000,200000,150000,160000,120000,185000,120250,275300,183000,170000,125000,167500,106500,250000,200000,135000,423834,216000,184000,180000,165000,185900,129300,145000,120000,143865,115092,130000,90000,173000,132000,208049,128500,179820,143860,167500,106500,275300,183500,149600,102000,145000,100000,190000,95000,153600,106800,96578,80481,128000,85000,151000,140000,275300,183500,220000,170000,135000,105500,100000,80000,7000,42923,160000,145000,154000,143000,78990,51039,190000,120000,85066,51039,109371,72914,150000,111000,265000,235000,121093,160000,130000,75000,60400,85000,75000,252000,129000,92700,61800,60093,83500,52500,201036,134024,165000,140000,62000,58000,172000,115000,125000,90000,163800,126000,237000,145000,90000,90000,139500,109400,258000,190000,145000,120000,205600,105700,252000,129000,239748,159832,186300,102500,165000,132300,190000,126000,149040,113900,153600,106800,172600,107900,180180,106020,376080,213120,153600,100500,206500,121600,260000,225000,194500,115500,170000,90000,95000,70000,275000,160000,115934,81666,175000,120000,150000,120000,200000,175000,206000,130000,138000,92000,65000,48000,110000,75000,130000,87000,160000,112000,162500,130000,299500,245100,145000,100000,147100,90700,115100,73900,168400,105200,210000,160000,145000,100000,222200,136000,100000,85000,85066,57723,200000,145000,140000,95000,185000,120250,130000,205000,140000,297300,198200,141288,94192,184000,143000,70000,55000,275300,183500,75000,65000,160000,147000,149040,113900,75020,180180,106020,17022,70000,80000,18238,250000,150000,139500,109400,105000,70000,210914,116704,150000,100000,146000,75000,75000,60000,185700,165000,160000,130000,169000,110600,193000,136850,139500,109400,276000,178500,59020,48289,75116,48289,195652,101228,136956,101228,252000,129000,163800,126000,260000,110000,170000,130000,247500,172200,239748,159832,163800,126000,128750,106250,252000,129000,299500,245100,155000,140000,167500,106500,188500,117000,250000,138000,130000,100000,123405,140000,120000,160000,135000,104500,70000,90000,70000,153600,106800,125000,90000,185000,125000,127000,94000,210550,153300,200000,150000,161500,119500,175000,145000,175000,148750,105000,85000,215000,146300,214618,72000,60000,153400,122700,260000,175000,186300,123900,340000,150000,153400,122700,250000,175000,64385,185900,121700,153600,106800,50000,100000,247500,172200,310000,239000,125000,110000,150000,100000,149076,82365,146000,75000,139500,109400,139500,109400,149600,102000,97218,48609,252000,129000,95000,85500,185900,121700,150000,100000,145000,125000,150000,97750,201000,122000,252000,129000,120000,75000,116990,82920,185900,129300,200000,125000,201000,122000,204500,142200,155000,140000,205920,171600,121500,78000,154000,116000,190000,136000,78990,43809,180000,110000,275300,183000,170000,140000,154000,116000,160000,130000,200000,120000,175000,160000,127599,103294,153600,106800,85000,75000,225000,156400,150000,120000,163800,126000,145000,90000,204500,142200,95000,85500,167500,106500,163800,126000,155000,140000,250000,200000,260000,186000,160000,130000,200000,150000,48289,38631,150000,120000,30000,185000,125000,75116,175000,130000,122000,93800,150000,90000,165000,112000,220000,71897,64385,204500,142200,15806,200000,175000,185900,129300,185900,121700,204500,142200,40000,29453,180180,106020,136000,104000,125000,110000,153400,122700,310000,239000,152380,121904,185900,129300,247500,172200,168400,105200,128280,106900,140000,100000,107309,85847,275000,174000,139500,109400,139500,109400,170500,85000,72946,54365,160288,127467,80000,65000,124740,65488,72200,64980,153600,106800,179975,86466,120000,90000,51039,42533,149076,82365,169000,110600,175000,120000,230000,180000,153600,106800,140000,120000,205920,171600,165000,125000,265000,185000,130000,38631,95000,85500,147100,90700,167580,87980,202000,135000,163800,126000,163800,126000,104000,65000,230000,148000,269000,158000,197000,106000,150000,100000,290000,210000,192000,172800,300240,200160,300240,200160,175000,140000,169000,100000,370000,245000,115447,110000,80000,55000,48000,95000,85000,137500,81500,323300,184700,186000,153088,190000,160000,200000,150000,190000,183310,240000,180000,200000,150000,299500,245100,144000,66000,148500,126277,228000,120000,180000,90000,126500,78000,180000,160000,272000,170000,80000,60000,259000,146000,200000,160000,310000,239000,142000,95000,155000,139500,140000,120000,259000,146000,109371,72914,17779,19522,247500,172200,225000,156400,139500,109400,125000,90000,107309,75116,185900,129300,139500,109400,120000,75000,169000,110600,288000,140000,288000,140000,120000,90000,72914,60761,215050,156400,198000,114000,75000,60000,204500,142200,209300,182200,140000,120000,48609,120000,60000,147100,90700,230000,170000,227000,108000,180000,160000,180000,160000,180000,130000,55800,51508,60000,50000,226700,133300,252000,129000,151902,9727,80000,52500,250000,162500,85000,75000,153600,106800,165000,124000,115934,81666,167580,87980,250000,63000,253750,169200,253750,169200,170000,120000,124740,65488,213580,163625,12000,101943,16414,220000,170000,235000,210000,180000,115000,200000,115000,231250,138750,284310,153090,160000,75000,125000,105000,109371,85066,55000,48000,100000,225900,156400,250000,162500,318300,188800,385000,60000,110000,95000,145000,135000,180180,106020,93919,51962,241871,133832,170000,90000,210914,116704,192500,140000,149076,82365,36000,175000,148750,370000,200000,235000,185000,121523,97218,216100,140800,145828,121523,53654,110000,128000,81500,66837,63192,60761,54685,284000,236000,248100,145900,155850,102544,151410,115360,66531,59020,125686,100000,12767,250000,162500,185000,120250,26827,85000,70000,135000,100000,155000,140000,204500,142200,226700,133300,225000,156400,163800,126000,163800,126000,220000,150000,145000,115000,204500,138900,162500,130000,150000,107000,175000,110000,226700,133300,252000,129000,150000,125000,252000,129000,225000,156400,110000,265000,182750,130000,100000,153600,106800,137500,81500,314100,195800,205000,180000,165000,144000,160000,100000,200000,145000,150000,100000,199000,112000,105000,70000,130000,180180,106020,160000,135000,183000,134000,220000,150000,350000,262500,122000,94000,276000,184000,310000,239000,225000,156400,180000,150000,228000,152000,209450,158677,175000,145000,240000,170000,103200,61200,63312,237000,145000,240000,139000,174500,113000,130000,87000,160000,108000,165000,107250,300000,119000,285800,154600,60795,30000,220000,195000,168400,105200,206000,160000,200000,175000,231250,138750,153000,94000,240500,123700,160000,90000,124234,74540,109000,79000,50000,275300,183500,275300,183500,160000,125600,170000,120000,225000,140000,141290,74178,150000,120000,85000,75000,220000,160000,205600,107500,120000,95000,185900,129300,160000,130000,12888,250000,175000,136000,104000,80000,52500,110000,84000,125000,110000,90000,80000,200000,135000,120000,130000,75000,252000,129000,150000,100000,226700,133300,190000,165000,170000,150000,150000,130000,225000,156400,200000,80000,12877,17509,257000,134000,77262,38631,205600,105700,140000,110000,299500,245100,210000,151800,53654,51508,40777,51508,40777,160000,135000,120000,95000,250000,63000,237000,145000,130000,90000,120000,100000,174500,113000,183310,183310,145000,102500,210000,185000,174500,113000,122000,94000,220000,146000,300000,130000,24740,145000,128000,182000,140000,122000,94000,77262,38631,300000,200000,135000,105500,252000,129000,136000,104000,168000,130000,78990,43809,120000,95000,153400,122700,185000,160000,205000,185000,204500,142200,145000,87000,50000,234100,203500,223800,172100,180000,150000,232200,167200,197000,106000,180000,145000,225000,200000,170000,114000,291500,180000,196200,150900,168400,105200,95000,80000,116000,72000,207000,167000,145000,135000,105000,70000,180000,115000,133800,96100,120000,80000,140000,100000,150000,120000,140000,115000,297300,198200,297300,198200,202000,135000,110000,84000,219000,230000,196000,140000,110000,150000,100000,160000,110000,185900,129300,126100,72000,170000,150000,175000,140000,240500,137500,187500,165000,72914,210000,165750,225000,165750,109006,67141,135000,115000,275000,175000,170000,140000,175308,100706,235000,135000,310000,229000,289076,202353,69751,37558,120000,100000,226700,133300,125000,85000,130000,80000,120000,100000,231250,138750,199000,162000,160000,135000,200000,150000,160000,120000,250000,200000,150000,120000,150000,100000,272550,198200,182000,140000,200000,160000,204500,142200,120000,105000,187500,175000,204500,142200,155000,64000,235000,185000,174500,113000,143100,113000,184000,142000,140000,120000,174500,113000,180560,115440,140000,120000,248100,145900,120000,110000,291500,180000,75344,63192,161800,141600,58331,46178,166000,128000,170000,110000,160000,75000,236000,182000,150000,100000,261500,134500,130000,90000,160000,135000],\"y0\":\" \",\"yaxis\":\"y\",\"type\":\"box\"},{\"alignmentgroup\":\"True\",\"hovertemplate\":\"Work Year=2022<br>Remote Ratio=%{x}<br>Salary (USD)=%{y}<extra></extra>\",\"legendgroup\":\"2022\",\"marker\":{\"color\":\"#EF553B\"},\"name\":\"2022\",\"notched\":false,\"offsetgroup\":\"2022\",\"orientation\":\"v\",\"showlegend\":true,\"x\":[50,50,100,100,0,100,100,100,100,100,100,0,100,100,0,100,100,100,100,50,50,0,100,100,100,50,100,0,100,0,100,100,0,0,0,0,0,0,0,0,0,0,0,0,0,0,0,0,0,0,100,0,0,100,100,100,100,0,0,100,100,100,100,100,100,100,100,100,100,0,0,0,0,100,100,100,100,100,0,0,0,0,0,50,100,100,0,0,100,100,0,0,0,0,100,100,0,0,100,100,100,100,100,0,0,0,0,0,0,0,0,100,100,0,0,0,0,0,0,0,0,100,100,100,100,0,0,50,100,100,0,0,0,0,0,0,100,100,0,0,100,100,100,100,0,0,0,0,0,0,0,0,100,100,0,0,50,100,0,0,0,0,0,0,100,100,100,100,0,0,0,0,100,100,0,0,0,0,0,0,100,100,100,100,100,100,100,100,100,100,100,100,100,100,100,100,100,0,0,100,100,100,100,100,100,0,0,100,100,100,100,100,100,100,100,100,100,100,100,100,100,0,0,0,0,0,0,0,100,100,100,100,50,50,100,100,0,0,0,0,100,100,50,100,100,100,0,0,0,0,50,0,0,0,0,0,0,100,100,0,0,100,100,0,0,100,100,0,0,100,100,100,100,100,0,0,100,100,0,0,100,100,0,0,0,0,100,100,100,100,0,0,0,0,100,100,0,0,100,100,0,0,100,100,0,0,100,100,0,0,0,0,0,0,100,100,100,0,0,100,100,0,0,0,0,100,100,100,100,0,0,0,0,0,0,100,0,0,0,0,100,100,0,0,100,100,0,0,0,0,100,100,0,0,100,100,0,0,100,100,0,0,100,100,0,0,0,0,0,0,0,0,100,100,0,0,0,0,50,100,100,100,100,0,0,0,0,0,0,0,0,0,0,0,0,0,0,100,100,0,0,0,0,0,0,0,0,0,0,0,0,50,100,0,0,0,0,0,0,0,0,100,0,0,0,0,0,0,100,100,0,0,0,0,0,0,100,100,100,100,50,100,100,0,0,0,0,0,0,0,0,100,100,0,0,0,0,0,0,100,50,0,0,0,0,100,100,0,0,100,100,0,0,0,0,0,0,0,0,0,0,0,0,0,0,100,100,0,0,100,100,100,100,100,100,100,100,0,0,0,0,0,0,0,100,100,0,0,0,0,100,100,0,0,0,0,0,0,100,100,100,100,0,100,100,100,100,100,100,100,100,100,100,100,100,100,100,100,100,0,0,0,0,0,0,0,0,100,100,0,0,0,0,0,0,0,0,0,0,0,0,100,100,100,50,0,0,0,0,0,0,0,0,0,0,0,0,0,0,100,100,100,100,100,100,100,100,0,0,100,100,0,0,0,0,0,0,100,100,0,0,100,100,0,0,100,100,0,0,100,100,100,100,100,100,0,0,0,0,0,0,50,100,100,100,100,100,100,100,100,100,100,100,100,100,0,0,0,0,0,0,100,100,100,100,100,100,100,100,0,0,0,0,0,0,100,100,0,0,0,0,0,0,0,0,0,0,0,0,0,0,100,100,0,0,50,100,50,100,100,0,0,100,100,0,0,50,0,0,0,0,0,0,0,0,100,100,100,100,0,0,100,100,0,0,100,50,0,0,100,100,0,0,0,0,0,0,100,100,100,100,0,0,100,100,0,0,100,100,100,100,0,0,0,0,0,0,0,0,0,0,0,0,0,0,0,0,0,0,0,0,100,100,100,0,0,0,0,100,100,0,0,0,0,100,100,100,100,0,0,100,100,100,100,100,100,100,50,50,0,0,0,0,0,0,0,0,0,0,0,0,0,100,100,100,0,0,100,100,0,0,100,100,100,100,0,0,100,100,100,100,0,0,100,100,0,0,0,0,0,0,0,0,0,0,0,0,0,0,100,100,0,0,0,0,100,100,0,0,100,100,100,100,100,100,100,100,0,0,0,0,0,0,100,50,100,100,0,100,0,0,100,100,100,100,50,100,100,50,100,100,100,100,0,0,100,100,100,100,0,0,100,100,100,0,0,100,100,100,0,0,100,100,100,100,100,100,100,100,100,100,50,100,100,100,50,0,0,100,100,100,100,100,100,0,100,100,0,0,0,0,0,0,100,100,100,100,100,100,100,100,100,100,100,100,100,100,100,100,100,100,100,100,100,100,0,0,100,100,100,100,100,100,100,100,100,0,0,100,100,100,100,100,100,100,100,100,100,100,100,100,100,100,100,0,0,100,100,100,100,100,100,0,0,0,0,100,100,50,100,100,100,100,100,100,100,100,100,100,100,100,100,100,100,100,100,100,100,50,100,100,100,100,100,100,100,100,100,100,100,0,100,100,0,0,0,0,0,0,0,0,100,100,100,100,100,0,0,100,100,100,100,100,100,100,0,0,100,100,50,100,100,100,100,0,0,0,0,100,100,100,100,100,100,100,100,100,100,100,50,50,100,0,0,100,100,0,0,100,100,100,100,100,100,100,100,0,100,100,100,100,100,100,100,100,100,100,100,100,100,100,100,100,100,100,0,0,0,50,100,100,100,100,100,100,100,0,0,0,0,0,0,100,100,100,100,100,100,100,100,100,50,0,100,100,100,100,100,0,0,50,0,0,0,0,50,0,0,100,100,0,0,100,100,100,0,0,0,0,0,0,100,100,50,50,0,100,50,0,0,100,100,100,100,100,100,100,100,100,0,0,0,0,0,0,100,100,100,100,100,100,0,0,100,100,100,100,100,100,0,0,100,100,0,0,100,100,100,100,0,0,100,0,0,100,100,0,0,0,0,100,0,0,100,0,0,0,0,0,0,100,100,50,0,0,100,100,100,100,0,0,0,0,100,100,100,100,50,0,0,100,100,0,0,0,0,100,100,50,0,100,100,0,0,100,100,100,100,100,50,100,0,0,0,0,0,0,0,0,0,0,50,0,0,0,0,100,100,100,50,0,0,100,0,0,100,100,50,100,100,100,100,100,100,100,100,100,100,0,0,100,100,100,100,0,0,100,50,50,100,100,100,100,100,100,100,100,100,100,100,100,0,100,100,100,0,100,100,0,0,0,0,0,0,100,100,50,100,0,0,0,100,100,100,100,0,0,100,100,100,100,0,0,100,100,100,0,0,100,100,0,0,0,0,100,100,100,100,100,100,100,100,100,50,100,100,100,100,100,100,100,100,100,100,100,100,100,0,0,100,100,100,100,0,0,100,100,100,100,0,0,100,100,100,100,100,0,0,100,100,100,100,0,0,0,0,0,0,100,100,0,0,0,0,100,100,100,100,0,0,0,0,0,0,0,0,0,0,100,100,0,0,100,100,100,100,100,100,0,0,100,100,100,100,100,100,100,100,100,100,100,100,0,0,100,100,100,100,100,100,100,100,0,0,0,0,100,100,100,100,100,100,100,100,100,100,100,100,100,100,100,100,100,100,100,100,100,100,0,0,100,100,100,100,0,0,0,0,0,0,100,100,100,100,100,100,100,100,0,0,100,100,100,100,100,100,0,0,100,100,0,0,100,100,0,0,100,100,100,100,100,100,100,100,100,100,100,100,0,0,100,100,0,0,100,100,100,100,100,100,100,100,100,100,100,100,100,100,100,100,100,100,100,100,100,100,100,100,100,100,100,100,0,0,100,100,100,100,100,100,100,100,100,100,100,100,100,100,100,50,100,100,100,50,50,100,100,100,50,100,100,100,100,100,100,100,100,100,100,100,100,100,100,50,50,100,50,100,100,100,100,100,100,0,100,100,100,100,100,0,100,100,100,0,100,100,50,50,100,50,100,0,0,100],\"x0\":\" \",\"xaxis\":\"x\",\"y\":[20984,300000,56536,88256,275000,59888,73546,172309,130000,34320,9289,106000,192000,168000,85000,375000,180000,23000,155000,84053,48000,6304,15897,110000,25216,18314,100000,133000,14307,130000,13989,125000,175000,155000,153600,106800,150000,140000,122000,94500,170000,130000,145000,128000,145000,100000,175000,120000,145000,115000,150000,150000,100000,150000,127500,126500,51000,260000,175000,40000,40000,250000,63000,210000,160000,272550,198200,94560,52533,220000,146000,150000,100000,248400,183600,150000,150000,40000,56723,120000,95000,160000,135000,24165,216000,144000,85000,65000,149000,119000,140000,120000,150000,110000,246000,201000,190000,155000,235000,185000,190000,160000,100000,130000,115000,92350,67723,105000,70000,204500,142200,192000,164000,185900,129300,130000,75000,175000,120000,167500,106500,75000,60000,184000,142000,145000,100000,10000,31795,44365,175000,120000,175000,120000,200000,145000,92350,73880,145000,100000,192000,164000,310000,239000,120000,95000,145000,135000,100000,78000,73546,36773,160000,120000,190000,150000,35610,125000,120000,95000,150000,100000,47280,37824,115934,81666,175000,140000,120000,95000,249500,149850,122500,100000,249500,149850,55000,48000,249500,149850,58837,190000,120000,127000,104000,210000,150000,210000,150000,210000,130000,182750,161500,102640,66100,210000,150000,198800,122600,130000,80000,136000,104000,150000,100000,160000,135000,216000,144000,159000,130000,115934,81666,215000,150000,246000,201000,187000,153000,255000,185000,430967,55410,50432,39925,169000,110600,60938,140000,120000,75000,60000,10000,50000,134000,124000,166700,119000,124234,74540,100000,65000,200000,12000,220000,146000,68293,36773,110000,70000,50000,120000,95000,150000,100000,47280,37824,190000,135000,128000,81500,173000,110000,192000,120000,115934,81666,120000,95000,190000,194000,129400,201000,89200,165000,125000,230000,196000,130000,90000,150000,100000,230000,150000,153600,106800,130000,100000,216000,144000,180000,120000,160000,135000,192500,140000,152500,130000,65000,55000,178750,160000,63040,52533,165000,135000,170000,125000,105000,70000,130000,95000,203500,152000,197430,134760,120000,197000,99000,220000,162000,110446,79178,70186,51716,149040,113900,171000,13000,100000,78000,120000,95000,110000,70000,50000,185900,129300,150000,100000,230000,154600,204500,142200,160000,75000,47280,37824,213000,152000,140000,120000,110000,70000,227200,168000,64090,60938,243000,183000,175000,150000,130000,90000,165000,124000,178000,132000,300000,130000,169000,110600,116000,96000,92350,70186,105000,70000,105236,194000,129400,190000,135000,100000,70000,189750,140250,130000,100000,160000,109000,250000,150000,206000,160000,135000,120000,115573,73546,160000,135000,150000,100000,120000,95000,68293,42026,191200,130000,191200,130000,66192,50000,230000,154600,120000,95000,140000,120000,169000,110600,80000,185900,129300,135000,110000,155000,140000,205000,150000,179500,134000,180000,120000,185900,129300,175000,145000,235000,175000,27317,160000,90000,68293,36773,145000,115000,165000,135000,168400,105200,86193,49253,200000,160000,47280,37824,198800,122600,100000,105066,130000,100000,104663,73880,125000,110000,165000,124000,148000,107000,150000,100000,160000,135000,120000,95000,153600,106800,100000,65000,120000,95000,63040,36773,310000,239000,299500,245100,168000,130000,136000,104000,161000,118000,205000,184000,185900,129300,247500,172200,68293,177000,131000,205000,184000,146000,102000,169000,110600,230000,196000,135000,100000,80000,65000,135000,100000,61566,43096,175000,135000,80000,231250,138750,193750,116250,231250,138750,231250,138750,231250,138750,193750,116250,208000,127000,300000,196000,204500,142200,185900,129300,47280,37824,204500,142200,205000,185000,185900,129300,247500,172200,160000,135000,150000,100000,110000,95000,185900,129300,205000,184000,17684,375000,191200,130000,225000,156400,169000,110600,204500,142200,104663,80036,185900,129300,140700,93800,350000,135000,115934,81666,12000,104697,33000,34672,201000,119000,175000,150000,154560,123648,130000,100000,170000,145000,135000,100000,247500,172200,177500,134000,185900,129300,192564,144854,130000,105000,179305,142127,315000,225000,243900,156600,206000,160000,109000,79000,160000,109000,89306,182500,128500,160000,90000,77300,45600,127000,110000,210000,136000,12608,170000,140000,247500,172200,225000,184100,130000,90000,120000,100000,85000,78000,161000,110000,136000,104000,47280,37824,205000,160000,169000,110600,61566,49253,160000,130000,245000,180000,135000,100000,220000,150000,198440,144000,240000,170000,198440,144000,150000,100000,120000,95000,57872,64000,39925,187200,116100,150000,127000,275000,166000,159699,138938,76000,166700,119000,130000,100000,103432,92350,80000,52500,236000,182000,180000,140000,225000,156400,135000,100000,204500,142200,240000,125404,300000,130000,195000,175000,155000,110000,123000,92250,170000,150000,180000,100000,97000,90000,200000,160000,210000,180000,260000,180000,210000,157000,180000,100000,80000,52500,128000,81500,105000,70000,175000,122500,171000,117000,202800,104300,50432,36773,197000,99000,160000,110000,185900,129300,30000,78000,48000,170000,130000,150000,95000,78000,42000,345600,230400,145000,115000,78000,48000,175950,130050,205600,105700,236600,89200,84000,54000,80000,200000,73742,165000,33246,185900,129300,169000,110600,225000,184100,185900,129300,225000,156400,185900,129300,108000,8000,155000,38000,85000,65000,155000,38000,110820,92350,153600,106800,185000,50000,185900,129300,155000,38000,168000,130000,123400,88100,120000,55000,185900,129300,191200,130000,169000,110600,150000,120000,139000,122000,185900,129300,139600,85700,185000,50000,185900,129300,225000,156400,200000,175000,185900,129300,148500,98200,115000,95000,225000,66000,185000,50000,47280,37824,134000,98000,105000,62000,57000,161311,144200,115360,83171,38154,73546,42026,170000,150000,180000,160000,108000,200000,150000,125976,188700,160395,115934,81666,300000,225000,198440,144000,191475,141525,50432,36773,75648,156868,200000,198440,144000,69344,5132,90000,126080,84053,200000,180000,108000,85000,210000,180000,165000,132000,130000,110000,45050,135000,178800,132100,20000,140000,110000,160000,85000,250000,63000,187200,116100,10000,200000,145000,229998,154545,215000,159000,229998,154545,50000,183000,99750,68400,236900,159200,243225,179775,175000,150000,210000,180000,148000,128000,190000,135000,130000,110000,191475,141525,160000,85000,218000,145300,195400,131300,105000,191475,141525,207000,153000,191475,141525,110000,99000,191475,141525,191475,141525,191475,141525,200000,135000,207000,153000,191475,141525,191475,141525,191475,141525,195700,130500,130000,84000,100000,60000,80036,67723,141300,102100,50432,36773,150000,102200,22892,144000,113000,31520,195400,131300,195400,131300,195400,131300,190000,135000,135000,80000,8050,160000,85000,178800,132100,60000,63040,50000,140000,105000,80036,67723,190000,140000,100000,60000,180000,165000,108000,190000,135000,179400,154000,193900,129300,222640,182160,150000,100000,122500,100000,297500,260000,193000,93000,73000,100000,60000,7799,136994,101570,250000,63000,134000,98000,191475,141525,57786,136000,112000,172000,140000,215000,164000,300000,130000,250000,63000,180000,150000,250000,63000,191475,141525,97500,212800,142800,73546,50000,6359,151800,130240,165000,140250,135000,115000,179400,154000,191475,141525,191475,141525,191475,141525,75000,84053,73546,98506,86193,84053,73546,191475,141525,191475,141525,102663,80041,191475,141525,104611,82280,191475,141525,191475,141525,115000,31520,81000,66000,46000,80000,200000,180000,200000,204100,136100,250000,63000,118208,110820,191475,141525,191475,141525,191475,141525,95000,70000,75000,7500,113000,170000,130000,113000,140000,53368,175000,140000,29944,250000,63000,160000,119300,145000,105000,90000,146200,124270,225000,160000,54634,185800,137400,245000,180000,203500,152000,250000,63000,186000,148800,95386,128058,82000,110000,173000,203500,152000,186000,148800,6270,158000,134000,170000,120000,200000,150000,216200,144100,115573,89306,250000,63000,135000,85000,135000,85000,206000,175100,189650,164996,149040,113900,154000,126000,200000,150000,195700,130500,170000,135000,98506,73880,117000,99450,200000,135000,193900,129300,55410,86193,61566,175000,130000,188100,139860,248700,167100,5723,123400,88100,50432,245000,205000,141300,102100,141300,102100,50000,84053,61566,250000,63000,189500,140100,177600,131300,24000,24000,250000,63000,202900,131300,145000,115000,115000,193900,129300,180000,140000,216200,144100,216000,144000,150000,53416,50000,84053,131752,48000,260500,175100,210000,100000,55000,130000,77119,52008,30523,206699,99100,200000,54000,250000,63000,250000,63000,250000,63000,130000,100000,80000,160000,100000,221300,148700,30000,28368,91118,61566,60938,249260,185400,170000,130000,80036,128875,93700,180000,100000,136260,109280,160000,92000,200000,160000,135446,104663,117000,99450,129000,86000,160000,119300,100000,25000,65257,200000,180000,153000,210000,100000,150075,110925,22800,160000,92000,202900,131300,15000,175000,135000,133766,83000,92350,67723,186000,148800,112900,90320,240000,160000,300000,200000,65666,200000,116976,92350,120000,112900,90320,145000,105400,110820,92350,215300,158200,209100,154600,115934,81666,175000,155000,84053,164000,132000,170000,123000,189650,164996,52533,52533,115222,165400,132320,208775,147800,136994,101570,128875,93700,76309,35093,183600,100800,49253,36940,42026,31520,84053,73546,98506,86193,84053,73546,189650,164996,42026,31520,92350,73880,215300,140400,63040,47280,260000,180000,67723,43096,63040,47280,73880,55410,60000,82900,63900,160000,112300,241000,159000,180000,80000,58000,58000,136000,108800,242000,200000,61566,36940,73880,49253,165220,120160,124190,90320,181940,132320,220110,160080,180000,120000,126500,106260,116000,99000,155000,120600,130000,90000,170000,150000,102100,84900,136620,99360,110820,98506,146000,123000,49253,43096,130000,110000,170000,135000,161342,137141,167000,123000,73880,61566,211500,138600,192400,90700,130000,61300,130000,61300,160000,113000,150000,95550,167000,115500,112900,90320,112900,90320,165400,132320,243900,156600,136600,109280,128875,93700,224000,167875,175000,135000,209100,154600,180000,160000,205300,140400,176000,144000,200100,160000,70500,54000,205300,140400,205300,184700,175100,140250,116150,99050,145000,130000,112900,90320,85000,75000,214000,192600,266400,213120,155000,115000,141300,102100,115934,81666,206699,99100,130000,110500,61566,43096,80000,60000,192564,144854,230000,150000,150260,109280,170000,150000,160000,130000,67000,52000,154000,126000,129000,99000,210000,140000,210000,140000,210000,140000,100000,69000,210000,140000,150075,110925,100000,25000,126500,106260,220110,160080,105000,100000,170000,135000,230000,140000,135000,50000,220000,140000,172386,86193,220000,120000,200000,120000,120000,65000,324000,216000,210000,100000,185100,104890,105000,80000,76814,192037,120000,17805,30523,55685,52533,17805,75000,157000,69133,65000,68293,67597,10000,20000,200000,51081,78000,135000,115000,83864,40000,31520,59888,89306,83171,165000,153000,100000,76814,33609,75000,30469,55475,61989,152500,120000,135000,405000,380000,120402,177000,65141,48000,20000,150000,100000,100000,144000,155499,100000,120000,84053,125000,21013],\"y0\":\" \",\"yaxis\":\"y\",\"type\":\"box\"},{\"alignmentgroup\":\"True\",\"hovertemplate\":\"Work Year=2020<br>Remote Ratio=%{x}<br>Salary (USD)=%{y}<extra></extra>\",\"legendgroup\":\"2020\",\"marker\":{\"color\":\"#00cc96\"},\"name\":\"2020\",\"notched\":false,\"offsetgroup\":\"2020\",\"orientation\":\"v\",\"showlegend\":true,\"x\":[0,0,100,100,100,0,50,100,0,100,100,100,0,50,50,100,50,100,100,100,50,0,100,50,100,100,100,100,50,0,0,100,50,0,0,50,0,50,100,100,50,100,50,0,0,0,100,100,50,100,100,50,100,100,50,0,100,50,50,50,50,100,50,100,100,100,0,50,100,100,100,100,100,100,100,100],\"x0\":\" \",\"xaxis\":\"x\",\"y\":[15000,95000,13493,13493,22809,49268,117104,54742,20000,59303,70000,68428,450000,46759,74130,103000,250000,10000,138000,45760,79833,50180,106000,112872,15966,76958,188000,105000,70139,6072,33511,91000,42000,115000,260000,109024,79833,150000,72000,190000,35735,135000,125000,51321,40481,39916,87000,85000,8000,41689,114047,5707,56000,6072,47899,98000,325000,45896,42197,62726,21669,110000,120000,60000,148261,38776,91237,62726,190200,118000,138350,130800,45618,412000,105000,100000],\"y0\":\" \",\"yaxis\":\"y\",\"type\":\"box\"},{\"alignmentgroup\":\"True\",\"hovertemplate\":\"Work Year=2021<br>Remote Ratio=%{x}<br>Salary (USD)=%{y}<extra></extra>\",\"legendgroup\":\"2021\",\"marker\":{\"color\":\"#ab63fa\"},\"name\":\"2021\",\"notched\":false,\"offsetgroup\":\"2021\",\"orientation\":\"v\",\"showlegend\":true,\"x\":[100,0,50,100,50,100,0,50,50,50,50,50,100,50,50,100,100,50,50,50,100,50,0,0,100,100,0,50,50,100,0,100,100,100,50,50,100,0,50,50,0,100,100,50,100,50,100,50,50,100,100,100,50,0,100,50,50,0,50,100,100,50,100,100,100,100,100,100,100,100,100,100,50,100,50,100,100,100,100,50,50,100,100,100,100,100,100,50,100,100,100,100,100,100,100,50,100,100,100,100,50,50,100,100,100,50,50,0,100,100,100,100,100,50,100,100,50,0,50,50,50,100,100,100,50,100,0,100,100,100,100,100,100,50,100,0,100,50,100,50,100,50,100,0,100,50,100,0,0,50,100,0,100,50,0,100,100,0,50,50,100,100,50,50,100,50,100,100,0,50,0,100,50,100,100,50,100,100,100,100,50,0,50,100,100,50,50,50,50,50,0,0,100,100,100,100,0,0,0,100,50,100,100,50,50,50,50,100,0,50,0,100,100,100,100,50,100,100,100,0,0,0,100,0,100,50,50,100,100,50],\"x0\":\" \",\"xaxis\":\"x\",\"y\":[150000,30000,66970,54094,16904,115000,20000,45555,5409,75050,42028,20000,15000,45390,19073,50000,12171,250000,51064,109000,102839,69999,150000,240000,135000,80000,220000,77364,63711,90000,100000,24000,38400,82500,49646,40570,20000,9466,120000,10354,110037,50000,200000,60000,200000,100000,100000,82744,62649,82528,170000,150000,55000,250000,80000,130026,63831,85000,230000,125000,120000,127221,144000,13400,75774,150000,153000,90000,90000,60000,50000,12000,5409,270000,54238,47282,153667,28476,110000,82528,59102,80000,140000,79197,170000,80000,100000,53192,235000,150000,225000,76833,88654,103160,113476,94564,30428,150000,115000,187442,51519,36259,150000,95746,70000,89294,29751,276000,160000,200000,174000,93000,28399,60757,90000,170000,96282,12103,36643,72212,99703,165000,80000,103691,21637,63810,110000,180000,200000,200000,256000,110000,72500,185000,69741,100000,112000,20171,55000,58000,100000,77684,85000,76833,105000,65013,28016,111775,93150,160000,25532,66265,16904,63831,141846,16228,71786,135000,24823,54094,24342,9272,147000,96113,174000,21844,69741,50000,26005,90734,22611,5679,81000,40038,90000,61467,195000,37825,416000,225000,56256,33808,116914,46597,88654,28609,88654,66022,56738,24823,120000,20000,200000,160000,50000,40189,12901,165000,5882,185000,90734,140000,87738,61896,12000,76833,74000,152000,18000,130000,18907,59102,173762,46809,18053,115000,235000,19609,12000,75000,62000,73000,45391,168000,119059,423000,28369,165000,151000,94665],\"y0\":\" \",\"yaxis\":\"y\",\"type\":\"box\"}],                        {\"template\":{\"data\":{\"histogram2dcontour\":[{\"type\":\"histogram2dcontour\",\"colorbar\":{\"outlinewidth\":0,\"ticks\":\"\"},\"colorscale\":[[0.0,\"#0d0887\"],[0.1111111111111111,\"#46039f\"],[0.2222222222222222,\"#7201a8\"],[0.3333333333333333,\"#9c179e\"],[0.4444444444444444,\"#bd3786\"],[0.5555555555555556,\"#d8576b\"],[0.6666666666666666,\"#ed7953\"],[0.7777777777777778,\"#fb9f3a\"],[0.8888888888888888,\"#fdca26\"],[1.0,\"#f0f921\"]]}],\"choropleth\":[{\"type\":\"choropleth\",\"colorbar\":{\"outlinewidth\":0,\"ticks\":\"\"}}],\"histogram2d\":[{\"type\":\"histogram2d\",\"colorbar\":{\"outlinewidth\":0,\"ticks\":\"\"},\"colorscale\":[[0.0,\"#0d0887\"],[0.1111111111111111,\"#46039f\"],[0.2222222222222222,\"#7201a8\"],[0.3333333333333333,\"#9c179e\"],[0.4444444444444444,\"#bd3786\"],[0.5555555555555556,\"#d8576b\"],[0.6666666666666666,\"#ed7953\"],[0.7777777777777778,\"#fb9f3a\"],[0.8888888888888888,\"#fdca26\"],[1.0,\"#f0f921\"]]}],\"heatmap\":[{\"type\":\"heatmap\",\"colorbar\":{\"outlinewidth\":0,\"ticks\":\"\"},\"colorscale\":[[0.0,\"#0d0887\"],[0.1111111111111111,\"#46039f\"],[0.2222222222222222,\"#7201a8\"],[0.3333333333333333,\"#9c179e\"],[0.4444444444444444,\"#bd3786\"],[0.5555555555555556,\"#d8576b\"],[0.6666666666666666,\"#ed7953\"],[0.7777777777777778,\"#fb9f3a\"],[0.8888888888888888,\"#fdca26\"],[1.0,\"#f0f921\"]]}],\"heatmapgl\":[{\"type\":\"heatmapgl\",\"colorbar\":{\"outlinewidth\":0,\"ticks\":\"\"},\"colorscale\":[[0.0,\"#0d0887\"],[0.1111111111111111,\"#46039f\"],[0.2222222222222222,\"#7201a8\"],[0.3333333333333333,\"#9c179e\"],[0.4444444444444444,\"#bd3786\"],[0.5555555555555556,\"#d8576b\"],[0.6666666666666666,\"#ed7953\"],[0.7777777777777778,\"#fb9f3a\"],[0.8888888888888888,\"#fdca26\"],[1.0,\"#f0f921\"]]}],\"contourcarpet\":[{\"type\":\"contourcarpet\",\"colorbar\":{\"outlinewidth\":0,\"ticks\":\"\"}}],\"contour\":[{\"type\":\"contour\",\"colorbar\":{\"outlinewidth\":0,\"ticks\":\"\"},\"colorscale\":[[0.0,\"#0d0887\"],[0.1111111111111111,\"#46039f\"],[0.2222222222222222,\"#7201a8\"],[0.3333333333333333,\"#9c179e\"],[0.4444444444444444,\"#bd3786\"],[0.5555555555555556,\"#d8576b\"],[0.6666666666666666,\"#ed7953\"],[0.7777777777777778,\"#fb9f3a\"],[0.8888888888888888,\"#fdca26\"],[1.0,\"#f0f921\"]]}],\"surface\":[{\"type\":\"surface\",\"colorbar\":{\"outlinewidth\":0,\"ticks\":\"\"},\"colorscale\":[[0.0,\"#0d0887\"],[0.1111111111111111,\"#46039f\"],[0.2222222222222222,\"#7201a8\"],[0.3333333333333333,\"#9c179e\"],[0.4444444444444444,\"#bd3786\"],[0.5555555555555556,\"#d8576b\"],[0.6666666666666666,\"#ed7953\"],[0.7777777777777778,\"#fb9f3a\"],[0.8888888888888888,\"#fdca26\"],[1.0,\"#f0f921\"]]}],\"mesh3d\":[{\"type\":\"mesh3d\",\"colorbar\":{\"outlinewidth\":0,\"ticks\":\"\"}}],\"scatter\":[{\"fillpattern\":{\"fillmode\":\"overlay\",\"size\":10,\"solidity\":0.2},\"type\":\"scatter\"}],\"parcoords\":[{\"type\":\"parcoords\",\"line\":{\"colorbar\":{\"outlinewidth\":0,\"ticks\":\"\"}}}],\"scatterpolargl\":[{\"type\":\"scatterpolargl\",\"marker\":{\"colorbar\":{\"outlinewidth\":0,\"ticks\":\"\"}}}],\"bar\":[{\"error_x\":{\"color\":\"#2a3f5f\"},\"error_y\":{\"color\":\"#2a3f5f\"},\"marker\":{\"line\":{\"color\":\"#E5ECF6\",\"width\":0.5},\"pattern\":{\"fillmode\":\"overlay\",\"size\":10,\"solidity\":0.2}},\"type\":\"bar\"}],\"scattergeo\":[{\"type\":\"scattergeo\",\"marker\":{\"colorbar\":{\"outlinewidth\":0,\"ticks\":\"\"}}}],\"scatterpolar\":[{\"type\":\"scatterpolar\",\"marker\":{\"colorbar\":{\"outlinewidth\":0,\"ticks\":\"\"}}}],\"histogram\":[{\"marker\":{\"pattern\":{\"fillmode\":\"overlay\",\"size\":10,\"solidity\":0.2}},\"type\":\"histogram\"}],\"scattergl\":[{\"type\":\"scattergl\",\"marker\":{\"colorbar\":{\"outlinewidth\":0,\"ticks\":\"\"}}}],\"scatter3d\":[{\"type\":\"scatter3d\",\"line\":{\"colorbar\":{\"outlinewidth\":0,\"ticks\":\"\"}},\"marker\":{\"colorbar\":{\"outlinewidth\":0,\"ticks\":\"\"}}}],\"scattermapbox\":[{\"type\":\"scattermapbox\",\"marker\":{\"colorbar\":{\"outlinewidth\":0,\"ticks\":\"\"}}}],\"scatterternary\":[{\"type\":\"scatterternary\",\"marker\":{\"colorbar\":{\"outlinewidth\":0,\"ticks\":\"\"}}}],\"scattercarpet\":[{\"type\":\"scattercarpet\",\"marker\":{\"colorbar\":{\"outlinewidth\":0,\"ticks\":\"\"}}}],\"carpet\":[{\"aaxis\":{\"endlinecolor\":\"#2a3f5f\",\"gridcolor\":\"white\",\"linecolor\":\"white\",\"minorgridcolor\":\"white\",\"startlinecolor\":\"#2a3f5f\"},\"baxis\":{\"endlinecolor\":\"#2a3f5f\",\"gridcolor\":\"white\",\"linecolor\":\"white\",\"minorgridcolor\":\"white\",\"startlinecolor\":\"#2a3f5f\"},\"type\":\"carpet\"}],\"table\":[{\"cells\":{\"fill\":{\"color\":\"#EBF0F8\"},\"line\":{\"color\":\"white\"}},\"header\":{\"fill\":{\"color\":\"#C8D4E3\"},\"line\":{\"color\":\"white\"}},\"type\":\"table\"}],\"barpolar\":[{\"marker\":{\"line\":{\"color\":\"#E5ECF6\",\"width\":0.5},\"pattern\":{\"fillmode\":\"overlay\",\"size\":10,\"solidity\":0.2}},\"type\":\"barpolar\"}],\"pie\":[{\"automargin\":true,\"type\":\"pie\"}]},\"layout\":{\"autotypenumbers\":\"strict\",\"colorway\":[\"#636efa\",\"#EF553B\",\"#00cc96\",\"#ab63fa\",\"#FFA15A\",\"#19d3f3\",\"#FF6692\",\"#B6E880\",\"#FF97FF\",\"#FECB52\"],\"font\":{\"color\":\"#2a3f5f\"},\"hovermode\":\"closest\",\"hoverlabel\":{\"align\":\"left\"},\"paper_bgcolor\":\"white\",\"plot_bgcolor\":\"#E5ECF6\",\"polar\":{\"bgcolor\":\"#E5ECF6\",\"angularaxis\":{\"gridcolor\":\"white\",\"linecolor\":\"white\",\"ticks\":\"\"},\"radialaxis\":{\"gridcolor\":\"white\",\"linecolor\":\"white\",\"ticks\":\"\"}},\"ternary\":{\"bgcolor\":\"#E5ECF6\",\"aaxis\":{\"gridcolor\":\"white\",\"linecolor\":\"white\",\"ticks\":\"\"},\"baxis\":{\"gridcolor\":\"white\",\"linecolor\":\"white\",\"ticks\":\"\"},\"caxis\":{\"gridcolor\":\"white\",\"linecolor\":\"white\",\"ticks\":\"\"}},\"coloraxis\":{\"colorbar\":{\"outlinewidth\":0,\"ticks\":\"\"}},\"colorscale\":{\"sequential\":[[0.0,\"#0d0887\"],[0.1111111111111111,\"#46039f\"],[0.2222222222222222,\"#7201a8\"],[0.3333333333333333,\"#9c179e\"],[0.4444444444444444,\"#bd3786\"],[0.5555555555555556,\"#d8576b\"],[0.6666666666666666,\"#ed7953\"],[0.7777777777777778,\"#fb9f3a\"],[0.8888888888888888,\"#fdca26\"],[1.0,\"#f0f921\"]],\"sequentialminus\":[[0.0,\"#0d0887\"],[0.1111111111111111,\"#46039f\"],[0.2222222222222222,\"#7201a8\"],[0.3333333333333333,\"#9c179e\"],[0.4444444444444444,\"#bd3786\"],[0.5555555555555556,\"#d8576b\"],[0.6666666666666666,\"#ed7953\"],[0.7777777777777778,\"#fb9f3a\"],[0.8888888888888888,\"#fdca26\"],[1.0,\"#f0f921\"]],\"diverging\":[[0,\"#8e0152\"],[0.1,\"#c51b7d\"],[0.2,\"#de77ae\"],[0.3,\"#f1b6da\"],[0.4,\"#fde0ef\"],[0.5,\"#f7f7f7\"],[0.6,\"#e6f5d0\"],[0.7,\"#b8e186\"],[0.8,\"#7fbc41\"],[0.9,\"#4d9221\"],[1,\"#276419\"]]},\"xaxis\":{\"gridcolor\":\"white\",\"linecolor\":\"white\",\"ticks\":\"\",\"title\":{\"standoff\":15},\"zerolinecolor\":\"white\",\"automargin\":true,\"zerolinewidth\":2},\"yaxis\":{\"gridcolor\":\"white\",\"linecolor\":\"white\",\"ticks\":\"\",\"title\":{\"standoff\":15},\"zerolinecolor\":\"white\",\"automargin\":true,\"zerolinewidth\":2},\"scene\":{\"xaxis\":{\"backgroundcolor\":\"#E5ECF6\",\"gridcolor\":\"white\",\"linecolor\":\"white\",\"showbackground\":true,\"ticks\":\"\",\"zerolinecolor\":\"white\",\"gridwidth\":2},\"yaxis\":{\"backgroundcolor\":\"#E5ECF6\",\"gridcolor\":\"white\",\"linecolor\":\"white\",\"showbackground\":true,\"ticks\":\"\",\"zerolinecolor\":\"white\",\"gridwidth\":2},\"zaxis\":{\"backgroundcolor\":\"#E5ECF6\",\"gridcolor\":\"white\",\"linecolor\":\"white\",\"showbackground\":true,\"ticks\":\"\",\"zerolinecolor\":\"white\",\"gridwidth\":2}},\"shapedefaults\":{\"line\":{\"color\":\"#2a3f5f\"}},\"annotationdefaults\":{\"arrowcolor\":\"#2a3f5f\",\"arrowhead\":0,\"arrowwidth\":1},\"geo\":{\"bgcolor\":\"white\",\"landcolor\":\"#E5ECF6\",\"subunitcolor\":\"white\",\"showland\":true,\"showlakes\":true,\"lakecolor\":\"white\"},\"title\":{\"x\":0.05},\"mapbox\":{\"style\":\"light\"}}},\"xaxis\":{\"anchor\":\"y\",\"domain\":[0.0,1.0],\"title\":{\"text\":\"Remote Ratio\"}},\"yaxis\":{\"anchor\":\"x\",\"domain\":[0.0,1.0],\"title\":{\"text\":\"Salary (USD)\"}},\"legend\":{\"title\":{\"text\":\"Work Year\"},\"tracegroupgap\":0},\"title\":{\"text\":\"Remote Ratio vs Salary by Work Year\"},\"boxmode\":\"group\",\"height\":500},                        {\"responsive\": true}                    ).then(function(){\n",
       "                            \n",
       "var gd = document.getElementById('49cc29b1-4a59-4eae-a24b-17fbb011e9d0');\n",
       "var x = new MutationObserver(function (mutations, observer) {{\n",
       "        var display = window.getComputedStyle(gd).display;\n",
       "        if (!display || display === 'none') {{\n",
       "            console.log([gd, 'removed!']);\n",
       "            Plotly.purge(gd);\n",
       "            observer.disconnect();\n",
       "        }}\n",
       "}});\n",
       "\n",
       "// Listen for the removal of the full notebook cells\n",
       "var notebookContainer = gd.closest('#notebook-container');\n",
       "if (notebookContainer) {{\n",
       "    x.observe(notebookContainer, {childList: true});\n",
       "}}\n",
       "\n",
       "// Listen for the clearing of the current output cell\n",
       "var outputEl = gd.closest('.output');\n",
       "if (outputEl) {{\n",
       "    x.observe(outputEl, {childList: true});\n",
       "}}\n",
       "\n",
       "                        })                };                });            </script>        </div>"
      ]
     },
     "metadata": {},
     "output_type": "display_data"
    }
   ],
   "source": [
    "# Box Plot of Remote Ratio vs Salary by Work Year\n",
    "box_plot = px.box(\n",
    "    data_frame=df,\n",
    "    x='remote_ratio',\n",
    "    y='salary_in_usd',\n",
    "    color='work_year',\n",
    "    title='Remote Ratio vs Salary by Work Year',\n",
    "    labels={'remote_ratio': 'Remote Ratio', 'salary_in_usd': 'Salary (USD)', 'work_year': 'Work Year'},\n",
    "    height=500\n",
    ")\n",
    "box_plot.show()"
   ]
  },
  {
   "cell_type": "code",
   "execution_count": 145,
   "id": "d780cb26",
   "metadata": {},
   "outputs": [
    {
     "data": {
      "application/vnd.plotly.v1+json": {
       "config": {
        "plotlyServerURL": "https://plot.ly"
       },
       "data": [
        {
         "alignmentgroup": "True",
         "hovertemplate": "job_title=%{x}<br>Average Salary (USD)=%{y}<extra></extra>",
         "legendgroup": "",
         "marker": {
          "color": "#636efa",
          "pattern": {
           "shape": ""
          }
         },
         "name": "",
         "offsetgroup": "",
         "orientation": "v",
         "showlegend": false,
         "textposition": "auto",
         "type": "bar",
         "x": [
          "3D Computer Vision Researcher",
          "AI Developer",
          "AI Programmer",
          "AI Scientist",
          "Analytics Engineer",
          "Applied Data Scientist",
          "Applied Machine Learning Engineer",
          "Applied Machine Learning Scientist",
          "Applied Scientist",
          "Autonomous Vehicle Technician",
          "Azure Data Engineer",
          "BI Analyst",
          "BI Data Analyst",
          "BI Data Engineer",
          "BI Developer",
          "Big Data Architect",
          "Big Data Engineer",
          "Business Data Analyst",
          "Business Intelligence Engineer",
          "Cloud Data Architect",
          "Cloud Data Engineer",
          "Cloud Database Engineer",
          "Compliance Data Analyst",
          "Computer Vision Engineer",
          "Computer Vision Software Engineer",
          "Data Analyst",
          "Data Analytics Consultant",
          "Data Analytics Engineer",
          "Data Analytics Lead",
          "Data Analytics Manager",
          "Data Analytics Specialist",
          "Data Architect",
          "Data DevOps Engineer",
          "Data Engineer",
          "Data Infrastructure Engineer",
          "Data Lead",
          "Data Management Specialist",
          "Data Manager",
          "Data Modeler",
          "Data Operations Analyst",
          "Data Operations Engineer",
          "Data Quality Analyst",
          "Data Science Consultant",
          "Data Science Engineer",
          "Data Science Lead",
          "Data Science Manager",
          "Data Science Tech Lead",
          "Data Scientist",
          "Data Scientist Lead",
          "Data Specialist",
          "Data Strategist",
          "Deep Learning Engineer",
          "Deep Learning Researcher",
          "Director of Data Science",
          "ETL Developer",
          "ETL Engineer",
          "Finance Data Analyst",
          "Financial Data Analyst",
          "Head of Data",
          "Head of Data Science",
          "Head of Machine Learning",
          "Insight Analyst",
          "Lead Data Analyst",
          "Lead Data Engineer",
          "Lead Data Scientist",
          "Lead Machine Learning Engineer",
          "ML Engineer",
          "MLOps Engineer",
          "Machine Learning Developer",
          "Machine Learning Engineer",
          "Machine Learning Infrastructure Engineer",
          "Machine Learning Manager",
          "Machine Learning Research Engineer",
          "Machine Learning Researcher",
          "Machine Learning Scientist",
          "Machine Learning Software Engineer",
          "Manager Data Management",
          "Marketing Data Analyst",
          "Marketing Data Engineer",
          "NLP Engineer",
          "Power BI Developer",
          "Principal Data Analyst",
          "Principal Data Architect",
          "Principal Data Engineer",
          "Principal Data Scientist",
          "Principal Machine Learning Engineer",
          "Product Data Analyst",
          "Product Data Scientist",
          "Research Engineer",
          "Research Scientist",
          "Software Data Engineer",
          "Staff Data Analyst",
          "Staff Data Scientist"
         ],
         "xaxis": "x",
         "y": [
          21352.25,
          136666.0909090909,
          55000,
          110120.875,
          152368.63106796116,
          113726.3,
          99875.5,
          109452.83333333333,
          190264.4827586207,
          26277.5,
          100000,
          104888.88888888889,
          60440.13333333333,
          60000,
          129846.15384615384,
          125802.5,
          68672,
          66065.4,
          174150,
          250000,
          87300.66666666667,
          155000,
          30000,
          143536.11111111112,
          77694.6,
          108716.227124183,
          81500,
          67866.16666666667,
          211254.5,
          141879.0909090909,
          95000,
          161713.77227722772,
          53654,
          142785.7346153846,
          175051.66666666666,
          212500,
          68293,
          116613.3448275862,
          118900,
          90562.5,
          98485,
          85311.42857142857,
          87011.75,
          93482,
          156334.375,
          191278.77586206896,
          375000,
          140869.76547619049,
          136153,
          119642.85714285714,
          81000,
          109241,
          123405,
          195140.72727272726,
          131453.6,
          71394.5,
          61896,
          101666.66666666667,
          183857.5,
          160591.66666666666,
          76309,
          46786,
          72569.4,
          139230.33333333334,
          112775.55555555556,
          82927.66666666667,
          158352.4411764706,
          129000,
          74518.28571428571,
          154690.7266435986,
          143011.81818181818,
          155701.33333333334,
          42819.25,
          105872.66666666667,
          163220.07692307694,
          192420,
          125000,
          144327,
          66970,
          132785.2857142857,
          5409,
          122500,
          38154,
          192500,
          198171.125,
          190000,
          56497.2,
          8000,
          163108.37837837837,
          161214.19512195123,
          62510,
          15000,
          105000
         ],
         "yaxis": "y"
        }
       ],
       "layout": {
        "barmode": "relative",
        "height": 500,
        "legend": {
         "tracegroupgap": 0
        },
        "template": {
         "data": {
          "bar": [
           {
            "error_x": {
             "color": "#2a3f5f"
            },
            "error_y": {
             "color": "#2a3f5f"
            },
            "marker": {
             "line": {
              "color": "#E5ECF6",
              "width": 0.5
             },
             "pattern": {
              "fillmode": "overlay",
              "size": 10,
              "solidity": 0.2
             }
            },
            "type": "bar"
           }
          ],
          "barpolar": [
           {
            "marker": {
             "line": {
              "color": "#E5ECF6",
              "width": 0.5
             },
             "pattern": {
              "fillmode": "overlay",
              "size": 10,
              "solidity": 0.2
             }
            },
            "type": "barpolar"
           }
          ],
          "carpet": [
           {
            "aaxis": {
             "endlinecolor": "#2a3f5f",
             "gridcolor": "white",
             "linecolor": "white",
             "minorgridcolor": "white",
             "startlinecolor": "#2a3f5f"
            },
            "baxis": {
             "endlinecolor": "#2a3f5f",
             "gridcolor": "white",
             "linecolor": "white",
             "minorgridcolor": "white",
             "startlinecolor": "#2a3f5f"
            },
            "type": "carpet"
           }
          ],
          "choropleth": [
           {
            "colorbar": {
             "outlinewidth": 0,
             "ticks": ""
            },
            "type": "choropleth"
           }
          ],
          "contour": [
           {
            "colorbar": {
             "outlinewidth": 0,
             "ticks": ""
            },
            "colorscale": [
             [
              0,
              "#0d0887"
             ],
             [
              0.1111111111111111,
              "#46039f"
             ],
             [
              0.2222222222222222,
              "#7201a8"
             ],
             [
              0.3333333333333333,
              "#9c179e"
             ],
             [
              0.4444444444444444,
              "#bd3786"
             ],
             [
              0.5555555555555556,
              "#d8576b"
             ],
             [
              0.6666666666666666,
              "#ed7953"
             ],
             [
              0.7777777777777778,
              "#fb9f3a"
             ],
             [
              0.8888888888888888,
              "#fdca26"
             ],
             [
              1,
              "#f0f921"
             ]
            ],
            "type": "contour"
           }
          ],
          "contourcarpet": [
           {
            "colorbar": {
             "outlinewidth": 0,
             "ticks": ""
            },
            "type": "contourcarpet"
           }
          ],
          "heatmap": [
           {
            "colorbar": {
             "outlinewidth": 0,
             "ticks": ""
            },
            "colorscale": [
             [
              0,
              "#0d0887"
             ],
             [
              0.1111111111111111,
              "#46039f"
             ],
             [
              0.2222222222222222,
              "#7201a8"
             ],
             [
              0.3333333333333333,
              "#9c179e"
             ],
             [
              0.4444444444444444,
              "#bd3786"
             ],
             [
              0.5555555555555556,
              "#d8576b"
             ],
             [
              0.6666666666666666,
              "#ed7953"
             ],
             [
              0.7777777777777778,
              "#fb9f3a"
             ],
             [
              0.8888888888888888,
              "#fdca26"
             ],
             [
              1,
              "#f0f921"
             ]
            ],
            "type": "heatmap"
           }
          ],
          "heatmapgl": [
           {
            "colorbar": {
             "outlinewidth": 0,
             "ticks": ""
            },
            "colorscale": [
             [
              0,
              "#0d0887"
             ],
             [
              0.1111111111111111,
              "#46039f"
             ],
             [
              0.2222222222222222,
              "#7201a8"
             ],
             [
              0.3333333333333333,
              "#9c179e"
             ],
             [
              0.4444444444444444,
              "#bd3786"
             ],
             [
              0.5555555555555556,
              "#d8576b"
             ],
             [
              0.6666666666666666,
              "#ed7953"
             ],
             [
              0.7777777777777778,
              "#fb9f3a"
             ],
             [
              0.8888888888888888,
              "#fdca26"
             ],
             [
              1,
              "#f0f921"
             ]
            ],
            "type": "heatmapgl"
           }
          ],
          "histogram": [
           {
            "marker": {
             "pattern": {
              "fillmode": "overlay",
              "size": 10,
              "solidity": 0.2
             }
            },
            "type": "histogram"
           }
          ],
          "histogram2d": [
           {
            "colorbar": {
             "outlinewidth": 0,
             "ticks": ""
            },
            "colorscale": [
             [
              0,
              "#0d0887"
             ],
             [
              0.1111111111111111,
              "#46039f"
             ],
             [
              0.2222222222222222,
              "#7201a8"
             ],
             [
              0.3333333333333333,
              "#9c179e"
             ],
             [
              0.4444444444444444,
              "#bd3786"
             ],
             [
              0.5555555555555556,
              "#d8576b"
             ],
             [
              0.6666666666666666,
              "#ed7953"
             ],
             [
              0.7777777777777778,
              "#fb9f3a"
             ],
             [
              0.8888888888888888,
              "#fdca26"
             ],
             [
              1,
              "#f0f921"
             ]
            ],
            "type": "histogram2d"
           }
          ],
          "histogram2dcontour": [
           {
            "colorbar": {
             "outlinewidth": 0,
             "ticks": ""
            },
            "colorscale": [
             [
              0,
              "#0d0887"
             ],
             [
              0.1111111111111111,
              "#46039f"
             ],
             [
              0.2222222222222222,
              "#7201a8"
             ],
             [
              0.3333333333333333,
              "#9c179e"
             ],
             [
              0.4444444444444444,
              "#bd3786"
             ],
             [
              0.5555555555555556,
              "#d8576b"
             ],
             [
              0.6666666666666666,
              "#ed7953"
             ],
             [
              0.7777777777777778,
              "#fb9f3a"
             ],
             [
              0.8888888888888888,
              "#fdca26"
             ],
             [
              1,
              "#f0f921"
             ]
            ],
            "type": "histogram2dcontour"
           }
          ],
          "mesh3d": [
           {
            "colorbar": {
             "outlinewidth": 0,
             "ticks": ""
            },
            "type": "mesh3d"
           }
          ],
          "parcoords": [
           {
            "line": {
             "colorbar": {
              "outlinewidth": 0,
              "ticks": ""
             }
            },
            "type": "parcoords"
           }
          ],
          "pie": [
           {
            "automargin": true,
            "type": "pie"
           }
          ],
          "scatter": [
           {
            "fillpattern": {
             "fillmode": "overlay",
             "size": 10,
             "solidity": 0.2
            },
            "type": "scatter"
           }
          ],
          "scatter3d": [
           {
            "line": {
             "colorbar": {
              "outlinewidth": 0,
              "ticks": ""
             }
            },
            "marker": {
             "colorbar": {
              "outlinewidth": 0,
              "ticks": ""
             }
            },
            "type": "scatter3d"
           }
          ],
          "scattercarpet": [
           {
            "marker": {
             "colorbar": {
              "outlinewidth": 0,
              "ticks": ""
             }
            },
            "type": "scattercarpet"
           }
          ],
          "scattergeo": [
           {
            "marker": {
             "colorbar": {
              "outlinewidth": 0,
              "ticks": ""
             }
            },
            "type": "scattergeo"
           }
          ],
          "scattergl": [
           {
            "marker": {
             "colorbar": {
              "outlinewidth": 0,
              "ticks": ""
             }
            },
            "type": "scattergl"
           }
          ],
          "scattermapbox": [
           {
            "marker": {
             "colorbar": {
              "outlinewidth": 0,
              "ticks": ""
             }
            },
            "type": "scattermapbox"
           }
          ],
          "scatterpolar": [
           {
            "marker": {
             "colorbar": {
              "outlinewidth": 0,
              "ticks": ""
             }
            },
            "type": "scatterpolar"
           }
          ],
          "scatterpolargl": [
           {
            "marker": {
             "colorbar": {
              "outlinewidth": 0,
              "ticks": ""
             }
            },
            "type": "scatterpolargl"
           }
          ],
          "scatterternary": [
           {
            "marker": {
             "colorbar": {
              "outlinewidth": 0,
              "ticks": ""
             }
            },
            "type": "scatterternary"
           }
          ],
          "surface": [
           {
            "colorbar": {
             "outlinewidth": 0,
             "ticks": ""
            },
            "colorscale": [
             [
              0,
              "#0d0887"
             ],
             [
              0.1111111111111111,
              "#46039f"
             ],
             [
              0.2222222222222222,
              "#7201a8"
             ],
             [
              0.3333333333333333,
              "#9c179e"
             ],
             [
              0.4444444444444444,
              "#bd3786"
             ],
             [
              0.5555555555555556,
              "#d8576b"
             ],
             [
              0.6666666666666666,
              "#ed7953"
             ],
             [
              0.7777777777777778,
              "#fb9f3a"
             ],
             [
              0.8888888888888888,
              "#fdca26"
             ],
             [
              1,
              "#f0f921"
             ]
            ],
            "type": "surface"
           }
          ],
          "table": [
           {
            "cells": {
             "fill": {
              "color": "#EBF0F8"
             },
             "line": {
              "color": "white"
             }
            },
            "header": {
             "fill": {
              "color": "#C8D4E3"
             },
             "line": {
              "color": "white"
             }
            },
            "type": "table"
           }
          ]
         },
         "layout": {
          "annotationdefaults": {
           "arrowcolor": "#2a3f5f",
           "arrowhead": 0,
           "arrowwidth": 1
          },
          "autotypenumbers": "strict",
          "coloraxis": {
           "colorbar": {
            "outlinewidth": 0,
            "ticks": ""
           }
          },
          "colorscale": {
           "diverging": [
            [
             0,
             "#8e0152"
            ],
            [
             0.1,
             "#c51b7d"
            ],
            [
             0.2,
             "#de77ae"
            ],
            [
             0.3,
             "#f1b6da"
            ],
            [
             0.4,
             "#fde0ef"
            ],
            [
             0.5,
             "#f7f7f7"
            ],
            [
             0.6,
             "#e6f5d0"
            ],
            [
             0.7,
             "#b8e186"
            ],
            [
             0.8,
             "#7fbc41"
            ],
            [
             0.9,
             "#4d9221"
            ],
            [
             1,
             "#276419"
            ]
           ],
           "sequential": [
            [
             0,
             "#0d0887"
            ],
            [
             0.1111111111111111,
             "#46039f"
            ],
            [
             0.2222222222222222,
             "#7201a8"
            ],
            [
             0.3333333333333333,
             "#9c179e"
            ],
            [
             0.4444444444444444,
             "#bd3786"
            ],
            [
             0.5555555555555556,
             "#d8576b"
            ],
            [
             0.6666666666666666,
             "#ed7953"
            ],
            [
             0.7777777777777778,
             "#fb9f3a"
            ],
            [
             0.8888888888888888,
             "#fdca26"
            ],
            [
             1,
             "#f0f921"
            ]
           ],
           "sequentialminus": [
            [
             0,
             "#0d0887"
            ],
            [
             0.1111111111111111,
             "#46039f"
            ],
            [
             0.2222222222222222,
             "#7201a8"
            ],
            [
             0.3333333333333333,
             "#9c179e"
            ],
            [
             0.4444444444444444,
             "#bd3786"
            ],
            [
             0.5555555555555556,
             "#d8576b"
            ],
            [
             0.6666666666666666,
             "#ed7953"
            ],
            [
             0.7777777777777778,
             "#fb9f3a"
            ],
            [
             0.8888888888888888,
             "#fdca26"
            ],
            [
             1,
             "#f0f921"
            ]
           ]
          },
          "colorway": [
           "#636efa",
           "#EF553B",
           "#00cc96",
           "#ab63fa",
           "#FFA15A",
           "#19d3f3",
           "#FF6692",
           "#B6E880",
           "#FF97FF",
           "#FECB52"
          ],
          "font": {
           "color": "#2a3f5f"
          },
          "geo": {
           "bgcolor": "white",
           "lakecolor": "white",
           "landcolor": "#E5ECF6",
           "showlakes": true,
           "showland": true,
           "subunitcolor": "white"
          },
          "hoverlabel": {
           "align": "left"
          },
          "hovermode": "closest",
          "mapbox": {
           "style": "light"
          },
          "paper_bgcolor": "white",
          "plot_bgcolor": "#E5ECF6",
          "polar": {
           "angularaxis": {
            "gridcolor": "white",
            "linecolor": "white",
            "ticks": ""
           },
           "bgcolor": "#E5ECF6",
           "radialaxis": {
            "gridcolor": "white",
            "linecolor": "white",
            "ticks": ""
           }
          },
          "scene": {
           "xaxis": {
            "backgroundcolor": "#E5ECF6",
            "gridcolor": "white",
            "gridwidth": 2,
            "linecolor": "white",
            "showbackground": true,
            "ticks": "",
            "zerolinecolor": "white"
           },
           "yaxis": {
            "backgroundcolor": "#E5ECF6",
            "gridcolor": "white",
            "gridwidth": 2,
            "linecolor": "white",
            "showbackground": true,
            "ticks": "",
            "zerolinecolor": "white"
           },
           "zaxis": {
            "backgroundcolor": "#E5ECF6",
            "gridcolor": "white",
            "gridwidth": 2,
            "linecolor": "white",
            "showbackground": true,
            "ticks": "",
            "zerolinecolor": "white"
           }
          },
          "shapedefaults": {
           "line": {
            "color": "#2a3f5f"
           }
          },
          "ternary": {
           "aaxis": {
            "gridcolor": "white",
            "linecolor": "white",
            "ticks": ""
           },
           "baxis": {
            "gridcolor": "white",
            "linecolor": "white",
            "ticks": ""
           },
           "bgcolor": "#E5ECF6",
           "caxis": {
            "gridcolor": "white",
            "linecolor": "white",
            "ticks": ""
           }
          },
          "title": {
           "x": 0.05
          },
          "xaxis": {
           "automargin": true,
           "gridcolor": "white",
           "linecolor": "white",
           "ticks": "",
           "title": {
            "standoff": 15
           },
           "zerolinecolor": "white",
           "zerolinewidth": 2
          },
          "yaxis": {
           "automargin": true,
           "gridcolor": "white",
           "linecolor": "white",
           "ticks": "",
           "title": {
            "standoff": 15
           },
           "zerolinecolor": "white",
           "zerolinewidth": 2
          }
         }
        },
        "title": {
         "text": "Average Salary by Job Title"
        },
        "xaxis": {
         "anchor": "y",
         "domain": [
          0,
          1
         ],
         "title": {
          "text": "job_title"
         }
        },
        "yaxis": {
         "anchor": "x",
         "domain": [
          0,
          1
         ],
         "title": {
          "text": "Average Salary (USD)"
         }
        }
       }
      },
      "text/html": [
       "<div>                            <div id=\"29f775b6-d93a-42aa-ba52-7727499f8043\" class=\"plotly-graph-div\" style=\"height:500px; width:100%;\"></div>            <script type=\"text/javascript\">                require([\"plotly\"], function(Plotly) {                    window.PLOTLYENV=window.PLOTLYENV || {};                                    if (document.getElementById(\"29f775b6-d93a-42aa-ba52-7727499f8043\")) {                    Plotly.newPlot(                        \"29f775b6-d93a-42aa-ba52-7727499f8043\",                        [{\"alignmentgroup\":\"True\",\"hovertemplate\":\"job_title=%{x}<br>Average Salary (USD)=%{y}<extra></extra>\",\"legendgroup\":\"\",\"marker\":{\"color\":\"#636efa\",\"pattern\":{\"shape\":\"\"}},\"name\":\"\",\"offsetgroup\":\"\",\"orientation\":\"v\",\"showlegend\":false,\"textposition\":\"auto\",\"x\":[\"3D Computer Vision Researcher\",\"AI Developer\",\"AI Programmer\",\"AI Scientist\",\"Analytics Engineer\",\"Applied Data Scientist\",\"Applied Machine Learning Engineer\",\"Applied Machine Learning Scientist\",\"Applied Scientist\",\"Autonomous Vehicle Technician\",\"Azure Data Engineer\",\"BI Analyst\",\"BI Data Analyst\",\"BI Data Engineer\",\"BI Developer\",\"Big Data Architect\",\"Big Data Engineer\",\"Business Data Analyst\",\"Business Intelligence Engineer\",\"Cloud Data Architect\",\"Cloud Data Engineer\",\"Cloud Database Engineer\",\"Compliance Data Analyst\",\"Computer Vision Engineer\",\"Computer Vision Software Engineer\",\"Data Analyst\",\"Data Analytics Consultant\",\"Data Analytics Engineer\",\"Data Analytics Lead\",\"Data Analytics Manager\",\"Data Analytics Specialist\",\"Data Architect\",\"Data DevOps Engineer\",\"Data Engineer\",\"Data Infrastructure Engineer\",\"Data Lead\",\"Data Management Specialist\",\"Data Manager\",\"Data Modeler\",\"Data Operations Analyst\",\"Data Operations Engineer\",\"Data Quality Analyst\",\"Data Science Consultant\",\"Data Science Engineer\",\"Data Science Lead\",\"Data Science Manager\",\"Data Science Tech Lead\",\"Data Scientist\",\"Data Scientist Lead\",\"Data Specialist\",\"Data Strategist\",\"Deep Learning Engineer\",\"Deep Learning Researcher\",\"Director of Data Science\",\"ETL Developer\",\"ETL Engineer\",\"Finance Data Analyst\",\"Financial Data Analyst\",\"Head of Data\",\"Head of Data Science\",\"Head of Machine Learning\",\"Insight Analyst\",\"Lead Data Analyst\",\"Lead Data Engineer\",\"Lead Data Scientist\",\"Lead Machine Learning Engineer\",\"ML Engineer\",\"MLOps Engineer\",\"Machine Learning Developer\",\"Machine Learning Engineer\",\"Machine Learning Infrastructure Engineer\",\"Machine Learning Manager\",\"Machine Learning Research Engineer\",\"Machine Learning Researcher\",\"Machine Learning Scientist\",\"Machine Learning Software Engineer\",\"Manager Data Management\",\"Marketing Data Analyst\",\"Marketing Data Engineer\",\"NLP Engineer\",\"Power BI Developer\",\"Principal Data Analyst\",\"Principal Data Architect\",\"Principal Data Engineer\",\"Principal Data Scientist\",\"Principal Machine Learning Engineer\",\"Product Data Analyst\",\"Product Data Scientist\",\"Research Engineer\",\"Research Scientist\",\"Software Data Engineer\",\"Staff Data Analyst\",\"Staff Data Scientist\"],\"xaxis\":\"x\",\"y\":[21352.25,136666.0909090909,55000.0,110120.875,152368.63106796116,113726.3,99875.5,109452.83333333333,190264.4827586207,26277.5,100000.0,104888.88888888889,60440.13333333333,60000.0,129846.15384615384,125802.5,68672.0,66065.4,174150.0,250000.0,87300.66666666667,155000.0,30000.0,143536.11111111112,77694.6,108716.227124183,81500.0,67866.16666666667,211254.5,141879.0909090909,95000.0,161713.77227722772,53654.0,142785.7346153846,175051.66666666666,212500.0,68293.0,116613.3448275862,118900.0,90562.5,98485.0,85311.42857142857,87011.75,93482.0,156334.375,191278.77586206896,375000.0,140869.76547619049,136153.0,119642.85714285714,81000.0,109241.0,123405.0,195140.72727272726,131453.6,71394.5,61896.0,101666.66666666667,183857.5,160591.66666666666,76309.0,46786.0,72569.4,139230.33333333334,112775.55555555556,82927.66666666667,158352.4411764706,129000.0,74518.28571428571,154690.7266435986,143011.81818181818,155701.33333333334,42819.25,105872.66666666667,163220.07692307694,192420.0,125000.0,144327.0,66970.0,132785.2857142857,5409.0,122500.0,38154.0,192500.0,198171.125,190000.0,56497.2,8000.0,163108.37837837837,161214.19512195123,62510.0,15000.0,105000.0],\"yaxis\":\"y\",\"type\":\"bar\"}],                        {\"template\":{\"data\":{\"histogram2dcontour\":[{\"type\":\"histogram2dcontour\",\"colorbar\":{\"outlinewidth\":0,\"ticks\":\"\"},\"colorscale\":[[0.0,\"#0d0887\"],[0.1111111111111111,\"#46039f\"],[0.2222222222222222,\"#7201a8\"],[0.3333333333333333,\"#9c179e\"],[0.4444444444444444,\"#bd3786\"],[0.5555555555555556,\"#d8576b\"],[0.6666666666666666,\"#ed7953\"],[0.7777777777777778,\"#fb9f3a\"],[0.8888888888888888,\"#fdca26\"],[1.0,\"#f0f921\"]]}],\"choropleth\":[{\"type\":\"choropleth\",\"colorbar\":{\"outlinewidth\":0,\"ticks\":\"\"}}],\"histogram2d\":[{\"type\":\"histogram2d\",\"colorbar\":{\"outlinewidth\":0,\"ticks\":\"\"},\"colorscale\":[[0.0,\"#0d0887\"],[0.1111111111111111,\"#46039f\"],[0.2222222222222222,\"#7201a8\"],[0.3333333333333333,\"#9c179e\"],[0.4444444444444444,\"#bd3786\"],[0.5555555555555556,\"#d8576b\"],[0.6666666666666666,\"#ed7953\"],[0.7777777777777778,\"#fb9f3a\"],[0.8888888888888888,\"#fdca26\"],[1.0,\"#f0f921\"]]}],\"heatmap\":[{\"type\":\"heatmap\",\"colorbar\":{\"outlinewidth\":0,\"ticks\":\"\"},\"colorscale\":[[0.0,\"#0d0887\"],[0.1111111111111111,\"#46039f\"],[0.2222222222222222,\"#7201a8\"],[0.3333333333333333,\"#9c179e\"],[0.4444444444444444,\"#bd3786\"],[0.5555555555555556,\"#d8576b\"],[0.6666666666666666,\"#ed7953\"],[0.7777777777777778,\"#fb9f3a\"],[0.8888888888888888,\"#fdca26\"],[1.0,\"#f0f921\"]]}],\"heatmapgl\":[{\"type\":\"heatmapgl\",\"colorbar\":{\"outlinewidth\":0,\"ticks\":\"\"},\"colorscale\":[[0.0,\"#0d0887\"],[0.1111111111111111,\"#46039f\"],[0.2222222222222222,\"#7201a8\"],[0.3333333333333333,\"#9c179e\"],[0.4444444444444444,\"#bd3786\"],[0.5555555555555556,\"#d8576b\"],[0.6666666666666666,\"#ed7953\"],[0.7777777777777778,\"#fb9f3a\"],[0.8888888888888888,\"#fdca26\"],[1.0,\"#f0f921\"]]}],\"contourcarpet\":[{\"type\":\"contourcarpet\",\"colorbar\":{\"outlinewidth\":0,\"ticks\":\"\"}}],\"contour\":[{\"type\":\"contour\",\"colorbar\":{\"outlinewidth\":0,\"ticks\":\"\"},\"colorscale\":[[0.0,\"#0d0887\"],[0.1111111111111111,\"#46039f\"],[0.2222222222222222,\"#7201a8\"],[0.3333333333333333,\"#9c179e\"],[0.4444444444444444,\"#bd3786\"],[0.5555555555555556,\"#d8576b\"],[0.6666666666666666,\"#ed7953\"],[0.7777777777777778,\"#fb9f3a\"],[0.8888888888888888,\"#fdca26\"],[1.0,\"#f0f921\"]]}],\"surface\":[{\"type\":\"surface\",\"colorbar\":{\"outlinewidth\":0,\"ticks\":\"\"},\"colorscale\":[[0.0,\"#0d0887\"],[0.1111111111111111,\"#46039f\"],[0.2222222222222222,\"#7201a8\"],[0.3333333333333333,\"#9c179e\"],[0.4444444444444444,\"#bd3786\"],[0.5555555555555556,\"#d8576b\"],[0.6666666666666666,\"#ed7953\"],[0.7777777777777778,\"#fb9f3a\"],[0.8888888888888888,\"#fdca26\"],[1.0,\"#f0f921\"]]}],\"mesh3d\":[{\"type\":\"mesh3d\",\"colorbar\":{\"outlinewidth\":0,\"ticks\":\"\"}}],\"scatter\":[{\"fillpattern\":{\"fillmode\":\"overlay\",\"size\":10,\"solidity\":0.2},\"type\":\"scatter\"}],\"parcoords\":[{\"type\":\"parcoords\",\"line\":{\"colorbar\":{\"outlinewidth\":0,\"ticks\":\"\"}}}],\"scatterpolargl\":[{\"type\":\"scatterpolargl\",\"marker\":{\"colorbar\":{\"outlinewidth\":0,\"ticks\":\"\"}}}],\"bar\":[{\"error_x\":{\"color\":\"#2a3f5f\"},\"error_y\":{\"color\":\"#2a3f5f\"},\"marker\":{\"line\":{\"color\":\"#E5ECF6\",\"width\":0.5},\"pattern\":{\"fillmode\":\"overlay\",\"size\":10,\"solidity\":0.2}},\"type\":\"bar\"}],\"scattergeo\":[{\"type\":\"scattergeo\",\"marker\":{\"colorbar\":{\"outlinewidth\":0,\"ticks\":\"\"}}}],\"scatterpolar\":[{\"type\":\"scatterpolar\",\"marker\":{\"colorbar\":{\"outlinewidth\":0,\"ticks\":\"\"}}}],\"histogram\":[{\"marker\":{\"pattern\":{\"fillmode\":\"overlay\",\"size\":10,\"solidity\":0.2}},\"type\":\"histogram\"}],\"scattergl\":[{\"type\":\"scattergl\",\"marker\":{\"colorbar\":{\"outlinewidth\":0,\"ticks\":\"\"}}}],\"scatter3d\":[{\"type\":\"scatter3d\",\"line\":{\"colorbar\":{\"outlinewidth\":0,\"ticks\":\"\"}},\"marker\":{\"colorbar\":{\"outlinewidth\":0,\"ticks\":\"\"}}}],\"scattermapbox\":[{\"type\":\"scattermapbox\",\"marker\":{\"colorbar\":{\"outlinewidth\":0,\"ticks\":\"\"}}}],\"scatterternary\":[{\"type\":\"scatterternary\",\"marker\":{\"colorbar\":{\"outlinewidth\":0,\"ticks\":\"\"}}}],\"scattercarpet\":[{\"type\":\"scattercarpet\",\"marker\":{\"colorbar\":{\"outlinewidth\":0,\"ticks\":\"\"}}}],\"carpet\":[{\"aaxis\":{\"endlinecolor\":\"#2a3f5f\",\"gridcolor\":\"white\",\"linecolor\":\"white\",\"minorgridcolor\":\"white\",\"startlinecolor\":\"#2a3f5f\"},\"baxis\":{\"endlinecolor\":\"#2a3f5f\",\"gridcolor\":\"white\",\"linecolor\":\"white\",\"minorgridcolor\":\"white\",\"startlinecolor\":\"#2a3f5f\"},\"type\":\"carpet\"}],\"table\":[{\"cells\":{\"fill\":{\"color\":\"#EBF0F8\"},\"line\":{\"color\":\"white\"}},\"header\":{\"fill\":{\"color\":\"#C8D4E3\"},\"line\":{\"color\":\"white\"}},\"type\":\"table\"}],\"barpolar\":[{\"marker\":{\"line\":{\"color\":\"#E5ECF6\",\"width\":0.5},\"pattern\":{\"fillmode\":\"overlay\",\"size\":10,\"solidity\":0.2}},\"type\":\"barpolar\"}],\"pie\":[{\"automargin\":true,\"type\":\"pie\"}]},\"layout\":{\"autotypenumbers\":\"strict\",\"colorway\":[\"#636efa\",\"#EF553B\",\"#00cc96\",\"#ab63fa\",\"#FFA15A\",\"#19d3f3\",\"#FF6692\",\"#B6E880\",\"#FF97FF\",\"#FECB52\"],\"font\":{\"color\":\"#2a3f5f\"},\"hovermode\":\"closest\",\"hoverlabel\":{\"align\":\"left\"},\"paper_bgcolor\":\"white\",\"plot_bgcolor\":\"#E5ECF6\",\"polar\":{\"bgcolor\":\"#E5ECF6\",\"angularaxis\":{\"gridcolor\":\"white\",\"linecolor\":\"white\",\"ticks\":\"\"},\"radialaxis\":{\"gridcolor\":\"white\",\"linecolor\":\"white\",\"ticks\":\"\"}},\"ternary\":{\"bgcolor\":\"#E5ECF6\",\"aaxis\":{\"gridcolor\":\"white\",\"linecolor\":\"white\",\"ticks\":\"\"},\"baxis\":{\"gridcolor\":\"white\",\"linecolor\":\"white\",\"ticks\":\"\"},\"caxis\":{\"gridcolor\":\"white\",\"linecolor\":\"white\",\"ticks\":\"\"}},\"coloraxis\":{\"colorbar\":{\"outlinewidth\":0,\"ticks\":\"\"}},\"colorscale\":{\"sequential\":[[0.0,\"#0d0887\"],[0.1111111111111111,\"#46039f\"],[0.2222222222222222,\"#7201a8\"],[0.3333333333333333,\"#9c179e\"],[0.4444444444444444,\"#bd3786\"],[0.5555555555555556,\"#d8576b\"],[0.6666666666666666,\"#ed7953\"],[0.7777777777777778,\"#fb9f3a\"],[0.8888888888888888,\"#fdca26\"],[1.0,\"#f0f921\"]],\"sequentialminus\":[[0.0,\"#0d0887\"],[0.1111111111111111,\"#46039f\"],[0.2222222222222222,\"#7201a8\"],[0.3333333333333333,\"#9c179e\"],[0.4444444444444444,\"#bd3786\"],[0.5555555555555556,\"#d8576b\"],[0.6666666666666666,\"#ed7953\"],[0.7777777777777778,\"#fb9f3a\"],[0.8888888888888888,\"#fdca26\"],[1.0,\"#f0f921\"]],\"diverging\":[[0,\"#8e0152\"],[0.1,\"#c51b7d\"],[0.2,\"#de77ae\"],[0.3,\"#f1b6da\"],[0.4,\"#fde0ef\"],[0.5,\"#f7f7f7\"],[0.6,\"#e6f5d0\"],[0.7,\"#b8e186\"],[0.8,\"#7fbc41\"],[0.9,\"#4d9221\"],[1,\"#276419\"]]},\"xaxis\":{\"gridcolor\":\"white\",\"linecolor\":\"white\",\"ticks\":\"\",\"title\":{\"standoff\":15},\"zerolinecolor\":\"white\",\"automargin\":true,\"zerolinewidth\":2},\"yaxis\":{\"gridcolor\":\"white\",\"linecolor\":\"white\",\"ticks\":\"\",\"title\":{\"standoff\":15},\"zerolinecolor\":\"white\",\"automargin\":true,\"zerolinewidth\":2},\"scene\":{\"xaxis\":{\"backgroundcolor\":\"#E5ECF6\",\"gridcolor\":\"white\",\"linecolor\":\"white\",\"showbackground\":true,\"ticks\":\"\",\"zerolinecolor\":\"white\",\"gridwidth\":2},\"yaxis\":{\"backgroundcolor\":\"#E5ECF6\",\"gridcolor\":\"white\",\"linecolor\":\"white\",\"showbackground\":true,\"ticks\":\"\",\"zerolinecolor\":\"white\",\"gridwidth\":2},\"zaxis\":{\"backgroundcolor\":\"#E5ECF6\",\"gridcolor\":\"white\",\"linecolor\":\"white\",\"showbackground\":true,\"ticks\":\"\",\"zerolinecolor\":\"white\",\"gridwidth\":2}},\"shapedefaults\":{\"line\":{\"color\":\"#2a3f5f\"}},\"annotationdefaults\":{\"arrowcolor\":\"#2a3f5f\",\"arrowhead\":0,\"arrowwidth\":1},\"geo\":{\"bgcolor\":\"white\",\"landcolor\":\"#E5ECF6\",\"subunitcolor\":\"white\",\"showland\":true,\"showlakes\":true,\"lakecolor\":\"white\"},\"title\":{\"x\":0.05},\"mapbox\":{\"style\":\"light\"}}},\"xaxis\":{\"anchor\":\"y\",\"domain\":[0.0,1.0],\"title\":{\"text\":\"job_title\"}},\"yaxis\":{\"anchor\":\"x\",\"domain\":[0.0,1.0],\"title\":{\"text\":\"Average Salary (USD)\"}},\"legend\":{\"tracegroupgap\":0},\"title\":{\"text\":\"Average Salary by Job Title\"},\"barmode\":\"relative\",\"height\":500},                        {\"responsive\": true}                    ).then(function(){\n",
       "                            \n",
       "var gd = document.getElementById('29f775b6-d93a-42aa-ba52-7727499f8043');\n",
       "var x = new MutationObserver(function (mutations, observer) {{\n",
       "        var display = window.getComputedStyle(gd).display;\n",
       "        if (!display || display === 'none') {{\n",
       "            console.log([gd, 'removed!']);\n",
       "            Plotly.purge(gd);\n",
       "            observer.disconnect();\n",
       "        }}\n",
       "}});\n",
       "\n",
       "// Listen for the removal of the full notebook cells\n",
       "var notebookContainer = gd.closest('#notebook-container');\n",
       "if (notebookContainer) {{\n",
       "    x.observe(notebookContainer, {childList: true});\n",
       "}}\n",
       "\n",
       "// Listen for the clearing of the current output cell\n",
       "var outputEl = gd.closest('.output');\n",
       "if (outputEl) {{\n",
       "    x.observe(outputEl, {childList: true});\n",
       "}}\n",
       "\n",
       "                        })                };                });            </script>        </div>"
      ]
     },
     "metadata": {},
     "output_type": "display_data"
    }
   ],
   "source": [
    "# Group the data by job title and calculate the average salary for each title\n",
    "average_salary_by_job_title = df.groupby('job_title')['salary_in_usd'].mean().reset_index()\n",
    "\n",
    "# Create a bar chart for average salary by job title\n",
    "fig_salary_impact = px.bar(\n",
    "    average_salary_by_job_title,\n",
    "    x='job_title',\n",
    "    y='salary_in_usd',\n",
    "    title='Average Salary by Job Title',\n",
    "    labels={'salary_in_usd': 'Average Salary (USD)'},\n",
    "    height=500\n",
    ")\n",
    "\n",
    "# Show the bar chart\n",
    "fig_salary_impact.show()"
   ]
  },
  {
   "cell_type": "code",
   "execution_count": 146,
   "id": "5c5fa8a8",
   "metadata": {
    "scrolled": false
   },
   "outputs": [
    {
     "data": {
      "application/vnd.plotly.v1+json": {
       "config": {
        "plotlyServerURL": "https://plot.ly"
       },
       "data": [
        {
         "alignmentgroup": "True",
         "hovertemplate": "company_location=%{x}<br>Average Salary (USD)=%{y}<extra></extra>",
         "legendgroup": "",
         "marker": {
          "color": "#636efa",
          "pattern": {
           "shape": ""
          }
         },
         "name": "",
         "offsetgroup": "",
         "orientation": "v",
         "showlegend": false,
         "textposition": "auto",
         "type": "bar",
         "x": [
          "AE",
          "AL",
          "AM",
          "AR",
          "AS",
          "AT",
          "AU",
          "BA",
          "BE",
          "BO",
          "BR",
          "BS",
          "CA",
          "CF",
          "CH",
          "CL",
          "CN",
          "CO",
          "CR",
          "CZ",
          "DE",
          "DK",
          "DZ",
          "EE",
          "EG",
          "ES",
          "FI",
          "FR",
          "GB",
          "GH",
          "GR",
          "HK",
          "HN",
          "HR",
          "HU",
          "ID",
          "IE",
          "IL",
          "IN",
          "IQ",
          "IR",
          "IT",
          "JP",
          "KE",
          "LT",
          "LU",
          "LV",
          "MA",
          "MD",
          "MK",
          "MT",
          "MX",
          "MY",
          "NG",
          "NL",
          "NZ",
          "PH",
          "PK",
          "PL",
          "PR",
          "PT",
          "RO",
          "RU",
          "SE",
          "SG",
          "SI",
          "SK",
          "TH",
          "TR",
          "UA",
          "US",
          "VN"
         ],
         "xaxis": "x",
         "y": [
          100000,
          10000,
          50000,
          25000,
          29351,
          71354.83333333333,
          80033.42857142857,
          120000,
          76864.75,
          7500,
          40579.2,
          45555,
          131917.6896551724,
          48609,
          81722,
          40038,
          100000,
          64961,
          50000,
          35200,
          88288.80357142857,
          45558,
          100000,
          47416,
          22800,
          57676.06493506493,
          68792.66666666667,
          66138.73529411765,
          86890.05232558139,
          18500,
          51792.5,
          65062,
          20000,
          75967.66666666667,
          26709.5,
          34208,
          114943.42857142857,
          271446.5,
          30197.741379310344,
          100000,
          100000,
          41297.75,
          114127.33333333333,
          44636,
          94812,
          43942.666666666664,
          57946.5,
          10000,
          18000,
          6304,
          28369,
          97151.1,
          40000,
          78000,
          78738.30769230769,
          125000,
          50000,
          20000,
          61342.8,
          167500,
          50538.71428571428,
          56827,
          140333.33333333334,
          105000,
          53675,
          62766.75,
          12608,
          23064.333333333332,
          19058,
          57850,
          151822.00953947369,
          12000
         ],
         "yaxis": "y"
        }
       ],
       "layout": {
        "barmode": "relative",
        "height": 500,
        "legend": {
         "tracegroupgap": 0
        },
        "template": {
         "data": {
          "bar": [
           {
            "error_x": {
             "color": "#2a3f5f"
            },
            "error_y": {
             "color": "#2a3f5f"
            },
            "marker": {
             "line": {
              "color": "#E5ECF6",
              "width": 0.5
             },
             "pattern": {
              "fillmode": "overlay",
              "size": 10,
              "solidity": 0.2
             }
            },
            "type": "bar"
           }
          ],
          "barpolar": [
           {
            "marker": {
             "line": {
              "color": "#E5ECF6",
              "width": 0.5
             },
             "pattern": {
              "fillmode": "overlay",
              "size": 10,
              "solidity": 0.2
             }
            },
            "type": "barpolar"
           }
          ],
          "carpet": [
           {
            "aaxis": {
             "endlinecolor": "#2a3f5f",
             "gridcolor": "white",
             "linecolor": "white",
             "minorgridcolor": "white",
             "startlinecolor": "#2a3f5f"
            },
            "baxis": {
             "endlinecolor": "#2a3f5f",
             "gridcolor": "white",
             "linecolor": "white",
             "minorgridcolor": "white",
             "startlinecolor": "#2a3f5f"
            },
            "type": "carpet"
           }
          ],
          "choropleth": [
           {
            "colorbar": {
             "outlinewidth": 0,
             "ticks": ""
            },
            "type": "choropleth"
           }
          ],
          "contour": [
           {
            "colorbar": {
             "outlinewidth": 0,
             "ticks": ""
            },
            "colorscale": [
             [
              0,
              "#0d0887"
             ],
             [
              0.1111111111111111,
              "#46039f"
             ],
             [
              0.2222222222222222,
              "#7201a8"
             ],
             [
              0.3333333333333333,
              "#9c179e"
             ],
             [
              0.4444444444444444,
              "#bd3786"
             ],
             [
              0.5555555555555556,
              "#d8576b"
             ],
             [
              0.6666666666666666,
              "#ed7953"
             ],
             [
              0.7777777777777778,
              "#fb9f3a"
             ],
             [
              0.8888888888888888,
              "#fdca26"
             ],
             [
              1,
              "#f0f921"
             ]
            ],
            "type": "contour"
           }
          ],
          "contourcarpet": [
           {
            "colorbar": {
             "outlinewidth": 0,
             "ticks": ""
            },
            "type": "contourcarpet"
           }
          ],
          "heatmap": [
           {
            "colorbar": {
             "outlinewidth": 0,
             "ticks": ""
            },
            "colorscale": [
             [
              0,
              "#0d0887"
             ],
             [
              0.1111111111111111,
              "#46039f"
             ],
             [
              0.2222222222222222,
              "#7201a8"
             ],
             [
              0.3333333333333333,
              "#9c179e"
             ],
             [
              0.4444444444444444,
              "#bd3786"
             ],
             [
              0.5555555555555556,
              "#d8576b"
             ],
             [
              0.6666666666666666,
              "#ed7953"
             ],
             [
              0.7777777777777778,
              "#fb9f3a"
             ],
             [
              0.8888888888888888,
              "#fdca26"
             ],
             [
              1,
              "#f0f921"
             ]
            ],
            "type": "heatmap"
           }
          ],
          "heatmapgl": [
           {
            "colorbar": {
             "outlinewidth": 0,
             "ticks": ""
            },
            "colorscale": [
             [
              0,
              "#0d0887"
             ],
             [
              0.1111111111111111,
              "#46039f"
             ],
             [
              0.2222222222222222,
              "#7201a8"
             ],
             [
              0.3333333333333333,
              "#9c179e"
             ],
             [
              0.4444444444444444,
              "#bd3786"
             ],
             [
              0.5555555555555556,
              "#d8576b"
             ],
             [
              0.6666666666666666,
              "#ed7953"
             ],
             [
              0.7777777777777778,
              "#fb9f3a"
             ],
             [
              0.8888888888888888,
              "#fdca26"
             ],
             [
              1,
              "#f0f921"
             ]
            ],
            "type": "heatmapgl"
           }
          ],
          "histogram": [
           {
            "marker": {
             "pattern": {
              "fillmode": "overlay",
              "size": 10,
              "solidity": 0.2
             }
            },
            "type": "histogram"
           }
          ],
          "histogram2d": [
           {
            "colorbar": {
             "outlinewidth": 0,
             "ticks": ""
            },
            "colorscale": [
             [
              0,
              "#0d0887"
             ],
             [
              0.1111111111111111,
              "#46039f"
             ],
             [
              0.2222222222222222,
              "#7201a8"
             ],
             [
              0.3333333333333333,
              "#9c179e"
             ],
             [
              0.4444444444444444,
              "#bd3786"
             ],
             [
              0.5555555555555556,
              "#d8576b"
             ],
             [
              0.6666666666666666,
              "#ed7953"
             ],
             [
              0.7777777777777778,
              "#fb9f3a"
             ],
             [
              0.8888888888888888,
              "#fdca26"
             ],
             [
              1,
              "#f0f921"
             ]
            ],
            "type": "histogram2d"
           }
          ],
          "histogram2dcontour": [
           {
            "colorbar": {
             "outlinewidth": 0,
             "ticks": ""
            },
            "colorscale": [
             [
              0,
              "#0d0887"
             ],
             [
              0.1111111111111111,
              "#46039f"
             ],
             [
              0.2222222222222222,
              "#7201a8"
             ],
             [
              0.3333333333333333,
              "#9c179e"
             ],
             [
              0.4444444444444444,
              "#bd3786"
             ],
             [
              0.5555555555555556,
              "#d8576b"
             ],
             [
              0.6666666666666666,
              "#ed7953"
             ],
             [
              0.7777777777777778,
              "#fb9f3a"
             ],
             [
              0.8888888888888888,
              "#fdca26"
             ],
             [
              1,
              "#f0f921"
             ]
            ],
            "type": "histogram2dcontour"
           }
          ],
          "mesh3d": [
           {
            "colorbar": {
             "outlinewidth": 0,
             "ticks": ""
            },
            "type": "mesh3d"
           }
          ],
          "parcoords": [
           {
            "line": {
             "colorbar": {
              "outlinewidth": 0,
              "ticks": ""
             }
            },
            "type": "parcoords"
           }
          ],
          "pie": [
           {
            "automargin": true,
            "type": "pie"
           }
          ],
          "scatter": [
           {
            "fillpattern": {
             "fillmode": "overlay",
             "size": 10,
             "solidity": 0.2
            },
            "type": "scatter"
           }
          ],
          "scatter3d": [
           {
            "line": {
             "colorbar": {
              "outlinewidth": 0,
              "ticks": ""
             }
            },
            "marker": {
             "colorbar": {
              "outlinewidth": 0,
              "ticks": ""
             }
            },
            "type": "scatter3d"
           }
          ],
          "scattercarpet": [
           {
            "marker": {
             "colorbar": {
              "outlinewidth": 0,
              "ticks": ""
             }
            },
            "type": "scattercarpet"
           }
          ],
          "scattergeo": [
           {
            "marker": {
             "colorbar": {
              "outlinewidth": 0,
              "ticks": ""
             }
            },
            "type": "scattergeo"
           }
          ],
          "scattergl": [
           {
            "marker": {
             "colorbar": {
              "outlinewidth": 0,
              "ticks": ""
             }
            },
            "type": "scattergl"
           }
          ],
          "scattermapbox": [
           {
            "marker": {
             "colorbar": {
              "outlinewidth": 0,
              "ticks": ""
             }
            },
            "type": "scattermapbox"
           }
          ],
          "scatterpolar": [
           {
            "marker": {
             "colorbar": {
              "outlinewidth": 0,
              "ticks": ""
             }
            },
            "type": "scatterpolar"
           }
          ],
          "scatterpolargl": [
           {
            "marker": {
             "colorbar": {
              "outlinewidth": 0,
              "ticks": ""
             }
            },
            "type": "scatterpolargl"
           }
          ],
          "scatterternary": [
           {
            "marker": {
             "colorbar": {
              "outlinewidth": 0,
              "ticks": ""
             }
            },
            "type": "scatterternary"
           }
          ],
          "surface": [
           {
            "colorbar": {
             "outlinewidth": 0,
             "ticks": ""
            },
            "colorscale": [
             [
              0,
              "#0d0887"
             ],
             [
              0.1111111111111111,
              "#46039f"
             ],
             [
              0.2222222222222222,
              "#7201a8"
             ],
             [
              0.3333333333333333,
              "#9c179e"
             ],
             [
              0.4444444444444444,
              "#bd3786"
             ],
             [
              0.5555555555555556,
              "#d8576b"
             ],
             [
              0.6666666666666666,
              "#ed7953"
             ],
             [
              0.7777777777777778,
              "#fb9f3a"
             ],
             [
              0.8888888888888888,
              "#fdca26"
             ],
             [
              1,
              "#f0f921"
             ]
            ],
            "type": "surface"
           }
          ],
          "table": [
           {
            "cells": {
             "fill": {
              "color": "#EBF0F8"
             },
             "line": {
              "color": "white"
             }
            },
            "header": {
             "fill": {
              "color": "#C8D4E3"
             },
             "line": {
              "color": "white"
             }
            },
            "type": "table"
           }
          ]
         },
         "layout": {
          "annotationdefaults": {
           "arrowcolor": "#2a3f5f",
           "arrowhead": 0,
           "arrowwidth": 1
          },
          "autotypenumbers": "strict",
          "coloraxis": {
           "colorbar": {
            "outlinewidth": 0,
            "ticks": ""
           }
          },
          "colorscale": {
           "diverging": [
            [
             0,
             "#8e0152"
            ],
            [
             0.1,
             "#c51b7d"
            ],
            [
             0.2,
             "#de77ae"
            ],
            [
             0.3,
             "#f1b6da"
            ],
            [
             0.4,
             "#fde0ef"
            ],
            [
             0.5,
             "#f7f7f7"
            ],
            [
             0.6,
             "#e6f5d0"
            ],
            [
             0.7,
             "#b8e186"
            ],
            [
             0.8,
             "#7fbc41"
            ],
            [
             0.9,
             "#4d9221"
            ],
            [
             1,
             "#276419"
            ]
           ],
           "sequential": [
            [
             0,
             "#0d0887"
            ],
            [
             0.1111111111111111,
             "#46039f"
            ],
            [
             0.2222222222222222,
             "#7201a8"
            ],
            [
             0.3333333333333333,
             "#9c179e"
            ],
            [
             0.4444444444444444,
             "#bd3786"
            ],
            [
             0.5555555555555556,
             "#d8576b"
            ],
            [
             0.6666666666666666,
             "#ed7953"
            ],
            [
             0.7777777777777778,
             "#fb9f3a"
            ],
            [
             0.8888888888888888,
             "#fdca26"
            ],
            [
             1,
             "#f0f921"
            ]
           ],
           "sequentialminus": [
            [
             0,
             "#0d0887"
            ],
            [
             0.1111111111111111,
             "#46039f"
            ],
            [
             0.2222222222222222,
             "#7201a8"
            ],
            [
             0.3333333333333333,
             "#9c179e"
            ],
            [
             0.4444444444444444,
             "#bd3786"
            ],
            [
             0.5555555555555556,
             "#d8576b"
            ],
            [
             0.6666666666666666,
             "#ed7953"
            ],
            [
             0.7777777777777778,
             "#fb9f3a"
            ],
            [
             0.8888888888888888,
             "#fdca26"
            ],
            [
             1,
             "#f0f921"
            ]
           ]
          },
          "colorway": [
           "#636efa",
           "#EF553B",
           "#00cc96",
           "#ab63fa",
           "#FFA15A",
           "#19d3f3",
           "#FF6692",
           "#B6E880",
           "#FF97FF",
           "#FECB52"
          ],
          "font": {
           "color": "#2a3f5f"
          },
          "geo": {
           "bgcolor": "white",
           "lakecolor": "white",
           "landcolor": "#E5ECF6",
           "showlakes": true,
           "showland": true,
           "subunitcolor": "white"
          },
          "hoverlabel": {
           "align": "left"
          },
          "hovermode": "closest",
          "mapbox": {
           "style": "light"
          },
          "paper_bgcolor": "white",
          "plot_bgcolor": "#E5ECF6",
          "polar": {
           "angularaxis": {
            "gridcolor": "white",
            "linecolor": "white",
            "ticks": ""
           },
           "bgcolor": "#E5ECF6",
           "radialaxis": {
            "gridcolor": "white",
            "linecolor": "white",
            "ticks": ""
           }
          },
          "scene": {
           "xaxis": {
            "backgroundcolor": "#E5ECF6",
            "gridcolor": "white",
            "gridwidth": 2,
            "linecolor": "white",
            "showbackground": true,
            "ticks": "",
            "zerolinecolor": "white"
           },
           "yaxis": {
            "backgroundcolor": "#E5ECF6",
            "gridcolor": "white",
            "gridwidth": 2,
            "linecolor": "white",
            "showbackground": true,
            "ticks": "",
            "zerolinecolor": "white"
           },
           "zaxis": {
            "backgroundcolor": "#E5ECF6",
            "gridcolor": "white",
            "gridwidth": 2,
            "linecolor": "white",
            "showbackground": true,
            "ticks": "",
            "zerolinecolor": "white"
           }
          },
          "shapedefaults": {
           "line": {
            "color": "#2a3f5f"
           }
          },
          "ternary": {
           "aaxis": {
            "gridcolor": "white",
            "linecolor": "white",
            "ticks": ""
           },
           "baxis": {
            "gridcolor": "white",
            "linecolor": "white",
            "ticks": ""
           },
           "bgcolor": "#E5ECF6",
           "caxis": {
            "gridcolor": "white",
            "linecolor": "white",
            "ticks": ""
           }
          },
          "title": {
           "x": 0.05
          },
          "xaxis": {
           "automargin": true,
           "gridcolor": "white",
           "linecolor": "white",
           "ticks": "",
           "title": {
            "standoff": 15
           },
           "zerolinecolor": "white",
           "zerolinewidth": 2
          },
          "yaxis": {
           "automargin": true,
           "gridcolor": "white",
           "linecolor": "white",
           "ticks": "",
           "title": {
            "standoff": 15
           },
           "zerolinecolor": "white",
           "zerolinewidth": 2
          }
         }
        },
        "title": {
         "text": "Average Salary by Company Location"
        },
        "xaxis": {
         "anchor": "y",
         "domain": [
          0,
          1
         ],
         "title": {
          "text": "company_location"
         }
        },
        "yaxis": {
         "anchor": "x",
         "domain": [
          0,
          1
         ],
         "title": {
          "text": "Average Salary (USD)"
         }
        }
       }
      },
      "text/html": [
       "<div>                            <div id=\"54bbc567-b67e-457c-9e51-0c433acaafc0\" class=\"plotly-graph-div\" style=\"height:500px; width:100%;\"></div>            <script type=\"text/javascript\">                require([\"plotly\"], function(Plotly) {                    window.PLOTLYENV=window.PLOTLYENV || {};                                    if (document.getElementById(\"54bbc567-b67e-457c-9e51-0c433acaafc0\")) {                    Plotly.newPlot(                        \"54bbc567-b67e-457c-9e51-0c433acaafc0\",                        [{\"alignmentgroup\":\"True\",\"hovertemplate\":\"company_location=%{x}<br>Average Salary (USD)=%{y}<extra></extra>\",\"legendgroup\":\"\",\"marker\":{\"color\":\"#636efa\",\"pattern\":{\"shape\":\"\"}},\"name\":\"\",\"offsetgroup\":\"\",\"orientation\":\"v\",\"showlegend\":false,\"textposition\":\"auto\",\"x\":[\"AE\",\"AL\",\"AM\",\"AR\",\"AS\",\"AT\",\"AU\",\"BA\",\"BE\",\"BO\",\"BR\",\"BS\",\"CA\",\"CF\",\"CH\",\"CL\",\"CN\",\"CO\",\"CR\",\"CZ\",\"DE\",\"DK\",\"DZ\",\"EE\",\"EG\",\"ES\",\"FI\",\"FR\",\"GB\",\"GH\",\"GR\",\"HK\",\"HN\",\"HR\",\"HU\",\"ID\",\"IE\",\"IL\",\"IN\",\"IQ\",\"IR\",\"IT\",\"JP\",\"KE\",\"LT\",\"LU\",\"LV\",\"MA\",\"MD\",\"MK\",\"MT\",\"MX\",\"MY\",\"NG\",\"NL\",\"NZ\",\"PH\",\"PK\",\"PL\",\"PR\",\"PT\",\"RO\",\"RU\",\"SE\",\"SG\",\"SI\",\"SK\",\"TH\",\"TR\",\"UA\",\"US\",\"VN\"],\"xaxis\":\"x\",\"y\":[100000.0,10000.0,50000.0,25000.0,29351.0,71354.83333333333,80033.42857142857,120000.0,76864.75,7500.0,40579.2,45555.0,131917.6896551724,48609.0,81722.0,40038.0,100000.0,64961.0,50000.0,35200.0,88288.80357142857,45558.0,100000.0,47416.0,22800.0,57676.06493506493,68792.66666666667,66138.73529411765,86890.05232558139,18500.0,51792.5,65062.0,20000.0,75967.66666666667,26709.5,34208.0,114943.42857142857,271446.5,30197.741379310344,100000.0,100000.0,41297.75,114127.33333333333,44636.0,94812.0,43942.666666666664,57946.5,10000.0,18000.0,6304.0,28369.0,97151.1,40000.0,78000.0,78738.30769230769,125000.0,50000.0,20000.0,61342.8,167500.0,50538.71428571428,56827.0,140333.33333333334,105000.0,53675.0,62766.75,12608.0,23064.333333333332,19058.0,57850.0,151822.00953947369,12000.0],\"yaxis\":\"y\",\"type\":\"bar\"}],                        {\"template\":{\"data\":{\"histogram2dcontour\":[{\"type\":\"histogram2dcontour\",\"colorbar\":{\"outlinewidth\":0,\"ticks\":\"\"},\"colorscale\":[[0.0,\"#0d0887\"],[0.1111111111111111,\"#46039f\"],[0.2222222222222222,\"#7201a8\"],[0.3333333333333333,\"#9c179e\"],[0.4444444444444444,\"#bd3786\"],[0.5555555555555556,\"#d8576b\"],[0.6666666666666666,\"#ed7953\"],[0.7777777777777778,\"#fb9f3a\"],[0.8888888888888888,\"#fdca26\"],[1.0,\"#f0f921\"]]}],\"choropleth\":[{\"type\":\"choropleth\",\"colorbar\":{\"outlinewidth\":0,\"ticks\":\"\"}}],\"histogram2d\":[{\"type\":\"histogram2d\",\"colorbar\":{\"outlinewidth\":0,\"ticks\":\"\"},\"colorscale\":[[0.0,\"#0d0887\"],[0.1111111111111111,\"#46039f\"],[0.2222222222222222,\"#7201a8\"],[0.3333333333333333,\"#9c179e\"],[0.4444444444444444,\"#bd3786\"],[0.5555555555555556,\"#d8576b\"],[0.6666666666666666,\"#ed7953\"],[0.7777777777777778,\"#fb9f3a\"],[0.8888888888888888,\"#fdca26\"],[1.0,\"#f0f921\"]]}],\"heatmap\":[{\"type\":\"heatmap\",\"colorbar\":{\"outlinewidth\":0,\"ticks\":\"\"},\"colorscale\":[[0.0,\"#0d0887\"],[0.1111111111111111,\"#46039f\"],[0.2222222222222222,\"#7201a8\"],[0.3333333333333333,\"#9c179e\"],[0.4444444444444444,\"#bd3786\"],[0.5555555555555556,\"#d8576b\"],[0.6666666666666666,\"#ed7953\"],[0.7777777777777778,\"#fb9f3a\"],[0.8888888888888888,\"#fdca26\"],[1.0,\"#f0f921\"]]}],\"heatmapgl\":[{\"type\":\"heatmapgl\",\"colorbar\":{\"outlinewidth\":0,\"ticks\":\"\"},\"colorscale\":[[0.0,\"#0d0887\"],[0.1111111111111111,\"#46039f\"],[0.2222222222222222,\"#7201a8\"],[0.3333333333333333,\"#9c179e\"],[0.4444444444444444,\"#bd3786\"],[0.5555555555555556,\"#d8576b\"],[0.6666666666666666,\"#ed7953\"],[0.7777777777777778,\"#fb9f3a\"],[0.8888888888888888,\"#fdca26\"],[1.0,\"#f0f921\"]]}],\"contourcarpet\":[{\"type\":\"contourcarpet\",\"colorbar\":{\"outlinewidth\":0,\"ticks\":\"\"}}],\"contour\":[{\"type\":\"contour\",\"colorbar\":{\"outlinewidth\":0,\"ticks\":\"\"},\"colorscale\":[[0.0,\"#0d0887\"],[0.1111111111111111,\"#46039f\"],[0.2222222222222222,\"#7201a8\"],[0.3333333333333333,\"#9c179e\"],[0.4444444444444444,\"#bd3786\"],[0.5555555555555556,\"#d8576b\"],[0.6666666666666666,\"#ed7953\"],[0.7777777777777778,\"#fb9f3a\"],[0.8888888888888888,\"#fdca26\"],[1.0,\"#f0f921\"]]}],\"surface\":[{\"type\":\"surface\",\"colorbar\":{\"outlinewidth\":0,\"ticks\":\"\"},\"colorscale\":[[0.0,\"#0d0887\"],[0.1111111111111111,\"#46039f\"],[0.2222222222222222,\"#7201a8\"],[0.3333333333333333,\"#9c179e\"],[0.4444444444444444,\"#bd3786\"],[0.5555555555555556,\"#d8576b\"],[0.6666666666666666,\"#ed7953\"],[0.7777777777777778,\"#fb9f3a\"],[0.8888888888888888,\"#fdca26\"],[1.0,\"#f0f921\"]]}],\"mesh3d\":[{\"type\":\"mesh3d\",\"colorbar\":{\"outlinewidth\":0,\"ticks\":\"\"}}],\"scatter\":[{\"fillpattern\":{\"fillmode\":\"overlay\",\"size\":10,\"solidity\":0.2},\"type\":\"scatter\"}],\"parcoords\":[{\"type\":\"parcoords\",\"line\":{\"colorbar\":{\"outlinewidth\":0,\"ticks\":\"\"}}}],\"scatterpolargl\":[{\"type\":\"scatterpolargl\",\"marker\":{\"colorbar\":{\"outlinewidth\":0,\"ticks\":\"\"}}}],\"bar\":[{\"error_x\":{\"color\":\"#2a3f5f\"},\"error_y\":{\"color\":\"#2a3f5f\"},\"marker\":{\"line\":{\"color\":\"#E5ECF6\",\"width\":0.5},\"pattern\":{\"fillmode\":\"overlay\",\"size\":10,\"solidity\":0.2}},\"type\":\"bar\"}],\"scattergeo\":[{\"type\":\"scattergeo\",\"marker\":{\"colorbar\":{\"outlinewidth\":0,\"ticks\":\"\"}}}],\"scatterpolar\":[{\"type\":\"scatterpolar\",\"marker\":{\"colorbar\":{\"outlinewidth\":0,\"ticks\":\"\"}}}],\"histogram\":[{\"marker\":{\"pattern\":{\"fillmode\":\"overlay\",\"size\":10,\"solidity\":0.2}},\"type\":\"histogram\"}],\"scattergl\":[{\"type\":\"scattergl\",\"marker\":{\"colorbar\":{\"outlinewidth\":0,\"ticks\":\"\"}}}],\"scatter3d\":[{\"type\":\"scatter3d\",\"line\":{\"colorbar\":{\"outlinewidth\":0,\"ticks\":\"\"}},\"marker\":{\"colorbar\":{\"outlinewidth\":0,\"ticks\":\"\"}}}],\"scattermapbox\":[{\"type\":\"scattermapbox\",\"marker\":{\"colorbar\":{\"outlinewidth\":0,\"ticks\":\"\"}}}],\"scatterternary\":[{\"type\":\"scatterternary\",\"marker\":{\"colorbar\":{\"outlinewidth\":0,\"ticks\":\"\"}}}],\"scattercarpet\":[{\"type\":\"scattercarpet\",\"marker\":{\"colorbar\":{\"outlinewidth\":0,\"ticks\":\"\"}}}],\"carpet\":[{\"aaxis\":{\"endlinecolor\":\"#2a3f5f\",\"gridcolor\":\"white\",\"linecolor\":\"white\",\"minorgridcolor\":\"white\",\"startlinecolor\":\"#2a3f5f\"},\"baxis\":{\"endlinecolor\":\"#2a3f5f\",\"gridcolor\":\"white\",\"linecolor\":\"white\",\"minorgridcolor\":\"white\",\"startlinecolor\":\"#2a3f5f\"},\"type\":\"carpet\"}],\"table\":[{\"cells\":{\"fill\":{\"color\":\"#EBF0F8\"},\"line\":{\"color\":\"white\"}},\"header\":{\"fill\":{\"color\":\"#C8D4E3\"},\"line\":{\"color\":\"white\"}},\"type\":\"table\"}],\"barpolar\":[{\"marker\":{\"line\":{\"color\":\"#E5ECF6\",\"width\":0.5},\"pattern\":{\"fillmode\":\"overlay\",\"size\":10,\"solidity\":0.2}},\"type\":\"barpolar\"}],\"pie\":[{\"automargin\":true,\"type\":\"pie\"}]},\"layout\":{\"autotypenumbers\":\"strict\",\"colorway\":[\"#636efa\",\"#EF553B\",\"#00cc96\",\"#ab63fa\",\"#FFA15A\",\"#19d3f3\",\"#FF6692\",\"#B6E880\",\"#FF97FF\",\"#FECB52\"],\"font\":{\"color\":\"#2a3f5f\"},\"hovermode\":\"closest\",\"hoverlabel\":{\"align\":\"left\"},\"paper_bgcolor\":\"white\",\"plot_bgcolor\":\"#E5ECF6\",\"polar\":{\"bgcolor\":\"#E5ECF6\",\"angularaxis\":{\"gridcolor\":\"white\",\"linecolor\":\"white\",\"ticks\":\"\"},\"radialaxis\":{\"gridcolor\":\"white\",\"linecolor\":\"white\",\"ticks\":\"\"}},\"ternary\":{\"bgcolor\":\"#E5ECF6\",\"aaxis\":{\"gridcolor\":\"white\",\"linecolor\":\"white\",\"ticks\":\"\"},\"baxis\":{\"gridcolor\":\"white\",\"linecolor\":\"white\",\"ticks\":\"\"},\"caxis\":{\"gridcolor\":\"white\",\"linecolor\":\"white\",\"ticks\":\"\"}},\"coloraxis\":{\"colorbar\":{\"outlinewidth\":0,\"ticks\":\"\"}},\"colorscale\":{\"sequential\":[[0.0,\"#0d0887\"],[0.1111111111111111,\"#46039f\"],[0.2222222222222222,\"#7201a8\"],[0.3333333333333333,\"#9c179e\"],[0.4444444444444444,\"#bd3786\"],[0.5555555555555556,\"#d8576b\"],[0.6666666666666666,\"#ed7953\"],[0.7777777777777778,\"#fb9f3a\"],[0.8888888888888888,\"#fdca26\"],[1.0,\"#f0f921\"]],\"sequentialminus\":[[0.0,\"#0d0887\"],[0.1111111111111111,\"#46039f\"],[0.2222222222222222,\"#7201a8\"],[0.3333333333333333,\"#9c179e\"],[0.4444444444444444,\"#bd3786\"],[0.5555555555555556,\"#d8576b\"],[0.6666666666666666,\"#ed7953\"],[0.7777777777777778,\"#fb9f3a\"],[0.8888888888888888,\"#fdca26\"],[1.0,\"#f0f921\"]],\"diverging\":[[0,\"#8e0152\"],[0.1,\"#c51b7d\"],[0.2,\"#de77ae\"],[0.3,\"#f1b6da\"],[0.4,\"#fde0ef\"],[0.5,\"#f7f7f7\"],[0.6,\"#e6f5d0\"],[0.7,\"#b8e186\"],[0.8,\"#7fbc41\"],[0.9,\"#4d9221\"],[1,\"#276419\"]]},\"xaxis\":{\"gridcolor\":\"white\",\"linecolor\":\"white\",\"ticks\":\"\",\"title\":{\"standoff\":15},\"zerolinecolor\":\"white\",\"automargin\":true,\"zerolinewidth\":2},\"yaxis\":{\"gridcolor\":\"white\",\"linecolor\":\"white\",\"ticks\":\"\",\"title\":{\"standoff\":15},\"zerolinecolor\":\"white\",\"automargin\":true,\"zerolinewidth\":2},\"scene\":{\"xaxis\":{\"backgroundcolor\":\"#E5ECF6\",\"gridcolor\":\"white\",\"linecolor\":\"white\",\"showbackground\":true,\"ticks\":\"\",\"zerolinecolor\":\"white\",\"gridwidth\":2},\"yaxis\":{\"backgroundcolor\":\"#E5ECF6\",\"gridcolor\":\"white\",\"linecolor\":\"white\",\"showbackground\":true,\"ticks\":\"\",\"zerolinecolor\":\"white\",\"gridwidth\":2},\"zaxis\":{\"backgroundcolor\":\"#E5ECF6\",\"gridcolor\":\"white\",\"linecolor\":\"white\",\"showbackground\":true,\"ticks\":\"\",\"zerolinecolor\":\"white\",\"gridwidth\":2}},\"shapedefaults\":{\"line\":{\"color\":\"#2a3f5f\"}},\"annotationdefaults\":{\"arrowcolor\":\"#2a3f5f\",\"arrowhead\":0,\"arrowwidth\":1},\"geo\":{\"bgcolor\":\"white\",\"landcolor\":\"#E5ECF6\",\"subunitcolor\":\"white\",\"showland\":true,\"showlakes\":true,\"lakecolor\":\"white\"},\"title\":{\"x\":0.05},\"mapbox\":{\"style\":\"light\"}}},\"xaxis\":{\"anchor\":\"y\",\"domain\":[0.0,1.0],\"title\":{\"text\":\"company_location\"}},\"yaxis\":{\"anchor\":\"x\",\"domain\":[0.0,1.0],\"title\":{\"text\":\"Average Salary (USD)\"}},\"legend\":{\"tracegroupgap\":0},\"title\":{\"text\":\"Average Salary by Company Location\"},\"barmode\":\"relative\",\"height\":500},                        {\"responsive\": true}                    ).then(function(){\n",
       "                            \n",
       "var gd = document.getElementById('54bbc567-b67e-457c-9e51-0c433acaafc0');\n",
       "var x = new MutationObserver(function (mutations, observer) {{\n",
       "        var display = window.getComputedStyle(gd).display;\n",
       "        if (!display || display === 'none') {{\n",
       "            console.log([gd, 'removed!']);\n",
       "            Plotly.purge(gd);\n",
       "            observer.disconnect();\n",
       "        }}\n",
       "}});\n",
       "\n",
       "// Listen for the removal of the full notebook cells\n",
       "var notebookContainer = gd.closest('#notebook-container');\n",
       "if (notebookContainer) {{\n",
       "    x.observe(notebookContainer, {childList: true});\n",
       "}}\n",
       "\n",
       "// Listen for the clearing of the current output cell\n",
       "var outputEl = gd.closest('.output');\n",
       "if (outputEl) {{\n",
       "    x.observe(outputEl, {childList: true});\n",
       "}}\n",
       "\n",
       "                        })                };                });            </script>        </div>"
      ]
     },
     "metadata": {},
     "output_type": "display_data"
    }
   ],
   "source": [
    "# Group the data by company location and calculate the average salary for each location\n",
    "average_salary_by_location = df.groupby('company_location')['salary_in_usd'].mean().reset_index()\n",
    "\n",
    "# Create a bar chart for average salary by company location\n",
    "fig_salary_by_location = px.bar(\n",
    "    average_salary_by_location,\n",
    "    x='company_location',\n",
    "    y='salary_in_usd',\n",
    "    title='Average Salary by Company Location',\n",
    "    labels={'salary_in_usd': 'Average Salary (USD)'},\n",
    "    height=500\n",
    ")\n",
    "\n",
    "# Show the bar chart\n",
    "fig_salary_by_location.show()"
   ]
  },
  {
   "cell_type": "code",
   "execution_count": 147,
   "id": "23cff308",
   "metadata": {},
   "outputs": [
    {
     "data": {
      "application/vnd.plotly.v1+json": {
       "config": {
        "plotlyServerURL": "https://plot.ly"
       },
       "data": [
        {
         "alignmentgroup": "True",
         "hovertemplate": "employee_residence=%{x}<br>Average Salary (USD)=%{y}<extra></extra>",
         "legendgroup": "",
         "marker": {
          "color": "#636efa",
          "pattern": {
           "shape": ""
          }
         },
         "name": "",
         "offsetgroup": "",
         "orientation": "v",
         "showlegend": false,
         "textposition": "auto",
         "type": "bar",
         "x": [
          "AE",
          "AM",
          "AR",
          "AS",
          "AT",
          "AU",
          "BA",
          "BE",
          "BG",
          "BO",
          "BR",
          "CA",
          "CF",
          "CH",
          "CL",
          "CN",
          "CO",
          "CR",
          "CY",
          "CZ",
          "DE",
          "DK",
          "DO",
          "DZ",
          "EE",
          "EG",
          "ES",
          "FI",
          "FR",
          "GB",
          "GH",
          "GR",
          "HK",
          "HN",
          "HR",
          "HU",
          "ID",
          "IE",
          "IL",
          "IN",
          "IQ",
          "IR",
          "IT",
          "JE",
          "JP",
          "KE",
          "KW",
          "LT",
          "LU",
          "LV",
          "MA",
          "MD",
          "MK",
          "MT",
          "MX",
          "MY",
          "NG",
          "NL",
          "NZ",
          "PH",
          "PK",
          "PL",
          "PR",
          "PT",
          "RO",
          "RS",
          "RU",
          "SE",
          "SG",
          "SI",
          "SK",
          "TH",
          "TN",
          "TR",
          "UA",
          "US",
          "UZ",
          "VN"
         ],
         "xaxis": "x",
         "y": [
          100000,
          50000,
          35500,
          32777.5,
          71125.83333333333,
          77980.54545454546,
          120000,
          71491.8,
          80000,
          52500,
          48927.11111111111,
          132222.90588235293,
          48609,
          100682,
          72519,
          125404,
          64961,
          20000,
          63312,
          37565.5,
          94772.25,
          31192.666666666668,
          110000,
          100000,
          31520,
          22800,
          60463.35,
          69030,
          61492.5,
          86988.32335329341,
          18500,
          55136.0625,
          65542,
          20000,
          75967.66666666667,
          29892.666666666668,
          15000,
          114943.42857142857,
          423834,
          36218.45070422535,
          100000,
          100000,
          50816.25,
          100000,
          103537.71428571429,
          44636,
          50000,
          94812,
          59102,
          57946.5,
          10000,
          18000,
          6304,
          28369,
          92351.1,
          200000,
          65000,
          77483.46666666666,
          125000,
          47880,
          30277.125,
          47478.833333333336,
          166000,
          53059,
          52164,
          25532,
          105750,
          105000,
          83120,
          62766.75,
          12608,
          23064.333333333332,
          30469,
          19058,
          57850,
          152822.01165113182,
          103000,
          33466.666666666664
         ],
         "yaxis": "y"
        }
       ],
       "layout": {
        "barmode": "relative",
        "height": 500,
        "legend": {
         "tracegroupgap": 0
        },
        "template": {
         "data": {
          "bar": [
           {
            "error_x": {
             "color": "#2a3f5f"
            },
            "error_y": {
             "color": "#2a3f5f"
            },
            "marker": {
             "line": {
              "color": "#E5ECF6",
              "width": 0.5
             },
             "pattern": {
              "fillmode": "overlay",
              "size": 10,
              "solidity": 0.2
             }
            },
            "type": "bar"
           }
          ],
          "barpolar": [
           {
            "marker": {
             "line": {
              "color": "#E5ECF6",
              "width": 0.5
             },
             "pattern": {
              "fillmode": "overlay",
              "size": 10,
              "solidity": 0.2
             }
            },
            "type": "barpolar"
           }
          ],
          "carpet": [
           {
            "aaxis": {
             "endlinecolor": "#2a3f5f",
             "gridcolor": "white",
             "linecolor": "white",
             "minorgridcolor": "white",
             "startlinecolor": "#2a3f5f"
            },
            "baxis": {
             "endlinecolor": "#2a3f5f",
             "gridcolor": "white",
             "linecolor": "white",
             "minorgridcolor": "white",
             "startlinecolor": "#2a3f5f"
            },
            "type": "carpet"
           }
          ],
          "choropleth": [
           {
            "colorbar": {
             "outlinewidth": 0,
             "ticks": ""
            },
            "type": "choropleth"
           }
          ],
          "contour": [
           {
            "colorbar": {
             "outlinewidth": 0,
             "ticks": ""
            },
            "colorscale": [
             [
              0,
              "#0d0887"
             ],
             [
              0.1111111111111111,
              "#46039f"
             ],
             [
              0.2222222222222222,
              "#7201a8"
             ],
             [
              0.3333333333333333,
              "#9c179e"
             ],
             [
              0.4444444444444444,
              "#bd3786"
             ],
             [
              0.5555555555555556,
              "#d8576b"
             ],
             [
              0.6666666666666666,
              "#ed7953"
             ],
             [
              0.7777777777777778,
              "#fb9f3a"
             ],
             [
              0.8888888888888888,
              "#fdca26"
             ],
             [
              1,
              "#f0f921"
             ]
            ],
            "type": "contour"
           }
          ],
          "contourcarpet": [
           {
            "colorbar": {
             "outlinewidth": 0,
             "ticks": ""
            },
            "type": "contourcarpet"
           }
          ],
          "heatmap": [
           {
            "colorbar": {
             "outlinewidth": 0,
             "ticks": ""
            },
            "colorscale": [
             [
              0,
              "#0d0887"
             ],
             [
              0.1111111111111111,
              "#46039f"
             ],
             [
              0.2222222222222222,
              "#7201a8"
             ],
             [
              0.3333333333333333,
              "#9c179e"
             ],
             [
              0.4444444444444444,
              "#bd3786"
             ],
             [
              0.5555555555555556,
              "#d8576b"
             ],
             [
              0.6666666666666666,
              "#ed7953"
             ],
             [
              0.7777777777777778,
              "#fb9f3a"
             ],
             [
              0.8888888888888888,
              "#fdca26"
             ],
             [
              1,
              "#f0f921"
             ]
            ],
            "type": "heatmap"
           }
          ],
          "heatmapgl": [
           {
            "colorbar": {
             "outlinewidth": 0,
             "ticks": ""
            },
            "colorscale": [
             [
              0,
              "#0d0887"
             ],
             [
              0.1111111111111111,
              "#46039f"
             ],
             [
              0.2222222222222222,
              "#7201a8"
             ],
             [
              0.3333333333333333,
              "#9c179e"
             ],
             [
              0.4444444444444444,
              "#bd3786"
             ],
             [
              0.5555555555555556,
              "#d8576b"
             ],
             [
              0.6666666666666666,
              "#ed7953"
             ],
             [
              0.7777777777777778,
              "#fb9f3a"
             ],
             [
              0.8888888888888888,
              "#fdca26"
             ],
             [
              1,
              "#f0f921"
             ]
            ],
            "type": "heatmapgl"
           }
          ],
          "histogram": [
           {
            "marker": {
             "pattern": {
              "fillmode": "overlay",
              "size": 10,
              "solidity": 0.2
             }
            },
            "type": "histogram"
           }
          ],
          "histogram2d": [
           {
            "colorbar": {
             "outlinewidth": 0,
             "ticks": ""
            },
            "colorscale": [
             [
              0,
              "#0d0887"
             ],
             [
              0.1111111111111111,
              "#46039f"
             ],
             [
              0.2222222222222222,
              "#7201a8"
             ],
             [
              0.3333333333333333,
              "#9c179e"
             ],
             [
              0.4444444444444444,
              "#bd3786"
             ],
             [
              0.5555555555555556,
              "#d8576b"
             ],
             [
              0.6666666666666666,
              "#ed7953"
             ],
             [
              0.7777777777777778,
              "#fb9f3a"
             ],
             [
              0.8888888888888888,
              "#fdca26"
             ],
             [
              1,
              "#f0f921"
             ]
            ],
            "type": "histogram2d"
           }
          ],
          "histogram2dcontour": [
           {
            "colorbar": {
             "outlinewidth": 0,
             "ticks": ""
            },
            "colorscale": [
             [
              0,
              "#0d0887"
             ],
             [
              0.1111111111111111,
              "#46039f"
             ],
             [
              0.2222222222222222,
              "#7201a8"
             ],
             [
              0.3333333333333333,
              "#9c179e"
             ],
             [
              0.4444444444444444,
              "#bd3786"
             ],
             [
              0.5555555555555556,
              "#d8576b"
             ],
             [
              0.6666666666666666,
              "#ed7953"
             ],
             [
              0.7777777777777778,
              "#fb9f3a"
             ],
             [
              0.8888888888888888,
              "#fdca26"
             ],
             [
              1,
              "#f0f921"
             ]
            ],
            "type": "histogram2dcontour"
           }
          ],
          "mesh3d": [
           {
            "colorbar": {
             "outlinewidth": 0,
             "ticks": ""
            },
            "type": "mesh3d"
           }
          ],
          "parcoords": [
           {
            "line": {
             "colorbar": {
              "outlinewidth": 0,
              "ticks": ""
             }
            },
            "type": "parcoords"
           }
          ],
          "pie": [
           {
            "automargin": true,
            "type": "pie"
           }
          ],
          "scatter": [
           {
            "fillpattern": {
             "fillmode": "overlay",
             "size": 10,
             "solidity": 0.2
            },
            "type": "scatter"
           }
          ],
          "scatter3d": [
           {
            "line": {
             "colorbar": {
              "outlinewidth": 0,
              "ticks": ""
             }
            },
            "marker": {
             "colorbar": {
              "outlinewidth": 0,
              "ticks": ""
             }
            },
            "type": "scatter3d"
           }
          ],
          "scattercarpet": [
           {
            "marker": {
             "colorbar": {
              "outlinewidth": 0,
              "ticks": ""
             }
            },
            "type": "scattercarpet"
           }
          ],
          "scattergeo": [
           {
            "marker": {
             "colorbar": {
              "outlinewidth": 0,
              "ticks": ""
             }
            },
            "type": "scattergeo"
           }
          ],
          "scattergl": [
           {
            "marker": {
             "colorbar": {
              "outlinewidth": 0,
              "ticks": ""
             }
            },
            "type": "scattergl"
           }
          ],
          "scattermapbox": [
           {
            "marker": {
             "colorbar": {
              "outlinewidth": 0,
              "ticks": ""
             }
            },
            "type": "scattermapbox"
           }
          ],
          "scatterpolar": [
           {
            "marker": {
             "colorbar": {
              "outlinewidth": 0,
              "ticks": ""
             }
            },
            "type": "scatterpolar"
           }
          ],
          "scatterpolargl": [
           {
            "marker": {
             "colorbar": {
              "outlinewidth": 0,
              "ticks": ""
             }
            },
            "type": "scatterpolargl"
           }
          ],
          "scatterternary": [
           {
            "marker": {
             "colorbar": {
              "outlinewidth": 0,
              "ticks": ""
             }
            },
            "type": "scatterternary"
           }
          ],
          "surface": [
           {
            "colorbar": {
             "outlinewidth": 0,
             "ticks": ""
            },
            "colorscale": [
             [
              0,
              "#0d0887"
             ],
             [
              0.1111111111111111,
              "#46039f"
             ],
             [
              0.2222222222222222,
              "#7201a8"
             ],
             [
              0.3333333333333333,
              "#9c179e"
             ],
             [
              0.4444444444444444,
              "#bd3786"
             ],
             [
              0.5555555555555556,
              "#d8576b"
             ],
             [
              0.6666666666666666,
              "#ed7953"
             ],
             [
              0.7777777777777778,
              "#fb9f3a"
             ],
             [
              0.8888888888888888,
              "#fdca26"
             ],
             [
              1,
              "#f0f921"
             ]
            ],
            "type": "surface"
           }
          ],
          "table": [
           {
            "cells": {
             "fill": {
              "color": "#EBF0F8"
             },
             "line": {
              "color": "white"
             }
            },
            "header": {
             "fill": {
              "color": "#C8D4E3"
             },
             "line": {
              "color": "white"
             }
            },
            "type": "table"
           }
          ]
         },
         "layout": {
          "annotationdefaults": {
           "arrowcolor": "#2a3f5f",
           "arrowhead": 0,
           "arrowwidth": 1
          },
          "autotypenumbers": "strict",
          "coloraxis": {
           "colorbar": {
            "outlinewidth": 0,
            "ticks": ""
           }
          },
          "colorscale": {
           "diverging": [
            [
             0,
             "#8e0152"
            ],
            [
             0.1,
             "#c51b7d"
            ],
            [
             0.2,
             "#de77ae"
            ],
            [
             0.3,
             "#f1b6da"
            ],
            [
             0.4,
             "#fde0ef"
            ],
            [
             0.5,
             "#f7f7f7"
            ],
            [
             0.6,
             "#e6f5d0"
            ],
            [
             0.7,
             "#b8e186"
            ],
            [
             0.8,
             "#7fbc41"
            ],
            [
             0.9,
             "#4d9221"
            ],
            [
             1,
             "#276419"
            ]
           ],
           "sequential": [
            [
             0,
             "#0d0887"
            ],
            [
             0.1111111111111111,
             "#46039f"
            ],
            [
             0.2222222222222222,
             "#7201a8"
            ],
            [
             0.3333333333333333,
             "#9c179e"
            ],
            [
             0.4444444444444444,
             "#bd3786"
            ],
            [
             0.5555555555555556,
             "#d8576b"
            ],
            [
             0.6666666666666666,
             "#ed7953"
            ],
            [
             0.7777777777777778,
             "#fb9f3a"
            ],
            [
             0.8888888888888888,
             "#fdca26"
            ],
            [
             1,
             "#f0f921"
            ]
           ],
           "sequentialminus": [
            [
             0,
             "#0d0887"
            ],
            [
             0.1111111111111111,
             "#46039f"
            ],
            [
             0.2222222222222222,
             "#7201a8"
            ],
            [
             0.3333333333333333,
             "#9c179e"
            ],
            [
             0.4444444444444444,
             "#bd3786"
            ],
            [
             0.5555555555555556,
             "#d8576b"
            ],
            [
             0.6666666666666666,
             "#ed7953"
            ],
            [
             0.7777777777777778,
             "#fb9f3a"
            ],
            [
             0.8888888888888888,
             "#fdca26"
            ],
            [
             1,
             "#f0f921"
            ]
           ]
          },
          "colorway": [
           "#636efa",
           "#EF553B",
           "#00cc96",
           "#ab63fa",
           "#FFA15A",
           "#19d3f3",
           "#FF6692",
           "#B6E880",
           "#FF97FF",
           "#FECB52"
          ],
          "font": {
           "color": "#2a3f5f"
          },
          "geo": {
           "bgcolor": "white",
           "lakecolor": "white",
           "landcolor": "#E5ECF6",
           "showlakes": true,
           "showland": true,
           "subunitcolor": "white"
          },
          "hoverlabel": {
           "align": "left"
          },
          "hovermode": "closest",
          "mapbox": {
           "style": "light"
          },
          "paper_bgcolor": "white",
          "plot_bgcolor": "#E5ECF6",
          "polar": {
           "angularaxis": {
            "gridcolor": "white",
            "linecolor": "white",
            "ticks": ""
           },
           "bgcolor": "#E5ECF6",
           "radialaxis": {
            "gridcolor": "white",
            "linecolor": "white",
            "ticks": ""
           }
          },
          "scene": {
           "xaxis": {
            "backgroundcolor": "#E5ECF6",
            "gridcolor": "white",
            "gridwidth": 2,
            "linecolor": "white",
            "showbackground": true,
            "ticks": "",
            "zerolinecolor": "white"
           },
           "yaxis": {
            "backgroundcolor": "#E5ECF6",
            "gridcolor": "white",
            "gridwidth": 2,
            "linecolor": "white",
            "showbackground": true,
            "ticks": "",
            "zerolinecolor": "white"
           },
           "zaxis": {
            "backgroundcolor": "#E5ECF6",
            "gridcolor": "white",
            "gridwidth": 2,
            "linecolor": "white",
            "showbackground": true,
            "ticks": "",
            "zerolinecolor": "white"
           }
          },
          "shapedefaults": {
           "line": {
            "color": "#2a3f5f"
           }
          },
          "ternary": {
           "aaxis": {
            "gridcolor": "white",
            "linecolor": "white",
            "ticks": ""
           },
           "baxis": {
            "gridcolor": "white",
            "linecolor": "white",
            "ticks": ""
           },
           "bgcolor": "#E5ECF6",
           "caxis": {
            "gridcolor": "white",
            "linecolor": "white",
            "ticks": ""
           }
          },
          "title": {
           "x": 0.05
          },
          "xaxis": {
           "automargin": true,
           "gridcolor": "white",
           "linecolor": "white",
           "ticks": "",
           "title": {
            "standoff": 15
           },
           "zerolinecolor": "white",
           "zerolinewidth": 2
          },
          "yaxis": {
           "automargin": true,
           "gridcolor": "white",
           "linecolor": "white",
           "ticks": "",
           "title": {
            "standoff": 15
           },
           "zerolinecolor": "white",
           "zerolinewidth": 2
          }
         }
        },
        "title": {
         "text": "Average Salary by Employee Residence"
        },
        "xaxis": {
         "anchor": "y",
         "domain": [
          0,
          1
         ],
         "title": {
          "text": "employee_residence"
         }
        },
        "yaxis": {
         "anchor": "x",
         "domain": [
          0,
          1
         ],
         "title": {
          "text": "Average Salary (USD)"
         }
        }
       }
      },
      "text/html": [
       "<div>                            <div id=\"b1b1cf81-5945-45e9-9e8c-c7f542a78a3c\" class=\"plotly-graph-div\" style=\"height:500px; width:100%;\"></div>            <script type=\"text/javascript\">                require([\"plotly\"], function(Plotly) {                    window.PLOTLYENV=window.PLOTLYENV || {};                                    if (document.getElementById(\"b1b1cf81-5945-45e9-9e8c-c7f542a78a3c\")) {                    Plotly.newPlot(                        \"b1b1cf81-5945-45e9-9e8c-c7f542a78a3c\",                        [{\"alignmentgroup\":\"True\",\"hovertemplate\":\"employee_residence=%{x}<br>Average Salary (USD)=%{y}<extra></extra>\",\"legendgroup\":\"\",\"marker\":{\"color\":\"#636efa\",\"pattern\":{\"shape\":\"\"}},\"name\":\"\",\"offsetgroup\":\"\",\"orientation\":\"v\",\"showlegend\":false,\"textposition\":\"auto\",\"x\":[\"AE\",\"AM\",\"AR\",\"AS\",\"AT\",\"AU\",\"BA\",\"BE\",\"BG\",\"BO\",\"BR\",\"CA\",\"CF\",\"CH\",\"CL\",\"CN\",\"CO\",\"CR\",\"CY\",\"CZ\",\"DE\",\"DK\",\"DO\",\"DZ\",\"EE\",\"EG\",\"ES\",\"FI\",\"FR\",\"GB\",\"GH\",\"GR\",\"HK\",\"HN\",\"HR\",\"HU\",\"ID\",\"IE\",\"IL\",\"IN\",\"IQ\",\"IR\",\"IT\",\"JE\",\"JP\",\"KE\",\"KW\",\"LT\",\"LU\",\"LV\",\"MA\",\"MD\",\"MK\",\"MT\",\"MX\",\"MY\",\"NG\",\"NL\",\"NZ\",\"PH\",\"PK\",\"PL\",\"PR\",\"PT\",\"RO\",\"RS\",\"RU\",\"SE\",\"SG\",\"SI\",\"SK\",\"TH\",\"TN\",\"TR\",\"UA\",\"US\",\"UZ\",\"VN\"],\"xaxis\":\"x\",\"y\":[100000.0,50000.0,35500.0,32777.5,71125.83333333333,77980.54545454546,120000.0,71491.8,80000.0,52500.0,48927.11111111111,132222.90588235293,48609.0,100682.0,72519.0,125404.0,64961.0,20000.0,63312.0,37565.5,94772.25,31192.666666666668,110000.0,100000.0,31520.0,22800.0,60463.35,69030.0,61492.5,86988.32335329341,18500.0,55136.0625,65542.0,20000.0,75967.66666666667,29892.666666666668,15000.0,114943.42857142857,423834.0,36218.45070422535,100000.0,100000.0,50816.25,100000.0,103537.71428571429,44636.0,50000.0,94812.0,59102.0,57946.5,10000.0,18000.0,6304.0,28369.0,92351.1,200000.0,65000.0,77483.46666666666,125000.0,47880.0,30277.125,47478.833333333336,166000.0,53059.0,52164.0,25532.0,105750.0,105000.0,83120.0,62766.75,12608.0,23064.333333333332,30469.0,19058.0,57850.0,152822.01165113182,103000.0,33466.666666666664],\"yaxis\":\"y\",\"type\":\"bar\"}],                        {\"template\":{\"data\":{\"histogram2dcontour\":[{\"type\":\"histogram2dcontour\",\"colorbar\":{\"outlinewidth\":0,\"ticks\":\"\"},\"colorscale\":[[0.0,\"#0d0887\"],[0.1111111111111111,\"#46039f\"],[0.2222222222222222,\"#7201a8\"],[0.3333333333333333,\"#9c179e\"],[0.4444444444444444,\"#bd3786\"],[0.5555555555555556,\"#d8576b\"],[0.6666666666666666,\"#ed7953\"],[0.7777777777777778,\"#fb9f3a\"],[0.8888888888888888,\"#fdca26\"],[1.0,\"#f0f921\"]]}],\"choropleth\":[{\"type\":\"choropleth\",\"colorbar\":{\"outlinewidth\":0,\"ticks\":\"\"}}],\"histogram2d\":[{\"type\":\"histogram2d\",\"colorbar\":{\"outlinewidth\":0,\"ticks\":\"\"},\"colorscale\":[[0.0,\"#0d0887\"],[0.1111111111111111,\"#46039f\"],[0.2222222222222222,\"#7201a8\"],[0.3333333333333333,\"#9c179e\"],[0.4444444444444444,\"#bd3786\"],[0.5555555555555556,\"#d8576b\"],[0.6666666666666666,\"#ed7953\"],[0.7777777777777778,\"#fb9f3a\"],[0.8888888888888888,\"#fdca26\"],[1.0,\"#f0f921\"]]}],\"heatmap\":[{\"type\":\"heatmap\",\"colorbar\":{\"outlinewidth\":0,\"ticks\":\"\"},\"colorscale\":[[0.0,\"#0d0887\"],[0.1111111111111111,\"#46039f\"],[0.2222222222222222,\"#7201a8\"],[0.3333333333333333,\"#9c179e\"],[0.4444444444444444,\"#bd3786\"],[0.5555555555555556,\"#d8576b\"],[0.6666666666666666,\"#ed7953\"],[0.7777777777777778,\"#fb9f3a\"],[0.8888888888888888,\"#fdca26\"],[1.0,\"#f0f921\"]]}],\"heatmapgl\":[{\"type\":\"heatmapgl\",\"colorbar\":{\"outlinewidth\":0,\"ticks\":\"\"},\"colorscale\":[[0.0,\"#0d0887\"],[0.1111111111111111,\"#46039f\"],[0.2222222222222222,\"#7201a8\"],[0.3333333333333333,\"#9c179e\"],[0.4444444444444444,\"#bd3786\"],[0.5555555555555556,\"#d8576b\"],[0.6666666666666666,\"#ed7953\"],[0.7777777777777778,\"#fb9f3a\"],[0.8888888888888888,\"#fdca26\"],[1.0,\"#f0f921\"]]}],\"contourcarpet\":[{\"type\":\"contourcarpet\",\"colorbar\":{\"outlinewidth\":0,\"ticks\":\"\"}}],\"contour\":[{\"type\":\"contour\",\"colorbar\":{\"outlinewidth\":0,\"ticks\":\"\"},\"colorscale\":[[0.0,\"#0d0887\"],[0.1111111111111111,\"#46039f\"],[0.2222222222222222,\"#7201a8\"],[0.3333333333333333,\"#9c179e\"],[0.4444444444444444,\"#bd3786\"],[0.5555555555555556,\"#d8576b\"],[0.6666666666666666,\"#ed7953\"],[0.7777777777777778,\"#fb9f3a\"],[0.8888888888888888,\"#fdca26\"],[1.0,\"#f0f921\"]]}],\"surface\":[{\"type\":\"surface\",\"colorbar\":{\"outlinewidth\":0,\"ticks\":\"\"},\"colorscale\":[[0.0,\"#0d0887\"],[0.1111111111111111,\"#46039f\"],[0.2222222222222222,\"#7201a8\"],[0.3333333333333333,\"#9c179e\"],[0.4444444444444444,\"#bd3786\"],[0.5555555555555556,\"#d8576b\"],[0.6666666666666666,\"#ed7953\"],[0.7777777777777778,\"#fb9f3a\"],[0.8888888888888888,\"#fdca26\"],[1.0,\"#f0f921\"]]}],\"mesh3d\":[{\"type\":\"mesh3d\",\"colorbar\":{\"outlinewidth\":0,\"ticks\":\"\"}}],\"scatter\":[{\"fillpattern\":{\"fillmode\":\"overlay\",\"size\":10,\"solidity\":0.2},\"type\":\"scatter\"}],\"parcoords\":[{\"type\":\"parcoords\",\"line\":{\"colorbar\":{\"outlinewidth\":0,\"ticks\":\"\"}}}],\"scatterpolargl\":[{\"type\":\"scatterpolargl\",\"marker\":{\"colorbar\":{\"outlinewidth\":0,\"ticks\":\"\"}}}],\"bar\":[{\"error_x\":{\"color\":\"#2a3f5f\"},\"error_y\":{\"color\":\"#2a3f5f\"},\"marker\":{\"line\":{\"color\":\"#E5ECF6\",\"width\":0.5},\"pattern\":{\"fillmode\":\"overlay\",\"size\":10,\"solidity\":0.2}},\"type\":\"bar\"}],\"scattergeo\":[{\"type\":\"scattergeo\",\"marker\":{\"colorbar\":{\"outlinewidth\":0,\"ticks\":\"\"}}}],\"scatterpolar\":[{\"type\":\"scatterpolar\",\"marker\":{\"colorbar\":{\"outlinewidth\":0,\"ticks\":\"\"}}}],\"histogram\":[{\"marker\":{\"pattern\":{\"fillmode\":\"overlay\",\"size\":10,\"solidity\":0.2}},\"type\":\"histogram\"}],\"scattergl\":[{\"type\":\"scattergl\",\"marker\":{\"colorbar\":{\"outlinewidth\":0,\"ticks\":\"\"}}}],\"scatter3d\":[{\"type\":\"scatter3d\",\"line\":{\"colorbar\":{\"outlinewidth\":0,\"ticks\":\"\"}},\"marker\":{\"colorbar\":{\"outlinewidth\":0,\"ticks\":\"\"}}}],\"scattermapbox\":[{\"type\":\"scattermapbox\",\"marker\":{\"colorbar\":{\"outlinewidth\":0,\"ticks\":\"\"}}}],\"scatterternary\":[{\"type\":\"scatterternary\",\"marker\":{\"colorbar\":{\"outlinewidth\":0,\"ticks\":\"\"}}}],\"scattercarpet\":[{\"type\":\"scattercarpet\",\"marker\":{\"colorbar\":{\"outlinewidth\":0,\"ticks\":\"\"}}}],\"carpet\":[{\"aaxis\":{\"endlinecolor\":\"#2a3f5f\",\"gridcolor\":\"white\",\"linecolor\":\"white\",\"minorgridcolor\":\"white\",\"startlinecolor\":\"#2a3f5f\"},\"baxis\":{\"endlinecolor\":\"#2a3f5f\",\"gridcolor\":\"white\",\"linecolor\":\"white\",\"minorgridcolor\":\"white\",\"startlinecolor\":\"#2a3f5f\"},\"type\":\"carpet\"}],\"table\":[{\"cells\":{\"fill\":{\"color\":\"#EBF0F8\"},\"line\":{\"color\":\"white\"}},\"header\":{\"fill\":{\"color\":\"#C8D4E3\"},\"line\":{\"color\":\"white\"}},\"type\":\"table\"}],\"barpolar\":[{\"marker\":{\"line\":{\"color\":\"#E5ECF6\",\"width\":0.5},\"pattern\":{\"fillmode\":\"overlay\",\"size\":10,\"solidity\":0.2}},\"type\":\"barpolar\"}],\"pie\":[{\"automargin\":true,\"type\":\"pie\"}]},\"layout\":{\"autotypenumbers\":\"strict\",\"colorway\":[\"#636efa\",\"#EF553B\",\"#00cc96\",\"#ab63fa\",\"#FFA15A\",\"#19d3f3\",\"#FF6692\",\"#B6E880\",\"#FF97FF\",\"#FECB52\"],\"font\":{\"color\":\"#2a3f5f\"},\"hovermode\":\"closest\",\"hoverlabel\":{\"align\":\"left\"},\"paper_bgcolor\":\"white\",\"plot_bgcolor\":\"#E5ECF6\",\"polar\":{\"bgcolor\":\"#E5ECF6\",\"angularaxis\":{\"gridcolor\":\"white\",\"linecolor\":\"white\",\"ticks\":\"\"},\"radialaxis\":{\"gridcolor\":\"white\",\"linecolor\":\"white\",\"ticks\":\"\"}},\"ternary\":{\"bgcolor\":\"#E5ECF6\",\"aaxis\":{\"gridcolor\":\"white\",\"linecolor\":\"white\",\"ticks\":\"\"},\"baxis\":{\"gridcolor\":\"white\",\"linecolor\":\"white\",\"ticks\":\"\"},\"caxis\":{\"gridcolor\":\"white\",\"linecolor\":\"white\",\"ticks\":\"\"}},\"coloraxis\":{\"colorbar\":{\"outlinewidth\":0,\"ticks\":\"\"}},\"colorscale\":{\"sequential\":[[0.0,\"#0d0887\"],[0.1111111111111111,\"#46039f\"],[0.2222222222222222,\"#7201a8\"],[0.3333333333333333,\"#9c179e\"],[0.4444444444444444,\"#bd3786\"],[0.5555555555555556,\"#d8576b\"],[0.6666666666666666,\"#ed7953\"],[0.7777777777777778,\"#fb9f3a\"],[0.8888888888888888,\"#fdca26\"],[1.0,\"#f0f921\"]],\"sequentialminus\":[[0.0,\"#0d0887\"],[0.1111111111111111,\"#46039f\"],[0.2222222222222222,\"#7201a8\"],[0.3333333333333333,\"#9c179e\"],[0.4444444444444444,\"#bd3786\"],[0.5555555555555556,\"#d8576b\"],[0.6666666666666666,\"#ed7953\"],[0.7777777777777778,\"#fb9f3a\"],[0.8888888888888888,\"#fdca26\"],[1.0,\"#f0f921\"]],\"diverging\":[[0,\"#8e0152\"],[0.1,\"#c51b7d\"],[0.2,\"#de77ae\"],[0.3,\"#f1b6da\"],[0.4,\"#fde0ef\"],[0.5,\"#f7f7f7\"],[0.6,\"#e6f5d0\"],[0.7,\"#b8e186\"],[0.8,\"#7fbc41\"],[0.9,\"#4d9221\"],[1,\"#276419\"]]},\"xaxis\":{\"gridcolor\":\"white\",\"linecolor\":\"white\",\"ticks\":\"\",\"title\":{\"standoff\":15},\"zerolinecolor\":\"white\",\"automargin\":true,\"zerolinewidth\":2},\"yaxis\":{\"gridcolor\":\"white\",\"linecolor\":\"white\",\"ticks\":\"\",\"title\":{\"standoff\":15},\"zerolinecolor\":\"white\",\"automargin\":true,\"zerolinewidth\":2},\"scene\":{\"xaxis\":{\"backgroundcolor\":\"#E5ECF6\",\"gridcolor\":\"white\",\"linecolor\":\"white\",\"showbackground\":true,\"ticks\":\"\",\"zerolinecolor\":\"white\",\"gridwidth\":2},\"yaxis\":{\"backgroundcolor\":\"#E5ECF6\",\"gridcolor\":\"white\",\"linecolor\":\"white\",\"showbackground\":true,\"ticks\":\"\",\"zerolinecolor\":\"white\",\"gridwidth\":2},\"zaxis\":{\"backgroundcolor\":\"#E5ECF6\",\"gridcolor\":\"white\",\"linecolor\":\"white\",\"showbackground\":true,\"ticks\":\"\",\"zerolinecolor\":\"white\",\"gridwidth\":2}},\"shapedefaults\":{\"line\":{\"color\":\"#2a3f5f\"}},\"annotationdefaults\":{\"arrowcolor\":\"#2a3f5f\",\"arrowhead\":0,\"arrowwidth\":1},\"geo\":{\"bgcolor\":\"white\",\"landcolor\":\"#E5ECF6\",\"subunitcolor\":\"white\",\"showland\":true,\"showlakes\":true,\"lakecolor\":\"white\"},\"title\":{\"x\":0.05},\"mapbox\":{\"style\":\"light\"}}},\"xaxis\":{\"anchor\":\"y\",\"domain\":[0.0,1.0],\"title\":{\"text\":\"employee_residence\"}},\"yaxis\":{\"anchor\":\"x\",\"domain\":[0.0,1.0],\"title\":{\"text\":\"Average Salary (USD)\"}},\"legend\":{\"tracegroupgap\":0},\"title\":{\"text\":\"Average Salary by Employee Residence\"},\"barmode\":\"relative\",\"height\":500},                        {\"responsive\": true}                    ).then(function(){\n",
       "                            \n",
       "var gd = document.getElementById('b1b1cf81-5945-45e9-9e8c-c7f542a78a3c');\n",
       "var x = new MutationObserver(function (mutations, observer) {{\n",
       "        var display = window.getComputedStyle(gd).display;\n",
       "        if (!display || display === 'none') {{\n",
       "            console.log([gd, 'removed!']);\n",
       "            Plotly.purge(gd);\n",
       "            observer.disconnect();\n",
       "        }}\n",
       "}});\n",
       "\n",
       "// Listen for the removal of the full notebook cells\n",
       "var notebookContainer = gd.closest('#notebook-container');\n",
       "if (notebookContainer) {{\n",
       "    x.observe(notebookContainer, {childList: true});\n",
       "}}\n",
       "\n",
       "// Listen for the clearing of the current output cell\n",
       "var outputEl = gd.closest('.output');\n",
       "if (outputEl) {{\n",
       "    x.observe(outputEl, {childList: true});\n",
       "}}\n",
       "\n",
       "                        })                };                });            </script>        </div>"
      ]
     },
     "metadata": {},
     "output_type": "display_data"
    }
   ],
   "source": [
    "# Group the data by employee residence and calculate the average salary for each residence\n",
    "average_salary_by_residence = df.groupby('employee_residence')['salary_in_usd'].mean().reset_index()\n",
    "\n",
    "# Create a bar chart for average salary by employee residence\n",
    "fig_salary_by_residence = px.bar(\n",
    "    average_salary_by_residence,\n",
    "    x='employee_residence',\n",
    "    y='salary_in_usd',\n",
    "    title='Average Salary by Employee Residence',\n",
    "    labels={'salary_in_usd': 'Average Salary (USD)'},\n",
    "    height=500\n",
    ")\n",
    "\n",
    "# Show the bar chart\n",
    "fig_salary_by_residence.show()"
   ]
  },
  {
   "cell_type": "markdown",
   "id": "e53f0dcf",
   "metadata": {},
   "source": [
    "Start to process the data"
   ]
  },
  {
   "cell_type": "code",
   "execution_count": 148,
   "id": "6d855471",
   "metadata": {},
   "outputs": [],
   "source": [
    "data_new = df.copy()"
   ]
  },
  {
   "cell_type": "code",
   "execution_count": 149,
   "id": "a037eb63",
   "metadata": {},
   "outputs": [],
   "source": [
    "data_new.drop(columns=['salary_currency', 'salary'], inplace=True)\n"
   ]
  },
  {
   "cell_type": "code",
   "execution_count": 150,
   "id": "a6ef18c9",
   "metadata": {},
   "outputs": [
    {
     "name": "stdout",
     "output_type": "stream",
     "text": [
      "   work_year  experience_level  employment_type  job_title  salary_in_usd  \\\n",
      "0       2023                 3                2         84          85847   \n",
      "1       2023                 2                0         66          30000   \n",
      "2       2023                 2                0         66          25500   \n",
      "3       2023                 3                2         47         175000   \n",
      "4       2023                 3                2         47         120000   \n",
      "\n",
      "   employee_residence  remote_ratio  company_location  company_size  \n",
      "0                  26           100                25             0  \n",
      "1                  75           100                70             2  \n",
      "2                  75           100                70             2  \n",
      "3                  11           100                12             1  \n",
      "4                  11           100                12             1  \n"
     ]
    }
   ],
   "source": [
    "# Get the categorical columns\n",
    "categorical_cols = data_new.select_dtypes(include=['object']).columns\n",
    "\n",
    "# Initialize the encoder\n",
    "encoder = LabelEncoder()\n",
    "\n",
    "# Apply label encoding to all categorical columns\n",
    "data_new[categorical_cols] = data_new[categorical_cols].apply(lambda col: encoder.fit_transform(col))\n",
    "\n",
    "# Display the processed data\n",
    "print(data_new.head())\n"
   ]
  },
  {
   "cell_type": "markdown",
   "id": "07116612",
   "metadata": {},
   "source": [
    "Using Standar Scaler"
   ]
  },
  {
   "cell_type": "code",
   "execution_count": 151,
   "id": "fe13b9e3",
   "metadata": {},
   "outputs": [],
   "source": [
    "# Initialize Standard Scaler\n",
    "scaler = StandardScaler()\n",
    "\n",
    "# Splitted into features and tagert\n",
    "mirror_data = data_new.copy()\n",
    "target = mirror_data.pop('salary_in_usd').to_numpy()\n",
    "features = mirror_data.to_numpy()\n",
    "\n",
    "# Apply standard scaler\n",
    "scalled_data = scaler.fit_transform(features)"
   ]
  },
  {
   "cell_type": "code",
   "execution_count": 152,
   "id": "c6089430",
   "metadata": {},
   "outputs": [],
   "source": [
    "from sklearn.preprocessing import StandardScaler\n",
    "\n",
    "# Initialize Standard Scaler\n",
    "scaler = StandardScaler()\n",
    "\n",
    "# Scale the target variable\n",
    "y_scaled = scaler.fit_transform(target.reshape(-1, 1))"
   ]
  },
  {
   "cell_type": "markdown",
   "id": "2ca69bc8",
   "metadata": {},
   "source": [
    "Start Applying Model"
   ]
  },
  {
   "cell_type": "code",
   "execution_count": 154,
   "id": "ca70b52d",
   "metadata": {},
   "outputs": [],
   "source": [
    "from sklearn.model_selection import train_test_split\n",
    "from sklearn.tree import DecisionTreeRegressor\n",
    "from sklearn.ensemble import RandomForestRegressor\n",
    "from sklearn.svm import SVR\n",
    "from sklearn.linear_model import LinearRegression\n",
    "from sklearn.metrics import mean_squared_error, r2_score\n",
    "import numpy as np\n",
    "\n",
    "# Split the data into training and testing sets\n",
    "X_train, X_test, y_train, y_test = train_test_split(scalled_data, y_scaled, test_size=0.2, random_state=42)\n",
    "\n",
    "\n"
   ]
  },
  {
   "cell_type": "code",
   "execution_count": 155,
   "id": "74769739",
   "metadata": {},
   "outputs": [
    {
     "name": "stdout",
     "output_type": "stream",
     "text": [
      "Decision Tree MSE: 0.7146279761182799, R^2: 0.2804549504618694\n"
     ]
    }
   ],
   "source": [
    "# Decision Tree\n",
    "dt_model = DecisionTreeRegressor()\n",
    "dt_model.fit(X_train, y_train)\n",
    "dt_predictions = dt_model.predict(X_test)\n",
    "dt_mse = mean_squared_error(y_test, dt_predictions)\n",
    "dt_r2 = r2_score(y_test, dt_predictions)\n",
    "print(f\"Decision Tree MSE: {dt_mse}, R^2: {dt_r2}\")\n",
    "\n"
   ]
  },
  {
   "cell_type": "code",
   "execution_count": 156,
   "id": "9167ba7b",
   "metadata": {},
   "outputs": [
    {
     "name": "stdout",
     "output_type": "stream",
     "text": [
      "Random Forest MSE: 0.6012078879168927, R^2: 0.39465543758354726\n"
     ]
    }
   ],
   "source": [
    "# Random Forest\n",
    "rf_model = RandomForestRegressor()\n",
    "rf_model.fit(X_train, y_train.ravel())  # Use ravel() to convert to a 1D array\n",
    "rf_predictions = rf_model.predict(X_test)\n",
    "rf_mse = mean_squared_error(y_test, rf_predictions)\n",
    "rf_r2 = r2_score(y_test, rf_predictions)\n",
    "print(f\"Random Forest MSE: {rf_mse}, R^2: {rf_r2}\")\n",
    "\n",
    "\n"
   ]
  },
  {
   "cell_type": "code",
   "execution_count": 157,
   "id": "4c0c96b4",
   "metadata": {},
   "outputs": [
    {
     "name": "stdout",
     "output_type": "stream",
     "text": [
      "SVM MSE: 0.6397856370419523, R^2: 0.35581225017289053\n"
     ]
    }
   ],
   "source": [
    "# Support Vector Machine (SVR)\n",
    "svm_model = SVR()\n",
    "svm_model.fit(X_train, y_train.ravel())  # Use ravel() to convert to a 1D array\n",
    "svm_predictions = svm_model.predict(X_test)\n",
    "svm_mse = mean_squared_error(y_test, svm_predictions)\n",
    "svm_r2 = r2_score(y_test, svm_predictions)\n",
    "print(f\"SVM MSE: {svm_mse}, R^2: {svm_r2}\")\n",
    "\n"
   ]
  },
  {
   "cell_type": "code",
   "execution_count": 158,
   "id": "848cd26c",
   "metadata": {},
   "outputs": [
    {
     "name": "stdout",
     "output_type": "stream",
     "text": [
      "Linear Regression MSE: 0.7168631972730609, R^2: 0.2782043496313761\n"
     ]
    }
   ],
   "source": [
    "# Linear Regression\n",
    "lr_model = LinearRegression()\n",
    "lr_model.fit(X_train, y_train)\n",
    "lr_predictions = lr_model.predict(X_test)\n",
    "lr_mse = mean_squared_error(y_test, lr_predictions)\n",
    "lr_r2 = r2_score(y_test, lr_predictions)\n",
    "print(f\"Linear Regression MSE: {lr_mse}, R^2: {lr_r2}\")"
   ]
  },
  {
   "cell_type": "markdown",
   "id": "4f2b1701",
   "metadata": {},
   "source": [
    "Recurrent Neural Network (RNN):\n"
   ]
  },
  {
   "cell_type": "code",
   "execution_count": 159,
   "id": "e0453ddb",
   "metadata": {
    "scrolled": true
   },
   "outputs": [
    {
     "name": "stdout",
     "output_type": "stream",
     "text": [
      "Epoch 1/50\n",
      "94/94 [==============================] - 1s 3ms/step - loss: 0.8049 - mse: 0.8049 - val_loss: 0.8197 - val_mse: 0.8197\n",
      "Epoch 2/50\n",
      "94/94 [==============================] - 0s 2ms/step - loss: 0.7323 - mse: 0.7323 - val_loss: 0.8058 - val_mse: 0.8058\n",
      "Epoch 3/50\n",
      "94/94 [==============================] - 0s 2ms/step - loss: 0.7155 - mse: 0.7155 - val_loss: 0.7701 - val_mse: 0.7701\n",
      "Epoch 4/50\n",
      "94/94 [==============================] - 0s 2ms/step - loss: 0.6976 - mse: 0.6976 - val_loss: 0.7481 - val_mse: 0.7481\n",
      "Epoch 5/50\n",
      "94/94 [==============================] - 0s 2ms/step - loss: 0.6868 - mse: 0.6868 - val_loss: 0.7428 - val_mse: 0.7428\n",
      "Epoch 6/50\n",
      "94/94 [==============================] - 0s 2ms/step - loss: 0.6834 - mse: 0.6834 - val_loss: 0.7525 - val_mse: 0.7525\n",
      "Epoch 7/50\n",
      "94/94 [==============================] - 0s 2ms/step - loss: 0.6675 - mse: 0.6675 - val_loss: 0.7680 - val_mse: 0.7680\n",
      "Epoch 8/50\n",
      "94/94 [==============================] - 0s 2ms/step - loss: 0.6614 - mse: 0.6614 - val_loss: 0.7311 - val_mse: 0.7311\n",
      "Epoch 9/50\n",
      "94/94 [==============================] - 0s 2ms/step - loss: 0.6533 - mse: 0.6533 - val_loss: 0.7382 - val_mse: 0.7382\n",
      "Epoch 10/50\n",
      "94/94 [==============================] - 0s 2ms/step - loss: 0.6385 - mse: 0.6385 - val_loss: 0.7857 - val_mse: 0.7857\n",
      "Epoch 11/50\n",
      "94/94 [==============================] - 0s 2ms/step - loss: 0.6347 - mse: 0.6347 - val_loss: 0.7168 - val_mse: 0.7168\n",
      "Epoch 12/50\n",
      "94/94 [==============================] - 0s 2ms/step - loss: 0.6271 - mse: 0.6271 - val_loss: 0.7775 - val_mse: 0.7775\n",
      "Epoch 13/50\n",
      "94/94 [==============================] - 0s 2ms/step - loss: 0.6162 - mse: 0.6162 - val_loss: 0.7661 - val_mse: 0.7661\n",
      "Epoch 14/50\n",
      "94/94 [==============================] - 0s 2ms/step - loss: 0.6123 - mse: 0.6123 - val_loss: 0.7586 - val_mse: 0.7586\n",
      "Epoch 15/50\n",
      "94/94 [==============================] - 0s 2ms/step - loss: 0.6116 - mse: 0.6116 - val_loss: 0.7604 - val_mse: 0.7604\n",
      "Epoch 16/50\n",
      "94/94 [==============================] - 0s 2ms/step - loss: 0.6051 - mse: 0.6051 - val_loss: 0.7878 - val_mse: 0.7878\n",
      "Epoch 17/50\n",
      "94/94 [==============================] - 0s 2ms/step - loss: 0.5969 - mse: 0.5969 - val_loss: 0.7758 - val_mse: 0.7758\n",
      "Epoch 18/50\n",
      "94/94 [==============================] - 0s 2ms/step - loss: 0.5937 - mse: 0.5937 - val_loss: 0.8084 - val_mse: 0.8084\n",
      "Epoch 19/50\n",
      "94/94 [==============================] - 0s 2ms/step - loss: 0.5969 - mse: 0.5969 - val_loss: 0.7826 - val_mse: 0.7826\n",
      "Epoch 20/50\n",
      "94/94 [==============================] - 0s 2ms/step - loss: 0.5856 - mse: 0.5856 - val_loss: 0.7779 - val_mse: 0.7779\n",
      "Epoch 21/50\n",
      "94/94 [==============================] - 0s 2ms/step - loss: 0.5905 - mse: 0.5905 - val_loss: 0.7645 - val_mse: 0.7645\n",
      "Epoch 22/50\n",
      "94/94 [==============================] - 0s 2ms/step - loss: 0.5829 - mse: 0.5829 - val_loss: 0.7337 - val_mse: 0.7337\n",
      "Epoch 23/50\n",
      "94/94 [==============================] - 0s 2ms/step - loss: 0.5836 - mse: 0.5836 - val_loss: 0.8074 - val_mse: 0.8074\n",
      "Epoch 24/50\n",
      "94/94 [==============================] - 0s 2ms/step - loss: 0.5807 - mse: 0.5807 - val_loss: 0.8533 - val_mse: 0.8533\n",
      "Epoch 25/50\n",
      "94/94 [==============================] - 0s 2ms/step - loss: 0.5810 - mse: 0.5810 - val_loss: 0.7701 - val_mse: 0.7701\n",
      "Epoch 26/50\n",
      "94/94 [==============================] - 0s 2ms/step - loss: 0.5750 - mse: 0.5750 - val_loss: 0.7926 - val_mse: 0.7926\n",
      "Epoch 27/50\n",
      "94/94 [==============================] - 0s 2ms/step - loss: 0.5703 - mse: 0.5703 - val_loss: 0.7465 - val_mse: 0.7465\n",
      "Epoch 28/50\n",
      "94/94 [==============================] - 0s 2ms/step - loss: 0.5720 - mse: 0.5720 - val_loss: 0.7833 - val_mse: 0.7833\n",
      "Epoch 29/50\n",
      "94/94 [==============================] - 0s 2ms/step - loss: 0.5727 - mse: 0.5727 - val_loss: 0.7955 - val_mse: 0.7955\n",
      "Epoch 30/50\n",
      "94/94 [==============================] - 0s 2ms/step - loss: 0.5685 - mse: 0.5685 - val_loss: 0.7854 - val_mse: 0.7854\n",
      "Epoch 31/50\n",
      "94/94 [==============================] - 0s 2ms/step - loss: 0.5669 - mse: 0.5669 - val_loss: 0.8015 - val_mse: 0.8015\n",
      "Epoch 32/50\n",
      "94/94 [==============================] - 0s 2ms/step - loss: 0.5674 - mse: 0.5674 - val_loss: 0.7917 - val_mse: 0.7917\n",
      "Epoch 33/50\n",
      "94/94 [==============================] - 0s 2ms/step - loss: 0.5682 - mse: 0.5682 - val_loss: 0.8112 - val_mse: 0.8112\n",
      "Epoch 34/50\n",
      "94/94 [==============================] - 0s 2ms/step - loss: 0.5682 - mse: 0.5682 - val_loss: 0.8515 - val_mse: 0.8515\n",
      "Epoch 35/50\n",
      "94/94 [==============================] - 0s 2ms/step - loss: 0.5670 - mse: 0.5670 - val_loss: 0.7858 - val_mse: 0.7858\n",
      "Epoch 36/50\n",
      "94/94 [==============================] - 0s 2ms/step - loss: 0.5794 - mse: 0.5794 - val_loss: 0.8398 - val_mse: 0.8398\n",
      "Epoch 37/50\n",
      "94/94 [==============================] - 0s 2ms/step - loss: 0.5576 - mse: 0.5576 - val_loss: 0.8221 - val_mse: 0.8221\n",
      "Epoch 38/50\n",
      "94/94 [==============================] - 0s 2ms/step - loss: 0.5580 - mse: 0.5580 - val_loss: 0.7751 - val_mse: 0.7751\n",
      "Epoch 39/50\n",
      "94/94 [==============================] - 0s 2ms/step - loss: 0.5568 - mse: 0.5568 - val_loss: 0.7522 - val_mse: 0.7522\n",
      "Epoch 40/50\n",
      "94/94 [==============================] - 0s 2ms/step - loss: 0.5552 - mse: 0.5552 - val_loss: 0.7607 - val_mse: 0.7607\n",
      "Epoch 41/50\n",
      "94/94 [==============================] - 0s 2ms/step - loss: 0.5565 - mse: 0.5565 - val_loss: 0.7701 - val_mse: 0.7701\n",
      "Epoch 42/50\n",
      "94/94 [==============================] - 0s 2ms/step - loss: 0.5572 - mse: 0.5572 - val_loss: 0.7605 - val_mse: 0.7605\n",
      "Epoch 43/50\n",
      "94/94 [==============================] - 0s 2ms/step - loss: 0.5557 - mse: 0.5557 - val_loss: 0.7718 - val_mse: 0.7718\n",
      "Epoch 44/50\n",
      "94/94 [==============================] - 0s 2ms/step - loss: 0.5477 - mse: 0.5477 - val_loss: 0.7739 - val_mse: 0.7739\n",
      "Epoch 45/50\n",
      "94/94 [==============================] - 0s 2ms/step - loss: 0.5515 - mse: 0.5515 - val_loss: 0.7617 - val_mse: 0.7617\n",
      "Epoch 46/50\n",
      "94/94 [==============================] - 0s 2ms/step - loss: 0.5504 - mse: 0.5504 - val_loss: 0.7971 - val_mse: 0.7971\n",
      "Epoch 47/50\n",
      "94/94 [==============================] - 0s 2ms/step - loss: 0.5466 - mse: 0.5466 - val_loss: 0.8086 - val_mse: 0.8086\n",
      "Epoch 48/50\n",
      "94/94 [==============================] - 0s 2ms/step - loss: 0.5505 - mse: 0.5505 - val_loss: 0.7600 - val_mse: 0.7600\n",
      "Epoch 49/50\n",
      "94/94 [==============================] - 0s 2ms/step - loss: 0.5513 - mse: 0.5513 - val_loss: 0.7866 - val_mse: 0.7866\n",
      "Epoch 50/50\n",
      "94/94 [==============================] - 0s 2ms/step - loss: 0.5434 - mse: 0.5434 - val_loss: 0.8058 - val_mse: 0.8058\n"
     ]
    },
    {
     "data": {
      "text/plain": [
       "<keras.src.callbacks.History at 0x16a5b14cf10>"
      ]
     },
     "execution_count": 159,
     "metadata": {},
     "output_type": "execute_result"
    }
   ],
   "source": [
    "import tensorflow as tf\n",
    "from tensorflow.keras.models import Sequential\n",
    "from tensorflow.keras.layers import SimpleRNN, Dense\n",
    "\n",
    "# Assuming you have scaled_data and target from your dataset\n",
    "\n",
    "# Reshape data for RNN (assuming time steps = number of features)\n",
    "rnn_data = scalled_data.reshape(-1, scalled_data.shape[1], 1)\n",
    "\n",
    "# Define RNN model\n",
    "rnn_model = Sequential()\n",
    "rnn_model.add(SimpleRNN(64, input_shape=(scalled_data.shape[1], 1), activation='relu'))\n",
    "rnn_model.add(Dense(32, activation='relu'))\n",
    "rnn_model.add(Dense(1, activation='linear'))  # Assuming regression task\n",
    "\n",
    "# Compile the model\n",
    "rnn_model.compile(optimizer='adam', loss='mean_squared_error', metrics=['mse'])\n",
    "\n",
    "# Train the model\n",
    "rnn_model.fit(rnn_data, y_scaled, epochs=50, batch_size=32, validation_split=0.2)\n"
   ]
  },
  {
   "cell_type": "markdown",
   "id": "f4021cfe",
   "metadata": {},
   "source": [
    "Feed Forward Neural Network (FNN):\n"
   ]
  },
  {
   "cell_type": "code",
   "execution_count": 160,
   "id": "ede978da",
   "metadata": {
    "scrolled": true
   },
   "outputs": [
    {
     "name": "stdout",
     "output_type": "stream",
     "text": [
      "Epoch 1/50\n",
      "94/94 [==============================] - 1s 2ms/step - loss: 0.7956 - mse: 0.7956 - val_loss: 0.7999 - val_mse: 0.7999\n",
      "Epoch 2/50\n",
      "94/94 [==============================] - 0s 1ms/step - loss: 0.7157 - mse: 0.7157 - val_loss: 0.8471 - val_mse: 0.8471\n",
      "Epoch 3/50\n",
      "94/94 [==============================] - 0s 1ms/step - loss: 0.7048 - mse: 0.7048 - val_loss: 0.7783 - val_mse: 0.7783\n",
      "Epoch 4/50\n",
      "94/94 [==============================] - 0s 1ms/step - loss: 0.6949 - mse: 0.6949 - val_loss: 0.8710 - val_mse: 0.8710\n",
      "Epoch 5/50\n",
      "94/94 [==============================] - 0s 1ms/step - loss: 0.6864 - mse: 0.6864 - val_loss: 0.8349 - val_mse: 0.8349\n",
      "Epoch 6/50\n",
      "94/94 [==============================] - 0s 1ms/step - loss: 0.6788 - mse: 0.6788 - val_loss: 0.8438 - val_mse: 0.8438\n",
      "Epoch 7/50\n",
      "94/94 [==============================] - 0s 1ms/step - loss: 0.6753 - mse: 0.6753 - val_loss: 0.8236 - val_mse: 0.8236\n",
      "Epoch 8/50\n",
      "94/94 [==============================] - 0s 1ms/step - loss: 0.6719 - mse: 0.6719 - val_loss: 0.8366 - val_mse: 0.8366\n",
      "Epoch 9/50\n",
      "94/94 [==============================] - 0s 1ms/step - loss: 0.6689 - mse: 0.6689 - val_loss: 0.8399 - val_mse: 0.8399\n",
      "Epoch 10/50\n",
      "94/94 [==============================] - 0s 1ms/step - loss: 0.6599 - mse: 0.6599 - val_loss: 0.8185 - val_mse: 0.8185\n",
      "Epoch 11/50\n",
      "94/94 [==============================] - 0s 1ms/step - loss: 0.6572 - mse: 0.6572 - val_loss: 0.8463 - val_mse: 0.8463\n",
      "Epoch 12/50\n",
      "94/94 [==============================] - 0s 1ms/step - loss: 0.6545 - mse: 0.6545 - val_loss: 0.9013 - val_mse: 0.9013\n",
      "Epoch 13/50\n",
      "94/94 [==============================] - 0s 1ms/step - loss: 0.6504 - mse: 0.6504 - val_loss: 0.8534 - val_mse: 0.8534\n",
      "Epoch 14/50\n",
      "94/94 [==============================] - 0s 1ms/step - loss: 0.6458 - mse: 0.6458 - val_loss: 0.8009 - val_mse: 0.8009\n",
      "Epoch 15/50\n",
      "94/94 [==============================] - 0s 1ms/step - loss: 0.6463 - mse: 0.6463 - val_loss: 0.8104 - val_mse: 0.8104\n",
      "Epoch 16/50\n",
      "94/94 [==============================] - 0s 1ms/step - loss: 0.6386 - mse: 0.6386 - val_loss: 0.7931 - val_mse: 0.7931\n",
      "Epoch 17/50\n",
      "94/94 [==============================] - 0s 1ms/step - loss: 0.6389 - mse: 0.6389 - val_loss: 0.8146 - val_mse: 0.8146\n",
      "Epoch 18/50\n",
      "94/94 [==============================] - 0s 1ms/step - loss: 0.6354 - mse: 0.6354 - val_loss: 0.9563 - val_mse: 0.9563\n",
      "Epoch 19/50\n",
      "94/94 [==============================] - 0s 1ms/step - loss: 0.6297 - mse: 0.6297 - val_loss: 0.8479 - val_mse: 0.8479\n",
      "Epoch 20/50\n",
      "94/94 [==============================] - 0s 1ms/step - loss: 0.6285 - mse: 0.6285 - val_loss: 0.7988 - val_mse: 0.7988\n",
      "Epoch 21/50\n",
      "94/94 [==============================] - 0s 1ms/step - loss: 0.6262 - mse: 0.6262 - val_loss: 0.8768 - val_mse: 0.8768\n",
      "Epoch 22/50\n",
      "94/94 [==============================] - 0s 1ms/step - loss: 0.6231 - mse: 0.6231 - val_loss: 0.8915 - val_mse: 0.8915\n",
      "Epoch 23/50\n",
      "94/94 [==============================] - 0s 1ms/step - loss: 0.6218 - mse: 0.6218 - val_loss: 0.8815 - val_mse: 0.8815\n",
      "Epoch 24/50\n",
      "94/94 [==============================] - 0s 1ms/step - loss: 0.6165 - mse: 0.6165 - val_loss: 0.8293 - val_mse: 0.8293\n",
      "Epoch 25/50\n",
      "94/94 [==============================] - 0s 1ms/step - loss: 0.6190 - mse: 0.6190 - val_loss: 0.8489 - val_mse: 0.8489\n",
      "Epoch 26/50\n",
      "94/94 [==============================] - 0s 1ms/step - loss: 0.6134 - mse: 0.6134 - val_loss: 0.9593 - val_mse: 0.9593\n",
      "Epoch 27/50\n",
      "94/94 [==============================] - 0s 1ms/step - loss: 0.6083 - mse: 0.6083 - val_loss: 0.9701 - val_mse: 0.9701\n",
      "Epoch 28/50\n",
      "94/94 [==============================] - 0s 1ms/step - loss: 0.6135 - mse: 0.6135 - val_loss: 0.8462 - val_mse: 0.8462\n",
      "Epoch 29/50\n",
      "94/94 [==============================] - 0s 1ms/step - loss: 0.5998 - mse: 0.5998 - val_loss: 0.8401 - val_mse: 0.8401\n",
      "Epoch 30/50\n",
      "94/94 [==============================] - 0s 1ms/step - loss: 0.6047 - mse: 0.6047 - val_loss: 0.8761 - val_mse: 0.8761\n",
      "Epoch 31/50\n",
      "94/94 [==============================] - 0s 1ms/step - loss: 0.6004 - mse: 0.6004 - val_loss: 0.8835 - val_mse: 0.8835\n",
      "Epoch 32/50\n",
      "94/94 [==============================] - 0s 1ms/step - loss: 0.6003 - mse: 0.6003 - val_loss: 0.9304 - val_mse: 0.9304\n",
      "Epoch 33/50\n",
      "94/94 [==============================] - 0s 1ms/step - loss: 0.5946 - mse: 0.5946 - val_loss: 0.9081 - val_mse: 0.9081\n",
      "Epoch 34/50\n",
      "94/94 [==============================] - 0s 1ms/step - loss: 0.5965 - mse: 0.5965 - val_loss: 1.0412 - val_mse: 1.0412\n",
      "Epoch 35/50\n",
      "94/94 [==============================] - 0s 1ms/step - loss: 0.5921 - mse: 0.5921 - val_loss: 0.9449 - val_mse: 0.9449\n",
      "Epoch 36/50\n",
      "94/94 [==============================] - 0s 1ms/step - loss: 0.5949 - mse: 0.5949 - val_loss: 0.8914 - val_mse: 0.8914\n",
      "Epoch 37/50\n",
      "94/94 [==============================] - 0s 1ms/step - loss: 0.5919 - mse: 0.5919 - val_loss: 0.9384 - val_mse: 0.9384\n",
      "Epoch 38/50\n",
      "94/94 [==============================] - 0s 1ms/step - loss: 0.5885 - mse: 0.5885 - val_loss: 0.9081 - val_mse: 0.9081\n",
      "Epoch 39/50\n",
      "94/94 [==============================] - 0s 1ms/step - loss: 0.5891 - mse: 0.5891 - val_loss: 0.8640 - val_mse: 0.8640\n",
      "Epoch 40/50\n",
      "94/94 [==============================] - 0s 1ms/step - loss: 0.5820 - mse: 0.5820 - val_loss: 0.9826 - val_mse: 0.9826\n",
      "Epoch 41/50\n",
      "94/94 [==============================] - 0s 1ms/step - loss: 0.5892 - mse: 0.5892 - val_loss: 0.9066 - val_mse: 0.9066\n",
      "Epoch 42/50\n",
      "94/94 [==============================] - 0s 1ms/step - loss: 0.5811 - mse: 0.5811 - val_loss: 0.8925 - val_mse: 0.8925\n",
      "Epoch 43/50\n",
      "94/94 [==============================] - 0s 1ms/step - loss: 0.5836 - mse: 0.5836 - val_loss: 0.9696 - val_mse: 0.9696\n",
      "Epoch 44/50\n",
      "94/94 [==============================] - 0s 1ms/step - loss: 0.5819 - mse: 0.5819 - val_loss: 0.9576 - val_mse: 0.9576\n",
      "Epoch 45/50\n",
      "94/94 [==============================] - 0s 1ms/step - loss: 0.5834 - mse: 0.5834 - val_loss: 0.9568 - val_mse: 0.9568\n",
      "Epoch 46/50\n",
      "94/94 [==============================] - 0s 1ms/step - loss: 0.5813 - mse: 0.5813 - val_loss: 0.9103 - val_mse: 0.9103\n",
      "Epoch 47/50\n",
      "94/94 [==============================] - 0s 1ms/step - loss: 0.5820 - mse: 0.5820 - val_loss: 0.8439 - val_mse: 0.8439\n",
      "Epoch 48/50\n",
      "94/94 [==============================] - 0s 1ms/step - loss: 0.5812 - mse: 0.5812 - val_loss: 0.8893 - val_mse: 0.8893\n",
      "Epoch 49/50\n",
      "94/94 [==============================] - 0s 1ms/step - loss: 0.5745 - mse: 0.5745 - val_loss: 0.9196 - val_mse: 0.9196\n",
      "Epoch 50/50\n",
      "94/94 [==============================] - 0s 1ms/step - loss: 0.5817 - mse: 0.5817 - val_loss: 0.9621 - val_mse: 0.9621\n"
     ]
    },
    {
     "data": {
      "text/plain": [
       "<keras.src.callbacks.History at 0x16a56e5f590>"
      ]
     },
     "execution_count": 160,
     "metadata": {},
     "output_type": "execute_result"
    }
   ],
   "source": [
    "import tensorflow as tf\n",
    "from tensorflow.keras.models import Sequential\n",
    "from tensorflow.keras.layers import Dense\n",
    "\n",
    "# Assuming you have scaled_data and target from your dataset\n",
    "\n",
    "# Define FNN model\n",
    "fnn_model = Sequential()\n",
    "fnn_model.add(Dense(64, input_dim=scalled_data.shape[1], activation='relu'))\n",
    "fnn_model.add(Dense(32, activation='relu'))\n",
    "fnn_model.add(Dense(1, activation='linear'))  # Assuming regression task\n",
    "\n",
    "# Compile the model\n",
    "fnn_model.compile(optimizer='adam', loss='mean_squared_error', metrics=['mse'])\n",
    "\n",
    "# Train the model\n",
    "fnn_model.fit(scalled_data, y_scaled, epochs=50, batch_size=32, validation_split=0.2)\n"
   ]
  },
  {
   "cell_type": "markdown",
   "id": "f84f2a91",
   "metadata": {},
   "source": [
    "Ploting the mse and evaluate"
   ]
  },
  {
   "cell_type": "code",
   "execution_count": 161,
   "id": "048cebdc",
   "metadata": {
    "scrolled": true
   },
   "outputs": [
    {
     "name": "stdout",
     "output_type": "stream",
     "text": [
      "24/24 [==============================] - 0s 676us/step\n",
      "24/24 [==============================] - 0s 913us/step\n"
     ]
    },
    {
     "data": {
      "image/png": "[encoded data removed]",
      "text/plain": [
       "<Figure size 1200x600 with 2 Axes>"
      ]
     },
     "metadata": {},
     "output_type": "display_data"
    }
   ],
   "source": [
    "import matplotlib.pyplot as plt\n",
    "import numpy as np\n",
    "\n",
    "# Assuming you have trained models (fnn_model, rnn_model) and X_test, y_test available\n",
    "\n",
    "# Function to evaluate and return MSE and R-squared\n",
    "def evaluate_model(model, X_test, y_test):\n",
    "    predictions = model.predict(X_test)\n",
    "    mse = mean_squared_error(y_test, predictions)\n",
    "    r2 = r2_score(y_test, predictions)\n",
    "    return mse, r2\n",
    "\n",
    "# Evaluate each model\n",
    "models = [dt_model, rf_model, svm_model, lr_model, fnn_model, rnn_model]\n",
    "model_names = ['Decision Tree', 'Random Forest', 'SVM', 'Linear Regression', 'FNN', 'RNN']\n",
    "\n",
    "mse_scores = []\n",
    "r2_scores = []\n",
    "\n",
    "for model in models:\n",
    "    mse, r2 = evaluate_model(model, X_test, y_test)\n",
    "    mse_scores.append(mse)\n",
    "    r2_scores.append(r2)\n",
    "\n",
    "# Plotting\n",
    "bar_width = 0.35\n",
    "index = np.arange(len(model_names))\n",
    "\n",
    "fig, ax1 = plt.subplots(figsize=(12, 6))\n",
    "\n",
    "# Plot MSE\n",
    "bars1 = ax1.bar(index - bar_width/2, mse_scores, bar_width, label='MSE', color='blue')\n",
    "ax1.set_ylabel('Mean Squared Error (MSE)', color='blue')\n",
    "ax1.tick_params(axis='y', labelcolor='blue')\n",
    "\n",
    "# Create a second y-axis for R-squared\n",
    "ax2 = ax1.twinx()\n",
    "bars2 = ax2.bar(index + bar_width/2, r2_scores, bar_width, label='R²', color='green')\n",
    "ax2.set_ylabel('R-squared (R²)', color='green')\n",
    "ax2.tick_params(axis='y', labelcolor='green')\n",
    "\n",
    "# Annotate bars with values\n",
    "for bar, mse, r2 in zip(bars1, mse_scores, r2_scores):\n",
    "    height = bar.get_height()\n",
    "    ax1.text(bar.get_x() + bar.get_width() / 2, height, f'{mse:.2f}', ha='center', va='bottom', color='blue')\n",
    "\n",
    "for bar, r2 in zip(bars2, r2_scores):\n",
    "    height = bar.get_height()\n",
    "    ax2.text(bar.get_x() + bar.get_width() / 2, height, f'{r2:.2f}', ha='center', va='bottom', color='green')\n",
    "\n",
    "plt.title('Model Evaluation Metrics')\n",
    "plt.xticks(index, model_names)\n",
    "plt.show()\n",
    "\n"
   ]
  },
  {
   "cell_type": "markdown",
   "id": "0a8c043f",
   "metadata": {},
   "source": [
    "Drop Some Features To Improve The Model and Overfitting"
   ]
  },
  {
   "cell_type": "code",
   "execution_count": 250,
   "id": "31e86987",
   "metadata": {},
   "outputs": [],
   "source": [
    "#clone the data set\n",
    "data_new_set = df.copy()\n",
    "data_new_set.drop(columns=['salary','salary_in_usd','salary_currency'], inplace=True)\n"
   ]
  },
  {
   "cell_type": "code",
   "execution_count": 251,
   "id": "f3b9a2a2",
   "metadata": {},
   "outputs": [
    {
     "name": "stdout",
     "output_type": "stream",
     "text": [
      "   work_year  experience_level  employment_type  job_title  \\\n",
      "0       2023                 3                2         84   \n",
      "1       2023                 2                0         66   \n",
      "2       2023                 2                0         66   \n",
      "3       2023                 3                2         47   \n",
      "4       2023                 3                2         47   \n",
      "\n",
      "   employee_residence  remote_ratio  company_location  company_size  \n",
      "0                  26           100                25             0  \n",
      "1                  75           100                70             2  \n",
      "2                  75           100                70             2  \n",
      "3                  11           100                12             1  \n",
      "4                  11           100                12             1  \n"
     ]
    }
   ],
   "source": [
    "# Get the categorical columns\n",
    "categorical_cols = data_new_set.select_dtypes(include=['object']).columns\n",
    "\n",
    "# Initialize the encoder\n",
    "encoder = LabelEncoder()\n",
    "\n",
    "# Apply label encoding to all categorical columns\n",
    "data_new_set[categorical_cols] = data_new_set[categorical_cols].apply(lambda col: encoder.fit_transform(col))\n",
    "\n",
    "# Display the processed data\n",
    "print(data_new_set.head())\n"
   ]
  },
  {
   "cell_type": "code",
   "execution_count": 252,
   "id": "0b1da659",
   "metadata": {},
   "outputs": [
    {
     "data": {
      "application/vnd.plotly.v1+json": {
       "config": {
        "plotlyServerURL": "https://plot.ly"
       },
       "data": [
        {
         "coloraxis": "coloraxis",
         "hovertemplate": "Features: %{x}<br>Features: %{y}<br>Correlation: %{z}<extra></extra>",
         "name": "0",
         "texttemplate": "%{z}",
         "type": "heatmap",
         "x": [
          "work_year",
          "experience_level",
          "employment_type",
          "job_title",
          "employee_residence",
          "remote_ratio",
          "company_location",
          "company_size"
         ],
         "xaxis": "x",
         "y": [
          "work_year",
          "experience_level",
          "employment_type",
          "job_title",
          "employee_residence",
          "remote_ratio",
          "company_location",
          "company_size"
         ],
         "yaxis": "y",
         "z": [
          [
           1,
           0.19,
           0.01,
           -0.03,
           0.24,
           -0.24,
           0.23,
           0.14
          ],
          [
           0.19,
           1,
           -0.03,
           0.02,
           0.25,
           -0.05,
           0.25,
           0.07
          ],
          [
           0.01,
           -0.03,
           1,
           -0.05,
           -0.02,
           -0.03,
           -0.01,
           -0.04
          ],
          [
           -0.03,
           0.02,
           -0.05,
           1,
           -0.06,
           -0.04,
           -0.07,
           0
          ],
          [
           0.24,
           0.25,
           -0.02,
           -0.06,
           1,
           -0.08,
           0.95,
           0.03
          ],
          [
           -0.24,
           -0.05,
           -0.03,
           -0.04,
           -0.08,
           1,
           -0.07,
           -0.04
          ],
          [
           0.23,
           0.25,
           -0.01,
           -0.07,
           0.95,
           -0.07,
           1,
           0.04
          ],
          [
           0.14,
           0.07,
           -0.04,
           0,
           0.03,
           -0.04,
           0.04,
           1
          ]
         ]
        }
       ],
       "layout": {
        "coloraxis": {
         "colorbar": {
          "title": {
           "text": "Correlation"
          }
         },
         "colorscale": [
          [
           0,
           "rgb(103,0,31)"
          ],
          [
           0.1,
           "rgb(178,24,43)"
          ],
          [
           0.2,
           "rgb(214,96,77)"
          ],
          [
           0.3,
           "rgb(244,165,130)"
          ],
          [
           0.4,
           "rgb(253,219,199)"
          ],
          [
           0.5,
           "rgb(247,247,247)"
          ],
          [
           0.6,
           "rgb(209,229,240)"
          ],
          [
           0.7,
           "rgb(146,197,222)"
          ],
          [
           0.8,
           "rgb(67,147,195)"
          ],
          [
           0.9,
           "rgb(33,102,172)"
          ],
          [
           1,
           "rgb(5,48,97)"
          ]
         ]
        },
        "height": 600,
        "template": {
         "data": {
          "bar": [
           {
            "error_x": {
             "color": "#2a3f5f"
            },
            "error_y": {
             "color": "#2a3f5f"
            },
            "marker": {
             "line": {
              "color": "#E5ECF6",
              "width": 0.5
             },
             "pattern": {
              "fillmode": "overlay",
              "size": 10,
              "solidity": 0.2
             }
            },
            "type": "bar"
           }
          ],
          "barpolar": [
           {
            "marker": {
             "line": {
              "color": "#E5ECF6",
              "width": 0.5
             },
             "pattern": {
              "fillmode": "overlay",
              "size": 10,
              "solidity": 0.2
             }
            },
            "type": "barpolar"
           }
          ],
          "carpet": [
           {
            "aaxis": {
             "endlinecolor": "#2a3f5f",
             "gridcolor": "white",
             "linecolor": "white",
             "minorgridcolor": "white",
             "startlinecolor": "#2a3f5f"
            },
            "baxis": {
             "endlinecolor": "#2a3f5f",
             "gridcolor": "white",
             "linecolor": "white",
             "minorgridcolor": "white",
             "startlinecolor": "#2a3f5f"
            },
            "type": "carpet"
           }
          ],
          "choropleth": [
           {
            "colorbar": {
             "outlinewidth": 0,
             "ticks": ""
            },
            "type": "choropleth"
           }
          ],
          "contour": [
           {
            "colorbar": {
             "outlinewidth": 0,
             "ticks": ""
            },
            "colorscale": [
             [
              0,
              "#0d0887"
             ],
             [
              0.1111111111111111,
              "#46039f"
             ],
             [
              0.2222222222222222,
              "#7201a8"
             ],
             [
              0.3333333333333333,
              "#9c179e"
             ],
             [
              0.4444444444444444,
              "#bd3786"
             ],
             [
              0.5555555555555556,
              "#d8576b"
             ],
             [
              0.6666666666666666,
              "#ed7953"
             ],
             [
              0.7777777777777778,
              "#fb9f3a"
             ],
             [
              0.8888888888888888,
              "#fdca26"
             ],
             [
              1,
              "#f0f921"
             ]
            ],
            "type": "contour"
           }
          ],
          "contourcarpet": [
           {
            "colorbar": {
             "outlinewidth": 0,
             "ticks": ""
            },
            "type": "contourcarpet"
           }
          ],
          "heatmap": [
           {
            "colorbar": {
             "outlinewidth": 0,
             "ticks": ""
            },
            "colorscale": [
             [
              0,
              "#0d0887"
             ],
             [
              0.1111111111111111,
              "#46039f"
             ],
             [
              0.2222222222222222,
              "#7201a8"
             ],
             [
              0.3333333333333333,
              "#9c179e"
             ],
             [
              0.4444444444444444,
              "#bd3786"
             ],
             [
              0.5555555555555556,
              "#d8576b"
             ],
             [
              0.6666666666666666,
              "#ed7953"
             ],
             [
              0.7777777777777778,
              "#fb9f3a"
             ],
             [
              0.8888888888888888,
              "#fdca26"
             ],
             [
              1,
              "#f0f921"
             ]
            ],
            "type": "heatmap"
           }
          ],
          "heatmapgl": [
           {
            "colorbar": {
             "outlinewidth": 0,
             "ticks": ""
            },
            "colorscale": [
             [
              0,
              "#0d0887"
             ],
             [
              0.1111111111111111,
              "#46039f"
             ],
             [
              0.2222222222222222,
              "#7201a8"
             ],
             [
              0.3333333333333333,
              "#9c179e"
             ],
             [
              0.4444444444444444,
              "#bd3786"
             ],
             [
              0.5555555555555556,
              "#d8576b"
             ],
             [
              0.6666666666666666,
              "#ed7953"
             ],
             [
              0.7777777777777778,
              "#fb9f3a"
             ],
             [
              0.8888888888888888,
              "#fdca26"
             ],
             [
              1,
              "#f0f921"
             ]
            ],
            "type": "heatmapgl"
           }
          ],
          "histogram": [
           {
            "marker": {
             "pattern": {
              "fillmode": "overlay",
              "size": 10,
              "solidity": 0.2
             }
            },
            "type": "histogram"
           }
          ],
          "histogram2d": [
           {
            "colorbar": {
             "outlinewidth": 0,
             "ticks": ""
            },
            "colorscale": [
             [
              0,
              "#0d0887"
             ],
             [
              0.1111111111111111,
              "#46039f"
             ],
             [
              0.2222222222222222,
              "#7201a8"
             ],
             [
              0.3333333333333333,
              "#9c179e"
             ],
             [
              0.4444444444444444,
              "#bd3786"
             ],
             [
              0.5555555555555556,
              "#d8576b"
             ],
             [
              0.6666666666666666,
              "#ed7953"
             ],
             [
              0.7777777777777778,
              "#fb9f3a"
             ],
             [
              0.8888888888888888,
              "#fdca26"
             ],
             [
              1,
              "#f0f921"
             ]
            ],
            "type": "histogram2d"
           }
          ],
          "histogram2dcontour": [
           {
            "colorbar": {
             "outlinewidth": 0,
             "ticks": ""
            },
            "colorscale": [
             [
              0,
              "#0d0887"
             ],
             [
              0.1111111111111111,
              "#46039f"
             ],
             [
              0.2222222222222222,
              "#7201a8"
             ],
             [
              0.3333333333333333,
              "#9c179e"
             ],
             [
              0.4444444444444444,
              "#bd3786"
             ],
             [
              0.5555555555555556,
              "#d8576b"
             ],
             [
              0.6666666666666666,
              "#ed7953"
             ],
             [
              0.7777777777777778,
              "#fb9f3a"
             ],
             [
              0.8888888888888888,
              "#fdca26"
             ],
             [
              1,
              "#f0f921"
             ]
            ],
            "type": "histogram2dcontour"
           }
          ],
          "mesh3d": [
           {
            "colorbar": {
             "outlinewidth": 0,
             "ticks": ""
            },
            "type": "mesh3d"
           }
          ],
          "parcoords": [
           {
            "line": {
             "colorbar": {
              "outlinewidth": 0,
              "ticks": ""
             }
            },
            "type": "parcoords"
           }
          ],
          "pie": [
           {
            "automargin": true,
            "type": "pie"
           }
          ],
          "scatter": [
           {
            "fillpattern": {
             "fillmode": "overlay",
             "size": 10,
             "solidity": 0.2
            },
            "type": "scatter"
           }
          ],
          "scatter3d": [
           {
            "line": {
             "colorbar": {
              "outlinewidth": 0,
              "ticks": ""
             }
            },
            "marker": {
             "colorbar": {
              "outlinewidth": 0,
              "ticks": ""
             }
            },
            "type": "scatter3d"
           }
          ],
          "scattercarpet": [
           {
            "marker": {
             "colorbar": {
              "outlinewidth": 0,
              "ticks": ""
             }
            },
            "type": "scattercarpet"
           }
          ],
          "scattergeo": [
           {
            "marker": {
             "colorbar": {
              "outlinewidth": 0,
              "ticks": ""
             }
            },
            "type": "scattergeo"
           }
          ],
          "scattergl": [
           {
            "marker": {
             "colorbar": {
              "outlinewidth": 0,
              "ticks": ""
             }
            },
            "type": "scattergl"
           }
          ],
          "scattermapbox": [
           {
            "marker": {
             "colorbar": {
              "outlinewidth": 0,
              "ticks": ""
             }
            },
            "type": "scattermapbox"
           }
          ],
          "scatterpolar": [
           {
            "marker": {
             "colorbar": {
              "outlinewidth": 0,
              "ticks": ""
             }
            },
            "type": "scatterpolar"
           }
          ],
          "scatterpolargl": [
           {
            "marker": {
             "colorbar": {
              "outlinewidth": 0,
              "ticks": ""
             }
            },
            "type": "scatterpolargl"
           }
          ],
          "scatterternary": [
           {
            "marker": {
             "colorbar": {
              "outlinewidth": 0,
              "ticks": ""
             }
            },
            "type": "scatterternary"
           }
          ],
          "surface": [
           {
            "colorbar": {
             "outlinewidth": 0,
             "ticks": ""
            },
            "colorscale": [
             [
              0,
              "#0d0887"
             ],
             [
              0.1111111111111111,
              "#46039f"
             ],
             [
              0.2222222222222222,
              "#7201a8"
             ],
             [
              0.3333333333333333,
              "#9c179e"
             ],
             [
              0.4444444444444444,
              "#bd3786"
             ],
             [
              0.5555555555555556,
              "#d8576b"
             ],
             [
              0.6666666666666666,
              "#ed7953"
             ],
             [
              0.7777777777777778,
              "#fb9f3a"
             ],
             [
              0.8888888888888888,
              "#fdca26"
             ],
             [
              1,
              "#f0f921"
             ]
            ],
            "type": "surface"
           }
          ],
          "table": [
           {
            "cells": {
             "fill": {
              "color": "#EBF0F8"
             },
             "line": {
              "color": "white"
             }
            },
            "header": {
             "fill": {
              "color": "#C8D4E3"
             },
             "line": {
              "color": "white"
             }
            },
            "type": "table"
           }
          ]
         },
         "layout": {
          "annotationdefaults": {
           "arrowcolor": "#2a3f5f",
           "arrowhead": 0,
           "arrowwidth": 1
          },
          "autotypenumbers": "strict",
          "coloraxis": {
           "colorbar": {
            "outlinewidth": 0,
            "ticks": ""
           }
          },
          "colorscale": {
           "diverging": [
            [
             0,
             "#8e0152"
            ],
            [
             0.1,
             "#c51b7d"
            ],
            [
             0.2,
             "#de77ae"
            ],
            [
             0.3,
             "#f1b6da"
            ],
            [
             0.4,
             "#fde0ef"
            ],
            [
             0.5,
             "#f7f7f7"
            ],
            [
             0.6,
             "#e6f5d0"
            ],
            [
             0.7,
             "#b8e186"
            ],
            [
             0.8,
             "#7fbc41"
            ],
            [
             0.9,
             "#4d9221"
            ],
            [
             1,
             "#276419"
            ]
           ],
           "sequential": [
            [
             0,
             "#0d0887"
            ],
            [
             0.1111111111111111,
             "#46039f"
            ],
            [
             0.2222222222222222,
             "#7201a8"
            ],
            [
             0.3333333333333333,
             "#9c179e"
            ],
            [
             0.4444444444444444,
             "#bd3786"
            ],
            [
             0.5555555555555556,
             "#d8576b"
            ],
            [
             0.6666666666666666,
             "#ed7953"
            ],
            [
             0.7777777777777778,
             "#fb9f3a"
            ],
            [
             0.8888888888888888,
             "#fdca26"
            ],
            [
             1,
             "#f0f921"
            ]
           ],
           "sequentialminus": [
            [
             0,
             "#0d0887"
            ],
            [
             0.1111111111111111,
             "#46039f"
            ],
            [
             0.2222222222222222,
             "#7201a8"
            ],
            [
             0.3333333333333333,
             "#9c179e"
            ],
            [
             0.4444444444444444,
             "#bd3786"
            ],
            [
             0.5555555555555556,
             "#d8576b"
            ],
            [
             0.6666666666666666,
             "#ed7953"
            ],
            [
             0.7777777777777778,
             "#fb9f3a"
            ],
            [
             0.8888888888888888,
             "#fdca26"
            ],
            [
             1,
             "#f0f921"
            ]
           ]
          },
          "colorway": [
           "#636efa",
           "#EF553B",
           "#00cc96",
           "#ab63fa",
           "#FFA15A",
           "#19d3f3",
           "#FF6692",
           "#B6E880",
           "#FF97FF",
           "#FECB52"
          ],
          "font": {
           "color": "#2a3f5f"
          },
          "geo": {
           "bgcolor": "white",
           "lakecolor": "white",
           "landcolor": "#E5ECF6",
           "showlakes": true,
           "showland": true,
           "subunitcolor": "white"
          },
          "hoverlabel": {
           "align": "left"
          },
          "hovermode": "closest",
          "mapbox": {
           "style": "light"
          },
          "paper_bgcolor": "white",
          "plot_bgcolor": "#E5ECF6",
          "polar": {
           "angularaxis": {
            "gridcolor": "white",
            "linecolor": "white",
            "ticks": ""
           },
           "bgcolor": "#E5ECF6",
           "radialaxis": {
            "gridcolor": "white",
            "linecolor": "white",
            "ticks": ""
           }
          },
          "scene": {
           "xaxis": {
            "backgroundcolor": "#E5ECF6",
            "gridcolor": "white",
            "gridwidth": 2,
            "linecolor": "white",
            "showbackground": true,
            "ticks": "",
            "zerolinecolor": "white"
           },
           "yaxis": {
            "backgroundcolor": "#E5ECF6",
            "gridcolor": "white",
            "gridwidth": 2,
            "linecolor": "white",
            "showbackground": true,
            "ticks": "",
            "zerolinecolor": "white"
           },
           "zaxis": {
            "backgroundcolor": "#E5ECF6",
            "gridcolor": "white",
            "gridwidth": 2,
            "linecolor": "white",
            "showbackground": true,
            "ticks": "",
            "zerolinecolor": "white"
           }
          },
          "shapedefaults": {
           "line": {
            "color": "#2a3f5f"
           }
          },
          "ternary": {
           "aaxis": {
            "gridcolor": "white",
            "linecolor": "white",
            "ticks": ""
           },
           "baxis": {
            "gridcolor": "white",
            "linecolor": "white",
            "ticks": ""
           },
           "bgcolor": "#E5ECF6",
           "caxis": {
            "gridcolor": "white",
            "linecolor": "white",
            "ticks": ""
           }
          },
          "title": {
           "x": 0.05
          },
          "xaxis": {
           "automargin": true,
           "gridcolor": "white",
           "linecolor": "white",
           "ticks": "",
           "title": {
            "standoff": 15
           },
           "zerolinecolor": "white",
           "zerolinewidth": 2
          },
          "yaxis": {
           "automargin": true,
           "gridcolor": "white",
           "linecolor": "white",
           "ticks": "",
           "title": {
            "standoff": 15
           },
           "zerolinecolor": "white",
           "zerolinewidth": 2
          }
         }
        },
        "title": {
         "text": "Linear Correlation (Heatmap)"
        },
        "xaxis": {
         "anchor": "y",
         "constrain": "domain",
         "domain": [
          0,
          1
         ],
         "scaleanchor": "y",
         "showgrid": false,
         "title": {
          "text": "Features"
         }
        },
        "yaxis": {
         "anchor": "x",
         "autorange": "reversed",
         "constrain": "domain",
         "domain": [
          0,
          1
         ],
         "showgrid": false,
         "title": {
          "text": "Features"
         }
        }
       }
      },
      "text/html": [
       "<div>                            <div id=\"57097383-8746-45a2-8943-9c52e2514cc9\" class=\"plotly-graph-div\" style=\"height:600px; width:100%;\"></div>            <script type=\"text/javascript\">                require([\"plotly\"], function(Plotly) {                    window.PLOTLYENV=window.PLOTLYENV || {};                                    if (document.getElementById(\"57097383-8746-45a2-8943-9c52e2514cc9\")) {                    Plotly.newPlot(                        \"57097383-8746-45a2-8943-9c52e2514cc9\",                        [{\"coloraxis\":\"coloraxis\",\"name\":\"0\",\"texttemplate\":\"%{z}\",\"x\":[\"work_year\",\"experience_level\",\"employment_type\",\"job_title\",\"employee_residence\",\"remote_ratio\",\"company_location\",\"company_size\"],\"y\":[\"work_year\",\"experience_level\",\"employment_type\",\"job_title\",\"employee_residence\",\"remote_ratio\",\"company_location\",\"company_size\"],\"z\":[[1.0,0.19,0.01,-0.03,0.24,-0.24,0.23,0.14],[0.19,1.0,-0.03,0.02,0.25,-0.05,0.25,0.07],[0.01,-0.03,1.0,-0.05,-0.02,-0.03,-0.01,-0.04],[-0.03,0.02,-0.05,1.0,-0.06,-0.04,-0.07,0.0],[0.24,0.25,-0.02,-0.06,1.0,-0.08,0.95,0.03],[-0.24,-0.05,-0.03,-0.04,-0.08,1.0,-0.07,-0.04],[0.23,0.25,-0.01,-0.07,0.95,-0.07,1.0,0.04],[0.14,0.07,-0.04,0.0,0.03,-0.04,0.04,1.0]],\"type\":\"heatmap\",\"xaxis\":\"x\",\"yaxis\":\"y\",\"hovertemplate\":\"Features: %{x}<br>Features: %{y}<br>Correlation: %{z}<extra></extra>\"}],                        {\"template\":{\"data\":{\"histogram2dcontour\":[{\"type\":\"histogram2dcontour\",\"colorbar\":{\"outlinewidth\":0,\"ticks\":\"\"},\"colorscale\":[[0.0,\"#0d0887\"],[0.1111111111111111,\"#46039f\"],[0.2222222222222222,\"#7201a8\"],[0.3333333333333333,\"#9c179e\"],[0.4444444444444444,\"#bd3786\"],[0.5555555555555556,\"#d8576b\"],[0.6666666666666666,\"#ed7953\"],[0.7777777777777778,\"#fb9f3a\"],[0.8888888888888888,\"#fdca26\"],[1.0,\"#f0f921\"]]}],\"choropleth\":[{\"type\":\"choropleth\",\"colorbar\":{\"outlinewidth\":0,\"ticks\":\"\"}}],\"histogram2d\":[{\"type\":\"histogram2d\",\"colorbar\":{\"outlinewidth\":0,\"ticks\":\"\"},\"colorscale\":[[0.0,\"#0d0887\"],[0.1111111111111111,\"#46039f\"],[0.2222222222222222,\"#7201a8\"],[0.3333333333333333,\"#9c179e\"],[0.4444444444444444,\"#bd3786\"],[0.5555555555555556,\"#d8576b\"],[0.6666666666666666,\"#ed7953\"],[0.7777777777777778,\"#fb9f3a\"],[0.8888888888888888,\"#fdca26\"],[1.0,\"#f0f921\"]]}],\"heatmap\":[{\"type\":\"heatmap\",\"colorbar\":{\"outlinewidth\":0,\"ticks\":\"\"},\"colorscale\":[[0.0,\"#0d0887\"],[0.1111111111111111,\"#46039f\"],[0.2222222222222222,\"#7201a8\"],[0.3333333333333333,\"#9c179e\"],[0.4444444444444444,\"#bd3786\"],[0.5555555555555556,\"#d8576b\"],[0.6666666666666666,\"#ed7953\"],[0.7777777777777778,\"#fb9f3a\"],[0.8888888888888888,\"#fdca26\"],[1.0,\"#f0f921\"]]}],\"heatmapgl\":[{\"type\":\"heatmapgl\",\"colorbar\":{\"outlinewidth\":0,\"ticks\":\"\"},\"colorscale\":[[0.0,\"#0d0887\"],[0.1111111111111111,\"#46039f\"],[0.2222222222222222,\"#7201a8\"],[0.3333333333333333,\"#9c179e\"],[0.4444444444444444,\"#bd3786\"],[0.5555555555555556,\"#d8576b\"],[0.6666666666666666,\"#ed7953\"],[0.7777777777777778,\"#fb9f3a\"],[0.8888888888888888,\"#fdca26\"],[1.0,\"#f0f921\"]]}],\"contourcarpet\":[{\"type\":\"contourcarpet\",\"colorbar\":{\"outlinewidth\":0,\"ticks\":\"\"}}],\"contour\":[{\"type\":\"contour\",\"colorbar\":{\"outlinewidth\":0,\"ticks\":\"\"},\"colorscale\":[[0.0,\"#0d0887\"],[0.1111111111111111,\"#46039f\"],[0.2222222222222222,\"#7201a8\"],[0.3333333333333333,\"#9c179e\"],[0.4444444444444444,\"#bd3786\"],[0.5555555555555556,\"#d8576b\"],[0.6666666666666666,\"#ed7953\"],[0.7777777777777778,\"#fb9f3a\"],[0.8888888888888888,\"#fdca26\"],[1.0,\"#f0f921\"]]}],\"surface\":[{\"type\":\"surface\",\"colorbar\":{\"outlinewidth\":0,\"ticks\":\"\"},\"colorscale\":[[0.0,\"#0d0887\"],[0.1111111111111111,\"#46039f\"],[0.2222222222222222,\"#7201a8\"],[0.3333333333333333,\"#9c179e\"],[0.4444444444444444,\"#bd3786\"],[0.5555555555555556,\"#d8576b\"],[0.6666666666666666,\"#ed7953\"],[0.7777777777777778,\"#fb9f3a\"],[0.8888888888888888,\"#fdca26\"],[1.0,\"#f0f921\"]]}],\"mesh3d\":[{\"type\":\"mesh3d\",\"colorbar\":{\"outlinewidth\":0,\"ticks\":\"\"}}],\"scatter\":[{\"fillpattern\":{\"fillmode\":\"overlay\",\"size\":10,\"solidity\":0.2},\"type\":\"scatter\"}],\"parcoords\":[{\"type\":\"parcoords\",\"line\":{\"colorbar\":{\"outlinewidth\":0,\"ticks\":\"\"}}}],\"scatterpolargl\":[{\"type\":\"scatterpolargl\",\"marker\":{\"colorbar\":{\"outlinewidth\":0,\"ticks\":\"\"}}}],\"bar\":[{\"error_x\":{\"color\":\"#2a3f5f\"},\"error_y\":{\"color\":\"#2a3f5f\"},\"marker\":{\"line\":{\"color\":\"#E5ECF6\",\"width\":0.5},\"pattern\":{\"fillmode\":\"overlay\",\"size\":10,\"solidity\":0.2}},\"type\":\"bar\"}],\"scattergeo\":[{\"type\":\"scattergeo\",\"marker\":{\"colorbar\":{\"outlinewidth\":0,\"ticks\":\"\"}}}],\"scatterpolar\":[{\"type\":\"scatterpolar\",\"marker\":{\"colorbar\":{\"outlinewidth\":0,\"ticks\":\"\"}}}],\"histogram\":[{\"marker\":{\"pattern\":{\"fillmode\":\"overlay\",\"size\":10,\"solidity\":0.2}},\"type\":\"histogram\"}],\"scattergl\":[{\"type\":\"scattergl\",\"marker\":{\"colorbar\":{\"outlinewidth\":0,\"ticks\":\"\"}}}],\"scatter3d\":[{\"type\":\"scatter3d\",\"line\":{\"colorbar\":{\"outlinewidth\":0,\"ticks\":\"\"}},\"marker\":{\"colorbar\":{\"outlinewidth\":0,\"ticks\":\"\"}}}],\"scattermapbox\":[{\"type\":\"scattermapbox\",\"marker\":{\"colorbar\":{\"outlinewidth\":0,\"ticks\":\"\"}}}],\"scatterternary\":[{\"type\":\"scatterternary\",\"marker\":{\"colorbar\":{\"outlinewidth\":0,\"ticks\":\"\"}}}],\"scattercarpet\":[{\"type\":\"scattercarpet\",\"marker\":{\"colorbar\":{\"outlinewidth\":0,\"ticks\":\"\"}}}],\"carpet\":[{\"aaxis\":{\"endlinecolor\":\"#2a3f5f\",\"gridcolor\":\"white\",\"linecolor\":\"white\",\"minorgridcolor\":\"white\",\"startlinecolor\":\"#2a3f5f\"},\"baxis\":{\"endlinecolor\":\"#2a3f5f\",\"gridcolor\":\"white\",\"linecolor\":\"white\",\"minorgridcolor\":\"white\",\"startlinecolor\":\"#2a3f5f\"},\"type\":\"carpet\"}],\"table\":[{\"cells\":{\"fill\":{\"color\":\"#EBF0F8\"},\"line\":{\"color\":\"white\"}},\"header\":{\"fill\":{\"color\":\"#C8D4E3\"},\"line\":{\"color\":\"white\"}},\"type\":\"table\"}],\"barpolar\":[{\"marker\":{\"line\":{\"color\":\"#E5ECF6\",\"width\":0.5},\"pattern\":{\"fillmode\":\"overlay\",\"size\":10,\"solidity\":0.2}},\"type\":\"barpolar\"}],\"pie\":[{\"automargin\":true,\"type\":\"pie\"}]},\"layout\":{\"autotypenumbers\":\"strict\",\"colorway\":[\"#636efa\",\"#EF553B\",\"#00cc96\",\"#ab63fa\",\"#FFA15A\",\"#19d3f3\",\"#FF6692\",\"#B6E880\",\"#FF97FF\",\"#FECB52\"],\"font\":{\"color\":\"#2a3f5f\"},\"hovermode\":\"closest\",\"hoverlabel\":{\"align\":\"left\"},\"paper_bgcolor\":\"white\",\"plot_bgcolor\":\"#E5ECF6\",\"polar\":{\"bgcolor\":\"#E5ECF6\",\"angularaxis\":{\"gridcolor\":\"white\",\"linecolor\":\"white\",\"ticks\":\"\"},\"radialaxis\":{\"gridcolor\":\"white\",\"linecolor\":\"white\",\"ticks\":\"\"}},\"ternary\":{\"bgcolor\":\"#E5ECF6\",\"aaxis\":{\"gridcolor\":\"white\",\"linecolor\":\"white\",\"ticks\":\"\"},\"baxis\":{\"gridcolor\":\"white\",\"linecolor\":\"white\",\"ticks\":\"\"},\"caxis\":{\"gridcolor\":\"white\",\"linecolor\":\"white\",\"ticks\":\"\"}},\"coloraxis\":{\"colorbar\":{\"outlinewidth\":0,\"ticks\":\"\"}},\"colorscale\":{\"sequential\":[[0.0,\"#0d0887\"],[0.1111111111111111,\"#46039f\"],[0.2222222222222222,\"#7201a8\"],[0.3333333333333333,\"#9c179e\"],[0.4444444444444444,\"#bd3786\"],[0.5555555555555556,\"#d8576b\"],[0.6666666666666666,\"#ed7953\"],[0.7777777777777778,\"#fb9f3a\"],[0.8888888888888888,\"#fdca26\"],[1.0,\"#f0f921\"]],\"sequentialminus\":[[0.0,\"#0d0887\"],[0.1111111111111111,\"#46039f\"],[0.2222222222222222,\"#7201a8\"],[0.3333333333333333,\"#9c179e\"],[0.4444444444444444,\"#bd3786\"],[0.5555555555555556,\"#d8576b\"],[0.6666666666666666,\"#ed7953\"],[0.7777777777777778,\"#fb9f3a\"],[0.8888888888888888,\"#fdca26\"],[1.0,\"#f0f921\"]],\"diverging\":[[0,\"#8e0152\"],[0.1,\"#c51b7d\"],[0.2,\"#de77ae\"],[0.3,\"#f1b6da\"],[0.4,\"#fde0ef\"],[0.5,\"#f7f7f7\"],[0.6,\"#e6f5d0\"],[0.7,\"#b8e186\"],[0.8,\"#7fbc41\"],[0.9,\"#4d9221\"],[1,\"#276419\"]]},\"xaxis\":{\"gridcolor\":\"white\",\"linecolor\":\"white\",\"ticks\":\"\",\"title\":{\"standoff\":15},\"zerolinecolor\":\"white\",\"automargin\":true,\"zerolinewidth\":2},\"yaxis\":{\"gridcolor\":\"white\",\"linecolor\":\"white\",\"ticks\":\"\",\"title\":{\"standoff\":15},\"zerolinecolor\":\"white\",\"automargin\":true,\"zerolinewidth\":2},\"scene\":{\"xaxis\":{\"backgroundcolor\":\"#E5ECF6\",\"gridcolor\":\"white\",\"linecolor\":\"white\",\"showbackground\":true,\"ticks\":\"\",\"zerolinecolor\":\"white\",\"gridwidth\":2},\"yaxis\":{\"backgroundcolor\":\"#E5ECF6\",\"gridcolor\":\"white\",\"linecolor\":\"white\",\"showbackground\":true,\"ticks\":\"\",\"zerolinecolor\":\"white\",\"gridwidth\":2},\"zaxis\":{\"backgroundcolor\":\"#E5ECF6\",\"gridcolor\":\"white\",\"linecolor\":\"white\",\"showbackground\":true,\"ticks\":\"\",\"zerolinecolor\":\"white\",\"gridwidth\":2}},\"shapedefaults\":{\"line\":{\"color\":\"#2a3f5f\"}},\"annotationdefaults\":{\"arrowcolor\":\"#2a3f5f\",\"arrowhead\":0,\"arrowwidth\":1},\"geo\":{\"bgcolor\":\"white\",\"landcolor\":\"#E5ECF6\",\"subunitcolor\":\"white\",\"showland\":true,\"showlakes\":true,\"lakecolor\":\"white\"},\"title\":{\"x\":0.05},\"mapbox\":{\"style\":\"light\"}}},\"xaxis\":{\"anchor\":\"y\",\"domain\":[0.0,1.0],\"scaleanchor\":\"y\",\"constrain\":\"domain\",\"title\":{\"text\":\"Features\"},\"showgrid\":false},\"yaxis\":{\"anchor\":\"x\",\"domain\":[0.0,1.0],\"autorange\":\"reversed\",\"constrain\":\"domain\",\"title\":{\"text\":\"Features\"},\"showgrid\":false},\"coloraxis\":{\"colorbar\":{\"title\":{\"text\":\"Correlation\"}},\"colorscale\":[[0.0,\"rgb(103,0,31)\"],[0.1,\"rgb(178,24,43)\"],[0.2,\"rgb(214,96,77)\"],[0.3,\"rgb(244,165,130)\"],[0.4,\"rgb(253,219,199)\"],[0.5,\"rgb(247,247,247)\"],[0.6,\"rgb(209,229,240)\"],[0.7,\"rgb(146,197,222)\"],[0.8,\"rgb(67,147,195)\"],[0.9,\"rgb(33,102,172)\"],[1.0,\"rgb(5,48,97)\"]]},\"title\":{\"text\":\"Linear Correlation (Heatmap)\"},\"height\":600},                        {\"responsive\": true}                    ).then(function(){\n",
       "                            \n",
       "var gd = document.getElementById('57097383-8746-45a2-8943-9c52e2514cc9');\n",
       "var x = new MutationObserver(function (mutations, observer) {{\n",
       "        var display = window.getComputedStyle(gd).display;\n",
       "        if (!display || display === 'none') {{\n",
       "            console.log([gd, 'removed!']);\n",
       "            Plotly.purge(gd);\n",
       "            observer.disconnect();\n",
       "        }}\n",
       "}});\n",
       "\n",
       "// Listen for the removal of the full notebook cells\n",
       "var notebookContainer = gd.closest('#notebook-container');\n",
       "if (notebookContainer) {{\n",
       "    x.observe(notebookContainer, {childList: true});\n",
       "}}\n",
       "\n",
       "// Listen for the clearing of the current output cell\n",
       "var outputEl = gd.closest('.output');\n",
       "if (outputEl) {{\n",
       "    x.observe(outputEl, {childList: true});\n",
       "}}\n",
       "\n",
       "                        })                };                });            </script>        </div>"
      ]
     },
     "metadata": {},
     "output_type": "display_data"
    }
   ],
   "source": [
    "# Generate feature correlation\n",
    "linear_corr = data_new_set.corr(method='pearson').round(2)\n",
    "\n",
    "# Visualize correlation\n",
    "corr_heatmap = px.imshow(linear_corr,\n",
    "                         text_auto=True,\n",
    "                         labels=dict(x=\"Features\", y=\"Features\",\n",
    "                                     color=\"Correlation\"),\n",
    "                         color_continuous_scale=px.colors.sequential.RdBu,\n",
    "                         title=\"Linear Correlation (Heatmap)\",\n",
    "                         height=600\n",
    "                         )\n",
    "\n",
    "corr_heatmap.update_layout(\n",
    "    xaxis_showgrid=False,\n",
    "    yaxis_showgrid=False,\n",
    "    xaxis_title=\"Features\",\n",
    "    yaxis_title=\"Features\",\n",
    "    coloraxis_colorbar_title=\"Correlation\"\n",
    ")\n",
    "\n",
    "corr_heatmap.show()"
   ]
  },
  {
   "cell_type": "code",
   "execution_count": 294,
   "id": "158f8126",
   "metadata": {},
   "outputs": [
    {
     "name": "stdout",
     "output_type": "stream",
     "text": [
      "Selected Features: {'company_location', 'employee_residence', 'remote_ratio'}\n",
      "Shape of the DataFrame after dropping: (3755, 5)\n"
     ]
    }
   ],
   "source": [
    "# Create a correlation matrix\n",
    "correlation_matrix = data_new_set.corr(method='pearson').round(2)\n",
    "\n",
    "# Set a threshold for correlation (excluding negative correlations)\n",
    "correlation_threshold = 0.2  # Adjust based on your preferences and data characteristics\n",
    "\n",
    "# Find features with correlations above the threshold\n",
    "selected_features = set()\n",
    "for i in range(len(correlation_matrix.columns)):\n",
    "    for j in range(i):\n",
    "        corr_value = correlation_matrix.iloc[i, j]\n",
    "        if abs(corr_value) > correlation_threshold:\n",
    "            colname = correlation_matrix.columns[i]\n",
    "            selected_features.add(colname)\n",
    "            \n",
    "            \n",
    "# Print selected features\n",
    "print(\"Selected Features:\", selected_features)\n",
    "\n",
    "# Convert set to list\n",
    "selected_features_list = list(selected_features)\n",
    "\n",
    "# Select only the features above the threshold\n",
    "df_selected_features = data_new_set[selected_features_list]\n",
    "\n",
    "# Drop highly correlated features\n",
    "df_dropped_corr = data_new_set.drop(columns=selected_features_list)\n",
    "\n",
    "# Print the shape of the new dataframe\n",
    "print(\"Shape of the DataFrame after dropping:\", df_dropped_corr.shape)\n",
    "\n",
    "\n"
   ]
  },
  {
   "cell_type": "code",
   "execution_count": 295,
   "id": "70daebd1",
   "metadata": {
    "collapsed": true
   },
   "outputs": [
    {
     "name": "stdout",
     "output_type": "stream",
     "text": [
      "      work_year  experience_level  employment_type  job_title  company_size\n",
      "0          2023                 3                2         84             0\n",
      "1          2023                 2                0         66             2\n",
      "2          2023                 2                0         66             2\n",
      "3          2023                 3                2         47             1\n",
      "4          2023                 3                2         47             1\n",
      "...         ...               ...              ...        ...           ...\n",
      "3750       2020                 3                2         47             0\n",
      "3751       2021                 2                2         84             0\n",
      "3752       2020                 0                2         47             2\n",
      "3753       2020                 0                0         17             0\n",
      "3754       2021                 3                2         45             0\n",
      "\n",
      "[3755 rows x 5 columns]\n"
     ]
    }
   ],
   "source": [
    "print(df_dropped_corr)"
   ]
  },
  {
   "cell_type": "code",
   "execution_count": 296,
   "id": "b9e93c61",
   "metadata": {
    "scrolled": true
   },
   "outputs": [],
   "source": [
    "# Splitted into features and tagert\n",
    "mirror_data = df.copy()\n",
    "target = mirror_data.pop('salary_in_usd').to_numpy()\n",
    "features = df_dropped_corr.to_numpy()\n"
   ]
  },
  {
   "cell_type": "code",
   "execution_count": 310,
   "id": "f64a864d",
   "metadata": {},
   "outputs": [],
   "source": [
    "# Initialize Standard Scaler\n",
    "scaler = StandardScaler()\n",
    "# Apply standard scaler\n",
    "scaled_data = scaler.fit_transform(features)"
   ]
  },
  {
   "cell_type": "code",
   "execution_count": 307,
   "id": "08d52817",
   "metadata": {},
   "outputs": [],
   "source": [
    "from sklearn.preprocessing import StandardScaler\n",
    "\n",
    "# Initialize Standard Scaler\n",
    "scaler = StandardScaler()\n",
    "\n",
    "# Scale the target variable\n",
    "y_scaled = scaler.fit_transform(target.reshape(-1, 1))"
   ]
  },
  {
   "cell_type": "code",
   "execution_count": 311,
   "id": "b34d15e1",
   "metadata": {},
   "outputs": [],
   "source": [
    "from sklearn.model_selection import train_test_split\n",
    "from sklearn.tree import DecisionTreeRegressor\n",
    "from sklearn.ensemble import RandomForestRegressor\n",
    "from sklearn.svm import SVR\n",
    "from sklearn.linear_model import LinearRegression\n",
    "from sklearn.metrics import mean_squared_error, r2_score\n",
    "import numpy as np\n",
    "\n",
    "# Split the data into training and testing sets\n",
    "X_train, X_test, y_train, y_test = train_test_split(scaled_data, y_scaled, test_size=0.2, random_state=42)"
   ]
  },
  {
   "cell_type": "code",
   "execution_count": 312,
   "id": "cc08d08c",
   "metadata": {},
   "outputs": [
    {
     "name": "stdout",
     "output_type": "stream",
     "text": [
      "Decision Tree MSE: 0.912051784287778, R^2: 0.08167274688659831\n"
     ]
    }
   ],
   "source": [
    "# Decision Tree\n",
    "dt_model = DecisionTreeRegressor()\n",
    "dt_model.fit(X_train, y_train)\n",
    "dt_predictions = dt_model.predict(X_test)\n",
    "dt_mse = mean_squared_error(y_test, dt_predictions)\n",
    "dt_r2 = r2_score(y_test, dt_predictions)\n",
    "print(f\"Decision Tree MSE: {dt_mse}, R^2: {dt_r2}\")\n",
    "\n"
   ]
  },
  {
   "cell_type": "code",
   "execution_count": 313,
   "id": "dde63c00",
   "metadata": {},
   "outputs": [
    {
     "name": "stdout",
     "output_type": "stream",
     "text": [
      "Random Forest MSE: 0.792247592800083, R^2: 0.2023012637928847\n"
     ]
    }
   ],
   "source": [
    "# Random Forest\n",
    "rf_model = RandomForestRegressor()\n",
    "rf_model.fit(X_train, y_train.ravel())  # Use ravel() to convert to a 1D array\n",
    "rf_predictions = rf_model.predict(X_test)\n",
    "rf_mse = mean_squared_error(y_test, rf_predictions)\n",
    "rf_r2 = r2_score(y_test, rf_predictions)\n",
    "print(f\"Random Forest MSE: {rf_mse}, R^2: {rf_r2}\")\n",
    "\n",
    "\n"
   ]
  },
  {
   "cell_type": "code",
   "execution_count": 314,
   "id": "fa4c7f7f",
   "metadata": {},
   "outputs": [
    {
     "name": "stdout",
     "output_type": "stream",
     "text": [
      "SVM MSE: 0.7657820696895732, R^2: 0.2289488857360431\n"
     ]
    }
   ],
   "source": [
    "# Support Vector Machine (SVR)\n",
    "svm_model = SVR()\n",
    "svm_model.fit(X_train, y_train.ravel())  # Use ravel() to convert to a 1D array\n",
    "svm_predictions = svm_model.predict(X_test)\n",
    "svm_mse = mean_squared_error(y_test, svm_predictions)\n",
    "svm_r2 = r2_score(y_test, svm_predictions)\n",
    "print(f\"SVM MSE: {svm_mse}, R^2: {svm_r2}\")\n",
    "\n"
   ]
  },
  {
   "cell_type": "code",
   "execution_count": 315,
   "id": "622b0aee",
   "metadata": {},
   "outputs": [
    {
     "name": "stdout",
     "output_type": "stream",
     "text": [
      "Linear Regression MSE: 0.8355503286518301, R^2: 0.1587005788843151\n"
     ]
    }
   ],
   "source": [
    "# Linear Regression\n",
    "lr_model = LinearRegression()\n",
    "lr_model.fit(X_train, y_train)\n",
    "lr_predictions = lr_model.predict(X_test)\n",
    "lr_mse = mean_squared_error(y_test, lr_predictions)\n",
    "lr_r2 = r2_score(y_test, lr_predictions)\n",
    "print(f\"Linear Regression MSE: {lr_mse}, R^2: {lr_r2}\")"
   ]
  },
  {
   "cell_type": "markdown",
   "id": "a5210329",
   "metadata": {},
   "source": [
    "RNN"
   ]
  },
  {
   "cell_type": "code",
   "execution_count": 316,
   "id": "dbc75478",
   "metadata": {},
   "outputs": [
    {
     "name": "stdout",
     "output_type": "stream",
     "text": [
      "Epoch 1/50\n",
      "94/94 [==============================] - 1s 3ms/step - loss: 0.8236 - mse: 0.8236 - val_loss: 1.0401 - val_mse: 1.0401\n",
      "Epoch 2/50\n",
      "94/94 [==============================] - 0s 2ms/step - loss: 0.7839 - mse: 0.7839 - val_loss: 0.9649 - val_mse: 0.9649\n",
      "Epoch 3/50\n",
      "94/94 [==============================] - 0s 2ms/step - loss: 0.7802 - mse: 0.7802 - val_loss: 0.9367 - val_mse: 0.9367\n",
      "Epoch 4/50\n",
      "94/94 [==============================] - 0s 2ms/step - loss: 0.7662 - mse: 0.7662 - val_loss: 1.0605 - val_mse: 1.0605\n",
      "Epoch 5/50\n",
      "94/94 [==============================] - 0s 1ms/step - loss: 0.7658 - mse: 0.7658 - val_loss: 1.0424 - val_mse: 1.0424\n",
      "Epoch 6/50\n",
      "94/94 [==============================] - 0s 2ms/step - loss: 0.7500 - mse: 0.7500 - val_loss: 1.1062 - val_mse: 1.1062\n",
      "Epoch 7/50\n",
      "94/94 [==============================] - 0s 1ms/step - loss: 0.7447 - mse: 0.7447 - val_loss: 0.9830 - val_mse: 0.9830\n",
      "Epoch 8/50\n",
      "94/94 [==============================] - 0s 2ms/step - loss: 0.7416 - mse: 0.7416 - val_loss: 0.9902 - val_mse: 0.9902\n",
      "Epoch 9/50\n",
      "94/94 [==============================] - 0s 2ms/step - loss: 0.7426 - mse: 0.7426 - val_loss: 0.9888 - val_mse: 0.9888\n",
      "Epoch 10/50\n",
      "94/94 [==============================] - 0s 2ms/step - loss: 0.7380 - mse: 0.7380 - val_loss: 1.0704 - val_mse: 1.0704\n",
      "Epoch 11/50\n",
      "94/94 [==============================] - 0s 2ms/step - loss: 0.7256 - mse: 0.7256 - val_loss: 0.9972 - val_mse: 0.9972\n",
      "Epoch 12/50\n",
      "94/94 [==============================] - 0s 2ms/step - loss: 0.7179 - mse: 0.7179 - val_loss: 1.0816 - val_mse: 1.0816\n",
      "Epoch 13/50\n",
      "94/94 [==============================] - 0s 2ms/step - loss: 0.7148 - mse: 0.7148 - val_loss: 1.0974 - val_mse: 1.0974\n",
      "Epoch 14/50\n",
      "94/94 [==============================] - 0s 2ms/step - loss: 0.7152 - mse: 0.7152 - val_loss: 1.0784 - val_mse: 1.0784\n",
      "Epoch 15/50\n",
      "94/94 [==============================] - 0s 1ms/step - loss: 0.7133 - mse: 0.7133 - val_loss: 1.0339 - val_mse: 1.0339\n",
      "Epoch 16/50\n",
      "94/94 [==============================] - 0s 2ms/step - loss: 0.7117 - mse: 0.7117 - val_loss: 1.0846 - val_mse: 1.0846\n",
      "Epoch 17/50\n",
      "94/94 [==============================] - 0s 2ms/step - loss: 0.7075 - mse: 0.7075 - val_loss: 1.0357 - val_mse: 1.0357\n",
      "Epoch 18/50\n",
      "94/94 [==============================] - 0s 2ms/step - loss: 0.7065 - mse: 0.7065 - val_loss: 0.9803 - val_mse: 0.9803\n",
      "Epoch 19/50\n",
      "94/94 [==============================] - 0s 2ms/step - loss: 0.7028 - mse: 0.7028 - val_loss: 1.0730 - val_mse: 1.0730\n",
      "Epoch 20/50\n",
      "94/94 [==============================] - 0s 2ms/step - loss: 0.6993 - mse: 0.6993 - val_loss: 1.0340 - val_mse: 1.0340\n",
      "Epoch 21/50\n",
      "94/94 [==============================] - 0s 2ms/step - loss: 0.7023 - mse: 0.7023 - val_loss: 1.0817 - val_mse: 1.0817\n",
      "Epoch 22/50\n",
      "94/94 [==============================] - 0s 2ms/step - loss: 0.7002 - mse: 0.7002 - val_loss: 1.0103 - val_mse: 1.0103\n",
      "Epoch 23/50\n",
      "94/94 [==============================] - 0s 2ms/step - loss: 0.7023 - mse: 0.7023 - val_loss: 1.0138 - val_mse: 1.0138\n",
      "Epoch 24/50\n",
      "94/94 [==============================] - 0s 1ms/step - loss: 0.6970 - mse: 0.6970 - val_loss: 1.0052 - val_mse: 1.0052\n",
      "Epoch 25/50\n",
      "94/94 [==============================] - 0s 2ms/step - loss: 0.6915 - mse: 0.6915 - val_loss: 1.1922 - val_mse: 1.1922\n",
      "Epoch 26/50\n",
      "94/94 [==============================] - 0s 2ms/step - loss: 0.6930 - mse: 0.6930 - val_loss: 1.1006 - val_mse: 1.1006\n",
      "Epoch 27/50\n",
      "94/94 [==============================] - 0s 1ms/step - loss: 0.6920 - mse: 0.6920 - val_loss: 1.0249 - val_mse: 1.0249\n",
      "Epoch 28/50\n",
      "94/94 [==============================] - 0s 2ms/step - loss: 0.6902 - mse: 0.6902 - val_loss: 0.9908 - val_mse: 0.9908\n",
      "Epoch 29/50\n",
      "94/94 [==============================] - 0s 1ms/step - loss: 0.6883 - mse: 0.6883 - val_loss: 1.1058 - val_mse: 1.1058\n",
      "Epoch 30/50\n",
      "94/94 [==============================] - 0s 2ms/step - loss: 0.6898 - mse: 0.6898 - val_loss: 1.1410 - val_mse: 1.1410\n",
      "Epoch 31/50\n",
      "94/94 [==============================] - 0s 2ms/step - loss: 0.6923 - mse: 0.6923 - val_loss: 1.1661 - val_mse: 1.1661\n",
      "Epoch 32/50\n",
      "94/94 [==============================] - 0s 1ms/step - loss: 0.6867 - mse: 0.6867 - val_loss: 1.3102 - val_mse: 1.3102\n",
      "Epoch 33/50\n",
      "94/94 [==============================] - 0s 2ms/step - loss: 0.6915 - mse: 0.6915 - val_loss: 1.1418 - val_mse: 1.1418\n",
      "Epoch 34/50\n",
      "94/94 [==============================] - 0s 2ms/step - loss: 0.6907 - mse: 0.6907 - val_loss: 1.0463 - val_mse: 1.0463\n",
      "Epoch 35/50\n",
      "94/94 [==============================] - 0s 2ms/step - loss: 0.6925 - mse: 0.6925 - val_loss: 1.0274 - val_mse: 1.0274\n",
      "Epoch 36/50\n",
      "94/94 [==============================] - 0s 2ms/step - loss: 0.6833 - mse: 0.6833 - val_loss: 1.0317 - val_mse: 1.0317\n",
      "Epoch 37/50\n",
      "94/94 [==============================] - 0s 2ms/step - loss: 0.6869 - mse: 0.6869 - val_loss: 1.0073 - val_mse: 1.0073\n",
      "Epoch 38/50\n",
      "94/94 [==============================] - 0s 2ms/step - loss: 0.6879 - mse: 0.6879 - val_loss: 0.9971 - val_mse: 0.9971\n",
      "Epoch 39/50\n",
      "94/94 [==============================] - 0s 1ms/step - loss: 0.6835 - mse: 0.6835 - val_loss: 1.0126 - val_mse: 1.0126\n",
      "Epoch 40/50\n",
      "94/94 [==============================] - 0s 2ms/step - loss: 0.6826 - mse: 0.6826 - val_loss: 0.9618 - val_mse: 0.9618\n",
      "Epoch 41/50\n",
      "94/94 [==============================] - 0s 2ms/step - loss: 0.6815 - mse: 0.6815 - val_loss: 1.0863 - val_mse: 1.0863\n",
      "Epoch 42/50\n",
      "94/94 [==============================] - 0s 2ms/step - loss: 0.6867 - mse: 0.6867 - val_loss: 0.9798 - val_mse: 0.9798\n",
      "Epoch 43/50\n",
      "94/94 [==============================] - 0s 2ms/step - loss: 0.6835 - mse: 0.6835 - val_loss: 0.9682 - val_mse: 0.9682\n",
      "Epoch 44/50\n",
      "94/94 [==============================] - 0s 2ms/step - loss: 0.6784 - mse: 0.6784 - val_loss: 1.0932 - val_mse: 1.0932\n",
      "Epoch 45/50\n",
      "94/94 [==============================] - 0s 2ms/step - loss: 0.6820 - mse: 0.6820 - val_loss: 1.0460 - val_mse: 1.0460\n",
      "Epoch 46/50\n",
      "94/94 [==============================] - 0s 2ms/step - loss: 0.6799 - mse: 0.6799 - val_loss: 1.1141 - val_mse: 1.1141\n",
      "Epoch 47/50\n",
      "94/94 [==============================] - 0s 2ms/step - loss: 0.6774 - mse: 0.6774 - val_loss: 1.1181 - val_mse: 1.1181\n",
      "Epoch 48/50\n",
      "94/94 [==============================] - 0s 2ms/step - loss: 0.6817 - mse: 0.6817 - val_loss: 1.0253 - val_mse: 1.0253\n",
      "Epoch 49/50\n",
      "94/94 [==============================] - 0s 2ms/step - loss: 0.6784 - mse: 0.6784 - val_loss: 1.0315 - val_mse: 1.0315\n",
      "Epoch 50/50\n",
      "94/94 [==============================] - 0s 2ms/step - loss: 0.6823 - mse: 0.6823 - val_loss: 0.9920 - val_mse: 0.9920\n"
     ]
    },
    {
     "data": {
      "text/plain": [
       "<keras.src.callbacks.History at 0x16a660e1410>"
      ]
     },
     "execution_count": 316,
     "metadata": {},
     "output_type": "execute_result"
    }
   ],
   "source": [
    "import tensorflow as tf\n",
    "from tensorflow.keras.models import Sequential\n",
    "from tensorflow.keras.layers import SimpleRNN, Dense\n",
    "\n",
    "# Assuming you have scaled_data and target from your dataset\n",
    "\n",
    "# Reshape data for RNN (assuming time steps = number of features)\n",
    "rnn_data = scalled_data.reshape(-1, scalled_data.shape[1], 1)\n",
    "\n",
    "# Define RNN model\n",
    "rnn_model = Sequential()\n",
    "rnn_model.add(SimpleRNN(64, input_shape=(scalled_data.shape[1], 1), activation='relu'))\n",
    "rnn_model.add(Dense(32, activation='relu'))\n",
    "rnn_model.add(Dense(1, activation='linear'))  # Assuming regression task\n",
    "\n",
    "# Compile the model\n",
    "rnn_model.compile(optimizer='adam', loss='mean_squared_error', metrics=['mse'])\n",
    "\n",
    "# Train the model\n",
    "rnn_model.fit(rnn_data, y_scaled, epochs=50, batch_size=32, validation_split=0.2)\n"
   ]
  },
  {
   "cell_type": "markdown",
   "id": "29c5132e",
   "metadata": {},
   "source": [
    "FNN"
   ]
  },
  {
   "cell_type": "code",
   "execution_count": 317,
   "id": "7bea1884",
   "metadata": {},
   "outputs": [
    {
     "name": "stdout",
     "output_type": "stream",
     "text": [
      "Epoch 1/50\n",
      "94/94 [==============================] - 1s 2ms/step - loss: 0.8353 - mse: 0.8353 - val_loss: 0.9515 - val_mse: 0.9515\n",
      "Epoch 2/50\n",
      "94/94 [==============================] - 0s 1ms/step - loss: 0.7888 - mse: 0.7888 - val_loss: 0.9351 - val_mse: 0.9351\n",
      "Epoch 3/50\n",
      "94/94 [==============================] - 0s 1ms/step - loss: 0.7781 - mse: 0.7781 - val_loss: 0.9173 - val_mse: 0.9173\n",
      "Epoch 4/50\n",
      "94/94 [==============================] - 0s 1ms/step - loss: 0.7709 - mse: 0.7709 - val_loss: 0.9457 - val_mse: 0.9457\n",
      "Epoch 5/50\n",
      "94/94 [==============================] - 0s 1ms/step - loss: 0.7675 - mse: 0.7675 - val_loss: 0.9704 - val_mse: 0.9704\n",
      "Epoch 6/50\n",
      "94/94 [==============================] - 0s 1ms/step - loss: 0.7647 - mse: 0.7647 - val_loss: 0.9277 - val_mse: 0.9277\n",
      "Epoch 7/50\n",
      "94/94 [==============================] - 0s 1ms/step - loss: 0.7621 - mse: 0.7621 - val_loss: 0.9713 - val_mse: 0.9713\n",
      "Epoch 8/50\n",
      "94/94 [==============================] - 0s 1ms/step - loss: 0.7616 - mse: 0.7616 - val_loss: 0.9867 - val_mse: 0.9867\n",
      "Epoch 9/50\n",
      "94/94 [==============================] - 0s 1ms/step - loss: 0.7562 - mse: 0.7562 - val_loss: 1.0304 - val_mse: 1.0304\n",
      "Epoch 10/50\n",
      "94/94 [==============================] - 0s 1ms/step - loss: 0.7532 - mse: 0.7532 - val_loss: 1.0554 - val_mse: 1.0554\n",
      "Epoch 11/50\n",
      "94/94 [==============================] - 0s 1ms/step - loss: 0.7519 - mse: 0.7519 - val_loss: 1.0374 - val_mse: 1.0374\n",
      "Epoch 12/50\n",
      "94/94 [==============================] - 0s 1ms/step - loss: 0.7477 - mse: 0.7477 - val_loss: 1.0173 - val_mse: 1.0173\n",
      "Epoch 13/50\n",
      "94/94 [==============================] - 0s 1ms/step - loss: 0.7459 - mse: 0.7459 - val_loss: 0.9951 - val_mse: 0.9951\n",
      "Epoch 14/50\n",
      "94/94 [==============================] - 0s 1ms/step - loss: 0.7473 - mse: 0.7473 - val_loss: 0.9979 - val_mse: 0.9979\n",
      "Epoch 15/50\n",
      "94/94 [==============================] - 0s 1ms/step - loss: 0.7429 - mse: 0.7429 - val_loss: 1.0731 - val_mse: 1.0731\n",
      "Epoch 16/50\n",
      "94/94 [==============================] - 0s 1ms/step - loss: 0.7416 - mse: 0.7416 - val_loss: 0.9865 - val_mse: 0.9865\n",
      "Epoch 17/50\n",
      "94/94 [==============================] - 0s 1ms/step - loss: 0.7383 - mse: 0.7383 - val_loss: 1.0973 - val_mse: 1.0973\n",
      "Epoch 18/50\n",
      "94/94 [==============================] - 0s 1ms/step - loss: 0.7361 - mse: 0.7361 - val_loss: 1.0785 - val_mse: 1.0785\n",
      "Epoch 19/50\n",
      "94/94 [==============================] - 0s 1ms/step - loss: 0.7356 - mse: 0.7356 - val_loss: 1.1775 - val_mse: 1.1775\n",
      "Epoch 20/50\n",
      "94/94 [==============================] - 0s 1ms/step - loss: 0.7327 - mse: 0.7327 - val_loss: 1.0570 - val_mse: 1.0570\n",
      "Epoch 21/50\n",
      "94/94 [==============================] - 0s 1ms/step - loss: 0.7320 - mse: 0.7320 - val_loss: 1.2061 - val_mse: 1.2061\n",
      "Epoch 22/50\n",
      "94/94 [==============================] - 0s 1ms/step - loss: 0.7312 - mse: 0.7312 - val_loss: 1.0825 - val_mse: 1.0825\n",
      "Epoch 23/50\n",
      "94/94 [==============================] - 0s 1ms/step - loss: 0.7328 - mse: 0.7328 - val_loss: 1.1312 - val_mse: 1.1312\n",
      "Epoch 24/50\n",
      "94/94 [==============================] - 0s 1ms/step - loss: 0.7254 - mse: 0.7254 - val_loss: 1.0806 - val_mse: 1.0806\n",
      "Epoch 25/50\n",
      "94/94 [==============================] - 0s 1ms/step - loss: 0.7285 - mse: 0.7285 - val_loss: 1.1752 - val_mse: 1.1752\n",
      "Epoch 26/50\n",
      "94/94 [==============================] - 0s 1ms/step - loss: 0.7241 - mse: 0.7241 - val_loss: 1.0763 - val_mse: 1.0763\n",
      "Epoch 27/50\n",
      "94/94 [==============================] - 0s 1ms/step - loss: 0.7235 - mse: 0.7235 - val_loss: 1.1528 - val_mse: 1.1528\n",
      "Epoch 28/50\n",
      "94/94 [==============================] - 0s 1ms/step - loss: 0.7270 - mse: 0.7270 - val_loss: 1.1427 - val_mse: 1.1427\n",
      "Epoch 29/50\n",
      "94/94 [==============================] - 0s 1ms/step - loss: 0.7220 - mse: 0.7220 - val_loss: 1.1300 - val_mse: 1.1300\n",
      "Epoch 30/50\n",
      "94/94 [==============================] - 0s 1ms/step - loss: 0.7192 - mse: 0.7192 - val_loss: 1.2075 - val_mse: 1.2075\n",
      "Epoch 31/50\n",
      "94/94 [==============================] - 0s 1ms/step - loss: 0.7171 - mse: 0.7171 - val_loss: 1.1111 - val_mse: 1.1111\n",
      "Epoch 32/50\n",
      "94/94 [==============================] - 0s 1ms/step - loss: 0.7193 - mse: 0.7193 - val_loss: 1.1695 - val_mse: 1.1695\n",
      "Epoch 33/50\n",
      "94/94 [==============================] - 0s 1ms/step - loss: 0.7108 - mse: 0.7108 - val_loss: 1.2736 - val_mse: 1.2736\n",
      "Epoch 34/50\n",
      "94/94 [==============================] - 0s 1ms/step - loss: 0.7117 - mse: 0.7117 - val_loss: 1.1049 - val_mse: 1.1049\n",
      "Epoch 35/50\n",
      "94/94 [==============================] - 0s 1ms/step - loss: 0.7095 - mse: 0.7095 - val_loss: 1.1502 - val_mse: 1.1502\n",
      "Epoch 36/50\n",
      "94/94 [==============================] - 0s 1ms/step - loss: 0.7100 - mse: 0.7100 - val_loss: 1.2050 - val_mse: 1.2050\n",
      "Epoch 37/50\n",
      "94/94 [==============================] - 0s 1ms/step - loss: 0.7102 - mse: 0.7102 - val_loss: 1.4225 - val_mse: 1.4225\n",
      "Epoch 38/50\n",
      "94/94 [==============================] - 0s 1ms/step - loss: 0.7092 - mse: 0.7092 - val_loss: 1.1518 - val_mse: 1.1518\n",
      "Epoch 39/50\n",
      "94/94 [==============================] - 0s 1ms/step - loss: 0.7084 - mse: 0.7084 - val_loss: 1.0971 - val_mse: 1.0971\n",
      "Epoch 40/50\n",
      "94/94 [==============================] - 0s 1ms/step - loss: 0.7094 - mse: 0.7094 - val_loss: 1.0139 - val_mse: 1.0139\n",
      "Epoch 41/50\n",
      "94/94 [==============================] - 0s 1ms/step - loss: 0.7033 - mse: 0.7033 - val_loss: 1.1636 - val_mse: 1.1636\n",
      "Epoch 42/50\n",
      "94/94 [==============================] - 0s 1ms/step - loss: 0.7038 - mse: 0.7038 - val_loss: 0.9933 - val_mse: 0.9933\n",
      "Epoch 43/50\n",
      "94/94 [==============================] - 0s 1ms/step - loss: 0.7117 - mse: 0.7117 - val_loss: 1.0795 - val_mse: 1.0795\n",
      "Epoch 44/50\n",
      "94/94 [==============================] - 0s 1ms/step - loss: 0.6981 - mse: 0.6981 - val_loss: 1.0934 - val_mse: 1.0934\n",
      "Epoch 45/50\n",
      "94/94 [==============================] - 0s 1ms/step - loss: 0.6989 - mse: 0.6989 - val_loss: 0.9871 - val_mse: 0.9871\n",
      "Epoch 46/50\n",
      "94/94 [==============================] - 0s 1ms/step - loss: 0.7053 - mse: 0.7053 - val_loss: 1.0470 - val_mse: 1.0470\n",
      "Epoch 47/50\n",
      "94/94 [==============================] - 0s 1ms/step - loss: 0.6964 - mse: 0.6964 - val_loss: 1.0009 - val_mse: 1.0009\n",
      "Epoch 48/50\n",
      "94/94 [==============================] - 0s 1ms/step - loss: 0.6980 - mse: 0.6980 - val_loss: 0.9961 - val_mse: 0.9961\n",
      "Epoch 49/50\n",
      "94/94 [==============================] - 0s 1ms/step - loss: 0.6949 - mse: 0.6949 - val_loss: 1.0453 - val_mse: 1.0453\n",
      "Epoch 50/50\n",
      "94/94 [==============================] - 0s 1ms/step - loss: 0.6956 - mse: 0.6956 - val_loss: 1.1292 - val_mse: 1.1292\n"
     ]
    },
    {
     "data": {
      "text/plain": [
       "<keras.src.callbacks.History at 0x16a6874b4d0>"
      ]
     },
     "execution_count": 317,
     "metadata": {},
     "output_type": "execute_result"
    }
   ],
   "source": [
    "import tensorflow as tf\n",
    "from tensorflow.keras.models import Sequential\n",
    "from tensorflow.keras.layers import Dense\n",
    "\n",
    "# Assuming you have scaled_data and target from your dataset\n",
    "\n",
    "# Define FNN model\n",
    "fnn_model = Sequential()\n",
    "fnn_model.add(Dense(64, input_dim=scalled_data.shape[1], activation='relu'))\n",
    "fnn_model.add(Dense(32, activation='relu'))\n",
    "fnn_model.add(Dense(1, activation='linear'))  # Assuming regression task\n",
    "\n",
    "# Compile the model\n",
    "fnn_model.compile(optimizer='adam', loss='mean_squared_error', metrics=['mse'])\n",
    "\n",
    "# Train the model\n",
    "fnn_model.fit(scalled_data, y_scaled, epochs=50, batch_size=32, validation_split=0.2)\n"
   ]
  },
  {
   "cell_type": "code",
   "execution_count": 318,
   "id": "19d2ae12",
   "metadata": {},
   "outputs": [
    {
     "name": "stdout",
     "output_type": "stream",
     "text": [
      "24/24 [==============================] - 0s 842us/step\n",
      "24/24 [==============================] - 0s 1ms/step\n"
     ]
    },
    {
     "data": {
      "image/png": "[encoded data removed]",
      "text/plain": [
       "<Figure size 1200x600 with 2 Axes>"
      ]
     },
     "metadata": {},
     "output_type": "display_data"
    }
   ],
   "source": [
    "import matplotlib.pyplot as plt\n",
    "import numpy as np\n",
    "\n",
    "# Assuming you have trained models (fnn_model, rnn_model) and X_test, y_test available\n",
    "\n",
    "# Function to evaluate and return MSE and R-squared\n",
    "def evaluate_model(model, X_test, y_test):\n",
    "    predictions = model.predict(X_test)\n",
    "    mse = mean_squared_error(y_test, predictions)\n",
    "    r2 = r2_score(y_test, predictions)\n",
    "    return mse, r2\n",
    "\n",
    "# Evaluate each model\n",
    "models = [dt_model, rf_model, svm_model, lr_model, fnn_model, rnn_model]\n",
    "model_names = ['Decision Tree', 'Random Forest', 'SVM', 'Linear Regression', 'FNN', 'RNN']\n",
    "\n",
    "mse_scores = []\n",
    "r2_scores = []\n",
    "\n",
    "for model in models:\n",
    "    mse, r2 = evaluate_model(model, X_test, y_test)\n",
    "    mse_scores.append(mse)\n",
    "    r2_scores.append(r2)\n",
    "\n",
    "# Plotting\n",
    "bar_width = 0.35\n",
    "index = np.arange(len(model_names))\n",
    "\n",
    "fig, ax1 = plt.subplots(figsize=(12, 6))\n",
    "\n",
    "# Plot MSE\n",
    "bars1 = ax1.bar(index - bar_width/2, mse_scores, bar_width, label='MSE', color='blue')\n",
    "ax1.set_ylabel('Mean Squared Error (MSE)', color='blue')\n",
    "ax1.tick_params(axis='y', labelcolor='blue')\n",
    "\n",
    "# Create a second y-axis for R-squared\n",
    "ax2 = ax1.twinx()\n",
    "bars2 = ax2.bar(index + bar_width/2, r2_scores, bar_width, label='R²', color='green')\n",
    "ax2.set_ylabel('R-squared (R²)', color='green')\n",
    "ax2.tick_params(axis='y', labelcolor='green')\n",
    "\n",
    "# Annotate bars with values\n",
    "for bar, mse, r2 in zip(bars1, mse_scores, r2_scores):\n",
    "    height = bar.get_height()\n",
    "    ax1.text(bar.get_x() + bar.get_width() / 2, height, f'{mse:.2f}', ha='center', va='bottom', color='blue')\n",
    "\n",
    "for bar, r2 in zip(bars2, r2_scores):\n",
    "    height = bar.get_height()\n",
    "    ax2.text(bar.get_x() + bar.get_width() / 2, height, f'{r2:.2f}', ha='center', va='bottom', color='green')\n",
    "\n",
    "plt.title('Model Evaluation Metrics')\n",
    "plt.xticks(index, model_names)\n",
    "plt.show()\n",
    "\n"
   ]
  },
  {
   "cell_type": "code",
   "execution_count": null,
   "id": "bb72a261",
   "metadata": {},
   "outputs": [],
   "source": []
  }
 ],
 "metadata": {
  "kernelspec": {
   "display_name": "Python 3 (ipykernel)",
   "language": "python",
   "name": "python3"
  },
  "language_info": {
   "codemirror_mode": {
    "name": "ipython",
    "version": 3
   },
   "file_extension": ".py",
   "mimetype": "text/x-python",
   "name": "python",
   "nbconvert_exporter": "python",
   "pygments_lexer": "ipython3",
   "version": "3.11.4"
  }
 },
 "nbformat": 4,
 "nbformat_minor": 5
}
